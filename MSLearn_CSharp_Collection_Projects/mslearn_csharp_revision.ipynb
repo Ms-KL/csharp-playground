{
 "cells": [
  {
   "cell_type": "markdown",
   "metadata": {},
   "source": [
    "# Revision"
   ]
  },
  {
   "cell_type": "code",
   "execution_count": 1,
   "metadata": {
    "dotnet_interactive": {
     "language": "csharp"
    },
    "polyglot_notebook": {
     "kernelName": "csharp"
    },
    "vscode": {
     "languageId": "polyglot-notebook"
    }
   },
   "outputs": [
    {
     "name": "stdout",
     "output_type": "stream",
     "text": [
      "Hello World"
     ]
    }
   ],
   "source": [
    "Console.Write(\"Hello World\");"
   ]
  },
  {
   "cell_type": "markdown",
   "metadata": {},
   "source": [
    "### FOREACH, FOR, DO-WHILE, WHILE"
   ]
  },
  {
   "cell_type": "code",
   "execution_count": 2,
   "metadata": {
    "dotnet_interactive": {
     "language": "csharp"
    },
    "polyglot_notebook": {
     "kernelName": "csharp"
    },
    "vscode": {
     "languageId": "polyglot-notebook"
    }
   },
   "outputs": [],
   "source": [
    "/* ------------------------------------------------------------------------\n",
    "\n",
    "    FOREACH, FOR, DO-WHILE, WHILE\n",
    "\n",
    "    FOREACH         foreach (type elm in list)\n",
    "                    {\n",
    "                        code to execute for every iteration\n",
    "                        cannot nest another foreach loop\n",
    "                    }\n",
    "\n",
    "    \n",
    "    FOR             for (type iteration = value to iterate; condition to loop while true; iteration value increment)\n",
    "                    {\n",
    "                        code to execute while condition is true\n",
    "                        {can nest another for loop}\n",
    "                    }\n",
    "\n",
    "\n",
    "    DO-WHILE        do\n",
    "                    {\n",
    "                        code to execute immediately and \n",
    "                            then only while condition is met\n",
    "                            \n",
    "                    } while (condition to do loop again);\n",
    "\n",
    "\n",
    "    WHILE           while (condition to loop)\n",
    "                    {\n",
    "                        code to execute only while condition is met\n",
    "                    }\n",
    "                    \n",
    "\n",
    " ------------------------------------------------------------------------ */"
   ]
  },
  {
   "cell_type": "markdown",
   "metadata": {},
   "source": [
    "### User Input"
   ]
  },
  {
   "cell_type": "code",
   "execution_count": 4,
   "metadata": {
    "dotnet_interactive": {
     "language": "csharp"
    },
    "polyglot_notebook": {
     "kernelName": "csharp"
    },
    "vscode": {
     "languageId": "polyglot-notebook"
    }
   },
   "outputs": [
    {
     "name": "stdout",
     "output_type": "stream",
     "text": [
      "Enter a string:\r\n"
     ]
    }
   ],
   "source": [
    "string? readResult; // string? permits a null value\n",
    "Console.WriteLine(\"Enter a string:\");\n",
    "do\n",
    "{\n",
    "    readResult = Console.ReadLine(); \n",
    "} while (readResult == null); // read the line until something is entered by the user"
   ]
  },
  {
   "cell_type": "code",
   "execution_count": 5,
   "metadata": {
    "dotnet_interactive": {
     "language": "csharp"
    },
    "polyglot_notebook": {
     "kernelName": "csharp"
    },
    "vscode": {
     "languageId": "polyglot-notebook"
    }
   },
   "outputs": [
    {
     "name": "stdout",
     "output_type": "stream",
     "text": [
      "Enter a string containing at least three characters:\n",
      "Your input is invalid, Please try again.\n",
      "Your input is invalid, Please try again.\n",
      "Your input is invalid, Please try again.\n",
      "Your input is invalid, Please try again.\n"
     ]
    }
   ],
   "source": [
    "// USER ENTER STRING WITH CERTAIN CONDITIONS\n",
    "\n",
    "string? readResult; // null string ok\n",
    "bool validEntry = false; // isValid?\n",
    "Console.WriteLine(\"Enter a string containing at least three characters:\"); // user prompt\n",
    "do\n",
    "{\n",
    "    // execute this immediately and then additional times while condition is met\n",
    "    readResult = Console.ReadLine(); // .ReadLine() = user input\n",
    "    if (readResult != null) // if user enters something\n",
    "    {\n",
    "        if (readResult.Length >= 3) // if user input is 3+ characters\n",
    "        {\n",
    "            validEntry = true;  // while condition no longer met\n",
    "        }\n",
    "        else\n",
    "        {\n",
    "            Console.WriteLine(\"Your input is invalid, Please try again.\");     \n",
    "        }\n",
    "    }\n",
    "} while (validEntry == false);"
   ]
  },
  {
   "cell_type": "markdown",
   "metadata": {},
   "source": []
  }
 ],
 "metadata": {
  "language_info": {
   "name": "csharp"
  }
 },
 "nbformat": 4,
 "nbformat_minor": 2
}
