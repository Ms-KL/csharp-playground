{
 "cells": [
  {
   "cell_type": "markdown",
   "metadata": {},
   "source": [
    "# 📚 [MS Learn C#](https://learn.microsoft.com/en-us/users/dotnet/collections/yz26f8y64n7k07) 📚 "
   ]
  },
  {
   "cell_type": "markdown",
   "metadata": {},
   "source": [
    "___________________\n",
    "## Contents"
   ]
  },
  {
   "cell_type": "markdown",
   "metadata": {},
   "source": [
    "* [Write your first code using C# <br> (Get started with C#, Part 1)](#write-your-first-code-using-c-get-started-with-c-part-1) \n",
    "* [2](#create-and-run-simple-c-console-applications-get-started-with-c-part-2)\n",
    "* [3](#add-logic-to-c-console-applications-get-started-with-c-part-3)\n",
    "* [4](#work-with-variable-data-in-c-console-applications-get-started-with-c-part-4)\n",
    "* [5](#create-methods-in-c-console-applications-get-started-with-c-part-5)\n",
    "* [6](#debug-c-console-applications-get-started-with-c-part-6)\n",
    "\n",
    "* [Build web apps with ASP.NET Core for beginners](#build-web-apps-with-aspnet-core-for-beginners)"
   ]
  },
  {
   "cell_type": "markdown",
   "metadata": {},
   "source": [
    "* [WIP point](#wip-point)"
   ]
  },
  {
   "cell_type": "markdown",
   "metadata": {},
   "source": [
    "_______________________ \n",
    "## ***[Write your first code using C# <br> (Get started with C#, Part 1)](https://learn.microsoft.com/en-us/training/paths/get-started-c-sharp-part-1/)***"
   ]
  },
  {
   "cell_type": "markdown",
   "metadata": {},
   "source": [
    "### Modules:\n",
    "\n",
    "* [Write your first C# code](#write-your-first-c-code)\n",
    "* [Store and retrieve data using literal and variable values in C#](#store-and-retrieve-data-using-literal-and-variable-values-in-c)\n",
    "* [Perform basic string formatting in C#](#perform-basic-string-formatting-in-c)\n",
    "* [Perform basic operations on numbers in C#](#perform-basic-operations-on-numbers-in-c)\n",
    "* [Guided project - Calculate and print student grades](#guided-project---calculate-and-print-student-grades)\n",
    "* [Guided project - Calculate final GPA](#guided-project---calculate-final-gpa)"
   ]
  },
  {
   "cell_type": "markdown",
   "metadata": {},
   "source": [
    "_________________________\n",
    "\n",
    "### [Write your first C# code](https://learn.microsoft.com/en-au/training/modules/csharp-write-first/)\n",
    "\n",
    "_________________________"
   ]
  },
  {
   "cell_type": "markdown",
   "metadata": {},
   "source": [
    "Back to [Contents](#contents)"
   ]
  },
  {
   "cell_type": "markdown",
   "metadata": {},
   "source": [
    "####  ✔️ **Learning Objectives:**"
   ]
  },
  {
   "cell_type": "markdown",
   "metadata": {},
   "source": [
    "\n",
    "* Write your first lines of C# Code\n",
    "* Use two different techniques to print a message as output\n",
    "* Diagnose errors when code is incorrect\n",
    "* Identify different C# syntax elements like operators, classes and methods"
   ]
  },
  {
   "cell_type": "markdown",
   "metadata": {},
   "source": [
    "\n",
    "#### **`Write()` & `WriteLine()`**"
   ]
  },
  {
   "cell_type": "code",
   "execution_count": 2,
   "metadata": {
    "dotnet_interactive": {
     "language": "csharp"
    },
    "polyglot_notebook": {
     "kernelName": "csharp"
    },
    "vscode": {
     "languageId": "polyglot-notebook"
    }
   },
   "outputs": [
    {
     "name": "stdout",
     "output_type": "stream",
     "text": [
      "My name is Kristy\r\n"
     ]
    }
   ],
   "source": [
    "Console.WriteLine(\"My name is Kristy\");\n",
    "// At the end of the printed text, it adds a line. \n",
    "// Any new output will print on the new line below the previous output."
   ]
  },
  {
   "cell_type": "code",
   "execution_count": 3,
   "metadata": {
    "dotnet_interactive": {
     "language": "csharp"
    },
    "polyglot_notebook": {
     "kernelName": "csharp"
    },
    "vscode": {
     "languageId": "polyglot-notebook"
    }
   },
   "outputs": [
    {
     "name": "stdout",
     "output_type": "stream",
     "text": [
      "My name is Kristy"
     ]
    }
   ],
   "source": [
    "Console.Write(\"My\");\n",
    "Console.Write(\" \");\n",
    "Console.Write(\"name\");\n",
    "Console.Write(' ');\n",
    "Console.Write('i');\n",
    "Console.Write(\"s Kristy\");\n",
    "// Any new output will print on the same line of the previous output."
   ]
  },
  {
   "cell_type": "code",
   "execution_count": 5,
   "metadata": {
    "dotnet_interactive": {
     "language": "csharp"
    },
    "polyglot_notebook": {
     "kernelName": "csharp"
    },
    "vscode": {
     "languageId": "polyglot-notebook"
    }
   },
   "outputs": [
    {
     "ename": "Error",
     "evalue": "(1,1): error CS0103: The name 'console' does not exist in the current context",
     "output_type": "error",
     "traceback": [
      "(1,1): error CS0103: The name 'console' does not exist in the current context"
     ]
    }
   ],
   "source": [
    "console.WriteLine(\"My name is Kristy\");\n",
    "// classes and methods are case sensitive"
   ]
  },
  {
   "cell_type": "code",
   "execution_count": 15,
   "metadata": {
    "dotnet_interactive": {
     "language": "csharp"
    },
    "polyglot_notebook": {
     "kernelName": "csharp"
    },
    "vscode": {
     "languageId": "polyglot-notebook"
    }
   },
   "outputs": [
    {
     "ename": "Error",
     "evalue": "(1,9): error CS0117: 'Console' does not contain a definition for 'writeLine'",
     "output_type": "error",
     "traceback": [
      "(1,9): error CS0117: 'Console' does not contain a definition for 'writeLine'"
     ]
    }
   ],
   "source": [
    "Console.writeLine(\"My name is Kristy\");"
   ]
  },
  {
   "cell_type": "code",
   "execution_count": 16,
   "metadata": {
    "dotnet_interactive": {
     "language": "csharp"
    },
    "polyglot_notebook": {
     "kernelName": "csharp"
    },
    "vscode": {
     "languageId": "polyglot-notebook"
    }
   },
   "outputs": [
    {
     "name": "stdout",
     "output_type": "stream",
     "text": [
      "My Name is Kristy\r\n"
     ]
    }
   ],
   "source": [
    "Console.WriteLine(\"My Name is Kristy\");\n",
    "// Double Quotation = Literal String"
   ]
  },
  {
   "cell_type": "code",
   "execution_count": 17,
   "metadata": {
    "dotnet_interactive": {
     "language": "csharp"
    },
    "polyglot_notebook": {
     "kernelName": "csharp"
    },
    "vscode": {
     "languageId": "polyglot-notebook"
    }
   },
   "outputs": [
    {
     "ename": "Error",
     "evalue": "(1,19): error CS1012: Too many characters in character literal",
     "output_type": "error",
     "traceback": [
      "(1,19): error CS1012: Too many characters in character literal"
     ]
    }
   ],
   "source": [
    "Console.WriteLine('My Name is Kristy');\n",
    "// One character only in Character Literal"
   ]
  },
  {
   "cell_type": "code",
   "execution_count": 18,
   "metadata": {
    "dotnet_interactive": {
     "language": "csharp"
    },
    "polyglot_notebook": {
     "kernelName": "csharp"
    },
    "vscode": {
     "languageId": "polyglot-notebook"
    }
   },
   "outputs": [
    {
     "name": "stdout",
     "output_type": "stream",
     "text": [
      "M\r\n"
     ]
    }
   ],
   "source": [
    "Console.WriteLine('M');\n",
    "// character literal"
   ]
  },
  {
   "cell_type": "markdown",
   "metadata": {},
   "source": [
    "#### **Programming Language & Compilation**"
   ]
  },
  {
   "cell_type": "markdown",
   "metadata": {},
   "source": [
    "##### What is a Programming Language?\n",
    "* Lets you write instructions you want computer to carry out\n",
    "* allow humans to express intent in understandable way (computers can't understand code)\n",
    "* code must be **compiled** into a formate the computer can understand\n",
    "\n",
    "\n",
    "##### What is Compilation?\n",
    "* Compiler converts source code into a format the CPU can execute\n",
    "* CPU understands instructions by turning switches on and off (0 + 1)"
   ]
  },
  {
   "cell_type": "markdown",
   "metadata": {},
   "source": [
    "#### **Class, Method & Member Access / Invocation / Statement Operators**"
   ]
  },
  {
   "cell_type": "markdown",
   "metadata": {},
   "source": [
    "* `Console.WriteLine(\"Double Quotation\");`\n",
    "* Class.Method(input parameter);\n",
    "* `.` --> member access operator\n",
    "* `()` --> invocation operator\n",
    "* `;` --> statement operator (tells compiler the command is done)\n"
   ]
  },
  {
   "cell_type": "markdown",
   "metadata": {},
   "source": [
    "#### ❓ **Check Knowledge: Write() & WriteLine()**\n"
   ]
  },
  {
   "cell_type": "markdown",
   "metadata": {},
   "source": [
    "\n",
    "* What is the difference between `Console.Write` and `Console.WriteLine`?\n",
    "    * ❌ `Console.Write` prints the output on a new line. --> Prints output on the same line\n",
    "    * ❌ `Console.WriteLine` prints the output on a new line. --> Prints output on the same line\n",
    "    * ✔️ `Console.WriteLine` appends a new line after the output."
   ]
  },
  {
   "cell_type": "markdown",
   "metadata": {},
   "source": [
    "#### ⭐ **Challenge: Write code in the .NET Editor to display two messages**"
   ]
  },
  {
   "cell_type": "code",
   "execution_count": 10,
   "metadata": {
    "dotnet_interactive": {
     "language": "csharp"
    },
    "polyglot_notebook": {
     "kernelName": "csharp"
    },
    "vscode": {
     "languageId": "polyglot-notebook"
    }
   },
   "outputs": [
    {
     "name": "stdout",
     "output_type": "stream",
     "text": [
      "This is the first line\n",
      "This is the second line."
     ]
    }
   ],
   "source": [
    "Console.WriteLine(\"This is the first line\");\n",
    "Console.Write(\"This \");\n",
    "Console.Write(\"is \");\n",
    "Console.Write(\"the \");\n",
    "Console.Write(\"second \");\n",
    "Console.Write(\"line.\");"
   ]
  },
  {
   "cell_type": "markdown",
   "metadata": {},
   "source": [
    "#### ❓ **Check Knowledge: Compiler, Literal String, Errors**"
   ]
  },
  {
   "cell_type": "markdown",
   "metadata": {},
   "source": [
    "\n",
    "* What is the primary job of the compiler?\n",
    "    * ❌ Locates spelling mistakes in your code\n",
    "    * ❌ Executs your code\n",
    "    * ✔️ Converts your code into an executable format that the computer can understand\n",
    "    \n",
    "    <br>\n",
    "\n",
    "* Which of the following statements is true about C#?\n",
    "    * ❌ Case insensitive --> Case Sensitive\n",
    "    * ❌`Console`is a method, `WriteLine()` is a class --> `Console`=Class, `WriteLine()`=Method.\n",
    "    * ✔️ Converts your code into an executable format that the computer can understand\n",
    "    \n",
    "    <br>\n",
    "\n",
    "* What is wrong w/ this code: `Console.Writeine(\"What is wrong with this code?\")`\n",
    "    * ❌ The L in `WriteLine` should be lower-case --> uppercase\n",
    "    * ✔️ It's missing a `;` (semi-colon) at the end\n",
    "    * ❌ The string should use `''` (single quotes) --> double quotes"
   ]
  },
  {
   "cell_type": "markdown",
   "metadata": {},
   "source": [
    "#### **SUMMARY:**"
   ]
  },
  {
   "cell_type": "markdown",
   "metadata": {},
   "source": [
    "* Your goal was to write code that displayed simple messages to an output console while familiarizing yourself with the syntax. \n",
    "* You wrote your first lines of code using basic C# syntax. \n",
    "* You learned two techniques for displaying literal-string data to the console. \n",
    "* You also learned what to look for when you come across an error in your code. \n",
    "* And lastly, you identified C# syntax elements like classes and methods, and the purpose of several special symbols that are known as operators. \n",
    "* You've taken your first steps towards building more sophisticated applications."
   ]
  },
  {
   "cell_type": "markdown",
   "metadata": {},
   "source": [
    "Back to [Contents](#contents) • Start of Module • Start of Unit"
   ]
  },
  {
   "cell_type": "markdown",
   "metadata": {},
   "source": [
    "_________________________\n",
    "\n",
    "### [Store and retrieve data using literal and variable values in C#](https://learn.microsoft.com/en-us/training/modules/csharp-literals-variables/)\n",
    "\n",
    "_________________________"
   ]
  },
  {
   "cell_type": "markdown",
   "metadata": {},
   "source": [
    "Back to [Contents](#contents) • Next [Module](#perform-basic-string-formatting-in-c)"
   ]
  },
  {
   "cell_type": "markdown",
   "metadata": {},
   "source": [
    "####  ✔️ **Learning Objectives:**"
   ]
  },
  {
   "cell_type": "markdown",
   "metadata": {},
   "source": [
    "* Create literal values for five basic data types\n",
    "* Declare and initialize variables\n",
    "* Retrieve and set values in variables\n",
    "* Allow the compiler to determine the data type for your variable when initializing"
   ]
  },
  {
   "cell_type": "markdown",
   "metadata": {},
   "source": [
    "####  **Literal Values: `Str`, `Char`, `Int`, `Float`, `Bool`**"
   ]
  },
  {
   "cell_type": "markdown",
   "metadata": {},
   "source": [
    "* constant value that never changes\n",
    "* `string`, `char`, `integer`, `boolean`, `float` (float, double, decimal)"
   ]
  },
  {
   "cell_type": "code",
   "execution_count": 24,
   "metadata": {
    "dotnet_interactive": {
     "language": "csharp"
    },
    "polyglot_notebook": {
     "kernelName": "csharp"
    },
    "vscode": {
     "languageId": "polyglot-notebook"
    }
   },
   "outputs": [
    {
     "name": "stdout",
     "output_type": "stream",
     "text": [
      "string literal\n",
      "c\n"
     ]
    }
   ],
   "source": [
    "// string literal\n",
    "Console.WriteLine(\"string literal\");\n",
    "\n",
    "// character literal\n",
    "Console.WriteLine('c');"
   ]
  },
  {
   "cell_type": "code",
   "execution_count": 37,
   "metadata": {
    "dotnet_interactive": {
     "language": "csharp"
    },
    "polyglot_notebook": {
     "kernelName": "csharp"
    },
    "vscode": {
     "languageId": "polyglot-notebook"
    }
   },
   "outputs": [
    {
     "ename": "Error",
     "evalue": "(2,19): error CS1012: Too many characters in character literal",
     "output_type": "error",
     "traceback": [
      "(2,19): error CS1012: Too many characters in character literal"
     ]
    }
   ],
   "source": [
    "// character literal w/ error:\n",
    "Console.WriteLine('error');"
   ]
  },
  {
   "cell_type": "code",
   "execution_count": 40,
   "metadata": {
    "dotnet_interactive": {
     "language": "csharp"
    },
    "polyglot_notebook": {
     "kernelName": "csharp"
    },
    "vscode": {
     "languageId": "polyglot-notebook"
    }
   },
   "outputs": [
    {
     "name": "stdout",
     "output_type": "stream",
     "text": [
      "True\n",
      "False\n",
      "true\n"
     ]
    }
   ],
   "source": [
    "// boolean literal\n",
    "Console.WriteLine(true);\n",
    "Console.WriteLine(false);\n",
    "\n",
    "// vs String\n",
    "Console.WriteLine(\"true\");"
   ]
  },
  {
   "cell_type": "code",
   "execution_count": 39,
   "metadata": {
    "dotnet_interactive": {
     "language": "csharp"
    },
    "polyglot_notebook": {
     "kernelName": "csharp"
    },
    "vscode": {
     "languageId": "polyglot-notebook"
    }
   },
   "outputs": [
    {
     "name": "stdout",
     "output_type": "stream",
     "text": [
      "123\n",
      "123\n"
     ]
    }
   ],
   "source": [
    "// integer literal\n",
    "Console.WriteLine(123);\n",
    "\n",
    "// vs String\n",
    "Console.WriteLine(\"123\");"
   ]
  },
  {
   "cell_type": "markdown",
   "metadata": {},
   "source": [
    "*Floating Point Literals*\n",
    "\n",
    "\n",
    "| Float Type | Precision | Notes |\n",
    "|-|-|-|\n",
    "| float | ~6-9 digits | Fractional Values with `f` suffix |\n",
    "| double  | ~15-17 digits| decimal number, compilaer defaults to double without suffix |\n",
    "| decimal | 28-29 digits| tells compiler we are working w/ deximal type with `m` suffix |"
   ]
  },
  {
   "cell_type": "code",
   "execution_count": 31,
   "metadata": {
    "dotnet_interactive": {
     "language": "csharp"
    },
    "polyglot_notebook": {
     "kernelName": "csharp"
    },
    "vscode": {
     "languageId": "polyglot-notebook"
    }
   },
   "outputs": [
    {
     "name": "stdout",
     "output_type": "stream",
     "text": [
      "0.12345679\n",
      "12.345679\n"
     ]
    }
   ],
   "source": [
    "// FLOAT W/ F\n",
    "Console.WriteLine(0.123456789F);\n",
    "Console.WriteLine(012.3456789F);"
   ]
  },
  {
   "cell_type": "code",
   "execution_count": 32,
   "metadata": {
    "dotnet_interactive": {
     "language": "csharp"
    },
    "polyglot_notebook": {
     "kernelName": "csharp"
    },
    "vscode": {
     "languageId": "polyglot-notebook"
    }
   },
   "outputs": [
    {
     "name": "stdout",
     "output_type": "stream",
     "text": [
      "0.12345678901234568\n",
      "12.345678901234567\n"
     ]
    }
   ],
   "source": [
    "// DOUBLE\n",
    "Console.WriteLine(0.1234567890123456789);\n",
    "Console.WriteLine(012.34567890123456789);"
   ]
  },
  {
   "cell_type": "code",
   "execution_count": 36,
   "metadata": {
    "dotnet_interactive": {
     "language": "csharp"
    },
    "polyglot_notebook": {
     "kernelName": "csharp"
    },
    "vscode": {
     "languageId": "polyglot-notebook"
    }
   },
   "outputs": [
    {
     "name": "stdout",
     "output_type": "stream",
     "text": [
      "0.1234567890123456789012345679\n",
      "12.345678901234567890123456789\n"
     ]
    }
   ],
   "source": [
    "// DECIMAL W/ m\n",
    "Console.WriteLine(0.123456789012345678901234567890123m);\n",
    "Console.WriteLine(012.3456789012345678901234567890123m);\n",
    "d"
   ]
  },
  {
   "cell_type": "markdown",
   "metadata": {},
   "source": [
    "####  **Declare Variables (vs literal):**"
   ]
  },
  {
   "cell_type": "markdown",
   "metadata": {},
   "source": [
    "|Literal|Declare Variable|\n",
    "|-|-|\n",
    "|Literally a hard-coded value | Not Hard-Coded, Temporary stored in computer memory |\n",
    "|Constant / Unchanged while executing | Declare before use. Select data type and give variable name |\n",
    "\n",
    "Flow:\n",
    "* Declare -> set -> retrieve -> intialise"
   ]
  },
  {
   "cell_type": "markdown",
   "metadata": {},
   "source": [
    "Declare a variable with data type and name of variable in camelCase\n"
   ]
  },
  {
   "cell_type": "code",
   "execution_count": 44,
   "metadata": {
    "dotnet_interactive": {
     "language": "csharp"
    },
    "polyglot_notebook": {
     "kernelName": "csharp"
    },
    "vscode": {
     "languageId": "polyglot-notebook"
    }
   },
   "outputs": [],
   "source": [
    "// Conventional:\n",
    "\n",
    "string firstName; // camelCase (not PascalCase or snake_case)\n",
    "string _firstName; // _ for special purpose only\n",
    "\n",
    "char userOption;\n",
    "int gameScore;\n",
    "decimal particlesPerMillion;\n",
    "bool processedCustomer;"
   ]
  },
  {
   "cell_type": "code",
   "execution_count": 43,
   "metadata": {
    "dotnet_interactive": {
     "language": "csharp"
    },
    "polyglot_notebook": {
     "kernelName": "csharp"
    },
    "vscode": {
     "languageId": "polyglot-notebook"
    }
   },
   "outputs": [
    {
     "ename": "Error",
     "evalue": "(5,1): error CS1519: Invalid token 'string' in class, record, struct, or interface member declaration\r\n(4,8): error CS1040: Preprocessor directives must appear as the first non-whitespace character on a line\r\n(5,8): error CS1519: Invalid token '$' in class, record, struct, or interface member declaration\r\n(5,8): error CS1056: Unexpected character '$'\r\n(6,8): error CS1519: Invalid token 'string' in class, record, struct, or interface member declaration\r\n(6,14): error CS1519: Invalid token ';' in class, record, struct, or interface member declaration\r\n(7,8): error CS1519: Invalid token '1' in class, record, struct, or interface member declaration\r\n(7,9): error CS1002: ; expected",
     "output_type": "error",
     "traceback": [
      "(5,1): error CS1519: Invalid token 'string' in class, record, struct, or interface member declaration\r\n",
      "(4,8): error CS1040: Preprocessor directives must appear as the first non-whitespace character on a line\r\n",
      "(5,8): error CS1519: Invalid token '$' in class, record, struct, or interface member declaration\r\n",
      "(5,8): error CS1056: Unexpected character '$'\r\n",
      "(6,8): error CS1519: Invalid token 'string' in class, record, struct, or interface member declaration\r\n",
      "(6,14): error CS1519: Invalid token ';' in class, record, struct, or interface member declaration\r\n",
      "(7,8): error CS1519: Invalid token '1' in class, record, struct, or interface member declaration\r\n",
      "(7,9): error CS1002: ; expected"
     ]
    }
   ],
   "source": [
    "// Non-Conventional (avoid)\n",
    "\n",
    "string FirstName; // Pascal (use for Class naming only)\n",
    "string #name;\n",
    "string $name;\n",
    "string string;\n",
    "string 1name;\n",
    "string notMeaningfulName;\n",
    "string strValue;"
   ]
  },
  {
   "cell_type": "markdown",
   "metadata": {},
   "source": [
    "#### **Set (Assign), Get (Retrieve), Modify, Initialise Variables**"
   ]
  },
  {
   "cell_type": "markdown",
   "metadata": {},
   "source": [
    "* variables = temp storage containers for data\n",
    "* You must assign (set) a value to a variable before you can retrieve (get) a value from a variable.\n",
    "* You can initialize a variable by assigning a value to the variable at the point of declaration.\n",
    "* Assignment happens from right to left.\n",
    "* You use a single equals character as the assignment operator.\n",
    "* To retrieve the value from the variable, you merely use the variable's name."
   ]
  },
  {
   "cell_type": "code",
   "execution_count": 50,
   "metadata": {
    "dotnet_interactive": {
     "language": "csharp"
    },
    "polyglot_notebook": {
     "kernelName": "csharp"
    },
    "vscode": {
     "languageId": "polyglot-notebook"
    }
   },
   "outputs": [
    {
     "name": "stdout",
     "output_type": "stream",
     "text": [
      "Bob\r\n"
     ]
    }
   ],
   "source": [
    "// DECLARE, SET, PRINT\n",
    "string firstName; // declare\n",
    "firstName = \"Bob\"; // set\n",
    "Console.WriteLine(firstName); // print\n",
    "\n",
    "// \" = \" assignment operator"
   ]
  },
  {
   "cell_type": "code",
   "execution_count": 51,
   "metadata": {
    "dotnet_interactive": {
     "language": "csharp"
    },
    "polyglot_notebook": {
     "kernelName": "csharp"
    },
    "vscode": {
     "languageId": "polyglot-notebook"
    }
   },
   "outputs": [
    {
     "ename": "Error",
     "evalue": "(3,13): error CS0029: Cannot implicitly convert type 'string' to 'int'",
     "output_type": "error",
     "traceback": [
      "(3,13): error CS0029: Cannot implicitly convert type 'string' to 'int'"
     ]
    }
   ],
   "source": [
    "// INCORRECT DATA TYPE\n",
    "int firstName;\n",
    "firstName = \"Bob\";\n",
    "Console.WriteLine(firstName); "
   ]
  },
  {
   "cell_type": "code",
   "execution_count": 53,
   "metadata": {
    "dotnet_interactive": {
     "language": "csharp"
    },
    "polyglot_notebook": {
     "kernelName": "csharp"
    },
    "vscode": {
     "languageId": "polyglot-notebook"
    }
   },
   "outputs": [
    {
     "name": "stdout",
     "output_type": "stream",
     "text": [
      "New Name\r\n"
     ]
    }
   ],
   "source": [
    "// MODIFY\n",
    "firstName = \"New Name\";\n",
    "Console.WriteLine(firstName);"
   ]
  },
  {
   "cell_type": "code",
   "execution_count": 54,
   "metadata": {
    "dotnet_interactive": {
     "language": "csharp"
    },
    "polyglot_notebook": {
     "kernelName": "csharp"
    },
    "vscode": {
     "languageId": "polyglot-notebook"
    }
   },
   "outputs": [
    {
     "name": "stdout",
     "output_type": "stream",
     "text": [
      "initilised name\r\n"
     ]
    }
   ],
   "source": [
    "// INITIALISE\n",
    "string newName = \"initilised name\";\n",
    "Console.WriteLine(newName);"
   ]
  },
  {
   "cell_type": "markdown",
   "metadata": {},
   "source": [
    "#### **Declare Implicitly Typed Local Variables - `var`**"
   ]
  },
  {
   "cell_type": "markdown",
   "metadata": {},
   "source": [
    "* `var` keyword + intialisation = implicitly typed local variable\n",
    "* implies data type without explicitly typing it\n",
    "* `var` used as time saver when type is obvious from context\n",
    "* once value type is set, it's locked\n",
    "* MUST initialise with value (or error is thrown)"
   ]
  },
  {
   "cell_type": "code",
   "execution_count": 67,
   "metadata": {
    "dotnet_interactive": {
     "language": "csharp"
    },
    "polyglot_notebook": {
     "kernelName": "csharp"
    },
    "vscode": {
     "languageId": "polyglot-notebook"
    }
   },
   "outputs": [
    {
     "ename": "Error",
     "evalue": "(1,5): error CS0818: Implicitly-typed variables must be initialized",
     "output_type": "error",
     "traceback": [
      "(1,5): error CS0818: Implicitly-typed variables must be initialized"
     ]
    }
   ],
   "source": [
    "var message;"
   ]
  },
  {
   "cell_type": "code",
   "execution_count": 55,
   "metadata": {
    "dotnet_interactive": {
     "language": "csharp"
    },
    "polyglot_notebook": {
     "kernelName": "csharp"
    },
    "vscode": {
     "languageId": "polyglot-notebook"
    }
   },
   "outputs": [
    {
     "name": "stdout",
     "output_type": "stream",
     "text": [
      "Implicitly types local variable, string, initialised\r\n"
     ]
    }
   ],
   "source": [
    "var message = \"Implicitly types local variable, string, initialised\";\n",
    "Console.WriteLine(message); // string type implied due to value"
   ]
  },
  {
   "cell_type": "code",
   "execution_count": 63,
   "metadata": {
    "dotnet_interactive": {
     "language": "csharp"
    },
    "polyglot_notebook": {
     "kernelName": "csharp"
    },
    "vscode": {
     "languageId": "polyglot-notebook"
    }
   },
   "outputs": [],
   "source": [
    "message = \"value is mutable, data type is immutable\";"
   ]
  },
  {
   "cell_type": "code",
   "execution_count": 64,
   "metadata": {
    "dotnet_interactive": {
     "language": "csharp"
    },
    "polyglot_notebook": {
     "kernelName": "csharp"
    },
    "vscode": {
     "languageId": "polyglot-notebook"
    }
   },
   "outputs": [
    {
     "ename": "Error",
     "evalue": "(1,11): error CS0029: Cannot implicitly convert type 'int' to 'string'",
     "output_type": "error",
     "traceback": [
      "(1,11): error CS0029: Cannot implicitly convert type 'int' to 'string'"
     ]
    }
   ],
   "source": [
    "message = 4;"
   ]
  },
  {
   "cell_type": "code",
   "execution_count": 65,
   "metadata": {
    "dotnet_interactive": {
     "language": "csharp"
    },
    "polyglot_notebook": {
     "kernelName": "csharp"
    },
    "vscode": {
     "languageId": "polyglot-notebook"
    }
   },
   "outputs": [
    {
     "name": "stdout",
     "output_type": "stream",
     "text": [
      "4\r\n"
     ]
    }
   ],
   "source": [
    "var newNumber = 4;\n",
    "Console.WriteLine(newNumber);"
   ]
  },
  {
   "cell_type": "code",
   "execution_count": 66,
   "metadata": {
    "dotnet_interactive": {
     "language": "csharp"
    },
    "polyglot_notebook": {
     "kernelName": "csharp"
    },
    "vscode": {
     "languageId": "polyglot-notebook"
    }
   },
   "outputs": [
    {
     "ename": "Error",
     "evalue": "(1,13): error CS0029: Cannot implicitly convert type 'string' to 'int'",
     "output_type": "error",
     "traceback": [
      "(1,13): error CS0029: Cannot implicitly convert type 'string' to 'int'"
     ]
    }
   ],
   "source": [
    "newNumber = \"4\";"
   ]
  },
  {
   "cell_type": "markdown",
   "metadata": {},
   "source": [
    "#### ⭐ **Challenge: Display literal and variable values**"
   ]
  },
  {
   "cell_type": "markdown",
   "metadata": {},
   "source": [
    "**[CLICK FOR MSLEARN SOLUTION](https://learn.microsoft.com/en-us/training/modules/csharp-literals-variables/7-solution)**"
   ]
  },
  {
   "cell_type": "markdown",
   "metadata": {},
   "source": [
    "![Alt text](./Assets/image-challenge-display-literal-and-variable-values.png)"
   ]
  },
  {
   "cell_type": "markdown",
   "metadata": {},
   "source": [
    "Output required:\n",
    "\n",
    "`Hello, Bob! You have 3 messages in your inbox. The temperature is 34.4 celsius.`\n",
    "\n",
    "Plan:\n",
    "\n",
    "`Hello, {firstName}! You have {numberOfMessages} messages in your inbox. The temperature is {temperature} celsius.`\n"
   ]
  },
  {
   "cell_type": "code",
   "execution_count": 70,
   "metadata": {
    "dotnet_interactive": {
     "language": "csharp"
    },
    "polyglot_notebook": {
     "kernelName": "csharp"
    },
    "vscode": {
     "languageId": "polyglot-notebook"
    }
   },
   "outputs": [
    {
     "name": "stdout",
     "output_type": "stream",
     "text": [
      "Bob\n",
      "3\n",
      "34.4\n",
      "Hello, Bob! You have 3 messages in your inbox. The temperature is 34.4 celsius. "
     ]
    }
   ],
   "source": [
    "// Literal\n",
    "string firstName;\n",
    "firstName = \"Bob\";\n",
    "Console.WriteLine(firstName);\n",
    "\n",
    "int numberOfMessages = 3;\n",
    "Console.WriteLine(numberOfMessages);\n",
    "\n",
    "// Implicit\n",
    "var temperature = 34.4m;\n",
    "Console.WriteLine(temperature);\n",
    "\n",
    "// Combine\n",
    "Console.Write(\"Hello, \");\n",
    "Console.Write(firstName);\n",
    "Console.Write(\"! You have \");\n",
    "Console.Write(numberOfMessages);\n",
    "Console.Write(\" messages in your inbox. The temperature is \");\n",
    "Console.Write(temperature);\n",
    "Console.Write(\" celsius. \");\n"
   ]
  },
  {
   "cell_type": "code",
   "execution_count": 31,
   "metadata": {
    "dotnet_interactive": {
     "language": "csharp"
    },
    "polyglot_notebook": {
     "kernelName": "csharp"
    },
    "vscode": {
     "languageId": "polyglot-notebook"
    }
   },
   "outputs": [
    {
     "name": "stdout",
     "output_type": "stream",
     "text": [
      "Hello, Bob! You have 3 messages in your inbox. The temperature is 34.4 celsius."
     ]
    }
   ],
   "source": [
    "// MS Learn Solution\n",
    "\n",
    "string name = \"Bob\";\n",
    "int messages = 3;\n",
    "decimal temperature = 34.4m;\n",
    "\n",
    "Console.Write(\"Hello, \");\n",
    "Console.Write(name);\n",
    "Console.Write(\"! You have \");\n",
    "Console.Write(messages);\n",
    "Console.Write(\" messages in your inbox. The temperature is \");\n",
    "Console.Write(temperature);\n",
    "Console.Write(\" celsius.\");"
   ]
  },
  {
   "cell_type": "markdown",
   "metadata": {},
   "source": [
    "#### ❓ **Check Knowledge: variable declaration, assignment, var, data type**"
   ]
  },
  {
   "cell_type": "markdown",
   "metadata": {},
   "source": [
    "\n",
    "1. Which of the following variable names should or must be avoided? \n",
    "    * ✔️ $DATA\n",
    "    * ❌ registrationComplete\n",
    "    * ❌ flag\n",
    "\n",
    "    <br>\n",
    "\n",
    "2. What is the problem with this line of code: `var message`; \n",
    "    * ❌ var isn't a data type.\n",
    "    * ✔️ Use of var keyword without initializing the variable\n",
    "    * ❌ A variable named message should always be a string.\n",
    "\n",
    "    <br>\n",
    "\n",
    "3. Which of the following is the output of Console.WriteLine(34.40M);? \n",
    "    * ❌ 34.40M\n",
    "    * ❌ 34.4\n",
    "    * ✔️ 34.40\n",
    "\n",
    "    <br>\n",
    "\n",
    "4. Which of the following lines of code creates a variable correctly? \n",
    "    * ❌ int x = 12.3m;\n",
    "    * ✔️ decimal x = 12.3m;\n",
    "    * ❌ bool x = 'False';"
   ]
  },
  {
   "cell_type": "markdown",
   "metadata": {},
   "source": [
    "#### **SUMMARY:**"
   ]
  },
  {
   "cell_type": "markdown",
   "metadata": {},
   "source": [
    "* Your goal was to display a formatted message using a combination of literal and variable values.\n",
    "* Using basic C# syntax, you created literal values of several different data types. \n",
    "* You declared variables, and also set and retrieved values from those variables. \n",
    "* You also initialized variables, and learned how to use the var keyword to implicitly type a variable by inferring the type from the initialization."
   ]
  },
  {
   "cell_type": "markdown",
   "metadata": {},
   "source": [
    "_________________________\n",
    "\n",
    "### [Perform basic string formatting in C#](https://learn.microsoft.com/en-us/training/modules/csharp-basic-formatting/)\n",
    "\n",
    "_________________________"
   ]
  },
  {
   "cell_type": "markdown",
   "metadata": {},
   "source": [
    "Back to [Contents](#contents) • Next [Module](#perform-basic-operations-on-numbers-in-c)"
   ]
  },
  {
   "cell_type": "markdown",
   "metadata": {},
   "source": [
    "####  ✔️ **Learning Objectives:**"
   ]
  },
  {
   "cell_type": "markdown",
   "metadata": {},
   "source": [
    "* Create string data containing tabs, new lines, and other special characters\n",
    "* Create string data containing Unicode characters\n",
    "* Combine string data into a new string value via concatenation\n",
    "* Combine string data into a new string value via interpolation*"
   ]
  },
  {
   "cell_type": "markdown",
   "metadata": {},
   "source": [
    "####  **Character escape sequences - `\\n , \\u, \\t, \\\\\", \\\\\\`***"
   ]
  },
  {
   "cell_type": "markdown",
   "metadata": {},
   "source": [
    "* `\\`   escape next character\n",
    "* `\\n`  new line\n",
    "* `\\t`  tab\n",
    "* `\\\"`  escape double quotation mark\n",
    "* `\\\\`  escape backslash\n",
    "* `@`   create verbatim string literal to keep all whitespace and \\ in string\n",
    "* `\\u`  + four character code for Unicode characters (UTF-16) in a string"
   ]
  },
  {
   "cell_type": "code",
   "execution_count": 1,
   "metadata": {
    "dotnet_interactive": {
     "language": "csharp"
    },
    "polyglot_notebook": {
     "kernelName": "csharp"
    },
    "vscode": {
     "languageId": "polyglot-notebook"
    }
   },
   "outputs": [
    {
     "name": "stdout",
     "output_type": "stream",
     "text": [
      "Hello\n",
      "New Line!\n",
      "Hello\tTab!\n",
      "Hello \"Quotations\"!\n",
      "c\\some\\path\n"
     ]
    }
   ],
   "source": [
    "Console.WriteLine(\"Hello\\nNew Line!\");\n",
    "Console.WriteLine(\"Hello\\tTab!\");\n",
    "Console.WriteLine(\"Hello \\\"Quotations\\\"!\");\n",
    "Console.WriteLine(\"c\\\\some\\\\path\");"
   ]
  },
  {
   "cell_type": "code",
   "execution_count": 2,
   "metadata": {
    "dotnet_interactive": {
     "language": "csharp"
    },
    "polyglot_notebook": {
     "kernelName": "csharp"
    },
    "vscode": {
     "languageId": "polyglot-notebook"
    }
   },
   "outputs": [
    {
     "ename": "Error",
     "evalue": "(2,27): error CS1003: Syntax error, ',' expected\r\n(2,37): error CS1003: Syntax error, ',' expected",
     "output_type": "error",
     "traceback": [
      "(2,27): error CS1003: Syntax error, ',' expected\r\n",
      "(2,37): error CS1003: Syntax error, ',' expected"
     ]
    }
   ],
   "source": [
    "// errors:\n",
    "Console.WriteLine(\"Hello \"Quotations\"!\");"
   ]
  },
  {
   "cell_type": "code",
   "execution_count": 3,
   "metadata": {
    "dotnet_interactive": {
     "language": "csharp"
    },
    "polyglot_notebook": {
     "kernelName": "csharp"
    },
    "vscode": {
     "languageId": "polyglot-notebook"
    }
   },
   "outputs": [
    {
     "ename": "Error",
     "evalue": "(2,22): error CS1009: Unrecognized escape sequence\r\n(2,27): error CS1009: Unrecognized escape sequence",
     "output_type": "error",
     "traceback": [
      "(2,22): error CS1009: Unrecognized escape sequence\r\n",
      "(2,27): error CS1009: Unrecognized escape sequence"
     ]
    }
   ],
   "source": [
    "// error unrecognised escape sequence\n",
    "Console.WriteLine(\"c:\\some\\path\");"
   ]
  },
  {
   "cell_type": "code",
   "execution_count": 4,
   "metadata": {
    "dotnet_interactive": {
     "language": "csharp"
    },
    "polyglot_notebook": {
     "kernelName": "csharp"
    },
    "vscode": {
     "languageId": "polyglot-notebook"
    }
   },
   "outputs": [
    {
     "name": "stdout",
     "output_type": "stream",
     "text": [
      "Generating invoices for customer \"Contoso Corp\" ...\n",
      "\n",
      "Invoice: 1021\t\tComplete!\n",
      "Invoice: 1022\t\tComplete!\n",
      "\n",
      "Output Directory:\t\n"
     ]
    }
   ],
   "source": [
    "Console.WriteLine(\"Generating invoices for customer \\\"Contoso Corp\\\" ...\\n\");\n",
    "Console.WriteLine(\"Invoice: 1021\\t\\tComplete!\");\n",
    "Console.WriteLine(\"Invoice: 1022\\t\\tComplete!\");\n",
    "Console.WriteLine(\"\\nOutput Directory:\\t\");"
   ]
  },
  {
   "cell_type": "markdown",
   "metadata": {},
   "source": [
    "#### **Verbatim string literal - `@`**"
   ]
  },
  {
   "cell_type": "code",
   "execution_count": 5,
   "metadata": {
    "dotnet_interactive": {
     "language": "csharp"
    },
    "polyglot_notebook": {
     "kernelName": "csharp"
    },
    "vscode": {
     "languageId": "polyglot-notebook"
    }
   },
   "outputs": [
    {
     "name": "stdout",
     "output_type": "stream",
     "text": [
      "    c:\\source\\repos    \r\n",
      "        (this is where your code goes)\r\n"
     ]
    }
   ],
   "source": [
    "// @ - verbatim string literal\n",
    "// keep all whitespace and characters without \" \\ \"\n",
    "\n",
    "Console.WriteLine(@\"    c:\\source\\repos    \n",
    "        (this is where your code goes)\");\n",
    "\n"
   ]
  },
  {
   "cell_type": "code",
   "execution_count": 7,
   "metadata": {
    "dotnet_interactive": {
     "language": "csharp"
    },
    "polyglot_notebook": {
     "kernelName": "csharp"
    },
    "vscode": {
     "languageId": "polyglot-notebook"
    }
   },
   "outputs": [
    {
     "name": "stdout",
     "output_type": "stream",
     "text": [
      "Generating invoices for customer \"Contoso Corp\" ...\n",
      "\n",
      "Invoice: 1021\t\tComplete!\n",
      "Invoice: 1022\t\tComplete!\n",
      "\n",
      "Output Directory:\t\n",
      "c:\\invoices"
     ]
    }
   ],
   "source": [
    "Console.WriteLine(\"Generating invoices for customer \\\"Contoso Corp\\\" ...\\n\");\n",
    "Console.WriteLine(\"Invoice: 1021\\t\\tComplete!\");\n",
    "Console.WriteLine(\"Invoice: 1022\\t\\tComplete!\");\n",
    "Console.WriteLine(\"\\nOutput Directory:\\t\");\n",
    "Console.Write(@\"c:\\invoices\"); // @ allows use of \" \\ \" without issue"
   ]
  },
  {
   "cell_type": "markdown",
   "metadata": {},
   "source": [
    "#### **Unicode - `\\u`**"
   ]
  },
  {
   "cell_type": "code",
   "execution_count": null,
   "metadata": {
    "dotnet_interactive": {
     "language": "csharp"
    },
    "polyglot_notebook": {
     "kernelName": "csharp"
    },
    "vscode": {
     "languageId": "polyglot-notebook"
    }
   },
   "outputs": [
    {
     "name": "stdout",
     "output_type": "stream",
     "text": [
      "こんにちは World!\r\n"
     ]
    }
   ],
   "source": [
    "// \\u = unicode escape characters (UTF-16)\n",
    "// Kon'nichiwa World\n",
    "Console.WriteLine(\"\\u3053\\u3093\\u306B\\u3061\\u306F World!\");"
   ]
  },
  {
   "cell_type": "code",
   "execution_count": 9,
   "metadata": {
    "dotnet_interactive": {
     "language": "csharp"
    },
    "polyglot_notebook": {
     "kernelName": "csharp"
    },
    "vscode": {
     "languageId": "polyglot-notebook"
    }
   },
   "outputs": [
    {
     "name": "stdout",
     "output_type": "stream",
     "text": [
      "Generating invoices for customer \"Contoso Corp\" ...\n",
      "\n",
      "Invoice: 1021\t\tComplete!\n",
      "Invoice: 1022\t\tComplete!\n",
      "\n",
      "Output Directory:\t\n",
      "c:\\invoices\n",
      "\n",
      "日本の請求書を生成するには：\n",
      "\tc:\\invoices\\app.exe -j\n"
     ]
    }
   ],
   "source": [
    "Console.WriteLine(\"Generating invoices for customer \\\"Contoso Corp\\\" ...\\n\");\n",
    "Console.WriteLine(\"Invoice: 1021\\t\\tComplete!\");\n",
    "Console.WriteLine(\"Invoice: 1022\\t\\tComplete!\");\n",
    "Console.WriteLine(\"\\nOutput Directory:\\t\");\n",
    "Console.Write(@\"c:\\invoices\");\n",
    "\n",
    "// To generate Japanese invoices:\n",
    "// Nihon no seikyū-sho o seisei suru ni wa:\n",
    "Console.Write(\"\\n\\n\\u65e5\\u672c\\u306e\\u8acb\\u6c42\\u66f8\\u3092\\u751f\\u6210\\u3059\\u308b\\u306b\\u306f\\uff1a\\n\\t\");\n",
    "// User command to run an application\n",
    "Console.WriteLine(@\"c:\\invoices\\app.exe -j\");"
   ]
  },
  {
   "cell_type": "markdown",
   "metadata": {},
   "source": [
    "#### **String concatenation - `+`**"
   ]
  },
  {
   "cell_type": "markdown",
   "metadata": {},
   "source": [
    "* allows you to combine smaller literal and variable strings into a single string\n",
    "* avoid creating intermediate variables if it doesn't improve readability"
   ]
  },
  {
   "cell_type": "code",
   "execution_count": 10,
   "metadata": {
    "dotnet_interactive": {
     "language": "csharp"
    },
    "polyglot_notebook": {
     "kernelName": "csharp"
    },
    "vscode": {
     "languageId": "polyglot-notebook"
    }
   },
   "outputs": [
    {
     "name": "stdout",
     "output_type": "stream",
     "text": [
      "Hello Bob\r\n"
     ]
    }
   ],
   "source": [
    "string firstName = \"Bob\";\n",
    "string message = \"Hello \" + firstName;\n",
    "Console.WriteLine(message);"
   ]
  },
  {
   "cell_type": "code",
   "execution_count": 13,
   "metadata": {
    "dotnet_interactive": {
     "language": "csharp"
    },
    "polyglot_notebook": {
     "kernelName": "csharp"
    },
    "vscode": {
     "languageId": "polyglot-notebook"
    }
   },
   "outputs": [
    {
     "name": "stdout",
     "output_type": "stream",
     "text": [
      "Hello Bob!\r\n"
     ]
    }
   ],
   "source": [
    "string firstName = \"Bob\";\n",
    "string greeting = \"Hello\";\n",
    "string message = greeting + \" \" + firstName + \"!\"; // intermediate variable\n",
    "Console.WriteLine(message);"
   ]
  },
  {
   "cell_type": "code",
   "execution_count": 12,
   "metadata": {
    "dotnet_interactive": {
     "language": "csharp"
    },
    "polyglot_notebook": {
     "kernelName": "csharp"
    },
    "vscode": {
     "languageId": "polyglot-notebook"
    }
   },
   "outputs": [
    {
     "name": "stdout",
     "output_type": "stream",
     "text": [
      "Hello Bob!\r\n"
     ]
    }
   ],
   "source": [
    "// acoid intermediate variables\n",
    "string firstName = \"Bob\";\n",
    "string greeting = \"Hello\";\n",
    "Console.WriteLine(greeting + \" \" + firstName + \"!\");"
   ]
  },
  {
   "cell_type": "markdown",
   "metadata": {},
   "source": [
    "#### **String interpolation - `{variable}`**"
   ]
  },
  {
   "cell_type": "markdown",
   "metadata": {},
   "source": [
    "* string interpolation can be better than concatenation - can reduce number of characters required\n",
    "* combine interpolation (`{}`) and verbatim literals (`@`) in a string template\n",
    "    * eg: `$\"{variable}\"`"
   ]
  },
  {
   "cell_type": "code",
   "execution_count": 16,
   "metadata": {
    "dotnet_interactive": {
     "language": "csharp"
    },
    "polyglot_notebook": {
     "kernelName": "csharp"
    },
    "vscode": {
     "languageId": "polyglot-notebook"
    }
   },
   "outputs": [
    {
     "name": "stdout",
     "output_type": "stream",
     "text": [
      "Hello Bob -> concatination\n",
      "Hello Bob -> interpolation\n",
      "Hello Bob -> literal string + variable value\n",
      "Update to Windows 11-> using intermeidate variable\n",
      "Update to Windows 11 -> avoiding intermediate variable\n",
      "C:\\Output\\First-Project\\Data\n"
     ]
    }
   ],
   "source": [
    "// concatination\n",
    "string message = greeting + \" \" + firstName + \" -> concatination\";\n",
    "Console.WriteLine(message);\n",
    "\n",
    "// interpolation\n",
    "string message2 = $\"{greeting} {firstName} -> interpolation\";\n",
    "Console.WriteLine(message2);\n",
    "\n",
    "// combine literal string and variable value\n",
    "string message3 = $\"Hello {firstName} -> literal string + variable value\";\n",
    "Console.WriteLine(message3);\n",
    "\n",
    "// combo: interpolation, multi-variables, literal strings\n",
    "int version = 11;\n",
    "string updateText = \"Update to Windows\";\n",
    "string message4 = $\"{updateText} {version}\";\n",
    "Console.WriteLine(message4 + \"-> using intermeidate variable\");\n",
    "\n",
    "// avoid intermediate variable\n",
    "// don't implement message4\n",
    "Console.WriteLine($\"{updateText} {version} -> avoiding intermediate variable\");\n",
    "\n",
    "// combo: verbatim literal, string interpolation\n",
    "string projectName = \"First-Project\";\n",
    "Console.WriteLine($@\"C:\\Output\\{projectName}\\Data\");"
   ]
  },
  {
   "cell_type": "markdown",
   "metadata": {},
   "source": [
    "#### ⭐ **Challenge: Format and Display Instructions**"
   ]
  },
  {
   "cell_type": "markdown",
   "metadata": {},
   "source": [
    "**[CLICK FOR MSLEARN SOLUTION](https://learn.microsoft.com/en-us/training/modules/csharp-basic-formatting/6-solution)**\n",
    "\n",
    "![Alt-text](./Assets/image-challenge-format-and-display-instructions.png)"
   ]
  },
  {
   "cell_type": "code",
   "execution_count": 29,
   "metadata": {
    "dotnet_interactive": {
     "language": "csharp"
    },
    "polyglot_notebook": {
     "kernelName": "csharp"
    },
    "vscode": {
     "languageId": "polyglot-notebook"
    }
   },
   "outputs": [
    {
     "name": "stdout",
     "output_type": "stream",
     "text": [
      "View English Output:\n",
      "\tc:\\Exercise\\ACME\\data.txt\n",
      "\n",
      "Посмотреть русский вывод:\n",
      "\t c:\\Exercise\\ACME\\ru-RU\\data.txt\n"
     ]
    }
   ],
   "source": [
    "// Initialise variables\n",
    "// \\u unicode\n",
    "\n",
    "string projectName = \"ACME\";\n",
    "string russianMessage = \"\\u041f\\u043e\\u0441\\u043c\\u043e\\u0442\\u0440\\u0435\\u0442\\u044c \\u0440\\u0443\\u0441\\u0441\\u043a\\u0438\\u0439 \\u0432\\u044b\\u0432\\u043e\\u0434\";\n",
    "\n",
    "Console.WriteLine($\"View English Output:\\n\\tc:\\\\Exercise\\\\{projectName}\\\\data.txt\\n\");\n",
    "\n",
    "Console.WriteLine($\"{russianMessage}:\\n\\t c:\\\\Exercise\\\\{projectName}\\\\ru-RU\\\\data.txt\");"
   ]
  },
  {
   "cell_type": "code",
   "execution_count": 30,
   "metadata": {
    "dotnet_interactive": {
     "language": "csharp"
    },
    "polyglot_notebook": {
     "kernelName": "csharp"
    },
    "vscode": {
     "languageId": "polyglot-notebook"
    }
   },
   "outputs": [
    {
     "name": "stdout",
     "output_type": "stream",
     "text": [
      "View English output:\n",
      "\t\tc:\\Exercise\\ACME\\data.txt\n",
      "\n",
      "Посмотреть русский вывод:\n",
      "\t\tc:\\Exercise\\ACME\\ru-RU\\data.txt\n",
      "\n"
     ]
    }
   ],
   "source": [
    "// MS Learn solution\n",
    "\n",
    "string projectName = \"ACME\";\n",
    "string englishLocation = $@\"c:\\Exercise\\{projectName}\\data.txt\";\n",
    "Console.WriteLine($\"View English output:\\n\\t\\t{englishLocation}\\n\");\n",
    "\n",
    "string russianMessage = \"\\u041f\\u043e\\u0441\\u043c\\u043e\\u0442\\u0440\\u0435\\u0442\\u044c \\u0440\\u0443\\u0441\\u0441\\u043a\\u0438\\u0439 \\u0432\\u044b\\u0432\\u043e\\u0434\";\n",
    "string russianLocation = $@\"c:\\Exercise\\{projectName}\\ru-RU\\data.txt\";\n",
    "Console.WriteLine($\"{russianMessage}:\\n\\t\\t{russianLocation}\\n\");"
   ]
  },
  {
   "cell_type": "markdown",
   "metadata": {},
   "source": [
    "#### ❓ **Check Knowledge: escape sequences, string interpolation, unicode**"
   ]
  },
  {
   "cell_type": "markdown",
   "metadata": {},
   "source": [
    "\n",
    "1. Which of the following escape sequences should be used to add double quotes to a literal string in C# code?  \n",
    "    * ❌ `\\q`\n",
    "    * ❌ `\\`\n",
    "    * ✔️ `\\\"`\n",
    "\n",
    "    <br>\n",
    "\n",
    "2. Which of the following lines of code correctly uses string interpolation assuming that the variable value is a string? \n",
    "    * ❌ `Console.WriteLine(@\"My value: {value}\");`\n",
    "    * ✔️ `Console.WriteLine($\"My value: {value}\");`\n",
    "    * ❌ `Console.WriteLine(@\"My value: [value]\");`\n",
    "\n",
    "    <br>\n",
    "\n",
    "3. Unicode characters were embedded in the C# strings for a console application to present a greeting message in Thai. However, the message is only displayed as question mark characters. What is a possible cause? \n",
    "    * ❌ A missing \\u escape sequence for Unicode characters. --> only numbers will appear in this case\n",
    "    * ❌ The wrong Unicode characters were used.\n",
    "    * ✔️ The user's console doesn't support Unicode characters.\n",
    "\n",
    "    <br>\n",
    "\n",
    "4. Which of the following lines of code append a single \\ to the string directory? \n",
    "    * ❌ `directory = directory + \"\\\";`\n",
    "    * ❌ `directory = directory + '\\';`\n",
    "    * ✔️ `directory = directory + @\"\\\";`"
   ]
  },
  {
   "cell_type": "markdown",
   "metadata": {},
   "source": [
    "#### **SUMMARY:**"
   ]
  },
  {
   "cell_type": "markdown",
   "metadata": {},
   "source": [
    "* Your goal was to write code that formats strings with special characters, such as double quotes `\" \"`, new lines `\\n`, tabs `\\t`, and other white space, as well as unicode characters `\\u`. \n",
    "* You also combined strings using two different techniques. --> concatination `+` & interpolation `$\" word {variable}\"`\n",
    "* Using character escape sequences, you added special characters in your literal strings by either using special escaping sequences or using verbatim strings. `\\\\` `\\\"` `@\"\\path\\` \n",
    "* You added Unicode characters from other language sets like Japanese Kanji and Russian Cyrillic in your literal strings.  `\"\\u014f\"`\n",
    "* You used simple string concatenation with the `+` symbol, and upgraded to string interpolation for combining values into a string template. `$\" word {variable}\"`\n",
    "* Without the ability to format your output, you would be severely restricted in what kinds of information you could present to the user. \n",
    "* However, now you can provide your users with sophisticated instructions and feedback with a wide variety of formatting, symbols, and languages."
   ]
  },
  {
   "cell_type": "markdown",
   "metadata": {},
   "source": [
    "_________________________\n",
    "\n",
    "### [Perform basic operations on numbers in C#](https://learn.microsoft.com/en-us/training/modules/csharp-basic-operations/)\n",
    "\n",
    "_________________________"
   ]
  },
  {
   "cell_type": "markdown",
   "metadata": {},
   "source": [
    "Back to [Contents](#contents) • Next [Module](#guided-project---calculate-and-print-student-grades)"
   ]
  },
  {
   "cell_type": "markdown",
   "metadata": {},
   "source": [
    "####  ✔️ **Learning Objectives:**"
   ]
  },
  {
   "cell_type": "markdown",
   "metadata": {},
   "source": [
    "* Perform mathematical operations on numeric values\n",
    "* Observe implicit type conversion between strings and numeric values\n",
    "* Temporarily convert one data type into another"
   ]
  },
  {
   "cell_type": "markdown",
   "metadata": {},
   "source": [
    "#### **Mix data types to force implicit type conversions**"
   ]
  },
  {
   "cell_type": "markdown",
   "metadata": {},
   "source": [
    "* You can perform mathematical-like addition operations on numbers.\n",
    "* Both string concatenation and addition use the plus `+` symbol. \n",
    "    * This is called overloading an operator, and the compiler infers the proper use based on the data types it's operating on.\n",
    "* When it can, the C# compiler will implicitly convert an `int` into a `string` if it's obvious that the developer is trying to concatenate the string representation of a number for presentation purposes.\n",
    "* Use parentheses `( )` to define an order of operations to explicitly tell the compiler that you want to perform certain operations before other operations."
   ]
  },
  {
   "cell_type": "code",
   "execution_count": 9,
   "metadata": {
    "dotnet_interactive": {
     "language": "csharp"
    },
    "polyglot_notebook": {
     "kernelName": "csharp"
    },
    "vscode": {
     "languageId": "polyglot-notebook"
    }
   },
   "outputs": [
    {
     "name": "stdout",
     "output_type": "stream",
     "text": [
      "19\n",
      "Bob sold 7 widgets.\n",
      "Bob sold 72 widgets.\n",
      "Bob sold 9 widgets.\n",
      "Bob +  sold  + (7 + 2) +  widgets.\n",
      "Bob +  sold 9 widgets.\n"
     ]
    }
   ],
   "source": [
    "// add numeric values\n",
    "\n",
    "int firstNumber = 12;\n",
    "int secondNumber = 7;\n",
    "Console.WriteLine(firstNumber + secondNumber);\n",
    "\n",
    "// versus concatinate string\n",
    "\n",
    "string firstName = \"Bob\";\n",
    "int widgetsSold = 7;\n",
    "Console.WriteLine(firstName + \" sold \" + widgetsSold + \" widgets.\");\n",
    "\n",
    "int moreWidgets = 2;\n",
    "Console.WriteLine(firstName + \" sold \" + widgetsSold + moreWidgets + \" widgets.\");\n",
    "\n",
    "// sum of widgets using bracket\n",
    "Console.WriteLine(firstName + \" sold \" + (widgetsSold + moreWidgets) + \" widgets.\");\n",
    "\n",
    "// interpolation + calculation (avoid as it's confusing)\n",
    "Console.WriteLine($\"{firstName} +  sold  + ({widgetsSold} + {moreWidgets}) +  widgets.\");\n",
    "\n",
    "Console.WriteLine($\"{firstName} +  sold \" + (widgetsSold + moreWidgets) +  \" widgets.\")"
   ]
  },
  {
   "cell_type": "markdown",
   "metadata": {},
   "source": [
    "####  **Mathematical Operations - `+ - * / %`**"
   ]
  },
  {
   "cell_type": "markdown",
   "metadata": {},
   "source": [
    "* Use operators like `+, -, *, and /` to perform basic mathematical operations.\n",
    "* The division of two `int` values will result in the truncation of any values after the `decimal` point. \n",
    "    * To retain values after the `decimal` point, you need to: \n",
    "        * cast the divisor or dividend (or both) from `int` into a `floating` point number like `decimal` first, \n",
    "        * then the quotient must be of the same floating point type as well in order to avoid truncation.\n",
    "* Perform a cast operation to temporarily treat a value as if it were a different data type.\n",
    "* Use the `%` operator to capture the remainder after division.\n",
    "* The order of operations will follow the rules of the acronym PEMDAS."
   ]
  },
  {
   "cell_type": "markdown",
   "metadata": {},
   "source": [
    "####  **Divide decimal data `/`**"
   ]
  },
  {
   "cell_type": "code",
   "execution_count": 10,
   "metadata": {
    "dotnet_interactive": {
     "language": "csharp"
    },
    "polyglot_notebook": {
     "kernelName": "csharp"
    },
    "vscode": {
     "languageId": "polyglot-notebook"
    }
   },
   "outputs": [
    {
     "name": "stdout",
     "output_type": "stream",
     "text": [
      "Sum: 12\n",
      "Difference: 2\n",
      "Product: 35\n",
      "Quotient: 1\n",
      "Decimal quotient: 1.4\n"
     ]
    }
   ],
   "source": [
    "int sum = 7 + 5;\n",
    "int difference = 7 - 5;\n",
    "int product = 7 * 5;\n",
    "int quotient = 7 / 5;\n",
    "\n",
    "Console.WriteLine(\"Sum: \" + sum);\n",
    "Console.WriteLine(\"Difference: \" + difference);\n",
    "Console.WriteLine(\"Product: \" + product);\n",
    "Console.WriteLine(\"Quotient: \" + quotient); // decimals truncated to int\n",
    "\n",
    "decimal decimalQuotient = 7.0m / 5; // At least 1 item, left at least must be decimal\n",
    "Console.WriteLine($\"Decimal quotient: {decimalQuotient}\");"
   ]
  },
  {
   "cell_type": "code",
   "execution_count": 16,
   "metadata": {
    "dotnet_interactive": {
     "language": "csharp"
    },
    "polyglot_notebook": {
     "kernelName": "csharp"
    },
    "vscode": {
     "languageId": "polyglot-notebook"
    }
   },
   "outputs": [
    {
     "name": "stdout",
     "output_type": "stream",
     "text": [
      "Decimal quotient: 1.75\n",
      "Decimal quotient: 1.6\n"
     ]
    }
   ],
   "source": [
    "decimalQuotient = 7 / 4.0m;\n",
    "Console.WriteLine($\"Decimal quotient: {decimalQuotient}\");\n",
    "\n",
    "decimalQuotient = 8.0m / 5.0m;\n",
    "Console.WriteLine($\"Decimal quotient: {decimalQuotient}\");"
   ]
  },
  {
   "cell_type": "code",
   "execution_count": 18,
   "metadata": {
    "dotnet_interactive": {
     "language": "csharp"
    },
    "polyglot_notebook": {
     "kernelName": "csharp"
    },
    "vscode": {
     "languageId": "polyglot-notebook"
    }
   },
   "outputs": [
    {
     "ename": "Error",
     "evalue": "(4,5): error CS0102: The type 'Submission#19' already contains a definition for 'decimalQuotient'\r\n(5,5): error CS0102: The type 'Submission#19' already contains a definition for 'decimalQuotient'\r\n(6,9): error CS0102: The type 'Submission#19' already contains a definition for 'decimalQuotient'\r\n(3,23): error CS0266: Cannot implicitly convert type 'decimal' to 'int'. An explicit conversion exists (are you missing a cast?)\r\n(4,23): error CS0266: Cannot implicitly convert type 'decimal' to 'int'. An explicit conversion exists (are you missing a cast?)\r\n(5,23): error CS0266: Cannot implicitly convert type 'decimal' to 'int'. An explicit conversion exists (are you missing a cast?)",
     "output_type": "error",
     "traceback": [
      "(4,5): error CS0102: The type 'Submission#19' already contains a definition for 'decimalQuotient'\r\n",
      "(5,5): error CS0102: The type 'Submission#19' already contains a definition for 'decimalQuotient'\r\n",
      "(6,9): error CS0102: The type 'Submission#19' already contains a definition for 'decimalQuotient'\r\n",
      "(3,23): error CS0266: Cannot implicitly convert type 'decimal' to 'int'. An explicit conversion exists (are you missing a cast?)\r\n",
      "(4,23): error CS0266: Cannot implicitly convert type 'decimal' to 'int'. An explicit conversion exists (are you missing a cast?)\r\n",
      "(5,23): error CS0266: Cannot implicitly convert type 'decimal' to 'int'. An explicit conversion exists (are you missing a cast?)"
     ]
    }
   ],
   "source": [
    "// these won't work:\n",
    "\n",
    "int decimalQuotient = 7 / 5.0m;\n",
    "int decimalQuotient = 7.0m / 5;\n",
    "int decimalQuotient = 7.0m / 5.0m;\n",
    "decimal decimalQuotient = 7 / 5;"
   ]
  },
  {
   "cell_type": "markdown",
   "metadata": {},
   "source": [
    "####  **Divide `int` numbers without truncating result - CASTING**"
   ]
  },
  {
   "cell_type": "code",
   "execution_count": 19,
   "metadata": {
    "dotnet_interactive": {
     "language": "csharp"
    },
    "polyglot_notebook": {
     "kernelName": "csharp"
    },
    "vscode": {
     "languageId": "polyglot-notebook"
    }
   },
   "outputs": [
    {
     "name": "stdout",
     "output_type": "stream",
     "text": [
      "1.4\r\n"
     ]
    }
   ],
   "source": [
    "int first = 7;\n",
    "int second = 5;\n",
    "decimal quotient = (decimal)first / (decimal)second; // cast int to decimal\n",
    "Console.WriteLine(quotient);"
   ]
  },
  {
   "cell_type": "markdown",
   "metadata": {},
   "source": [
    "####  **Divide `int` numbers and determine the remainder -`%` - MODULUS**"
   ]
  },
  {
   "cell_type": "markdown",
   "metadata": {},
   "source": [
    "* The modulus operator `%` tells you the remainder of `int` division. \n",
    "* What you really learn from this is: ***whether one number is divisible by another***. \n",
    "\n",
    "    * This can be useful during long processing operations when: \n",
    "        * looping through hundreds or thousands of data records and you want to: \n",
    "            * provide feedback to the end user **after every 100 data records** have been processed."
   ]
  },
  {
   "cell_type": "code",
   "execution_count": 21,
   "metadata": {
    "dotnet_interactive": {
     "language": "csharp"
    },
    "polyglot_notebook": {
     "kernelName": "csharp"
    },
    "vscode": {
     "languageId": "polyglot-notebook"
    }
   },
   "outputs": [
    {
     "name": "stdout",
     "output_type": "stream",
     "text": [
      "Modulus of 200 / 5 : 0\n",
      "Modulus of 7 / 5 : 2\n"
     ]
    }
   ],
   "source": [
    "// remainder\n",
    "// when the modulus = 0, that means the dividend is divisiable by the divisor\n",
    "\n",
    "Console.WriteLine($\"Modulus of 200 / 5 : {200 % 5}\");\n",
    "Console.WriteLine($\"Modulus of 7 / 5 : {7 % 5}\");"
   ]
  },
  {
   "cell_type": "markdown",
   "metadata": {},
   "source": [
    "####  **Order of Operations** - PEMDAS / BIMDAS"
   ]
  },
  {
   "cell_type": "markdown",
   "metadata": {},
   "source": [
    "* PEMDAS\n",
    "    * Parentheses (whatever is inside the parenthesis is performed first)\n",
    "    * Exponents\n",
    "    * Multiplication and Division (from left to right)\n",
    "    * Addition and Subtraction (from left to right)"
   ]
  },
  {
   "cell_type": "code",
   "execution_count": 22,
   "metadata": {
    "dotnet_interactive": {
     "language": "csharp"
    },
    "polyglot_notebook": {
     "kernelName": "csharp"
    },
    "vscode": {
     "languageId": "polyglot-notebook"
    }
   },
   "outputs": [
    {
     "name": "stdout",
     "output_type": "stream",
     "text": [
      "23\n",
      "35\n"
     ]
    }
   ],
   "source": [
    "int value1 = 3 + 4 * 5;\n",
    "Console.WriteLine(value1); // (4*5) + 3\n",
    "\n",
    "int value2 = (3 + 4) * 5;\n",
    "Console.WriteLine(value2); // 35"
   ]
  },
  {
   "cell_type": "markdown",
   "metadata": {},
   "source": [
    "####  **Increment and Decrement Values  `+=, -=, *=, ++, --`**"
   ]
  },
  {
   "cell_type": "markdown",
   "metadata": {},
   "source": [
    "* Operators like `+=, -=, *=, ++, and -- `are known as compound assignment operators because \n",
    "    * they compound some operation in addition to assigning the result to the variable. \n",
    "* The `+=` operator is specifically termed the addition assignment operator.\n",
    "* Use the operator before the value as in `++value`, then the increment will happen before the value is retrieved. \n",
    "* Likewise, `value++` will increment the value after the value has been retrieved."
   ]
  },
  {
   "cell_type": "code",
   "execution_count": 24,
   "metadata": {
    "dotnet_interactive": {
     "language": "csharp"
    },
    "polyglot_notebook": {
     "kernelName": "csharp"
    },
    "vscode": {
     "languageId": "polyglot-notebook"
    }
   },
   "outputs": [
    {
     "name": "stdout",
     "output_type": "stream",
     "text": [
      "value = 10\n",
      "First: 2\n",
      "Second: 2\n",
      "Third: 3\n",
      "Fourth: 4\n",
      "Fifth: 5\n"
     ]
    }
   ],
   "source": [
    "int value = 0;     // value is now 0.\n",
    "\n",
    "// all the same (add 5)\n",
    "value = value + 5; // value is now 5.\n",
    "value += 5;        // value is now 10.\n",
    "\n",
    "\n",
    "// all the same (add one)\n",
    "value = value + 1; // value is now 11.\n",
    "value += 1;           // value is now 12.\n",
    "value++;           // value is now 13.\n",
    "\n",
    "// all the same (minus one)\n",
    "value = value - 1; // value is now 12.\n",
    "value -= 1;           // value is now 11.\n",
    "value--;           // value is now 10.\n",
    "\n",
    "Console.WriteLine(\"value = \"+ value);\n",
    "\n",
    "// before and after value\n",
    "int value2 = 1;\n",
    "value2++; // 1 + 1 = 2\n",
    "\n",
    "Console.WriteLine(\"First: \" + value2); // 2\n",
    "Console.WriteLine($\"Second: {value2++}\"); // 2 + 1 = 3\n",
    "Console.WriteLine(\"Third: \" + value2); // 3\n",
    "Console.WriteLine(\"Fourth: \" + (++value2)); // (1 + 3) = 4\n",
    "Console.WriteLine(\"Fifth: \" + (++value2)); // (1 + 4) = 5"
   ]
  },
  {
   "cell_type": "markdown",
   "metadata": {},
   "source": [
    "#### ⭐ **Challenge: convert Fahrenheit to Celsius**"
   ]
  },
  {
   "cell_type": "markdown",
   "metadata": {},
   "source": [
    "**[CLICK FOR MSLEARN SOLUTION](https://learn.microsoft.com/en-us/training/modules/csharp-basic-operations/6-solution)**\n",
    "\n",
    "![Alt-text](./Assets/image-challenge-farenheit-to-celsius.png)"
   ]
  },
  {
   "cell_type": "code",
   "execution_count": 31,
   "metadata": {
    "dotnet_interactive": {
     "language": "csharp"
    },
    "polyglot_notebook": {
     "kernelName": "csharp"
    },
    "vscode": {
     "languageId": "polyglot-notebook"
    }
   },
   "outputs": [
    {
     "name": "stdout",
     "output_type": "stream",
     "text": [
      "The temp is 0 Celsius.\r\n"
     ]
    }
   ],
   "source": [
    "int fahrenheit = 94;\n",
    "\n",
    "// convert to c\n",
    "decimal celsius = (fahrenheit - 32) * (5 / 9); // converted 32 to decimal\n",
    "Console.WriteLine(\"The temp is \" + celsius + \" Celsius.\");"
   ]
  },
  {
   "cell_type": "code",
   "execution_count": 32,
   "metadata": {
    "dotnet_interactive": {
     "language": "csharp"
    },
    "polyglot_notebook": {
     "kernelName": "csharp"
    },
    "vscode": {
     "languageId": "polyglot-notebook"
    }
   },
   "outputs": [
    {
     "name": "stdout",
     "output_type": "stream",
     "text": [
      "The temp is 0 Celsius.\r\n"
     ]
    }
   ],
   "source": [
    "// add m for division\n",
    "decimal celsius = (fahrenheit - 32m) * (5 / 9); // converted 32 to decimal\n",
    "Console.WriteLine(\"The temp is \" + celsius + \" Celsius.\");"
   ]
  },
  {
   "cell_type": "code",
   "execution_count": 34,
   "metadata": {
    "dotnet_interactive": {
     "language": "csharp"
    },
    "polyglot_notebook": {
     "kernelName": "csharp"
    },
    "vscode": {
     "languageId": "polyglot-notebook"
    }
   },
   "outputs": [
    {
     "name": "stdout",
     "output_type": "stream",
     "text": [
      "The temp is 34.444444444444444444444444447 Celsius.\r\n"
     ]
    }
   ],
   "source": [
    "// add another m for division\n",
    "decimal celsius = (fahrenheit - 32m) * (5m / 9); // converted 32 to decimal\n",
    "Console.WriteLine(\"The temp is \" + celsius + \" Celsius.\");"
   ]
  },
  {
   "cell_type": "markdown",
   "metadata": {},
   "source": [
    "#### ❓ **Check Knowledge: mixed data types, order of operations, assignment operator**"
   ]
  },
  {
   "cell_type": "markdown",
   "metadata": {},
   "source": [
    "\n",
    "1. Which of the following lines of code will fail to output the text Windows 11? \n",
    "    * ✔️ Console.WriteLine(\"Windows \" + 7 + 4);\n",
    "    * ❌ Console.WriteLine(\"Windows \" + 11);\n",
    "    * ❌ Console.Write(\"Windows \" + 1 + 1);\n",
    "\n",
    "    <br>\n",
    "\n",
    "2.  What is the value of the following result? int result = 3 + 1 * 5 / 2; \n",
    "    * ❌ 10\n",
    "    * ✔️ 5 --> ((1*5) / 2) + 3 = 5.5 = trunc 5\n",
    "        * 5/2 = 2int + 1 as remainder\n",
    "    * ❌ 6\n",
    "\n",
    "    <br>\n",
    "\n",
    "3. What will be the result of the following line of code? Console.WriteLine(5 / 10); \n",
    "    * ❌ 0.5\n",
    "    * ✔️ 0 --> trunc 0.5 to 0\n",
    "    * ❌ 1\n",
    "\n",
    "    <br>\n",
    "\n",
    "4. Which of the following lines of code uses the addition assignment operator? \n",
    "    * ✔️ value += 5; --> reassigns\n",
    "    * ❌ value++; --> increment only\n",
    "    * ❌ value = value + 5;"
   ]
  },
  {
   "cell_type": "markdown",
   "metadata": {},
   "source": [
    "#### **SUMMARY:**"
   ]
  },
  {
   "cell_type": "markdown",
   "metadata": {},
   "source": [
    "* Your goal was to perform basic operations on string and numeric data. \n",
    "* As a coding challenge, you converted a value from one unit of measure (Fahrenheit) to another (Celsius) and displayed the result in a formatted message.\n",
    "* You used various operators to perform basic string and mathematical operations. \n",
    "* You learned how some symbols are reused (overloaded) as different operators, depending on the context. \n",
    "* You learned how the data types of the operands influence the meaning of the operators. \n",
    "* Finally, you learned how to change the data type of a value using the cast operator."
   ]
  },
  {
   "cell_type": "markdown",
   "metadata": {},
   "source": [
    "Back to [Contents](#contents) • Top of [Unit](#per)"
   ]
  },
  {
   "cell_type": "markdown",
   "metadata": {},
   "source": [
    "_________________________\n",
    "\n",
    "### [Guided project - Calculate and print student grades](https://learn.microsoft.com/en-gb/training/modules/guided-project-calculate-print-student-grades/)\n",
    "\n",
    "_________________________"
   ]
  },
  {
   "cell_type": "markdown",
   "metadata": {},
   "source": [
    "Back to [Contents](#contents) • Next [Module](#guided-project---calculate-final-gpa)"
   ]
  },
  {
   "cell_type": "markdown",
   "metadata": {},
   "source": []
  },
  {
   "cell_type": "markdown",
   "metadata": {},
   "source": [
    "_________________________\n",
    "\n",
    "### [Guided project - Calculate final GPA](https://learn.microsoft.com/en-gb/training/modules/guided-project-calculate-final-gpa/)\n",
    "\n",
    "_________________________"
   ]
  },
  {
   "cell_type": "markdown",
   "metadata": {},
   "source": [
    "Back to [Contents](#contents) • Top of [Unit](#write-your-first-code-using-c-get-started-with-c-part-1)"
   ]
  },
  {
   "cell_type": "markdown",
   "metadata": {},
   "source": []
  },
  {
   "cell_type": "markdown",
   "metadata": {},
   "source": []
  },
  {
   "cell_type": "markdown",
   "metadata": {},
   "source": [
    "_________________________\n",
    "\n",
    "## ***[Create and run simple C# console applications <br> (Get started with C#, Part 2)](https://learn.microsoft.com/en-us/training/paths/get-started-c-sharp-part-2/)***\n",
    "\n",
    "_________________________"
   ]
  },
  {
   "cell_type": "markdown",
   "metadata": {},
   "source": [
    "Back to [Contents](#contents)"
   ]
  },
  {
   "cell_type": "markdown",
   "metadata": {},
   "source": []
  },
  {
   "cell_type": "markdown",
   "metadata": {},
   "source": [
    "_________________________\n",
    "\n",
    "## ***[Add logic to C# console applications <br> (Get started with C#, Part 3)](https://learn.microsoft.com/en-us/training/paths/get-started-c-sharp-part-3/)***\n",
    "\n",
    "_________________________"
   ]
  },
  {
   "cell_type": "markdown",
   "metadata": {},
   "source": [
    "_________________________\n",
    "\n",
    "### 🚀 [Guided project - Develop conditional branching and looping structures in C#](https://learn.microsoft.com/en-gb/training/modules/guided-project-develop-conditional-branching-looping/)\n",
    "\n",
    "_________________________"
   ]
  },
  {
   "cell_type": "markdown",
   "metadata": {},
   "source": [
    "👀 Guided Project: [My Repo](./GuidedProjectBranchingLooping/)"
   ]
  },
  {
   "cell_type": "markdown",
   "metadata": {},
   "source": [
    "####  ✔️ **Learning Objectives:**"
   ]
  },
  {
   "cell_type": "markdown",
   "metadata": {},
   "source": [
    "\n",
    "Gain experience developing a console app that implements selection and iteration statements to achieve app specifications.\n",
    "\n",
    "* Use Visual Studio Code to develop a C# console application that uses a combination of: \n",
    "    * selection and iteration statements to: \n",
    "        * implement logical workflows in accordance with: \n",
    "            * supplied application data and user interactions.\n",
    "* Evaluate the underlying conditions and make an informed decision when choosing: \n",
    "    * between `if-elseif-else` and `switch` statements, and \n",
    "    * between `foreach`, `for`, `while`, and `do` iteration statements.\n",
    "* Scope variables at an appropriate level within an application."
   ]
  },
  {
   "cell_type": "markdown",
   "metadata": {},
   "source": [
    "#### **Introduction to Project:**"
   ]
  },
  {
   "cell_type": "markdown",
   "metadata": {},
   "source": [
    "![Alt text](\\Assets\\image-3.png)"
   ]
  },
  {
   "cell_type": "markdown",
   "metadata": {},
   "source": [
    "#### **Prepare**"
   ]
  },
  {
   "cell_type": "markdown",
   "metadata": {},
   "source": [
    "* Use VSC to develop application\n",
    "* Use Boolean expressions, selection statements, iteration statements to implement features from design spec"
   ]
  },
  {
   "cell_type": "markdown",
   "metadata": {},
   "source": [
    "##### Project Overview:"
   ]
  },
  {
   "cell_type": "markdown",
   "metadata": {},
   "source": [
    "![Alt text](\\Assets\\image-4.png)\n",
    "\n",
    "![Alt text](\\Assets\\image.png)\n"
   ]
  },
  {
   "cell_type": "markdown",
   "metadata": {},
   "source": [
    "##### Setup:"
   ]
  },
  {
   "cell_type": "markdown",
   "metadata": {},
   "source": [
    "![Alt text](\\Assets\\image-1.png)"
   ]
  },
  {
   "cell_type": "markdown",
   "metadata": {},
   "source": [
    "#### 🚀 **[Exercise - Build sample data and menu selection loops](https://learn.microsoft.com/en-gb/training/modules/guided-project-develop-conditional-branching-looping/3-exercise-build-data-menu-loops)**"
   ]
  },
  {
   "cell_type": "markdown",
   "metadata": {},
   "source": [
    "![Alt text](\\Assets\\image-5.png)"
   ]
  },
  {
   "cell_type": "markdown",
   "metadata": {},
   "source": [
    "##### ***1. Code Review: Review the contents of the [Program.cs](..\\GuidedProjectBranchingLooping\\Starter\\Program.cs) file in the [GuidedProjectBranchingLooping](..\\GuidedProjectBranchingLooping) directory***"
   ]
  },
  {
   "cell_type": "markdown",
   "metadata": {},
   "source": [
    "* The `Program.cs` file contains a preliminary version of the application that you update during this module. \n",
    "* The existing code generates sample data for the application and displays a list of menu options. \n",
    "* The menu options represent the main features of your application."
   ]
  },
  {
   "cell_type": "markdown",
   "metadata": {},
   "source": [
    "4. Notice that the top portion of your code begins with some variable declarations.\n",
    "\n",
    "    * At the top of the file, you see a comment line and a list of variables. \n",
    "    * These variables, `animalSpecies` through `animalNickname`, are used to hold the values of the pet characteristics. \n",
    "    * Later in the code you assign the characteristic values to a multidimensional string array named ourAnimals. \n",
    "    * Each of these variables is initialized to contain a zero length string `\"\"`. The ourAnimals array is declared a little further down in the code.\n",
    "    * The next group of variables is a mix of string and int variables that you'll use to generate sample data, read user input, and establish exit criteria for your main program loop. \n",
    "    * You may have noticed the code line `string?` `readResult;.\n",
    "    * When used in a variable declaration like this, the `?` character defines a nullable type variable. \n",
    "    * When reading user entered values with the `Console.ReadLine()` method, it's best to use a nullable type.\n",
    "    * The final variable is a two-dimensional string array named ourAnimals. \n",
    "    * Since you're instantiating the array without initializing any values, you use the new operator (the new operator is used to create a new instance of a type). \n",
    "    * The number of rows is defined by maxPets, which has been initialized to eight. \n",
    "    * The number of characteristics that you're storing is six, the string variables that you examined above."
   ]
  },
  {
   "cell_type": "code",
   "execution_count": 71,
   "metadata": {
    "dotnet_interactive": {
     "language": "csharp"
    },
    "polyglot_notebook": {
     "kernelName": "csharp"
    },
    "vscode": {
     "languageId": "polyglot-notebook"
    }
   },
   "outputs": [],
   "source": [
    "// the ourAnimals array will store the following: \n",
    "string animalSpecies = \"\";\n",
    "string animalID = \"\";\n",
    "string animalAge = \"\";\n",
    "string animalPhysicalDescription = \"\";\n",
    "string animalPersonalityDescription = \"\";\n",
    "string animalNickname = \"\";\n",
    "\n",
    "// variables that support data entry\n",
    "int maxPets = 8; // generates sample data\n",
    "string? readResult; // null type variable (used for Console.ReadLine())\n",
    "string menuSelection = \"\"; // exit critera for main program loop\n",
    "\n",
    "// array used to store runtime data, there is no persisted data\n",
    "// instantiate object class instance\n",
    "string[,] ourAnimals = new string[maxPets, 6]; // new used instead of initialising variable values\n",
    "    // creates a 2D array\n",
    "    // rows = maxPets = 8\n",
    "    // columns = characteristics = 6\n",
    "\n",
    "    // result will look like this:\n",
    "    // ourAnimals[[],[],[]]"
   ]
  },
  {
   "cell_type": "markdown",
   "metadata": {},
   "source": [
    "5. Scroll down to examine the for loop that contains an `if-elseif-else` selection construct.\n",
    "\n",
    "6. Notice that the for loop uses the `maxPets` variable to establish an upper bound on the number of iterations.\n",
    "\n",
    "7. Notice that the `if-elseif-else` construct selectively branches your code based on pet characteristics.\n",
    "    <br>\n",
    "\n",
    "    The `if-elseif-else` construct is used to define different values for the first four iterations of the for loop. After the fourth iteration, all characteristics are assigned an empty, or zero-length, string.\n",
    "    <br>\n",
    "\n",
    "    The values of the animal characteristic variables are assigned to the ourAnimals array at the bottom of the for loop."
   ]
  },
  {
   "cell_type": "code",
   "execution_count": 72,
   "metadata": {
    "dotnet_interactive": {
     "language": "csharp"
    },
    "polyglot_notebook": {
     "kernelName": "csharp"
    },
    "vscode": {
     "languageId": "polyglot-notebook"
    }
   },
   "outputs": [],
   "source": [
    "// TODO: Convert the if-elseif-else construct to a switch statement\n",
    "\n",
    "// create some initial ourAnimals array entries\n",
    "for (int i = 0; i < maxPets; i++) // maxPets used as upper bounds for number of iterations\n",
    "{\n",
    "    // if-elseif-else selectively branches code based on pet characteristics (eg: age, nickname etc)\n",
    "\n",
    "    if (i == 0)\n",
    "    {\n",
    "        animalSpecies = \"dog\";\n",
    "        animalID = \"d1\";\n",
    "        animalAge = \"2\";\n",
    "        animalPhysicalDescription = \"medium sized cream colored female golden retriever weighing about 65 pounds. housebroken.\";\n",
    "        animalPersonalityDescription = \"loves to have her belly rubbed and likes to chase her tail. gives lots of kisses.\";\n",
    "        animalNickname = \"lola\";\n",
    "    }\n",
    "    else if (i == 1)\n",
    "    {\n",
    "        animalSpecies = \"dog\";\n",
    "        animalID = \"d2\";\n",
    "        animalAge = \"9\";\n",
    "        animalPhysicalDescription = \"large reddish-brown male golden retriever weighing about 85 pounds. housebroken.\";\n",
    "        animalPersonalityDescription = \"loves to have his ears rubbed when he greets you at the door, or at any time! loves to lean-in and give doggy hugs.\";\n",
    "        animalNickname = \"loki\";\n",
    "    }\n",
    "    else if (i == 2)\n",
    "    {\n",
    "        animalSpecies = \"cat\";\n",
    "        animalID = \"c3\";\n",
    "        animalAge = \"1\";\n",
    "        animalPhysicalDescription = \"small white female weighing about 8 pounds. litter box trained.\";\n",
    "        animalPersonalityDescription = \"friendly\";\n",
    "        animalNickname = \"Puss\";\n",
    "    }\n",
    "    else if (i == 3)\n",
    "    {\n",
    "        animalSpecies = \"cat\";\n",
    "        animalID = \"c4\";\n",
    "        animalAge = \"?\";\n",
    "        animalPhysicalDescription = \"\";\n",
    "        animalPersonalityDescription = \"\";\n",
    "        animalNickname = \"\";\n",
    "    }\n",
    "    else\n",
    "    {\n",
    "        animalSpecies = \"\";\n",
    "        animalID = \"\";\n",
    "        animalAge = \"\";\n",
    "        animalPhysicalDescription = \"\";\n",
    "        animalPersonalityDescription = \"\";\n",
    "        animalNickname = \"\";\n",
    "    }\n",
    "\n",
    "    // populates element in array\n",
    "    ourAnimals[i, 0] = \"ID #: \" + animalID;\n",
    "    ourAnimals[i, 1] = \"Species: \" + animalSpecies;\n",
    "    ourAnimals[i, 2] = \"Age: \" + animalAge;\n",
    "    ourAnimals[i, 3] = \"Nickname: \" + animalNickname;\n",
    "    ourAnimals[i, 4] = \"Physical description: \" + animalPhysicalDescription;\n",
    "    ourAnimals[i, 5] = \"Personality: \" + animalPersonalityDescription;\n",
    "}"
   ]
  },
  {
   "cell_type": "markdown",
   "metadata": {},
   "source": [
    "8. Scroll to the bottom of the code file, and then examine the code that's used to display the menu options and read the user selection.\n",
    "\n",
    "9. Notice that you assign the value returned by the `Console.ReadLine()` method to the nullable string readResult.\n",
    "    <br>\n",
    "\n",
    "    * Using a nullable string is best practice for capturing input from the `ReadLine()` method. \n",
    "    * Once you verify that the input value isn't `null`, you assign the value to a standard string variable named `menuSelection`. \n",
    "    * This process enables you to evaluate the menu selection value without a concern for `null` values. \n",
    "    * Many of the methods that accept strings as an input parameter will generate an error if they're passed a null value. \n",
    "    * If you don't follow this input pattern, the code compiler is likely to generate a warning when you build your project.\n",
    "    <br>\n",
    "\n",
    "    The final lines of the `Program.cs` file echo the menu option selection and then pause execution until the `Enter` key is pressed."
   ]
  },
  {
   "cell_type": "code",
   "execution_count": null,
   "metadata": {
    "dotnet_interactive": {
     "language": "csharp"
    },
    "polyglot_notebook": {
     "kernelName": "csharp"
    },
    "vscode": {
     "languageId": "polyglot-notebook"
    }
   },
   "outputs": [],
   "source": [
    "// display the top-level menu options\n",
    "\n",
    "Console.Clear();\n",
    "\n",
    "Console.WriteLine(\"Welcome to the Contoso PetFriends app. Your main menu options are:\");\n",
    "Console.WriteLine(\" 1. List all of our current pet information\");\n",
    "Console.WriteLine(\" 2. Add a new animal friend to the ourAnimals array\");\n",
    "Console.WriteLine(\" 3. Ensure animal ages and physical descriptions are complete\");\n",
    "Console.WriteLine(\" 4. Ensure animal nicknames and personality descriptions are complete\");\n",
    "Console.WriteLine(\" 5. Edit an animal’s age\");\n",
    "Console.WriteLine(\" 6. Edit an animal’s personality description\");\n",
    "Console.WriteLine(\" 7. Display all cats with a specified characteristic\");\n",
    "Console.WriteLine(\" 8. Display all dogs with a specified characteristic\");\n",
    "Console.WriteLine();\n",
    "Console.WriteLine(\"Enter your selection number (or type Exit to exit the program)\");\n",
    "\n",
    "readResult = Console.ReadLine();\n",
    "if (readResult != null)\n",
    "{\n",
    "    menuSelection = readResult.ToLower();\n",
    "}\n",
    "\n",
    "Console.WriteLine($\"You selected menu option {menuSelection}.\");\n",
    "Console.WriteLine(\"Press the Enter key to continue\");\n",
    "\n",
    "// pause code execution\n",
    "readResult = Console.ReadLine();"
   ]
  },
  {
   "cell_type": "markdown",
   "metadata": {},
   "source": [
    "##### ***2. Sample Data: Convert if statement to switch statement***"
   ]
  },
  {
   "cell_type": "code",
   "execution_count": 73,
   "metadata": {
    "dotnet_interactive": {
     "language": "csharp"
    },
    "polyglot_notebook": {
     "kernelName": "csharp"
    },
    "vscode": {
     "languageId": "polyglot-notebook"
    }
   },
   "outputs": [
    {
     "ename": "Error",
     "evalue": "(3,9): error CS0103: The name 'i' does not exist in the current context",
     "output_type": "error",
     "traceback": [
      "(3,9): error CS0103: The name 'i' does not exist in the current context"
     ]
    }
   ],
   "source": [
    "// replace this with a switch statement:\n",
    "\n",
    "    if (i == 0)\n",
    "    {\n",
    "        animalSpecies = \"dog\";\n",
    "        animalID = \"d1\";\n",
    "        animalAge = \"2\";\n",
    "        animalPhysicalDescription = \"medium sized cream colored female golden retriever weighing about 65 pounds. housebroken.\";\n",
    "        animalPersonalityDescription = \"loves to have her belly rubbed and likes to chase her tail. gives lots of kisses.\";\n",
    "        animalNickname = \"lola\";\n",
    "    }"
   ]
  },
  {
   "cell_type": "code",
   "execution_count": null,
   "metadata": {
    "dotnet_interactive": {
     "language": "csharp"
    },
    "polyglot_notebook": {
     "kernelName": "csharp"
    },
    "vscode": {
     "languageId": "polyglot-notebook"
    }
   },
   "outputs": [],
   "source": [
    "    switch (i)\n",
    "    {\n",
    "        case 0:\n",
    "            animalSpecies = \"dog\";\n",
    "            animalID = \"d1\";\n",
    "            animalAge = \"2\";\n",
    "            animalPhysicalDescription = \"medium sized cream colored female golden retriever weighing about 65 pounds. housebroken.\";\n",
    "            animalPersonalityDescription = \"loves to have her belly rubbed and likes to chase her tail. gives lots of kisses.\";\n",
    "            animalNickname = \"lola\";\n",
    "            break;\n",
    "    }"
   ]
  },
  {
   "cell_type": "markdown",
   "metadata": {},
   "source": [
    "| IF-ELSE | SWITCH |\n",
    "|-|-|\n",
    "| `if (i ==0)` | `case 0:` |"
   ]
  },
  {
   "cell_type": "code",
   "execution_count": 74,
   "metadata": {
    "dotnet_interactive": {
     "language": "csharp"
    },
    "polyglot_notebook": {
     "kernelName": "csharp"
    },
    "vscode": {
     "languageId": "polyglot-notebook"
    }
   },
   "outputs": [],
   "source": [
    "// change these if statements to switches\n",
    "\n",
    "for (int i = 0; i < maxPets; i++)\n",
    "{\n",
    "    if (i == 0)\n",
    "    {\n",
    "        animalSpecies = \"dog\";\n",
    "        animalID = \"d1\";\n",
    "        animalAge = \"2\";\n",
    "        animalPhysicalDescription = \"medium sized cream colored female golden retriever weighing about 65 pounds. housebroken.\";\n",
    "        animalPersonalityDescription = \"loves to have her belly rubbed and likes to chase her tail. gives lots of kisses.\";\n",
    "        animalNickname = \"lola\";\n",
    "    }\n",
    "        else if (i == 1)\n",
    "    {\n",
    "        animalSpecies = \"dog\";\n",
    "        animalID = \"d2\";\n",
    "        animalAge = \"9\";\n",
    "        animalPhysicalDescription = \"large reddish-brown male golden retriever weighing about 85 pounds. housebroken.\";\n",
    "        animalPersonalityDescription = \"loves to have his ears rubbed when he greets you at the door, or at any time! loves to lean-in and give doggy hugs.\";\n",
    "        animalNickname = \"loki\";\n",
    "    }\n",
    "    else if (i == 2)\n",
    "    {\n",
    "        animalSpecies = \"cat\";\n",
    "        animalID = \"c3\";\n",
    "        animalAge = \"1\";\n",
    "        animalPhysicalDescription = \"small white female weighing about 8 pounds. litter box trained.\";\n",
    "        animalPersonalityDescription = \"friendly\";\n",
    "        animalNickname = \"Puss\";\n",
    "    }\n",
    "    else if (i == 3)\n",
    "    {\n",
    "        animalSpecies = \"cat\";\n",
    "        animalID = \"c4\";\n",
    "        animalAge = \"?\";\n",
    "        animalPhysicalDescription = \"\";\n",
    "        animalPersonalityDescription = \"\";\n",
    "        animalNickname = \"\";\n",
    "    }\n",
    "    else\n",
    "    {\n",
    "        animalSpecies = \"\";\n",
    "        animalID = \"\";\n",
    "        animalAge = \"\";\n",
    "        animalPhysicalDescription = \"\";\n",
    "        animalPersonalityDescription = \"\";\n",
    "        animalNickname = \"\";\n",
    "    }\n",
    "    // populates element in array\n",
    "\n",
    "    ourAnimals[i, 0] = \"ID #: \" + animalID;\n",
    "    ourAnimals[i, 1] = \"Species: \" + animalSpecies;\n",
    "    ourAnimals[i, 2] = \"Age: \" + animalAge;\n",
    "    ourAnimals[i, 3] = \"Nickname: \" + animalNickname;\n",
    "    ourAnimals[i, 4] = \"Physical description: \" + animalPhysicalDescription;\n",
    "    ourAnimals[i, 5] = \"Personality: \" + animalPersonalityDescription;\n",
    "}"
   ]
  },
  {
   "cell_type": "code",
   "execution_count": 75,
   "metadata": {
    "dotnet_interactive": {
     "language": "csharp"
    },
    "polyglot_notebook": {
     "kernelName": "csharp"
    },
    "vscode": {
     "languageId": "polyglot-notebook"
    }
   },
   "outputs": [],
   "source": [
    "// switch statements:\n",
    "\n",
    "// create some initial ourAnimals array entries\n",
    "for (int i = 0; i < maxPets; i++)\n",
    "{\n",
    "    switch (i)\n",
    "    {\n",
    "        case 0:\n",
    "            animalSpecies = \"dog\";\n",
    "            animalID = \"d1\";\n",
    "            animalAge = \"2\";\n",
    "            animalPhysicalDescription = \"medium sized cream colored female golden retriever weighing about 65 pounds. housebroken.\";\n",
    "            animalPersonalityDescription = \"loves to have her belly rubbed and likes to chase her tail. gives lots of kisses.\";\n",
    "            animalNickname = \"lola\";\n",
    "            break;\n",
    "\n",
    "        case 1:\n",
    "            animalSpecies = \"dog\";\n",
    "            animalID = \"d2\";\n",
    "            animalAge = \"9\";\n",
    "            animalPhysicalDescription = \"large reddish-brown male golden retriever weighing about 85 pounds. housebroken.\";\n",
    "            animalPersonalityDescription = \"loves to have his ears rubbed when he greets you at the door, or at any time! loves to lean-in and give doggy hugs.\";\n",
    "            animalNickname = \"loki\";\n",
    "            break;\n",
    "        \n",
    "        case 2:\n",
    "            animalSpecies = \"cat\";\n",
    "            animalID = \"c3\";\n",
    "            animalAge = \"1\";\n",
    "            animalPhysicalDescription = \"small white female weighing about 8 pounds. litter box trained.\";\n",
    "            animalPersonalityDescription = \"friendly\";\n",
    "            animalNickname = \"Puss\";\n",
    "            break;\n",
    "\n",
    "        case 3:\n",
    "            animalSpecies = \"cat\";\n",
    "            animalID = \"c4\";\n",
    "            animalAge = \"?\";\n",
    "            animalPhysicalDescription = \"\";\n",
    "            animalPersonalityDescription = \"\";\n",
    "            animalNickname = \"\";\n",
    "            break;\n",
    "\n",
    "        default:\n",
    "            animalSpecies = \"\";\n",
    "            animalID = \"\";\n",
    "            animalAge = \"\";\n",
    "            animalPhysicalDescription = \"\";\n",
    "            animalPersonalityDescription = \"\";\n",
    "            animalNickname = \"\";\n",
    "            break;\n",
    "    }\n",
    "\n",
    "    // populates element in array\n",
    "\n",
    "    ourAnimals[i, 0] = \"ID #: \" + animalID;\n",
    "    ourAnimals[i, 1] = \"Species: \" + animalSpecies;\n",
    "    ourAnimals[i, 2] = \"Age: \" + animalAge;\n",
    "    ourAnimals[i, 3] = \"Nickname: \" + animalNickname;\n",
    "    ourAnimals[i, 4] = \"Physical description: \" + animalPhysicalDescription;\n",
    "    ourAnimals[i, 5] = \"Personality: \" + animalPersonalityDescription;\n",
    "}"
   ]
  },
  {
   "cell_type": "markdown",
   "metadata": {},
   "source": [
    "* execution of a switch section isn't permitted to \"fall-through\". `break` is used to prevent this.\n",
    "\n",
    "![Alt text](\\Assets\\image-6.png)"
   ]
  },
  {
   "cell_type": "markdown",
   "metadata": {},
   "source": [
    "* right click on: `CsharpProjects\\GuidedProjectBranchingLooping\\Starter`\n",
    "* `Open in Integrated Terminal`\n",
    "* `dotnet build`\n",
    "* `dotnet run`\n",
    "<br>\n",
    "![Alt text](\\Assets\\image-8.png)"
   ]
  },
  {
   "cell_type": "markdown",
   "metadata": {},
   "source": [
    "##### ***3. Menu Loop: Create program menu loop***"
   ]
  },
  {
   "cell_type": "markdown",
   "metadata": {},
   "source": [
    "* build a `do` loop that surrounds the menu options and the code that reads user input\n",
    "* why? ensures main menu refreshes for each user, each time they make a selection\n",
    "* iterates until user exits program"
   ]
  },
  {
   "cell_type": "markdown",
   "metadata": {},
   "source": [
    "![Alt text](\\Assets\\image-9.png)"
   ]
  },
  {
   "cell_type": "code",
   "execution_count": null,
   "metadata": {
    "dotnet_interactive": {
     "language": "csharp"
    },
    "polyglot_notebook": {
     "kernelName": "csharp"
    },
    "vscode": {
     "languageId": "polyglot-notebook"
    }
   },
   "outputs": [],
   "source": [
    "do\n",
    "{\n",
    "    // display the top-level menu options\n",
    "\n",
    "    Console.Clear();\n",
    "\n",
    "    Console.WriteLine(\"Welcome to the Contoso PetFriends app. Your main menu options are:\");\n",
    "    Console.WriteLine(\" 1. List all of our current pet information\");\n",
    "    Console.WriteLine(\" 2. Add a new animal friend to the ourAnimals array\");\n",
    "    Console.WriteLine(\" 3. Ensure animal ages and physical descriptions are complete\");\n",
    "    Console.WriteLine(\" 4. Ensure animal nicknames and personality descriptions are complete\");\n",
    "    Console.WriteLine(\" 5. Edit an animal’s age\");\n",
    "    Console.WriteLine(\" 6. Edit an animal’s personality description\");\n",
    "    Console.WriteLine(\" 7. Display all cats with a specified characteristic\");\n",
    "    Console.WriteLine(\" 8. Display all dogs with a specified characteristic\");\n",
    "    Console.WriteLine();\n",
    "    Console.WriteLine(\"Enter your selection number (or type Exit to exit the program)\");\n",
    "\n",
    "    readResult = Console.ReadLine();\n",
    "    if (readResult != null)\n",
    "    {\n",
    "        menuSelection = readResult.ToLower();\n",
    "    }\n",
    "\n",
    "    Console.WriteLine($\"You selected menu option {menuSelection}.\");\n",
    "    Console.WriteLine(\"Press the Enter key to continue\");\n",
    "\n",
    "    // pause code execution\n",
    "    readResult = Console.ReadLine();\n",
    "    \n",
    "} while (menuSelection != \"exit\");"
   ]
  },
  {
   "cell_type": "markdown",
   "metadata": {},
   "source": [
    "* fix formatting of code in VSC: `windows` + `f` || right click + `format document`"
   ]
  },
  {
   "cell_type": "markdown",
   "metadata": {},
   "source": [
    "##### ***4. Menu Selections: Write switch statement for menu selections***"
   ]
  },
  {
   "cell_type": "markdown",
   "metadata": {},
   "source": [
    "* add a `switch` statement for menu selection\n",
    "\n",
    "![Alt text](\\Assets\\image-7.png)"
   ]
  },
  {
   "cell_type": "code",
   "execution_count": null,
   "metadata": {
    "dotnet_interactive": {
     "language": "csharp"
    },
    "polyglot_notebook": {
     "kernelName": "csharp"
    },
    "vscode": {
     "languageId": "polyglot-notebook"
    }
   },
   "outputs": [],
   "source": [
    "    // Console.WriteLine($\"You selected menu option {menuSelection}.\");\n",
    "    // Console.WriteLine(\"Press the Enter key to continue\");\n",
    "\n",
    "    // // pause code execution\n",
    "    // readResult = Console.ReadLine();\n",
    "\n",
    "    switch(menuSelection)\n",
    "    {\n",
    "        case \"1\": // checking for a string value (as above in do)\n",
    "            break;\n",
    "\n",
    "        case \"2\":\n",
    "            break;\n",
    "\n",
    "        case \"3\":\n",
    "            break;\n",
    "\n",
    "        case \"4\":\n",
    "            break;\n",
    "\n",
    "        case \"5\":\n",
    "            break;\n",
    "\n",
    "        case \"6\":\n",
    "            break;\n",
    "\n",
    "        case \"7\":\n",
    "            break;\n",
    "\n",
    "        case \"8\":\n",
    "            break;\n",
    "\n",
    "        default: // optional\n",
    "            break; \n",
    "    }\n",
    "    \n",
    "} while (menuSelection != \"exit\");"
   ]
  },
  {
   "cell_type": "markdown",
   "metadata": {},
   "source": [
    "##### ***5. Code Branches: Write placeholder code for each case of the switch statement***"
   ]
  },
  {
   "cell_type": "markdown",
   "metadata": {},
   "source": [
    "* update execution paths created by switch statement --> which will acknowledge user selection\n",
    "* feedback is important for user interraction"
   ]
  },
  {
   "cell_type": "markdown",
   "metadata": {},
   "source": [
    "    1. Add feedback block for each case + meaningful comments\n",
    "    2. Edit case 3 + 4 with custom feedback messages\n",
    "    3. don't add feedback message to default\n",
    "\n",
    "![Alt text](\\Assets\\image-10.png)\n",
    "\n",
    "\n",
    "![Alt text](\\Assets\\image-11.png)"
   ]
  },
  {
   "cell_type": "code",
   "execution_count": null,
   "metadata": {
    "dotnet_interactive": {
     "language": "csharp"
    },
    "polyglot_notebook": {
     "kernelName": "csharp"
    },
    "vscode": {
     "languageId": "polyglot-notebook"
    }
   },
   "outputs": [],
   "source": [
    "    switch(menuSelection)\n",
    "    {\n",
    "        case \"1\":  // \"1\" = checking for a string value (as above in do)\n",
    "            // List all of our current pet information\n",
    "            Console.WriteLine(\"this app feature is coming soon - please check back to see progress.\");\n",
    "            Console.WriteLine(\"Press the Enter key to continue.\");\n",
    "            readResult = Console.ReadLine();\n",
    "            break;\n",
    "\n",
    "        case \"2\":\n",
    "            // Add a new animal friend to the ourAnimals array\n",
    "            Console.WriteLine(\"this app feature is coming soon - please check back to see progress.\");\n",
    "            Console.WriteLine(\"Press the Enter key to continue.\");\n",
    "            readResult = Console.ReadLine();        \n",
    "            break;\n",
    "\n",
    "        case \"3\":\n",
    "            // Ensure animal ages and physical descriptions are complete\n",
    "            Console.WriteLine(\"Challenge Project: this app feature is coming soon - please check back to see progress.\");\n",
    "            Console.WriteLine(\"Press the Enter key to continue.\");\n",
    "            readResult = Console.ReadLine();        \n",
    "            break;\n",
    "\n",
    "        case \"4\":\n",
    "            // Ensure animal nicknames and personality descriptions are complete\n",
    "            Console.WriteLine(\"UNDER CONSTRUCTION: this app feature is coming soon - please check back to see progress.\");\n",
    "            Console.WriteLine(\"Press the Enter key to continue.\");\n",
    "            readResult = Console.ReadLine();        \n",
    "            break;\n",
    "\n",
    "        case \"5\":\n",
    "            // Edit an animal's age\n",
    "            Console.WriteLine(\"this app feature is coming soon - please check back to see progress.\");\n",
    "            Console.WriteLine(\"Press the Enter key to continue.\");\n",
    "            readResult = Console.ReadLine();        \n",
    "            break;\n",
    "\n",
    "        case \"6\":\n",
    "            // Edit an animal's personality description\n",
    "            Console.WriteLine(\"this app feature is coming soon - please check back to see progress.\");\n",
    "            Console.WriteLine(\"Press the Enter key to continue.\");\n",
    "            readResult = Console.ReadLine();        \n",
    "            break;\n",
    "\n",
    "        case \"7\":\n",
    "            // Display all cats with a specified characteristic\n",
    "            Console.WriteLine(\"this app feature is coming soon - please check back to see progress.\");\n",
    "            Console.WriteLine(\"Press the Enter key to continue.\");\n",
    "            readResult = Console.ReadLine();        \n",
    "            break;\n",
    "\n",
    "        case \"8\":\n",
    "            // Display all dogs with a specified characteristic\n",
    "            Console.WriteLine(\"this app feature is coming soon - please check back to see progress.\");\n",
    "            Console.WriteLine(\"Press the Enter key to continue.\");\n",
    "            readResult = Console.ReadLine();        \n",
    "            break;\n",
    "\n",
    "        default: // optional\n",
    "            break; \n",
    "    }\n",
    "    \n",
    "} while (menuSelection != \"exit\");\n"
   ]
  },
  {
   "cell_type": "markdown",
   "metadata": {},
   "source": [
    "##### ***6. Verification Test: Check your work***"
   ]
  },
  {
   "cell_type": "markdown",
   "metadata": {},
   "source": [
    "![Alt text](\\Assets\\image-12.png)"
   ]
  },
  {
   "cell_type": "markdown",
   "metadata": {},
   "source": [
    "![Alt text](\\Assets\\image-13.png)"
   ]
  },
  {
   "cell_type": "markdown",
   "metadata": {},
   "source": [
    "#### 🚀 **[Exercise - Write code to display all ourAnimals array data](https://learn.microsoft.com/en-gb/training/modules/guided-project-develop-conditional-branching-looping/4-exercise-display-all-array-data)**"
   ]
  },
  {
   "cell_type": "markdown",
   "metadata": {},
   "source": [
    "![Alt text](\\Assets\\image-14.png)"
   ]
  },
  {
   "cell_type": "markdown",
   "metadata": {},
   "source": [
    "##### ***1. Outer Loop: Build a loop to iterate through the ourAnimals array***"
   ]
  },
  {
   "cell_type": "markdown",
   "metadata": {},
   "source": [
    "* create the outer `for` loop --> to ierate through ourAnimals array\n",
    "* consider difference between `for` and `foreach`\n",
    "\n",
    "    1. delete the `WriteLine` statements to display coming soon message in `menuSelection` switch statements and leave blank code line\n",
    "        * this isn't required as the action will replace the temp feedback statement\n",
    "    2. create\n",
    "\n",
    "\n",
    "    ![Alt text](\\Assets\\image-15.png)"
   ]
  },
  {
   "cell_type": "code",
   "execution_count": null,
   "metadata": {
    "dotnet_interactive": {
     "language": "csharp"
    },
    "polyglot_notebook": {
     "kernelName": "csharp"
    },
    "vscode": {
     "languageId": "polyglot-notebook"
    }
   },
   "outputs": [],
   "source": [
    "    switch(menuSelection)\n",
    "    {\n",
    "        case \"1\":  // \"1\" = checking for a string value (as above in do)\n",
    "            // List all of our current pet information\n",
    "            // Console.WriteLine(\"this app feature is coming soon - please check back to see progress.\");\n",
    "            for (int i=0; 1 < maxPets; i++)\n",
    "            {\n",
    "\n",
    "            }\n",
    "            Console.WriteLine(\"Press the Enter key to continue.\");\n",
    "            readResult = Console.ReadLine();\n",
    "            break;"
   ]
  },
  {
   "cell_type": "markdown",
   "metadata": {},
   "source": [
    "Alternative to for loop:\n",
    "\n",
    "![Alt text](./Assets/image-16.png)"
   ]
  },
  {
   "cell_type": "markdown",
   "metadata": {},
   "source": [
    "##### ***2. Data Check: Check for existing pet data and display result***"
   ]
  },
  {
   "cell_type": "code",
   "execution_count": null,
   "metadata": {
    "dotnet_interactive": {
     "language": "csharp"
    },
    "polyglot_notebook": {
     "kernelName": "csharp"
    },
    "vscode": {
     "languageId": "polyglot-notebook"
    }
   },
   "outputs": [],
   "source": [
    "// check pets are assigned pet data - use if statement\n",
    "\n",
    "for (int i=0; i < maxPets; i++)\n",
    "{\n",
    "    if (ourAnimals[i,0] != \"ID #: \") // if first row of array item doesn't have ID\n",
    "    {\n",
    "        Console.WriteLine(ourAnimals[i, 0]);\n",
    "    }\n",
    "}"
   ]
  },
  {
   "cell_type": "markdown",
   "metadata": {},
   "source": [
    "##### ***3. Inner Loop: Display all pet characteristics for pets with data assigned***"
   ]
  },
  {
   "cell_type": "code",
   "execution_count": null,
   "metadata": {
    "dotnet_interactive": {
     "language": "csharp"
    },
    "polyglot_notebook": {
     "kernelName": "csharp"
    },
    "vscode": {
     "languageId": "polyglot-notebook"
    }
   },
   "outputs": [],
   "source": [
    "for (int i = 0; i < maxPets; i++)\n",
    "{\n",
    "    if (ourAnimals[i, 0] != \"ID #: \") // animals\n",
    "    {\n",
    "        Console.WriteLine();\n",
    "        for (int j = 0; j < 6; j++) // characteristics\n",
    "        {\n",
    "            Console.WriteLine(ourAnimals[i, j]);\n",
    "        }\n",
    "    }\n",
    "}"
   ]
  },
  {
   "cell_type": "markdown",
   "metadata": {},
   "source": [
    "##### ***4. Verification Test: Check your work***"
   ]
  },
  {
   "cell_type": "markdown",
   "metadata": {},
   "source": [
    "![Alt text](\\Assets\\image-17.png)"
   ]
  },
  {
   "cell_type": "markdown",
   "metadata": {},
   "source": [
    "#### 🚀 **[Exercise - Build and test a loop for entering new pet data](https://learn.microsoft.com/en-gb/training/modules/guided-project-develop-conditional-branching-looping/5-exercise-build-loop-new-array-data)**"
   ]
  },
  {
   "cell_type": "markdown",
   "metadata": {},
   "source": [
    "![Alt text](\\Assets\\image-18.png)"
   ]
  },
  {
   "cell_type": "markdown",
   "metadata": {},
   "source": [
    "##### ***1. Calculate petCount: Count the number of pets in the ourAnimals array***"
   ]
  },
  {
   "cell_type": "markdown",
   "metadata": {},
   "source": [
    "Establish the exit criteria for your data entry loop and you create a for loop that can be used to count the number of pets in ourAnimals that have assigned data.\n",
    "\n",
    "1. remove \"coming soon\" writeline in case 2 in switch(menuSelection)\n",
    "2. declare variables for calculating number of pets\n",
    "\n",
    "![Alt text](./Assets/image2.png)"
   ]
  },
  {
   "cell_type": "code",
   "execution_count": null,
   "metadata": {
    "dotnet_interactive": {
     "language": "csharp"
    },
    "polyglot_notebook": {
     "kernelName": "csharp"
    },
    "vscode": {
     "languageId": "polyglot-notebook"
    }
   },
   "outputs": [],
   "source": [
    "        case \"2\":\n",
    "            // Add a new animal friend to the ourAnimals array\n",
    "            \n",
    "            // declare variables for  calculation\n",
    "            string anotherPet = \"y\";\n",
    "            int petCount = 0;\n",
    "\n",
    "            Console.WriteLine(\"Press the Enter key to continue.\");\n",
    "            readResult = Console.ReadLine();        \n",
    "            break;"
   ]
  },
  {
   "cell_type": "markdown",
   "metadata": {},
   "source": [
    "* `anotherPet` - initialised w/ y or n -> used in while loop\n",
    "* `petCount` - number of animals with assigned pet characteristcs. Assigned a calculated value outside while loop and then incremented each time new animal enters ourAnimals array"
   ]
  },
  {
   "cell_type": "markdown",
   "metadata": {},
   "source": [
    "Scoping variables\n",
    "\n",
    "![Alt text](./Assets/image-scoping.png)"
   ]
  },
  {
   "cell_type": "markdown",
   "metadata": {},
   "source": [
    "5. Create a loop that iterates through the animals in the `ourAnimals` array\n",
    "6. inside the for loop, enter an if statement to check `ourAnimals` if pet characteristic data has been assigned to an animal\n",
    "7. add an increment by 1 in `petCount`\n",
    "\n",
    "\n",
    "![Alt text](./Assets/image-20.png)"
   ]
  },
  {
   "cell_type": "code",
   "execution_count": null,
   "metadata": {
    "dotnet_interactive": {
     "language": "csharp"
    },
    "polyglot_notebook": {
     "kernelName": "csharp"
    },
    "vscode": {
     "languageId": "polyglot-notebook"
    }
   },
   "outputs": [],
   "source": [
    "        case \"2\":\n",
    "            // Add a new animal friend to the ourAnimals array\n",
    "            // declare variables for  calculation\n",
    "            string anotherPet = \"y\";\n",
    "            int petCount = 0;\n",
    "\n",
    "            // for each animal in ourAnimals, add +1 to petCount\n",
    "            for (int i = 0; i < maxPets; i++)\n",
    "            {\n",
    "                if (ourAnimals[i, 0] != \"ID #: \") // check if characteristic has been assigned\n",
    "                {\n",
    "                    petCount += 1; // increment\n",
    "                }\n",
    "            }\n",
    "            \n",
    "            Console.WriteLine(\"Press the Enter key to continue.\");\n",
    "            readResult = Console.ReadLine();        \n",
    "            break;"
   ]
  },
  {
   "cell_type": "markdown",
   "metadata": {},
   "source": [
    "##### ***2. Conditional messages: Display message output when petCount is less than maxPets***"
   ]
  },
  {
   "cell_type": "markdown",
   "metadata": {},
   "source": [
    "Add output if condition is true"
   ]
  },
  {
   "cell_type": "code",
   "execution_count": null,
   "metadata": {
    "dotnet_interactive": {
     "language": "csharp"
    },
    "polyglot_notebook": {
     "kernelName": "csharp"
    },
    "vscode": {
     "languageId": "polyglot-notebook"
    }
   },
   "outputs": [],
   "source": [
    "\n",
    "            // display message is count is lower than max pets\n",
    "            if (petCount < maxPets)\n",
    "            {\n",
    "               Console.WriteLine($\"We currently have {petCount} pets that need homes. We can manage {(maxPets - petCount)} more.\"); \n",
    "            }  "
   ]
  },
  {
   "cell_type": "markdown",
   "metadata": {},
   "source": [
    "![](./Assets/image-petcount-less-maxpets.png)"
   ]
  },
  {
   "cell_type": "markdown",
   "metadata": {},
   "source": [
    "![](./Assets/image-petcount-less-maxpets-output.png)"
   ]
  },
  {
   "cell_type": "markdown",
   "metadata": {},
   "source": [
    "##### ***3. Outer loop: Build a loop structure that will be used for entering new ourAnimals array data***"
   ]
  },
  {
   "cell_type": "markdown",
   "metadata": {},
   "source": [
    "* Create a while loop that continues to iterate as long as: \n",
    "    * `anotherPet` is equal to `y` and `petCount` is less than `maxPets`\n",
    "* Next: construct a while loop exit criteria"
   ]
  },
  {
   "cell_type": "markdown",
   "metadata": {},
   "source": [
    "![](./Assets/image-petcount-less-maxpets.png)"
   ]
  },
  {
   "cell_type": "code",
   "execution_count": null,
   "metadata": {
    "dotnet_interactive": {
     "language": "csharp"
    },
    "polyglot_notebook": {
     "kernelName": "csharp"
    },
    "vscode": {
     "languageId": "polyglot-notebook"
    }
   },
   "outputs": [],
   "source": [
    "while (anotherPet == \"y\" && petCount < maxPets)\n",
    "{\n",
    "}\n",
    "\n",
    "// need to exit the while loop"
   ]
  },
  {
   "cell_type": "markdown",
   "metadata": {},
   "source": [
    "![](./Assets/image-petcount-less-maxpets-while.png)"
   ]
  },
  {
   "cell_type": "markdown",
   "metadata": {},
   "source": [
    "##### ***4. Exit criteria: Check exit condition for new pets loop***"
   ]
  },
  {
   "cell_type": "markdown",
   "metadata": {},
   "source": [
    "* In this task\n",
    "    * you update the `while (anotherPet == \"y\" && petCount < maxPets)` code block. \n",
    "    * The new code increments `petCount` and then checks whether `petCount` is less than `maxPets`. \n",
    "    * If `petCount` is less than `maxPets`, you ask the user if they want to enter information for another pet, and ensure the response is either `y` or `n`. \n",
    "    * After the `while (anotherPet == \"y\" && petCount < maxPets) `code block, you check the value of `petCount`.\n",
    "    * If `petCount` is equal to `maxPets`, you inform the user that no more pets can be added."
   ]
  },
  {
   "cell_type": "code",
   "execution_count": null,
   "metadata": {
    "dotnet_interactive": {
     "language": "csharp"
    },
    "polyglot_notebook": {
     "kernelName": "csharp"
    },
    "vscode": {
     "languageId": "polyglot-notebook"
    }
   },
   "outputs": [],
   "source": [
    "\n",
    "            while (anotherPet == \"y\" && petCount < maxPets)\n",
    "            {\n",
    "                // increment petCount (the array is zero-based, so we increment the counter after adding to the array)\n",
    "                petCount = petCount + 1;    \n",
    "\n",
    "                // check maxPet limit\n",
    "                if (petCount < maxPets)\n",
    "                {\n",
    "                    // another pet?\n",
    "                    Console.WriteLine(\"Do you want to enter info for another pet (y/n)\");\n",
    "\n",
    "                    // respond to y or n\n",
    "                    do\n",
    "                    {\n",
    "                        readResult = Console.ReadLine(); // user input\n",
    "                        if (readResult != null) // if user enters data\n",
    "                        {\n",
    "                            anotherPet = readResult.ToLower(); // transform input to lowercase and save to anotherPet\n",
    "                        }\n",
    "                    } while (anotherPet != \"y\" && anotherPet != \"n\"); // continue looping while prompt for another pet isn't being answered\n",
    "                }\n",
    "            }      "
   ]
  },
  {
   "cell_type": "markdown",
   "metadata": {},
   "source": [
    "![](./Assets/image-petcount-less-maxpets-while-exit.png)"
   ]
  },
  {
   "cell_type": "markdown",
   "metadata": {},
   "source": [
    "##### ***5. Verification test: Check Your Work***"
   ]
  },
  {
   "cell_type": "markdown",
   "metadata": {},
   "source": [
    "![](./Assets/image-petcount.png)"
   ]
  },
  {
   "cell_type": "markdown",
   "metadata": {},
   "source": []
  },
  {
   "cell_type": "markdown",
   "metadata": {},
   "source": [
    "#### 🚀 **[Exercise - Write code to read and save new ourAnimals array data](https://learn.microsoft.com/en-us/training/modules/guided-project-develop-conditional-branching-looping/6-exercise-read-save-array-data)**"
   ]
  },
  {
   "cell_type": "markdown",
   "metadata": {},
   "source": [
    "![Alt text](./Assets/image-challenge-write-code-to-read-and-save-new-ouranimals-array-data.png)"
   ]
  },
  {
   "cell_type": "markdown",
   "metadata": {},
   "source": [
    "##### ***1. Read and validate species: Build loop to read and validate the pet species***"
   ]
  },
  {
   "cell_type": "markdown",
   "metadata": {},
   "source": [
    "* In this task, you create a `do` loop that iterates until the user enters a valid species name, either dog or cat. \n",
    "* You reuse your voidable string `readResult` to capture the `Console.ReadLine()` input.\n",
    "* You also reuse the `animalSpecies` string variable that you used when generating your sample data. \n",
    "* You add a new Boolean variable named `validEntry` to your app. \n",
    "* You use `validEntry` in an expression that's evaluated as an exit criteria for your do loop."
   ]
  },
  {
   "cell_type": "markdown",
   "metadata": {},
   "source": [
    "![Alt text](./Assets/image-validate-species-before.png)"
   ]
  },
  {
   "cell_type": "code",
   "execution_count": null,
   "metadata": {
    "dotnet_interactive": {
     "language": "csharp"
    },
    "polyglot_notebook": {
     "kernelName": "csharp"
    },
    "vscode": {
     "languageId": "polyglot-notebook"
    }
   },
   "outputs": [],
   "source": [
    "        // validate pet species\n",
    "        bool validEntry = false;\n",
    "\n",
    "        // get species (cat or dog) - string animalSpecies is a required field\n",
    "        do\n",
    "        {\n",
    "            // prompt user to enter a species\n",
    "            Console.WriteLine(\"\\n\\rEnter 'dog' or 'cat' to begin a new entry\");\n",
    "            readResult = Console.ReadLine(); // user input\n",
    "\n",
    "            // ensure value is not blank\n",
    "            if (readResult != null)\n",
    "            {\n",
    "                animalSpecies = readResult.ToLower();\n",
    "\n",
    "                // is the value entered dog or cat (Validation)\n",
    "                if (animalSpecies != \"dog\" && animalSpecies != \"cat\")\n",
    "                {\n",
    "                    validEntry = false;\n",
    "                }\n",
    "                else\n",
    "                {\n",
    "                    validEntry = true;\n",
    "                }                        \n",
    "            }\n",
    "        } while (validEntry == false);\n",
    "\n",
    "        // increment petCount (the array is zero-based, so we increment the counter after adding to the array)\n",
    "        petCount = petCount + 1;    \n"
   ]
  },
  {
   "cell_type": "markdown",
   "metadata": {},
   "source": [
    "![Alt text](./Assets/image-validate-species-after.png)"
   ]
  },
  {
   "cell_type": "markdown",
   "metadata": {},
   "source": [
    "##### ***2. Construct pet ID: Construct the animal ID value***"
   ]
  },
  {
   "cell_type": "markdown",
   "metadata": {},
   "source": [
    "In this task, you use the `animalSpecies` and `petCount` variables to create the value that you assign to `animalID`."
   ]
  },
  {
   "cell_type": "code",
   "execution_count": null,
   "metadata": {
    "dotnet_interactive": {
     "language": "csharp"
    },
    "polyglot_notebook": {
     "kernelName": "csharp"
    },
    "vscode": {
     "languageId": "polyglot-notebook"
    }
   },
   "outputs": [],
   "source": [
    "// build the animal the ID number - for example C1, C2, D3 (for Cat 1, Cat 2, Dog 3)\n",
    "animalID = animalSpecies.Substring(0, 1) + (petCount + 1).ToString();"
   ]
  },
  {
   "cell_type": "markdown",
   "metadata": {},
   "source": [
    "##### ***3. Read and validate age: Build loop to read and validate the pet's age***"
   ]
  },
  {
   "cell_type": "markdown",
   "metadata": {},
   "source": [
    "* In this task, you create a `do` loop that iterates until the user enters either a `?` or a valid integer that represents the age of the pet in years. \n",
    "* You reuse the voidable string readResult to capture the `Console.ReadLine()` input. \n",
    "* You also reuse the `animalAge` `string` variable that you used when generating the sample data. \n",
    "* To test whether or not the `animalAge` `string` represents a valid `integer`, you use the `validEntry` `Boolean`. \n",
    "* You declare a new integer variable named `petAge` to store the numeric value.\n",
    "* Once again, the `validEntry` Boolean is used in the expression that's evaluated as an exit criteria for our do loop."
   ]
  },
  {
   "cell_type": "markdown",
   "metadata": {},
   "source": [
    "![Alt text](./Assets/image-validate-age.png)"
   ]
  },
  {
   "cell_type": "markdown",
   "metadata": {},
   "source": [
    "##### ***4.Read and validate physical description: Build loop to read and validate the pet's physical description***"
   ]
  },
  {
   "cell_type": "markdown",
   "metadata": {},
   "source": [
    "* In this task, you create a `do` loop that iterates until the user enters a string value that represents a physical description of a pet. \n",
    "* You reuse the voidable string readResult to capture the `Console.ReadLine()` input. \n",
    "* You also reuse the `animalPhysicalDescription` string variable that you used when generating the sample data. \n",
    "* You use the value assigned to `animalPhysicalDescription` in the expression that's evaluated as an exit criteria for our do loop."
   ]
  },
  {
   "cell_type": "code",
   "execution_count": null,
   "metadata": {
    "dotnet_interactive": {
     "language": "csharp"
    },
    "polyglot_notebook": {
     "kernelName": "csharp"
    },
    "vscode": {
     "languageId": "polyglot-notebook"
    }
   },
   "outputs": [],
   "source": [
    "// get a description of the pet's physical appearance/condition - animalPhysicalDescription can be blank.\n",
    "do\n",
    "{\n",
    "    Console.WriteLine(\"Enter a physical description of the pet (size, color, gender, weight, housebroken)\");\n",
    "    readResult = Console.ReadLine();\n",
    "\n",
    "    if (readResult != null)\n",
    "    {\n",
    "        animalPhysicalDescription = readResult.ToLower();\n",
    "        \n",
    "        if (animalPhysicalDescription == \"\")\n",
    "        {\n",
    "            animalPhysicalDescription = \"tbd\";\n",
    "        }\n",
    "    }\n",
    "    \n",
    "} while (animalPhysicalDescription == \"\");"
   ]
  },
  {
   "cell_type": "markdown",
   "metadata": {},
   "source": [
    "![Alt text](./Assets/image-validate-physical-description.png)"
   ]
  },
  {
   "cell_type": "markdown",
   "metadata": {},
   "source": [
    "##### ***5. Read and validate personality description: Build loop to read and validate the pet's personality description***"
   ]
  },
  {
   "cell_type": "markdown",
   "metadata": {},
   "source": [
    "* In this task, you create a do loop that iterates until the user enters a string value that represents a description of a pet's personality. \n",
    "\n",
    "* You reuse the voidable string readResult to capture the `Console.ReadLine()` input. \n",
    "\n",
    "* You also reuse the `animalPersonalityDescription` string variable that you used when generating the sample data. \n",
    "\n",
    "* You use the value assigned to `animalPersonalityDescription` in the expression that's evaluated as an exit criteria for our do loop."
   ]
  },
  {
   "cell_type": "code",
   "execution_count": null,
   "metadata": {
    "dotnet_interactive": {
     "language": "csharp"
    },
    "polyglot_notebook": {
     "kernelName": "csharp"
    },
    "vscode": {
     "languageId": "polyglot-notebook"
    }
   },
   "outputs": [],
   "source": [
    "// get a description of the pet's personality - animalPersonalityDescription can be blank.\n",
    "do\n",
    "{\n",
    "    Console.WriteLine(\"Enter a description of the pet's personality (likes or dislikes, tricks, energy level)\");\n",
    "    readResult = Console.ReadLine();\n",
    "    if (readResult != null)\n",
    "    {\n",
    "        animalPersonalityDescription = readResult.ToLower();\n",
    "        if (animalPersonalityDescription == \"\")\n",
    "        {\n",
    "            animalPersonalityDescription = \"tbd\";\n",
    "        }\n",
    "    }\n",
    "} while (animalPersonalityDescription == \"\");"
   ]
  },
  {
   "cell_type": "markdown",
   "metadata": {},
   "source": [
    "##### ***6. Read and validate nickname: Build loop to read and validate the pet's nickname***"
   ]
  },
  {
   "cell_type": "markdown",
   "metadata": {},
   "source": [
    "* In this task, you create a `do` loop that iterates until the user enters a string value that represents a nickname for a pet. \n",
    "* You reuse the voidable string `readResult` to capture the `Console.ReadLine() `input. \n",
    "* You also reuse the `animalNickname` string variable that you used when generating the sample data. \n",
    "* You use the value assigned to `animalNickname` in the expression that's evaluated as an exit criteria for our do loop."
   ]
  },
  {
   "cell_type": "code",
   "execution_count": null,
   "metadata": {
    "dotnet_interactive": {
     "language": "csharp"
    },
    "polyglot_notebook": {
     "kernelName": "csharp"
    },
    "vscode": {
     "languageId": "polyglot-notebook"
    }
   },
   "outputs": [],
   "source": [
    "// get the pet's nickname. animalNickname can be blank.\n",
    "do\n",
    "{\n",
    "    Console.WriteLine(\"Enter a nickname for the pet\");\n",
    "    readResult = Console.ReadLine();\n",
    "    if (readResult != null)\n",
    "    {\n",
    "        animalNickname = readResult.ToLower();\n",
    "        if (animalNickname == \"\")\n",
    "        {\n",
    "            animalNickname = \"tbd\";\n",
    "        }\n",
    "    }\n",
    "} while (animalNickname == \"\");"
   ]
  },
  {
   "cell_type": "markdown",
   "metadata": {},
   "source": [
    "##### ***7.1 Verification test: Save the new Pet Information***"
   ]
  },
  {
   "cell_type": "code",
   "execution_count": null,
   "metadata": {
    "dotnet_interactive": {
     "language": "csharp"
    },
    "polyglot_notebook": {
     "kernelName": "csharp"
    },
    "vscode": {
     "languageId": "polyglot-notebook"
    }
   },
   "outputs": [],
   "source": [
    "// store the pet information in the ourAnimals array (zero based)\n",
    "ourAnimals[petCount, 0] = \"ID #: \" + animalID;\n",
    "ourAnimals[petCount, 1] = \"Species: \" + animalSpecies;\n",
    "ourAnimals[petCount, 2] = \"Age: \" + animalAge;\n",
    "ourAnimals[petCount, 3] = \"Nickname: \" + animalNickname;\n",
    "ourAnimals[petCount, 4] = \"Physical description: \" + animalPhysicalDescription;\n",
    "ourAnimals[petCount, 5] = \"Personality: \" + animalPersonalityDescription;"
   ]
  },
  {
   "cell_type": "markdown",
   "metadata": {},
   "source": [
    "##### ***7.2 Verification test: Check Your work***"
   ]
  },
  {
   "cell_type": "markdown",
   "metadata": {},
   "source": [
    "Bug:\n",
    "* not prompting to enter physical description, etc. \n",
    "* `if (animalAge != \"?\")` and else had nested do statement\n",
    "* move the if statement to own block"
   ]
  },
  {
   "cell_type": "markdown",
   "metadata": {},
   "source": [
    "![Alt text](./Assets/bug-move-loop.png)"
   ]
  },
  {
   "cell_type": "markdown",
   "metadata": {},
   "source": [
    "Code fix:\n",
    "* moved if statement to own block"
   ]
  },
  {
   "cell_type": "markdown",
   "metadata": {},
   "source": [
    "![Alt text](./Assets/bugfix-move-loop.png)"
   ]
  },
  {
   "cell_type": "markdown",
   "metadata": {},
   "source": [
    "#### ❓ **Check Knowledge: switch-case / if, for / foreach, scope**"
   ]
  },
  {
   "cell_type": "markdown",
   "metadata": {},
   "source": [
    "\n",
    "1. When is it appropriate to use a switch-case construct rather than a if-elseif-else construct? \n",
    "    * ✔️ A switch-case construct is appropriate when more than 2-3 else if code blocks are required.\n",
    "    * ❌ A switch-case construct is appropriate when the number of case patterns is small.\n",
    "    * ❌ A switch-case construct is appropriate when the selection statement is inside a loop.\n",
    "\n",
    "    <br>\n",
    "\n",
    "2. Why should a developer choose a for statement rather than a foreach statement when processing the contents of a multidimensional array?\n",
    "    * ❌ for statements do a better job of examining each array item separately.\n",
    "    * ❌ foreach statements do a better job of examining each array item separately.\n",
    "    * ✔️ for statements enable a developer to treat array dimensions separately.\n",
    "\n",
    "3. Why is it important to scope a variable at its lowest necessary level? \n",
    "    * ❌ It ensures that a variable that's declared outside of a code block, can be accessed inside the code block before it's been assigned a value.\n",
    "    * ✔️ It ensures that application resources and the security footprint are kept small.\n",
    "    * ❌ It ensures that a variable can be accessed within the lowest level code branches of an application."
   ]
  },
  {
   "cell_type": "markdown",
   "metadata": {},
   "source": [
    "#### **SUMMARY:**"
   ]
  },
  {
   "cell_type": "markdown",
   "metadata": {},
   "source": [
    "* Your goal was to build an application that implements a combination of selection and iteration statements to achieve the design goals of your application.\n",
    "* By creating nested combinations of iteration and selection statements, you built a user interface that enables the user to display pet data from the ourAnimals array.\n",
    "* You also developed the features to enter and validate characteristics of new pets and add them to the ourAnimals array. \n",
    "* The app user can continue making menu selections until they choose to exit the application.\n",
    "* Having the ability to implement a variety of iteration and selection statements enables you to optimize your code."
   ]
  },
  {
   "cell_type": "markdown",
   "metadata": {},
   "source": [
    "_________________________\n",
    "\n",
    "### ⭐ [Challenge project - Develop branching and looping structures in C#](https://learn.microsoft.com/en-us/training/modules/challenge-project-develop-branching-looping-structures-c-sharp/)\n",
    "\n",
    "_________________________"
   ]
  },
  {
   "cell_type": "markdown",
   "metadata": {},
   "source": [
    "####  ✔️ **Learning Objectives:**"
   ]
  },
  {
   "cell_type": "markdown",
   "metadata": {},
   "source": [
    "Demonstrate your ability to develop a console app that implements selection and iteration statements to achieve app specifications.\n",
    "\n",
    "* Use Visual Studio Code to develop a C# console application that uses: \n",
    "    * a combination of selection and iteration statements to:\n",
    "        * implement logical workflows in accordance with:\n",
    "            * supplied application data and user interactions.\n",
    "* Evaluate the underlying conditions and make an informed decision when: \n",
    "    * choosing between if-elseif-else and switch statements, and between foreach, for, while, and do iteration statements.\n",
    "* Scope variables at an appropriate level within an application."
   ]
  },
  {
   "cell_type": "markdown",
   "metadata": {},
   "source": [
    "#### **Prepare**"
   ]
  },
  {
   "cell_type": "markdown",
   "metadata": {},
   "source": [
    "* Use VSC to develop portions of a C# console application. \n",
    "* Use boolean expressions, selection statements, and iteration statements to implement the features of a design specification. \n",
    "* As you develop the application, you'll need to scope variables at the appropriate level."
   ]
  },
  {
   "cell_type": "markdown",
   "metadata": {},
   "source": [
    "![Alt-Text](./Assets/image-challenge-develop-branching-looping-structures-instructions.png)"
   ]
  },
  {
   "cell_type": "markdown",
   "metadata": {},
   "source": [
    "#### ⭐ **[Exercise - Ensure that petAge and petPhysicalDescription contain valid information](https://learn.microsoft.com/en-gb/training/modules/challenge-project-develop-branching-looping-structures-c-sharp/3-exercise-build-loop-verify-physical)**\n"
   ]
  },
  {
   "cell_type": "markdown",
   "metadata": {},
   "source": [
    "The Contoso Pets application is used to help find new homes for abandoned pets. \n",
    "\n",
    "Your goal in this challenge is to: \n",
    "* develop the application features used to ensure that you: \n",
    "    * have a completed dataset for each animal in the ourAnimals array."
   ]
  },
  {
   "cell_type": "markdown",
   "metadata": {},
   "source": [
    "##### **Specification**"
   ]
  },
  {
   "cell_type": "markdown",
   "metadata": {},
   "source": [
    "In this challenge exercise, you need to develop a feature that ensures animal ages and physical descriptions are complete.\n",
    "\n",
    "![Alt-Text](./Assets/image-challenge-develop-branching-looping-structures-specs.png)"
   ]
  },
  {
   "cell_type": "markdown",
   "metadata": {},
   "source": [
    "##### **Solution**"
   ]
  },
  {
   "cell_type": "code",
   "execution_count": null,
   "metadata": {
    "dotnet_interactive": {
     "language": "csharp"
    },
    "polyglot_notebook": {
     "kernelName": "csharp"
    },
    "vscode": {
     "languageId": "polyglot-notebook"
    }
   },
   "outputs": [],
   "source": [
    "        case \"3\":\n",
    "            // Ensure animal ages and physical descriptions are complete\n",
    "            // Console.WriteLine(\"Challenge Project - please check back soon to see progress.\");\n",
    "\n",
    "            // ------ \n",
    "\n",
    "            // check pets are assigned pet data - use if statement\n",
    "\n",
    "            for (int i = 0; i < maxPets; i++)\n",
    "            {\n",
    "                \n",
    "                // ------ petAge ------------\n",
    "\n",
    "                // animals in ourAnimals array with ? as age\n",
    "                if (ourAnimals[i, 0] != \"ID #: \" && ourAnimals[i, 2] == \"Age: ?\") \n",
    "                {\n",
    "                    // enter animal age, no null, no ?\n",
    "                    string id = ourAnimals[i, 0];\n",
    "\n",
    "                    do\n",
    "                    {\n",
    "                        Console.WriteLine($\"Enter an age for {id}\");\n",
    "                        readResult = Console.ReadLine();\n",
    "                        if (readResult != null)\n",
    "                        {\n",
    "                            animalAge = readResult;\n",
    "                            validEntry = int.TryParse(animalAge, out petAge);\n",
    "                            // Console.WriteLine(id +  \" is \" + petAge);\n",
    "                    \n",
    "                        }\n",
    "                    } while (validEntry == false);\n",
    "\n",
    "                    // store the age in the ourAnimals array\n",
    "                    ourAnimals[i, 2] = \"Age: \" + petAge;\n",
    "                }\n",
    "                \n",
    "\n",
    "                // ------ animalPhysicalDescription ------------\n",
    "\n",
    "                if (ourAnimals[i, 0] != \"ID #: \" && ourAnimals[i, 4] == \"Physical description: \" || ourAnimals[i, 4] == \"Physical description: tbd\")\n",
    "                {\n",
    "                    // enter animal age, no null, no ?\n",
    "                    string id = ourAnimals[i, 0];\n",
    "\n",
    "                    do\n",
    "                    {\n",
    "                        Console.WriteLine($\"Enter a physical description for {id} (size, color, breed, gender, weight, housebroken)\");\n",
    "                        readResult = Console.ReadLine();\n",
    "                        if (readResult != null)\n",
    "                        {\n",
    "                            animalPhysicalDescription = readResult.ToLower();\n",
    "\n",
    "                            if (animalPhysicalDescription == \"\")\n",
    "                            {\n",
    "                                validEntry = false;\n",
    "                                // if value is blank (hit enter), repeat the do loop\n",
    "                            }\n",
    "                            else\n",
    "                            {\n",
    "                                validEntry = true;\n",
    "                                // if value is true, end loop and set value to field\n",
    "                            }\n",
    "                        }\n",
    "\n",
    "                    } while (validEntry == false);\n",
    "\n",
    "                    // store the description in the ourAnimals array\n",
    "                    ourAnimals[i, 4] = \"Physical description: \" + animalPhysicalDescription;\n",
    "                }\n",
    "            }\n",
    "            \n",
    "            Console.WriteLine(\"Age and physical description fields are complete for all of our friends.\\nPress the Enter key to continue\");\n",
    "            readResult = Console.ReadLine();\n",
    "            break;\n"
   ]
  },
  {
   "cell_type": "markdown",
   "metadata": {},
   "source": [
    "##### **Check Your Work**"
   ]
  },
  {
   "cell_type": "markdown",
   "metadata": {},
   "source": [
    "![alt-text](./Assets/challenge_not_valid_values.png)\n",
    "\n",
    "![alt-text](./Assets/challenge_enter_values.png)\n",
    "\n",
    "![alt-text](./Assets/challenge_valid_values.png)"
   ]
  },
  {
   "cell_type": "markdown",
   "metadata": {},
   "source": [
    "#### ⭐ **[Exercise - Ensure that pet nicknames and personality descriptions are complete](https://learn.microsoft.com/en-gb/training/modules/challenge-project-develop-branching-looping-structures-c-sharp/4-exercise-build-loop-verify-personality)**\n"
   ]
  },
  {
   "cell_type": "markdown",
   "metadata": {},
   "source": [
    "The Contoso Pets app is used to help find new homes for abandoned pets. Your goal in this challenge is to:\n",
    "* develop the app features used to ensure that\n",
    "    * we have a completed dataset for each animal in the ourAnimals array."
   ]
  },
  {
   "cell_type": "markdown",
   "metadata": {},
   "source": [
    "##### **Specification**"
   ]
  },
  {
   "cell_type": "markdown",
   "metadata": {},
   "source": [
    "![](./Assets/spec.png)"
   ]
  },
  {
   "cell_type": "markdown",
   "metadata": {},
   "source": [
    "##### **Solution**"
   ]
  },
  {
   "cell_type": "code",
   "execution_count": null,
   "metadata": {
    "dotnet_interactive": {
     "language": "csharp"
    },
    "polyglot_notebook": {
     "kernelName": "csharp"
    },
    "vscode": {
     "languageId": "polyglot-notebook"
    }
   },
   "outputs": [],
   "source": [
    "        case \"4\":\n",
    "            // Ensure animal nicknames and personality descriptions are complete\n",
    "            // Console.WriteLine(\"Challenge Project - please check back soon to see progress.\");\n",
    "\n",
    "                       // Ensure animal ages and physical descriptions are complete\n",
    "            // Console.WriteLine(\"Challenge Project - please check back soon to see progress.\");\n",
    "\n",
    "            // ------\n",
    "\n",
    "            // check pets are assigned pet data - use if statement\n",
    "\n",
    "            for (int i = 0; i < maxPets; i++)\n",
    "            {\n",
    "\n",
    "                // ------ animalNickname ------------\n",
    "\n",
    "                // animals in ourAnimals array with ? as age\n",
    "                if (ourAnimals[i, 0] != \"ID #: \" && ourAnimals[i, 3] == \"Nickname: \" || ourAnimals[i, 3] == \"Nickname: tbd\") \n",
    "                {\n",
    "                    // enter animal nickname, no null, no tbd\n",
    "                    string id = ourAnimals[i, 0];\n",
    "\n",
    "                    do\n",
    "                    {\n",
    "                        Console.WriteLine($\"Enter a nickname for {id}\");\n",
    "                        readResult = Console.ReadLine();\n",
    "                        if (readResult != null)\n",
    "                        {\n",
    "                            animalNickname = readResult.ToLower();\n",
    "\n",
    "                            if (animalNickname == \"\")\n",
    "                            {\n",
    "                                validEntry = false;\n",
    "                                // if value is blank (hit enter), repeat the do loop\n",
    "                            }\n",
    "                            else\n",
    "                            {\n",
    "                                validEntry = true;\n",
    "                                // if value is true, end loop and set value to field\n",
    "                            }\n",
    "                        }\n",
    "\n",
    "                    } while (validEntry == false);\n",
    "\n",
    "                    // store the nickname in the ourAnimals array\n",
    "                    ourAnimals[i, 3] = \"Nickname: \" + animalNickname;\n",
    "                }\n",
    "\n",
    "                // ------ animalPersonalityDescription  ------------\n",
    "\n",
    "                if (ourAnimals[i, 0] != \"ID #: \" && ourAnimals[i, 5] == \"Personality: \" || ourAnimals[i, 5] == \"Personality: tbd\")\n",
    "                {\n",
    "                    // enter animal personality, no null, no tbd\n",
    "                    string id = ourAnimals[i, 0];\n",
    "\n",
    "                    do\n",
    "                    {\n",
    "                        Console.WriteLine($\"Enter a personality description for {id} (likes or dislikes, tricks, energy level)\");\n",
    "                        readResult = Console.ReadLine();\n",
    "                        if (readResult != null)\n",
    "                        {\n",
    "                            animalPersonalityDescription  = readResult.ToLower();\n",
    "\n",
    "                            if (animalPersonalityDescription  == \"\")\n",
    "                            {\n",
    "                                validEntry = false;\n",
    "                                // if value is blank (hit enter), repeat the do loop\n",
    "                            }\n",
    "                            else\n",
    "                            {\n",
    "                                validEntry = true;\n",
    "                                // if value is true, end loop and set value to field\n",
    "                            }\n",
    "                        }\n",
    "\n",
    "                    } while (validEntry == false);\n",
    "\n",
    "                    // store the personality in the ourAnimals array\n",
    "                    ourAnimals[i, 5] = \"Personality: \" + animalPersonalityDescription ;\n",
    "                }\n",
    "            }\n",
    "            \n",
    "            Console.WriteLine(\"Nickname and personality description fields are complete for all of our friends. \\nPress the Enter key to continue\");\n",
    "            readResult = Console.ReadLine();\n",
    "            break;"
   ]
  },
  {
   "cell_type": "markdown",
   "metadata": {},
   "source": [
    "##### **Checking Work**"
   ]
  },
  {
   "cell_type": "markdown",
   "metadata": {},
   "source": [
    "![](./Assets/challenge_not_valid_values2.png)\n",
    "\n",
    "![](./Assets/challenge_enter_values2.png)\n",
    "\n",
    "![](./Assets/challenge_valid_values2.png)\n"
   ]
  },
  {
   "cell_type": "markdown",
   "metadata": {},
   "source": [
    "#### ❓ **Check Knowledge: Terminal Errors / Warnings, While vs Do Statements**\n"
   ]
  },
  {
   "cell_type": "markdown",
   "metadata": {},
   "source": [
    "1. A developer is writing an application in Visual Studio Code. They save changes to their `Program.cs` file, and then run the `dotnet build` command in the Terminal panel. What information can they find in reported Error and Warning messages?  \n",
    "    * ❌ One or more suggestions for how to fix any syntax issues detected.\n",
    "    * ✔️ The line number and information about what caused the error.\n",
    "    * ❌ Links to help documentation.\n",
    "\n",
    "    <br>\n",
    "\n",
    "2. A developer needs to create an iteration statement. Under what condition is a `while` statement a better choice than a `do` statement? \n",
    "    * ❌ When the expression values evaluated by the iteration statement are unknown prior to the iteration code block.\n",
    "    * ✔️ When the expression values evaluated by the iteration statement are known prior to the iteration code block.\n",
    "        * When the code is able to evaluate the loop expression prior to the loop, a while statement allows the code to implement zero iterations.\n",
    "    * ❌ When the developer creates nested do or while loops."
   ]
  },
  {
   "cell_type": "markdown",
   "metadata": {},
   "source": [
    "#### **SUMMARY**\n"
   ]
  },
  {
   "cell_type": "markdown",
   "metadata": {},
   "source": [
    "* Your goal was to demonstrate the ability to develop features of an application that achieve a design specification. \n",
    "* You needed to choose and implement the appropriate iteration and selection statement types to meet the stated requirements.\n",
    "* By creating nested combinations of iteration and selection statements, you built a user interface that enables the application user to enter valid pet data that filled gaps in the ourAnimals array.\n",
    "* Your ability to implement features of the Contoso Pets application based on a design specification demonstrates your understanding of the iteration and selection statements."
   ]
  },
  {
   "cell_type": "markdown",
   "metadata": {},
   "source": [
    "_________________________\n",
    "\n",
    "## ***[Work with variable data in C# console applications<br> (Get started with C#, Part 4)](https://learn.microsoft.com/en-us/training/paths/get-started-c-sharp-part-4/)***\n",
    "\n",
    "_________________________"
   ]
  },
  {
   "cell_type": "markdown",
   "metadata": {},
   "source": [
    "_________________________\n",
    "\n",
    "### [Choose the correct data type in your C# code](https://learn.microsoft.com/en-us/training/modules/csharp-choose-data-type/)\n",
    "\n",
    "_________________________"
   ]
  },
  {
   "cell_type": "markdown",
   "metadata": {},
   "source": [
    "####  ✔️ **Learning Objectives:**"
   ]
  },
  {
   "cell_type": "markdown",
   "metadata": {},
   "source": [
    "* Learn the fundamental differences between value types and reference types.\n",
    "* Describe the properties of many new numeric data types, including new integral types and floating-point types.\n",
    "* Write code that returns the maximum and minimum values that numeric data types can store.\n",
    "* Use the `new` keyword to create new instances of a reference type.\n",
    "* Determine which data type you should choose for a given application."
   ]
  },
  {
   "cell_type": "markdown",
   "metadata": {},
   "source": [
    "####  **Introduction:**"
   ]
  },
  {
   "cell_type": "markdown",
   "metadata": {},
   "source": [
    "![](./Assets/data-type-intro.png)"
   ]
  },
  {
   "cell_type": "markdown",
   "metadata": {},
   "source": [
    "#### **Discover value types and reference types**"
   ]
  },
  {
   "cell_type": "markdown",
   "metadata": {},
   "source": [
    "* Values are stored as bits, which are simple on / off switches. Combining enough of these switches allows you to store just about any possible value.\n",
    "* There are two basic categories of data types: `value` and `reference` types. The difference is in how and where the values are stored by the computer as your program executes.\n",
    "* Simple value types use a keyword alias to represent formal names of types in the .NET Library."
   ]
  },
  {
   "cell_type": "markdown",
   "metadata": {},
   "source": [
    "##### ***What is data?***"
   ]
  },
  {
   "cell_type": "markdown",
   "metadata": {},
   "source": [
    "Software Development definitions of \n",
    "\n",
    "**Data**: \n",
    "* a value stored in the computer's memory\n",
    "* as a series of bits\n",
    "\n",
    "**Bit**:\n",
    "* binary switch represented as 0 (off) or 1 (on)\n",
    "* `8` bits in a sequence = byte\n",
    "    * The `8-bits`: 128, 64, 32, 16, 8, 4, 2, 1\n",
    "\n",
    "**Byte**:\n",
    "* `256` different combos of `8`-bits if using binary numeral system (0/1, base-2) \n",
    "\n",
    "**eg**:\n",
    "* `195` is represented as `11000011`\n",
    "\n",
    "![](./Assets/binary-example.png)\n",
    "\n",
    "**How?**\n",
    "* Add up the values with a `1` (switch is on)\n",
    "* `128` + `64` + `2` + `1` = `195`\n",
    "\n",
    "**Combos over `255`?**\n",
    "* use `32`-bit or `64`-bit\n",
    "* working with millions of large numbers = requirement for more bits\n",
    "* need to consider data type choices and memory requirements"
   ]
  },
  {
   "cell_type": "markdown",
   "metadata": {},
   "source": [
    "##### ***Textual Data***"
   ]
  },
  {
   "cell_type": "markdown",
   "metadata": {},
   "source": [
    "**ASCII (American Standard Code for Information Interchange) lookup decimal** \n",
    "* uses a single byte to represent:\n",
    "    * upper and lowercase letters, numbers, tab, backspace, newline and math symbols\n",
    "\n",
    "\n",
    "**eg:**\n",
    "* task: store lower-case `a` as a value\n",
    "* Computer doesn't understand this -> only understands the binary form of that value\n",
    "\n",
    "![](./Assets/ascii.png)"
   ]
  },
  {
   "cell_type": "markdown",
   "metadata": {},
   "source": [
    "**How to manually find binary number from decimal value?**\n",
    "\n",
    "* [coursehero instructions](https://www.coursehero.com/file/28166156/Binary-to-decimal-instructionsdocx/)\n",
    "    * Note: 0 = false, 1 = true\n",
    "\n",
    "    \n",
    "    * Step 1: what is the decimal value? 97\n",
    "    * Step 2: \n",
    "        * 97 >= **128** ? 0\n",
    "        * 97 >= **64** ? `1`\n",
    "            * (97 - 64) = 33\n",
    "            * 33 >= **32** ? `1`\n",
    "                * (33 - 32) = 1\n",
    "                * 1 >= **16** ? 0\n",
    "                * 1 >= **8** ? 0\n",
    "                * 1 >= **4** ? 0\n",
    "                * 1 >= **2** ? 0\n",
    "                * 1 >= **1** ? `1`\n",
    "    * Result:\n",
    "        * 01100001"
   ]
  },
  {
   "cell_type": "markdown",
   "metadata": {},
   "source": [
    "**Exercise**\n",
    "\n",
    "* Name: kristy\n",
    "* [ASCII](https://www.browserling.com/tools/text-to-ascii) values: 107 114 105 115 116 121\n",
    "\n",
    "Binary Calculations:\n",
    "* k = 107 = 01101011\n",
    "    * 107 >= 128? 0\n",
    "    * `107 >= 64? 1`\n",
    "    * 107 - 64 = 43\n",
    "    * `43 >= 32? 1`\n",
    "    * 43 - 32 = 11\n",
    "    * 11 >= 16? 0\n",
    "    * `11 >= 8? 1`\n",
    "    * 11 - 8 = 3\n",
    "    * 3 >= 4? 0\n",
    "    * `3 >= 2? 1`\n",
    "    * 3 - 2 = 1\n",
    "    * `1 >= 1? 1`"
   ]
  },
  {
   "cell_type": "markdown",
   "metadata": {},
   "source": [
    "##### ***What is a data type?***"
   ]
  },
  {
   "cell_type": "markdown",
   "metadata": {},
   "source": [
    "* way a programming language (C#) defines how much memory to store for a value\n",
    "\n",
    "* many exist, but focussing on reference and value types\n",
    "\n",
    "* variables of reference types:\n",
    "    * store references to data (objects)\n",
    "    * point to data values stored somewhere else\n",
    "    \n",
    "    <br>\n",
    "\n",
    "* variables of value types:\n",
    "    * directly contain data"
   ]
  },
  {
   "cell_type": "markdown",
   "metadata": {},
   "source": [
    "**Simple value types**\n",
    "\n",
    "* set of predefined types --> provided by C# --> as keywords\n",
    "* keywords are aliases (nicknames) --> for predefined types --> defined in .NET class library\n",
    "* eg:\n",
    "    * keyword: `int` --> alias of value type in `System.Int32` --> from .NET class libarary\n",
    "    * other simple value type keywords: `bool`, `char`\n",
    "* Other value types: include integral and floating-point\n"
   ]
  },
  {
   "cell_type": "markdown",
   "metadata": {},
   "source": [
    "#### ❓ **Check Knowledge: bits**"
   ]
  },
  {
   "cell_type": "markdown",
   "metadata": {},
   "source": [
    "1. Which choice best represents how bits represent on and off?  \n",
    "    * ❌ Bits are represented by \"x\" or \"o\"\n",
    "    * ❌ Bits are represented by \"+bit\" or \"-bit\"\n",
    "    * ✔️ Bits are binary and represented by \"1\" or \"0\"\n"
   ]
  },
  {
   "cell_type": "markdown",
   "metadata": {},
   "source": [
    "#### 🚀 **[Exercise - Discover integral types](https://learn.microsoft.com/en-us/training/modules/csharp-choose-data-type/3-exercise-integral-types)**"
   ]
  },
  {
   "cell_type": "markdown",
   "metadata": {},
   "source": [
    "* An integral type is a simple value data type that can hold whole numbers.\n",
    "* There are `signed` and `unsigned` numeric data types. Signed integral types use 1 bit to store whether the value is positive or negative.\n",
    "* You can use the `MaxValue` and `MinValue` properties of numeric data types to evaluate whether a number can fit in a given data type."
   ]
  },
  {
   "cell_type": "markdown",
   "metadata": {},
   "source": [
    "##### ***Integral Types - signed and unsigned***"
   ]
  },
  {
   "cell_type": "markdown",
   "metadata": {},
   "source": [
    "* simple value type\n",
    "* represents whole numbers with no fractions\n",
    "    * eg: -1, 0, 1, 2 etc\n",
    "* popular type is `int` data type\n",
    "* 2 sub categories of integral types: `signed` & `unsigned`\n",
    "* `signed`: uses bytes to represent equal number of positive and negative numbers\n",
    "* `unsigned`: uses bytes to repreesnt only positive numbers. "
   ]
  },
  {
   "cell_type": "markdown",
   "metadata": {},
   "source": [
    "##### ***Signed Integral Types***"
   ]
  },
  {
   "cell_type": "markdown",
   "metadata": {},
   "source": [
    "**Use the MinValue and MaxValue properties for each signed integral type**"
   ]
  },
  {
   "cell_type": "code",
   "execution_count": null,
   "metadata": {
    "dotnet_interactive": {
     "language": "csharp"
    },
    "polyglot_notebook": {
     "kernelName": "csharp"
    },
    "vscode": {
     "languageId": "polyglot-notebook"
    }
   },
   "outputs": [
    {
     "name": "stdout",
     "output_type": "stream",
     "text": [
      "Signed integral types:\n",
      "sbyte  : -128 to 127\n",
      "short  : -32768 to 32767\n",
      "int    : -2147483648 to 2147483647\n",
      "long   : -9223372036854775808 to 9223372036854775807\n"
     ]
    }
   ],
   "source": [
    "Console.WriteLine(\"Signed integral types:\");\n",
    "\n",
    "Console.WriteLine($\"sbyte  : {sbyte.MinValue} to {sbyte.MaxValue}\");\n",
    "Console.WriteLine($\"short  : {short.MinValue} to {short.MaxValue}\");\n",
    "Console.WriteLine($\"int    : {int.MinValue} to {int.MaxValue}\");\n",
    "Console.WriteLine($\"long   : {long.MinValue} to {long.MaxValue}\");"
   ]
  },
  {
   "cell_type": "markdown",
   "metadata": {},
   "source": [
    "##### ***Unsigned Integral Types***"
   ]
  },
  {
   "cell_type": "markdown",
   "metadata": {},
   "source": [
    "**Use the MinValue and MaxValue properties for each signed integral type**"
   ]
  },
  {
   "cell_type": "code",
   "execution_count": null,
   "metadata": {
    "dotnet_interactive": {
     "language": "csharp"
    },
    "polyglot_notebook": {
     "kernelName": "csharp"
    },
    "vscode": {
     "languageId": "polyglot-notebook"
    }
   },
   "outputs": [
    {
     "name": "stdout",
     "output_type": "stream",
     "text": [
      "\n",
      "Unsigned integral types:\n",
      "byte   : 0 to 255\n",
      "ushort : 0 to 65535\n",
      "uint   : 0 to 4294967295\n",
      "ulong  : 0 to 18446744073709551615\n"
     ]
    }
   ],
   "source": [
    "Console.WriteLine(\"\");\n",
    "Console.WriteLine(\"Unsigned integral types:\");\n",
    "\n",
    "Console.WriteLine($\"byte   : {byte.MinValue} to {byte.MaxValue}\");\n",
    "Console.WriteLine($\"ushort : {ushort.MinValue} to {ushort.MaxValue}\");\n",
    "Console.WriteLine($\"uint   : {uint.MinValue} to {uint.MaxValue}\");\n",
    "Console.WriteLine($\"ulong  : {ulong.MinValue} to {ulong.MaxValue}\");"
   ]
  },
  {
   "cell_type": "markdown",
   "metadata": {},
   "source": [
    "**Storing bytes of data**\n",
    "\n",
    "* While a given data type can be used for many cases, given the fact that the byte data type can represent a value from 0 to 255, it's obvious that this is intended to hold a value that represents a byte of data. \n",
    "\n",
    "* Data stored in files or data transferred across the internet is often in a binary format. \n",
    "\n",
    "* When working with data from these external sources, you need to: \n",
    "    * receive data as an array of bytes\n",
    "    * then convert them into strings. \n",
    "\n",
    "    <br>\n",
    "    \n",
    "* Many of the methods in the .NET Class Library that deal with encoding and decoding data requires you handle byte arrays."
   ]
  },
  {
   "cell_type": "markdown",
   "metadata": {},
   "source": [
    "##### ❓ **Check Knowledge: Integrals**"
   ]
  },
  {
   "cell_type": "markdown",
   "metadata": {},
   "source": [
    "1. Which data type has a range of whole numbers between 0 and 65535 in C# code? \n",
    "    * ❌ sbyte\n",
    "    * ✔️ ushort\n",
    "    * ❌ byte\n"
   ]
  },
  {
   "cell_type": "markdown",
   "metadata": {},
   "source": [
    "#### 🚀 **[Exercise - Discover floating-point types](https://learn.microsoft.com/en-us/training/modules/csharp-choose-data-type/4-exercise-floating-point-types)**"
   ]
  },
  {
   "cell_type": "markdown",
   "metadata": {},
   "source": [
    "* A floating-point type is a simple value data type that can hold fractional numbers (to the right of the decimal).\n",
    "* Choosing the right floating-point type for your application requires you to consider more than just the maximum and minimum values that it can hold. \n",
    "* You must also consider how many values can be preserved after the decimal, how the numbers are stored, and how their internal storage affects the outcome of math operations.\n",
    "* Floating-point values can sometimes be represented using \"E notation\" when the numbers grow especially large.\n",
    "* There's a fundamental difference in how the compiler and runtime handle decimal as opposed to float or double, especially when determining how much accuracy is necessary from math operations."
   ]
  },
  {
   "cell_type": "markdown",
   "metadata": {},
   "source": [
    "##### ***Evaluate floating-point types***"
   ]
  },
  {
   "cell_type": "markdown",
   "metadata": {},
   "source": [
    "1. consider the digits of precision for each type\n",
    "    * precision = number of value places stored after the decimal point\n",
    "\n",
    "2. consider the way values are stored and impact on accuracy\n",
    "    * eg: \n",
    "        * `float` + `double` stored internally as binary (Base-2)\n",
    "        * `decimal` stored in decimal (Base-10) format\n",
    "\n",
    "\n",
    "**What is the impact of `float` or `double` vs `decimal`?**\n",
    "\n",
    "| data type | storage | positive | negative | use case |\n",
    "| - | - | - | - | - |\n",
    "| `float`, `double` | base-2 | small memory footprint | approximation | calc splatter of snowball in a video game |\n",
    "| `decimal` | base-10 | precision | large memory footprint | financial data or accuracy of calculation required |\n",
    "\n",
    "\n",
    "\n"
   ]
  },
  {
   "cell_type": "markdown",
   "metadata": {},
   "source": [
    "##### ***Use the MinValue and MaxValue properties for each signed float type***"
   ]
  },
  {
   "cell_type": "code",
   "execution_count": null,
   "metadata": {
    "dotnet_interactive": {
     "language": "csharp"
    },
    "polyglot_notebook": {
     "kernelName": "csharp"
    },
    "vscode": {
     "languageId": "polyglot-notebook"
    }
   },
   "outputs": [
    {
     "name": "stdout",
     "output_type": "stream",
     "text": [
      "\n",
      "Floating point types:\n",
      "float  : -3.4028235E+38 to 3.4028235E+38 (with ~6-9 digits of precision)\n",
      "double : -1.7976931348623157E+308 to 1.7976931348623157E+308 (with ~15-17 digits of precision)\n",
      "decimal: -79228162514264337593543950335 to 79228162514264337593543950335 (with 28-29 digits of precision)\n"
     ]
    }
   ],
   "source": [
    "Console.WriteLine(\"\");\n",
    "Console.WriteLine(\"Floating point types:\");\n",
    "Console.WriteLine($\"float  : {float.MinValue} to {float.MaxValue} (with ~6-9 digits of precision)\");\n",
    "Console.WriteLine($\"double : {double.MinValue} to {double.MaxValue} (with ~15-17 digits of precision)\");\n",
    "Console.WriteLine($\"decimal: {decimal.MinValue} to {decimal.MaxValue} (with 28-29 digits of precision)\");"
   ]
  },
  {
   "cell_type": "markdown",
   "metadata": {},
   "source": [
    "##### ***Deciphering large floating-point values***"
   ]
  },
  {
   "cell_type": "markdown",
   "metadata": {},
   "source": [
    "* floating-point types can hold large numbers with precision\n",
    "* values can be represented as E-Notation\n",
    "    * E notation = \"times 10 raised to the power of\"\n",
    "    * eg:\n",
    "        * `5E+2`\n",
    "        * 5 * 10 ^ 2\n",
    "        * 5 x 10squared\n",
    "        * 5 x 100\n",
    "        * = 500\n",
    "\n"
   ]
  },
  {
   "cell_type": "markdown",
   "metadata": {},
   "source": [
    "##### ❓ **Check Knowledge: floating-type**"
   ]
  },
  {
   "cell_type": "markdown",
   "metadata": {},
   "source": [
    "1. Which is the best data type to use to process banking deposits? \n",
    "    * ✔️ decimal\n",
    "    * ❌ float\n",
    "    * ❌ double"
   ]
  },
  {
   "cell_type": "markdown",
   "metadata": {},
   "source": [
    "#### 🚀 **[Exercise - Discover reference types](https://learn.microsoft.com/en-us/training/modules/csharp-choose-data-type/5-exercise-reference-types)**"
   ]
  },
  {
   "cell_type": "markdown",
   "metadata": {},
   "source": [
    "Reference types:\n",
    "* Reference types include arrays, classes, and strings. \n",
    "* Reference types are treated differently from value types regarding the way values are stored when the application is executing.\n",
    "* Reference types can hold large values, and a new instance of a reference type is created using the `new` operator.\n",
    "* Reference type variables hold a reference (the memory address) to the actual value stored in the heap. \n",
    "* Use the `new` operator to associate a variable with a value in the computer's memory\n",
    "\n",
    "Value types:\n",
    "* Value types can hold smaller values and are stored in the stack. "
   ]
  },
  {
   "cell_type": "markdown",
   "metadata": {},
   "source": [
    "##### ***How `reference` types are different from `value` types (`heap` vs `stack`)***"
   ]
  },
  {
   "cell_type": "markdown",
   "metadata": {},
   "source": [
    "**Storing a value type in the stack**\n",
    "\n",
    "* A `value type` variable stores its values directly in area of storage called the `stack`.\n",
    "    * `stack`: is memory allocated to the code that is currently running on the CPU \n",
    "    * Also known as the stack frame, or activation frame. \n",
    "    * When the stack frame has finished executing, the values in the stack are removed.\n",
    "\n",
    "**Storing a reference type in the heap**\n",
    "\n",
    "* A `reference type` variable stores its values in a separate memory region called the `heap`. \n",
    "    * The `heap` is a memory area that is shared across many applications running on the operating system at the same time\n",
    "    * The .NET Runtime: \n",
    "        1. communicates with the operating system to determine what memory addresses are available\n",
    "        2. requests an address where it can store the value\n",
    "        3. stores the value\n",
    "        4. returns the memory address to the variable\n",
    "    * When your code uses the variable, the .NET Runtime: \n",
    "        1. seamlessly looks up the address stored in the variable\n",
    "        2. retrieves the value that's stored there."
   ]
  },
  {
   "cell_type": "markdown",
   "metadata": {},
   "source": [
    "##### ***Define a reference type variable***"
   ]
  },
  {
   "cell_type": "code",
   "execution_count": null,
   "metadata": {
    "dotnet_interactive": {
     "language": "csharp"
    },
    "polyglot_notebook": {
     "kernelName": "csharp"
    },
    "vscode": {
     "languageId": "polyglot-notebook"
    }
   },
   "outputs": [],
   "source": [
    "int[] data;\n",
    "data = new int[3];"
   ]
  },
  {
   "cell_type": "markdown",
   "metadata": {},
   "source": [
    "| step | code | explanation |\n",
    "| - | - | - |\n",
    "| 1. |`int[] =` | • defines a variable `{data}` that holds a value type: int array |\n",
    "| 2. |`data;` | • variable that could hold a reference <br> • reference = memory address of value in the heap |\n",
    "| | | |\n",
    "| 3. | `new` | • informs .NET runtime to create instance of int array or `data`  |\n",
    "| 4. |`int[3];` | • coordinates with the OS to store array sized for `[3]` `int` values in memory <br> • .NET runtime complies and returns memory address of the `new` `int` array  |\n",
    "| 5.  |`data =` | • returned memory address stored in variable data <br> • `int` array elements default to the default value of an `int` (0)  |"
   ]
  },
  {
   "cell_type": "code",
   "execution_count": null,
   "metadata": {
    "dotnet_interactive": {
     "language": "csharp"
    },
    "polyglot_notebook": {
     "kernelName": "csharp"
    },
    "vscode": {
     "languageId": "polyglot-notebook"
    }
   },
   "outputs": [],
   "source": [
    "int[] data = new int[3];"
   ]
  },
  {
   "cell_type": "markdown",
   "metadata": {},
   "source": [
    "##### ***String data type***"
   ]
  },
  {
   "cell_type": "markdown",
   "metadata": {},
   "source": [
    "* C# string data type is a refernce type\n",
    "    * reference type variable stores values in the heap\n",
    "* `new` not required when declaring a string\n",
    "    * just a convenience as it's used more frequently    "
   ]
  },
  {
   "cell_type": "code",
   "execution_count": null,
   "metadata": {
    "dotnet_interactive": {
     "language": "csharp"
    },
    "polyglot_notebook": {
     "kernelName": "csharp"
    },
    "vscode": {
     "languageId": "polyglot-notebook"
    }
   },
   "outputs": [
    {
     "name": "stdout",
     "output_type": "stream",
     "text": [
      "hiya\r\n"
     ]
    }
   ],
   "source": [
    "string shortenedString = \"hiya\";\n",
    "Console.WriteLine(shortenedString);\n",
    "\n",
    "// note: no use of new keyword\n",
    "// behind the scenes:\n",
    "    // new instance of System.String is created and initialised to \"hiya\""
   ]
  },
  {
   "cell_type": "markdown",
   "metadata": {},
   "source": [
    "#### ❓ **Check Knowledge: `new` operator**"
   ]
  },
  {
   "cell_type": "markdown",
   "metadata": {},
   "source": [
    "1. What variable type is created if the `new` operator is used to create a variable?  \n",
    "    * ❌ value\n",
    "    * ✔️ reference\n",
    "    * ❌ integer type"
   ]
  },
  {
   "cell_type": "markdown",
   "metadata": {},
   "source": [
    "#### **Choose the right data type**"
   ]
  },
  {
   "cell_type": "markdown",
   "metadata": {},
   "source": [
    "* When you need to retrieve, manipulate, and store different types of data, which data types do you use?\n",
    "* When you need to work with text, then you default to using the string data type unless you need to perform a significant amount of concatenation.\n",
    "* But what about working with numeric data? There are 11 different options. How do you choose the right data type?"
   ]
  },
  {
   "cell_type": "markdown",
   "metadata": {},
   "source": [
    "##### ***Choose the data type that meets the boundary value range requirements of your application***"
   ]
  },
  {
   "cell_type": "code",
   "execution_count": 33,
   "metadata": {
    "dotnet_interactive": {
     "language": "csharp"
    },
    "polyglot_notebook": {
     "kernelName": "csharp"
    },
    "vscode": {
     "languageId": "polyglot-notebook"
    }
   },
   "outputs": [
    {
     "name": "stdout",
     "output_type": "stream",
     "text": [
      "Signed integral types:\n",
      "sbyte  : -128 to 127\n",
      "short  : -32768 to 32767\n",
      "int    : -2147483648 to 2147483647\n",
      "long   : -9223372036854775808 to 9223372036854775807\n",
      "\n",
      "Unsigned integral types:\n",
      "byte   : 0 to 255\n",
      "ushort : 0 to 65535\n",
      "uint   : 0 to 4294967295\n",
      "ulong  : 0 to 18446744073709551615\n",
      "\n",
      "Floating point types:\n",
      "float  : -3.4028235E+38 to 3.4028235E+38 (with ~6-9 digits of precision)\n",
      "double : -1.7976931348623157E+308 to 1.7976931348623157E+308 (with ~15-17 digits of precision)\n",
      "decimal: -79228162514264337593543950335 to 79228162514264337593543950335 (with 28-29 digits of precision)\n"
     ]
    }
   ],
   "source": [
    "Console.WriteLine(\"Signed integral types:\");\n",
    "\n",
    "Console.WriteLine($\"sbyte  : {sbyte.MinValue} to {sbyte.MaxValue}\");\n",
    "Console.WriteLine($\"short  : {short.MinValue} to {short.MaxValue}\");\n",
    "Console.WriteLine($\"int    : {int.MinValue} to {int.MaxValue}\");\n",
    "Console.WriteLine($\"long   : {long.MinValue} to {long.MaxValue}\");\n",
    "\n",
    "Console.WriteLine(\"\");\n",
    "Console.WriteLine(\"Unsigned integral types:\");\n",
    "\n",
    "Console.WriteLine($\"byte   : {byte.MinValue} to {byte.MaxValue}\");\n",
    "Console.WriteLine($\"ushort : {ushort.MinValue} to {ushort.MaxValue}\");\n",
    "Console.WriteLine($\"uint   : {uint.MinValue} to {uint.MaxValue}\");\n",
    "Console.WriteLine($\"ulong  : {ulong.MinValue} to {ulong.MaxValue}\");\n",
    "\n",
    "Console.WriteLine(\"\");\n",
    "Console.WriteLine(\"Floating point types:\");\n",
    "Console.WriteLine($\"float  : {float.MinValue} to {float.MaxValue} (with ~6-9 digits of precision)\");\n",
    "Console.WriteLine($\"double : {double.MinValue} to {double.MaxValue} (with ~15-17 digits of precision)\");\n",
    "Console.WriteLine($\"decimal: {decimal.MinValue} to {decimal.MaxValue} (with 28-29 digits of precision)\");"
   ]
  },
  {
   "cell_type": "markdown",
   "metadata": {},
   "source": [
    "Your choice of a data type can help to set the boundaries for the size of the data you might store in that particular variable. \n",
    "\n",
    "**For example:**\n",
    "* **`SITUATION:`**\n",
    "    * a particular variable should only store a number between `1 and 10,000` \n",
    "    \n",
    "    <br> \n",
    "    \n",
    "* **`BOUNDARIES:`**\n",
    "    * can't be `< 1 || > 10,000`\n",
    "        \n",
    "    <br> \n",
    "    \n",
    "* **`AVOID:`** \n",
    "    * `byte` and `sbyte` --> their ranges are too low.\n",
    "    * `int`, `long`, `uint`, and `ulong` --> can store more data than is necessary. \n",
    "    * `float`, `double`, and `decimal` --> don't need fractional values. \n",
    "        \n",
    "    <br> \n",
    "    \n",
    "* **`SUGGESTION:`** \n",
    "    * `short` and `ushort` --> both may be viable. \n",
    "        \n",
    "    <br> \n",
    "    \n",
    "* **`NEGATIVE NOT REQUIRED:`** \n",
    "    * `ushort` --> positive unsigned integer, 0 to 65,535. \n",
    "        \n",
    "    <br> \n",
    "    \n",
    "* **`EXCEPTION:`** \n",
    "    * Any value assigned to a variable of type `ushort` outside of the boundary of `0 to 65535` would throw an exception, \n",
    "    * subtly helping you enforce a degree of sanity checking in your application."
   ]
  },
  {
   "cell_type": "markdown",
   "metadata": {},
   "source": [
    "##### ***Start with choosing the data type to fit the data (not to optimize performance)***"
   ]
  },
  {
   "cell_type": "markdown",
   "metadata": {},
   "source": [
    "* Don't *\"prematurely optimize\"*. \n",
    "    * resist the temptation to guess at the parts of your code, including the selection of data types that may impact your application's performance.\n",
    "* *Choose the right fit for your data*, then later... \n",
    "    * empirically measure the performance of your application using special software that provides factual insights to the parts of your application that negatively impact performance."
   ]
  },
  {
   "cell_type": "markdown",
   "metadata": {},
   "source": [
    "##### ***Choose data types based on the input and output data types of library functions used***"
   ]
  },
  {
   "cell_type": "markdown",
   "metadata": {},
   "source": [
    "![](./Assets/data-type-choice.png)"
   ]
  },
  {
   "cell_type": "code",
   "execution_count": 34,
   "metadata": {
    "dotnet_interactive": {
     "language": "csharp"
    },
    "polyglot_notebook": {
     "kernelName": "csharp"
    },
    "vscode": {
     "languageId": "polyglot-notebook"
    }
   },
   "outputs": [
    {
     "name": "stdout",
     "output_type": "stream",
     "text": [
      "byte   : 0 to 255\n",
      "sbyte  : -128 to 127\n",
      "double : -1.7976931348623157E+308 to 1.7976931348623157E+308 (with ~15-17 digits of precision)\n",
      "int    : -2147483648 to 2147483647\n"
     ]
    }
   ],
   "source": [
    "Console.WriteLine($\"byte   : {byte.MinValue} to {byte.MaxValue}\");\n",
    "Console.WriteLine($\"sbyte  : {sbyte.MinValue} to {sbyte.MaxValue}\");\n",
    "Console.WriteLine($\"double : {double.MinValue} to {double.MaxValue} (with ~15-17 digits of precision)\");\n",
    "Console.WriteLine($\"int    : {int.MinValue} to {int.MaxValue}\");"
   ]
  },
  {
   "cell_type": "markdown",
   "metadata": {},
   "source": [
    "##### ***Choose data types based on impact to other systems***"
   ]
  },
  {
   "cell_type": "markdown",
   "metadata": {},
   "source": [
    "* consider how the information will be consumed by other applications or other systems like a database. \n",
    "\n",
    "* **For example**\n",
    "    * SQL Server's type system is different from C#'s type system. \n",
    "    * As a result, some mapping between the two must happen before you can save data into that database.\n",
    "\n",
    "    <br>\n",
    "    \n",
    "* If your application's purpose is to interface with a database, then you need to consider how the data is stored and how much data is stored. \n",
    "* The choice of a larger data type might impact the amount (and cost) of the physical storage required to store all the data your application will generate."
   ]
  },
  {
   "cell_type": "markdown",
   "metadata": {},
   "source": [
    "##### ***When in doubt, stick with the basics***"
   ]
  },
  {
   "cell_type": "markdown",
   "metadata": {},
   "source": [
    "* `int` for most whole numbers\n",
    "* `decimal` for numbers representing money\n",
    "* `bool` for true or false values\n",
    "* `string` for alphanumeric value"
   ]
  },
  {
   "cell_type": "markdown",
   "metadata": {},
   "source": [
    "##### ***Choose specialty complex types for special situations***"
   ]
  },
  {
   "cell_type": "markdown",
   "metadata": {},
   "source": [
    "Don't reinvent data types if one or more data type already exists for a given purpose. \n",
    "\n",
    "The following examples identify where a specific .NET data types can be useful:\n",
    "\n",
    "* `byte`: working with encoded data that comes from other computer systems or using different character sets.\n",
    "* `double`: working with geometric or scientific purposes. double is used frequently when building games involving motion.\n",
    "* `System.DateTime` for a specific date and time value.\n",
    "* `System.TimeSpan` for a span of years / months / days / hours / minutes / seconds / milliseconds."
   ]
  },
  {
   "cell_type": "markdown",
   "metadata": {},
   "source": [
    "#### ❓ **Check Knowledge: choosing correct data types**"
   ]
  },
  {
   "cell_type": "markdown",
   "metadata": {},
   "source": [
    "1. A piece of code must store whole numeric values between negative and positive 1,000,000. Which data type should you choose? \n",
    "    * ❌ float\n",
    "    * ❌ double\n",
    "    * ✔️ int\n",
    "\n",
    "    <br>\n",
    "\n",
    "2. The code for a game needs to store lots of fractional values representing x, y, and z positions in a large 3D space. It will likely need to perform physics calculations for trajectories and so on. Absolute precision isn't required, but it's important that the program runs as efficiently as possible. Which data type is best? \n",
    "    * ✔️ float\n",
    "    * ❌ decimal\n",
    "    * ❌ int   \n",
    "\n",
    "    <br>\n",
    "\n",
    "3. Which of the following statements is true?  \n",
    "    * ❌ Reference types are stored in the stack.\n",
    "    * ❌ Value types can only store numbers.\n",
    "    * ✔️ Use the `new` operator to create a new instance of a reference type and return its address to the variable."
   ]
  },
  {
   "cell_type": "markdown",
   "metadata": {},
   "source": [
    "#### **Summary**"
   ]
  },
  {
   "cell_type": "markdown",
   "metadata": {},
   "source": [
    "* Choosing the right data type for your application is a vital programming skill. \n",
    "* Your goal was to understand the differences between each data type to make an informed decision on the data types in your code.\n",
    "* You've started building a mental model of how data is stored as your application executes. \n",
    "* You have experience working with new integral and floating point data types. \n",
    "* You have criteria you can use when deciding which data types to employ in your code. \n",
    "* Finally, you understand why you need to use the new keyword when creating instances of reference types."
   ]
  },
  {
   "cell_type": "markdown",
   "metadata": {},
   "source": [
    "_________________________\n",
    "\n",
    "### [Convert data types using casting and conversion techniques in C#](https://learn.microsoft.com/en-gb/training/modules/csharp-convert-cast/)\n",
    "\n",
    "_________________________"
   ]
  },
  {
   "cell_type": "markdown",
   "metadata": {},
   "source": [
    "####  ✔️ **Learning Objectives:**"
   ]
  },
  {
   "cell_type": "markdown",
   "metadata": {},
   "source": [
    "* Use the casting operator to cast a value into a different data type.\n",
    "* Use conversion methods to convert a value into a different data type.\n",
    "* Guard against the loss of data when performing a cast or conversion operation.\n",
    "* Use the `TryParse()` method to safely convert a string into a numeric data type."
   ]
  },
  {
   "cell_type": "markdown",
   "metadata": {},
   "source": [
    "####  **Introduction:**"
   ]
  },
  {
   "cell_type": "markdown",
   "metadata": {},
   "source": [
    "![](./Assets/cast-data-intro.png)"
   ]
  },
  {
   "cell_type": "markdown",
   "metadata": {},
   "source": [
    "#### 🚀 **[Exercise - Explore data type casting and conversion](https://learn.microsoft.com/en-gb/training/modules/csharp-convert-cast/2-exercise-data-type-conversion)**"
   ]
  },
  {
   "cell_type": "markdown",
   "metadata": {},
   "source": [
    "* Prevent a runtime error while performing a data conversion\n",
    "* Perform an explicit cast to tell the compiler you understand the risk of losing data\n",
    "    * Use the `()` cast operator and the data type to perform a cast <Br>(for example:` (int)myDecimal`)\n",
    "* Rely on the compiler to perform an implicit cast when performing an expanding conversion\n",
    "* Use the Convert class when you want to perform a narrowing conversion, but want to perform rounding, not a truncation of information"
   ]
  },
  {
   "cell_type": "markdown",
   "metadata": {},
   "source": [
    "##### **Data conversion techniques -> Implicit vs Explicit**"
   ]
  },
  {
   "cell_type": "markdown",
   "metadata": {},
   "source": [
    "***Ask these questions before choosing techique:***\n",
    "\n",
    "Is it possible, depending on the value, that attempting to change the value's data type would: \n",
    "1. throw an exception at run time?\n",
    "2. result in a loss of information?"
   ]
  },
  {
   "cell_type": "markdown",
   "metadata": {},
   "source": [
    "##### **Prepare:**"
   ]
  },
  {
   "cell_type": "markdown",
   "metadata": {},
   "source": [
    "![](./Assets/prep-test-env.png)"
   ]
  },
  {
   "cell_type": "markdown",
   "metadata": {},
   "source": [
    "##### **Changing value's data type throws an `exception` at run time**"
   ]
  },
  {
   "cell_type": "markdown",
   "metadata": {},
   "source": [
    "*`int` + `string` --> result as `int` or `string`?*"
   ]
  },
  {
   "cell_type": "code",
   "execution_count": 19,
   "metadata": {
    "dotnet_interactive": {
     "language": "csharp"
    },
    "polyglot_notebook": {
     "kernelName": "csharp"
    },
    "vscode": {
     "languageId": "polyglot-notebook"
    }
   },
   "outputs": [
    {
     "ename": "Error",
     "evalue": "(5,14): error CS0029: Cannot implicitly convert type 'string' to 'int'",
     "output_type": "error",
     "traceback": [
      "(5,14): error CS0029: Cannot implicitly convert type 'string' to 'int'"
     ]
    }
   ],
   "source": [
    "// enter int and string\n",
    "\n",
    "int first = 2;\n",
    "string second = \"4\";\n",
    "int result = first + second; // cast result as int\n",
    "Console.WriteLine(result);"
   ]
  },
  {
   "cell_type": "markdown",
   "metadata": {},
   "source": [
    "C# Compiler sees a potential problem:\n",
    "* if `string second = \"hello\"` and compiler converted to `int`: \n",
    "    * it would throw an exception\n",
    "* to avoid: \n",
    "    * compiler doesn't convert"
   ]
  },
  {
   "cell_type": "markdown",
   "metadata": {},
   "source": [
    "***Safer Alternative***"
   ]
  },
  {
   "cell_type": "markdown",
   "metadata": {},
   "source": [
    "Convert `int` to `string` and perform concatenation in result\n",
    "\n",
    "To explicitly perform addition instead of concatenation, convert the data using:\n",
    "* a helper method on the data type\n",
    "* a helper method on the variable\n",
    "* the `Convert` class' methods"
   ]
  },
  {
   "cell_type": "code",
   "execution_count": null,
   "metadata": {
    "dotnet_interactive": {
     "language": "csharp"
    },
    "polyglot_notebook": {
     "kernelName": "csharp"
    },
    "vscode": {
     "languageId": "polyglot-notebook"
    }
   },
   "outputs": [],
   "source": [
    "// enter int and string\n",
    "\n",
    "int first = 2;\n",
    "string second = \"4\";\n",
    "string result = first + second; // cast result as string\n",
    "Console.WriteLine(result);\n",
    "\n",
    "// compiler converts second to int "
   ]
  },
  {
   "cell_type": "markdown",
   "metadata": {},
   "source": [
    "##### **Changing value's data type = loss of information? <br> `widening` vs `narrowing`**"
   ]
  },
  {
   "cell_type": "markdown",
   "metadata": {},
   "source": [
    "`narrowing`: attempt to convert value from data type that holds more information than the destination:\n",
    "* eg: `decimal` > `int` \n",
    "    * narrowing \n",
    "    * 3.15 > 3\n",
    "    * loss of 0.15\n",
    "* EXCEPTION: \n",
    "    * Cannot implicitly convert type 'decimal' to 'int'. An explicit conversion exists (are you missing a cast?)\"\n",
    "* SOLUTION: \n",
    "    * cast --> `(int)`\n",
    "    * tells compiler loss of data is ok\n",
    "        \n",
    "\n",
    "        \n",
    "`widening`: attempt to convert value from data type that holds less information than the destination\n",
    "* eg: `int` > `decimal` \n",
    "    * widening \n",
    "    * 3 <> 3.15\n",
    "    * 3 fits into 3.15 = no loss of data"
   ]
  },
  {
   "cell_type": "markdown",
   "metadata": {},
   "source": [
    "##### ***Compiler Implicit vs `Cast`/Explicit Conversion***"
   ]
  },
  {
   "cell_type": "code",
   "execution_count": 17,
   "metadata": {
    "dotnet_interactive": {
     "language": "csharp"
    },
    "polyglot_notebook": {
     "kernelName": "csharp"
    },
    "vscode": {
     "languageId": "polyglot-notebook"
    }
   },
   "outputs": [
    {
     "name": "stdout",
     "output_type": "stream",
     "text": [
      "int: 3\n",
      "decimal: 3\n"
     ]
    }
   ],
   "source": [
    "/*\n",
    "    int --> decimal\n",
    "        no loss of data --> \n",
    "        widening conversion --> \n",
    "        implicit conversion\n",
    "*/\n",
    "\n",
    "int myInt = 3;\n",
    "Console.WriteLine($\"int: {myInt}\");\n",
    "\n",
    "decimal myDecimal = myInt; // converts myInt to a decimal\n",
    "Console.WriteLine($\"decimal: {myDecimal}\");"
   ]
  },
  {
   "cell_type": "code",
   "execution_count": 18,
   "metadata": {
    "dotnet_interactive": {
     "language": "csharp"
    },
    "polyglot_notebook": {
     "kernelName": "csharp"
    },
    "vscode": {
     "languageId": "polyglot-notebook"
    }
   },
   "outputs": [
    {
     "name": "stdout",
     "output_type": "stream",
     "text": [
      "decimal: 3.14\n",
      "int: 3\n"
     ]
    }
   ],
   "source": [
    "/*       \n",
    "    decimal --> int\n",
    "        loss of data --> \n",
    "        narrowing conversion -->\n",
    "        must manually cast -->\n",
    "        decimal data > int data\n",
    "*/\n",
    "\n",
    "decimal myDecimal = 3.14m;\n",
    "Console.WriteLine($\"decimal: {myDecimal}\");\n",
    "\n",
    "int myInt = (int)myDecimal;\n",
    "// (int) explicitly informs compiler: losing decimal precision off myDecimal is ok\n",
    "Console.WriteLine($\"int: {myInt}\");"
   ]
  },
  {
   "cell_type": "markdown",
   "metadata": {},
   "source": [
    "*Decimal -> Int*"
   ]
  },
  {
   "cell_type": "code",
   "execution_count": 10,
   "metadata": {
    "dotnet_interactive": {
     "language": "csharp"
    },
    "polyglot_notebook": {
     "kernelName": "csharp"
    },
    "vscode": {
     "languageId": "polyglot-notebook"
    }
   },
   "outputs": [
    {
     "ename": "Error",
     "evalue": "(4,13): error CS0266: Cannot implicitly convert type 'decimal' to 'int'. An explicit conversion exists (are you missing a cast?)",
     "output_type": "error",
     "traceback": [
      "(4,13): error CS0266: Cannot implicitly convert type 'decimal' to 'int'. An explicit conversion exists (are you missing a cast?)"
     ]
    }
   ],
   "source": [
    "decimal myDecimal = 3.15m;\n",
    "Console.WriteLine($\"Decimal: {myDecimal}\");\n",
    "\n",
    "int myInt = myDecimal;\n",
    "Console.WriteLine($\"Int: {myInt}\");"
   ]
  },
  {
   "cell_type": "code",
   "execution_count": 11,
   "metadata": {
    "dotnet_interactive": {
     "language": "csharp"
    },
    "polyglot_notebook": {
     "kernelName": "csharp"
    },
    "vscode": {
     "languageId": "polyglot-notebook"
    }
   },
   "outputs": [
    {
     "name": "stdout",
     "output_type": "stream",
     "text": [
      "Decimal: 3.15\n",
      "Int: 3\n"
     ]
    }
   ],
   "source": [
    "decimal myDecimal = 3.15m;\n",
    "Console.WriteLine($\"Decimal: {myDecimal}\");\n",
    "\n",
    "int myInt = (int)myDecimal;\n",
    "Console.WriteLine($\"Int: {myInt}\");"
   ]
  },
  {
   "cell_type": "markdown",
   "metadata": {},
   "source": [
    "*Decimal -> Float*"
   ]
  },
  {
   "cell_type": "code",
   "execution_count": 12,
   "metadata": {
    "dotnet_interactive": {
     "language": "csharp"
    },
    "polyglot_notebook": {
     "kernelName": "csharp"
    },
    "vscode": {
     "languageId": "polyglot-notebook"
    }
   },
   "outputs": [
    {
     "ename": "Error",
     "evalue": "(2,17): error CS0266: Cannot implicitly convert type 'decimal' to 'float'. An explicit conversion exists (are you missing a cast?)",
     "output_type": "error",
     "traceback": [
      "(2,17): error CS0266: Cannot implicitly convert type 'decimal' to 'float'. An explicit conversion exists (are you missing a cast?)"
     ]
    }
   ],
   "source": [
    "decimal myDecimal = 1.23456789m;\n",
    "float myFloat = myDecimal;\n",
    "\n",
    "Console.WriteLine($\"Decimal: {myDecimal}\");\n",
    "Console.WriteLine($\"Float  : {myFloat}\");"
   ]
  },
  {
   "cell_type": "code",
   "execution_count": 13,
   "metadata": {
    "dotnet_interactive": {
     "language": "csharp"
    },
    "polyglot_notebook": {
     "kernelName": "csharp"
    },
    "vscode": {
     "languageId": "polyglot-notebook"
    }
   },
   "outputs": [
    {
     "name": "stdout",
     "output_type": "stream",
     "text": [
      "Decimal: 1.23456789\n",
      "Float  : 1.2345679\n"
     ]
    }
   ],
   "source": [
    "decimal myDecimal = 1.23456789m;\n",
    "float myFloat = (float)myDecimal;\n",
    "\n",
    "Console.WriteLine($\"Decimal: {myDecimal}\");\n",
    "Console.WriteLine($\"Float  : {myFloat}\");"
   ]
  },
  {
   "cell_type": "markdown",
   "metadata": {},
   "source": [
    "##### ***Convert `string` to `int` with `Parse()` helper***"
   ]
  },
  {
   "cell_type": "code",
   "execution_count": 20,
   "metadata": {
    "dotnet_interactive": {
     "language": "csharp"
    },
    "polyglot_notebook": {
     "kernelName": "csharp"
    },
    "vscode": {
     "languageId": "polyglot-notebook"
    }
   },
   "outputs": [
    {
     "name": "stdout",
     "output_type": "stream",
     "text": [
      "12\r\n"
     ]
    }
   ],
   "source": [
    "string first = \"5\";\n",
    "string second = \"7\";\n",
    "int sum = int.Parse(first) + int.Parse(second);\n",
    "Console.WriteLine(sum);"
   ]
  },
  {
   "cell_type": "code",
   "execution_count": 22,
   "metadata": {
    "dotnet_interactive": {
     "language": "csharp"
    },
    "polyglot_notebook": {
     "kernelName": "csharp"
    },
    "vscode": {
     "languageId": "polyglot-notebook"
    }
   },
   "outputs": [
    {
     "name": "stdout",
     "output_type": "stream",
     "text": [
      "57\r\n"
     ]
    }
   ],
   "source": [
    "string first = \"5\";\n",
    "string second = \"7\";\n",
    "string sum = first + second;\n",
    "Console.WriteLine(sum);"
   ]
  },
  {
   "cell_type": "code",
   "execution_count": 21,
   "metadata": {
    "dotnet_interactive": {
     "language": "csharp"
    },
    "polyglot_notebook": {
     "kernelName": "csharp"
    },
    "vscode": {
     "languageId": "polyglot-notebook"
    }
   },
   "outputs": [
    {
     "ename": "Error",
     "evalue": "(3,11): error CS0029: Cannot implicitly convert type 'string' to 'int'",
     "output_type": "error",
     "traceback": [
      "(3,11): error CS0029: Cannot implicitly convert type 'string' to 'int'"
     ]
    }
   ],
   "source": [
    "string first = \"5\";\n",
    "string second = \"7\";\n",
    "int sum = first + second;\n",
    "Console.WriteLine(sum);"
   ]
  },
  {
   "cell_type": "code",
   "execution_count": 24,
   "metadata": {
    "dotnet_interactive": {
     "language": "csharp"
    },
    "polyglot_notebook": {
     "kernelName": "csharp"
    },
    "vscode": {
     "languageId": "polyglot-notebook"
    }
   },
   "outputs": [
    {
     "ename": "Error",
     "evalue": "(3,11): error CS0030: Cannot convert type 'string' to 'int'\r\n(3,24): error CS0030: Cannot convert type 'string' to 'int'",
     "output_type": "error",
     "traceback": [
      "(3,11): error CS0030: Cannot convert type 'string' to 'int'\r\n",
      "(3,24): error CS0030: Cannot convert type 'string' to 'int'"
     ]
    }
   ],
   "source": [
    "string first = \"5\";\n",
    "string second = \"7\";\n",
    "int sum = (int)first + (int)second;\n",
    "Console.WriteLine(sum);"
   ]
  },
  {
   "cell_type": "code",
   "execution_count": 23,
   "metadata": {
    "dotnet_interactive": {
     "language": "csharp"
    },
    "polyglot_notebook": {
     "kernelName": "csharp"
    },
    "vscode": {
     "languageId": "polyglot-notebook"
    }
   },
   "outputs": [
    {
     "ename": "Error",
     "evalue": "(3,14): error CS0030: Cannot convert type 'string' to 'int'\r\n(3,27): error CS0030: Cannot convert type 'string' to 'int'",
     "output_type": "error",
     "traceback": [
      "(3,14): error CS0030: Cannot convert type 'string' to 'int'\r\n",
      "(3,27): error CS0030: Cannot convert type 'string' to 'int'"
     ]
    }
   ],
   "source": [
    "string first = \"5\";\n",
    "string second = \"7\";\n",
    "string sum = (int)first + (int)second;\n",
    "Console.WriteLine(sum);"
   ]
  },
  {
   "cell_type": "markdown",
   "metadata": {},
   "source": [
    "##### ***Convert using `Parse()` vs `TryParse()` helper***"
   ]
  },
  {
   "cell_type": "code",
   "execution_count": 32,
   "metadata": {
    "dotnet_interactive": {
     "language": "csharp"
    },
    "polyglot_notebook": {
     "kernelName": "csharp"
    },
    "vscode": {
     "languageId": "polyglot-notebook"
    }
   },
   "outputs": [
    {
     "name": "stdout",
     "output_type": "stream",
     "text": [
      "12\r\n"
     ]
    }
   ],
   "source": [
    "string first = \"5\";\n",
    "int second = 7;\n",
    "int sum = int.Parse(first) + second;\n",
    "Console.WriteLine(sum);"
   ]
  },
  {
   "cell_type": "code",
   "execution_count": 30,
   "metadata": {
    "dotnet_interactive": {
     "language": "csharp"
    },
    "polyglot_notebook": {
     "kernelName": "csharp"
    },
    "vscode": {
     "languageId": "polyglot-notebook"
    }
   },
   "outputs": [
    {
     "ename": "Error",
     "evalue": "System.FormatException: The input string 'peanut' was not in a correct format.\r\n   at System.Number.ThrowOverflowOrFormatException(ParsingStatus status, ReadOnlySpan`1 value, TypeCode type)\r\n   at System.Int32.Parse(String s)\r\n   at Submission#31.<<Initialize>>d__0.MoveNext()\r\n--- End of stack trace from previous location ---\r\n   at Microsoft.CodeAnalysis.Scripting.ScriptExecutionState.RunSubmissionsAsync[TResult](ImmutableArray`1 precedingExecutors, Func`2 currentExecutor, StrongBox`1 exceptionHolderOpt, Func`2 catchExceptionOpt, CancellationToken cancellationToken)",
     "output_type": "error",
     "traceback": [
      "System.FormatException: The input string 'peanut' was not in a correct format.\r\n",
      "   at System.Number.ThrowOverflowOrFormatException(ParsingStatus status, ReadOnlySpan`1 value, TypeCode type)\r\n",
      "   at System.Int32.Parse(String s)\r\n",
      "   at Submission#31.<<Initialize>>d__0.MoveNext()\r\n",
      "--- End of stack trace from previous location ---\r\n",
      "   at Microsoft.CodeAnalysis.Scripting.ScriptExecutionState.RunSubmissionsAsync[TResult](ImmutableArray`1 precedingExecutors, Func`2 currentExecutor, StrongBox`1 exceptionHolderOpt, Func`2 catchExceptionOpt, CancellationToken cancellationToken)"
     ]
    }
   ],
   "source": [
    "string first = \"peanut\";\n",
    "int second = 7;\n",
    "int sum = int.Parse(first) + second;\n",
    "Console.WriteLine(sum);"
   ]
  },
  {
   "cell_type": "code",
   "execution_count": 31,
   "metadata": {
    "dotnet_interactive": {
     "language": "csharp"
    },
    "polyglot_notebook": {
     "kernelName": "csharp"
    },
    "vscode": {
     "languageId": "polyglot-notebook"
    }
   },
   "outputs": [
    {
     "name": "stdout",
     "output_type": "stream",
     "text": [
      "Invalid input. Please enter a valid integer for 'first'.\r\n"
     ]
    }
   ],
   "source": [
    "string first = \"peanut\";\n",
    "int second = 7;\n",
    "int firstParsed;\n",
    "\n",
    "if (int.TryParse(first, out firstParsed))\n",
    "{\n",
    "    int sum = firstParsed + second;\n",
    "    Console.WriteLine(sum);\n",
    "}\n",
    "else\n",
    "{\n",
    "    Console.WriteLine(\"Invalid input. Please enter a valid integer for 'first'.\");\n",
    "}"
   ]
  },
  {
   "cell_type": "markdown",
   "metadata": {},
   "source": [
    "##### ***Convert `string` to `int` using `Convert` class***"
   ]
  },
  {
   "cell_type": "code",
   "execution_count": 28,
   "metadata": {
    "dotnet_interactive": {
     "language": "csharp"
    },
    "polyglot_notebook": {
     "kernelName": "csharp"
    },
    "vscode": {
     "languageId": "polyglot-notebook"
    }
   },
   "outputs": [
    {
     "name": "stdout",
     "output_type": "stream",
     "text": [
      "35\r\n"
     ]
    }
   ],
   "source": [
    "string value1 = \"5\";\n",
    "string value2 = \"7\";\n",
    "int result = Convert.ToInt32(value1) * Convert.ToInt32(value2);\n",
    "Console.WriteLine(result);\n",
    "\n",
    "// Convert = class\n",
    "// .ToInt32() = method in class"
   ]
  },
  {
   "cell_type": "markdown",
   "metadata": {},
   "source": [
    "Why `.ToInt32()` and not `.ToInt()`?\n",
    "\n",
    "![](./Assets/whyint32.png)"
   ]
  },
  {
   "cell_type": "markdown",
   "metadata": {},
   "source": [
    "##### ***Casting vs Converting `decimal` to `int`***"
   ]
  },
  {
   "cell_type": "markdown",
   "metadata": {},
   "source": [
    "Narrow Conversion: casting `decimal` to `int`\n",
    "* truncates\n",
    "* lose data"
   ]
  },
  {
   "cell_type": "code",
   "execution_count": 34,
   "metadata": {
    "dotnet_interactive": {
     "language": "csharp"
    },
    "polyglot_notebook": {
     "kernelName": "csharp"
    },
    "vscode": {
     "languageId": "polyglot-notebook"
    }
   },
   "outputs": [
    {
     "name": "stdout",
     "output_type": "stream",
     "text": [
      "1\r\n"
     ]
    }
   ],
   "source": [
    "int value = (int)1.5m; // casting truncates\n",
    "Console.WriteLine(value); // lose data through casting"
   ]
  },
  {
   "cell_type": "markdown",
   "metadata": {},
   "source": [
    "Convert with `.ToInt32()`\n",
    "* rounds"
   ]
  },
  {
   "cell_type": "code",
   "execution_count": 35,
   "metadata": {
    "dotnet_interactive": {
     "language": "csharp"
    },
    "polyglot_notebook": {
     "kernelName": "csharp"
    },
    "vscode": {
     "languageId": "polyglot-notebook"
    }
   },
   "outputs": [
    {
     "name": "stdout",
     "output_type": "stream",
     "text": [
      "2\r\n"
     ]
    }
   ],
   "source": [
    "int value2 = Convert.ToInt32(1.5m); // converting rounds up\n",
    "Console.WriteLine(value2); "
   ]
  },
  {
   "cell_type": "markdown",
   "metadata": {},
   "source": [
    "##### ❓ **Check Knowledge: Cast, Convert**\n"
   ]
  },
  {
   "cell_type": "markdown",
   "metadata": {},
   "source": [
    "1. Which is the best technique to convert a decimal type to an int type in C#? \n",
    "    * ✔️ cast\n",
    "    * ❌ narrowing\n",
    "    * ❌ implicit conversion\n",
    "\n",
    "    <br>\n",
    "\n",
    "2. Which of the following conversion rounds the value (versus truncate)?\n",
    "    * ❌ `int cost = (int)3.75m;`\n",
    "    * ✔️ `int cost = Convert.ToInt32(3.75m);`\n",
    "    * ❌ `uint cost = (uint)3.75m;`"
   ]
  },
  {
   "cell_type": "markdown",
   "metadata": {},
   "source": [
    "#### 🚀 **[Exercise - Examine the TryParse() method](https://learn.microsoft.com/en-gb/training/modules/csharp-convert-cast/3-exercise-tryparse)**"
   ]
  },
  {
   "cell_type": "markdown",
   "metadata": {},
   "source": [
    "* Use `TryParse()` when converting a string into a numeric data type.\n",
    "* `TryParse()` returns true if the conversion is successful, false if it's unsuccessful.\n",
    "* Out parameters provide a secondary means of a method returning a value. In this case, the out parameter returns the converted value.\n",
    "* Use the keyword out when passing in an argument to a method that has defined an out parameter."
   ]
  },
  {
   "cell_type": "markdown",
   "metadata": {},
   "source": [
    "##### ***TryParse() vs Parse()***"
   ]
  },
  {
   "cell_type": "markdown",
   "metadata": {},
   "source": [
    "Parse()"
   ]
  },
  {
   "cell_type": "code",
   "execution_count": 2,
   "metadata": {
    "dotnet_interactive": {
     "language": "csharp"
    },
    "polyglot_notebook": {
     "kernelName": "csharp"
    },
    "vscode": {
     "languageId": "polyglot-notebook"
    }
   },
   "outputs": [
    {
     "name": "stdout",
     "output_type": "stream",
     "text": [
      "7\r\n"
     ]
    }
   ],
   "source": [
    "string name = \"7\";\n",
    "Console.WriteLine(int.Parse(name));\n",
    "// convert string to int"
   ]
  },
  {
   "cell_type": "code",
   "execution_count": 3,
   "metadata": {
    "dotnet_interactive": {
     "language": "csharp"
    },
    "polyglot_notebook": {
     "kernelName": "csharp"
    },
    "vscode": {
     "languageId": "polyglot-notebook"
    }
   },
   "outputs": [
    {
     "ename": "Error",
     "evalue": "System.FormatException: The input string 'Bob' was not in a correct format.\r\n   at System.Number.ThrowOverflowOrFormatException(ParsingStatus status, ReadOnlySpan`1 value, TypeCode type)\r\n   at System.Int32.Parse(String s)\r\n   at Submission#4.<<Initialize>>d__0.MoveNext()\r\n--- End of stack trace from previous location ---\r\n   at Microsoft.CodeAnalysis.Scripting.ScriptExecutionState.RunSubmissionsAsync[TResult](ImmutableArray`1 precedingExecutors, Func`2 currentExecutor, StrongBox`1 exceptionHolderOpt, Func`2 catchExceptionOpt, CancellationToken cancellationToken)",
     "output_type": "error",
     "traceback": [
      "System.FormatException: The input string 'Bob' was not in a correct format.\r\n",
      "   at System.Number.ThrowOverflowOrFormatException(ParsingStatus status, ReadOnlySpan`1 value, TypeCode type)\r\n",
      "   at System.Int32.Parse(String s)\r\n",
      "   at Submission#4.<<Initialize>>d__0.MoveNext()\r\n",
      "--- End of stack trace from previous location ---\r\n",
      "   at Microsoft.CodeAnalysis.Scripting.ScriptExecutionState.RunSubmissionsAsync[TResult](ImmutableArray`1 precedingExecutors, Func`2 currentExecutor, StrongBox`1 exceptionHolderOpt, Func`2 catchExceptionOpt, CancellationToken cancellationToken)"
     ]
    }
   ],
   "source": [
    "string name = \"Bob\";\n",
    "Console.WriteLine(int.Parse(name));"
   ]
  },
  {
   "cell_type": "markdown",
   "metadata": {},
   "source": [
    "TryParse(): `if (int.TryParse(value, out result))`\n",
    "* GOAL: attempts to parse a string into numeric data type\n",
    "* SUCCESS: stores converted value in an `out` parameter\n",
    "    * `out`:\n",
    "        * methods can return a value, void (no value) or value through `out` parameters\n",
    "* RETURNS: `bool` = success or failure"
   ]
  },
  {
   "cell_type": "code",
   "execution_count": 4,
   "metadata": {
    "dotnet_interactive": {
     "language": "csharp"
    },
    "polyglot_notebook": {
     "kernelName": "csharp"
    },
    "vscode": {
     "languageId": "polyglot-notebook"
    }
   },
   "outputs": [
    {
     "name": "stdout",
     "output_type": "stream",
     "text": [
      "Unable to report the measurement.\n",
      "Measurement (w/ offset): 50\n"
     ]
    }
   ],
   "source": [
    "string value = \"banana\";\n",
    "int result = 0;\n",
    "if (int.TryParse(value, out result))\n",
    "{\n",
    "    Console.WriteLine($\"Measurement: {result}\");\n",
    "}\n",
    "else\n",
    "{\n",
    "    Console.WriteLine(\"Unable to report the measurement.\");\n",
    "}\n",
    "\n",
    "Console.WriteLine($\"Measurement (w/ offset): {50 + result}\");\n",
    "// need to make the measurement statement conditional based on `value` data type"
   ]
  },
  {
   "cell_type": "markdown",
   "metadata": {},
   "source": [
    "**Improved Solution:**"
   ]
  },
  {
   "cell_type": "code",
   "execution_count": 6,
   "metadata": {
    "dotnet_interactive": {
     "language": "csharp"
    },
    "polyglot_notebook": {
     "kernelName": "csharp"
    },
    "vscode": {
     "languageId": "polyglot-notebook"
    }
   },
   "outputs": [
    {
     "name": "stdout",
     "output_type": "stream",
     "text": [
      "Unable to report the measurement.\r\n"
     ]
    }
   ],
   "source": [
    "string value = \"banana\";\n",
    "int result = 0;\n",
    "if (int.TryParse(value, out result))\n",
    "{\n",
    "    Console.WriteLine($\"Measurement: {result}\");\n",
    "}\n",
    "else\n",
    "{\n",
    "    Console.WriteLine(\"Unable to report the measurement.\");\n",
    "}\n",
    "\n",
    "if (result > 0)\n",
    "    Console.WriteLine($\"Measurement (w/ offset): {50 + result}\");"
   ]
  },
  {
   "cell_type": "code",
   "execution_count": 5,
   "metadata": {
    "dotnet_interactive": {
     "language": "csharp"
    },
    "polyglot_notebook": {
     "kernelName": "csharp"
    },
    "vscode": {
     "languageId": "polyglot-notebook"
    }
   },
   "outputs": [
    {
     "name": "stdout",
     "output_type": "stream",
     "text": [
      "Measurement: 1054\n",
      "Measurement (w/ offset): 1104\n"
     ]
    }
   ],
   "source": [
    "string value = \"1054\";\n",
    "int result = 0;\n",
    "if (int.TryParse(value, out result))\n",
    "{\n",
    "    Console.WriteLine($\"Measurement: {result}\");\n",
    "}\n",
    "else\n",
    "{\n",
    "    Console.WriteLine(\"Unable to report the measurement.\");\n",
    "}\n",
    "\n",
    "if (result > 0)\n",
    "    Console.WriteLine($\"Measurement (w/ offset): {50 + result}\");"
   ]
  },
  {
   "cell_type": "markdown",
   "metadata": {},
   "source": [
    "#### ❓ **Check Knowledge: TryParse()**"
   ]
  },
  {
   "cell_type": "markdown",
   "metadata": {},
   "source": [
    "1. Which technique should be used to change myInput, a string value \"2.71828\", into a decimal variable myInputDecimal? \n",
    "    * ❌ `decimal myInputDecimal = (decimal)(myInput);`\n",
    "    * ❌ `decimal myInputDecimal = myInput + 0;`\n",
    "    * ✔️ `decimal.TryParse(myInput, out myInputDecimal)`\n",
    "\n",
    "    <br>\n",
    "\n",
    "2. Which best describes the return type of decimal.TryParse()? \n",
    "    * ❌ decimal\n",
    "    * ✔️ bool\n",
    "    * ❌ out"
   ]
  },
  {
   "cell_type": "markdown",
   "metadata": {},
   "source": [
    "#### ⭐ **[Exercise - Complete a challenge to combine string array values as strings and as integers](https://learn.microsoft.com/en-gb/training/modules/csharp-convert-cast/4-challenge)**"
   ]
  },
  {
   "cell_type": "markdown",
   "metadata": {},
   "source": [
    "Challenge: \n",
    "* split data pending type\n",
    "    * then concatenate or add data"
   ]
  },
  {
   "cell_type": "markdown",
   "metadata": {},
   "source": [
    "[Project Code / Repo Link](./CombineStringArrayAsStrAndInt/Program.cs)"
   ]
  },
  {
   "cell_type": "markdown",
   "metadata": {},
   "source": [
    "##### ***Starter Code***"
   ]
  },
  {
   "cell_type": "code",
   "execution_count": 7,
   "metadata": {
    "dotnet_interactive": {
     "language": "csharp"
    },
    "polyglot_notebook": {
     "kernelName": "csharp"
    },
    "vscode": {
     "languageId": "polyglot-notebook"
    }
   },
   "outputs": [],
   "source": [
    "// instantiate string array\n",
    "\n",
    "string[] values = { \"12.3\", \"45\", \"ABC\", \"11\", \"DEF\" };"
   ]
  },
  {
   "cell_type": "markdown",
   "metadata": {},
   "source": [
    "##### ***Requirements***"
   ]
  },
  {
   "cell_type": "markdown",
   "metadata": {},
   "source": [
    "* Create a looping structure that can be used to iterate through each string value in the array values.\n",
    "\n",
    "* Complete the required code, placing it within the array looping structure code block. It's necessary to implement the following business rules in your code logic:\n",
    "\n",
    "    * Rule 1: If the value is alphabetical, concatenate it to form a message.\n",
    "\n",
    "    * Rule 2: If the value is numeric, add it to the total.\n",
    "\n",
    "    * Rule 3: The result should match the following output:\n",
    "\n",
    "* Output:\n",
    "\n",
    "    * `Message: ABCDEF` <br> \n",
    "    `Total: 68.3`"
   ]
  },
  {
   "cell_type": "markdown",
   "metadata": {},
   "source": [
    "##### ***Playground***"
   ]
  },
  {
   "cell_type": "code",
   "execution_count": 10,
   "metadata": {
    "dotnet_interactive": {
     "language": "csharp"
    },
    "polyglot_notebook": {
     "kernelName": "csharp"
    },
    "vscode": {
     "languageId": "polyglot-notebook"
    }
   },
   "outputs": [
    {
     "name": "stdout",
     "output_type": "stream",
     "text": [
      "System.String[]\n",
      "0\n",
      "\n",
      "\n"
     ]
    }
   ],
   "source": [
    "// instantiate string array\n",
    "\n",
    "string[] values = { \"12.3\", \"45\", \"ABC\", \"11\", \"DEF\" };\n",
    "\n",
    "// initialise variables\n",
    "\n",
    "decimal total = 0m;\n",
    "string message = \"\";\n",
    "string result = \"\";\n",
    "\n",
    "Console.WriteLine(values);\n",
    "Console.WriteLine(total);\n",
    "Console.WriteLine(message);\n",
    "Console.WriteLine(result);"
   ]
  },
  {
   "cell_type": "code",
   "execution_count": 42,
   "metadata": {
    "dotnet_interactive": {
     "language": "csharp"
    },
    "polyglot_notebook": {
     "kernelName": "csharp"
    },
    "vscode": {
     "languageId": "polyglot-notebook"
    }
   },
   "outputs": [
    {
     "name": "stdout",
     "output_type": "stream",
     "text": [
      "12.3\n",
      "45\n",
      "ABC\n",
      "11\n",
      "DEF\n"
     ]
    }
   ],
   "source": [
    "// Create a looping structure that can be used to iterate through each string value in the array values.\n",
    "\n",
    "foreach (string value in values)\n",
    "{\n",
    "    Console.WriteLine(value);\n",
    "}\n",
    "\n"
   ]
  },
  {
   "cell_type": "code",
   "execution_count": 34,
   "metadata": {
    "dotnet_interactive": {
     "language": "csharp"
    },
    "polyglot_notebook": {
     "kernelName": "csharp"
    },
    "vscode": {
     "languageId": "polyglot-notebook"
    }
   },
   "outputs": [],
   "source": [
    "// ----- Current Code\n",
    "\n",
    "// instantiate string array\n",
    "string[] values = { \"12.3\", \"45\", \"ABC\", \"11\", \"DEF\" };\n",
    "\n",
    "// initialise variables\n",
    "decimal total = 0m;\n",
    "string message = \"\";\n",
    "string result = \"\";\n",
    "\n",
    "// get length of array\n",
    "int valuesLength = values.Length;\n",
    "\n",
    "// loop until length of array is complete\n",
    "for (int i = 0; i < valuesLength; i++)\n",
    "{\n",
    "    value = values[i];\n",
    "}"
   ]
  },
  {
   "cell_type": "markdown",
   "metadata": {},
   "source": [
    "##### ***Solution***"
   ]
  },
  {
   "cell_type": "markdown",
   "metadata": {},
   "source": [
    "[MS Learn Solution](https://learn.microsoft.com/en-gb/training/modules/csharp-convert-cast/5-solution)"
   ]
  },
  {
   "cell_type": "code",
   "execution_count": 44,
   "metadata": {
    "dotnet_interactive": {
     "language": "csharp"
    },
    "polyglot_notebook": {
     "kernelName": "csharp"
    },
    "vscode": {
     "languageId": "polyglot-notebook"
    }
   },
   "outputs": [
    {
     "name": "stdout",
     "output_type": "stream",
     "text": [
      "Message: ABCDEF\n",
      "Total: 68.3\r\n"
     ]
    }
   ],
   "source": [
    "/*\n",
    "    GOAL: Combine String Array Values as Strings and Integers\n",
    "\n",
    "    1. Split up data depending on type\n",
    "    2. Concatenate or Add Data accordingly\n",
    "\n",
    "    TASKS:\n",
    "\n",
    "    1. Create loop that will:\n",
    "        - iterate through each string value in array: values\n",
    "\n",
    "    2. Add the following conditions:\n",
    "        - if value = string, concatenate to output message\n",
    "        - if value = numeric, add to total\n",
    "\n",
    "    3. result = output:\n",
    "        Message: ABCDEF\n",
    "        Total: 68.3\n",
    "\n",
    "\n",
    "    VARIABLES:\n",
    "\n",
    "    - string[] values = { \"12.3\", \"45\", \"ABC\", \"11\", \"DEF\" };\n",
    "    - decimal total = 0m;\n",
    "    - string message = \"\";\n",
    "\n",
    "*/\n",
    "\n",
    "\n",
    "// instantiate string array\n",
    "string[] values = { \"12.3\", \"45\", \"ABC\", \"11\", \"DEF\" };\n",
    "\n",
    "// initialise variables\n",
    "decimal total = 0m;\n",
    "string message = \"\";\n",
    "// string result = \"\";\n",
    "\n",
    "// get length of array\n",
    "int valuesLength = values.Length;\n",
    "\n",
    "// loop until length of array is complete\n",
    "for (int i = 0; i < valuesLength; i++)\n",
    "{\n",
    "    decimal amount = 0m;\n",
    "    string value = values[i];\n",
    "\n",
    "\n",
    "    if (decimal.TryParse(value, out amount))\n",
    "    {\n",
    "        total += amount;\n",
    "\n",
    "    }\n",
    "    else\n",
    "    {\n",
    "        message += value;\n",
    "    }\n",
    "}\n",
    "\n",
    "Console.WriteLine($\"Message: {message}\\nTotal: {total}\");\n"
   ]
  },
  {
   "cell_type": "markdown",
   "metadata": {},
   "source": [
    "#### ⭐ **[Exercise - Complete a challenge to output math operations as specific number types](https://learn.microsoft.com/en-us/training/modules/csharp-convert-cast/6-challenge-2)**"
   ]
  },
  {
   "cell_type": "markdown",
   "metadata": {},
   "source": [
    "Challenge:\n",
    "* use what you've learned about casting and conversion to solve a coding challenge\n",
    "* understand the implication of casting values considering the impact of narrowing and widening conversions"
   ]
  },
  {
   "cell_type": "markdown",
   "metadata": {},
   "source": [
    "[Project Code / Repo Link](#)"
   ]
  },
  {
   "cell_type": "markdown",
   "metadata": {},
   "source": [
    "##### ***Starter Code***"
   ]
  },
  {
   "cell_type": "code",
   "execution_count": 6,
   "metadata": {
    "dotnet_interactive": {
     "language": "csharp"
    },
    "polyglot_notebook": {
     "kernelName": "csharp"
    },
    "vscode": {
     "languageId": "polyglot-notebook"
    }
   },
   "outputs": [
    {
     "ename": "Error",
     "evalue": "(7,77): error CS0103: The name 'result1' does not exist in the current context\r\n(10,80): error CS0103: The name 'result2' does not exist in the current context\r\n(13,78): error CS0103: The name 'result3' does not exist in the current context",
     "output_type": "error",
     "traceback": [
      "(7,77): error CS0103: The name 'result1' does not exist in the current context\r\n",
      "(10,80): error CS0103: The name 'result2' does not exist in the current context\r\n",
      "(13,78): error CS0103: The name 'result3' does not exist in the current context"
     ]
    }
   ],
   "source": [
    "int value1 = 12;\n",
    "decimal value2 = 6.2m;\n",
    "float value3 = 4.3f;\n",
    "\n",
    "// Your code here to set result1\n",
    "// Hint: You need to round the result to nearest integer (don't just truncate)\n",
    "Console.WriteLine($\"Divide value1 by value2, display the result as an int: {result1}\");\n",
    "\n",
    "// Your code here to set result2\n",
    "Console.WriteLine($\"Divide value2 by value3, display the result as a decimal: {result2}\");\n",
    "\n",
    "// Your code here to set result3\n",
    "Console.WriteLine($\"Divide value3 by value1, display the result as a float: {result3}\");"
   ]
  },
  {
   "cell_type": "markdown",
   "metadata": {},
   "source": [
    "##### ***Requirements***"
   ]
  },
  {
   "cell_type": "markdown",
   "metadata": {},
   "source": [
    "* Solve for `result1`: Divide `value1` by `value2`, display the result as an `int`\n",
    "* Solve for `result2`: Divide `value2` by `value3`, display the result as a `decimal`\n",
    "* Solve for `result3`: Divide `value3` by `value1`, display the result as a `float`"
   ]
  },
  {
   "cell_type": "markdown",
   "metadata": {},
   "source": [
    "Output:\n",
    "\n",
    "`Divide value1 by value2, display the result as an int: 2`<br>\n",
    "`Divide value2 by value3, display the result as a decimal: 1.4418604651162790697674418605`<Br>\n",
    "`Divide value3 by value1, display the result as a float: 0.3583333`"
   ]
  },
  {
   "cell_type": "markdown",
   "metadata": {},
   "source": [
    "##### ***Playground***"
   ]
  },
  {
   "cell_type": "code",
   "execution_count": 13,
   "metadata": {
    "dotnet_interactive": {
     "language": "csharp"
    },
    "polyglot_notebook": {
     "kernelName": "csharp"
    },
    "vscode": {
     "languageId": "polyglot-notebook"
    }
   },
   "outputs": [
    {
     "name": "stdout",
     "output_type": "stream",
     "text": [
      "Divide value1 by value2, display the result as an int: 0\n",
      "Divide value2 by value3, display the result as a decimal: 0\n",
      "Divide value3 by value1, display the result as a float: 0\n"
     ]
    }
   ],
   "source": [
    "int value1 = 12;\n",
    "decimal value2 = 6.2m;\n",
    "float value3 = 4.3f;\n",
    "\n",
    "// set result variables\n",
    "int result1 = 0;\n",
    "decimal result2 = 0m;\n",
    "float result3 = 0f;\n",
    "\n",
    "// // Your code here to set result1\n",
    "// // Hint: You need to round the result to nearest integer (don't just truncate)\n",
    "Console.WriteLine($\"Divide value1 by value2, display the result as an int: {result1}\");\n",
    "\n",
    "// // Your code here to set result2\n",
    "Console.WriteLine($\"Divide value2 by value3, display the result as a decimal: {result2}\");\n",
    "\n",
    "// // Your code here to set result3\n",
    "Console.WriteLine($\"Divide value3 by value1, display the result as a float: {result3}\");"
   ]
  },
  {
   "cell_type": "code",
   "execution_count": 19,
   "metadata": {
    "dotnet_interactive": {
     "language": "csharp"
    },
    "polyglot_notebook": {
     "kernelName": "csharp"
    },
    "vscode": {
     "languageId": "polyglot-notebook"
    }
   },
   "outputs": [
    {
     "ename": "Error",
     "evalue": "(12,15): error CS0266: Cannot implicitly convert type 'decimal' to 'int'. An explicit conversion exists (are you missing a cast?)",
     "output_type": "error",
     "traceback": [
      "(12,15): error CS0266: Cannot implicitly convert type 'decimal' to 'int'. An explicit conversion exists (are you missing a cast?)"
     ]
    }
   ],
   "source": [
    "int value1 = 12;\n",
    "decimal value2 = 6.2m;\n",
    "float value3 = 4.3f;\n",
    "\n",
    "// set result variables\n",
    "// int result1 = 0;\n",
    "decimal result2 = 0m;\n",
    "float result3 = 0f;\n",
    "\n",
    "// // Your code here to set result1\n",
    "\n",
    "int result1 = value1 / value2;\n",
    "\n",
    "// // Hint: You need to round the result to nearest integer (don't just truncate)\n",
    "Console.WriteLine($\"Divide value1 by value2, display the result as an int: {result1}\");"
   ]
  },
  {
   "cell_type": "code",
   "execution_count": 23,
   "metadata": {
    "dotnet_interactive": {
     "language": "csharp"
    },
    "polyglot_notebook": {
     "kernelName": "csharp"
    },
    "vscode": {
     "languageId": "polyglot-notebook"
    }
   },
   "outputs": [
    {
     "name": "stdout",
     "output_type": "stream",
     "text": [
      "Divide value1 by value2, display the result as an int: 2\r\n"
     ]
    }
   ],
   "source": [
    "int value1 = 12;\n",
    "decimal value2 = 6.2m;\n",
    "float value3 = 4.3f;\n",
    "\n",
    "// set result variables\n",
    "decimal result2 = 0m;\n",
    "float result3 = 0f;\n",
    "\n",
    "// // Your code here to set result1\n",
    "int result1 = (int)value1 / (int)value2; //truncates\n",
    "\n",
    "// // Hint: You need to round the result to nearest integer (don't just truncate)\n",
    "Console.WriteLine($\"Divide value1 by value2, display the result as an int: {result1}\");"
   ]
  },
  {
   "cell_type": "code",
   "execution_count": 24,
   "metadata": {
    "dotnet_interactive": {
     "language": "csharp"
    },
    "polyglot_notebook": {
     "kernelName": "csharp"
    },
    "vscode": {
     "languageId": "polyglot-notebook"
    }
   },
   "outputs": [
    {
     "name": "stdout",
     "output_type": "stream",
     "text": [
      "Divide value1 by value2, display the result as an int: 2\r\n"
     ]
    }
   ],
   "source": [
    "int result1 = Convert.ToInt32(value1/value2); // rounds, doesn't truncate\n",
    "Console.WriteLine($\"Divide value1 by value2, display the result as an int: {result1}\");"
   ]
  },
  {
   "cell_type": "code",
   "execution_count": 25,
   "metadata": {
    "dotnet_interactive": {
     "language": "csharp"
    },
    "polyglot_notebook": {
     "kernelName": "csharp"
    },
    "vscode": {
     "languageId": "polyglot-notebook"
    }
   },
   "outputs": [
    {
     "name": "stdout",
     "output_type": "stream",
     "text": [
      "Divide value1 by value2, display the result as an int: 2\n",
      "Divide value2 by value3, display the result as a decimal: 1.4418604651162790697674418605\n",
      "Divide value3 by value1, display the result as a float: 0\n"
     ]
    }
   ],
   "source": [
    "int value1 = 12;\n",
    "decimal value2 = 6.2m;\n",
    "float value3 = 4.3f;\n",
    "\n",
    "// set result variables\n",
    "// decimal result2 = 0m;\n",
    "float result3 = 0f;\n",
    "\n",
    "// // Your code here to set result1\n",
    "int result1 = Convert.ToInt32(value1/value2);\n",
    "// // Hint: You need to round the result to nearest integer (don't just truncate)\n",
    "Console.WriteLine($\"Divide value1 by value2, display the result as an int: {result1}\");\n",
    "\n",
    "decimal result2 = value2/(decimal)value3;\n",
    "// // Your code here to set result2\n",
    "Console.WriteLine($\"Divide value2 by value3, display the result as a decimal: {result2}\");\n",
    "\n",
    "// // // Your code here to set result3\n",
    "// Console.WriteLine($\"Divide value3 by value1, display the result as a float: {result3}\");"
   ]
  },
  {
   "cell_type": "code",
   "execution_count": 28,
   "metadata": {
    "dotnet_interactive": {
     "language": "csharp"
    },
    "polyglot_notebook": {
     "kernelName": "csharp"
    },
    "vscode": {
     "languageId": "polyglot-notebook"
    }
   },
   "outputs": [
    {
     "name": "stdout",
     "output_type": "stream",
     "text": [
      "Divide value1 by value2, display the result as an int: 2\n",
      "Divide value2 by value3, display the result as a decimal: 1.4418604651162790697674418605\n",
      "Divide value3 by value1, display the result as a float: 0.35833335\n"
     ]
    }
   ],
   "source": [
    "int value1 = 12;\n",
    "decimal value2 = 6.2m;\n",
    "float value3 = 4.3f;\n",
    "\n",
    "// // Your code here to set result1\n",
    "int result1 = Convert.ToInt32(value1/value2);\n",
    "// // Hint: You need to round the result to nearest integer (don't just truncate)\n",
    "Console.WriteLine($\"Divide value1 by value2, display the result as an int: {result1}\");\n",
    "\n",
    "decimal result2 = value2/(decimal)value3;\n",
    "// // Your code here to set result2\n",
    "Console.WriteLine($\"Divide value2 by value3, display the result as a decimal: {result2}\");\n",
    "\n",
    "float result3 = value3/(float)value1;\n",
    "// // // Your code here to set result3\n",
    "Console.WriteLine($\"Divide value3 by value1, display the result as a float: {result3}\");"
   ]
  },
  {
   "cell_type": "markdown",
   "metadata": {},
   "source": [
    "##### ***Solution***"
   ]
  },
  {
   "cell_type": "code",
   "execution_count": 30,
   "metadata": {
    "dotnet_interactive": {
     "language": "csharp"
    },
    "polyglot_notebook": {
     "kernelName": "csharp"
    },
    "vscode": {
     "languageId": "polyglot-notebook"
    }
   },
   "outputs": [
    {
     "name": "stdout",
     "output_type": "stream",
     "text": [
      "Divide value1 by value2, display the result as an int: 2\n",
      "Divide value2 by value3, display the result as a decimal: 1.4418604651162790697674418605\n",
      "Divide value3 by value1, display the result as a float: 0.35833335\n"
     ]
    }
   ],
   "source": [
    "int value1 = 12;\n",
    "decimal value2 = 6.2m;\n",
    "float value3 = 4.3f;\n",
    "\n",
    "// Your code here to set result1\n",
    "// Hint: You need to round the result to nearest integer (don't just truncate)\n",
    "int result1 = Convert.ToInt32(value1/value2);\n",
    "Console.WriteLine($\"Divide value1 by value2, display the result as an int: {result1}\");\n",
    "\n",
    "// Your code here to set result2\n",
    "decimal result2 = value2/(decimal)value3;\n",
    "Console.WriteLine($\"Divide value2 by value3, display the result as a decimal: {result2}\");\n",
    "\n",
    "// Your code here to set result3\n",
    "float result3 = value3/(float)value1;\n",
    "Console.WriteLine($\"Divide value3 by value1, display the result as a float: {result3}\");"
   ]
  },
  {
   "cell_type": "code",
   "execution_count": 31,
   "metadata": {
    "dotnet_interactive": {
     "language": "csharp"
    },
    "polyglot_notebook": {
     "kernelName": "csharp"
    },
    "vscode": {
     "languageId": "polyglot-notebook"
    }
   },
   "outputs": [
    {
     "name": "stdout",
     "output_type": "stream",
     "text": [
      "Divide value1 by value2, display the result as an int: 2\n",
      "Divide value2 by value3, display the result as a decimal: 1.4418604651162790697674418605\n",
      "Divide value3 by value1, display the result as a float: 0.35833335\n"
     ]
    }
   ],
   "source": [
    "// MS LEARN SOLUTION:\n",
    "\n",
    "int value1 = 12;\n",
    "decimal value2 = 6.2m;\n",
    "float value3 = 4.3f;\n",
    "\n",
    "// The Convert class is best for converting the fractional decimal numbers into whole integer numbers\n",
    "// Convert.ToInt32() rounds up the way you would expect.\n",
    "int result1 = Convert.ToInt32((decimal)value1 / value2);\n",
    "Console.WriteLine($\"Divide value1 by value2, display the result as an int: {result1}\");\n",
    "\n",
    "decimal result2 = value2 / (decimal)value3;\n",
    "Console.WriteLine($\"Divide value2 by value3, display the result as a decimal: {result2}\");\n",
    "\n",
    "float result3 = value3 / value1;\n",
    "Console.WriteLine($\"Divide value3 by value1, display the result as a float: {result3}\");"
   ]
  },
  {
   "cell_type": "markdown",
   "metadata": {},
   "source": [
    "#### ❓ **Check Knowledge: Cast, Convert**"
   ]
  },
  {
   "cell_type": "markdown",
   "metadata": {},
   "source": [
    "1. Which technique should be avoided when changing a string value `4.123456789` into a decimal? \n",
    "    * ❌ `Convert.ToDecimal()`\n",
    "    * ❌ `decimal.TryParse()`\n",
    "    * ✔️ `(decimal)`\n",
    "\n",
    "    <br>\n",
    "\n",
    "2. What type of action is being performed when changing a `float` into an `int`? \n",
    "    * ✔️ A narrowing conversion.\n",
    "    * ❌ A widening conversion.\n",
    "    * ❌ An illegal conversion."
   ]
  },
  {
   "cell_type": "markdown",
   "metadata": {},
   "source": [
    "#### **Summary**"
   ]
  },
  {
   "cell_type": "markdown",
   "metadata": {},
   "source": [
    "* Your goal was to use several different techniques to change the data type of a given value.\n",
    "* You used `implicit` conversion, relying on the C# compiler to perform widening conversions. \n",
    "    * When the compiler was unable to perform an implicit conversion, you used explicit conversions. \n",
    "    * You used the `ToString() `method to explicitly convert a numeric data type into a string.\n",
    "* When you needed to perform narrowing conversions, you used several different techniques. \n",
    "* You used the casting operator `() `when the conversion could be made safely and were willing to accept truncation of values after the decimal. \n",
    "* And you used the `Convert()` method when you wanted to perform a conversion and use common rounding rules when performing a narrowing conversion.\n",
    "* Finally, you used the `TryParse()` methods when the conversion from a `string` to a numeric data type could potentially result in a data type conversion exception.\n",
    "* Without this wealth of options, it would be difficult to work in a typed programming language. \n",
    "* Fortunately, this well executed system of types, conversion, and casting can be harnessed to build error free applications."
   ]
  },
  {
   "cell_type": "markdown",
   "metadata": {},
   "source": [
    "##### 💡 **Resources**"
   ]
  },
  {
   "cell_type": "markdown",
   "metadata": {},
   "source": [
    "* [Casting and type conversions (C# programming guide)](https://learn.microsoft.com/en-us/dotnet/csharp/programming-guide/types/casting-and-type-conversions)\n",
    "* [Built-in types (C# reference)](https://learn.microsoft.com/en-us/dotnet/csharp/language-reference/builtin-types/built-in-types)\n",
    "* [Default values of C# types (C# reference)](https://learn.microsoft.com/en-us/dotnet/csharp/language-reference/builtin-types/default-values)"
   ]
  },
  {
   "cell_type": "markdown",
   "metadata": {},
   "source": [
    "_________________________\n",
    "\n",
    "### [Perform operations on arrays using helper methods in C#](https://learn.microsoft.com/en-gb/training/modules/csharp-arrays-operations/)\n",
    "\n",
    "_________________________"
   ]
  },
  {
   "cell_type": "markdown",
   "metadata": {},
   "source": [
    "####  ✔️ **Learning Objectives:**"
   ]
  },
  {
   "cell_type": "markdown",
   "metadata": {},
   "source": [
    "* Sort and reverse the order of array elements.\n",
    "* Clear and resize the elements of an array.\n",
    "* Split a string into an array of strings or characters (`chars`).\n",
    "* Join array elements into a `string`."
   ]
  },
  {
   "cell_type": "markdown",
   "metadata": {},
   "source": [
    "#### **Introduction**"
   ]
  },
  {
   "cell_type": "markdown",
   "metadata": {},
   "source": [
    "![](./Assets/intro-operate-arrays.png)"
   ]
  },
  {
   "cell_type": "markdown",
   "metadata": {},
   "source": [
    "#### 🚀 **[Exercise - Discover `Sort()` and `Reverse()`](https://learn.microsoft.com/en-gb/training/modules/csharp-arrays-operations/2-exercise-sort-reverse)**"
   ]
  },
  {
   "cell_type": "markdown",
   "metadata": {},
   "source": [
    "* The Array class has methods that can manipulate the size and contents of an array.\n",
    "* Use the `Sort()` method to manipulate the order based on the given data type of the array.\n",
    "* Use the `Reverse()` method to flip the order of the elements in the array."
   ]
  },
  {
   "cell_type": "markdown",
   "metadata": {},
   "source": [
    "##### ***`Array.Sort(arrayName)`*** "
   ]
  },
  {
   "cell_type": "code",
   "execution_count": 1,
   "metadata": {
    "dotnet_interactive": {
     "language": "csharp"
    },
    "polyglot_notebook": {
     "kernelName": "csharp"
    },
    "vscode": {
     "languageId": "polyglot-notebook"
    }
   },
   "outputs": [
    {
     "name": "stdout",
     "output_type": "stream",
     "text": [
      "Sorted...\n",
      "-- A11\n",
      "-- A13\n",
      "-- B12\n",
      "-- B14\n"
     ]
    }
   ],
   "source": [
    "string[] pallets = { \"B14\", \"A11\", \"B12\", \"A13\" };\n",
    "\n",
    "Console.WriteLine(\"Sorted...\");\n",
    "Array.Sort(pallets);\n",
    "foreach (var pallet in pallets)\n",
    "{\n",
    "    Console.WriteLine($\"-- {pallet}\");\n",
    "}"
   ]
  },
  {
   "cell_type": "markdown",
   "metadata": {},
   "source": [
    "##### ***`Array.Reverse(arrayName)`*** "
   ]
  },
  {
   "cell_type": "code",
   "execution_count": 2,
   "metadata": {
    "dotnet_interactive": {
     "language": "csharp"
    },
    "polyglot_notebook": {
     "kernelName": "csharp"
    },
    "vscode": {
     "languageId": "polyglot-notebook"
    }
   },
   "outputs": [
    {
     "name": "stdout",
     "output_type": "stream",
     "text": [
      "Sorted...\n",
      "-- A11\n",
      "-- A13\n",
      "-- B12\n",
      "-- B14\n",
      "\n",
      "Reversed...\n",
      "-- B14\n",
      "-- B12\n",
      "-- A13\n",
      "-- A11\n"
     ]
    }
   ],
   "source": [
    "string[] pallets = { \"B14\", \"A11\", \"B12\", \"A13\" };\n",
    "\n",
    "Console.WriteLine(\"Sorted...\");\n",
    "Array.Sort(pallets);\n",
    "foreach (var pallet in pallets)\n",
    "{\n",
    "    Console.WriteLine($\"-- {pallet}\");\n",
    "}\n",
    "\n",
    "Console.WriteLine(\"\");\n",
    "Console.WriteLine(\"Reversed...\");\n",
    "Array.Reverse(pallets);\n",
    "foreach (var pallet in pallets)\n",
    "{\n",
    "    Console.WriteLine($\"-- {pallet}\");\n",
    "}\n"
   ]
  },
  {
   "cell_type": "markdown",
   "metadata": {},
   "source": [
    "##### ❓ **Check Knowledge: `Sort() Reverse()`**"
   ]
  },
  {
   "cell_type": "markdown",
   "metadata": {},
   "source": [
    "1. Which best describes the code Array.Sort(pallets); where pallets is a string array? \n",
    "    * ❌ Sort represents a cast operation\n",
    "    * ✔️ Sort is a method of Arrays.\n",
    "    * ❌ Sort is used to sort array amount of precision.\n"
   ]
  },
  {
   "cell_type": "markdown",
   "metadata": {},
   "source": [
    "#### 🚀 **[Exercise - Explore `Clear()` and `Resize()`](https://learn.microsoft.com/en-gb/training/modules/csharp-arrays-operations/3-exercise-clear-resize)**"
   ]
  },
  {
   "cell_type": "markdown",
   "metadata": {},
   "source": [
    "* Use the `Clear()` method to empty the values out of elements in the array.\n",
    "* Use the `Resize()` method to change the number of elements in the array, removing or adding elements from the end of the array.\n",
    "* New array elements and cleared elements are null, meaning they don't point to a value in memory."
   ]
  },
  {
   "cell_type": "markdown",
   "metadata": {},
   "source": [
    "##### ***`Array.Clear(arrayName, startIndex, numElmsToClear)`***"
   ]
  },
  {
   "cell_type": "code",
   "execution_count": 7,
   "metadata": {
    "dotnet_interactive": {
     "language": "csharp"
    },
    "polyglot_notebook": {
     "kernelName": "csharp"
    },
    "vscode": {
     "languageId": "polyglot-notebook"
    }
   },
   "outputs": [
    {
     "name": "stdout",
     "output_type": "stream",
     "text": [
      "\n",
      "Starting number of pallets...  4\n",
      "-- B14\n",
      "-- A11\n",
      "-- B12\n",
      "-- A13\n",
      "Clearing 2 ... count: 4\n",
      "-- \n",
      "-- \n",
      "-- B12\n",
      "-- A13\n",
      "Current number of pallets...  4\n"
     ]
    }
   ],
   "source": [
    "string[] pallets = { \"B14\", \"A11\", \"B12\", \"A13\" };\n",
    "Console.WriteLine(\"\");\n",
    "\n",
    "Console.WriteLine($\"Starting number of pallets...  {pallets.Length}\");\n",
    "\n",
    "foreach (var pallet in pallets)\n",
    "{\n",
    "    Console.WriteLine($\"-- {pallet}\");\n",
    "}\n",
    "\n",
    "Array.Clear(pallets, 0, 2); // array, startIndex, numElmsToClear\n",
    "Console.WriteLine($\"Clearing 2 ... count: {pallets.Length}\");\n",
    "foreach (var pallet in pallets)\n",
    "{\n",
    "    Console.WriteLine($\"-- {pallet}\");\n",
    "}\n",
    "Console.WriteLine($\"Current number of pallets...  {pallets.Length}\");\n"
   ]
  },
  {
   "cell_type": "markdown",
   "metadata": {},
   "source": [
    "##### ***Empty string vs null***"
   ]
  },
  {
   "cell_type": "code",
   "execution_count": 8,
   "metadata": {
    "dotnet_interactive": {
     "language": "csharp"
    },
    "polyglot_notebook": {
     "kernelName": "csharp"
    },
    "vscode": {
     "languageId": "polyglot-notebook"
    }
   },
   "outputs": [
    {
     "name": "stdout",
     "output_type": "stream",
     "text": [
      "\n",
      "Before: B14\n",
      "After: \n",
      "Clearing 2 ... count: 4\n",
      "-- \n",
      "-- \n",
      "-- B12\n",
      "-- A13\n"
     ]
    }
   ],
   "source": [
    "string[] pallets = { \"B14\", \"A11\", \"B12\", \"A13\" };\n",
    "Console.WriteLine(\"\");\n",
    "\n",
    "Console.WriteLine($\"Before: {pallets[0]}\");\n",
    "Array.Clear(pallets, 0, 2);\n",
    "Console.WriteLine($\"After: {pallets[0]}\"); // empty value = null\n",
    "\n",
    "Console.WriteLine($\"Clearing 2 ... count: {pallets.Length}\");\n",
    "foreach (var pallet in pallets)\n",
    "{\n",
    "    Console.WriteLine($\"-- {pallet}\");\n",
    "}"
   ]
  },
  {
   "cell_type": "markdown",
   "metadata": {},
   "source": [
    "##### ***Call a string helper method on a cleared element***"
   ]
  },
  {
   "cell_type": "markdown",
   "metadata": {},
   "source": [
    "**Test `pallets[0]` = null** \n",
    "\n",
    "* call `ToLower()` --> will throw error if null as it is a string method"
   ]
  },
  {
   "cell_type": "code",
   "execution_count": null,
   "metadata": {
    "dotnet_interactive": {
     "language": "csharp"
    },
    "polyglot_notebook": {
     "kernelName": "csharp"
    },
    "vscode": {
     "languageId": "polyglot-notebook"
    }
   },
   "outputs": [],
   "source": [
    "Console.WriteLine($\"Before: {pallets[0].ToLower()}\");\n",
    "Array.Clear(pallets, 0, 2);\n",
    "Console.WriteLine($\"After: {pallets[0].ToLower()}\"); // error due to null"
   ]
  },
  {
   "cell_type": "code",
   "execution_count": 11,
   "metadata": {
    "dotnet_interactive": {
     "language": "csharp"
    },
    "polyglot_notebook": {
     "kernelName": "csharp"
    },
    "vscode": {
     "languageId": "polyglot-notebook"
    }
   },
   "outputs": [
    {
     "name": "stdout",
     "output_type": "stream",
     "text": [
      "\n",
      "Before: b14\n"
     ]
    },
    {
     "ename": "Error",
     "evalue": "System.NullReferenceException: Object reference not set to an instance of an object.\r\n   at Submission#12.<<Initialize>>d__0.MoveNext()\r\n--- End of stack trace from previous location ---\r\n   at Microsoft.CodeAnalysis.Scripting.ScriptExecutionState.RunSubmissionsAsync[TResult](ImmutableArray`1 precedingExecutors, Func`2 currentExecutor, StrongBox`1 exceptionHolderOpt, Func`2 catchExceptionOpt, CancellationToken cancellationToken)",
     "output_type": "error",
     "traceback": [
      "System.NullReferenceException: Object reference not set to an instance of an object.\r\n",
      "   at Submission#12.<<Initialize>>d__0.MoveNext()\r\n",
      "--- End of stack trace from previous location ---\r\n",
      "   at Microsoft.CodeAnalysis.Scripting.ScriptExecutionState.RunSubmissionsAsync[TResult](ImmutableArray`1 precedingExecutors, Func`2 currentExecutor, StrongBox`1 exceptionHolderOpt, Func`2 catchExceptionOpt, CancellationToken cancellationToken)"
     ]
    }
   ],
   "source": [
    "string[] pallets = { \"B14\", \"A11\", \"B12\", \"A13\" };\n",
    "Console.WriteLine(\"\");\n",
    "\n",
    "Console.WriteLine($\"Before: {pallets[0].ToLower()}\");\n",
    "Array.Clear(pallets, 0, 2);\n",
    "Console.WriteLine($\"After: {pallets[0].ToLower()}\"); // error due to null\n",
    "\n",
    "Console.WriteLine($\"Clearing 2 ... count: {pallets.Length}\");\n",
    "foreach (var pallet in pallets)\n",
    "{\n",
    "    Console.WriteLine($\"-- {pallet}\");\n",
    "}"
   ]
  },
  {
   "cell_type": "markdown",
   "metadata": {},
   "source": [
    "**Avoid Error via if statement**"
   ]
  },
  {
   "cell_type": "code",
   "execution_count": null,
   "metadata": {
    "dotnet_interactive": {
     "language": "csharp"
    },
    "polyglot_notebook": {
     "kernelName": "csharp"
    },
    "vscode": {
     "languageId": "polyglot-notebook"
    }
   },
   "outputs": [],
   "source": [
    "if (pallets[0] != null)\n",
    "{\n",
    "    Console.WriteLine($\"After: {pallets[0].ToLower()}\");\n",
    "}"
   ]
  },
  {
   "cell_type": "code",
   "execution_count": 12,
   "metadata": {
    "dotnet_interactive": {
     "language": "csharp"
    },
    "polyglot_notebook": {
     "kernelName": "csharp"
    },
    "vscode": {
     "languageId": "polyglot-notebook"
    }
   },
   "outputs": [
    {
     "name": "stdout",
     "output_type": "stream",
     "text": [
      "\n",
      "Before: b14\n",
      "Clearing 2 ... count: 4\n",
      "-- \n",
      "-- \n",
      "-- B12\n",
      "-- A13\n"
     ]
    }
   ],
   "source": [
    "string[] pallets = { \"B14\", \"A11\", \"B12\", \"A13\" };\n",
    "Console.WriteLine(\"\");\n",
    "\n",
    "Console.WriteLine($\"Before: {pallets[0].ToLower()}\");\n",
    "Array.Clear(pallets, 0, 2);\n",
    "if (pallets[0] != null)\n",
    "{\n",
    "    Console.WriteLine($\"After: {pallets[0].ToLower()}\"); // error due to null\n",
    "}\n",
    "Console.WriteLine($\"Clearing 2 ... count: {pallets.Length}\");\n",
    "foreach (var pallet in pallets)\n",
    "{\n",
    "    Console.WriteLine($\"-- {pallet}\");\n",
    "}"
   ]
  },
  {
   "cell_type": "markdown",
   "metadata": {},
   "source": [
    "##### ***Resize the array to add more elements***"
   ]
  },
  {
   "cell_type": "code",
   "execution_count": 14,
   "metadata": {
    "dotnet_interactive": {
     "language": "csharp"
    },
    "polyglot_notebook": {
     "kernelName": "csharp"
    },
    "vscode": {
     "languageId": "polyglot-notebook"
    }
   },
   "outputs": [
    {
     "name": "stdout",
     "output_type": "stream",
     "text": [
      "\n",
      "Clearing 2 ... count: 4\n",
      "-- \n",
      "-- \n",
      "-- B12\n",
      "-- A13\n",
      "\n",
      "Resizing 6... count: 6\n",
      "-- \n",
      "-- \n",
      "-- B12\n",
      "-- A13\n",
      "-- \n",
      "-- \n",
      "\n",
      "-- \n",
      "-- \n",
      "-- B12\n",
      "-- A13\n",
      "-- C01\n",
      "-- C02\n"
     ]
    }
   ],
   "source": [
    "string[] pallets = { \"B14\", \"A11\", \"B12\", \"A13\" };\n",
    "Console.WriteLine(\"\");\n",
    "\n",
    "Array.Clear(pallets, 0, 2);\n",
    "Console.WriteLine($\"Clearing 2 ... count: {pallets.Length}\");\n",
    "foreach (var pallet in pallets)\n",
    "{\n",
    "    Console.WriteLine($\"-- {pallet}\");\n",
    "}\n",
    "\n",
    "\n",
    "Console.WriteLine(\"\");\n",
    "Array.Resize(ref pallets, 6);\n",
    "Console.WriteLine($\"Resizing 6... count: {pallets.Length}\");\n",
    "\n",
    "foreach (var pallet in pallets)\n",
    "{\n",
    "    Console.WriteLine($\"-- {pallet}\");\n",
    "}\n",
    "\n",
    "Console.WriteLine(\"\");\n",
    "pallets[4] = \"C01\";\n",
    "pallets[5] = \"C02\";\n",
    "\n",
    "foreach (var pallet in pallets)\n",
    "{\n",
    "    Console.WriteLine($\"-- {pallet}\");\n",
    "}"
   ]
  },
  {
   "cell_type": "markdown",
   "metadata": {},
   "source": [
    "##### ***Resize the array to remove elements***"
   ]
  },
  {
   "cell_type": "markdown",
   "metadata": {},
   "source": [
    "* NOTE: doesn't remove null elements from array"
   ]
  },
  {
   "cell_type": "code",
   "execution_count": 15,
   "metadata": {
    "dotnet_interactive": {
     "language": "csharp"
    },
    "polyglot_notebook": {
     "kernelName": "csharp"
    },
    "vscode": {
     "languageId": "polyglot-notebook"
    }
   },
   "outputs": [
    {
     "name": "stdout",
     "output_type": "stream",
     "text": [
      "\n",
      "Clearing 2 ... count: 4\n",
      "-- \n",
      "-- \n",
      "-- B12\n",
      "-- A13\n",
      "\n",
      "Resizing 6 ... count: 6\n",
      "-- \n",
      "-- \n",
      "-- B12\n",
      "-- A13\n",
      "-- C01\n",
      "-- C02\n",
      "\n",
      "Resizing 3 ... count: 3\n",
      "-- \n",
      "-- \n",
      "-- B12\n"
     ]
    }
   ],
   "source": [
    "string[] pallets = { \"B14\", \"A11\", \"B12\", \"A13\" };\n",
    "Console.WriteLine(\"\");\n",
    "\n",
    "Array.Clear(pallets, 0, 2);\n",
    "Console.WriteLine($\"Clearing 2 ... count: {pallets.Length}\");\n",
    "foreach (var pallet in pallets)\n",
    "{\n",
    "    Console.WriteLine($\"-- {pallet}\");\n",
    "}\n",
    "\n",
    "Console.WriteLine(\"\");\n",
    "Array.Resize(ref pallets, 6);\n",
    "Console.WriteLine($\"Resizing 6 ... count: {pallets.Length}\");\n",
    "\n",
    "pallets[4] = \"C01\";\n",
    "pallets[5] = \"C02\";\n",
    "\n",
    "foreach (var pallet in pallets)\n",
    "{\n",
    "    Console.WriteLine($\"-- {pallet}\");\n",
    "}\n",
    "\n",
    "// lower number removes elms from array (starting at the end / truncates)\n",
    "\n",
    "Console.WriteLine(\"\");\n",
    "Array.Resize(ref pallets, 3); \n",
    "Console.WriteLine($\"Resizing 3 ... count: {pallets.Length}\");\n",
    "\n",
    "foreach (var pallet in pallets)\n",
    "{\n",
    "    Console.WriteLine($\"-- {pallet}\");\n",
    "}"
   ]
  },
  {
   "cell_type": "markdown",
   "metadata": {},
   "source": [
    "##### ***Can you remove `Array.Resize()` null elements from an array?***"
   ]
  },
  {
   "cell_type": "markdown",
   "metadata": {},
   "source": [
    "* Array.Resize() doesn't remove null elements.\n",
    "* alternative:\n",
    "    * count number of non-null elms by:\n",
    "        * iterating through each item\n",
    "        * increment a variable (counter)\n",
    "    * create second array that is size of counter variable\n",
    "    * loop through each element in original array\n",
    "    * copy non-null values into the new array"
   ]
  },
  {
   "cell_type": "markdown",
   "metadata": {},
   "source": [
    "##### ❓ **Check Knowledge: `Clear()`**"
   ]
  },
  {
   "cell_type": "markdown",
   "metadata": {},
   "source": [
    "1. What best describes the code Array.Clear(pallets, 0, 2); where pallets is a string array? \n",
    "    * ❌ `Array.Clear(pallets, 0, 2);` removes 2 array elements starting from item 0.\n",
    "    * ✔️ `Array.Clear(pallets, 0, 2);` removes the data from array element locations pallets[0] and pallets[2].\n",
    "    * ❌ `Array.Clear(pallets, 0, 2);` removes array elements that are equal to 0 or 2.\n"
   ]
  },
  {
   "cell_type": "markdown",
   "metadata": {},
   "source": [
    "#### 🚀 **[Exercise - Discover Split() and Join()](https://learn.microsoft.com/en-gb/training/modules/csharp-arrays-operations/4-exercise-split-join)**"
   ]
  },
  {
   "cell_type": "markdown",
   "metadata": {},
   "source": [
    "* * The variables of type string have many built-in methods that: \n",
    "    * convert a single string into either \n",
    "        * an array of smaller strings, \n",
    "        * or an array of individual characters.\n",
    "* Use methods like `ToCharArray()` and `Split()` to create an array\n",
    "* Use methods like `Join()`, or create a new string passing in an array of char to turn the array back into a single string"
   ]
  },
  {
   "cell_type": "markdown",
   "metadata": {},
   "source": [
    "##### ***`ToCharArray()`***"
   ]
  },
  {
   "cell_type": "markdown",
   "metadata": {},
   "source": [
    "* String data type's Array method\n",
    "* used to create an array of char, \n",
    "* each element of the array has one character of the original string."
   ]
  },
  {
   "cell_type": "code",
   "execution_count": 22,
   "metadata": {
    "dotnet_interactive": {
     "language": "csharp"
    },
    "polyglot_notebook": {
     "kernelName": "csharp"
    },
    "vscode": {
     "languageId": "polyglot-notebook"
    }
   },
   "outputs": [
    {
     "name": "stdout",
     "output_type": "stream",
     "text": [
      "a\n",
      "b\n",
      "c\n",
      "1\n",
      "2\n",
      "3\n",
      "abc123\n"
     ]
    }
   ],
   "source": [
    "string value = \"abc123\";\n",
    "char[] valueArray = value.ToCharArray();\n",
    "Console.WriteLine(valueArray[0]);\n",
    "Console.WriteLine(valueArray[1]);\n",
    "Console.WriteLine(valueArray[2]);\n",
    "Console.WriteLine(valueArray[3]);\n",
    "Console.WriteLine(valueArray[4]);\n",
    "Console.WriteLine(valueArray[5]);\n",
    "Console.WriteLine(valueArray);\n",
    "\n",
    "// initialise a string variable named value\n",
    "// initialise a char array named valueArray\n",
    "// this will break down each character of value as an element of the array\n",
    "// set the values of this array to the reverse of \"abc123\"\n",
    "// valueArray = [\"3\",\"2\",\"1\",\"c\",\"b\",\"a\"]"
   ]
  },
  {
   "cell_type": "markdown",
   "metadata": {},
   "source": [
    "##### ***`Reverse()`***"
   ]
  },
  {
   "cell_type": "markdown",
   "metadata": {},
   "source": [
    "* String data type's Array method"
   ]
  },
  {
   "cell_type": "markdown",
   "metadata": {},
   "source": [
    "**Reverse the string, then combine the char array into a new string**"
   ]
  },
  {
   "cell_type": "code",
   "execution_count": 24,
   "metadata": {
    "dotnet_interactive": {
     "language": "csharp"
    },
    "polyglot_notebook": {
     "kernelName": "csharp"
    },
    "vscode": {
     "languageId": "polyglot-notebook"
    }
   },
   "outputs": [
    {
     "name": "stdout",
     "output_type": "stream",
     "text": [
      "k\n",
      "t\n",
      "t\n",
      "taerg si ytsirk\n"
     ]
    }
   ],
   "source": [
    "string value = \"kristy is great\";\n",
    "char[] valueArray = value.ToCharArray();\n",
    "Console.WriteLine(valueArray[0]);\n",
    "\n",
    "// reverse array\n",
    "Array.Reverse(valueArray);\n",
    "Console.WriteLine(valueArray[0]);\n",
    "\n",
    "// create new string by combining the values of the char[] into a new string\n",
    "string result = new string(valueArray);\n",
    "Console.WriteLine(result[0]);\n",
    "Console.WriteLine(result);"
   ]
  },
  {
   "cell_type": "markdown",
   "metadata": {},
   "source": [
    "##### ***`Join()`***"
   ]
  },
  {
   "cell_type": "markdown",
   "metadata": {},
   "source": [
    "**Combine all of the chars into a new comma-separated-value string using `Join()`**"
   ]
  },
  {
   "cell_type": "markdown",
   "metadata": {},
   "source": [
    "* Perhaps you need to separate each element of the char array using a comma, as is common when working with data that is represented as ASCII text. \n",
    "* To do that, you'll use the String class' `Join()` method...\n",
    "    * passing in the char you want to `delimit` each segment (the comma) and the array itself."
   ]
  },
  {
   "cell_type": "code",
   "execution_count": 29,
   "metadata": {
    "dotnet_interactive": {
     "language": "csharp"
    },
    "polyglot_notebook": {
     "kernelName": "csharp"
    },
    "vscode": {
     "languageId": "polyglot-notebook"
    }
   },
   "outputs": [
    {
     "name": "stdout",
     "output_type": "stream",
     "text": [
      "adding commas\n",
      "adding commas\n",
      "sammoc gnidda\n",
      "s,a,m,m,o,c, ,g,n,i,d,d,a\n"
     ]
    }
   ],
   "source": [
    "string value = \"adding commas\";\n",
    "Console.WriteLine(value);\n",
    "char[] valueArray = value.ToCharArray();\n",
    "Console.WriteLine(valueArray);\n",
    "Array.Reverse(valueArray);\n",
    "Console.WriteLine(valueArray);\n",
    "\n",
    "string result = String.Join(\",\", valueArray);\n",
    "Console.WriteLine(result);"
   ]
  },
  {
   "cell_type": "markdown",
   "metadata": {},
   "source": [
    "##### ***`Split()`***"
   ]
  },
  {
   "cell_type": "markdown",
   "metadata": {},
   "source": [
    "**`Split()` the comma-separated-value string into an array of strings**"
   ]
  },
  {
   "cell_type": "markdown",
   "metadata": {},
   "source": [
    "* used with variables of type `string` to create an array of strings"
   ]
  },
  {
   "cell_type": "code",
   "execution_count": 30,
   "metadata": {
    "dotnet_interactive": {
     "language": "csharp"
    },
    "polyglot_notebook": {
     "kernelName": "csharp"
    },
    "vscode": {
     "languageId": "polyglot-notebook"
    }
   },
   "outputs": [
    {
     "name": "stdout",
     "output_type": "stream",
     "text": [
      "s,a,m,m,o,c, ,g,n,i,d,d,a\n",
      "s\n",
      "a\n",
      "m\n",
      "m\n",
      "o\n",
      "c\n",
      " \n",
      "g\n",
      "n\n",
      "i\n",
      "d\n",
      "d\n",
      "a\n"
     ]
    }
   ],
   "source": [
    "Console.WriteLine(result);\n",
    "string[] items = result.Split(',');\n",
    "foreach (string item in items)\n",
    "{\n",
    "    Console.WriteLine(item);\n",
    "}"
   ]
  },
  {
   "cell_type": "markdown",
   "metadata": {},
   "source": [
    "##### ❓ **Check Knowledge: `Join()`**"
   ]
  },
  {
   "cell_type": "markdown",
   "metadata": {},
   "source": [
    "1. `String.Join(\"-\", myArray);` is an example of a Join. Which explanation best fits this example? \n",
    "    * ❌ Constructs a character array from items in myArray connected with `,` (commas).\n",
    "    * ✔️ Constructs a string from items in myArray connected with `-` (dashes).\n",
    "    * ❌ Constructs a string named myArray connected with `-` (dashes)."
   ]
  },
  {
   "cell_type": "markdown",
   "metadata": {},
   "source": [
    "#### ⭐ **[Exercise - Complete a challenge to reverse words in a sentence](https://learn.microsoft.com/en-gb/training/modules/csharp-arrays-operations/5-challenge-1)**"
   ]
  },
  {
   "cell_type": "markdown",
   "metadata": {},
   "source": [
    "Challenge:\n",
    "\n",
    "* You should work to decompose a larger problem into lots of mini-problems, then use the various ideas in this module to solve each mini-problem."
   ]
  },
  {
   "cell_type": "markdown",
   "metadata": {},
   "source": [
    "##### ***Starter Code***"
   ]
  },
  {
   "cell_type": "code",
   "execution_count": 31,
   "metadata": {
    "dotnet_interactive": {
     "language": "csharp"
    },
    "polyglot_notebook": {
     "kernelName": "csharp"
    },
    "vscode": {
     "languageId": "polyglot-notebook"
    }
   },
   "outputs": [],
   "source": [
    "string pangram = \"The quick brown fox jumps over the lazy dog\";"
   ]
  },
  {
   "cell_type": "markdown",
   "metadata": {},
   "source": [
    "##### ***Requirements***"
   ]
  },
  {
   "cell_type": "markdown",
   "metadata": {},
   "source": [
    "* Write the code necessary to: \n",
    "    * reverse the letters of each word in place \n",
    "    * display the result.\n",
    "\n",
    "    <br>\n",
    "\n",
    "* In other words, \n",
    "    * don't just reverse every letter in the variable pangram. \n",
    "    * Instead, reverse just the letters in each word, \n",
    "        * print the reversed word in its original position in the message.\n",
    "\n",
    "    <br>\n",
    "\n",
    "* Important\n",
    "    * use `Split()`, `ToCharArray()`, `Array.Reverse()`, and `String.Join()`. \n",
    "    * create multiple arrays\n",
    "    * create at least one iteration statement"
   ]
  },
  {
   "cell_type": "markdown",
   "metadata": {},
   "source": [
    "Output:\n",
    "\n",
    "`ehT kciuq nworb xof spmuj revo eht yzal god`"
   ]
  },
  {
   "cell_type": "markdown",
   "metadata": {},
   "source": [
    "##### ***Playground***"
   ]
  },
  {
   "cell_type": "code",
   "execution_count": 32,
   "metadata": {
    "dotnet_interactive": {
     "language": "csharp"
    },
    "polyglot_notebook": {
     "kernelName": "csharp"
    },
    "vscode": {
     "languageId": "polyglot-notebook"
    }
   },
   "outputs": [
    {
     "name": "stdout",
     "output_type": "stream",
     "text": [
      "The quick brown fox jumps over the lazy dog\r\n"
     ]
    }
   ],
   "source": [
    "string pangram = \"The quick brown fox jumps over the lazy dog\";\n",
    "\n",
    "Console.WriteLine(pangram);"
   ]
  },
  {
   "cell_type": "code",
   "execution_count": 37,
   "metadata": {
    "dotnet_interactive": {
     "language": "csharp"
    },
    "polyglot_notebook": {
     "kernelName": "csharp"
    },
    "vscode": {
     "languageId": "polyglot-notebook"
    }
   },
   "outputs": [
    {
     "name": "stdout",
     "output_type": "stream",
     "text": [
      "The quick brown fox jumps over the lazy dog\r\n"
     ]
    }
   ],
   "source": [
    "string pangram = \"The quick brown fox jumps over the lazy dog\";\n",
    "\n",
    "// convert to char array, with each character an element of the list\n",
    "char[] pangramArray = pangram.ToCharArray();\n",
    "Console.WriteLine(pangramArray);"
   ]
  },
  {
   "cell_type": "code",
   "execution_count": null,
   "metadata": {
    "dotnet_interactive": {
     "language": "csharp"
    },
    "polyglot_notebook": {
     "kernelName": "csharp"
    },
    "vscode": {
     "languageId": "polyglot-notebook"
    }
   },
   "outputs": [],
   "source": [
    "// considering removing spaces - counting the spaces in the if statement\n",
    "// incomplete\n",
    "\n",
    "int pangramArrayLength = pangramArray.Length;\n",
    "for (int i = 0; i < pangramArrayLength; i++)\n",
    "{\n",
    "    char letter = pangramArray[i];\n",
    "    char[] newPangramArray = [pangramArrayLength - ]\n",
    "    do\n",
    "    {\n",
    "        if (letter != null);\n",
    "        {\n",
    "\n",
    "            \n",
    "        }\n",
    "\n",
    "    }\n",
    "    while ()\n",
    "    Console.WriteLine(i);\n",
    "}"
   ]
  },
  {
   "cell_type": "code",
   "execution_count": 51,
   "metadata": {
    "dotnet_interactive": {
     "language": "csharp"
    },
    "polyglot_notebook": {
     "kernelName": "csharp"
    },
    "vscode": {
     "languageId": "polyglot-notebook"
    }
   },
   "outputs": [
    {
     "ename": "Error",
     "evalue": "(6,32): error CS1061: 'char[]' does not contain a definition for 'Split' and no accessible extension method 'Split' accepting a first argument of type 'char[]' could be found (are you missing a using directive or an assembly reference?)",
     "output_type": "error",
     "traceback": [
      "(6,32): error CS1061: 'char[]' does not contain a definition for 'Split' and no accessible extension method 'Split' accepting a first argument of type 'char[]' could be found (are you missing a using directive or an assembly reference?)"
     ]
    }
   ],
   "source": [
    "string pangram = \"The quick brown fox jumps over the lazy dog\";\n",
    "\n",
    "Console.WriteLine(pangram);\n",
    "char[] pangramArray = pangram.ToCharArray();\n",
    "\n",
    "string[] result = pangramArray.Split('-');\n",
    "Console.WriteLine(result);"
   ]
  },
  {
   "cell_type": "code",
   "execution_count": null,
   "metadata": {
    "dotnet_interactive": {
     "language": "csharp"
    },
    "polyglot_notebook": {
     "kernelName": "csharp"
    },
    "vscode": {
     "languageId": "polyglot-notebook"
    }
   },
   "outputs": [],
   "source": [
    "/*\n",
    "    find the blanks in the string\n",
    "    use as a trigger/divider to inform when the word has finished\n",
    "    add that word to the Array\n",
    "    reverse each element of the array\n",
    "    print as one string\n",
    "*/"
   ]
  },
  {
   "cell_type": "code",
   "execution_count": 54,
   "metadata": {
    "dotnet_interactive": {
     "language": "csharp"
    },
    "polyglot_notebook": {
     "kernelName": "csharp"
    },
    "vscode": {
     "languageId": "polyglot-notebook"
    }
   },
   "outputs": [
    {
     "name": "stdout",
     "output_type": "stream",
     "text": [
      "The quick brown fox jumps over the lazy dog\n",
      "The quick brown fox jumps over the lazy dog\n"
     ]
    }
   ],
   "source": [
    "string pangram = \"The quick brown fox jumps over the lazy dog\";\n",
    "\n",
    "// convert to char array, with each character an element of the list\n",
    "char[] pangramArray = pangram.ToCharArray();\n",
    "Console.WriteLine(pangramArray);\n",
    "\n",
    "// turn back into a string\n",
    "string pangramResult = new string(pangramArray);\n",
    "Console.WriteLine(pangramResult);"
   ]
  },
  {
   "cell_type": "code",
   "execution_count": null,
   "metadata": {
    "dotnet_interactive": {
     "language": "csharp"
    },
    "polyglot_notebook": {
     "kernelName": "csharp"
    },
    "vscode": {
     "languageId": "polyglot-notebook"
    }
   },
   "outputs": [],
   "source": [
    "/*\n",
    "    use clear to empty value from the array\n",
    "    use resize to add it to the end of the array\n",
    "\n",
    "*/"
   ]
  },
  {
   "cell_type": "code",
   "execution_count": null,
   "metadata": {
    "dotnet_interactive": {
     "language": "csharp"
    },
    "polyglot_notebook": {
     "kernelName": "csharp"
    },
    "vscode": {
     "languageId": "polyglot-notebook"
    }
   },
   "outputs": [],
   "source": [
    "string pangram = \"The quick brown fox jumps over the lazy dog\";\n",
    "\n",
    "// convert to char array, with each character an element of the list\n",
    "char[] pangramArray = pangram.ToCharArray();\n",
    "Console.WriteLine(pangramArray);\n",
    "\n",
    "// turn back into a string\n",
    "Array.Clear(pangramArray, 0, 2);"
   ]
  },
  {
   "cell_type": "code",
   "execution_count": 61,
   "metadata": {
    "dotnet_interactive": {
     "language": "csharp"
    },
    "polyglot_notebook": {
     "kernelName": "csharp"
    },
    "vscode": {
     "languageId": "polyglot-notebook"
    }
   },
   "outputs": [
    {
     "name": "stdout",
     "output_type": "stream",
     "text": [
      "The quick brown fox jumps over the lazy dog\n",
      "The\n",
      "quick\n",
      "brown\n",
      "fox\n",
      "jumps\n",
      "over\n",
      "the\n",
      "lazy\n",
      "dog\n"
     ]
    }
   ],
   "source": [
    "// move each word to array\n",
    "\n",
    "string pangram = \"The quick brown fox jumps over the lazy dog\";\n",
    "Console.WriteLine(pangram);\n",
    "\n",
    "string[] pangramArray = pangram.Split(' ');\n",
    "\n",
    "foreach (string word in pangramArray)\n",
    "{\n",
    "    Console.WriteLine(word);\n",
    "}"
   ]
  },
  {
   "cell_type": "code",
   "execution_count": 67,
   "metadata": {
    "dotnet_interactive": {
     "language": "csharp"
    },
    "polyglot_notebook": {
     "kernelName": "csharp"
    },
    "vscode": {
     "languageId": "polyglot-notebook"
    }
   },
   "outputs": [
    {
     "name": "stdout",
     "output_type": "stream",
     "text": [
      "The quick brown fox jumps over the lazy dog\n",
      "ehT\n",
      "kciuq\n",
      "nworb\n",
      "xof\n",
      "spmuj\n",
      "revo\n",
      "eht\n",
      "yzal\n",
      "god\n"
     ]
    }
   ],
   "source": [
    "// move each word to array\n",
    "\n",
    "string pangram = \"The quick brown fox jumps over the lazy dog\";\n",
    "Console.WriteLine(pangram);\n",
    "\n",
    "string[] pangramArray = pangram.Split(' ');\n",
    "\n",
    "int pangramArrayLength = pangramArray.Length;\n",
    "\n",
    "for (int i = 0; i < pangramArrayLength; i++)\n",
    "{\n",
    "    // convert word to its own array\n",
    "    char[] wordArray = pangramArray[i].ToCharArray();\n",
    "\n",
    "    // reverse word array\n",
    "    Array.Reverse(wordArray);\n",
    "\n",
    "    // print individual reversed word\n",
    "    Console.WriteLine(wordArray);\n",
    "}\n",
    "\n"
   ]
  },
  {
   "cell_type": "code",
   "execution_count": 76,
   "metadata": {
    "dotnet_interactive": {
     "language": "csharp"
    },
    "polyglot_notebook": {
     "kernelName": "csharp"
    },
    "vscode": {
     "languageId": "polyglot-notebook"
    }
   },
   "outputs": [
    {
     "name": "stdout",
     "output_type": "stream",
     "text": [
      "The quick brown fox jumps over the lazy dog\n",
      "ehT\n",
      "kciuq\n",
      "nworb\n",
      "xof\n",
      "spmuj\n",
      "revo\n",
      "eht\n",
      "yzal\n",
      "god\n",
      "god\n"
     ]
    }
   ],
   "source": [
    "// move each word to array\n",
    "\n",
    "string pangram = \"The quick brown fox jumps over the lazy dog\";\n",
    "Console.WriteLine(pangram);\n",
    "\n",
    "string[] pangramArray = pangram.Split(' ');\n",
    "\n",
    "int pangramArrayLength = pangramArray.Length;\n",
    "\n",
    "string pangramString = \"\";\n",
    "\n",
    "for (int i = 0; i < pangramArrayLength; i++)\n",
    "{\n",
    "    // convert word to its own array\n",
    "    char[] wordArray = pangramArray[i].ToCharArray();\n",
    "\n",
    "    // reverse word array\n",
    "    Array.Reverse(wordArray);\n",
    "\n",
    "    // print individual reversed word\n",
    "    Console.WriteLine(wordArray);\n",
    "\n",
    "    string result = new string(wordArray);\n",
    "\n",
    "    pangramString =  String.Join(\"\", wordArray);\n",
    "\n",
    "}\n",
    "    Console.WriteLine(pangramString);"
   ]
  },
  {
   "cell_type": "code",
   "execution_count": 49,
   "metadata": {
    "dotnet_interactive": {
     "language": "csharp"
    },
    "polyglot_notebook": {
     "kernelName": "csharp"
    },
    "vscode": {
     "languageId": "polyglot-notebook"
    }
   },
   "outputs": [
    {
     "name": "stdout",
     "output_type": "stream",
     "text": [
      "The quick brown fox jumps over the lazy dog\n",
      "ehT kciuq nworb xof spmuj revo eht yzal god "
     ]
    }
   ],
   "source": [
    "// initialize variable\n",
    "string pangram = \"The quick brown fox jumps over the lazy dog\";\n",
    "Console.WriteLine(pangram);\n",
    "\n",
    "// split pangram into words using the SPACE as the divider\n",
    "string[] pangramArray = pangram.Split(' ');\n",
    "\n",
    "// iterate through each word in the pangramArray, convert into an array of letters and reverse the array\n",
    "int pangramArrayLength = pangramArray.Length;\n",
    "\n",
    "for (int i = 0; i < pangramArrayLength; i++)\n",
    "{\n",
    "    // convert word to its own array with each letter being an element within the array\n",
    "    // EG: ['T','h','e'] becomes ['e','h','T']\n",
    "    char[] wordArray = pangramArray[i].ToCharArray();\n",
    "\n",
    "    // reverse each word/letter array\n",
    "    Array.Reverse(wordArray);\n",
    "\n",
    "    // construct a new string from the reversed letter array. \n",
    "    // EG: ['e','h','T'] becomes [\"ehT\"]\n",
    "    string result = new string(wordArray);\n",
    "\n",
    "    // print reverse word, followed by a space\n",
    "    Console.Write(result + \" \");\n",
    "\n",
    "}\n",
    "    "
   ]
  },
  {
   "cell_type": "markdown",
   "metadata": {},
   "source": [
    "##### ***Solution***"
   ]
  },
  {
   "cell_type": "code",
   "execution_count": 48,
   "metadata": {
    "dotnet_interactive": {
     "language": "csharp"
    },
    "polyglot_notebook": {
     "kernelName": "csharp"
    },
    "vscode": {
     "languageId": "polyglot-notebook"
    }
   },
   "outputs": [
    {
     "name": "stdout",
     "output_type": "stream",
     "text": [
      "The quick brown fox jumps over the lazy dog\n",
      "ehT kciuq nworb xof spmuj revo eht yzal god "
     ]
    }
   ],
   "source": [
    "// initialize variable\n",
    "string pangram = \"The quick brown fox jumps over the lazy dog\";\n",
    "Console.WriteLine(pangram);\n",
    "\n",
    "// split pangram into words using the SPACE as the divider\n",
    "string[] pangramArray = pangram.Split(' ');\n",
    "\n",
    "// iterate through each word in the pangramArray, convert into an array of letters and reverse the array\n",
    "int pangramArrayLength = pangramArray.Length;\n",
    "\n",
    "for (int i = 0; i < pangramArrayLength; i++)\n",
    "{\n",
    "    // convert word to its own array with each letter being an element within the array\n",
    "    // EG: ['T','h','e'] becomes ['e','h','T']\n",
    "    char[] wordArray = pangramArray[i].ToCharArray();\n",
    "\n",
    "    // reverse each word/letter array\n",
    "    Array.Reverse(wordArray);\n",
    "\n",
    "    // construct a new string from the reversed letter array. \n",
    "    // EG: ['e','h','T'] becomes [\"ehT\"]\n",
    "    string result = new string(wordArray);\n",
    "\n",
    "    // print reverse word, followed by a space\n",
    "    Console.Write(result + \" \");\n",
    "\n",
    "}\n",
    "    "
   ]
  },
  {
   "cell_type": "markdown",
   "metadata": {},
   "source": [
    "MS LEARN SOLUTION"
   ]
  },
  {
   "cell_type": "code",
   "execution_count": 50,
   "metadata": {
    "dotnet_interactive": {
     "language": "csharp"
    },
    "polyglot_notebook": {
     "kernelName": "csharp"
    },
    "vscode": {
     "languageId": "polyglot-notebook"
    }
   },
   "outputs": [
    {
     "name": "stdout",
     "output_type": "stream",
     "text": [
      "ehT kciuq nworb xof spmuj revo eht yzal god\r\n"
     ]
    }
   ],
   "source": [
    "string pangram = \"The quick brown fox jumps over the lazy dog\";\n",
    "\n",
    "// Step 1\n",
    "string[] message = pangram.Split(' ');\n",
    "\n",
    "//Step 2\n",
    "string[] newMessage = new string[message.Length];\n",
    "\n",
    "// Step 3\n",
    "for (int i = 0; i < message.Length; i++)\n",
    "{\n",
    "    char[] letters = message[i].ToCharArray();\n",
    "    Array.Reverse(letters);\n",
    "    newMessage[i] = new string(letters);\n",
    "}\n",
    "\n",
    "//Step 4\n",
    "string result = String.Join(\" \", newMessage);\n",
    "Console.WriteLine(result);"
   ]
  },
  {
   "cell_type": "markdown",
   "metadata": {},
   "source": [
    "#### ⭐ **[Exercise - Complete a challenge to parse a string of orders, sort the orders and tag possible errors](https://learn.microsoft.com/en-gb/training/modules/csharp-arrays-operations/7-challenge-2)**"
   ]
  },
  {
   "cell_type": "markdown",
   "metadata": {},
   "source": [
    "Challenge:\n",
    "* Parse the individual \"Order IDs\"\n",
    "* output the \"OrderIDs\" sorted and tagged as \"Error\"... \n",
    "    * if they aren't exactly four characters in length."
   ]
  },
  {
   "cell_type": "markdown",
   "metadata": {},
   "source": [
    "##### ***Starter Code***"
   ]
  },
  {
   "cell_type": "code",
   "execution_count": 51,
   "metadata": {
    "dotnet_interactive": {
     "language": "csharp"
    },
    "polyglot_notebook": {
     "kernelName": "csharp"
    },
    "vscode": {
     "languageId": "polyglot-notebook"
    }
   },
   "outputs": [],
   "source": [
    "string orderStream = \"B123,C234,A345,C15,B177,G3003,C235,B179\";"
   ]
  },
  {
   "cell_type": "markdown",
   "metadata": {},
   "source": [
    "##### ***Requirements***"
   ]
  },
  {
   "cell_type": "markdown",
   "metadata": {},
   "source": [
    "* Write the code necessary to: \n",
    "    * parse the \"Order IDs\" from the string of incoming orders \n",
    "    * store the \"Order IDs\" in an array\n",
    "    * output each \"Order ID\" in sorted order\n",
    "    * tag orders that aren't exactly four characters in length as \"- Error\""
   ]
  },
  {
   "cell_type": "markdown",
   "metadata": {},
   "source": [
    "Output:"
   ]
  },
  {
   "cell_type": "markdown",
   "metadata": {},
   "source": [
    "    A345\n",
    "    B123\n",
    "    B177\n",
    "    B179\n",
    "    C15     - Error\n",
    "    C234\n",
    "    C235\n",
    "    G3003   - Error\n",
    "    "
   ]
  },
  {
   "cell_type": "markdown",
   "metadata": {},
   "source": [
    "##### ***Playground***"
   ]
  },
  {
   "cell_type": "code",
   "execution_count": 22,
   "metadata": {
    "dotnet_interactive": {
     "language": "csharp"
    },
    "polyglot_notebook": {
     "kernelName": "csharp"
    },
    "vscode": {
     "languageId": "polyglot-notebook"
    }
   },
   "outputs": [
    {
     "name": "stdout",
     "output_type": "stream",
     "text": [
      "A345\n",
      "B123\n",
      "B177\n",
      "B179\n",
      "C15\t- Error\n",
      "C234\n",
      "C235\n",
      "G3003\t- Error\n"
     ]
    }
   ],
   "source": [
    "// parse the \"Order IDs\" from the string of incoming orders and store the \"Order IDs\" in an array\n",
    "\n",
    "// --------------------------------\n",
    "\n",
    "// insitialise string variable\n",
    "string orderStream = \"B123,C234,A345,C15,B177,G3003,C235,B179\";\n",
    "\n",
    "// store Order IDs in array:\n",
    "\n",
    "// split orderStream into values using the , as the divider\n",
    "string[] orderIDs = orderStream.Split(',');\n",
    "\n",
    "// sort array\n",
    "Array.Sort(orderIDs);\n",
    "\n",
    "\n",
    "foreach (string order in orderIDs)\n",
    "{\n",
    "    if (order.Length == 4)\n",
    "    {\n",
    "        Console.WriteLine(order);\n",
    "    }\n",
    "    else\n",
    "    {\n",
    "        Console.WriteLine(order + \"\\t- Error\");\n",
    "    }\n",
    "}"
   ]
  },
  {
   "cell_type": "code",
   "execution_count": 18,
   "metadata": {
    "dotnet_interactive": {
     "language": "csharp"
    },
    "polyglot_notebook": {
     "kernelName": "csharp"
    },
    "vscode": {
     "languageId": "polyglot-notebook"
    }
   },
   "outputs": [
    {
     "name": "stdout",
     "output_type": "stream",
     "text": [
      "B\n",
      "1\n",
      "2\n",
      "3\n",
      "B,\n",
      "B,C\n",
      "2\n",
      "3\n",
      "4\n",
      "B,C,\n",
      "B,C,A\n",
      "3\n",
      "4\n",
      "5\n",
      "B,C,A,\n",
      "B,C,A,C\n",
      "1\n",
      "5\n",
      "B,C,A,C,\n",
      "B,C,A,C,B\n",
      "1\n",
      "7\n",
      "7\n",
      "B,C,A,C,B,\n",
      "B,C,A,C,B,G\n",
      "3\n",
      "0\n",
      "0\n",
      "3\n",
      "B,C,A,C,B,G,\n",
      "B,C,A,C,B,G,C\n",
      "2\n",
      "3\n",
      "5\n",
      "B,C,A,C,B,G,C,\n",
      "B,C,A,C,B,G,C,B\n",
      "1\n",
      "7\n",
      "9\n"
     ]
    }
   ],
   "source": [
    "// insitialise string variable\n",
    "string orderStream = \"B123,C234,A345,C15,B177,G3003,C235,B179\";\n",
    "\n",
    "string parsedLetters = \"\";\n",
    "int parsedNumbers = 0;\n",
    "\n",
    "foreach (char character in orderStream)\n",
    "{\n",
    "    if (int.TryParse(character.ToString(), out parsedNumbers))\n",
    "    {\n",
    "        Console.WriteLine(parsedNumbers);\n",
    "    }\n",
    "    else\n",
    "    {\n",
    "        parsedLetters += character;\n",
    "        Console.WriteLine(parsedLetters);\n",
    "    }\n",
    "    \n",
    "}"
   ]
  },
  {
   "cell_type": "code",
   "execution_count": 19,
   "metadata": {
    "dotnet_interactive": {
     "language": "csharp"
    },
    "polyglot_notebook": {
     "kernelName": "csharp"
    },
    "vscode": {
     "languageId": "polyglot-notebook"
    }
   },
   "outputs": [
    {
     "name": "stdout",
     "output_type": "stream",
     "text": [
      "0\n",
      "1\n",
      "12\n",
      "123\n",
      "0\n",
      "1232\n",
      "12323\n",
      "123234\n",
      "0\n",
      "1232343\n",
      "12323434\n",
      "123234345\n",
      "0\n",
      "1232343451\n",
      "12323434515\n",
      "0\n",
      "123234345151\n",
      "1232343451517\n",
      "12323434515177\n",
      "123234345151773\n",
      "1232343451517730\n",
      "12323434515177300\n",
      "123234345151773003\n",
      "0\n",
      "1232343451517730032\n",
      "12323434515177300323\n",
      "123234345151773003235\n",
      "0\n",
      "1232343451517730032351\n",
      "12323434515177300323517\n",
      "123234345151773003235179\n"
     ]
    }
   ],
   "source": [
    "// insitialise string variable\n",
    "string orderStream = \"B123,C234,A345,C15,B177,G3003,C235,B179\";\n",
    "\n",
    "string parsedLetters = \"\";\n",
    "int parsedNumber = 0;\n",
    "\n",
    "string[] orderIDs;\n",
    "\n",
    "foreach (char character in orderStream)\n",
    "{\n",
    "    // convert char to string for comparison and tryparse\n",
    "    string chacterAsString = character.ToString();\n",
    "\n",
    "    if (chacterAsString is \",\")\n",
    "    {\n",
    "        \n",
    "    }\n",
    "    else if (chacterAsString is \"A\" || chacterAsString == \"B\" || chacterAsString == \"C\")\n",
    "    {\n",
    "        string id = chacterAsString;\n",
    "        Console.WriteLine(id);\n",
    "    }\n",
    "    else if (int.TryParse(character.ToString(), out parsedNumber))\n",
    "    {\n",
    "        id += parsedNumber;\n",
    "    }\n",
    "\n",
    "    \n",
    "}\n",
    "    string[] orderIds = orderStream.Split(',');"
   ]
  },
  {
   "cell_type": "code",
   "execution_count": 11,
   "metadata": {
    "dotnet_interactive": {
     "language": "csharp"
    },
    "polyglot_notebook": {
     "kernelName": "csharp"
    },
    "vscode": {
     "languageId": "polyglot-notebook"
    }
   },
   "outputs": [
    {
     "name": "stdout",
     "output_type": "stream",
     "text": [
      "B\n",
      "1\n",
      "2\n",
      "3\n",
      "C\n",
      "2\n",
      "3\n",
      "4\n",
      "A\n",
      "3\n",
      "4\n",
      "5\n",
      "C\n",
      "1\n",
      "5\n",
      "B\n",
      "1\n",
      "7\n",
      "7\n",
      "G\n",
      "3\n",
      "0\n",
      "0\n",
      "3\n",
      "C\n",
      "2\n",
      "3\n",
      "5\n",
      "B\n",
      "1\n",
      "7\n",
      "9\n"
     ]
    }
   ],
   "source": [
    "// insitialise string variable\n",
    "string orderStream = \"B123,C234,A345,C15,B177,G3003,C235,B179\";\n",
    "\n",
    "string[] orderIds = orderStream.Split(',');\n",
    "\n",
    "foreach (string order in orderIDs)\n",
    "{\n",
    "    foreach (char letter in order)\n",
    "    {\n",
    "        Console.WriteLine(letter);\n",
    "    }\n",
    "    \n",
    "}\n"
   ]
  },
  {
   "cell_type": "markdown",
   "metadata": {},
   "source": [
    "##### ***Solution***"
   ]
  },
  {
   "cell_type": "code",
   "execution_count": 23,
   "metadata": {
    "dotnet_interactive": {
     "language": "csharp"
    },
    "polyglot_notebook": {
     "kernelName": "csharp"
    },
    "vscode": {
     "languageId": "polyglot-notebook"
    }
   },
   "outputs": [
    {
     "name": "stdout",
     "output_type": "stream",
     "text": [
      "A345\n",
      "B123\n",
      "B177\n",
      "B179\n",
      "C15\t- Error\n",
      "C234\n",
      "C235\n",
      "G3003\t- Error\n"
     ]
    }
   ],
   "source": [
    "// parse the \"Order IDs\" from the string of incoming orders and store the \"Order IDs\" in an array\n",
    "\n",
    "// --------------------------------\n",
    "\n",
    "// insitialise string variable\n",
    "string orderStream = \"B123,C234,A345,C15,B177,G3003,C235,B179\";\n",
    "\n",
    "// store Order IDs in array:\n",
    "\n",
    "// split orderStream into values using the , as the divider\n",
    "string[] orderIDs = orderStream.Split(',');\n",
    "\n",
    "// sort array\n",
    "Array.Sort(orderIDs);\n",
    "\n",
    "\n",
    "foreach (string order in orderIDs)\n",
    "{\n",
    "    if (order.Length == 4)\n",
    "    {\n",
    "        Console.WriteLine(order);\n",
    "    }\n",
    "    else\n",
    "    {\n",
    "        Console.WriteLine(order + \"\\t- Error\");\n",
    "    }\n",
    "}"
   ]
  },
  {
   "cell_type": "markdown",
   "metadata": {},
   "source": [
    "##### ❓ **Check Knowledge: `Sort()` and `null`**"
   ]
  },
  {
   "cell_type": "markdown",
   "metadata": {},
   "source": [
    "1. Which method changes the order of items in an string array?\n",
    "    * ❌ myArray.Resize()\n",
    "    * ❌ myArray.Clear()\n",
    "    * ✔️ myArray.Sort()\n",
    "\n",
    "    <br>\n",
    "\n",
    "2. What is null? \n",
    "    * ❌ The same as an empty string.\n",
    "    * ❌ The same as the value zero.\n",
    "    * ✔️ A value that indicates a variable points to nothing in memory. "
   ]
  },
  {
   "cell_type": "markdown",
   "metadata": {},
   "source": [
    "#### **Summary**"
   ]
  },
  {
   "cell_type": "markdown",
   "metadata": {},
   "source": [
    "In this module, you completed exercises using `helper` methods to use arrays more effectively to:\n",
    "\n",
    "* `Clear` items in an array, learning the elements are set to `null`, using the `Array.Clear() `method.\n",
    "* `Resize` an array to add and remove elements using the `Array.Resize() `method.\n",
    "* `Convert` a string into an array using `String.Split()` specifying a string `separator` character to produce a value in the returned array.\n",
    "* Combine all of the elements of an array into a single string using the `String.Join()` method.\n",
    "* The array helper methods allowed you to work flexibly with data in the applications. Without these features, arrays would be less useful."
   ]
  },
  {
   "cell_type": "markdown",
   "metadata": {},
   "source": [
    "_________________________\n",
    "\n",
    "### [Format alphanumeric data for presentation in C#](https://learn.microsoft.com/en-gb/training/modules/csharp-format-strings/)\n",
    "\n",
    "_________________________"
   ]
  },
  {
   "cell_type": "markdown",
   "metadata": {},
   "source": [
    "##### ***Intro***"
   ]
  },
  {
   "cell_type": "markdown",
   "metadata": {},
   "source": [
    "Use C# to format strings with white space, special characters, padding, and alignment. Give context to numeric data like currency, percentages, and numbers with decimals."
   ]
  },
  {
   "cell_type": "markdown",
   "metadata": {},
   "source": [
    "####  ✔️ **Learning Objectives:**"
   ]
  },
  {
   "cell_type": "markdown",
   "metadata": {},
   "source": [
    "* Use character escape sequences to add tabs, new lines, and Unicode characters to our strings.\n",
    "* Create verbatim string literals, and escape common characters like backslash (\\) and double-quotes(&quot;).\n",
    "* Merge templates with variables using composite formatting and string interpolation.\n",
    "* Include various format specifiers for percentages, currency, and numbers."
   ]
  },
  {
   "cell_type": "markdown",
   "metadata": {},
   "source": [
    "####  **Introduction:**"
   ]
  },
  {
   "cell_type": "markdown",
   "metadata": {},
   "source": [
    "![](./Assets/intro-formatting.png)"
   ]
  },
  {
   "cell_type": "markdown",
   "metadata": {},
   "source": [
    "#### 🚀 **[Exercise - Investigate string formatting basics](https://learn.microsoft.com/en-gb/training/modules/csharp-format-strings/2-string-formatting-basics)**"
   ]
  },
  {
   "cell_type": "markdown",
   "metadata": {},
   "source": [
    "##### ***Intro***"
   ]
  },
  {
   "cell_type": "markdown",
   "metadata": {},
   "source": [
    "In this unit, you learn methods to format strings for efficient display, especially for cases using multiple variables.\n",
    "\n",
    "* You can use composite formatting or string interpolation to format strings.\n",
    "\n",
    "* With composite formatting, you use a string template containing one or more replacement tokens in the form `{0}`. You also supply a list of arguments that are matched with the replacement tokens based on their order. Composite formatting works when using `string.Format()` or `Console.WriteLine().`\n",
    "\n",
    "* With string interpolation, you use a string template containing the variable names you want replaced surrounded by curly braces. Use the `$` directive before the string template to indicate you want the string to be interpolated.\n",
    "\n",
    "* Format currency using a `:C` specifier.\n",
    "\n",
    "* Format numbers using a `:N` specifier. Control the precision (number of values after the decimal point) using a number after the `:N` like `{myNumber:N3}`.\n",
    "\n",
    "* Format percentages using the `:P` format specifier.\n",
    "\n",
    "* Formatting currency and numbers depends on the end user's culture, a five character code that includes the user's country/region and language (per the settings on their computer)."
   ]
  },
  {
   "cell_type": "markdown",
   "metadata": {},
   "source": [
    "##### ***What is Composite Formatting?***"
   ]
  },
  {
   "cell_type": "markdown",
   "metadata": {},
   "source": [
    "* Composite formatting uses numbered placeholders within a string. \n",
    "* At run time, everything inside the braces is resolved to a value that is also passed in based on their position.\n",
    "\n",
    "* This example of composite formatting uses a built-in method `Format()` on the string data type keyword."
   ]
  },
  {
   "cell_type": "code",
   "execution_count": 25,
   "metadata": {
    "dotnet_interactive": {
     "language": "csharp"
    },
    "polyglot_notebook": {
     "kernelName": "csharp"
    },
    "vscode": {
     "languageId": "polyglot-notebook"
    }
   },
   "outputs": [
    {
     "name": "stdout",
     "output_type": "stream",
     "text": [
      "Hello World!\r\n"
     ]
    }
   ],
   "source": [
    "string first = \"Hello\";\n",
    "string second = \"World\";\n",
    "string result = string.Format(\"{0} {1}!\", first, second);\n",
    "Console.WriteLine(result);\n",
    "\n",
    "// literal string \"{0} {1}!\" forms a template, parts of which are replaced at run time.\n",
    "//The token {0} is replaced by the first argument after the string template, in other words, the value of the variable first.\n",
    "// The token {1} is replaced by the second argument after the string template, in other words, the value of the variable second."
   ]
  },
  {
   "cell_type": "code",
   "execution_count": 26,
   "metadata": {
    "dotnet_interactive": {
     "language": "csharp"
    },
    "polyglot_notebook": {
     "kernelName": "csharp"
    },
    "vscode": {
     "languageId": "polyglot-notebook"
    }
   },
   "outputs": [
    {
     "name": "stdout",
     "output_type": "stream",
     "text": [
      "World Hello!\n",
      "Hello Hello Hello!\n"
     ]
    }
   ],
   "source": [
    "string first = \"Hello\";\n",
    "string second = \"World\";\n",
    "Console.WriteLine(\"{1} {0}!\", first, second);\n",
    "Console.WriteLine(\"{0} {0} {0}!\", first, second);"
   ]
  },
  {
   "cell_type": "markdown",
   "metadata": {},
   "source": [
    "##### ***What is  string interpolation?***"
   ]
  },
  {
   "cell_type": "markdown",
   "metadata": {},
   "source": [
    "* String interpolation is a technique that simplifies composite formatting.\n",
    "\n",
    "* Instead of using a numbered token and including the literal value or variable name in a list of arguments to `String.Format()` or `Console.WriteLine()`, you can just use the variable name inside of the curly braces."
   ]
  },
  {
   "cell_type": "code",
   "execution_count": 27,
   "metadata": {
    "dotnet_interactive": {
     "language": "csharp"
    },
    "polyglot_notebook": {
     "kernelName": "csharp"
    },
    "vscode": {
     "languageId": "polyglot-notebook"
    }
   },
   "outputs": [
    {
     "name": "stdout",
     "output_type": "stream",
     "text": [
      "Hello World!\n",
      "World Hello!\n",
      "Hello Hello Hello!\n"
     ]
    }
   ],
   "source": [
    "string first = \"Hello\";\n",
    "string second = \"World\";\n",
    "Console.WriteLine($\"{first} {second}!\");\n",
    "Console.WriteLine($\"{second} {first}!\");\n",
    "Console.WriteLine($\"{first} {first} {first}!\");"
   ]
  },
  {
   "cell_type": "markdown",
   "metadata": {},
   "source": [
    "##### ***Formatting currency***"
   ]
  },
  {
   "cell_type": "markdown",
   "metadata": {},
   "source": [
    "* What happens if your country/region and language isn't known? \n",
    "    * If you run the previous code in the \"in-browser\" .NET Editor, such as at TrydotNet you'll see the following output: Price:` ¤123.45 (Save ¤50.00).` \n",
    "    * The symbol `¤` is used instead of the symbol for your country/region's money. This is a generic symbol used to denote \"currency\" regardless of the type of currency. You see this symbol in the .NET Editor because it ignores your current location."
   ]
  },
  {
   "cell_type": "code",
   "execution_count": 31,
   "metadata": {
    "dotnet_interactive": {
     "language": "csharp"
    },
    "polyglot_notebook": {
     "kernelName": "csharp"
    },
    "vscode": {
     "languageId": "polyglot-notebook"
    }
   },
   "outputs": [
    {
     "name": "stdout",
     "output_type": "stream",
     "text": [
      "Price: 123.45 (Save 50)\n",
      "Price: ¤123.45 (Save ¤50.00)\n"
     ]
    }
   ],
   "source": [
    "decimal price = 123.45m;\n",
    "int discount = 50;\n",
    "\n",
    "// :C for currency\n",
    "Console.WriteLine($\"Price: {price} (Save {discount})\");\n",
    "Console.WriteLine($\"Price: {price:C} (Save {discount:C})\");"
   ]
  },
  {
   "cell_type": "markdown",
   "metadata": {},
   "source": [
    "##### ***How the user's country/region and language affect string formatting***"
   ]
  },
  {
   "cell_type": "markdown",
   "metadata": {},
   "source": [
    "What if you execute the previous code on a computer in France that has its Windows Display Language set to French? In that case you would see the following output.\n",
    "\n",
    "`Price: 123,45 € (Save 50,00 €)`\n",
    "\n",
    "* The reason for the previous `\"€\"` output is that the string currency formatting feature is dependent on the local computer setting for culture. \n",
    "    * \"culture\" = country/region and language of the end user. \n",
    "    * culture code = five character string that computers use to identify the location and language of the end user. \n",
    "\n",
    "For example the culture code of: \n",
    "* an English speaker in the USA is `en-US.`\n",
    "* *a French speaker in France is `fr-FR.`\n",
    "* a French speaker in Canada is `fr-CA.`\n",
    "\n",
    "Unfortunately, making sure your code works correctly on all computers regardless of the country/region or the end user's language is challenging. **This process is known as localization (or globalization).** \n",
    "\n",
    "Localization depends on many factors not discussed in this module, but simply, the string formatting syntax may use a different format depending on the user's culture."
   ]
  },
  {
   "cell_type": "markdown",
   "metadata": {},
   "source": [
    "##### ***Formatting numbers***"
   ]
  },
  {
   "cell_type": "code",
   "execution_count": 32,
   "metadata": {
    "dotnet_interactive": {
     "language": "csharp"
    },
    "polyglot_notebook": {
     "kernelName": "csharp"
    },
    "vscode": {
     "languageId": "polyglot-notebook"
    }
   },
   "outputs": [
    {
     "name": "stdout",
     "output_type": "stream",
     "text": [
      "Measurement: 123456.78912 units\n",
      "Measurement: 123,456.789 units\n",
      "Measurement: 123,456.7891 units\n"
     ]
    }
   ],
   "source": [
    "// :N\n",
    "\n",
    "decimal measurement = 123456.78912m;\n",
    "Console.WriteLine($\"Measurement: {measurement} units\");\n",
    "Console.WriteLine($\"Measurement: {measurement:N} units\");\n",
    "Console.WriteLine($\"Measurement: {measurement:N4} units\");"
   ]
  },
  {
   "cell_type": "markdown",
   "metadata": {},
   "source": [
    "##### ***Formatting percentages***"
   ]
  },
  {
   "cell_type": "code",
   "execution_count": 35,
   "metadata": {
    "dotnet_interactive": {
     "language": "csharp"
    },
    "polyglot_notebook": {
     "kernelName": "csharp"
    },
    "vscode": {
     "languageId": "polyglot-notebook"
    }
   },
   "outputs": [
    {
     "name": "stdout",
     "output_type": "stream",
     "text": [
      "Tax rate: 0.36785\n",
      "Tax rate: 36.79%\n"
     ]
    }
   ],
   "source": [
    "// :P\n",
    "\n",
    "decimal tax = .36785m;\n",
    "Console.WriteLine($\"Tax rate: {tax}\");\n",
    "Console.WriteLine($\"Tax rate: {tax:P2}\");"
   ]
  },
  {
   "cell_type": "markdown",
   "metadata": {},
   "source": [
    "##### ***Combining formatting approaches***"
   ]
  },
  {
   "cell_type": "code",
   "execution_count": 36,
   "metadata": {
    "dotnet_interactive": {
     "language": "csharp"
    },
    "polyglot_notebook": {
     "kernelName": "csharp"
    },
    "vscode": {
     "languageId": "polyglot-notebook"
    }
   },
   "outputs": [
    {
     "name": "stdout",
     "output_type": "stream",
     "text": [
      "You saved ¤7.56 off the regular ¤67.55 price. \r\n"
     ]
    }
   ],
   "source": [
    "decimal price = 67.55m;\n",
    "decimal salePrice = 59.99m;\n",
    "\n",
    "// :C2 = currency 2 decimal places with currency sign\n",
    "\n",
    "string yourDiscount = String.Format(\"You saved {0:C2} off the regular {1:C2} price. \", (price - salePrice), price);\n",
    "\n",
    "Console.WriteLine(yourDiscount);"
   ]
  },
  {
   "cell_type": "code",
   "execution_count": 44,
   "metadata": {
    "dotnet_interactive": {
     "language": "csharp"
    },
    "polyglot_notebook": {
     "kernelName": "csharp"
    },
    "vscode": {
     "languageId": "polyglot-notebook"
    }
   },
   "outputs": [
    {
     "name": "stdout",
     "output_type": "stream",
     "text": [
      "You saved ¤7.56 off the regular ¤67.55 price. A discount of 11.192%!\r\n"
     ]
    }
   ],
   "source": [
    "decimal price = 67.55m;\n",
    "decimal salePrice = 59.99m;\n",
    "\n",
    "// :C2 = currency 2 decimal places with currency sign\n",
    "\n",
    "string yourDiscount2 = String.Format(\"You saved {0:C} off the regular {1:C} price. \", (price - salePrice), price);\n",
    "\n",
    "// :P = percentage\n",
    "yourDiscount2 += $\"A discount of {(price - salePrice)/price:P}!\";\n",
    "Console.WriteLine(yourDiscount2);"
   ]
  },
  {
   "cell_type": "code",
   "execution_count": 45,
   "metadata": {
    "dotnet_interactive": {
     "language": "csharp"
    },
    "polyglot_notebook": {
     "kernelName": "csharp"
    },
    "vscode": {
     "languageId": "polyglot-notebook"
    }
   },
   "outputs": [
    {
     "name": "stdout",
     "output_type": "stream",
     "text": [
      "You saved ¤7.56 off the regular ¤67.55 price. A discount of 11.19%!\r\n"
     ]
    }
   ],
   "source": [
    "decimal price = 67.55m;\n",
    "decimal salePrice = 59.99m;\n",
    "\n",
    "string yourDiscount = String.Format(\"You saved {0:C2} off the regular {1:C2} price. \", (price - salePrice), price);\n",
    "\n",
    "yourDiscount += $\"A discount of {((price - salePrice)/price):P2}!\"; //inserted\n",
    "Console.WriteLine(yourDiscount);"
   ]
  },
  {
   "cell_type": "markdown",
   "metadata": {},
   "source": [
    "#### ❓ **Check Knowledge: `:P`**"
   ]
  },
  {
   "cell_type": "markdown",
   "metadata": {},
   "source": [
    "1. Which is the output of `Console.WriteLine($\"Tax rate: {tax:P1}\");`, where tax is defined by decimal tax =.12051 m;? \n",
    "    * ❌ `Tax rate: 12.05%`\n",
    "    * ❌ `Tax rate: 12.10%`\n",
    "    * ✔️ `Tax rate: 12.1%`"
   ]
  },
  {
   "cell_type": "code",
   "execution_count": 46,
   "metadata": {
    "dotnet_interactive": {
     "language": "csharp"
    },
    "polyglot_notebook": {
     "kernelName": "csharp"
    },
    "vscode": {
     "languageId": "polyglot-notebook"
    }
   },
   "outputs": [
    {
     "name": "stdout",
     "output_type": "stream",
     "text": [
      "Tax rate: 12.1%\r\n"
     ]
    }
   ],
   "source": [
    "decimal tax = .12051m;\n",
    "Console.WriteLine($\"Tax rate: {tax:P1}\");"
   ]
  },
  {
   "cell_type": "markdown",
   "metadata": {},
   "source": [
    "#### 🚀 **[Exercise - Explore string interpolation](https://learn.microsoft.com/en-gb/training/modules/csharp-format-strings/3-exercise-string-interpolation)**"
   ]
  },
  {
   "cell_type": "markdown",
   "metadata": {},
   "source": [
    "##### ***Intro***"
   ]
  },
  {
   "cell_type": "markdown",
   "metadata": {},
   "source": [
    "**Challenge:**\n",
    "\n",
    "* print a receipt for the customer purchasing shares of an investment product. \n",
    "* The shares are purchased automatically at the end of the year based on a series of payroll deductions, so.. \n",
    "    * the number of shares purchased usually contains a decimal amount. \n",
    "* To print the receipt, you would likely need to: \n",
    "    * combine data of different types, including: \n",
    "        * fractional values\n",
    "        * currency \n",
    "        * percentages in precise ways."
   ]
  },
  {
   "cell_type": "markdown",
   "metadata": {},
   "source": [
    "##### ***Starter Code***"
   ]
  },
  {
   "cell_type": "code",
   "execution_count": 47,
   "metadata": {
    "dotnet_interactive": {
     "language": "csharp"
    },
    "polyglot_notebook": {
     "kernelName": "csharp"
    },
    "vscode": {
     "languageId": "polyglot-notebook"
    }
   },
   "outputs": [
    {
     "name": "stdout",
     "output_type": "stream",
     "text": [
      "Invoice Number: 1201\r\n"
     ]
    }
   ],
   "source": [
    "int invoiceNumber = 1201;\n",
    "decimal productShares = 25.4568m;\n",
    "decimal subtotal = 2750.00m;\n",
    "decimal taxPercentage = .15825m;\n",
    "decimal total = 3185.19m;\n",
    "\n",
    "Console.WriteLine($\"Invoice Number: {invoiceNumber}\");"
   ]
  },
  {
   "cell_type": "markdown",
   "metadata": {},
   "source": [
    "##### ***Display the product shares with one thousandth of a share (0.001) precision***"
   ]
  },
  {
   "cell_type": "code",
   "execution_count": 48,
   "metadata": {
    "dotnet_interactive": {
     "language": "csharp"
    },
    "polyglot_notebook": {
     "kernelName": "csharp"
    },
    "vscode": {
     "languageId": "polyglot-notebook"
    }
   },
   "outputs": [
    {
     "name": "stdout",
     "output_type": "stream",
     "text": [
      "Invoice Number: 1201\n",
      "   Shares: 25.457 Product\n"
     ]
    }
   ],
   "source": [
    "int invoiceNumber = 1201;\n",
    "decimal productShares = 25.4568m;\n",
    "decimal subtotal = 2750.00m;\n",
    "decimal taxPercentage = .15825m;\n",
    "decimal total = 3185.19m;\n",
    "\n",
    "Console.WriteLine($\"Invoice Number: {invoiceNumber}\");\n",
    "\n",
    "// bill customers using fractions of shares --> display 3 digits after decimal\n",
    "Console.WriteLine($\"   Shares: {productShares:N3} Product\");"
   ]
  },
  {
   "cell_type": "markdown",
   "metadata": {},
   "source": [
    "##### ***Display the subtotal that you charge the customer formatted as currencyn***"
   ]
  },
  {
   "cell_type": "code",
   "execution_count": 49,
   "metadata": {
    "dotnet_interactive": {
     "language": "csharp"
    },
    "polyglot_notebook": {
     "kernelName": "csharp"
    },
    "vscode": {
     "languageId": "polyglot-notebook"
    }
   },
   "outputs": [
    {
     "name": "stdout",
     "output_type": "stream",
     "text": [
      "Invoice Number: 1201\n",
      "   Shares: 25.457 Product\n",
      "     Sub Total: ¤2,750.00\n"
     ]
    }
   ],
   "source": [
    "int invoiceNumber = 1201;\n",
    "decimal productShares = 25.4568m;\n",
    "decimal subtotal = 2750.00m;\n",
    "decimal taxPercentage = .15825m;\n",
    "decimal total = 3185.19m;\n",
    "\n",
    "Console.WriteLine($\"Invoice Number: {invoiceNumber}\");\n",
    "\n",
    "// bill customers using fractions of shares --> display 3 digits after decimal\n",
    "Console.WriteLine($\"   Shares: {productShares:N3} Product\");\n",
    "\n",
    "// add a subtotal using local currency symbol\n",
    "Console.WriteLine($\"     Sub Total: {subtotal:C}\");"
   ]
  },
  {
   "cell_type": "markdown",
   "metadata": {},
   "source": [
    "##### ***Display the tax charged on the sale formatted as a percentage***"
   ]
  },
  {
   "cell_type": "code",
   "execution_count": 50,
   "metadata": {
    "dotnet_interactive": {
     "language": "csharp"
    },
    "polyglot_notebook": {
     "kernelName": "csharp"
    },
    "vscode": {
     "languageId": "polyglot-notebook"
    }
   },
   "outputs": [
    {
     "name": "stdout",
     "output_type": "stream",
     "text": [
      "Invoice Number: 1201\n",
      "   Shares: 25.457 Product\n",
      "     Sub Total: ¤2,750.00\n",
      "           Tax: 15.83%\n"
     ]
    }
   ],
   "source": [
    "int invoiceNumber = 1201;\n",
    "decimal productShares = 25.4568m;\n",
    "decimal subtotal = 2750.00m;\n",
    "decimal taxPercentage = .15825m;\n",
    "decimal total = 3185.19m;\n",
    "\n",
    "Console.WriteLine($\"Invoice Number: {invoiceNumber}\");\n",
    "\n",
    "// bill customers using fractions of shares --> display 3 digits after decimal\n",
    "Console.WriteLine($\"   Shares: {productShares:N3} Product\");\n",
    "\n",
    "// add a subtotal using local currency symbol\n",
    "Console.WriteLine($\"     Sub Total: {subtotal:C}\");\n",
    "\n",
    "// add percentage for tax to 2x decimal places\n",
    "Console.WriteLine($\"           Tax: {taxPercentage:P2}\");"
   ]
  },
  {
   "cell_type": "markdown",
   "metadata": {},
   "source": [
    "##### ***Finalize the receipt with the total amount due formatted as currency***"
   ]
  },
  {
   "cell_type": "code",
   "execution_count": 51,
   "metadata": {
    "dotnet_interactive": {
     "language": "csharp"
    },
    "polyglot_notebook": {
     "kernelName": "csharp"
    },
    "vscode": {
     "languageId": "polyglot-notebook"
    }
   },
   "outputs": [
    {
     "name": "stdout",
     "output_type": "stream",
     "text": [
      "Invoice Number: 1201\n",
      "   Shares: 25.457 Product\n",
      "     Sub Total: ¤2,750.00\n",
      "           Tax: 15.83%\n",
      "     Total Billed: ¤3,185.19\n"
     ]
    }
   ],
   "source": [
    "int invoiceNumber = 1201;\n",
    "decimal productShares = 25.4568m;\n",
    "decimal subtotal = 2750.00m;\n",
    "decimal taxPercentage = .15825m;\n",
    "decimal total = 3185.19m;\n",
    "\n",
    "Console.WriteLine($\"Invoice Number: {invoiceNumber}\");\n",
    "\n",
    "// bill customers using fractions of shares --> display 3 digits after decimal\n",
    "Console.WriteLine($\"   Shares: {productShares:N3} Product\");\n",
    "\n",
    "// add a subtotal using local currency symbol\n",
    "Console.WriteLine($\"     Sub Total: {subtotal:C}\");\n",
    "\n",
    "// add percentage for tax to 2x decimal places\n",
    "Console.WriteLine($\"           Tax: {taxPercentage:P2}\");\n",
    "\n",
    "// add the total of the bill with a local currency symbol\n",
    "Console.WriteLine($\"     Total Billed: {total:C}\");"
   ]
  },
  {
   "cell_type": "markdown",
   "metadata": {},
   "source": [
    "#### 🚀 **[Exercise - Discover padding and alignment](https://learn.microsoft.com/en-gb/training/modules/csharp-format-strings/4-exercise-string-methods-padding)**"
   ]
  },
  {
   "cell_type": "markdown",
   "metadata": {},
   "source": [
    "##### ***Intro***"
   ]
  },
  {
   "cell_type": "markdown",
   "metadata": {},
   "source": [
    "* The string data type, literal strings, and variables of type string each implement many helper methods to format, modify, and perform other operations on strings.\n",
    "* The `PadLeft()` and `PadRight()` methods add white space (or optionally, another character) to the total length of a string.\n",
    "* Use `PadLeft()` to right-align a string.\n",
    "* Some methods are overloaded, meaning they have multiple versions of the method with different arguments that affect their functionality.\n",
    "* The` +=` operator concatenates a new string on the right to the existing string on the left."
   ]
  },
  {
   "cell_type": "markdown",
   "metadata": {},
   "source": [
    "##### ***string methods***"
   ]
  },
  {
   "cell_type": "code",
   "execution_count": 52,
   "metadata": {
    "dotnet_interactive": {
     "language": "csharp"
    },
    "polyglot_notebook": {
     "kernelName": "csharp"
    },
    "vscode": {
     "languageId": "polyglot-notebook"
    }
   },
   "outputs": [
    {
     "name": "stdout",
     "output_type": "stream",
     "text": [
      "Hello World!\r\n"
     ]
    }
   ],
   "source": [
    "string first = \"Hello\";\n",
    "string second = \"World\";\n",
    "string result = string.Format(\"{0} {1}!\", first, second);\n",
    "Console.WriteLine(result);"
   ]
  },
  {
   "cell_type": "markdown",
   "metadata": {},
   "source": [
    "\n",
    "* add blank spaces for formatting purposes (`PadLeft()`, `PadRight()`)\n",
    "\n",
    "* compare two strings or facilitate comparison (`Trim()`, `TrimStart()`, `TrimEnd()`, `GetHashcode()`, the `Length` property)\n",
    "\n",
    "* help you determine what's inside of a string, or even retrieve just a part of the string (`Contains(), StartsWith(), EndsWith(), Substring()`)\n",
    "\n",
    "* change the content of the string by replacing, inserting, or removing parts (`Replace(), Insert(), Remove()`)\n",
    "\n",
    "* turn a string into an array of strings or characters (`Split(), ToCharArray()`)"
   ]
  },
  {
   "cell_type": "markdown",
   "metadata": {},
   "source": [
    "##### ***Formatting strings by adding whitespace before or after: <br>`PadLeft() PadRight()`***"
   ]
  },
  {
   "cell_type": "code",
   "execution_count": 60,
   "metadata": {
    "dotnet_interactive": {
     "language": "csharp"
    },
    "polyglot_notebook": {
     "kernelName": "csharp"
    },
    "vscode": {
     "languageId": "polyglot-notebook"
    }
   },
   "outputs": [
    {
     "name": "stdout",
     "output_type": "stream",
     "text": [
      "Pad this\n",
      "    Pad this\n",
      "Pad this    \n"
     ]
    }
   ],
   "source": [
    "// The PadLeft() method adds blank spaces to the left-hand side of the string so that the total number of characters equals the argument you send it.\n",
    "\n",
    "string input = \"Pad this\";\n",
    " Console.WriteLine(input);\n",
    " Console.WriteLine(input.PadLeft(12));\n",
    " Console.WriteLine(input.PadRight(12));"
   ]
  },
  {
   "cell_type": "markdown",
   "metadata": {},
   "source": [
    "**What is an overloaded method?**"
   ]
  },
  {
   "cell_type": "markdown",
   "metadata": {},
   "source": [
    " * In C#, an overloaded method is another version of a method with different or extra arguments that modify the functionality of the method slightly, as is the case with the overloaded version of the `PadLeft()` method.\n",
    "\n",
    "* You can also call a second overloaded version of the method and pass in whatever character you want to use instead of a space. In this case, you fill the extra space with the dash character."
   ]
  },
  {
   "cell_type": "code",
   "execution_count": 59,
   "metadata": {
    "dotnet_interactive": {
     "language": "csharp"
    },
    "polyglot_notebook": {
     "kernelName": "csharp"
    },
    "vscode": {
     "languageId": "polyglot-notebook"
    }
   },
   "outputs": [
    {
     "name": "stdout",
     "output_type": "stream",
     "text": [
      "Pad this\n",
      "----Pad this\n",
      "Pad this----\n"
     ]
    }
   ],
   "source": [
    "string input = \"Pad this\";\n",
    " Console.WriteLine(input);\n",
    " Console.WriteLine(input.PadLeft(12, '-'));\n",
    " Console.WriteLine(input.PadRight(12, '-'));"
   ]
  },
  {
   "cell_type": "markdown",
   "metadata": {},
   "source": [
    "##### ***Working with padded strings***"
   ]
  },
  {
   "cell_type": "markdown",
   "metadata": {},
   "source": [
    "Suppose you work for a payment processing company that still supports legacy mainframe systems. \n",
    "\n",
    "* Often, those systems require data to be input in specific columns. \n",
    "* For example, \n",
    "    * store the Payment ID in columns 1 through 6, \n",
    "    * the payee's name in columns 7 through 30, \n",
    "    * and the Payment Amount in columns 31 through 40. \n",
    "    * Also, importantly, the Payment Amount is right-aligned.\n",
    "\n",
    "You're asked to build an application that will: \n",
    "* convert data in the relational database management system to the legacy file format\n",
    "* To ensure that the integration works correctly: \n",
    "    * confirm the file format by giving the legacy system maintainers a sample of the output. \n",
    "    * build on this work to send hundreds or thousands of payments to be processed via an ASCII text file."
   ]
  },
  {
   "cell_type": "markdown",
   "metadata": {},
   "source": [
    "**Add the Payment ID to the output**"
   ]
  },
  {
   "cell_type": "code",
   "execution_count": 62,
   "metadata": {
    "dotnet_interactive": {
     "language": "csharp"
    },
    "polyglot_notebook": {
     "kernelName": "csharp"
    },
    "vscode": {
     "languageId": "polyglot-notebook"
    }
   },
   "outputs": [
    {
     "name": "stdout",
     "output_type": "stream",
     "text": [
      "769C  \r\n"
     ]
    }
   ],
   "source": [
    "// print the Payment ID in the first six columns. \n",
    "\n",
    "string paymentId = \"769C\";\n",
    "\n",
    "var formattedLine = paymentId.PadRight(6); \n",
    "// make up blank space to the right upto 6 characters\n",
    "\n",
    "Console.WriteLine(formattedLine);"
   ]
  },
  {
   "cell_type": "markdown",
   "metadata": {},
   "source": [
    "**Add the payee name to the output**"
   ]
  },
  {
   "cell_type": "code",
   "execution_count": 64,
   "metadata": {
    "dotnet_interactive": {
     "language": "csharp"
    },
    "polyglot_notebook": {
     "kernelName": "csharp"
    },
    "vscode": {
     "languageId": "polyglot-notebook"
    }
   },
   "outputs": [
    {
     "name": "stdout",
     "output_type": "stream",
     "text": [
      "769C  Mr. Stephen Ortega      \r\n"
     ]
    }
   ],
   "source": [
    "string paymentId = \"769C\";\n",
    "string payeeName = \"Mr. Stephen Ortega\";\n",
    "\n",
    "// print the Payment ID in the first six columns. \n",
    "var formattedLine = paymentId.PadRight(6); // make up blank space to the right upto 6 characters\n",
    "\n",
    "// add payee's name in columns 7 through 30,\n",
    "// NOTE: column 1-6 are ID\n",
    "formattedLine += payeeName.PadRight(24);\n",
    "\n",
    "\n",
    "Console.WriteLine(formattedLine);"
   ]
  },
  {
   "cell_type": "markdown",
   "metadata": {},
   "source": [
    "**Add the payment amount to the output**"
   ]
  },
  {
   "cell_type": "code",
   "execution_count": 65,
   "metadata": {
    "dotnet_interactive": {
     "language": "csharp"
    },
    "polyglot_notebook": {
     "kernelName": "csharp"
    },
    "vscode": {
     "languageId": "polyglot-notebook"
    }
   },
   "outputs": [
    {
     "name": "stdout",
     "output_type": "stream",
     "text": [
      "769C  Mr. Stephen Ortega       $5,000.00\r\n"
     ]
    }
   ],
   "source": [
    "string paymentId = \"769C\";\n",
    "string payeeName = \"Mr. Stephen Ortega\";\n",
    "string paymentAmount = \"$5,000.00\";\n",
    "\n",
    "// print the Payment ID in the first six columns. \n",
    "var formattedLine = paymentId.PadRight(6); // make up blank space to the right upto 6 characters\n",
    "\n",
    "// add payee's name in columns 7 through 30,\n",
    "// NOTE: column 1-6 are ID\n",
    "formattedLine += payeeName.PadRight(24);\n",
    "\n",
    "// Payment Amount in columns 31 through 40\n",
    "// // NOTE: column 1-6 are ID, 7-30 are payeeName\n",
    "formattedLine += paymentAmount.PadLeft(10);\n",
    "\n",
    "Console.WriteLine(formattedLine);"
   ]
  },
  {
   "cell_type": "markdown",
   "metadata": {},
   "source": [
    "**Add a line of numbers above the output to more easily confirm the result**"
   ]
  },
  {
   "cell_type": "code",
   "execution_count": 67,
   "metadata": {
    "dotnet_interactive": {
     "language": "csharp"
    },
    "polyglot_notebook": {
     "kernelName": "csharp"
    },
    "vscode": {
     "languageId": "polyglot-notebook"
    }
   },
   "outputs": [
    {
     "name": "stdout",
     "output_type": "stream",
     "text": [
      "1234567890123456789012345678901234567890\n",
      "769C  Mr. Stephen Ortega       $5,000.00\n"
     ]
    }
   ],
   "source": [
    "string paymentId = \"769C\";\n",
    "string payeeName = \"Mr. Stephen Ortega\";\n",
    "string paymentAmount = \"$5,000.00\";\n",
    "\n",
    "// print the Payment ID in the first six columns. \n",
    "var formattedLine = paymentId.PadRight(6); // make up blank space to the right upto 6 characters\n",
    "\n",
    "// add payee's name in columns 7 through 30,\n",
    "// NOTE: column 1-6 are ID\n",
    "formattedLine += payeeName.PadRight(24);\n",
    "\n",
    "// Payment Amount in columns 31 through 40\n",
    "// // NOTE: column 1-6 are ID, 7-30 are payeeName\n",
    "formattedLine += paymentAmount.PadLeft(10);\n",
    "\n",
    "Console.WriteLine(\"1234567890123456789012345678901234567890\");\n",
    "Console.WriteLine(formattedLine);"
   ]
  },
  {
   "cell_type": "code",
   "execution_count": 73,
   "metadata": {
    "dotnet_interactive": {
     "language": "csharp"
    },
    "polyglot_notebook": {
     "kernelName": "csharp"
    },
    "vscode": {
     "languageId": "polyglot-notebook"
    }
   },
   "outputs": [
    {
     "name": "stdout",
     "output_type": "stream",
     "text": [
      "12345|78901234567890123456789|123456789|\n",
      "769C--Mr. Stephen Ortega......*$5,000.00\n"
     ]
    }
   ],
   "source": [
    "string paymentId = \"769C\";\n",
    "string payeeName = \"Mr. Stephen Ortega\";\n",
    "string paymentAmount = \"$5,000.00\";\n",
    "\n",
    "// print the Payment ID in the first six columns. \n",
    "var formattedLine = paymentId.PadRight(6, '-'); // make up blank space to the right upto 6 characters\n",
    "\n",
    "// add payee's name in columns 7 through 30,\n",
    "// NOTE: column 1-6 are ID\n",
    "formattedLine += payeeName.PadRight(24, '.');\n",
    "\n",
    "// Payment Amount in columns 31 through 40\n",
    "// // NOTE: column 1-6 are ID, 7-30 are payeeName\n",
    "formattedLine += paymentAmount.PadLeft(10, '*');\n",
    "\n",
    "Console.WriteLine(\"12345|78901234567890123456789|123456789|\");\n",
    "Console.WriteLine(formattedLine);"
   ]
  },
  {
   "cell_type": "markdown",
   "metadata": {},
   "source": [
    "#### ❓ **Check Knowledge: `PadLeft()`**"
   ]
  },
  {
   "cell_type": "markdown",
   "metadata": {},
   "source": [
    "1. Given string myWords = `\"Learning C#\"`, what is the best output description for `Console.WriteLine(myWords.PadLeft(12))`;? \n",
    "    * ✔️ One space is added to the start of the string.\n",
    "    * ❌ Four spaces are added to the start of the string.\n",
    "    * ❌ 12 spaces are added to the start of the string."
   ]
  },
  {
   "cell_type": "markdown",
   "metadata": {},
   "source": [
    "#### ⭐ **[Exercise - Complete a challenge to apply string interpolation to a form letter](https://learn.microsoft.com/en-gb/training/modules/csharp-format-strings/5-challengee)**"
   ]
  },
  {
   "cell_type": "markdown",
   "metadata": {},
   "source": [
    "##### ***Intro***"
   ]
  },
  {
   "cell_type": "markdown",
   "metadata": {},
   "source": [
    "**Challenge**\n",
    "\n",
    "To the sales and marketing company's newest investment products, you send thousands of personalized letters to the company's existing clients. \n",
    "\n",
    "* Your job is to write C# code to merge personalized information about the customer. \n",
    "* The letter contains information like their existing portfolio and \n",
    "    * compares their current returns to projected returns if they were to invest in using the new products.\n",
    "* The writers have decided on the following example marketing message. Here's the desired output (using fictitious customer account data)."
   ]
  },
  {
   "cell_type": "markdown",
   "metadata": {},
   "source": [
    "**Output**"
   ]
  },
  {
   "cell_type": "code",
   "execution_count": 75,
   "metadata": {
    "dotnet_interactive": {
     "language": "csharp"
    },
    "polyglot_notebook": {
     "kernelName": "csharp"
    },
    "vscode": {
     "languageId": "polyglot-notebook"
    }
   },
   "outputs": [],
   "source": [
    "/* \n",
    "\n",
    "Dear Ms. Barros,\n",
    "As a customer of our Magic Yield offering we are excited to tell you about a new financial product that would dramatically increase your return.\n",
    "\n",
    "Currently, you own 2,975,000.00 shares at a return of 12.75 %.\n",
    "\n",
    "Our new product, Glorious Future offers a return of 13.13 %.  Given your current volume, your potential profit would be ¤63,000,000.00.\n",
    "\n",
    "Here's a quick comparison:\n",
    "\n",
    "Magic Yield         12.75 %   $55,000,000.00      \n",
    "Glorious Future     13.13 %   $63,000,000.00\n",
    "\n",
    "*/"
   ]
  },
  {
   "cell_type": "markdown",
   "metadata": {},
   "source": [
    "##### ***Starter Code***"
   ]
  },
  {
   "cell_type": "code",
   "execution_count": 76,
   "metadata": {
    "dotnet_interactive": {
     "language": "csharp"
    },
    "polyglot_notebook": {
     "kernelName": "csharp"
    },
    "vscode": {
     "languageId": "polyglot-notebook"
    }
   },
   "outputs": [
    {
     "name": "stdout",
     "output_type": "stream",
     "text": [
      "Here's a quick comparison:\n",
      "\n",
      "\n"
     ]
    }
   ],
   "source": [
    "string customerName = \"Ms. Barros\";\n",
    "\n",
    "string currentProduct = \"Magic Yield\";\n",
    "int currentShares = 2975000;\n",
    "decimal currentReturn = 0.1275m;\n",
    "decimal currentProfit = 55000000.0m;\n",
    "\n",
    "string newProduct = \"Glorious Future\";\n",
    "decimal newReturn = 0.13125m;\n",
    "decimal newProfit = 63000000.0m;\n",
    "\n",
    "// Your logic here\n",
    "\n",
    "Console.WriteLine(\"Here's a quick comparison:\\n\");\n",
    "\n",
    "string comparisonMessage = \"\";\n",
    "\n",
    "// Your logic here\n",
    "\n",
    "Console.WriteLine(comparisonMessage);"
   ]
  },
  {
   "cell_type": "markdown",
   "metadata": {},
   "source": [
    "##### ***Requirements***"
   ]
  },
  {
   "cell_type": "markdown",
   "metadata": {},
   "source": [
    "* Use your new found knowledge of string formatting to build an application that can: \n",
    "    * merge and format the appropriate content given the previous example output. \n",
    "* Pay particular attention to the white space and \n",
    "* make sure you accurately represent this exact format using C#."
   ]
  },
  {
   "cell_type": "markdown",
   "metadata": {},
   "source": [
    "##### ***Playground***"
   ]
  },
  {
   "cell_type": "code",
   "execution_count": 82,
   "metadata": {
    "dotnet_interactive": {
     "language": "csharp"
    },
    "polyglot_notebook": {
     "kernelName": "csharp"
    },
    "vscode": {
     "languageId": "polyglot-notebook"
    }
   },
   "outputs": [
    {
     "name": "stdout",
     "output_type": "stream",
     "text": [
      "Dear Ms. Barros,\n",
      "As a customer of our Magic Yield offering we are excited to tell you about a new financial product that would dramatically increase your return.\n",
      "\n",
      "Currently, you own 2,975,000.00 shares at a return of 12.75%.\n",
      "\n",
      "Our new product, Glorious Future offers a return of 13.13%.  Given your current volume, your potential profit would be ¤63,000,000.00.\n",
      "\n",
      "Here's a quick comparison:\n",
      "\n",
      "\n"
     ]
    }
   ],
   "source": [
    "string customerName = \"Ms. Barros\";\n",
    "\n",
    "string currentProduct = \"Magic Yield\";\n",
    "int currentShares = 2975000;\n",
    "decimal currentReturn = 0.1275m;\n",
    "decimal currentProfit = 55000000.0m;\n",
    "\n",
    "string newProduct = \"Glorious Future\";\n",
    "decimal newReturn = 0.13125m;\n",
    "decimal newProfit = 63000000.0m;\n",
    "\n",
    "// Your logic here\n",
    "// TEXT BLOCK\n",
    "Console.WriteLine($\"Dear {customerName},\");\n",
    "\n",
    "Console.WriteLine($\"As a customer of our {currentProduct} offering we are excited to tell you about a new financial product that would dramatically increase your return.\\n\");\n",
    "\n",
    "Console.WriteLine($\"Currently, you own {currentShares:N2} shares at a return of {currentReturn:P2}.\\n\");\n",
    "\n",
    "Console.WriteLine($\"Our new product, {newProduct} offers a return of {newReturn:P2}.  Given your current volume, your potential profit would be {newProfit:C}.\\n\");\n",
    "\n",
    "\n",
    "Console.WriteLine(\"Here's a quick comparison:\\n\");\n",
    "\n",
    "string comparisonMessage = \"\";\n",
    "\n",
    "// Your logic here\n",
    "\n",
    "Console.WriteLine(comparisonMessage);"
   ]
  },
  {
   "cell_type": "code",
   "execution_count": 87,
   "metadata": {
    "dotnet_interactive": {
     "language": "csharp"
    },
    "polyglot_notebook": {
     "kernelName": "csharp"
    },
    "vscode": {
     "languageId": "polyglot-notebook"
    }
   },
   "outputs": [
    {
     "name": "stdout",
     "output_type": "stream",
     "text": [
      "Dear Ms. Barros,\n",
      "As a customer of our Magic Yield offering we are excited to tell you about a new financial product that would dramatically increase your return.\n",
      "Currently, you own 2,975,000.00 shares at a return of 12.75%.\n",
      "\n",
      "Our new product, Glorious Future offers a return of 13.13%.  Given your current volume, your potential profit would be ¤63,000,000.00.\n",
      "\n",
      "Here's a quick comparison:\n",
      "\n",
      "\n"
     ]
    }
   ],
   "source": [
    "string customerName = \"Ms. Barros\";\n",
    "\n",
    "string currentProduct = \"Magic Yield\";\n",
    "int currentShares = 2975000;\n",
    "decimal currentReturn = 0.1275m;\n",
    "decimal currentProfit = 55000000.0m;\n",
    "\n",
    "string newProduct = \"Glorious Future\";\n",
    "decimal newReturn = 0.13125m;\n",
    "decimal newProfit = 63000000.0m;\n",
    "\n",
    "// Your logic here\n",
    "// TEXT BLOCK\n",
    "\n",
    "string messageGreeting = $\"Dear {customerName},\\n\";\n",
    "string messageCurrentProduct = $\"As a customer of our {currentProduct} offering we are excited to tell you about a new financial product that would dramatically increase your return.\\n\";\n",
    "string messageCurrentShares = $\"Currently, you own {currentShares:N2} shares at a return of {currentReturn:P2}.\\n\\n\";\n",
    "string messageNewProduct = $\"Our new product, {newProduct} offers a return of {newReturn:P2}.  Given your current volume, your potential profit would be {newProfit:C}.\\n\";\n",
    "string customerMessage = messageGreeting + messageCurrentProduct + messageCurrentShares + messageNewProduct;\n",
    "\n",
    "Console.WriteLine(customerMessage);\n",
    "\n",
    "// -----------------------------\n",
    "\n",
    "Console.WriteLine(\"Here's a quick comparison:\\n\");\n",
    "\n",
    "string comparisonMessage = \"\";\n",
    "\n",
    "// Your logic here\n",
    "\n",
    "Console.WriteLine(comparisonMessage);"
   ]
  },
  {
   "cell_type": "code",
   "execution_count": 105,
   "metadata": {
    "dotnet_interactive": {
     "language": "csharp"
    },
    "polyglot_notebook": {
     "kernelName": "csharp"
    },
    "vscode": {
     "languageId": "polyglot-notebook"
    }
   },
   "outputs": [
    {
     "name": "stdout",
     "output_type": "stream",
     "text": [
      "Dear Ms. Barros,\n",
      "As a customer of our Magic Yield offering we are excited to tell you about a new financial product that would dramatically increase your return.\n",
      "\n",
      "Currently, you own 2,975,000.00 shares at a return of 12.75%.\n",
      "\n",
      "Our new product, Glorious Future offers a return of 13.13%.  Given your current volume, your potential profit would be ¤63,000,000.00.\n",
      "\n",
      "Here's a quick comparison:\n",
      "\n",
      "Magic Yield         12.75%    ¤55,000,000.00\n",
      "Magic Yield         13.13%    ¤63,000,000.00\n"
     ]
    }
   ],
   "source": [
    "string customerName = \"Ms. Barros\";\n",
    "\n",
    "string currentProduct = \"Magic Yield\";\n",
    "int currentShares = 2975000;\n",
    "decimal currentReturn = 0.1275m;\n",
    "decimal currentProfit = 55000000.0m;\n",
    "\n",
    "string newProduct = \"Glorious Future\";\n",
    "decimal newReturn = 0.13125m;\n",
    "decimal newProfit = 63000000.0m;\n",
    "\n",
    "// Your logic here\n",
    "// TEXT BLOCK\n",
    "Console.WriteLine($\"Dear {customerName},\");\n",
    "Console.WriteLine($\"As a customer of our {currentProduct} offering we are excited to tell you about a new financial product that would dramatically increase your return.\\n\");\n",
    "Console.WriteLine($\"Currently, you own {currentShares:N2} shares at a return of {currentReturn:P2}.\\n\");\n",
    "Console.WriteLine($\"Our new product, {newProduct} offers a return of {newReturn:P2}.  Given your current volume, your potential profit would be {newProfit:C}.\\n\");\n",
    "\n",
    "// -------------------\n",
    "\n",
    "Console.WriteLine(\"Here's a quick comparison:\\n\");\n",
    "string comparisonMessage = \"\";\n",
    "\n",
    "// Your logic here\n",
    "string returnConvert = $\"{currentReturn:P2}\";\n",
    "string profitConvert = $\"{currentProfit:C}\";\n",
    "\n",
    "comparisonMessage = currentProduct.PadRight(20);\n",
    "comparisonMessage += returnConvert.PadRight(10);\n",
    "comparisonMessage += profitConvert;\n",
    "\n",
    "Console.WriteLine(comparisonMessage);\n",
    "\n",
    "returnConvert = $\"{newReturn:P2}\";\n",
    "profitConvert = $\"{newProfit:C}\";\n",
    "\n",
    "comparisonMessage = currentProduct.PadRight(20);\n",
    "comparisonMessage += returnConvert.PadRight(10);\n",
    "comparisonMessage += profitConvert;\n",
    "\n",
    "Console.WriteLine(comparisonMessage);"
   ]
  },
  {
   "cell_type": "markdown",
   "metadata": {},
   "source": [
    "##### ***Solution***"
   ]
  },
  {
   "cell_type": "code",
   "execution_count": 106,
   "metadata": {
    "dotnet_interactive": {
     "language": "csharp"
    },
    "polyglot_notebook": {
     "kernelName": "csharp"
    },
    "vscode": {
     "languageId": "polyglot-notebook"
    }
   },
   "outputs": [
    {
     "name": "stdout",
     "output_type": "stream",
     "text": [
      "Dear Ms. Barros,\n",
      "As a customer of our Magic Yield offering we are excited to tell you about a new financial product that would dramatically increase your return.\n",
      "\n",
      "Currently, you own 2,975,000.00 shares at a return of 12.75%.\n",
      "\n",
      "Our new product, Glorious Future offers a return of 13.13%.  Given your current volume, your potential profit would be ¤63,000,000.00.\n",
      "\n",
      "Here's a quick comparison:\n",
      "\n",
      "Magic Yield         12.75%    ¤55,000,000.00\n",
      "Magic Yield         13.13%    ¤63,000,000.00\n"
     ]
    }
   ],
   "source": [
    "string customerName = \"Ms. Barros\";\n",
    "\n",
    "string currentProduct = \"Magic Yield\";\n",
    "int currentShares = 2975000;\n",
    "decimal currentReturn = 0.1275m;\n",
    "decimal currentProfit = 55000000.0m;\n",
    "\n",
    "string newProduct = \"Glorious Future\";\n",
    "decimal newReturn = 0.13125m;\n",
    "decimal newProfit = 63000000.0m;\n",
    "\n",
    "// Your logic here\n",
    "// TEXT BLOCK\n",
    "Console.WriteLine($\"Dear {customerName},\");\n",
    "Console.WriteLine($\"As a customer of our {currentProduct} offering we are excited to tell you about a new financial product that would dramatically increase your return.\\n\");\n",
    "Console.WriteLine($\"Currently, you own {currentShares:N2} shares at a return of {currentReturn:P2}.\\n\");\n",
    "Console.WriteLine($\"Our new product, {newProduct} offers a return of {newReturn:P2}.  Given your current volume, your potential profit would be {newProfit:C}.\\n\");\n",
    "\n",
    "// -------------------\n",
    "\n",
    "Console.WriteLine(\"Here's a quick comparison:\\n\");\n",
    "string comparisonMessage = \"\";\n",
    "\n",
    "// Your logic here\n",
    "string returnConvert = $\"{currentReturn:P2}\";\n",
    "string profitConvert = $\"{currentProfit:C}\";\n",
    "\n",
    "comparisonMessage = currentProduct.PadRight(20);\n",
    "comparisonMessage += returnConvert.PadRight(10);\n",
    "comparisonMessage += profitConvert;\n",
    "\n",
    "Console.WriteLine(comparisonMessage);\n",
    "\n",
    "returnConvert = $\"{newReturn:P2}\";\n",
    "profitConvert = $\"{newProfit:C}\";\n",
    "\n",
    "comparisonMessage = currentProduct.PadRight(20);\n",
    "comparisonMessage += returnConvert.PadRight(10);\n",
    "comparisonMessage += profitConvert;\n",
    "\n",
    "Console.WriteLine(comparisonMessage);"
   ]
  },
  {
   "cell_type": "code",
   "execution_count": 108,
   "metadata": {
    "dotnet_interactive": {
     "language": "csharp"
    },
    "polyglot_notebook": {
     "kernelName": "csharp"
    },
    "vscode": {
     "languageId": "polyglot-notebook"
    }
   },
   "outputs": [
    {
     "name": "stdout",
     "output_type": "stream",
     "text": [
      "Dear Ms. Barros,\n",
      "As a customer of our Magic Yield offering we are excited to tell you about a new financial product that would dramatically increase your return.\n",
      "\n",
      "Currently, you own 2,975,000.000 shares at a return of 12.750%.\n",
      "\n",
      "Our new product, Glorious Future offers a return of 13.125%.  Given your current volume, your potential profit would be ¤63,000,000.00.\n",
      "\n",
      "Here's a quick comparison:\n",
      "\n",
      "Magic Yield         12.750%   ¤55,000,000.00      \n",
      "Glorious Future     13.125%   ¤63,000,000.00      \n"
     ]
    }
   ],
   "source": [
    "string customerName = \"Ms. Barros\";\n",
    "\n",
    "string currentProduct = \"Magic Yield\";\n",
    "int currentShares = 2975000;\n",
    "decimal currentReturn = 0.1275m;\n",
    "decimal currentProfit = 55000000.0m;\n",
    "\n",
    "string newProduct = \"Glorious Future\";\n",
    "decimal newReturn = 0.13125m;\n",
    "decimal newProfit = 63000000.0m;\n",
    "\n",
    "Console.WriteLine($\"Dear {customerName},\");\n",
    "Console.WriteLine($\"As a customer of our {currentProduct} offering we are excited to tell you about a new financial product that would dramatically increase your return.\\n\");\n",
    "Console.WriteLine($\"Currently, you own {currentShares:N} shares at a return of {currentReturn:P}.\\n\");\n",
    "Console.WriteLine($\"Our new product, {newProduct} offers a return of {newReturn:P}.  Given your current volume, your potential profit would be {newProfit:C}.\\n\");\n",
    "\n",
    "Console.WriteLine(\"Here's a quick comparison:\\n\");\n",
    "\n",
    "string comparisonMessage = \"\";\n",
    "\n",
    "comparisonMessage = currentProduct.PadRight(20);\n",
    "comparisonMessage += String.Format(\"{0:P}\", currentReturn).PadRight(10);\n",
    "comparisonMessage += String.Format(\"{0:C}\", currentProfit).PadRight(20);\n",
    "\n",
    "comparisonMessage += \"\\n\";\n",
    "comparisonMessage += newProduct.PadRight(20);\n",
    "comparisonMessage += String.Format(\"{0:P}\", newReturn).PadRight(10);\n",
    "// convert decimal newReturn = 0.13125m; to percentage, then a string, which is padded \n",
    "comparisonMessage += String.Format(\"{0:C}\", newProfit).PadRight(20);\n",
    "\n",
    "Console.WriteLine(comparisonMessage);"
   ]
  },
  {
   "cell_type": "markdown",
   "metadata": {},
   "source": [
    "##### ***Solution Details***"
   ]
  },
  {
   "cell_type": "code",
   "execution_count": 109,
   "metadata": {
    "dotnet_interactive": {
     "language": "csharp"
    },
    "polyglot_notebook": {
     "kernelName": "csharp"
    },
    "vscode": {
     "languageId": "polyglot-notebook"
    }
   },
   "outputs": [
    {
     "name": "stdout",
     "output_type": "stream",
     "text": [
      "Dear Ms. Barros,\n",
      "Dear Ms. Barros,\n"
     ]
    }
   ],
   "source": [
    "string customerName = \"Ms. Barros\";\n",
    "Console.WriteLine($\"Dear {customerName},\");\n",
    "\n",
    "// alt using Composite formatting\n",
    "Console.WriteLine(\"Dear {0},\", customerName)"
   ]
  },
  {
   "cell_type": "code",
   "execution_count": 114,
   "metadata": {
    "dotnet_interactive": {
     "language": "csharp"
    },
    "polyglot_notebook": {
     "kernelName": "csharp"
    },
    "vscode": {
     "languageId": "polyglot-notebook"
    }
   },
   "outputs": [
    {
     "name": "stdout",
     "output_type": "stream",
     "text": [
      "Magic Yield\n",
      "Magic Yield         \n",
      "Magic Yield         \n",
      " \n",
      "0.1275\n",
      "Magic Yield         12.750%   \n",
      " \n",
      "55000000.0\n",
      "Magic Yield         12.750%   ¤55,000,000.00      \n"
     ]
    }
   ],
   "source": [
    "string currentProduct = \"Magic Yield\";\n",
    "int currentShares = 2975000;\n",
    "decimal currentReturn = 0.1275m;\n",
    "decimal currentProfit = 55000000.0m;\n",
    "string comparisonMessage = \"\";\n",
    "\n",
    "comparisonMessage = currentProduct.PadRight(20);\n",
    "Console.WriteLine(currentProduct);\n",
    "Console.WriteLine(currentProduct.PadRight(20));\n",
    "Console.WriteLine(comparisonMessage);\n",
    "\n",
    "Console.WriteLine(\" \");\n",
    "\n",
    "comparisonMessage += String.Format(\"{0:P}\", currentReturn).PadRight(10);\n",
    "Console.WriteLine(currentReturn);\n",
    "Console.WriteLine(comparisonMessage);\n",
    "\n",
    "Console.WriteLine(\" \");\n",
    "\n",
    "comparisonMessage += String.Format(\"{0:C}\", currentProfit).PadRight(20);\n",
    "Console.WriteLine(currentProfit);\n",
    "Console.WriteLine(comparisonMessage);"
   ]
  },
  {
   "cell_type": "markdown",
   "metadata": {},
   "source": [
    "#### ❓ **Check Knowledge: `PadLeft()`,`:C`, `:H`, `:N2`, `$`**"
   ]
  },
  {
   "cell_type": "markdown",
   "metadata": {},
   "source": [
    "1. For the C# code `Console.WriteLine(\"C110\".PadLeft(6, '0'));`, which is the expected output? \n",
    "    * ❌ C11000\n",
    "    * ❌ C110000000\n",
    "    * ✔️ 00C110\n",
    "\n",
    "    <br>\n",
    "\n",
    "2. Which format specifier presents a decimal value with the following format to an en-US audience: 12,345.67 \n",
    "    * ❌ 0:C\n",
    "    * ❌ 0:H\n",
    "    * ✔️ 0:N2\n",
    "    \n",
    "    <br>\n",
    "\n",
    "3. Which character must be used as a directive to perform string interpolation? \n",
    "    * ✔️ $\n",
    "    * ❌ @\n",
    "    * ❌ %\n",
    "    \n",
    "    <br>\n"
   ]
  },
  {
   "cell_type": "markdown",
   "metadata": {},
   "source": [
    "##### ***Summary***"
   ]
  },
  {
   "cell_type": "markdown",
   "metadata": {},
   "source": [
    "\n",
    "* Your company needed to create a personalized marketing message to promote a new financial product to your customers. \n",
    "\n",
    "    * Using C#, you were able to write code that combined string and numeric data about your current customers.\n",
    "    \n",
    "    <br>\n",
    "\n",
    "* You exercised different techniques for merging a string template with variables using composite formatting and string interpolation. \n",
    "\n",
    "    * The various specifiers allow you to properly format large numbers, currency, and percentages. \n",
    "\n",
    "    * The built-in methods on variables of type string allowed you to add padding to left and right align data.\n",
    "\n",
    "* Imagine how much extra work would have required if you didn't have a wealth of string and number formatting tools and techniques available to you in C#. \n",
    "\n",
    "    * You would likely attempt to use string concatenation everywhere, possibly making it difficult to maintain or update.\n",
    "        \n",
    "    <br>\n",
    "\n",
    "* Techniques and tools for formatting strings and numeric data has a wide array of applications. \n",
    "\n",
    "    * For example, you can use these techniques to present data for display on screen and format data to transfer between disparate systems."
   ]
  },
  {
   "cell_type": "markdown",
   "metadata": {},
   "source": [
    "##### 💡 **Resources**"
   ]
  },
  {
   "cell_type": "markdown",
   "metadata": {},
   "source": [
    "* [String.Format Method](https://learn.microsoft.com/en-us/dotnet/api/system.string.format?view=net-7.0&preserve-view=true)\n",
    "* [Standard numeric format strings](https://learn.microsoft.com/en-us/dotnet/standard/base-types/standard-numeric-format-strings)"
   ]
  },
  {
   "cell_type": "markdown",
   "metadata": {},
   "source": [
    "_________________________\n",
    "\n",
    "### [Modify the content of strings using built-in string data type methods in C#](https://learn.microsoft.com/en-us/training/modules/csharp-modify-content/)\n",
    "\n",
    "_________________________"
   ]
  },
  {
   "cell_type": "markdown",
   "metadata": {},
   "source": [
    "####  ✔️ **Learning Objectives:**"
   ]
  },
  {
   "cell_type": "markdown",
   "metadata": {},
   "source": [
    "* Identify the position of a character or string inside of another string.\n",
    "* Extract portions of strings.\n",
    "* Remove portions of strings.\n",
    "* Replace values in strings with different values."
   ]
  },
  {
   "cell_type": "markdown",
   "metadata": {},
   "source": [
    "####  **Introduction:**"
   ]
  },
  {
   "cell_type": "markdown",
   "metadata": {},
   "source": [
    "![](./Assets/intro-built-in-string.png)"
   ]
  },
  {
   "cell_type": "markdown",
   "metadata": {},
   "source": [
    "#### 🚀 **[Exercise - Use the string's `IndexOf()` and `Substring()` helper methods](https://learn.microsoft.com/en-us/training/modules/csharp-modify-content/2-exercise-indexof-substring)**"
   ]
  },
  {
   "cell_type": "markdown",
   "metadata": {},
   "source": [
    "##### ***Intro***"
   ]
  },
  {
   "cell_type": "markdown",
   "metadata": {},
   "source": [
    "* use the `IndexOf()` method to locate the position of one or more characters string inside a larger string. \n",
    "* use the `Substring()` method to return the part of the larger string that follows the character positions you specify.\n",
    "* use an overloaded version of the `Substring()` method to set the length of characters to return after a specified position in a string.\n",
    "* `IndexOf()` gives you the first position of a character or string inside of another string.\n",
    "* `IndexOf()` returns -1 if it can't find a match.\n",
    "* `Substring()` returns just the specified portion of a string, using a starting position and optional length.\n",
    "* There's often more than one way to solve a problem. You used two separate techniques to find all instances of a given character or string.\n",
    "* Avoid hardcoded magic values. Instead, define a const variable. A constant variable's value can't be changed after initialization."
   ]
  },
  {
   "cell_type": "markdown",
   "metadata": {},
   "source": [
    "##### ***`IndexOf()` Write code to find parenthesis pairs embedded in a string***"
   ]
  },
  {
   "cell_type": "code",
   "execution_count": 118,
   "metadata": {
    "dotnet_interactive": {
     "language": "csharp"
    },
    "polyglot_notebook": {
     "kernelName": "csharp"
    },
    "vscode": {
     "languageId": "polyglot-notebook"
    }
   },
   "outputs": [
    {
     "name": "stdout",
     "output_type": "stream",
     "text": [
      "13\n",
      "36\n"
     ]
    }
   ],
   "source": [
    "string message = \"Find what is (inside the parentheses)\";\n",
    "\n",
    "// find the index of the `(` character\n",
    "int openingPosition = message.IndexOf('(');\n",
    "\n",
    "// find the idex of the `)` character\n",
    "int closingPosition = message.IndexOf(')');\n",
    "\n",
    "Console.WriteLine(openingPosition);\n",
    "Console.WriteLine(closingPosition);"
   ]
  },
  {
   "cell_type": "markdown",
   "metadata": {},
   "source": [
    "##### ***`Substring()` Add code to retrieve the value between parenthesis***"
   ]
  },
  {
   "cell_type": "code",
   "execution_count": 119,
   "metadata": {
    "dotnet_interactive": {
     "language": "csharp"
    },
    "polyglot_notebook": {
     "kernelName": "csharp"
    },
    "vscode": {
     "languageId": "polyglot-notebook"
    }
   },
   "outputs": [
    {
     "name": "stdout",
     "output_type": "stream",
     "text": [
      "(inside the parentheses\r\n"
     ]
    }
   ],
   "source": [
    "string message = \"Find what is (inside the parentheses)\";\n",
    "\n",
    "// find the index of the `(` character\n",
    "int openingPosition = message.IndexOf('(');\n",
    "\n",
    "// find the idex of the `)` character\n",
    "int closingPosition = message.IndexOf(')');\n",
    "\n",
    "// Console.WriteLine(openingPosition);\n",
    "// Console.WriteLine(closingPosition);\n",
    "\n",
    "// find the number of characters between the brackets\n",
    "int length = closingPosition - openingPosition;\n",
    "\n",
    "// substring begins at openingPositing and ends at the length set above\n",
    "Console.WriteLine(message.Substring(openingPosition, length));"
   ]
  },
  {
   "cell_type": "markdown",
   "metadata": {},
   "source": [
    "##### ***Modify the starting position of the sub string***"
   ]
  },
  {
   "cell_type": "code",
   "execution_count": 120,
   "metadata": {
    "dotnet_interactive": {
     "language": "csharp"
    },
    "polyglot_notebook": {
     "kernelName": "csharp"
    },
    "vscode": {
     "languageId": "polyglot-notebook"
    }
   },
   "outputs": [
    {
     "name": "stdout",
     "output_type": "stream",
     "text": [
      "inside the parentheses\r\n"
     ]
    }
   ],
   "source": [
    "string message = \"Find what is (inside the parentheses)\";\n",
    "\n",
    "// find the index of the `(` character\n",
    "int openingPosition = message.IndexOf('(');\n",
    "\n",
    "// find the idex of the `)` character\n",
    "int closingPosition = message.IndexOf(')');\n",
    "\n",
    "// skip the parenthesis character by starting the opening positon at +1\n",
    "openingPosition += 1;\n",
    "\n",
    "// find the number of characters between the brackets\n",
    "int length = closingPosition - openingPosition;\n",
    "\n",
    "// substring begins at openingPositing and ends at the length set above\n",
    "Console.WriteLine(message.Substring(openingPosition, length));"
   ]
  },
  {
   "cell_type": "code",
   "execution_count": 121,
   "metadata": {
    "dotnet_interactive": {
     "language": "csharp"
    },
    "polyglot_notebook": {
     "kernelName": "csharp"
    },
    "vscode": {
     "languageId": "polyglot-notebook"
    }
   },
   "outputs": [
    {
     "name": "stdout",
     "output_type": "stream",
     "text": [
      "between the tags\r\n"
     ]
    }
   ],
   "source": [
    "string message = \"What is the value <span>between the tags</span>?\";\n",
    "\n",
    "int openingPosition = message.IndexOf(\"<span>\");\n",
    "int closingPosition = message.IndexOf(\"</span>\");\n",
    "\n",
    "// start opening postion after <span> is complete (6 characters)\n",
    "openingPosition += 6;\n",
    "\n",
    "int length = closingPosition - openingPosition;\n",
    "\n",
    "Console.WriteLine(message.Substring(openingPosition, length));"
   ]
  },
  {
   "cell_type": "code",
   "execution_count": 125,
   "metadata": {
    "dotnet_interactive": {
     "language": "csharp"
    },
    "polyglot_notebook": {
     "kernelName": "csharp"
    },
    "vscode": {
     "languageId": "polyglot-notebook"
    }
   },
   "outputs": [
    {
     "name": "stdout",
     "output_type": "stream",
     "text": [
      "-1\n",
      "36\n"
     ]
    }
   ],
   "source": [
    "string message = \"What is the value <span>between the tags</span>?\";\n",
    "\n",
    "int openingPosition = message.IndexOf(\"banana\");\n",
    "int closingPosition = message.IndexOf(\"tags\");\n",
    "\n",
    "Console.WriteLine(openingPosition); // no match = -1\n",
    "Console.WriteLine(closingPosition);"
   ]
  },
  {
   "cell_type": "markdown",
   "metadata": {},
   "source": [
    "##### ***Avoid magic values***"
   ]
  },
  {
   "cell_type": "markdown",
   "metadata": {},
   "source": [
    "* Hardcoded strings like \"`<span>`\" in the previous code listing are known as \"magic strings\" and hardcoded numeric values like 6 are known as \"magic numbers\". These \"Magic\" values are undesirable for many reasons and you should try to avoid them if possible.\n",
    "\n",
    "**why?**\n",
    "\n",
    "* if you hardcoded the string \"`<span>`\" multiple times in your code, and misspelled one instance of it as \"`<sapn>`\":\n",
    "    * The compiler won't catch \"`<sapn>`\" at compile time because the value is in a string. \n",
    "    * The misspelling will likely cause problems at run time, and depending on the complexity of your code, it might be difficult to track down.\n",
    "    * Furthermore, if you change the string \"`<span>`\" to \"`<div>`\", but forget to change the number `6`, then your code will produce undesirable results."
   ]
  },
  {
   "cell_type": "markdown",
   "metadata": {},
   "source": [
    "##### ***`const` instad of hardcoding***"
   ]
  },
  {
   "cell_type": "markdown",
   "metadata": {},
   "source": [
    "* `const` - A constant allows you to define and initialize a variable whose value can never be changed. \n",
    "* You would then use that constant in the rest of the code whenever you needed that value. \n",
    "* This ensures that the value is only defined once and misspelling the const variable will be caught by the compiler."
   ]
  },
  {
   "cell_type": "code",
   "execution_count": 123,
   "metadata": {
    "dotnet_interactive": {
     "language": "csharp"
    },
    "polyglot_notebook": {
     "kernelName": "csharp"
    },
    "vscode": {
     "languageId": "polyglot-notebook"
    }
   },
   "outputs": [
    {
     "name": "stdout",
     "output_type": "stream",
     "text": [
      "between the tags\r\n"
     ]
    }
   ],
   "source": [
    "string message = \"What is the value <span>between the tags</span>?\";\n",
    "\n",
    "// avoid magic strings by setting a const -> a variable that can't be changed\n",
    "const string openSpan = \"<span>\";\n",
    "const string closeSpan = \"</span>\";\n",
    "\n",
    "int openingPosition = message.IndexOf(openSpan);\n",
    "int closingPosition = message.IndexOf(closeSpan);\n",
    "\n",
    "// avoid magic numbers by dynamically finding the length of the variable we are indexing\n",
    "openingPosition += openSpan.Length;\n",
    "\n",
    "int length = closingPosition - openingPosition;\n",
    "Console.WriteLine(message.Substring(openingPosition, length));\n",
    "\n",
    "//  Now, if the value of openSpan changes to <div>, the line of code that uses the Length property continues to be valid."
   ]
  },
  {
   "cell_type": "markdown",
   "metadata": {},
   "source": [
    "#### ❓ **Check Knowledge: `IndexOf()`**"
   ]
  },
  {
   "cell_type": "markdown",
   "metadata": {},
   "source": [
    "1. What is the return value of myString.IndexOf('C'); where string myString = \"C# Time\";?  \n",
    "    * ✔️ 0\n",
    "    * ❌ 1\n",
    "    * ❌ -1\n"
   ]
  },
  {
   "cell_type": "markdown",
   "metadata": {},
   "source": [
    "#### 🚀 **[Use the string's IndexOfAny() and LastIndexOf() helper methods](https://learn.microsoft.com/en-us/training/modules/csharp-modify-content/3-exercise-lastindexof-indexofany)**"
   ]
  },
  {
   "cell_type": "markdown",
   "metadata": {},
   "source": [
    "##### ***Intro***"
   ]
  },
  {
   "cell_type": "markdown",
   "metadata": {},
   "source": [
    "* In this exercise, you use the `IndexOfAny()` method to find the first location of any of the string from selected array. \n",
    "* You also use `LastIndexOf()` to find the final location of a string within another string.\n",
    "*` LastIndexOf()` returns the last position of a character or string inside of another string.\n",
    "* `IndexOfAny()` returns the first position of an array of char that occurs inside of another string."
   ]
  },
  {
   "cell_type": "markdown",
   "metadata": {},
   "source": [
    "##### `LastIndexOf()` ***Retrieve the last occurrence of a sub string***"
   ]
  },
  {
   "cell_type": "markdown",
   "metadata": {},
   "source": [
    "You increase the complexity of the message variable by adding many sets of parentheses, then write code to retrieve the content inside the last set of parentheses."
   ]
  },
  {
   "cell_type": "code",
   "execution_count": 126,
   "metadata": {
    "dotnet_interactive": {
     "language": "csharp"
    },
    "polyglot_notebook": {
     "kernelName": "csharp"
    },
    "vscode": {
     "languageId": "polyglot-notebook"
    }
   },
   "outputs": [
    {
     "name": "stdout",
     "output_type": "stream",
     "text": [
      "set of parentheses\r\n"
     ]
    }
   ],
   "source": [
    "string message = \"(What if) I am (only interested) in the last (set of parentheses)?\";\n",
    "int openingPosition = message.LastIndexOf('(');\n",
    "\n",
    "openingPosition += 1;\n",
    "int closingPosition = message.LastIndexOf(')');\n",
    "int length = closingPosition - openingPosition;\n",
    "Console.WriteLine(message.Substring(openingPosition, length));"
   ]
  },
  {
   "cell_type": "markdown",
   "metadata": {},
   "source": [
    "##### ***Retrieve all instances of substrings inside parentheses***"
   ]
  },
  {
   "cell_type": "markdown",
   "metadata": {},
   "source": [
    "* update the message to have three sets of parentheses, and \n",
    "* extract any text inside of the parentheses. \n",
    "* reuse portions of the previous work, but need to add \n",
    "    * a while statement to iterate through the string until all sets of parentheses are discovered, extracted, and displayed."
   ]
  },
  {
   "cell_type": "code",
   "execution_count": 1,
   "metadata": {
    "dotnet_interactive": {
     "language": "csharp"
    },
    "polyglot_notebook": {
     "kernelName": "csharp"
    },
    "vscode": {
     "languageId": "polyglot-notebook"
    }
   },
   "outputs": [
    {
     "name": "stdout",
     "output_type": "stream",
     "text": [
      "What if\n",
      "more than\n",
      "set of parentheses\n"
     ]
    }
   ],
   "source": [
    "string message = \"(What if) there are (more than) one (set of parentheses)?\";\n",
    "\n",
    "// while loop will continue to iterate until break statement is triggered\n",
    "while (true)\n",
    "{\n",
    "    int openingPosition = message.IndexOf('(');\n",
    "\n",
    "    // break statement to STOP while loop\n",
    "    // if opening position is less than 0\n",
    "    // once all opening parentheses are found, the loop breaks, there are no more sets\n",
    "    if (openingPosition == -1) break;\n",
    "    // The IndexOf() method returns -1 if it can't find the input parameter in the string. \n",
    "    // You merely check for the value -1 and break out of the loop.\n",
    "\n",
    "    // increment opening position\n",
    "    openingPosition += 1;\n",
    "\n",
    "    // find index of (\n",
    "    int closingPosition = message.IndexOf(')');\n",
    "\n",
    "    // length is the difference betwen closing and opening position\n",
    "    int length = closingPosition - openingPosition;\n",
    "\n",
    "    // print the contents between the current set of parentheses \n",
    "    Console.WriteLine(message.Substring(openingPosition, length));\n",
    "\n",
    "    // Note the overload of the Substring to return only the remaining \n",
    "    // unprocessed message:\n",
    "    // overwrites the message by removal of all processed parentheses and content with it\n",
    "    message = message.Substring(closingPosition + 1);\n",
    "    // Substring() without specifying a length input parameter, returns every character after the starting position\n",
    "}\n",
    "\n",
    "/* \n",
    "\n",
    "When you use Substring() without specifying a length input parameter, \n",
    "    it will return every character after the starting position you specify. \n",
    "    \n",
    "Since message = \"(What if) there are (more than) one (set of parentheses)?\" \n",
    "    there's advantage to removing the first set of parentheses (What if) from the value of message. \n",
    "\n",
    "What remains is then processed in the next iteration of the while loop.\n",
    "\n",
    "*/"
   ]
  },
  {
   "cell_type": "markdown",
   "metadata": {},
   "source": [
    "##### ***Work with different types of symbol sets***"
   ]
  },
  {
   "cell_type": "markdown",
   "metadata": {},
   "source": [
    "* This time, you search for several different symbols, not just a set of parentheses.\n",
    "* You update the message string, adding different types of symbols like square `[]` brackets and curly braces` {}.` \n",
    "* To search for multiple symbols simultaneously, use on `.IndexOfAny(). `\n",
    "* You search with `.IndexOfAny()` to return the index of the first symbol from the array openSymbols found in the message string."
   ]
  },
  {
   "cell_type": "code",
   "execution_count": 2,
   "metadata": {
    "dotnet_interactive": {
     "language": "csharp"
    },
    "polyglot_notebook": {
     "kernelName": "csharp"
    },
    "vscode": {
     "languageId": "polyglot-notebook"
    }
   },
   "outputs": [
    {
     "name": "stdout",
     "output_type": "stream",
     "text": [
      "Searching THIS Message: Help (find) the {opening symbols}\n",
      "Found WITHOUT using startPosition: (find) the {opening symbols}\n",
      "Found WITH using startPosition: {opening symbols}\n"
     ]
    }
   ],
   "source": [
    "string message = \"Help (find) the {opening symbols}\";\n",
    "\n",
    "Console.WriteLine($\"Searching THIS Message: {message}\");\n",
    "\n",
    "// initialise char list wtih only symbols\n",
    "char[] openSymbols = { '[', '{', '(' };\n",
    "\n",
    "int startPosition = 6;\n",
    "\n",
    "// search for any/all symbols in the openSymbols against message string\n",
    "// doesn't include starting position\n",
    "int openingPosition = message.IndexOfAny(openSymbols);\n",
    "Console.WriteLine($\"Found WITHOUT using startPosition: {message.Substring(openingPosition)}\");\n",
    "\n",
    "// search for any/all symbols in the openSymbols against message string\n",
    "// including start position of 6 \n",
    "// will return from \"f\" in message\n",
    "openingPosition = message.IndexOfAny(openSymbols, startPosition);\n",
    "Console.WriteLine($\"Found WITH using startPosition: {message.Substring(openingPosition)}\");"
   ]
  },
  {
   "cell_type": "code",
   "execution_count": 3,
   "metadata": {
    "dotnet_interactive": {
     "language": "csharp"
    },
    "polyglot_notebook": {
     "kernelName": "csharp"
    },
    "vscode": {
     "languageId": "polyglot-notebook"
    }
   },
   "outputs": [
    {
     "name": "stdout",
     "output_type": "stream",
     "text": [
      "What if\n",
      "different symbols\n",
      "open symbol\n",
      "matching closing symbol\n"
     ]
    }
   ],
   "source": [
    "string message = \"(What if) I have [different symbols] but every {open symbol} needs a [matching closing symbol]?\";\n",
    "\n",
    "// The IndexOfAny() helper method requires a char array of characters. \n",
    "// You want to look for:\n",
    "\n",
    "char[] openSymbols = { '[', '{', '(' };\n",
    "\n",
    "// You'll use a slightly different technique for iterating through \n",
    "// the characters in the string. This time, use the closing \n",
    "// position of the previous iteration as the starting index for the \n",
    "//next open symbol. So, you need to initialize the closingPosition \n",
    "// variable to zero:\n",
    "\n",
    "int closingPosition = 0;\n",
    "\n",
    "while (true)\n",
    "{\n",
    "    // finds next openingPosition\n",
    "    int openingPosition = message.IndexOfAny(openSymbols, closingPosition);\n",
    "\n",
    "    // while openingPosition can be found, continue loop\n",
    "    if (openingPosition == -1) break;\n",
    "\n",
    "    // closing position = 1\n",
    "    string currentSymbol = message.Substring(openingPosition, 1);\n",
    "\n",
    "    // Now  find the matching closing symbol\n",
    "    char matchingSymbol = ' ';\n",
    "\n",
    "    switch (currentSymbol)\n",
    "    {\n",
    "        case \"[\":\n",
    "            matchingSymbol = ']';\n",
    "            break;\n",
    "        case \"{\":\n",
    "            matchingSymbol = '}';\n",
    "            break;\n",
    "        case \"(\":\n",
    "            matchingSymbol = ')';\n",
    "            break;\n",
    "    }\n",
    "\n",
    "    openingPosition += 1;\n",
    "\n",
    "    // To find the closingPosition, use an overload of the IndexOf method to specify \n",
    "    // that the search for the matchingSymbol should start at the openingPosition in the string. \n",
    "    closingPosition = message.IndexOf(matchingSymbol, openingPosition);\n",
    "\n",
    "    // Finally, use the techniques you've already learned to display the sub-string:\n",
    "\n",
    "    int length = closingPosition - openingPosition;\n",
    "    Console.WriteLine(message.Substring(openingPosition, length));\n",
    "}"
   ]
  },
  {
   "cell_type": "markdown",
   "metadata": {},
   "source": [
    "##### ❓ **Check Knowledge: `IndexOfAny`**"
   ]
  },
  {
   "cell_type": "markdown",
   "metadata": {},
   "source": [
    "1. What method should be used to search for the first occurrence of a search term in a long string? \n",
    "    * ✔️ `IndexOfAny()`\n",
    "        * returns the first position of an array of `char` that occurs inside of another string.\n",
    "    * ❌ `LastIndexOf()`\n",
    "    * ❌ `Substring()`\n",
    "        * returns a string that is equivalent to the substring that begins at `startIndex`.\n",
    "\n"
   ]
  },
  {
   "cell_type": "markdown",
   "metadata": {},
   "source": [
    "#### 🚀 **[Exercise - Use the Remove() and Replace() methods](https://learn.microsoft.com/en-us/training/modules/csharp-modify-content/4-exercise-remove-replace)**"
   ]
  },
  {
   "cell_type": "markdown",
   "metadata": {},
   "source": [
    "##### ***Intro***"
   ]
  },
  {
   "cell_type": "markdown",
   "metadata": {},
   "source": [
    "* The `Remove()` method works like the Substring() method, except that it deletes the specified characters in the string.\n",
    "* The `Replace() `method swaps all instances of a string with a new string."
   ]
  },
  {
   "cell_type": "markdown",
   "metadata": {},
   "source": [
    "**Challenge**\n",
    "\n",
    "In this exercise, you'll remove characters from a `string` using the `Remove()` method and replace characters using the `Replace()` method.\n",
    "\n",
    "* Sometimes, you'll need to modify the contents of the string, removing or replacing characters. \n",
    "* While you could replace characters with the tools you already know, it requires a bit of temporarily storing and stitching strings back together. \n",
    "* Fortunately, the string data type has other built-in methods,` Remove()` and `Replace()`, for these specialized scenarios."
   ]
  },
  {
   "cell_type": "markdown",
   "metadata": {},
   "source": [
    "##### ***Use the `Remove()` method***"
   ]
  },
  {
   "cell_type": "markdown",
   "metadata": {},
   "source": [
    "* You would typically use `Remove()` when there's a standard and consistent position of the characters you want to remove from the string.\n",
    "\n",
    "This exercise has: \n",
    "* data stored in older files that is fixed length, and \n",
    "* character positions are allocated for certain fields of information. \n",
    "* The first five digits represent a customer identification number. \n",
    "* The next 20 digits contain a customer's name. \n",
    "* The next six positions represent the customer's latest invoice amount, and\n",
    "* the last three positions represent the number of items ordered on that invoice.\n",
    "\n",
    "In the following steps you will need to: \n",
    "* remove the customer's name to format the data so that it can be sent to a separate process. \n",
    "\n",
    "Since you know the exact position and length of the user's name, you can easily remove it using the `Remove()` method."
   ]
  },
  {
   "cell_type": "markdown",
   "metadata": {},
   "source": [
    "##### ***`Remove()` characters in specific locations from a string***"
   ]
  },
  {
   "cell_type": "code",
   "execution_count": 5,
   "metadata": {
    "dotnet_interactive": {
     "language": "csharp"
    },
    "polyglot_notebook": {
     "kernelName": "csharp"
    },
    "vscode": {
     "languageId": "polyglot-notebook"
    }
   },
   "outputs": [
    {
     "name": "stdout",
     "output_type": "stream",
     "text": [
      "123455000  3  \r\n"
     ]
    }
   ],
   "source": [
    "string data = \"12345John Smith          5000  3  \";\n",
    "\n",
    "// remove 20 data points from position 5\n",
    "string updatedData = data.Remove(5, 20);\n",
    "Console.WriteLine(updatedData);"
   ]
  },
  {
   "cell_type": "markdown",
   "metadata": {},
   "source": [
    "##### ***Use the `Replace()` method***"
   ]
  },
  {
   "cell_type": "markdown",
   "metadata": {},
   "source": [
    "You would use the `Replace()` method when you must replace one or more characters with a different character (or no character). \n",
    "\n",
    "The `Replace()` method is different from the other methods you've used so far, it will replace every instance of the given characters, not just the first or last instance."
   ]
  },
  {
   "cell_type": "code",
   "execution_count": 6,
   "metadata": {
    "dotnet_interactive": {
     "language": "csharp"
    },
    "polyglot_notebook": {
     "kernelName": "csharp"
    },
    "vscode": {
     "languageId": "polyglot-notebook"
    }
   },
   "outputs": [
    {
     "name": "stdout",
     "output_type": "stream",
     "text": [
      "This is example data\r\n"
     ]
    }
   ],
   "source": [
    "string message = \"This--is--ex-amp-le--da-ta\";\n",
    "message = message.Replace(\"--\", \" \");\n",
    "message = message.Replace(\"-\", \"\");\n",
    "\n",
    "Console.WriteLine(message);"
   ]
  },
  {
   "cell_type": "markdown",
   "metadata": {},
   "source": [
    "##### ❓ **Check Knowledge: `Replace()**"
   ]
  },
  {
   "cell_type": "markdown",
   "metadata": {},
   "source": [
    "1. If the code message = message.Replace(\"B\", \"D\"); is run, where string message = \"Big Dog\";, what is the new value of message? \n",
    "    * ❌ \"Big Dog\"\n",
    "    * ❌ \"Big Bog\"\n",
    "    * ✔️ \"Dig Dog\""
   ]
  },
  {
   "cell_type": "markdown",
   "metadata": {},
   "source": [
    "#### ⭐ **[Exercise - Complete a challenge to extract, replace, and remove data from an input string](https://learn.microsoft.com/en-us/training/modules/csharp-modify-content/5-exercise-challenge-extract-replace-remove-data)**"
   ]
  },
  {
   "cell_type": "markdown",
   "metadata": {},
   "source": [
    "##### ***Intro***"
   ]
  },
  {
   "cell_type": "markdown",
   "metadata": {},
   "source": [
    "* In this challenge, you work with a string that contains a fragment of HTML. \n",
    "* You extract data from the HTML fragment, \n",
    "    * replace some of its content, and \n",
    "    * remove other parts of its content to achieve the desired output.\n",
    "\n",
    "    <br>\n",
    "\n",
    "* If you're unfamiliar with HTML code, review the [\"Quick HTML primer\"](https://learn.microsoft.com/en-us/training/modules/csharp-modify-content/5-exercise-challenge-extract-replace-remove-data#quick-html-primer) section at the end of this unit."
   ]
  },
  {
   "cell_type": "markdown",
   "metadata": {},
   "source": [
    "##### ***Starter Code***"
   ]
  },
  {
   "cell_type": "code",
   "execution_count": 4,
   "metadata": {
    "dotnet_interactive": {
     "language": "csharp"
    },
    "polyglot_notebook": {
     "kernelName": "csharp"
    },
    "vscode": {
     "languageId": "polyglot-notebook"
    }
   },
   "outputs": [
    {
     "name": "stdout",
     "output_type": "stream",
     "text": [
      "\n",
      "\n"
     ]
    }
   ],
   "source": [
    "const string input = \"<div><h2>Widgets &trade;</h2><span>5000</span></div>\";\n",
    "\n",
    "string quantity = \"\";\n",
    "string output = \"\";\n",
    "\n",
    "// Your work here\n",
    "\n",
    "Console.WriteLine(quantity);\n",
    "Console.WriteLine(output);"
   ]
  },
  {
   "cell_type": "markdown",
   "metadata": {},
   "source": [
    "##### Output:\n",
    "\n",
    "`Quantity: 5000` <br>\n",
    "`Output: <h2>Widgets &reg;</h2><span>5000</span>`"
   ]
  },
  {
   "cell_type": "markdown",
   "metadata": {},
   "source": [
    "##### ***Playground***"
   ]
  },
  {
   "cell_type": "code",
   "execution_count": 5,
   "metadata": {
    "dotnet_interactive": {
     "language": "csharp"
    },
    "polyglot_notebook": {
     "kernelName": "csharp"
    },
    "vscode": {
     "languageId": "polyglot-notebook"
    }
   },
   "outputs": [
    {
     "name": "stdout",
     "output_type": "stream",
     "text": [
      "5000\n",
      "\n",
      "\n"
     ]
    }
   ],
   "source": [
    "const string input = \"<div><h2>Widgets &trade;</h2><span>5000</span></div>\";\n",
    "\n",
    "string quantity = \"\";\n",
    "string output = \"\";\n",
    "\n",
    "// ---------------------------------\n",
    "// Your work here\n",
    "// Set the {quantity} variable to the value by \n",
    "    // extracting the text from between the <span> and </span> tags.\n",
    "\n",
    "const string openSpan = \"<span>\";\n",
    "const string closeSpan = \"</span>\";\n",
    "\n",
    "int openingPosition = input.IndexOf(openSpan);\n",
    "int closingPosition = input.IndexOf(closeSpan);\n",
    "\n",
    "// dynamically find the length of the variable we are indexing {openSpan}\n",
    "// eg: openingPosition = start of <span> + length of \"<span>\"\n",
    "openingPosition += openSpan.Length;\n",
    "\n",
    "int length = closingPosition - openingPosition;\n",
    "Console.WriteLine(input.Substring(openingPosition, length));\n",
    "\n",
    "// ---------------------------------\n",
    "Console.WriteLine(quantity);\n",
    "Console.WriteLine(output);"
   ]
  },
  {
   "cell_type": "code",
   "execution_count": 9,
   "metadata": {
    "dotnet_interactive": {
     "language": "csharp"
    },
    "polyglot_notebook": {
     "kernelName": "csharp"
    },
    "vscode": {
     "languageId": "polyglot-notebook"
    }
   },
   "outputs": [
    {
     "name": "stdout",
     "output_type": "stream",
     "text": [
      "Quantity: 5000\n",
      "\n"
     ]
    }
   ],
   "source": [
    "const string input = \"<div><h2>Widgets &trade;</h2><span>5000</span></div>\";\n",
    "\n",
    "string quantity = \"\";\n",
    "string output = \"\";\n",
    "\n",
    "// ---------------------------------\n",
    "// Your work here\n",
    "// 6. Set the {quantity} variable to the value by extracting the text from between the <span> and </span> tags.\n",
    "\n",
    "const string openSpan = \"<span>\";\n",
    "const string closeSpan = \"</span>\";\n",
    "\n",
    "int openingPosition = input.IndexOf(openSpan);\n",
    "int closingPosition = input.IndexOf(closeSpan);\n",
    "\n",
    "// dynamically find the length of the variable we are indexing {openSpan}\n",
    "// eg: openingPosition = start of <span> + length of \"<span>\"\n",
    "openingPosition += openSpan.Length;\n",
    "\n",
    "int length = closingPosition - openingPosition;\n",
    "quantity = $\"Quantity: {input.Substring(openingPosition, length)}\";\n",
    "\n",
    "// ---------------------------------\n",
    "Console.WriteLine(quantity);\n",
    "Console.WriteLine(output);"
   ]
  },
  {
   "cell_type": "code",
   "execution_count": 12,
   "metadata": {
    "dotnet_interactive": {
     "language": "csharp"
    },
    "polyglot_notebook": {
     "kernelName": "csharp"
    },
    "vscode": {
     "languageId": "polyglot-notebook"
    }
   },
   "outputs": [
    {
     "name": "stdout",
     "output_type": "stream",
     "text": [
      "Quantity: 5000\n",
      "Output: <h2>Widgets &trade;</h2><span>5000</span>\n"
     ]
    }
   ],
   "source": [
    "const string input = \"<div><h2>Widgets &trade;</h2><span>5000</span></div>\";\n",
    "\n",
    "string quantity = \"\";\n",
    "string output = \"\";\n",
    "\n",
    "// ---------------------------------\n",
    "// Your work here\n",
    "// 6. Set the {quantity} variable to the value by extracting the text from between the <span> and </span> tags.\n",
    "\n",
    "const string openSpan = \"<span>\";\n",
    "const string closeSpan = \"</span>\";\n",
    "\n",
    "int openingPosition = input.IndexOf(openSpan);\n",
    "int closingPosition = input.IndexOf(closeSpan);\n",
    "\n",
    "// dynamically find the length of the variable we are indexing {openSpan}\n",
    "// eg: openingPosition = start of <span> + length of \"<span>\"\n",
    "openingPosition += openSpan.Length;\n",
    "\n",
    "int length = closingPosition - openingPosition;\n",
    "quantity = $\"Quantity: {input.Substring(openingPosition, length)}\";\n",
    "\n",
    "// 7. Set the {output} variable to the value of {input}, then remove the {<div>} and {</div>} tags.\n",
    "\n",
    "const string openDiv = \"<div>\";\n",
    "const string closeDiv = \"</div>\";\n",
    "\n",
    "openingPosition = input.IndexOf(openDiv);\n",
    "closingPosition = input.IndexOf(closeDiv);\n",
    "\n",
    "openingPosition += openDiv.Length;\n",
    "\n",
    "length = closingPosition - openingPosition;\n",
    "output = $\"Output: {input.Substring(openingPosition, length)}\";\n",
    "\n",
    "// ---------------------------------\n",
    "Console.WriteLine(quantity);\n",
    "Console.WriteLine(output);"
   ]
  },
  {
   "cell_type": "code",
   "execution_count": 14,
   "metadata": {
    "dotnet_interactive": {
     "language": "csharp"
    },
    "polyglot_notebook": {
     "kernelName": "csharp"
    },
    "vscode": {
     "languageId": "polyglot-notebook"
    }
   },
   "outputs": [
    {
     "name": "stdout",
     "output_type": "stream",
     "text": [
      "Quantity: 5000\n",
      "Output: <h2>Widgets &reg;</h2><span>5000</span>\n"
     ]
    }
   ],
   "source": [
    "const string input = \"<div><h2>Widgets &trade;</h2><span>5000</span></div>\";\n",
    "\n",
    "string quantity = \"\";\n",
    "string output = \"\";\n",
    "\n",
    "// ---------------------------------\n",
    "// Your work here\n",
    "// 6. Set the {quantity} variable to the value by extracting the text from between the <span> and </span> tags.\n",
    "\n",
    "const string openSpan = \"<span>\";\n",
    "const string closeSpan = \"</span>\";\n",
    "\n",
    "int openingPosition = input.IndexOf(openSpan);\n",
    "int closingPosition = input.IndexOf(closeSpan);\n",
    "\n",
    "// dynamically find the length of the variable we are indexing {openSpan}\n",
    "// eg: openingPosition = start of <span> + length of \"<span>\"\n",
    "openingPosition += openSpan.Length;\n",
    "\n",
    "int length = closingPosition - openingPosition;\n",
    "quantity = $\"Quantity: {input.Substring(openingPosition, length)}\";\n",
    "\n",
    "// 7. Set the {output} variable to the value of {input}, then remove the {<div>} and {</div>} tags.\n",
    "\n",
    "const string openDiv = \"<div>\";\n",
    "const string closeDiv = \"</div>\";\n",
    "\n",
    "openingPosition = input.IndexOf(openDiv);\n",
    "closingPosition = input.IndexOf(closeDiv);\n",
    "\n",
    "openingPosition += openDiv.Length;\n",
    "\n",
    "length = closingPosition - openingPosition;\n",
    "output = $\"Output: {input.Substring(openingPosition, length)}\";\n",
    "\n",
    "\n",
    "// 8. Replace the HTML character ™ (&trade;) with ® (&reg) in the output variable.\n",
    "\n",
    "output = output.Replace(\"trade\", \"reg\");\n",
    "\n",
    "// ---------------------------------\n",
    "Console.WriteLine(quantity);\n",
    "Console.WriteLine(output);"
   ]
  },
  {
   "cell_type": "code",
   "execution_count": 17,
   "metadata": {
    "dotnet_interactive": {
     "language": "csharp"
    },
    "polyglot_notebook": {
     "kernelName": "csharp"
    },
    "vscode": {
     "languageId": "polyglot-notebook"
    }
   },
   "outputs": [
    {
     "name": "stdout",
     "output_type": "stream",
     "text": [
      "Quantity: 5000\n",
      "Output: <h2>Widgets &reg;</h2><span>5000</span>\n"
     ]
    }
   ],
   "source": [
    "const string input = \"<div><h2>Widgets &trade;</h2><span>5000</span></div>\";\n",
    "\n",
    "string quantity = \"\";\n",
    "string output = \"\";\n",
    "\n",
    "// ---------------------------------\n",
    "// Your work here\n",
    "// 6. Set the {quantity} variable to the value by extracting the text from between the <span> and </span> tags.\n",
    "\n",
    "// const string openSpan = \"<span>\";\n",
    "// const string closeSpan = \"</span>\";\n",
    "\n",
    "int openingPosition = input.IndexOf(\"<span>\");\n",
    "int closingPosition = input.IndexOf(\"</span>\");\n",
    "\n",
    "// dynamically find the length of the variable we are indexing {openSpan}\n",
    "// eg: openingPosition = start of <span> + length of \"<span>\"\n",
    "openingPosition += \"<span>\".Length;\n",
    "\n",
    "int length = closingPosition - openingPosition;\n",
    "quantity = input.Substring(openingPosition, length);\n",
    "quantity = $\"Quantity: {quantity}\";\n",
    "\n",
    "// 7. Set the {output} variable to the value of {input}, then remove the {<div>} and {</div>} tags.\n",
    "\n",
    "// const string openDiv = \"<div>\";\n",
    "// const string closeDiv = \"</div>\";\n",
    "\n",
    "openingPosition = input.IndexOf(\"<div>\");\n",
    "closingPosition = input.IndexOf(\"</div>\");\n",
    "\n",
    "openingPosition += \"<div>\".Length;\n",
    "\n",
    "length = closingPosition - openingPosition;\n",
    "output = input.Substring(openingPosition, length);\n",
    "output = $\"Output: {output}\";\n",
    "\n",
    "\n",
    "// 8. Replace the HTML character ™ (&trade;) with ® (&reg) in the output variable.\n",
    "\n",
    "output = output.Replace(\"trade\", \"reg\");\n",
    "\n",
    "// ---------------------------------\n",
    "Console.WriteLine(quantity);\n",
    "Console.WriteLine(output);"
   ]
  },
  {
   "cell_type": "markdown",
   "metadata": {},
   "source": [
    "##### ***Solution***"
   ]
  },
  {
   "cell_type": "code",
   "execution_count": 19,
   "metadata": {
    "dotnet_interactive": {
     "language": "csharp"
    },
    "polyglot_notebook": {
     "kernelName": "csharp"
    },
    "vscode": {
     "languageId": "polyglot-notebook"
    }
   },
   "outputs": [
    {
     "name": "stdout",
     "output_type": "stream",
     "text": [
      "Quantity: 5000\n",
      "Output: <h2>Widgets &reg;</h2><span>5000</span>\n"
     ]
    }
   ],
   "source": [
    "const string input = \"<div><h2>Widgets &trade;</h2><span>5000</span></div>\";\n",
    "\n",
    "string quantity = \"\";\n",
    "string output = \"\";\n",
    "\n",
    "// ---------------------------------\n",
    "// Your work here\n",
    "// 6. Set the {quantity} variable to the value by extracting the text from between the <span> and </span> tags.\n",
    "\n",
    "const string openSpan = \"<span>\";\n",
    "const string closeSpan = \"</span>\";\n",
    "\n",
    "int openingPosition = input.IndexOf(openSpan);\n",
    "int closingPosition = input.IndexOf(closeSpan);\n",
    "\n",
    "// dynamically find the length of the variable we are indexing {openSpan}\n",
    "// eg: openingPosition = start of <span> + length of \"<span>\"\n",
    "openingPosition += openSpan.Length;\n",
    "\n",
    "int length = closingPosition - openingPosition;\n",
    "quantity = $\"Quantity: {input.Substring(openingPosition, length)}\";\n",
    "\n",
    "// 7. Set the {output} variable to the value of {input}, then remove the {<div>} and {</div>} tags.\n",
    "\n",
    "const string openDiv = \"<div>\";\n",
    "const string closeDiv = \"</div>\";\n",
    "\n",
    "openingPosition = input.IndexOf(openDiv);\n",
    "closingPosition = input.IndexOf(closeDiv);\n",
    "\n",
    "openingPosition += openDiv.Length;\n",
    "\n",
    "length = closingPosition - openingPosition;\n",
    "output = $\"Output: {input.Substring(openingPosition, length)}\";\n",
    "\n",
    "\n",
    "// 8. Replace the HTML character ™ (&trade;) with ® (&reg) in the output variable.\n",
    "\n",
    "output = output.Replace(\"trade\", \"reg\");\n",
    "\n",
    "// ---------------------------------\n",
    "Console.WriteLine(quantity);\n",
    "Console.WriteLine(output);"
   ]
  },
  {
   "cell_type": "markdown",
   "metadata": {},
   "source": [
    "MS Learn Solution"
   ]
  },
  {
   "cell_type": "code",
   "execution_count": 20,
   "metadata": {
    "dotnet_interactive": {
     "language": "csharp"
    },
    "polyglot_notebook": {
     "kernelName": "csharp"
    },
    "vscode": {
     "languageId": "polyglot-notebook"
    }
   },
   "outputs": [
    {
     "name": "stdout",
     "output_type": "stream",
     "text": [
      "Quantity: 5000\n",
      "Output: <h2>Widgets &reg;</h2><span>5000</span>\n"
     ]
    }
   ],
   "source": [
    "const string input = \"<div><h2>Widgets &trade;</h2><span>5000</span></div>\";\n",
    "\n",
    "string quantity = \"\";\n",
    "string output = \"\";\n",
    "\n",
    "// Your work here\n",
    "\n",
    "// Extract the quantity\n",
    "int quantityStart = input.IndexOf(\"<span>\");\n",
    "int quantityEnd = input.IndexOf(\"</span>\");\n",
    "quantityStart += \"<span>\".Length; // Added length of the tag so index moves to end of the tag\n",
    "int quantityLength = quantityEnd - quantityStart;\n",
    "quantity = input.Substring(quantityStart, quantityLength); //Extracts from end of open tag to beginning of close tag\n",
    "quantity = $\"Quantity: {quantity}\";\n",
    "\n",
    "// Set output to input, replacing the trademark symbol with the registered trademark symbol\n",
    "output = input.Replace(\"&trade;\", \"&reg;\");\n",
    "\n",
    "// Remove the opening <div> tag\n",
    "int divStart = input.IndexOf(\"<div>\");\n",
    "int divLength = \"<div>\".Length;\n",
    "output = output.Remove(divStart, divLength);\n",
    "\n",
    "// Remove the closing <div> tag\n",
    "int divCloseStart = output.IndexOf(\"</div>\");\n",
    "int divCloseLength = \"</div>\".Length;\n",
    "output = output.Remove(divCloseStart, divCloseLength);\n",
    "output = $\"Output: {output}\";\n",
    "\n",
    "Console.WriteLine(quantity);\n",
    "Console.WriteLine(output);"
   ]
  },
  {
   "cell_type": "markdown",
   "metadata": {},
   "source": [
    "Adapt my solution to suit MS Learn"
   ]
  },
  {
   "cell_type": "code",
   "execution_count": 21,
   "metadata": {
    "dotnet_interactive": {
     "language": "csharp"
    },
    "polyglot_notebook": {
     "kernelName": "csharp"
    },
    "vscode": {
     "languageId": "polyglot-notebook"
    }
   },
   "outputs": [
    {
     "name": "stdout",
     "output_type": "stream",
     "text": [
      "Quantity: 5000\n",
      "Output: <h2>Widgets &reg;</h2><span>5000</span>\n"
     ]
    }
   ],
   "source": [
    "const string input = \"<div><h2>Widgets &trade;</h2><span>5000</span></div>\";\n",
    "\n",
    "string quantity = \"\";\n",
    "string output = \"\";\n",
    "\n",
    "// ---------------------------------\n",
    "// Your work here\n",
    "// 6. Set the {quantity} variable to the value by extracting the text from between the <span> and </span> tags.\n",
    "\n",
    "\n",
    "int openingPosition = input.IndexOf(\"<span>\");\n",
    "int closingPosition = input.IndexOf(\"</span>\");\n",
    "\n",
    "// dynamically find the length of the variable we are indexing {openSpan}\n",
    "// eg: openingPosition = start of <span> + length of \"<span>\"\n",
    "openingPosition += \"<span>\".Length;\n",
    "\n",
    "int length = closingPosition - openingPosition;\n",
    "quantity = input.Substring(openingPosition, length);\n",
    "quantity = $\"Quantity: {quantity}\";\n",
    "\n",
    "// 7. Set the {output} variable to the value of {input}, then remove the {<div>} and {</div>} tags.\n",
    "\n",
    "openingPosition = input.IndexOf(\"<div>\");\n",
    "closingPosition = input.IndexOf(\"</div>\");\n",
    "\n",
    "openingPosition += \"<div>\".Length;\n",
    "\n",
    "length = closingPosition - openingPosition;\n",
    "output = input.Substring(openingPosition, length);\n",
    "output = $\"Output: {output}\";\n",
    "\n",
    "\n",
    "// 8. Replace the HTML character ™ (&trade;) with ® (&reg) in the output variable.\n",
    "\n",
    "output = output.Replace(\"trade\", \"reg\");\n",
    "\n",
    "// ---------------------------------\n",
    "Console.WriteLine(quantity);\n",
    "Console.WriteLine(output);"
   ]
  },
  {
   "cell_type": "markdown",
   "metadata": {},
   "source": [
    "##### ❓ **Check Knowledge: `IndexOfAny()`, `const`**"
   ]
  },
  {
   "cell_type": "markdown",
   "metadata": {},
   "source": [
    "1. Which method finds the next index of either the - char, the = char, or the _ char?  \n",
    "    * ✔️ IndexOfAny()\n",
    "    * ❌ Remove()\n",
    "    * ❌ IndexOf()\n",
    "\n",
    "    <br>\n",
    "\n",
    "2. What is a constant variable?\n",
    "    * ❌ A magic string or number.\n",
    "    * ❌ A variable whose name must match its value.\n",
    "    * ✔️ A value that once initialized can never be changed."
   ]
  },
  {
   "cell_type": "markdown",
   "metadata": {},
   "source": [
    "##### ***Summary***"
   ]
  },
  {
   "cell_type": "markdown",
   "metadata": {},
   "source": [
    "* Your goal was to extract, remove, and replace values in strings. \n",
    "    * Often, the data you receive has extraneous data or characters that you'll need to avoid or eliminate before you can use the target data.\n",
    "\n",
    "    <br>\n",
    "\n",
    "* Utilizing the `IndexOf()` method, enabled you to identify the position of a character or string within another string. \n",
    "    * The position returned from the `IndexOf()` method was the first building block to using the `Substring()` method to extract a portion of a string given the starting position and the number of characters to extract (the length).\n",
    "    * It also enabled you to use the `Remove()` method to eliminate characters from a string given the starting position and the length. \n",
    "    * You learned of variations like` LastIndexOf()` method to find the last position of a character of string within another string, and the `IndexOfAny()` to find the position of any value of a given char array. \n",
    "    * You used the while statement to iterate through a longer string to find and extract all instances of a character or string within a larger source string. Finally, you used the `Replace()` method to swap all instances of a character or string inside of a larger string.\n",
    "\n",
    "    <br>\n",
    "\n",
    "* While it might be possible to perform these kinds of operations using a char array, iterating through each char to find matches, keeping track of the starting and ending points you wanted to locate, and so on. It would take many more steps to accomplish what these string helper methods can accomplish in a single call.\n",
    "\n"
   ]
  },
  {
   "cell_type": "markdown",
   "metadata": {},
   "source": [
    "_________________________\n",
    "\n",
    "### 🚀 [Guided project - Work with variable data in C#](https://learn.microsoft.com/en-us/training/modules/guided-project-work-variable-data-c-sharp/)\n",
    "\n",
    "_________________________"
   ]
  },
  {
   "cell_type": "markdown",
   "metadata": {},
   "source": [
    "####  ✔️ **Learning Objectives:**"
   ]
  },
  {
   "cell_type": "markdown",
   "metadata": {},
   "source": [
    "* Apply iteration statements to gather data input\n",
    "* Use data processing\n",
    "* Format data output\n",
    "* Choose the correct data types and safely convert data types\n",
    "* Manipulate number, string and character arrays, as well as add, remove, and sort data\n",
    "* Modify and build complex strings from multiple data sources, and format data for display across regions"
   ]
  },
  {
   "cell_type": "markdown",
   "metadata": {},
   "source": [
    "####  **Introduction:**"
   ]
  },
  {
   "cell_type": "markdown",
   "metadata": {},
   "source": [
    "![](./Assets/intro-project-variabledata.png)"
   ]
  },
  {
   "cell_type": "markdown",
   "metadata": {},
   "source": [
    "#### **Prepare**"
   ]
  },
  {
   "cell_type": "markdown",
   "metadata": {},
   "source": [
    "[Project Repo](MSLearn_CSharp_Collection_Projects\\Guided-project-Work-with-variable-data-in-CSharp-main)"
   ]
  },
  {
   "cell_type": "markdown",
   "metadata": {},
   "source": [
    "#### 🚀 **[Exercise - Add suggestedDonation data](https://learn.microsoft.com/en-us/training/modules/guided-project-work-variable-data-c-sharp/4-exercise-add-suggested-donation-data)**"
   ]
  },
  {
   "cell_type": "markdown",
   "metadata": {},
   "source": [
    "##### **Starter Code**"
   ]
  },
  {
   "cell_type": "code",
   "execution_count": null,
   "metadata": {
    "dotnet_interactive": {
     "language": "csharp"
    },
    "polyglot_notebook": {
     "kernelName": "csharp"
    },
    "vscode": {
     "languageId": "polyglot-notebook"
    }
   },
   "outputs": [],
   "source": [
    "// #1 the ourAnimals array will store the following: \n",
    "string animalSpecies = \"\";\n",
    "string animalID = \"\";\n",
    "string animalAge = \"\";\n",
    "string animalPhysicalDescription = \"\";\n",
    "string animalPersonalityDescription = \"\";\n",
    "string animalNickname = \"\";\n",
    "\n",
    "// #2 variables that support data entry\n",
    "int maxPets = 8;\n",
    "string? readResult; // enables null permission\n",
    "string menuSelection = \"\";\n",
    "\n",
    "// #3 array used to store runtime data, there is no persisted data\n",
    "string[,] ourAnimals = new string[maxPets, 6];\n",
    "    // number of items in ourAnimals:\n",
    "        // [8xrow[6xcharacteristics]]\n",
    "        // ourAnimals = [\n",
    "        //     pet0[\n",
    "        //         animalSpecies,\n",
    "        //         animalID,\n",
    "        //         animalAge,\n",
    "        //         animalPhysicalDescription,\n",
    "        //         animalPersonalityDescription,\n",
    "        //         animalNickname\n",
    "        //         ]\n",
    "        //     ]\n",
    "\n",
    "// #4 create sample data ourAnimals array entries\n",
    "for (int i = 0; i < maxPets; i++)\n",
    "{\n",
    "    switch (i)\n",
    "    {\n",
    "        case 0:\n",
    "            animalSpecies = \"dog\";\n",
    "            animalID = \"d1\";\n",
    "            animalAge = \"2\";\n",
    "            animalPhysicalDescription = \"medium sized cream colored female golden retriever weighing about 45 pounds. housebroken.\";\n",
    "            animalPersonalityDescription = \"loves to have her belly rubbed and likes to chase her tail. gives lots of kisses.\";\n",
    "            animalNickname = \"lola\";\n",
    "            break;\n",
    "\n",
    "        case 1:\n",
    "            animalSpecies = \"dog\";\n",
    "            animalID = \"d2\";\n",
    "            animalAge = \"9\";\n",
    "            animalPhysicalDescription = \"large reddish-brown male golden retriever weighing about 85 pounds. housebroken.\";\n",
    "            animalPersonalityDescription = \"loves to have his ears rubbed when he greets you at the door, or at any time! loves to lean-in and give doggy hugs.\";\n",
    "            animalNickname = \"gus\";\n",
    "            break;\n",
    "        \n",
    "        case 2:\n",
    "            animalSpecies = \"cat\";\n",
    "            animalID = \"c3\";\n",
    "            animalAge = \"1\";\n",
    "            animalPhysicalDescription = \"small white female weighing about 8 pounds. litter box trained.\";\n",
    "            animalPersonalityDescription = \"friendly\";\n",
    "            animalNickname = \"snow\";\n",
    "            break;\n",
    "\n",
    "        case 3:\n",
    "            animalSpecies = \"cat\";\n",
    "            animalID = \"c4\";\n",
    "            animalAge = \"3\";\n",
    "            animalPhysicalDescription = \"Medium sized, long hair, yellow, female, about 10 pounds. Uses litter box.\";\n",
    "            animalPersonalityDescription = \"A people loving cat that likes to sit on your lap.\";\n",
    "            animalNickname = \"Lion\";\n",
    "            break;\n",
    "        \n",
    "        default:\n",
    "            animalSpecies = \"\";\n",
    "            animalID = \"\";\n",
    "            animalAge = \"\";\n",
    "            animalPhysicalDescription = \"\";\n",
    "            animalPersonalityDescription = \"\";\n",
    "            animalNickname = \"\";\n",
    "            break;\n",
    "\n",
    "    }\n",
    "\n",
    "    ourAnimals[i, 0] = \"ID #: \" + animalID;\n",
    "    ourAnimals[i, 1] = \"Species: \" + animalSpecies;\n",
    "    ourAnimals[i, 2] = \"Age: \" + animalAge;\n",
    "    ourAnimals[i, 3] = \"Nickname: \" + animalNickname;\n",
    "    ourAnimals[i, 4] = \"Physical description: \" + animalPhysicalDescription;\n",
    "    ourAnimals[i, 5] = \"Personality: \" + animalPersonalityDescription;\n",
    "    \n",
    "}\n",
    "\n",
    "// #5 display the top-level menu options\n",
    "do\n",
    "{\n",
    "    // NOTE: the Console.Clear method is throwing an exception in debug sessions\n",
    "    Console.Clear();\n",
    "\n",
    "    Console.WriteLine(\"Welcome to the Contoso PetFriends app. Your main menu options are:\");\n",
    "    Console.WriteLine(\" 1. List all of our current pet information\");\n",
    "    Console.WriteLine(\" 2. Display all dogs with a specified characteristic\");\n",
    "    Console.WriteLine();\n",
    "    Console.WriteLine(\"Enter your selection number (or type Exit to exit the program)\");\n",
    "\n",
    "    readResult = Console.ReadLine();\n",
    "    if (readResult != null)\n",
    "    {\n",
    "        menuSelection = readResult.ToLower();\n",
    "    }\n",
    "\n",
    "    // use switch-case to process the selected menu option\n",
    "    switch (menuSelection)\n",
    "    {\n",
    "        case \"1\":\n",
    "            // list all pet info\n",
    "            for (int i = 0; i < maxPets; i++)\n",
    "            {\n",
    "                if (ourAnimals[i, 0] != \"ID #: \")\n",
    "                {\n",
    "                    Console.WriteLine();\n",
    "                    for (int j = 0; j < 6; j++)\n",
    "                    {\n",
    "                        Console.WriteLine(ourAnimals[i, j]);\n",
    "                    }\n",
    "                }\n",
    "            }\n",
    "            Console.WriteLine(\"\\n\\rPress the Enter key to continue\");\n",
    "            readResult = Console.ReadLine();\n",
    "\n",
    "            break;\n",
    "\n",
    "        case \"2\":\n",
    "            // Display all dogs with a specified characteristic\n",
    "            Console.WriteLine(\"\\nUNDER CONSTRUCTION - please check back next month to see progress.\");\n",
    "            Console.WriteLine(\"Press the Enter key to continue.\");\n",
    "            readResult = Console.ReadLine();\n",
    "            break;\n",
    "\n",
    "        default:\n",
    "            break;\n",
    "    }\n",
    "\n",
    "} while (menuSelection != \"exit\");\n"
   ]
  },
  {
   "cell_type": "markdown",
   "metadata": {},
   "source": [
    "##### **Create the \"Suggested Donation\" features**"
   ]
  },
  {
   "cell_type": "markdown",
   "metadata": {},
   "source": [
    "* create `suggestedDonation` variable\n",
    "* expand the `ourAnimals` array accommodate the new donation data\n",
    "* add the suggested donation amounts for each animal\n",
    "* implement a default amount when there suggested donation information is missing"
   ]
  },
  {
   "cell_type": "markdown",
   "metadata": {},
   "source": [
    "***Add support for suggested donation data***"
   ]
  },
  {
   "cell_type": "code",
   "execution_count": null,
   "metadata": {
    "dotnet_interactive": {
     "language": "csharp"
    },
    "polyglot_notebook": {
     "kernelName": "csharp"
    },
    "vscode": {
     "languageId": "polyglot-notebook"
    }
   },
   "outputs": [],
   "source": [
    "// #1 the ourAnimals array will store the following: \n",
    "string animalSpecies = \"\";\n",
    "string animalID = \"\";\n",
    "string animalAge = \"\";\n",
    "string animalPhysicalDescription = \"\";\n",
    "string animalPersonalityDescription = \"\";\n",
    "string animalNickname = \"\";\n",
    "\n",
    "// declare another string for suggested donation data\n",
    "string suggestedDonation = \"\";"
   ]
  },
  {
   "cell_type": "code",
   "execution_count": null,
   "metadata": {
    "dotnet_interactive": {
     "language": "csharp"
    },
    "polyglot_notebook": {
     "kernelName": "csharp"
    },
    "vscode": {
     "languageId": "polyglot-notebook"
    }
   },
   "outputs": [],
   "source": [
    "// allow for new string in data\n",
    "// string[,] ourAnimals = new string[maxPets, 6];\n",
    "string[,] ourAnimals = new string[maxPets, 7];"
   ]
  },
  {
   "cell_type": "markdown",
   "metadata": {},
   "source": [
    "***Add suggestedDonation amounts to the sample data***"
   ]
  },
  {
   "cell_type": "code",
   "execution_count": null,
   "metadata": {
    "dotnet_interactive": {
     "language": "csharp"
    },
    "polyglot_notebook": {
     "kernelName": "csharp"
    },
    "vscode": {
     "languageId": "polyglot-notebook"
    }
   },
   "outputs": [],
   "source": [
    "case 0:\n",
    "        animalSpecies = \"dog\";\n",
    "        animalID = \"d1\";\n",
    "        animalAge = \"2\";\n",
    "        animalPhysicalDescription = \"medium sized cream colored female golden retriever weighing about 45 pounds. housebroken.\";\n",
    "        animalPersonalityDescription = \"loves to have her belly rubbed and likes to chase her tail. gives lots of kisses.\";\n",
    "        animalNickname = \"lola\";\n",
    "        // add the suggestedDonation to the case\n",
    "        suggestedDonation = \"85.00\";\n",
    "        break;"
   ]
  },
  {
   "cell_type": "code",
   "execution_count": null,
   "metadata": {
    "dotnet_interactive": {
     "language": "csharp"
    },
    "polyglot_notebook": {
     "kernelName": "csharp"
    },
    "vscode": {
     "languageId": "polyglot-notebook"
    }
   },
   "outputs": [],
   "source": [
    "    ourAnimals[i, 0] = \"ID #: \" + animalID;\n",
    "    ourAnimals[i, 1] = \"Species: \" + animalSpecies;\n",
    "    ourAnimals[i, 2] = \"Age: \" + animalAge;\n",
    "    ourAnimals[i, 3] = \"Nickname: \" + animalNickname;\n",
    "    ourAnimals[i, 4] = \"Physical description: \" + animalPhysicalDescription;\n",
    "    ourAnimals[i, 5] = \"Personality: \" + animalPersonalityDescription;\n",
    "    // allow for suggestedDonation\n",
    "    ourAnimals[i, 6] = \"Suggested Donation: \" + suggestedDonation;"
   ]
  },
  {
   "cell_type": "markdown",
   "metadata": {},
   "source": [
    "***Data validation with TryParse()***"
   ]
  },
  {
   "cell_type": "markdown",
   "metadata": {},
   "source": [
    "* The variable `suggestedDonation` is intended to be a `numeric` value, but is collected and stored as a `string`. \n",
    "* In the future you may have to validate `suggestedDonation` represents a `decimal`, and that you can convert it to a `decimal` so it's available to use for billing calculations. \n",
    "* To avoid an error trying to use an entry like twenty you need to use `TryParse` validation."
   ]
  },
  {
   "cell_type": "code",
   "execution_count": null,
   "metadata": {
    "dotnet_interactive": {
     "language": "csharp"
    },
    "polyglot_notebook": {
     "kernelName": "csharp"
    },
    "vscode": {
     "languageId": "polyglot-notebook"
    }
   },
   "outputs": [],
   "source": [
    "// #2 variables that support data entry\n",
    "int maxPets = 8;\n",
    "string? readResult; // enables null permission\n",
    "string menuSelection = \"\";\n",
    "// declare decimalDonation\n",
    "decimal decimalDonation = 0.00m;"
   ]
  },
  {
   "cell_type": "code",
   "execution_count": null,
   "metadata": {
    "dotnet_interactive": {
     "language": "csharp"
    },
    "polyglot_notebook": {
     "kernelName": "csharp"
    },
    "vscode": {
     "languageId": "polyglot-notebook"
    }
   },
   "outputs": [],
   "source": [
    "    ourAnimals[i, 5] = \"Personality: \" + animalPersonalityDescription;\n",
    "    // allow for suggestedDonation\n",
    "    ourAnimals[i, 6] = \"Suggested Donation: \" + suggestedDonation;    \n",
    "    \n",
    "    // parse string into decimal or default to 45.00m if not a number\n",
    "    if (!decimal.TryParse(suggestedDonation, out decimalDonation)){\n",
    "        decimalDonation = 45.00m; // if suggestedDonation NOT a number, default to 45.00\n",
    "    }\n",
    "    // use new version (decimal) of suggestedDonation and convert to 2decimal place currency\n",
    "    ourAnimals[i, 6] = $\"Suggested Donation: {decimalDonation:C2}\";\n",
    "}\n",
    "\n",
    "// #5 display the top-level menu options"
   ]
  },
  {
   "cell_type": "markdown",
   "metadata": {},
   "source": [
    "***Review and update where ourAnimals array should be used***"
   ]
  },
  {
   "cell_type": "code",
   "execution_count": null,
   "metadata": {
    "dotnet_interactive": {
     "language": "csharp"
    },
    "polyglot_notebook": {
     "kernelName": "csharp"
    },
    "vscode": {
     "languageId": "polyglot-notebook"
    }
   },
   "outputs": [],
   "source": [
    "    // use switch-case to process the selected menu option\n",
    "    switch (menuSelection)\n",
    "    {\n",
    "        case \"1\":\n",
    "            // list all pet info\n",
    "            for (int i = 0; i < maxPets; i++)\n",
    "            {\n",
    "                if (ourAnimals[i, 0] != \"ID #: \")\n",
    "                {\n",
    "                    Console.WriteLine();\n",
    "                    for (int j = 0; j < 7; j++)\n",
    "                    //for (int j = 0; j < 6; j++)\n",
    "                    {\n",
    "                        Console.WriteLine(ourAnimals[i, j]);\n",
    "                    }\n",
    "                }\n",
    "            }\n",
    "            Console.WriteLine(\"\\n\\rPress the Enter key to continue\");\n",
    "            readResult = Console.ReadLine();\n",
    "\n",
    "            break;"
   ]
  },
  {
   "cell_type": "markdown",
   "metadata": {},
   "source": [
    "##### **Solution**"
   ]
  },
  {
   "cell_type": "code",
   "execution_count": null,
   "metadata": {
    "dotnet_interactive": {
     "language": "csharp"
    },
    "polyglot_notebook": {
     "kernelName": "csharp"
    },
    "vscode": {
     "languageId": "polyglot-notebook"
    }
   },
   "outputs": [],
   "source": [
    "// #1 the ourAnimals array will store the following: \n",
    "string animalSpecies = \"\";\n",
    "string animalID = \"\";\n",
    "string animalAge = \"\";\n",
    "string animalPhysicalDescription = \"\";\n",
    "string animalPersonalityDescription = \"\";\n",
    "string animalNickname = \"\";\n",
    "\n",
    "// declare another string for suggested donation data\n",
    "string suggestedDonation = \"\";\n",
    "\n",
    "// #2 variables that support data entry\n",
    "int maxPets = 8;\n",
    "string? readResult; // enables null permission\n",
    "string menuSelection = \"\";\n",
    "// declare decimalDonation\n",
    "decimal decimalDonation = 0.00m;\n",
    "\n",
    "// #3 array used to store runtime data, there is no persisted data\n",
    "// allow for new string in data\n",
    "// string[,] ourAnimals = new string[maxPets, 6];\n",
    "string[,] ourAnimals = new string[maxPets, 7];\n",
    "    // number of items in ourAnimals:\n",
    "        // [8xrow[6xcharacteristics]]\n",
    "        // ourAnimals = [\n",
    "        //     pet0[\n",
    "        //         animalSpecies,\n",
    "        //         animalID,\n",
    "        //         animalAge,\n",
    "        //         animalPhysicalDescription,\n",
    "        //         animalPersonalityDescription,\n",
    "        //         animalNickname\n",
    "        //         ]\n",
    "        //     ]\n",
    "\n",
    "// #4 create sample data ourAnimals array entries\n",
    "for (int i = 0; i < maxPets; i++)\n",
    "{\n",
    "    switch (i)\n",
    "    {\n",
    "        case 0:\n",
    "            animalSpecies = \"dog\";\n",
    "            animalID = \"d1\";\n",
    "            animalAge = \"2\";\n",
    "            animalPhysicalDescription = \"medium sized cream colored female golden retriever weighing about 45 pounds. housebroken.\";\n",
    "            animalPersonalityDescription = \"loves to have her belly rubbed and likes to chase her tail. gives lots of kisses.\";\n",
    "            animalNickname = \"lola\";\n",
    "            // add the suggestedDonation to the case\n",
    "            suggestedDonation = \"85.00\";\n",
    "            break;\n",
    "\n",
    "        case 1:\n",
    "            animalSpecies = \"dog\";\n",
    "            animalID = \"d2\";\n",
    "            animalAge = \"9\";\n",
    "            animalPhysicalDescription = \"large reddish-brown male golden retriever weighing about 85 pounds. housebroken.\";\n",
    "            animalPersonalityDescription = \"loves to have his ears rubbed when he greets you at the door, or at any time! loves to lean-in and give doggy hugs.\";\n",
    "            animalNickname = \"gus\";\n",
    "            // add the suggestedDonation to the case\n",
    "            suggestedDonation = \"49.99\";            \n",
    "            break;\n",
    "        \n",
    "        case 2:\n",
    "            animalSpecies = \"cat\";\n",
    "            animalID = \"c3\";\n",
    "            animalAge = \"1\";\n",
    "            animalPhysicalDescription = \"small white female weighing about 8 pounds. litter box trained.\";\n",
    "            animalPersonalityDescription = \"friendly\";\n",
    "            animalNickname = \"snow\";\n",
    "            // add the suggestedDonation to the case\n",
    "            suggestedDonation = \"40.00\";                \n",
    "            break;\n",
    "\n",
    "        case 3:\n",
    "            animalSpecies = \"cat\";\n",
    "            animalID = \"c4\";\n",
    "            animalAge = \"3\";\n",
    "            animalPhysicalDescription = \"Medium sized, long hair, yellow, female, about 10 pounds. Uses litter box.\";\n",
    "            animalPersonalityDescription = \"A people loving cat that likes to sit on your lap.\";\n",
    "            animalNickname = \"Lion\";\n",
    "            // add the suggestedDonation to the case\n",
    "            suggestedDonation = \"\";              \n",
    "            break;\n",
    "        \n",
    "        default:\n",
    "            animalSpecies = \"\";\n",
    "            animalID = \"\";\n",
    "            animalAge = \"\";\n",
    "            animalPhysicalDescription = \"\";\n",
    "            animalPersonalityDescription = \"\";\n",
    "            animalNickname = \"\";\n",
    "            break;\n",
    "\n",
    "    }\n",
    "\n",
    "    ourAnimals[i, 0] = \"ID #: \" + animalID;\n",
    "    ourAnimals[i, 1] = \"Species: \" + animalSpecies;\n",
    "    ourAnimals[i, 2] = \"Age: \" + animalAge;\n",
    "    ourAnimals[i, 3] = \"Nickname: \" + animalNickname;\n",
    "    ourAnimals[i, 4] = \"Physical description: \" + animalPhysicalDescription;\n",
    "    ourAnimals[i, 5] = \"Personality: \" + animalPersonalityDescription;\n",
    "    // allow for suggestedDonation\n",
    "    ourAnimals[i, 6] = \"Suggested Donation: \" + suggestedDonation;    \n",
    "    \n",
    "    // parse string into decimal or default to 45.00m if not a number\n",
    "    if (!decimal.TryParse(suggestedDonation, out decimalDonation)){\n",
    "        decimalDonation = 45.00m; // if suggestedDonation NOT a number, default to 45.00\n",
    "    }\n",
    "    // use new version (decimal) of suggestedDonation and convert to 2decimal place currency\n",
    "    ourAnimals[i, 6] = $\"Suggested Donation: {decimalDonation:C2}\";\n",
    "}\n",
    "\n",
    "// #5 display the top-level menu options\n",
    "do\n",
    "{\n",
    "    // NOTE: the Console.Clear method is throwing an exception in debug sessions\n",
    "    Console.Clear();\n",
    "\n",
    "    Console.WriteLine(\"Welcome to the Contoso PetFriends app. Your main menu options are:\");\n",
    "    Console.WriteLine(\" 1. List all of our current pet information\");\n",
    "    Console.WriteLine(\" 2. Display all dogs with a specified characteristic\");\n",
    "    Console.WriteLine();\n",
    "    Console.WriteLine(\"Enter your selection number (or type Exit to exit the program)\");\n",
    "\n",
    "    readResult = Console.ReadLine();\n",
    "    if (readResult != null)\n",
    "    {\n",
    "        menuSelection = readResult.ToLower();\n",
    "    }\n",
    "\n",
    "    // use switch-case to process the selected menu option\n",
    "    switch (menuSelection)\n",
    "    {\n",
    "        case \"1\":\n",
    "            // list all pet info\n",
    "            for (int i = 0; i < maxPets; i++)\n",
    "            {\n",
    "                if (ourAnimals[i, 0] != \"ID #: \")\n",
    "                {\n",
    "                    Console.WriteLine();\n",
    "                    for (int j = 0; j < 7; j++)\n",
    "                    //for (int j = 0; j < 6; j++)\n",
    "                    {\n",
    "                        Console.WriteLine(ourAnimals[i, j]);\n",
    "                    }\n",
    "                }\n",
    "            }\n",
    "            Console.WriteLine(\"\\n\\rPress the Enter key to continue\");\n",
    "            readResult = Console.ReadLine();\n",
    "\n",
    "            break;\n",
    "\n",
    "        case \"2\":\n",
    "            // Display all dogs with a specified characteristic\n",
    "            Console.WriteLine(\"\\nUNDER CONSTRUCTION - please check back next month to see progress.\");\n",
    "            Console.WriteLine(\"Press the Enter key to continue.\");\n",
    "            readResult = Console.ReadLine();\n",
    "            break;\n",
    "\n",
    "        default:\n",
    "            break;\n",
    "    }\n",
    "\n",
    "} while (menuSelection != \"exit\");\n"
   ]
  },
  {
   "cell_type": "markdown",
   "metadata": {},
   "source": [
    "#### 🚀 **[Exercise - Add dog search](https://learn.microsoft.com/en-us/training/modules/guided-project-work-variable-data-c-sharp/5-exercise-add-search)**"
   ]
  },
  {
   "cell_type": "markdown",
   "metadata": {},
   "source": [
    "##### ***Intro***"
   ]
  },
  {
   "cell_type": "markdown",
   "metadata": {},
   "source": [
    "* In this exercise, you add the feature \"Display all dogs with a specified characteristic\" (menu item #2) to the application. \n",
    "* The exercise uses the solution project from the previous exercise that added `suggestedDonation` data."
   ]
  },
  {
   "cell_type": "markdown",
   "metadata": {},
   "source": [
    "The search feature prompts the user for a single search input term (or phrase) that describes a characteristic desired in a pet to adopt. \n",
    "* Then, the descriptions for adoptable dogs are searched for exact matches of the user input. \n",
    "* Information about the dogs that match are output to the console. \n",
    "* If no matches are identified, then a message \"None of our dogs are a match\" is displayed along with the search term used.\n",
    "\n",
    "The tasks that you complete during this exercise are:\n",
    "\n",
    "1. Gather user input for the pet characteristic search term\n",
    "2. Loop through the animals array and identify \"dogs\"\n",
    "3. For each dog, search the pet description for a term match\n",
    "4. Display the dogs that have a term match"
   ]
  },
  {
   "cell_type": "markdown",
   "metadata": {},
   "source": [
    "##### **Gather user input for the pet characteristic search**"
   ]
  },
  {
   "cell_type": "markdown",
   "metadata": {},
   "source": [
    "Gather user input for adogCharacteristic string:\n",
    "* Gather the `input` requires a `while` loop that continues to prompt the user until they submit an input. \n",
    "* The loop instructs the user to `\"Enter one desired dog characteristic to search for\"`. \n",
    "* Entering an empty `string` repeats the loop. \n",
    "* Place the following code following case \"2: just before the break; statement as shown:"
   ]
  },
  {
   "cell_type": "code",
   "execution_count": null,
   "metadata": {
    "dotnet_interactive": {
     "language": "csharp"
    },
    "polyglot_notebook": {
     "kernelName": "csharp"
    },
    "vscode": {
     "languageId": "polyglot-notebook"
    }
   },
   "outputs": [],
   "source": [
    "case \"2\":\n",
    "    // Display all dogs with a specified characteristic\n",
    "    string dogCharacteristic = \"\";\n",
    "\n",
    "    while (dogCharacteristic == \"\")\n",
    "    {\n",
    "        // have the user enter physical characteristics to search for\n",
    "        Console.WriteLine($\"\\nEnter one desired dog characteristics to search for\");\n",
    "        readResult = Console.ReadLine();\n",
    "        if (readResult != null)\n",
    "        {\n",
    "            dogCharacteristic = readResult.ToLower().Trim();\n",
    "        }\n",
    "    } \n",
    "    break;"
   ]
  },
  {
   "cell_type": "markdown",
   "metadata": {},
   "source": [
    "##### **Identify which animals are dogs**"
   ]
  },
  {
   "cell_type": "markdown",
   "metadata": {},
   "source": [
    "Now you add a feature to search using the user input dogCharacteristic within the dog descriptions following the previous code under case \"2\". But first you need to identify the dogs."
   ]
  },
  {
   "cell_type": "code",
   "execution_count": 24,
   "metadata": {
    "dotnet_interactive": {
     "language": "csharp"
    },
    "polyglot_notebook": {
     "kernelName": "csharp"
    },
    "vscode": {
     "languageId": "polyglot-notebook"
    }
   },
   "outputs": [],
   "source": [
    "// #6 loop through the ourAnimals array to search for matching animals\n",
    "for (int i = 0; i < maxPets; i++)\n",
    "{\n",
    "    if (ourAnimals[i, 1].Contains(\"dog\"))\n",
    "    {\n",
    "        // #7 Search combined descriptions and report results\n",
    "    }\n",
    "}\n",
    "\n",
    "// The code filters for \"dogs\" using ourAnimals[i,1], where animalSpecies data is stored. If animalSpecies is storing \"dog\" then the code moves into the brackets of the if statement where the search of the combined descriptions can occur."
   ]
  },
  {
   "cell_type": "markdown",
   "metadata": {},
   "source": [
    "##### **Search the combined description information of dogs**"
   ]
  },
  {
   "cell_type": "markdown",
   "metadata": {},
   "source": [
    "* search the dog descriptions and output information about matches.\n",
    "* there are two descriptions `animalPhysicalDescription` and `animalPersonalityDescription`;. \n",
    "* combined description is appropriate for the search."
   ]
  },
  {
   "cell_type": "markdown",
   "metadata": {},
   "source": [
    "##### **Combine the dog descriptions to make it easier to search**"
   ]
  },
  {
   "cell_type": "code",
   "execution_count": null,
   "metadata": {
    "dotnet_interactive": {
     "language": "csharp"
    },
    "polyglot_notebook": {
     "kernelName": "csharp"
    },
    "vscode": {
     "languageId": "polyglot-notebook"
    }
   },
   "outputs": [],
   "source": [
    "// declare a string to hold combined data that orignated from 2 descriptions\n",
    "\n",
    "// declaration\n",
    "string dogDescription = \"\";\n",
    "\n",
    "// populate with 2 descriptions\n",
    "// animalPhysicalDescription and animalPersonalityDescription\n",
    "dogDescription = ourAnimals[i,4] + \"\\n\" + ourAnimals[i,5];"
   ]
  },
  {
   "cell_type": "markdown",
   "metadata": {},
   "source": [
    "##### **Search the combined descriptions of dogs and display**"
   ]
  },
  {
   "cell_type": "markdown",
   "metadata": {},
   "source": [
    "* Now you add the search for `dogCharacteristic` in the combined data of `dogDescription`. \n",
    "* You need to add an if statement to determine if you have a match for the search for each dog."
   ]
  },
  {
   "cell_type": "code",
   "execution_count": null,
   "metadata": {
    "dotnet_interactive": {
     "language": "csharp"
    },
    "polyglot_notebook": {
     "kernelName": "csharp"
    },
    "vscode": {
     "languageId": "polyglot-notebook"
    }
   },
   "outputs": [],
   "source": [
    "if (dogDescription.Contains(dogCharacteristic))\n",
    "{\n",
    "    Console.WriteLine($\"\\nOur dog {ourAnimals[i, 3]} is a match!\");\n",
    "    Console.WriteLine(dogDescription);\n",
    "}"
   ]
  },
  {
   "cell_type": "code",
   "execution_count": 26,
   "metadata": {
    "dotnet_interactive": {
     "language": "csharp"
    },
    "polyglot_notebook": {
     "kernelName": "csharp"
    },
    "vscode": {
     "languageId": "polyglot-notebook"
    }
   },
   "outputs": [],
   "source": [
    "bool noMatchesDog = true;\n",
    "//Now, when a dog is found you can \"flip\" the noMatchesDog from true to false"
   ]
  },
  {
   "cell_type": "code",
   "execution_count": null,
   "metadata": {
    "dotnet_interactive": {
     "language": "csharp"
    },
    "polyglot_notebook": {
     "kernelName": "csharp"
    },
    "vscode": {
     "languageId": "polyglot-notebook"
    }
   },
   "outputs": [],
   "source": [
    "            // setup bool for checking\n",
    "            bool noMatchesDog = true;\n",
    "\n",
    "            // #6 loop through the ourAnimals array to search for matching animals\n",
    "            for (int i = 0; i < maxPets; i++)\n",
    "            {\n",
    "                if (ourAnimals[i, 1].Contains(\"dog\"))\n",
    "                {\n",
    "                    // #7 Search combined descriptions and report results\n",
    "                    // populate with 2 descriptions\n",
    "                    // animalPhysicalDescription and animalPersonalityDescription\n",
    "                    dogDescription = ourAnimals[i,4] + \"\\n\" + ourAnimals[i,5];\n",
    "                    if (dogDescription.Contains(dogCharacteristic))\n",
    "                    {\n",
    "                        Console.WriteLine($\"\\nOur dog {ourAnimals[i, 3]} is a match!\");\n",
    "                        Console.WriteLine(dogDescription);\n",
    "\n",
    "                        // result = matched dog\n",
    "                        noMatchesDog = false;\n",
    "                    }\n",
    "                }\n",
    "            }\n",
    "            if (noMatchesDog)\n",
    "            {\n",
    "                Console.WriteLine(\"None of our dogs are a match found for: \" + dogCharacteristic);\n",
    "            }\n",
    "            break;"
   ]
  },
  {
   "cell_type": "markdown",
   "metadata": {},
   "source": [
    "##### **MS Learn Solution**"
   ]
  },
  {
   "cell_type": "code",
   "execution_count": null,
   "metadata": {
    "dotnet_interactive": {
     "language": "csharp"
    },
    "polyglot_notebook": {
     "kernelName": "csharp"
    },
    "vscode": {
     "languageId": "polyglot-notebook"
    }
   },
   "outputs": [],
   "source": [
    "// using System;\n",
    "\n",
    "// #1 the ourAnimals array will store the following: \n",
    "string animalSpecies = \"\";\n",
    "string animalID = \"\";\n",
    "string animalAge = \"\";\n",
    "string animalPhysicalDescription = \"\";\n",
    "string animalPersonalityDescription = \"\";\n",
    "string animalNickname = \"\";\n",
    "string suggestedDonation = \"\";\n",
    "\n",
    "// #2 variables that support data entry\n",
    "int maxPets = 8;\n",
    "string? readResult;\n",
    "string menuSelection = \"\";\n",
    "decimal decimalDonation = 0.00m;\n",
    "\n",
    "// #3 array used to store runtime data, there is no persisted data\n",
    "string[,] ourAnimals = new string[maxPets, 7];\n",
    "\n",
    "// #4 create sample data ourAnimals array entries\n",
    "for (int i = 0; i < maxPets; i++)\n",
    "{\n",
    "    switch (i)\n",
    "    {\n",
    "        case 0:\n",
    "            animalSpecies = \"dog\";\n",
    "            animalID = \"d1\";\n",
    "            animalAge = \"2\";\n",
    "            animalPhysicalDescription = \"medium sized cream colored female golden retriever weighing about 45 pounds. housebroken.\";\n",
    "            animalPersonalityDescription = \"loves to have her belly rubbed and likes to chase her tail. gives lots of kisses.\";\n",
    "            animalNickname = \"lola\";\n",
    "            suggestedDonation = \"85.00\";\n",
    "            break;\n",
    "\n",
    "        case 1:\n",
    "            animalSpecies = \"dog\";\n",
    "            animalID = \"d2\";\n",
    "            animalAge = \"9\";\n",
    "            animalPhysicalDescription = \"large reddish-brown male golden retriever weighing about 85 pounds. housebroken.\";\n",
    "            animalPersonalityDescription = \"loves to have his ears rubbed when he greets you at the door, or at any time! loves to lean-in and give doggy hugs.\";\n",
    "            animalNickname = \"gus\";\n",
    "            suggestedDonation = \"49.99\";\n",
    "            break;\n",
    "\n",
    "        case 2:\n",
    "            animalSpecies = \"cat\";\n",
    "            animalID = \"c3\";\n",
    "            animalAge = \"1\";\n",
    "            animalPhysicalDescription = \"small white female weighing about 8 pounds. litter box trained.\";\n",
    "            animalPersonalityDescription = \"friendly\";\n",
    "            animalNickname = \"snow\";\n",
    "            suggestedDonation = \"40.00\";\n",
    "            break;\n",
    "\n",
    "        case 3:\n",
    "            animalSpecies = \"cat\";\n",
    "            animalID = \"c4\";\n",
    "            animalAge = \"\";\n",
    "            animalPhysicalDescription = \"\";\n",
    "            animalPersonalityDescription = \"\";\n",
    "            animalNickname = \"lion\";\n",
    "            suggestedDonation = \"\";\n",
    "\n",
    "            break;\n",
    "\n",
    "        default:\n",
    "            animalSpecies = \"\";\n",
    "            animalID = \"\";\n",
    "            animalAge = \"\";\n",
    "            animalPhysicalDescription = \"\";\n",
    "            animalPersonalityDescription = \"\";\n",
    "            animalNickname = \"\";\n",
    "            suggestedDonation = \"\";\n",
    "            break;\n",
    "\n",
    "    }\n",
    "\n",
    "    ourAnimals[i, 0] = \"ID #: \" + animalID;\n",
    "    ourAnimals[i, 1] = \"Species: \" + animalSpecies;\n",
    "    ourAnimals[i, 2] = \"Age: \" + animalAge;\n",
    "    ourAnimals[i, 3] = \"Nickname: \" + animalNickname;\n",
    "    ourAnimals[i, 4] = \"Physical description: \" + animalPhysicalDescription;\n",
    "    ourAnimals[i, 5] = \"Personality: \" + animalPersonalityDescription;\n",
    "    \n",
    "    if (!decimal.TryParse(suggestedDonation, out decimalDonation)){\n",
    "        decimalDonation = 45.00m; // if suggestedDonation NOT a number, default to 45.00\n",
    "    }\n",
    "    ourAnimals[i, 6] = $\"Suggested Donation: {decimalDonation:C2}\";\n",
    "}\n",
    "\n",
    "// #5 display the top-level menu options\n",
    "do\n",
    "{\n",
    "    // NOTE: the Console.Clear method is throwing an exception in debug sessions\n",
    "    Console.Clear();\n",
    "\n",
    "    Console.WriteLine(\"Welcome to the Contoso PetFriends app. Your main menu options are:\");\n",
    "    Console.WriteLine(\" 1. List all of our current pet information\");\n",
    "    Console.WriteLine(\" 2. Display all dogs with a specified characteristic\");\n",
    "    Console.WriteLine();\n",
    "    Console.WriteLine(\"Enter your selection number (or type Exit to exit the program)\");\n",
    "\n",
    "    readResult = Console.ReadLine();\n",
    "    if (readResult != null)\n",
    "    {\n",
    "        menuSelection = readResult.ToLower();\n",
    "    }\n",
    "\n",
    "    // use switch-case to process the selected menu option\n",
    "    switch (menuSelection)\n",
    "    {\n",
    "        case \"1\":\n",
    "            // list all pet info\n",
    "            for (int i = 0; i < maxPets; i++)\n",
    "            {\n",
    "                if (ourAnimals[i, 0] != \"ID #: \")\n",
    "                {\n",
    "                    Console.WriteLine();\n",
    "                    for (int j = 0; j < 7; j++)\n",
    "                    {\n",
    "                        Console.WriteLine(ourAnimals[i, j].ToString());\n",
    "                    }\n",
    "                }\n",
    "            }\n",
    "            Console.WriteLine(\"\\n\\rPress the Enter key to continue\");\n",
    "            readResult = Console.ReadLine();\n",
    "\n",
    "            break;\n",
    "\n",
    "        case \"2\":\n",
    "            // Display all dogs with a specified characteristic\");\n",
    "\n",
    "            string dogCharacteristic = \"\";\n",
    "\n",
    "            while (dogCharacteristic == \"\")\n",
    "            {\n",
    "                // have the user enter physical characteristics to search for\n",
    "                Console.WriteLine($\"\\nEnter one desired dog characteristics to search for\");\n",
    "                readResult = Console.ReadLine();\n",
    "                if (readResult != null)\n",
    "                {\n",
    "                    dogCharacteristic = readResult.ToLower().Trim();\n",
    "                }\n",
    "            }\n",
    "\n",
    "            bool noMatchesDog = true;\n",
    "            string dogDescription = \"\";\n",
    "\n",
    "            // #6 loop through the ourAnimals array to search for matching animals\n",
    "            for (int i = 0; i < maxPets; i++)\n",
    "            {\n",
    "                bool dogMatch = true;\n",
    "\n",
    "                if (ourAnimals[i, 1].Contains(\"dog\"))\n",
    "                {\n",
    "                    \n",
    "                    if (dogMatch == true)\n",
    "                    {\n",
    "                        // #7 Search combined descriptions and report results\n",
    "                        dogDescription = ourAnimals[i, 4] + \"\\n\" + ourAnimals[i, 5];\n",
    "                        \n",
    "\n",
    "                        if (dogDescription.Contains(dogCharacteristic))\n",
    "                        {\n",
    "                            Console.WriteLine($\"\\nOur dog {ourAnimals[i, 3]} is a match!\");\n",
    "                            Console.WriteLine(dogDescription);\n",
    "\n",
    "                            noMatchesDog = false;\n",
    "                        }\n",
    "                    }\n",
    "                }\n",
    "            }\n",
    "\n",
    "            if (noMatchesDog)\n",
    "            {\n",
    "                Console.WriteLine(\"None of our dogs are a match found for: \" + dogCharacteristic);\n",
    "            }\n",
    "\n",
    "            Console.WriteLine(\"\\n\\rPress the Enter key to continue\");\n",
    "            readResult = Console.ReadLine();\n",
    "\n",
    "            break;\n",
    "\n",
    "        default:\n",
    "            break;\n",
    "    }\n",
    "\n",
    "} while (menuSelection != \"exit\");\n"
   ]
  },
  {
   "cell_type": "markdown",
   "metadata": {},
   "source": [
    "#### ❓ **Check Knowledge: TryParse()**"
   ]
  },
  {
   "cell_type": "markdown",
   "metadata": {},
   "source": [
    "1. Which choice best describes the purpose of TryParse()? \n",
    "    * ❌ To split sentences into words stored in an array.\n",
    "    * ✔️ To safely test a cast operation\n",
    "    * ❌ To find a substring in a larger string\n",
    "\n",
    "    <br>\n",
    "\n",
    "2. For the code `decimal.TryParse(numberString, out myConvert)` when the type of numberString is a String. Which best describes the value type for myConvert when the `TryParse()` is successful? \n",
    "    * ❌ A string representing numeric digits.\n",
    "    * ❌ A Boolean value.\n",
    "    * ✔️ A decimal"
   ]
  },
  {
   "cell_type": "markdown",
   "metadata": {},
   "source": [
    "#### **Summary**"
   ]
  },
  {
   "cell_type": "markdown",
   "metadata": {},
   "source": [
    "You updated the pet adoption application in this guided project to support single term search functionality, improve readability of output, and add a suggested donation to descriptions.\n",
    "\n",
    "In this module, you practiced your ability to:\n",
    "\n",
    "* Apply iteration statements to gather data input\n",
    "* Use data processing\n",
    "* Format data output\n",
    "* Choose the correct data types and safely converting data types\n",
    "* Manipulate number, string and character arrays, as well as add, remove, and sort data\n",
    "* Modify and build complex strings from multiple data sources, and format data for display across regions\n",
    "\n",
    "You delivered functionality to your Contos pet app team, including:\n",
    "\n",
    "* Gather the pet characteristic search term input\n",
    "* Loop through the animals array and identify \"dogs\"\n",
    "* For each dog, search the description for a term match\n",
    "* Display the dogs that have a term match\n",
    "* Provide suggested donation data formatted in local currency"
   ]
  },
  {
   "cell_type": "markdown",
   "metadata": {},
   "source": [
    "_________________________\n",
    "\n",
    "### ⭐ [Challenge project - Work with variable data in C#](https://learn.microsoft.com/en-us/training/modules/challenge-project-work-variable-data-c-sharp/)\n",
    "\n",
    "_________________________"
   ]
  },
  {
   "cell_type": "markdown",
   "metadata": {},
   "source": [
    "👀 Guided Project: [My Repo](./MSLearn_CSharp_Collection_Projects\\Challenge-Project-variable-data-in-CSharp-main/)"
   ]
  },
  {
   "cell_type": "markdown",
   "metadata": {},
   "source": [
    "####  ✔️ **Learning Objectives:**\n"
   ]
  },
  {
   "cell_type": "markdown",
   "metadata": {},
   "source": [
    "Demonstrate your ability to develop a console app that implements data formatting and using arrays to deliver a multiple term search feature.\n",
    "\n",
    "* Apply iteration statements using data input\n",
    "* Process data\n",
    "* Format data output\n",
    "* Choose the correct data types and safely converting data types\n",
    "* Create and manipulate string arrays, and sort array data\n",
    "* Modify and build complex strings from multiple data sources, and format data for display"
   ]
  },
  {
   "cell_type": "markdown",
   "metadata": {},
   "source": [
    "#### **Introduction:**"
   ]
  },
  {
   "cell_type": "markdown",
   "metadata": {},
   "source": [
    "![](./Assets/challenge_variable_data.png)"
   ]
  },
  {
   "cell_type": "markdown",
   "metadata": {},
   "source": [
    "#### **Prepare**"
   ]
  },
  {
   "cell_type": "markdown",
   "metadata": {},
   "source": [
    "Use Visual Studio Code to develop update the Contoso Pets adoption C# console application.\n",
    "\n",
    "Current Features:\n",
    "* creates sample data on pets available for adoption\n",
    "* able to display the pet's description information\n",
    "* provides searching with a single term within the description data for each dog\n",
    "\n",
    "Features to add:\n",
    "* search with multiple terms\n",
    "* \"search status\" animation to include adding a search countdown in the animation"
   ]
  },
  {
   "cell_type": "markdown",
   "metadata": {},
   "source": [
    "##### ***Project specification overview***"
   ]
  },
  {
   "cell_type": "markdown",
   "metadata": {},
   "source": [
    "![](./Assets/challenge-specs.png)"
   ]
  },
  {
   "cell_type": "markdown",
   "metadata": {},
   "source": [
    "#### **Starter Code**"
   ]
  },
  {
   "cell_type": "markdown",
   "metadata": {},
   "source": [
    "![](./Assets/challenge-starter-breakdown.png)"
   ]
  },
  {
   "cell_type": "markdown",
   "metadata": {},
   "source": [
    "![](./Assets/challenge-walkthrough.png)"
   ]
  },
  {
   "cell_type": "markdown",
   "metadata": {},
   "source": [
    "##### ***Starter Code***"
   ]
  },
  {
   "cell_type": "code",
   "execution_count": null,
   "metadata": {
    "dotnet_interactive": {
     "language": "csharp"
    },
    "polyglot_notebook": {
     "kernelName": "csharp"
    },
    "vscode": {
     "languageId": "polyglot-notebook"
    }
   },
   "outputs": [],
   "source": [
    "using System;\n",
    "\n",
    "// ourAnimals array will store the following: \n",
    "string animalSpecies = \"\";\n",
    "string animalID = \"\";\n",
    "string animalAge = \"\";\n",
    "string animalPhysicalDescription = \"\";\n",
    "string animalPersonalityDescription = \"\";\n",
    "string animalNickname = \"\";\n",
    "string suggestedDonation = \"\";\n",
    "\n",
    "// variables that support data entry\n",
    "int maxPets = 8;\n",
    "string? readResult;\n",
    "string menuSelection = \"\";\n",
    "decimal decimalDonation = 0.00m;\n",
    "\n",
    "// array used to store runtime data\n",
    "string[,] ourAnimals = new string[maxPets, 7];\n",
    "\n",
    "// sample data ourAnimals array entries\n",
    "for (int i = 0; i < maxPets; i++)\n",
    "{\n",
    "    switch (i)\n",
    "    {\n",
    "        case 0:\n",
    "            animalSpecies = \"dog\";\n",
    "            animalID = \"d1\";\n",
    "            animalAge = \"2\";\n",
    "            animalPhysicalDescription = \"medium sized cream colored female golden retriever weighing about 45 pounds. housebroken.\";\n",
    "            animalPersonalityDescription = \"loves to have her belly rubbed and likes to chase her tail. gives lots of kisses.\";\n",
    "            animalNickname = \"lola\";\n",
    "            suggestedDonation = \"85.00\";\n",
    "            break;\n",
    "\n",
    "        case 1:\n",
    "            animalSpecies = \"dog\";\n",
    "            animalID = \"d2\";\n",
    "            animalAge = \"9\";\n",
    "            animalPhysicalDescription = \"large reddish-brown male golden retriever weighing about 85 pounds. housebroken.\";\n",
    "            animalPersonalityDescription = \"loves to have his ears rubbed when he greets you at the door, or at any time! loves to lean-in and give doggy hugs.\";\n",
    "            animalNickname = \"gus\";\n",
    "            suggestedDonation = \"49.99\";\n",
    "            break;\n",
    "\n",
    "        case 2:\n",
    "            animalSpecies = \"cat\";\n",
    "            animalID = \"c3\";\n",
    "            animalAge = \"1\";\n",
    "            animalPhysicalDescription = \"small white female weighing about 8 pounds. litter box trained.\";\n",
    "            animalPersonalityDescription = \"friendly\";\n",
    "            animalNickname = \"snow\";\n",
    "            suggestedDonation = \"40.00\";\n",
    "            break;\n",
    "\n",
    "        case 3:\n",
    "            animalSpecies = \"cat\";\n",
    "            animalID = \"c4\";\n",
    "            animalAge = \"\";\n",
    "            animalPhysicalDescription = \"\";\n",
    "            animalPersonalityDescription = \"\";\n",
    "            animalNickname = \"lion\";\n",
    "            suggestedDonation = \"\";\n",
    "\n",
    "            break;\n",
    "\n",
    "        default:\n",
    "            animalSpecies = \"\";\n",
    "            animalID = \"\";\n",
    "            animalAge = \"\";\n",
    "            animalPhysicalDescription = \"\";\n",
    "            animalPersonalityDescription = \"\";\n",
    "            animalNickname = \"\";\n",
    "            suggestedDonation = \"\";\n",
    "            break;\n",
    "\n",
    "    }\n",
    "\n",
    "    ourAnimals[i, 0] = \"ID #: \" + animalID;\n",
    "    ourAnimals[i, 1] = \"Species: \" + animalSpecies;\n",
    "    ourAnimals[i, 2] = \"Age: \" + animalAge;\n",
    "    ourAnimals[i, 3] = \"Nickname: \" + animalNickname;\n",
    "    ourAnimals[i, 4] = \"Physical description: \" + animalPhysicalDescription;\n",
    "    ourAnimals[i, 5] = \"Personality: \" + animalPersonalityDescription;\n",
    "    \n",
    "    if (!decimal.TryParse(suggestedDonation, out decimalDonation)){\n",
    "        decimalDonation = 45.00m; // if suggestedDonation NOT a number, default to 45.00\n",
    "    }\n",
    "    ourAnimals[i, 6] = $\"Suggested Donation: {decimalDonation:C2}\";\n",
    "}\n",
    "\n",
    "// top-level menu options\n",
    "do\n",
    "{\n",
    "    // NOTE: the Console.Clear method is throwing an exception in debug sessions\n",
    "    Console.Clear();\n",
    "\n",
    "    Console.WriteLine(\"Welcome to the Contoso PetFriends app. Your main menu options are:\");\n",
    "    Console.WriteLine(\" 1. List all of our current pet information\");\n",
    "    Console.WriteLine(\" 2. Display all dogs with a specified characteristic\");\n",
    "    Console.WriteLine();\n",
    "    Console.WriteLine(\"Enter your selection number (or type Exit to exit the program)\");\n",
    "\n",
    "    readResult = Console.ReadLine();\n",
    "    if (readResult != null)\n",
    "    {\n",
    "        menuSelection = readResult.ToLower();\n",
    "    }\n",
    "\n",
    "    // switch-case to process the selected menu option\n",
    "    switch (menuSelection)\n",
    "    {\n",
    "        case \"1\":\n",
    "            // list all pet info\n",
    "            for (int i = 0; i < maxPets; i++)\n",
    "            {\n",
    "                if (ourAnimals[i, 0] != \"ID #: \")\n",
    "                {\n",
    "                    Console.WriteLine();\n",
    "                    for (int j = 0; j < 7; j++)\n",
    "                    {\n",
    "                        Console.WriteLine(ourAnimals[i, j].ToString());\n",
    "                    }\n",
    "                }\n",
    "            }\n",
    "\n",
    "            Console.WriteLine(\"\\r\\nPress the Enter key to continue\");\n",
    "            readResult = Console.ReadLine();\n",
    "\n",
    "            break;\n",
    "\n",
    "        case \"2\":\n",
    "            // #1 Display all dogs with a multiple search characteristics\n",
    "\n",
    "            string dogCharacteristic = \"\";\n",
    "\n",
    "            while (dogCharacteristic == \"\")\n",
    "            {\n",
    "                // #2 have user enter multiple comma separated characteristics to search for\n",
    "                Console.WriteLine($\"\\r\\nEnter one desired dog characteristic to search for\");\n",
    "                readResult = Console.ReadLine();\n",
    "                if (readResult != null)\n",
    "                {\n",
    "                    dogCharacteristic = readResult.ToLower().Trim();\n",
    "                    Console.WriteLine();\n",
    "                }\n",
    "            }\n",
    "\n",
    "            bool noMatchesDog = true;\n",
    "            string dogDescription = \"\";\n",
    "            \n",
    "            // #4 update to \"rotating\" animation with countdown\n",
    "            string[] searchingIcons = {\".  \", \".. \", \"...\"};\n",
    "\n",
    "            // loop ourAnimals array to search for matching animals\n",
    "            for (int i = 0; i < maxPets; i++)\n",
    "            {\n",
    "\n",
    "                if (ourAnimals[i, 1].Contains(\"dog\"))\n",
    "                {\n",
    "                    \n",
    "                    // Search combined descriptions and report results\n",
    "                    dogDescription = ourAnimals[i, 4] + \"\\r\\n\" + ourAnimals[i, 5];\n",
    "                    \n",
    "                    for (int j = 5; j > -1 ; j--)\n",
    "                    {\n",
    "                    // #5 update \"searching\" message to show countdown \n",
    "                        foreach (string icon in searchingIcons)\n",
    "                        {\n",
    "                            Console.Write($\"\\rsearching our dog {ourAnimals[i, 3]} for {dogCharacteristic} {icon}\");\n",
    "                            Thread.Sleep(250); // suspends for x amount of time\n",
    "                            // https://learn.microsoft.com/en-us/dotnet/api/system.threading.thread.sleep?view=net-7.0\n",
    "                        }\n",
    "                        \n",
    "                        Console.Write($\"\\r{new String(' ', Console.BufferWidth)}\");\n",
    "                    }\n",
    "                    \n",
    "                    // #3a iterate submitted characteristic terms and search description for each term\n",
    "                    \n",
    "                    if (dogDescription.Contains(dogCharacteristic))\n",
    "                    {\n",
    "                        // #3b update message to reflect term \n",
    "                        // #3c set a flag \"this dog\" is a match\n",
    "                        Console.WriteLine($\"\\nOur dog {ourAnimals[i, 3]} is a match!\");\n",
    "\n",
    "                        noMatchesDog = false;\n",
    "                    }\n",
    "\n",
    "                    // #3d if \"this dog\" is match write match message + dog description\n",
    "                }\n",
    "            }\n",
    "\n",
    "            if (noMatchesDog)\n",
    "            {\n",
    "                Console.WriteLine(\"None of our dogs are a match found for: \" + dogCharacteristic);\n",
    "            }\n",
    "\n",
    "            Console.WriteLine(\"\\n\\rPress the Enter key to continue\");\n",
    "            readResult = Console.ReadLine();\n",
    "\n",
    "            break;\n",
    "\n",
    "        default:\n",
    "            break;\n",
    "    }\n",
    "\n",
    "} while (menuSelection != \"exit\");\n"
   ]
  },
  {
   "cell_type": "markdown",
   "metadata": {},
   "source": [
    "#### **Add multiple term search support**"
   ]
  },
  {
   "cell_type": "markdown",
   "metadata": {},
   "source": [
    "The Contoso Pets app helps find new homes for abandoned pets. The team wants the search feature improved to let users enter multiple terms when searching for dogs to adopt."
   ]
  },
  {
   "cell_type": "markdown",
   "metadata": {},
   "source": [
    "##### ***Search Specification***"
   ]
  },
  {
   "cell_type": "markdown",
   "metadata": {},
   "source": [
    "![](./Assets/challenge-spec2.png)"
   ]
  },
  {
   "cell_type": "markdown",
   "metadata": {},
   "source": [
    "##### ***Sample Output***"
   ]
  },
  {
   "cell_type": "markdown",
   "metadata": {},
   "source": [
    "* Review the following animated image\n",
    "\n",
    "    * Notice the temporary display of \"searching...\" followed by the current term (example: \"searching...retriever\")\n",
    "\n",
    "    * Notice the order the terms appear in search is now in alphanumeric\n",
    "\n",
    "    * Notice the messages for matches persist (example: \"Our dog lola is a chase match!\")\n",
    "    ![](./Assets/pet-search-animation.gif)\n",
    "\n",
    "* Review the sample output in the following section, \"How to check your work\", to further clarify how to implement features"
   ]
  },
  {
   "cell_type": "markdown",
   "metadata": {},
   "source": [
    "##### ***Solution***"
   ]
  },
  {
   "cell_type": "markdown",
   "metadata": {},
   "source": [
    "* not perfect, iterations of countdown double. \n",
    "* timeboxed & moved on with other challenges\n"
   ]
  },
  {
   "cell_type": "code",
   "execution_count": null,
   "metadata": {
    "dotnet_interactive": {
     "language": "csharp"
    },
    "polyglot_notebook": {
     "kernelName": "csharp"
    },
    "vscode": {
     "languageId": "polyglot-notebook"
    }
   },
   "outputs": [],
   "source": [
    "using System;\n",
    "\n",
    "// ourAnimals array will store the following: \n",
    "string animalSpecies = \"\";\n",
    "string animalID = \"\";\n",
    "string animalAge = \"\";\n",
    "string animalPhysicalDescription = \"\";\n",
    "string animalPersonalityDescription = \"\";\n",
    "string animalNickname = \"\";\n",
    "string suggestedDonation = \"\";\n",
    "\n",
    "// variables that support data entry\n",
    "int maxPets = 8;\n",
    "string? readResult;\n",
    "string menuSelection = \"\";\n",
    "decimal decimalDonation = 0.00m;\n",
    "\n",
    "// array used to store runtime data\n",
    "string[,] ourAnimals = new string[maxPets, 7];\n",
    "\n",
    "// sample data ourAnimals array entries\n",
    "for (int i = 0; i < maxPets; i++)\n",
    "{\n",
    "    switch (i)\n",
    "    {\n",
    "        case 0:\n",
    "            animalSpecies = \"dog\";\n",
    "            animalID = \"d1\";\n",
    "            animalAge = \"2\";\n",
    "            animalPhysicalDescription = \"medium sized cream colored female golden retriever weighing about 45 pounds. housebroken.\";\n",
    "            animalPersonalityDescription = \"loves to have her belly rubbed and likes to chase her tail. gives lots of kisses.\";\n",
    "            animalNickname = \"lola\";\n",
    "            suggestedDonation = \"85.00\";\n",
    "            break;\n",
    "\n",
    "        case 1:\n",
    "            animalSpecies = \"dog\";\n",
    "            animalID = \"d2\";\n",
    "            animalAge = \"9\";\n",
    "            animalPhysicalDescription = \"large reddish-brown male golden retriever weighing about 85 pounds. housebroken.\";\n",
    "            animalPersonalityDescription = \"loves to have his ears rubbed when he greets you at the door, or at any time! loves to lean-in and give doggy hugs.\";\n",
    "            animalNickname = \"gus\";\n",
    "            suggestedDonation = \"49.99\";\n",
    "            break;\n",
    "\n",
    "        case 2:\n",
    "            animalSpecies = \"cat\";\n",
    "            animalID = \"c3\";\n",
    "            animalAge = \"1\";\n",
    "            animalPhysicalDescription = \"small white female weighing about 8 pounds. litter box trained.\";\n",
    "            animalPersonalityDescription = \"friendly\";\n",
    "            animalNickname = \"snow\";\n",
    "            suggestedDonation = \"40.00\";\n",
    "            break;\n",
    "\n",
    "        case 3:\n",
    "            animalSpecies = \"cat\";\n",
    "            animalID = \"c4\";\n",
    "            animalAge = \"\";\n",
    "            animalPhysicalDescription = \"\";\n",
    "            animalPersonalityDescription = \"\";\n",
    "            animalNickname = \"lion\";\n",
    "            suggestedDonation = \"\";\n",
    "\n",
    "            break;\n",
    "\n",
    "        default:\n",
    "            animalSpecies = \"\";\n",
    "            animalID = \"\";\n",
    "            animalAge = \"\";\n",
    "            animalPhysicalDescription = \"\";\n",
    "            animalPersonalityDescription = \"\";\n",
    "            animalNickname = \"\";\n",
    "            suggestedDonation = \"\";\n",
    "            break;\n",
    "\n",
    "    }\n",
    "\n",
    "    ourAnimals[i, 0] = \"ID #: \" + animalID;\n",
    "    ourAnimals[i, 1] = \"Species: \" + animalSpecies;\n",
    "    ourAnimals[i, 2] = \"Age: \" + animalAge;\n",
    "    ourAnimals[i, 3] = \"Nickname: \" + animalNickname;\n",
    "    ourAnimals[i, 4] = \"Physical description: \" + animalPhysicalDescription;\n",
    "    ourAnimals[i, 5] = \"Personality: \" + animalPersonalityDescription;\n",
    "    \n",
    "    if (!decimal.TryParse(suggestedDonation, out decimalDonation)){\n",
    "        decimalDonation = 45.00m; // if suggestedDonation NOT a number, default to 45.00\n",
    "    }\n",
    "    ourAnimals[i, 6] = $\"Suggested Donation: {decimalDonation:C2}\";\n",
    "}\n",
    "\n",
    "// top-level menu options\n",
    "do\n",
    "{\n",
    "    // NOTE: the Console.Clear method is throwing an exception in debug sessions\n",
    "    Console.Clear();\n",
    "\n",
    "    Console.WriteLine(\"Welcome to the Contoso PetFriends app. Your main menu options are:\");\n",
    "    Console.WriteLine(\" 1. List all of our current pet information\");\n",
    "    Console.WriteLine(\" 2. Display all dogs with a specified characteristic\");\n",
    "    Console.WriteLine();\n",
    "    Console.WriteLine(\"Enter your selection number (or type Exit to exit the program)\");\n",
    "\n",
    "    readResult = Console.ReadLine();\n",
    "    if (readResult != null)\n",
    "    {\n",
    "        menuSelection = readResult.ToLower();\n",
    "    }\n",
    "\n",
    "    // switch-case to process the selected menu option\n",
    "    switch (menuSelection)\n",
    "    {\n",
    "        case \"1\":\n",
    "            // list all pet info\n",
    "            for (int i = 0; i < maxPets; i++)\n",
    "            {\n",
    "                if (ourAnimals[i, 0] != \"ID #: \")\n",
    "                {\n",
    "                    Console.WriteLine();\n",
    "                    for (int j = 0; j < 7; j++)\n",
    "                    {\n",
    "                        Console.WriteLine(ourAnimals[i, j].ToString());\n",
    "                    }\n",
    "                }\n",
    "            }\n",
    "\n",
    "            Console.WriteLine(\"\\r\\nPress the Enter key to continue\");\n",
    "            readResult = Console.ReadLine();\n",
    "\n",
    "            break;\n",
    "\n",
    "        case \"2\":\n",
    "            // #1 Display all dogs with a multiple search characteristics\n",
    "\n",
    "            string dogCharacteristic = \"\";\n",
    "\n",
    "            while (dogCharacteristic == \"\")\n",
    "            {\n",
    "                // #2 have user enter multiple comma separated characteristics to search for\n",
    "                // Console.WriteLine($\"\\r\\nEnter one desired dog characteristic to search for\");\n",
    "                Console.WriteLine($\"\\nEnter the search terms separated by commas\");\n",
    "                readResult = Console.ReadLine();\n",
    "                if (readResult != null)\n",
    "                {\n",
    "                    dogCharacteristic = readResult.ToLower().Trim();\n",
    "                    Console.WriteLine();\n",
    "                }\n",
    "            }\n",
    "            // separate out individual search terms from the user entry string and store as values in an array\n",
    "            string[] dogCharacteristics = dogCharacteristic.Split(',');      \n",
    "            // sort array in alphanumeric order\n",
    "            Array.Sort(dogCharacteristics);                       \n",
    "\n",
    "            bool noMatchesDog = true;\n",
    "            string dogDescription = \"\";\n",
    "            \n",
    "            // #4 update to \"rotating\" animation with countdown\n",
    "            string[] searchingIcons = {\"| \", @\"/ \", \"--\", @\"\\ \",\"* \"};\n",
    "\n",
    "            // loop ourAnimals array to search for matching animals\n",
    "            for (int i = 0; i < maxPets; i++)\n",
    "            {\n",
    "\n",
    "                if (ourAnimals[i, 1].Contains(\"dog\"))\n",
    "                {                 \n",
    "                    // Search combined descriptions and report results\n",
    "                    bool currentDogMatch = false;\n",
    "                    dogDescription = ourAnimals[i, 4] + \"\\r\\n\" + ourAnimals[i, 5];\n",
    "\n",
    "                    // #5 update \"searching\" message to show countdown \n",
    "                    // #3a iterate submitted characteristic terms and search description for each term\n",
    "                  \n",
    "                    foreach (string characteristic in dogCharacteristics)\n",
    "                    {\n",
    "                        for (int j = 2; j > -1 ; j--)\n",
    "                        {\n",
    "                            foreach (string icon in searchingIcons)\n",
    "                            {\n",
    "                                Console.Write($\"\\rsearching...{characteristic} {icon} {j.ToString()}\");                            \n",
    "                                Thread.Sleep(100); // suspends for x amount of time\n",
    "                            }\n",
    "                            Console.Write($\"\\r{new String(' ', Console.BufferWidth)}\");\n",
    "                        }\n",
    "                        // Console.WriteLine(characteristic);\n",
    "                        if (dogDescription.Contains(characteristic))\n",
    "                        //if (dogDescription.Contains(dogCharacteristic))\n",
    "                        {\n",
    "                            // #3b update message to reflect term \n",
    "                            // #3c set a flag \"this dog\" is a match\n",
    "                            // remove \"Nickname: \" from value\n",
    "                            string ourAnimalNickname = (ourAnimals[i, 3]).Remove(0,10);\n",
    "                            Console.Write($\"Our dog {ourAnimalNickname} is a match for your search for {characteristic.Trim()}\\n\");\n",
    "                            currentDogMatch = true;\n",
    "\n",
    "                            noMatchesDog = false;\n",
    "                        }\n",
    "                        // #3d if \"this dog\" is match write match message + dog description\n",
    "                    }\n",
    "                    if (currentDogMatch)\n",
    "                    {\n",
    "                        Console.WriteLine($\"\\n{ourAnimals[i, 3]} ({ourAnimals[i, 0]})\");\n",
    "                        Console.WriteLine(dogDescription);\n",
    "                    }\n",
    "                }\n",
    "            }\n",
    "            if (noMatchesDog)\n",
    "            {\n",
    "                Console.WriteLine(\"None of our dogs are a match found for: \" + dogCharacteristic);\n",
    "            }\n",
    "\n",
    "            Console.WriteLine(\"\\n\\rPress the Enter key to continue\");\n",
    "            readResult = Console.ReadLine();\n",
    "\n",
    "            break;\n",
    "\n",
    "        default:\n",
    "            break;\n",
    "    }\n",
    "\n",
    "} while (menuSelection != \"exit\");\n"
   ]
  },
  {
   "cell_type": "markdown",
   "metadata": {},
   "source": [
    "##### MS Learn Solution"
   ]
  },
  {
   "cell_type": "code",
   "execution_count": null,
   "metadata": {
    "dotnet_interactive": {
     "language": "csharp"
    },
    "polyglot_notebook": {
     "kernelName": "csharp"
    },
    "vscode": {
     "languageId": "polyglot-notebook"
    }
   },
   "outputs": [],
   "source": [
    "// Final\n",
    "\n",
    "// ourAnimals array will store the following: \n",
    "string animalSpecies = \"\";\n",
    "string animalID = \"\";\n",
    "string animalAge = \"\";\n",
    "string animalPhysicalDescription = \"\";\n",
    "string animalPersonalityDescription = \"\";\n",
    "string animalNickname = \"\";\n",
    "string suggestedDonation = \"\";\n",
    "\n",
    "// variables that support data entry\n",
    "int maxPets = 8;\n",
    "string? readResult;\n",
    "string menuSelection = \"\";\n",
    "decimal decimalDonation = 0.00m;\n",
    "\n",
    "// array used to store runtime data\n",
    "string[,] ourAnimals = new string[maxPets, 7];\n",
    "\n",
    "// sample data ourAnimals array entries\n",
    "for (int i = 0; i < maxPets; i++)\n",
    "{\n",
    "    switch (i)\n",
    "    {\n",
    "        case 0:\n",
    "            animalSpecies = \"dog\";\n",
    "            animalID = \"d1\";\n",
    "            animalAge = \"2\";\n",
    "            animalPhysicalDescription = \"medium sized cream colored female golden retriever weighing about 45 pounds. housebroken.\";\n",
    "            animalPersonalityDescription = \"loves to have her belly rubbed and likes to chase her tail. gives lots of kisses.\";\n",
    "            animalNickname = \"lola\";\n",
    "            suggestedDonation = \"85.00\";\n",
    "            break;\n",
    "\n",
    "        case 1:\n",
    "            animalSpecies = \"dog\";\n",
    "            animalID = \"d2\";\n",
    "            animalAge = \"9\";\n",
    "            animalPhysicalDescription = \"large reddish-brown male golden retriever weighing about 85 pounds. housebroken.\";\n",
    "            animalPersonalityDescription = \"loves to have his ears rubbed when he greets you at the door, or at any time! loves to lean-in and give doggy hugs.\";\n",
    "            animalNickname = \"gus\";\n",
    "            suggestedDonation = \"49.99\";\n",
    "            break;\n",
    "\n",
    "        case 2:\n",
    "            animalSpecies = \"cat\";\n",
    "            animalID = \"c3\";\n",
    "            animalAge = \"1\";\n",
    "            animalPhysicalDescription = \"small white female weighing about 8 pounds. litter box trained.\";\n",
    "            animalPersonalityDescription = \"friendly\";\n",
    "            animalNickname = \"snow\";\n",
    "            suggestedDonation = \"40.00\";\n",
    "            break;\n",
    "\n",
    "        case 3:\n",
    "            animalSpecies = \"cat\";\n",
    "            animalID = \"c4\";\n",
    "            animalAge = \"\";\n",
    "            animalPhysicalDescription = \"\";\n",
    "            animalPersonalityDescription = \"\";\n",
    "            animalNickname = \"lion\";\n",
    "            suggestedDonation = \"\";\n",
    "\n",
    "            break;\n",
    "\n",
    "        default:\n",
    "            animalSpecies = \"\";\n",
    "            animalID = \"\";\n",
    "            animalAge = \"\";\n",
    "            animalPhysicalDescription = \"\";\n",
    "            animalPersonalityDescription = \"\";\n",
    "            animalNickname = \"\";\n",
    "            suggestedDonation = \"\";\n",
    "            break;\n",
    "    }\n",
    "\n",
    "    ourAnimals[i, 0] = \"ID #: \" + animalID;\n",
    "    ourAnimals[i, 1] = \"Species: \" + animalSpecies;\n",
    "    ourAnimals[i, 2] = \"Age: \" + animalAge;\n",
    "    ourAnimals[i, 3] = \"Nickname: \" + animalNickname;\n",
    "    ourAnimals[i, 4] = \"Physical description: \" + animalPhysicalDescription;\n",
    "    ourAnimals[i, 5] = \"Personality: \" + animalPersonalityDescription;\n",
    "    \n",
    "    if (!decimal.TryParse(suggestedDonation, out decimalDonation))\n",
    "    {\n",
    "        decimalDonation = 45.00m; // if suggestedDonation NOT a number, default to 45.00\n",
    "    }\n",
    "    ourAnimals[i, 6] = $\"Suggested Donation: {decimalDonation:C2}\";\n",
    "}\n",
    "\n",
    "// top-level menu options\n",
    "do\n",
    "{\n",
    "    // NOTE: the Console.Clear method is throwing an exception in debug sessions\n",
    "    Console.Clear();\n",
    "\n",
    "    Console.WriteLine(\"Welcome to the Contoso PetFriends app. Your main menu options are:\");\n",
    "    Console.WriteLine(\" 1. List all of our current pet information\");\n",
    "    Console.WriteLine(\" 2. Display all dogs with a specified characteristic\");\n",
    "    Console.WriteLine();\n",
    "    Console.WriteLine(\"Enter your selection number (or type Exit to exit the program)\");\n",
    "\n",
    "    readResult = Console.ReadLine();\n",
    "\n",
    "    if (readResult != null)\n",
    "    {\n",
    "        menuSelection = readResult.ToLower();\n",
    "    }\n",
    "\n",
    "    // switch-case to process the selected menu option\n",
    "    switch (menuSelection)\n",
    "    {\n",
    "        case \"1\":\n",
    "            // list all pet info\n",
    "            for (int i = 0; i < maxPets; i++)\n",
    "            {\n",
    "                if (ourAnimals[i, 0] != \"ID #: \")\n",
    "                {\n",
    "                    Console.WriteLine();\n",
    "\n",
    "                    for (int j = 0; j < 7; j++)\n",
    "                    {\n",
    "                        Console.WriteLine(ourAnimals[i, j].ToString());\n",
    "                    }\n",
    "                }\n",
    "            }\n",
    "\n",
    "            Console.WriteLine(\"\\r\\nPress the Enter key to continue\");\n",
    "            readResult = Console.ReadLine();\n",
    "\n",
    "            break;\n",
    "\n",
    "        case \"2\":\n",
    "            // #1 Display all dogs with a multiple search characteristics\n",
    "\n",
    "            string dogCharacteristics = \"\";\n",
    "\n",
    "            while (dogCharacteristics == \"\")\n",
    "            {\n",
    "                // #2 have user enter multiple comma separated characteristics to search for\n",
    "                Console.WriteLine($\"\\nEnter dog characteristics to search for separated by commas\");\n",
    "                readResult = Console.ReadLine();\n",
    "\n",
    "                if (readResult != null)\n",
    "                {\n",
    "                    dogCharacteristics = readResult.ToLower();\n",
    "                    Console.WriteLine();\n",
    "                }\n",
    "            }\n",
    "\n",
    "            string[] dogSearches = dogCharacteristics.Split(\",\");\n",
    "            // trim leading and trailing spaces from each search term\n",
    "            for (int i = 0; i < dogSearches.Length; i++)\n",
    "            {\n",
    "                dogSearches[i] = dogSearches[i].Trim();\n",
    "            }\n",
    "\n",
    "            Array.Sort(dogSearches);\n",
    "            // #4 update to \"rotating\" animation with countdown\n",
    "            string[] searchingIcons = {\" |\", \" /\", \"--\", \" \\\\\", \" *\"};\n",
    "\n",
    "            bool matchesAnyDog = false;\n",
    "            string dogDescription = \"\";\n",
    "\n",
    "            // loops through the ourAnimals array to search for matching animals\n",
    "            for (int i = 0; i < maxPets; i++)\n",
    "            {\n",
    "                if (ourAnimals[i, 1].Contains(\"dog\"))\n",
    "                {\n",
    "\n",
    "                    // Search combined descriptions and report results\n",
    "                    dogDescription = ourAnimals[i, 4] + \"\\n\" + ourAnimals[i, 5];\n",
    "                    bool matchesCurrentDog = false;\n",
    "\n",
    "                    foreach (string term in dogSearches)\n",
    "                    {\n",
    "                        // only search if there is a term to search for\n",
    "                        if (term != null && term.Trim() != \"\")\n",
    "                        {\n",
    "                            for (int j = 2; j > -1 ; j--)\n",
    "                            {\n",
    "                                // #5 update \"searching\" message to show countdown\n",
    "                                foreach (string icon in searchingIcons)\n",
    "                                {\n",
    "                                    Console.Write($\"\\rsearching our dog {ourAnimals[i, 3]} for {term.Trim()} {icon} {j.ToString()}\");\n",
    "                                    Thread.Sleep(100);\n",
    "                                }\n",
    "                                \n",
    "                                Console.Write($\"\\r{new String(' ', Console.BufferWidth)}\");\n",
    "                            }\n",
    "\n",
    "                            // #3a iterate submitted characteristic terms and search description for each term\n",
    "                            if (dogDescription.Contains(\" \" + term.Trim() + \" \"))\n",
    "                            {\n",
    "                                // #3b update message to reflect current search term match \n",
    "\n",
    "                                Console.WriteLine($\"\\rOur dog {ourAnimals[i, 3]} matches your search for {term.Trim()}\");\n",
    "\n",
    "                                matchesCurrentDog = true;\n",
    "                                matchesAnyDog = true;\n",
    "                            }\n",
    "                        }\n",
    "                    }\n",
    "                    \n",
    "                    // #3d if the current dog is match, display the dog's info\n",
    "                    if (matchesCurrentDog)\n",
    "                    {\n",
    "                        Console.WriteLine($\"\\r{ourAnimals[i, 3]} ({ourAnimals[i, 0]})\\n{dogDescription}\\n\");\n",
    "                    }\n",
    "                }\n",
    "            }\n",
    "\n",
    "            if (!matchesAnyDog)\n",
    "            {\n",
    "                Console.WriteLine(\"None of our dogs are a match found for: \" + dogCharacteristics);\n",
    "            }\n",
    "\n",
    "            Console.WriteLine(\"\\n\\rPress the Enter key to continue\");\n",
    "            readResult = Console.ReadLine();\n",
    "\n",
    "            break;\n",
    "\n",
    "        default:\n",
    "            break;\n",
    "    }\n",
    "} \n",
    "while (menuSelection != \"exit\");\n"
   ]
  },
  {
   "cell_type": "markdown",
   "metadata": {},
   "source": [
    "#### ❓ **Check Knowledge: `String.Trim()` `foreach`**"
   ]
  },
  {
   "cell_type": "markdown",
   "metadata": {},
   "source": [
    "1. To sort a string array, why is it important to use the `String.Trim()` method on each array element before sorting? \n",
    "    * ❌ Only string arrays with elements trimmed with `String.Trim()` can sort\n",
    "    * ✔️ `String.Trim()` removes leading white space that would sort before numbers and letters.\n",
    "    * ❌ The array sort is noticeably faster using `String.Trim()` on each element.\n",
    "\n",
    "    <br>\n",
    "\n",
    "2. Both foreach and for are good choices to iterate small single dimension arrays like {\"cat\", \"fox\", \"dog\", \"snake\", \"eagle\"}, but when is it best to use a for loop? \n",
    "    * ❌ When the elements have alphabetical sort order\n",
    "    * ❌ When you need to perform a search on each element in the array\n",
    "    * ✔️ When you need to evaluate a specific range of elements"
   ]
  },
  {
   "cell_type": "markdown",
   "metadata": {},
   "source": [
    "#### **Summary**"
   ]
  },
  {
   "cell_type": "markdown",
   "metadata": {},
   "source": [
    "Your challenge was to update an application to support multiple term search and to improve the \"search status\" information animation.\n",
    "\n",
    "In this module, you developed code that combines:\n",
    "\n",
    "* Iteration statements using data input\n",
    "* Data processing\n",
    "* Formatting data output\n",
    "* Choosing the correct data types and safely converting data types\n",
    "* Creating and manipulating string arrays, and sorting array data\n",
    "* Modifying and building complex strings from multiple data sources, and formatting data for display\n",
    "\n",
    "\n",
    "You delivered functionality to your Contoso pet app team, including:\n",
    "\n",
    "* Gather the pet characteristics for multiple search term inputs\n",
    "* Store search input terms in a sorted array\n",
    "* Display the dogs that have a term match\n",
    "* Provide an improved search status animation with a countdown"
   ]
  },
  {
   "cell_type": "markdown",
   "metadata": {},
   "source": [
    "_________________________\n",
    "\n",
    "## ***[Create methods in C# console applications<br> (Get started with C#, Part 5)](https://learn.microsoft.com/en-us/training/paths/get-started-c-sharp-part-5/)***\n",
    "\n",
    "_________________________"
   ]
  },
  {
   "cell_type": "markdown",
   "metadata": {},
   "source": [
    "_________________________\n",
    "\n",
    "### [Write your first C# method](https://learn.microsoft.com/en-us/training/modules/write-first-c-sharp-method/)\n",
    "\n",
    "_________________________"
   ]
  },
  {
   "cell_type": "markdown",
   "metadata": {},
   "source": [
    "####  ✔️ **Learning Objectives:**"
   ]
  },
  {
   "cell_type": "markdown",
   "metadata": {},
   "source": [
    "* Create your first c sharp method\n",
    "* Identify parts of code that can be modularized\n",
    "* Use methods to organize code into specific tasks"
   ]
  },
  {
   "cell_type": "markdown",
   "metadata": {},
   "source": [
    "####  **Introduction:**"
   ]
  },
  {
   "cell_type": "markdown",
   "metadata": {},
   "source": [
    "![](./Assets/intro-methods.png)"
   ]
  },
  {
   "cell_type": "markdown",
   "metadata": {},
   "source": [
    "##### ***Prerequisites***"
   ]
  },
  {
   "cell_type": "markdown",
   "metadata": {},
   "source": [
    "* Experience with basic coding tasks such as instantiating variables, using various data types, and sending output to a console window.\n",
    "* Experience using Visual Studio Code to create and run simple console applications.\n",
    "* Experience using C# data types including `int, string, double, and arrays`\n",
    "* Experience using `switch` statements, `if-else` statements, and `for` loops\n",
    "* Experience using `string.Split`"
   ]
  },
  {
   "cell_type": "markdown",
   "metadata": {},
   "source": [
    "####  **Understand the syntax of methods**"
   ]
  },
  {
   "cell_type": "markdown",
   "metadata": {},
   "source": [
    "##### ***How methods work***"
   ]
  },
  {
   "cell_type": "markdown",
   "metadata": {},
   "source": [
    "**1. Create a method signature:**\n",
    "\n",
    "* declares the method's:\n",
    "    * return type\n",
    "        * `void, bool, int, double, array`\n",
    "    * name\n",
    "        * reflects task\n",
    "    * input parameters\n",
    "        * within `( )`"
   ]
  },
  {
   "cell_type": "code",
   "execution_count": null,
   "metadata": {
    "dotnet_interactive": {
     "language": "csharp"
    },
    "polyglot_notebook": {
     "kernelName": "csharp"
    },
    "vscode": {
     "languageId": "polyglot-notebook"
    }
   },
   "outputs": [],
   "source": [
    "void SayHello();\n",
    "\n",
    "// method name: SayHello\n",
    "// return type: void (no data)\n",
    "// parameters ( ): none"
   ]
  },
  {
   "cell_type": "markdown",
   "metadata": {},
   "source": [
    "**2. Add a definition:**\n",
    "\n",
    "* `{ }` contains the code\n",
    "    * code runs when method is called"
   ]
  },
  {
   "cell_type": "code",
   "execution_count": 2,
   "metadata": {
    "dotnet_interactive": {
     "language": "csharp"
    },
    "polyglot_notebook": {
     "kernelName": "csharp"
    },
    "vscode": {
     "languageId": "polyglot-notebook"
    }
   },
   "outputs": [],
   "source": [
    "void SayHello() // returnType methodName (inputParameters)\n",
    "{\n",
    "    // definition:\n",
    "    Console.WriteLine(\"Hello Banana Man\");\n",
    "}"
   ]
  },
  {
   "cell_type": "markdown",
   "metadata": {},
   "source": [
    "**3. Calling a method:**\n",
    "\n",
    "* use the methodName\n",
    "    * include any required arguments"
   ]
  },
  {
   "cell_type": "code",
   "execution_count": 8,
   "metadata": {
    "dotnet_interactive": {
     "language": "csharp"
    },
    "polyglot_notebook": {
     "kernelName": "csharp"
    },
    "vscode": {
     "languageId": "polyglot-notebook"
    }
   },
   "outputs": [
    {
     "name": "stdout",
     "output_type": "stream",
     "text": [
      "this is the input argument for \"Write\" method"
     ]
    }
   ],
   "source": [
    "// Class.Method(arguments);\n",
    "// . = calls the method from the Class\n",
    "\n",
    "Console.Write(\"this is the input argument for \\\"Write\\\" method\");"
   ]
  },
  {
   "cell_type": "markdown",
   "metadata": {},
   "source": [
    "* method can be called before or after definiton"
   ]
  },
  {
   "cell_type": "code",
   "execution_count": 10,
   "metadata": {
    "dotnet_interactive": {
     "language": "csharp"
    },
    "polyglot_notebook": {
     "kernelName": "csharp"
    },
    "vscode": {
     "languageId": "polyglot-notebook"
    }
   },
   "outputs": [
    {
     "name": "stdout",
     "output_type": "stream",
     "text": [
      "Hi!\r\n"
     ]
    }
   ],
   "source": [
    "// Call method\n",
    "SayHi();\n",
    "\n",
    "// Method definition\n",
    "void SayHi() // returnType MethodName(parameters)\n",
    "{\n",
    "    Console.WriteLine(\"Hi!\"); //Class.Method(parameters);\n",
    "}"
   ]
  },
  {
   "cell_type": "markdown",
   "metadata": {},
   "source": [
    "* common to define methods at the end of a program"
   ]
  },
  {
   "cell_type": "code",
   "execution_count": 11,
   "metadata": {
    "dotnet_interactive": {
     "language": "csharp"
    },
    "polyglot_notebook": {
     "kernelName": "csharp"
    },
    "vscode": {
     "languageId": "polyglot-notebook"
    }
   },
   "outputs": [
    {
     "name": "stdout",
     "output_type": "stream",
     "text": [
      "Contents of Array:\n",
      "1 2 3 4 5 \n"
     ]
    }
   ],
   "source": [
    "int[] numbers = {1,2,3,4,5};\n",
    "\n",
    "Console.WriteLine(\"Contents of Array:\");\n",
    "PrintArray();\n",
    "\n",
    "// ------------------------- \n",
    "// Method Definitions\n",
    "// -------------------------\n",
    "\n",
    "void PrintArray()\n",
    "{\n",
    "    foreach (int number in numbers)\n",
    "    {\n",
    "        Console.Write($\"{number} \");\n",
    "    }\n",
    "    Console.WriteLine();\n",
    "}"
   ]
  },
  {
   "cell_type": "markdown",
   "metadata": {},
   "source": [
    "##### ***Method Execution***"
   ]
  },
  {
   "cell_type": "markdown",
   "metadata": {},
   "source": [
    "* methods can be called at anytime"
   ]
  },
  {
   "cell_type": "code",
   "execution_count": 12,
   "metadata": {
    "dotnet_interactive": {
     "language": "csharp"
    },
    "polyglot_notebook": {
     "kernelName": "csharp"
    },
    "vscode": {
     "languageId": "polyglot-notebook"
    }
   },
   "outputs": [
    {
     "name": "stdout",
     "output_type": "stream",
     "text": [
      "Before calling a method\n",
      "Hello World!\n",
      "After calling a method\n"
     ]
    }
   ],
   "source": [
    "Console.WriteLine(\"Before calling a method\");\n",
    "SayHello();\n",
    "Console.WriteLine(\"After calling a method\");\n",
    "\n",
    "void SayHello() \n",
    "{\n",
    "    Console.WriteLine(\"Hello World!\");\n",
    "}"
   ]
  },
  {
   "cell_type": "markdown",
   "metadata": {},
   "source": [
    "##### ***Best Practise***"
   ]
  },
  {
   "cell_type": "markdown",
   "metadata": {},
   "source": [
    "* keep method names concise & clear about the task\n",
    "* MethodNames = PascalCase\n",
    "    * no digits\n",
    "* Parameter names = what info they represent"
   ]
  },
  {
   "cell_type": "code",
   "execution_count": null,
   "metadata": {
    "dotnet_interactive": {
     "language": "csharp"
    },
    "polyglot_notebook": {
     "kernelName": "csharp"
    },
    "vscode": {
     "languageId": "polyglot-notebook"
    }
   },
   "outputs": [],
   "source": [
    "// difficut to understand\n",
    "void ShowData(string a, int b, int c);\n",
    "\n",
    "// easy to understand\n",
    "void DisplayDate(string month, int day, int year);"
   ]
  },
  {
   "cell_type": "markdown",
   "metadata": {},
   "source": [
    "#### 🚀 **[Exercise - Create your first method](https://learn.microsoft.com/en-us/training/modules/write-first-c-sharp-method/3-exercise-create-your-first-method)**"
   ]
  },
  {
   "cell_type": "markdown",
   "metadata": {},
   "source": [
    "##### ***Intro***"
   ]
  },
  {
   "cell_type": "markdown",
   "metadata": {},
   "source": [
    "* Typically, a method is created to perform a specific task. \n",
    "* Create a method by declaring the return type, name, input parameters, and method body.\n",
    "* Method names should clearly reflect the task the method performs.\n",
    "* Use a method by calling its name and including parentheses ()."
   ]
  },
  {
   "cell_type": "markdown",
   "metadata": {},
   "source": [
    "##### ***Create a method to display random numbers***"
   ]
  },
  {
   "cell_type": "markdown",
   "metadata": {},
   "source": [
    "1. create a method signature\n",
    "    * declare: \n",
    "        * return type\n",
    "        * method name\n",
    "        * parameters"
   ]
  },
  {
   "cell_type": "code",
   "execution_count": null,
   "metadata": {
    "dotnet_interactive": {
     "language": "csharp"
    },
    "polyglot_notebook": {
     "kernelName": "csharp"
    },
    "vscode": {
     "languageId": "polyglot-notebook"
    }
   },
   "outputs": [],
   "source": [
    "// 1. create method signature\n",
    "// returnType MethodName();\n",
    "\n",
    "void DisplayRandomNumbers();"
   ]
  },
  {
   "cell_type": "markdown",
   "metadata": {},
   "source": [
    "2. add method body\n",
    "    * add curly brackets\n",
    "    * create code"
   ]
  },
  {
   "cell_type": "code",
   "execution_count": 19,
   "metadata": {
    "dotnet_interactive": {
     "language": "csharp"
    },
    "polyglot_notebook": {
     "kernelName": "csharp"
    },
    "vscode": {
     "languageId": "polyglot-notebook"
    }
   },
   "outputs": [
    {
     "name": "stdout",
     "output_type": "stream",
     "text": [
      "This is inside the the method\r\n"
     ]
    }
   ],
   "source": [
    "// 2. add method body\n",
    "\n",
    "void DisplayRandomNumbers()\n",
    "{\n",
    "    Random random = new Random();\n",
    "    // RandomClass variableName = newObjectInstanceOf RandomClass Call\n",
    "    Console.WriteLine(\"This is inside the the method\");\n",
    "}\n",
    "\n",
    "DisplayRandomNumbers();"
   ]
  },
  {
   "cell_type": "markdown",
   "metadata": {},
   "source": [
    "3. display 5 random integers using a `for` loop\n",
    "\n",
    "*This method:*\n",
    "* generates a number between 1 and 99 (inc).\n",
    "* adds a space after the number is printed\n",
    "* displays a new line before method terminates"
   ]
  },
  {
   "cell_type": "code",
   "execution_count": 23,
   "metadata": {
    "dotnet_interactive": {
     "language": "csharp"
    },
    "polyglot_notebook": {
     "kernelName": "csharp"
    },
    "vscode": {
     "languageId": "polyglot-notebook"
    }
   },
   "outputs": [
    {
     "name": "stdout",
     "output_type": "stream",
     "text": [
      "89 99 8 5 8 "
     ]
    }
   ],
   "source": [
    "void DisplayRandomNumbers()\n",
    "{\n",
    "    Random random = new Random();\n",
    "\n",
    "    for (int i = 0; i < 5; i++)\n",
    "    {\n",
    "        Console.Write($\"{random.Next(1, 100)} \");\n",
    "    }\n",
    "}\n",
    "\n",
    "DisplayRandomNumbers();\n",
    "\n",
    "/*\n",
    "    returnType MethodNamePascal(parameters)\n",
    "    {\n",
    "        Class variableName = newObject Class(input);\n",
    "\n",
    "        for (iterationType iterationVariable = startValue, iterationVariable condition value; iterationVariable increment)\n",
    "        {\n",
    "            Class.Method(stringInterpolation{objectName.MethodOfClass(start, stop)}space\");\n",
    "        }\n",
    "    }\n",
    "\n",
    "    MethodNamePascal call;\n",
    "\n",
    "*/"
   ]
  },
  {
   "cell_type": "markdown",
   "metadata": {},
   "source": [
    "4. add new line after displaying numbers"
   ]
  },
  {
   "cell_type": "code",
   "execution_count": 24,
   "metadata": {
    "dotnet_interactive": {
     "language": "csharp"
    },
    "polyglot_notebook": {
     "kernelName": "csharp"
    },
    "vscode": {
     "languageId": "polyglot-notebook"
    }
   },
   "outputs": [
    {
     "name": "stdout",
     "output_type": "stream",
     "text": [
      "14 64 28 24 99 \n"
     ]
    }
   ],
   "source": [
    "void DisplayRandomNumbers()\n",
    "{\n",
    "    Random random = new Random();\n",
    "\n",
    "    for (int i = 0; i < 5; i++)\n",
    "    {\n",
    "        Console.Write($\"{random.Next(1, 100)} \");\n",
    "    }\n",
    "\n",
    "    Console.WriteLine();\n",
    "}\n",
    "\n",
    "DisplayRandomNumbers();\n",
    "\n",
    "/*\n",
    "    returnType MethodNamePascal(parameters)\n",
    "    {\n",
    "        Class variableName = newObject Class(input);\n",
    "\n",
    "        for (iterationType iterationVariable = startValue, iterationVariable condition value; iterationVariable increment)\n",
    "        {\n",
    "            Class.Method(stringInterpolation{objectName.MethodOfClass(start, stop)}space\");\n",
    "        }\n",
    "        \n",
    "        Class.Method();\n",
    "    }\n",
    "\n",
    "    MethodNamePascal call;\n",
    "\n",
    "*/"
   ]
  },
  {
   "cell_type": "markdown",
   "metadata": {},
   "source": [
    "##### ***Call your method***"
   ]
  },
  {
   "cell_type": "code",
   "execution_count": 26,
   "metadata": {
    "dotnet_interactive": {
     "language": "csharp"
    },
    "polyglot_notebook": {
     "kernelName": "csharp"
    },
    "vscode": {
     "languageId": "polyglot-notebook"
    }
   },
   "outputs": [
    {
     "name": "stdout",
     "output_type": "stream",
     "text": [
      "Generating random numbers:\n",
      "77 15 95 79 3 \n"
     ]
    }
   ],
   "source": [
    "Console.WriteLine(\"Generating random numbers:\");\n",
    "\n",
    "// CALL METHODS\n",
    "DisplayRandomNumbers(); \n",
    "\n",
    "// DEFINE METHODS\n",
    "\n",
    "void DisplayRandomNumbers() \n",
    "{\n",
    "    Random random = new Random();\n",
    "\n",
    "    for (int i = 0; i < 5; i++) \n",
    "    {\n",
    "        Console.Write($\"{random.Next(1, 100)} \");\n",
    "    }\n",
    "\n",
    "    Console.WriteLine();\n",
    "}"
   ]
  },
  {
   "cell_type": "markdown",
   "metadata": {},
   "source": [
    "#### 🚀 **[Exercise -  Create reusable methods](https://learn.microsoft.com/en-us/training/modules/write-first-c-sharp-method/4-exercise-create-reusable-methods)**"
   ]
  },
  {
   "cell_type": "markdown",
   "metadata": {},
   "source": [
    "##### ***Intro***"
   ]
  },
  {
   "cell_type": "markdown",
   "metadata": {},
   "source": [
    "* As you develop applications, you may find yourself writing code to do the same thing over and over again. \n",
    "* Instead of writing duplicate code, using a method to perform the same task shortens your code and helps you develop applications faster."
   ]
  },
  {
   "cell_type": "markdown",
   "metadata": {},
   "source": [
    "##### ***Identify duplicated code***"
   ]
  },
  {
   "cell_type": "markdown",
   "metadata": {},
   "source": [
    "* In this task, you'll take a look at an application that tracks medication times across different time zones. \n",
    "    * The user enters --> current time zone and destination time zone. \n",
    "    * Their medication schedule --> displayed and then adjusted for the new time zone."
   ]
  },
  {
   "cell_type": "markdown",
   "metadata": {},
   "source": [
    "**Notes on below code**\n",
    "\n",
    "* several `for` loops repeated w/ identical code\n",
    "* 2x `foreach` loops --> formats and displays medicine times\n",
    "* 2x `for` loops --> adjust times to suit timezone difference"
   ]
  },
  {
   "cell_type": "code",
   "execution_count": null,
   "metadata": {
    "dotnet_interactive": {
     "language": "csharp"
    },
    "polyglot_notebook": {
     "kernelName": "csharp"
    },
    "vscode": {
     "languageId": "polyglot-notebook"
    }
   },
   "outputs": [],
   "source": [
    "using System;\n",
    "\n",
    "int[] times = {800, 1200, 1600, 2000};\n",
    "int diff = 0;\n",
    "\n",
    "Console.WriteLine(\"Enter current GMT\");\n",
    "int currentGMT = Convert.ToInt32(Console.ReadLine());\n",
    "\n",
    "Console.WriteLine(\"Current Medicine Schedule:\");\n",
    "\n",
    "// -------------------------------------------\n",
    "/* Format and display medicine times */\n",
    "foreach (int val in times) \n",
    "{\n",
    "    string time = val.ToString();\n",
    "    int len = time.Length;\n",
    "\n",
    "    if (len >= 3)\n",
    "    {\n",
    "        time = time.Insert(len - 2, \":\");\n",
    "    }\n",
    "    else if (len == 2)\n",
    "    {\n",
    "        time = time.Insert(0, \"0:\");\n",
    "    }\n",
    "    else\n",
    "    {\n",
    "        time = time.Insert(0, \"0:0\");\n",
    "    }\n",
    "\n",
    "    Console.Write($\"{time} \");\n",
    "}\n",
    "\n",
    "Console.WriteLine();\n",
    "// -------------------------------------------\n",
    "\n",
    "Console.WriteLine(\"Enter new GMT\");\n",
    "int newGMT = Convert.ToInt32(Console.ReadLine());\n",
    "\n",
    "if (Math.Abs(newGMT) > 12 || Math.Abs(currentGMT) > 12)\n",
    "{\n",
    "    Console.WriteLine(\"Invalid GMT\");\n",
    "}\n",
    "else if (newGMT <= 0 && currentGMT <= 0 || newGMT >= 0 && currentGMT >= 0) \n",
    "{\n",
    "    diff = 100 * (Math.Abs(newGMT) - Math.Abs(currentGMT));\n",
    "\n",
    "    // -------------------------------------------\n",
    "    /* Adjust the times by adding the difference, keeping the value within 24 hours */\n",
    "    for (int i = 0; i < times.Length; i++) \n",
    "    {\n",
    "        times[i] = ((times[i] + diff)) % 2400;\n",
    "    }\n",
    "    // -------------------------------------------\n",
    "} \n",
    "else \n",
    "{\n",
    "    diff = 100 * (Math.Abs(newGMT) + Math.Abs(currentGMT));\n",
    "\n",
    "    // -------------------------------------------\n",
    "    /* Adjust the times by adding the difference, keeping the value within 24 hours */\n",
    "    for (int i = 0; i < times.Length; i++) \n",
    "    {\n",
    "        times[i] = ((times[i] + diff)) % 2400;\n",
    "    }\n",
    "    // -------------------------------------------\n",
    "}\n",
    "\n",
    "Console.WriteLine(\"New Medicine Schedule:\");\n",
    "\n",
    "// -------------------------------------------\n",
    "/* Format and display medicine times */\n",
    "foreach (int val in times)\n",
    "{\n",
    "    string time = val.ToString();\n",
    "    int len = time.Length;\n",
    "\n",
    "    if (len >= 3)\n",
    "    {\n",
    "        time = time.Insert(len - 2, \":\");\n",
    "    }\n",
    "    else if (len == 2)\n",
    "    {\n",
    "        time = time.Insert(0, \"0:\");\n",
    "    }\n",
    "    else\n",
    "    {\n",
    "        time = time.Insert(0, \"0:0\");\n",
    "    }\n",
    "\n",
    "    Console.Write($\"{time} \");\n",
    "}\n",
    "\n",
    "Console.WriteLine();\n",
    "\n",
    "// -------------------------------------------"
   ]
  },
  {
   "cell_type": "markdown",
   "metadata": {},
   "source": [
    "##### ***Create methods to perform the repeated tasks***"
   ]
  },
  {
   "cell_type": "markdown",
   "metadata": {},
   "source": [
    "* create a method to contain the repeated code and remove the duplicates. \n",
    "    * shortens code and improves readability\n",
    "\n",
    "    <br>\n",
    "\n",
    "* The `foreach` loops format and display the time values\n",
    "    * give the method a name that clearly reflects that task. \n",
    "    \n",
    "    <br>\n",
    "\n",
    "* do the same with the `for` loop that adjusts the times. "
   ]
  },
  {
   "cell_type": "markdown",
   "metadata": {},
   "source": [
    "**1-2. Create method signature for `DisplayTimes`**"
   ]
  },
  {
   "cell_type": "code",
   "execution_count": null,
   "metadata": {
    "dotnet_interactive": {
     "language": "csharp"
    },
    "polyglot_notebook": {
     "kernelName": "csharp"
    },
    "vscode": {
     "languageId": "polyglot-notebook"
    }
   },
   "outputs": [],
   "source": [
    "void DisplayTimes() \n",
    "{\n",
    "\n",
    "}"
   ]
  },
  {
   "cell_type": "markdown",
   "metadata": {},
   "source": [
    "**3. Define `DisplayTimes` method body**\n",
    "\n",
    "* update `DisplayTimes` method --> copy/paste the `foreach` block"
   ]
  },
  {
   "cell_type": "code",
   "execution_count": null,
   "metadata": {
    "dotnet_interactive": {
     "language": "csharp"
    },
    "polyglot_notebook": {
     "kernelName": "csharp"
    },
    "vscode": {
     "languageId": "polyglot-notebook"
    }
   },
   "outputs": [],
   "source": [
    "void DisplayTimes() \n",
    "{\n",
    "    /* Format and display medicine times */\n",
    "    foreach (int val in times) \n",
    "    {\n",
    "        string time = val.ToString();\n",
    "        int len = time.Length;\n",
    "\n",
    "        if (len >= 3)\n",
    "        {\n",
    "            time = time.Insert(len - 2, \":\");\n",
    "        }\n",
    "        else if (len == 2)\n",
    "        {\n",
    "            time = time.Insert(0, \"0:\");\n",
    "        }\n",
    "        else\n",
    "        {\n",
    "            time = time.Insert(0, \"0:0\");\n",
    "        }\n",
    "\n",
    "        Console.Write($\"{time} \");\n",
    "    }\n",
    "    \n",
    "    Console.WriteLine();\n",
    "\n",
    "}"
   ]
  },
  {
   "cell_type": "markdown",
   "metadata": {},
   "source": [
    "**4-5. Create Method Signature for `AdjustTimes`**"
   ]
  },
  {
   "cell_type": "code",
   "execution_count": null,
   "metadata": {
    "dotnet_interactive": {
     "language": "csharp"
    },
    "polyglot_notebook": {
     "kernelName": "csharp"
    },
    "vscode": {
     "languageId": "polyglot-notebook"
    }
   },
   "outputs": [],
   "source": [
    "void AdjustTimes();\n",
    "{\n",
    "    \n",
    "}"
   ]
  },
  {
   "cell_type": "markdown",
   "metadata": {},
   "source": [
    "**6. Define `AdjustTimes` method body**\n",
    "\n",
    "* update `AdjustTimes` method --> copy/paste the `for` loop block"
   ]
  },
  {
   "cell_type": "code",
   "execution_count": null,
   "metadata": {
    "dotnet_interactive": {
     "language": "csharp"
    },
    "polyglot_notebook": {
     "kernelName": "csharp"
    },
    "vscode": {
     "languageId": "polyglot-notebook"
    }
   },
   "outputs": [],
   "source": [
    "void AdjustTimes() \n",
    "{\n",
    "    /* Adjust the times by adding the difference, keeping the value within 24 hours */\n",
    "    for (int i = 0; i < times.Length; i++) \n",
    "    {\n",
    "        times[i] = ((times[i] + diff)) % 2400;\n",
    "    }\n",
    "}"
   ]
  },
  {
   "cell_type": "markdown",
   "metadata": {},
   "source": [
    "##### ***Call the methods***"
   ]
  },
  {
   "cell_type": "markdown",
   "metadata": {},
   "source": [
    "**1. Locate the first instance of the repeated `foreach` loop under the comment `\"Format and display medicine times\"`**"
   ]
  },
  {
   "cell_type": "code",
   "execution_count": null,
   "metadata": {
    "dotnet_interactive": {
     "language": "csharp"
    },
    "polyglot_notebook": {
     "kernelName": "csharp"
    },
    "vscode": {
     "languageId": "polyglot-notebook"
    }
   },
   "outputs": [],
   "source": [
    "Console.WriteLine(\"Current Medicine Schedule:\");\n",
    "\n",
    "// -------------------------------------------\n",
    "/* Format and display medicine times */\n",
    "foreach (int val in times) \n",
    "{\n",
    "    string time = val.ToString();\n",
    "    int len = time.Length;\n",
    "\n",
    "    if (len >= 3)\n",
    "    {\n",
    "        time = time.Insert(len - 2, \":\");\n",
    "    }\n",
    "    else if (len == 2)\n",
    "    {\n",
    "        time = time.Insert(0, \"0:\");\n",
    "    }\n",
    "    else\n",
    "    {\n",
    "        time = time.Insert(0, \"0:0\");\n",
    "    }\n",
    "\n",
    "    Console.Write($\"{time} \");\n",
    "}\n",
    "\n",
    "Console.WriteLine();\n",
    "// -------------------------------------------\n",
    "\n",
    "Console.WriteLine(\"Enter new GMT\");"
   ]
  },
  {
   "cell_type": "markdown",
   "metadata": {},
   "source": [
    "**2. Replace the code you identified with a call to the `DisplayTimes` method.**"
   ]
  },
  {
   "cell_type": "code",
   "execution_count": null,
   "metadata": {
    "dotnet_interactive": {
     "language": "csharp"
    },
    "polyglot_notebook": {
     "kernelName": "csharp"
    },
    "vscode": {
     "languageId": "polyglot-notebook"
    }
   },
   "outputs": [],
   "source": [
    "Console.WriteLine(\"Current Medicine Schedule:\");\n",
    "DisplayTimes();\n",
    "\n",
    "Console.WriteLine(\"Enter new GMT\");"
   ]
  },
  {
   "cell_type": "markdown",
   "metadata": {},
   "source": [
    "**3. Locate the second instance of the `foreach` loop under the comment `\"Format and display medicine times\"`:**"
   ]
  },
  {
   "cell_type": "code",
   "execution_count": null,
   "metadata": {
    "dotnet_interactive": {
     "language": "csharp"
    },
    "polyglot_notebook": {
     "kernelName": "csharp"
    },
    "vscode": {
     "languageId": "polyglot-notebook"
    }
   },
   "outputs": [],
   "source": [
    "Console.WriteLine(\"New Medicine Schedule:\");\n",
    "\n",
    "// -------------------------------------------\n",
    "/* Format and display medicine times */\n",
    "foreach (int val in times)\n",
    "{\n",
    "    string time = val.ToString();\n",
    "    int len = time.Length;\n",
    "\n",
    "    if (len >= 3)\n",
    "    {\n",
    "        time = time.Insert(len - 2, \":\");\n",
    "    }\n",
    "    else if (len == 2)\n",
    "    {\n",
    "        time = time.Insert(0, \"0:\");\n",
    "    }\n",
    "    else\n",
    "    {\n",
    "        time = time.Insert(0, \"0:0\");\n",
    "    }\n",
    "\n",
    "    Console.Write($\"{time} \");\n",
    "}\n",
    "\n",
    "Console.WriteLine();\n",
    "\n",
    "// -------------------------------------------"
   ]
  },
  {
   "cell_type": "markdown",
   "metadata": {},
   "source": [
    "**4. Replace the code you identified with a call to the `DisplayTimes` method**"
   ]
  },
  {
   "cell_type": "code",
   "execution_count": null,
   "metadata": {
    "dotnet_interactive": {
     "language": "csharp"
    },
    "polyglot_notebook": {
     "kernelName": "csharp"
    },
    "vscode": {
     "languageId": "polyglot-notebook"
    }
   },
   "outputs": [],
   "source": [
    "Console.WriteLine(\"New Medicine Schedule:\");\n",
    "DisplayTimes();"
   ]
  },
  {
   "cell_type": "markdown",
   "metadata": {},
   "source": [
    "**5. Locate the following code with the duplicated `for`-loops**"
   ]
  },
  {
   "cell_type": "code",
   "execution_count": null,
   "metadata": {
    "dotnet_interactive": {
     "language": "csharp"
    },
    "polyglot_notebook": {
     "kernelName": "csharp"
    },
    "vscode": {
     "languageId": "polyglot-notebook"
    }
   },
   "outputs": [],
   "source": [
    "else if (newGMT <= 0 && currentGMT <= 0 || newGMT >= 0 && currentGMT >= 0) \n",
    "{\n",
    "    diff = 100 * (Math.Abs(newGMT) - Math.Abs(currentGMT));\n",
    "\n",
    "    /* Adjust the times by adding the difference, keeping the value within 24 hours */\n",
    "    for (int i = 0; i < times.Length; i++) \n",
    "    {\n",
    "        times[i] = ((times[i] + diff)) % 2400;\n",
    "    }\n",
    "} \n",
    "else \n",
    "{\n",
    "    diff = 100 * (Math.Abs(newGMT) + Math.Abs(currentGMT));\n",
    "\n",
    "    /* Adjust the times by adding the difference, keeping the value within 24 hours */\n",
    "    for (int i = 0; i < times.Length; i++) \n",
    "    {\n",
    "        times[i] = ((times[i] + diff)) % 2400;\n",
    "    }\n",
    "}"
   ]
  },
  {
   "cell_type": "markdown",
   "metadata": {},
   "source": [
    "**7. Replace the instances of repeated code under the comment `\"Adjust the times by adding the difference\"` with calls to your `AdjustTimes` method.**"
   ]
  },
  {
   "cell_type": "code",
   "execution_count": null,
   "metadata": {
    "dotnet_interactive": {
     "language": "csharp"
    },
    "polyglot_notebook": {
     "kernelName": "csharp"
    },
    "vscode": {
     "languageId": "polyglot-notebook"
    }
   },
   "outputs": [],
   "source": [
    "else if (newGMT <= 0 && currentGMT <= 0 || newGMT >= 0 && currentGMT >= 0) \n",
    "{\n",
    "    diff = 100 * (Math.Abs(newGMT) - Math.Abs(currentGMT));\n",
    "    AdjustTimes();\n",
    "} \n",
    "else \n",
    "{\n",
    "    diff = 100 * (Math.Abs(newGMT) + Math.Abs(currentGMT));\n",
    "    AdjustTimes();\n",
    "}"
   ]
  },
  {
   "cell_type": "markdown",
   "metadata": {},
   "source": [
    "##### **Solution**"
   ]
  },
  {
   "cell_type": "markdown",
   "metadata": {},
   "source": [
    "`\\csharp-playground\\MSLearn_CSharp_Collection_Projects\\create-resuable-methods-exercise`"
   ]
  },
  {
   "cell_type": "code",
   "execution_count": null,
   "metadata": {
    "dotnet_interactive": {
     "language": "csharp"
    },
    "polyglot_notebook": {
     "kernelName": "csharp"
    },
    "vscode": {
     "languageId": "polyglot-notebook"
    }
   },
   "outputs": [],
   "source": [
    "using System;\n",
    "\n",
    "int[] times = {800, 1200, 1600, 2000};\n",
    "int diff = 0;\n",
    "\n",
    "Console.WriteLine(\"Enter current GMT\");\n",
    "int currentGMT = Convert.ToInt32(Console.ReadLine());\n",
    "\n",
    "Console.WriteLine(\"Current Medicine Schedule:\");\n",
    "DisplayTimes();\n",
    "\n",
    "Console.WriteLine(\"Enter new GMT\");\n",
    "int newGMT = Convert.ToInt32(Console.ReadLine());\n",
    "\n",
    "if (Math.Abs(newGMT) > 12 || Math.Abs(currentGMT) > 12)\n",
    "{\n",
    "    Console.WriteLine(\"Invalid GMT\");\n",
    "}\n",
    "else if (newGMT <= 0 && currentGMT <= 0 || newGMT >= 0 && currentGMT >= 0) \n",
    "{\n",
    "    diff = 100 * (Math.Abs(newGMT) - Math.Abs(currentGMT));\n",
    "    AdjustTimes();\n",
    "} \n",
    "else \n",
    "{\n",
    "    diff = 100 * (Math.Abs(newGMT) + Math.Abs(currentGMT));\n",
    "    AdjustTimes();\n",
    "}\n",
    "\n",
    "Console.WriteLine(\"New Medicine Schedule:\");\n",
    "DisplayTimes();\n",
    "\n",
    "\n",
    "// -------------------------------------------\n",
    "// DEFINE METHODS:\n",
    "// -------------------------------------------\n",
    "\n",
    "void DisplayTimes() \n",
    "{\n",
    "    /* Format and display medicine times */\n",
    "    foreach (int val in times) \n",
    "    {\n",
    "        string time = val.ToString();\n",
    "        int len = time.Length;\n",
    "\n",
    "        if (len >= 3)\n",
    "        {\n",
    "            time = time.Insert(len - 2, \":\");\n",
    "        }\n",
    "        else if (len == 2)\n",
    "        {\n",
    "            time = time.Insert(0, \"0:\");\n",
    "        }\n",
    "        else\n",
    "        {\n",
    "            time = time.Insert(0, \"0:0\");\n",
    "        }\n",
    "        Console.Write($\"{time} \");\n",
    "    }\n",
    "    Console.WriteLine();\n",
    "}\n",
    "\n",
    "void AdjustTimes() \n",
    "{\n",
    "    /* Adjust the times by adding the difference, keeping the value within 24 hours */\n",
    "    for (int i = 0; i < times.Length; i++) \n",
    "    {\n",
    "        times[i] = ((times[i] + diff)) % 2400;\n",
    "    }\n",
    "}\n"
   ]
  },
  {
   "cell_type": "markdown",
   "metadata": {},
   "source": [
    "#### ❓ **Check Knowledge: Method Signature**"
   ]
  },
  {
   "cell_type": "markdown",
   "metadata": {},
   "source": [
    "1. Suppose there's a method named `ConvertCurrency`. Which of the following lines of code is a valid method signature?\n",
    "    * ❌ `ConvertCurrency();`\n",
    "    * ❌ `ConvertCurrency() { }`\n",
    "    * ✔️ `void ConvertCurrency();`\n",
    "\n",
    "    <br>\n",
    "\n",
    "2. Suppose there's a method named `Update`. Which of the following correctly calls the method? \n",
    "    * ❌ var update;\n",
    "    * ✔️ Update();\n",
    "    * ❌ void Update();"
   ]
  },
  {
   "cell_type": "markdown",
   "metadata": {},
   "source": [
    "#### 🚀 **[Exercise - Build code with methods - pseudo-code](https://learn.microsoft.com/en-us/training/modules/write-first-c-sharp-method/5-exercise-build-code-with-methods)**"
   ]
  },
  {
   "cell_type": "markdown",
   "metadata": {},
   "source": [
    "##### ***Intro***"
   ]
  },
  {
   "cell_type": "markdown",
   "metadata": {},
   "source": [
    "* Methods are useful for organizing code, reusing code, and for tackling problems efficiently. \n",
    "* You can think of a method like a black box that takes input, performs the named task, and returns output. With this assumption, you can quickly structure programs just by naming your tasks as methods, and then filling in the logic after you've identified all of the necessary tasks.\n",
    "* When you use plain language to describe steps in code, without strictly adhering to syntax rules, you're using \"pseudo-code\".\n",
    "* Combining methods and pseudo-code is a great way to quickly power through any challenging programming task.\n",
    "* Methods can be used to quickly structure applications\n",
    "* The return keyword can be used to terminate method execution\n",
    "* Each step of a problem can often be translated into its own method\n",
    "* Use methods to solve small problems to build up your solution"
   ]
  },
  {
   "cell_type": "markdown",
   "metadata": {},
   "source": [
    "##### ***Use methods to structure code***"
   ]
  },
  {
   "cell_type": "markdown",
   "metadata": {},
   "source": [
    "* Suppose you're a candidate in a coding interview. \n",
    "* The interviewer wants you to write a program that checks whether an IPv4 address is valid or invalid. \n",
    "\n",
    "You're given the following rules:\n",
    "\n",
    "* A valid IPv4 address consists of four numbers separated by dots\n",
    "* Each number must not contain leading zeroes\n",
    "* Each number must range from 0 to 255\n",
    "* 1.1.1.1 and 255.255.255.255 are examples of valid IP addresses.\n",
    "* The IPv4 address is provided as a string. \n",
    "* You can assume that it only consists of digits and dots (there are no letters in the string provided).\n",
    "\n",
    "How would you approach this task?"
   ]
  },
  {
   "cell_type": "markdown",
   "metadata": {},
   "source": [
    "##### ***Break down the problem***"
   ]
  },
  {
   "cell_type": "markdown",
   "metadata": {},
   "source": [
    "**1. Write pseudo-code:**\n",
    "\n",
    "* Pseudo-code is a great way to begin tackling any problem. \n",
    "* Using this comment block, you bridge the gap between the prompt rules and the program code, clarifying the major tasks your code will perform. \n",
    "* Pseudo-code doesn't need to be functional or adhere to syntax rules, however, it should be a clear explanation of what the code will do. Now let's turn this into real code!"
   ]
  },
  {
   "cell_type": "code",
   "execution_count": 32,
   "metadata": {
    "dotnet_interactive": {
     "language": "csharp"
    },
    "polyglot_notebook": {
     "kernelName": "csharp"
    },
    "vscode": {
     "languageId": "polyglot-notebook"
    }
   },
   "outputs": [],
   "source": [
    "/*\n",
    "    if ipAddress consists of 4 numbers\n",
    "    and\n",
    "    if each ipAddress number has no leading zeroes\n",
    "    and\n",
    "    if each ipAddress number is in range 0 - 255\n",
    "\n",
    "    then ipAddress is valid\n",
    "\n",
    "    else ipAddress is invalid\n",
    "*/"
   ]
  },
  {
   "cell_type": "markdown",
   "metadata": {},
   "source": [
    "**2. Translate pseudo-code to code:**"
   ]
  },
  {
   "cell_type": "code",
   "execution_count": 3,
   "metadata": {
    "dotnet_interactive": {
     "language": "csharp"
    },
    "polyglot_notebook": {
     "kernelName": "csharp"
    },
    "vscode": {
     "languageId": "polyglot-notebook"
    }
   },
   "outputs": [
    {
     "ename": "Error",
     "evalue": "(1,5): error CS0103: The name 'ValidateLength' does not exist in the current context\r\n(1,25): error CS0103: The name 'ValidateZeros' does not exist in the current context\r\n(1,44): error CS0103: The name 'ValidateRange' does not exist in the current context",
     "output_type": "error",
     "traceback": [
      "(1,5): error CS0103: The name 'ValidateLength' does not exist in the current context\r\n",
      "(1,25): error CS0103: The name 'ValidateZeros' does not exist in the current context\r\n",
      "(1,44): error CS0103: The name 'ValidateRange' does not exist in the current context"
     ]
    }
   ],
   "source": [
    "//      if ipAddress consists of 4 numbers = ValidateLength()\n",
    "//      if each ipAddress number has no leading zeroes = ValidateZeros()\n",
    "//      if each ipAddress number is in range 0 - 255 = ValidateLength()\n",
    "\n",
    "if (ValidateLength() && ValidateZeros() && ValidateRange())\n",
    "{\n",
    "    Console.WriteLine($\"ip is a valid IPv4 address\");\n",
    "}\n",
    "else\n",
    "{\n",
    "    Console.WriteLine($\"ip is an invalid IPv4 address\");\n",
    "}"
   ]
  },
  {
   "cell_type": "markdown",
   "metadata": {},
   "source": [
    "**3. Create placeholder methods:**"
   ]
  },
  {
   "cell_type": "code",
   "execution_count": 5,
   "metadata": {
    "dotnet_interactive": {
     "language": "csharp"
    },
    "polyglot_notebook": {
     "kernelName": "csharp"
    },
    "vscode": {
     "languageId": "polyglot-notebook"
    }
   },
   "outputs": [],
   "source": [
    "void ValidateLength() {}\n",
    "void ValidateZeros() {}\n",
    "void ValidateRange() {}"
   ]
  },
  {
   "cell_type": "markdown",
   "metadata": {},
   "source": [
    "##### ***Develop the Solution***"
   ]
  },
  {
   "cell_type": "markdown",
   "metadata": {},
   "source": [
    "**1. Create variables to store input and validation**\n"
   ]
  },
  {
   "cell_type": "code",
   "execution_count": 6,
   "metadata": {
    "dotnet_interactive": {
     "language": "csharp"
    },
    "polyglot_notebook": {
     "kernelName": "csharp"
    },
    "vscode": {
     "languageId": "polyglot-notebook"
    }
   },
   "outputs": [],
   "source": [
    "string ipv4Input = \"107.31.1.5\";\n",
    "bool validLength = false;\n",
    "bool validZeros = false;\n",
    "bool validRange = false;"
   ]
  },
  {
   "cell_type": "markdown",
   "metadata": {},
   "source": [
    "**2. Update solution to use validation variables**\n"
   ]
  },
  {
   "cell_type": "code",
   "execution_count": 8,
   "metadata": {
    "dotnet_interactive": {
     "language": "csharp"
    },
    "polyglot_notebook": {
     "kernelName": "csharp"
    },
    "vscode": {
     "languageId": "polyglot-notebook"
    }
   },
   "outputs": [
    {
     "name": "stdout",
     "output_type": "stream",
     "text": [
      "ip is an invalid IPv4 address\r\n"
     ]
    }
   ],
   "source": [
    "// call methods\n",
    "ValidateLength();\n",
    "ValidateZeros();\n",
    "ValidateRange();\n",
    "\n",
    "// if (ValidateLength() && ValidateZeros() && ValidateRange())\n",
    "if (validLength && validZeros && validRange)\n",
    "{\n",
    "    Console.WriteLine($\"ip is a valid IPv4 address\");\n",
    "}\n",
    "else\n",
    "{\n",
    "    Console.WriteLine($\"ip is an invalid IPv4 address\");\n",
    "}"
   ]
  },
  {
   "cell_type": "markdown",
   "metadata": {},
   "source": [
    "**3. Update the Placeholder Methods**\n"
   ]
  },
  {
   "cell_type": "markdown",
   "metadata": {},
   "source": [
    "ValidateLength()"
   ]
  },
  {
   "cell_type": "code",
   "execution_count": 14,
   "metadata": {
    "dotnet_interactive": {
     "language": "csharp"
    },
    "polyglot_notebook": {
     "kernelName": "csharp"
    },
    "vscode": {
     "languageId": "polyglot-notebook"
    }
   },
   "outputs": [
    {
     "ename": "Error",
     "evalue": "(5,34): error CS1061: 'string[]' does not contain a definition for 'Split' and no accessible extension method 'Split' accepting a first argument of type 'string[]' could be found (are you missing a using directive or an assembly reference?)",
     "output_type": "error",
     "traceback": [
      "(5,34): error CS1061: 'string[]' does not contain a definition for 'Split' and no accessible extension method 'Split' accepting a first argument of type 'string[]' could be found (are you missing a using directive or an assembly reference?)"
     ]
    }
   ],
   "source": [
    "//      if ipAddress consists of 4 numbers = ValidateLength()\n",
    "\n",
    "void ValidateLength()\n",
    "{\n",
    "    string[] address = ipv4Input.Split(\".\");\n",
    "    // explode out the string using . as the separator\n",
    "    // each letter = elm in array\n",
    "    \n",
    "    validLength = address.Length == 4;\n",
    "    // if address array length = 4, then truee\n",
    "}"
   ]
  },
  {
   "cell_type": "markdown",
   "metadata": {},
   "source": [
    "ValidateZeros()"
   ]
  },
  {
   "cell_type": "code",
   "execution_count": null,
   "metadata": {
    "dotnet_interactive": {
     "language": "csharp"
    },
    "polyglot_notebook": {
     "kernelName": "csharp"
    },
    "vscode": {
     "languageId": "polyglot-notebook"
    }
   },
   "outputs": [],
   "source": [
    "//      if each ipAddress number has no leading zeroes = ValidateZeros()\n",
    "\n",
    "void ValidateZeros()\n",
    "{\n",
    "    string[] address = ipv4Input.Split(\".\");\n",
    "    // split elms from string into array using . as separator\n",
    "\n",
    "    foreach (string number in address)\n",
    "    // for each elm in array\n",
    "    {\n",
    "        if (number.Length > 1 && number.StartsWith(\"0\"))\n",
    "        // if current number length is more than one AND starts with 0\n",
    "        {\n",
    "            validZeros = false;\n",
    "            // 0s are not valid - need to be removed\n",
    "        }\n",
    "    }\n",
    "\n",
    "    validZeros = true;\n",
    "    // this shouldn't set as true after the loop completes.\n",
    "    // should be true only if no leading 0 are found\n",
    "}"
   ]
  },
  {
   "cell_type": "code",
   "execution_count": null,
   "metadata": {
    "dotnet_interactive": {
     "language": "csharp"
    },
    "polyglot_notebook": {
     "kernelName": "csharp"
    },
    "vscode": {
     "languageId": "polyglot-notebook"
    }
   },
   "outputs": [],
   "source": [
    "//      if each ipAddress number has no leading zeroes = ValidateZeros()\n",
    "// CORRECTION\n",
    "\n",
    "void ValidateZeros()\n",
    "{\n",
    "    string[] address = ipv4Input.Split(\".\");\n",
    "    // split elms from string into array using . as separator\n",
    "\n",
    "    foreach (string number in address)\n",
    "    // for each elm in array\n",
    "    {\n",
    "        if (number.Length > 1 && number.StartsWith(\"0\"))\n",
    "        // if current number length is more than one AND starts with 0\n",
    "        {\n",
    "            validZeros = false;\n",
    "            // 0s are not valid - need to be removed\n",
    "            return; // terminates method when invalid 0 are found\n",
    "        }\n",
    "    }\n",
    "\n",
    "    // validZeros = true;\n",
    "    // this shouldn't set as true after the loop completes.\n",
    "    // should be true only if no leading 0 are found\n",
    "}"
   ]
  },
  {
   "cell_type": "markdown",
   "metadata": {},
   "source": [
    "ValidateRange()"
   ]
  },
  {
   "cell_type": "code",
   "execution_count": 10,
   "metadata": {
    "dotnet_interactive": {
     "language": "csharp"
    },
    "polyglot_notebook": {
     "kernelName": "csharp"
    },
    "vscode": {
     "languageId": "polyglot-notebook"
    }
   },
   "outputs": [],
   "source": [
    "//      if each ipAddress number is in range 0 - 255 = ValidateLength()\n",
    "\n",
    "void ValidateRange()\n",
    "{\n",
    "    string[] address = ipv4Input.Split(\".\");\n",
    "\n",
    "    foreach (string number in address)\n",
    "    {\n",
    "        if (int.Parse(number) > 255)\n",
    "        // if string to int > 255\n",
    "        {\n",
    "            validRange = false;\n",
    "            return;\n",
    "            // out of range - terminate loop\n",
    "        }\n",
    "    }\n",
    "    validRange = true;\n",
    "}"
   ]
  },
  {
   "cell_type": "code",
   "execution_count": 11,
   "metadata": {
    "dotnet_interactive": {
     "language": "csharp"
    },
    "polyglot_notebook": {
     "kernelName": "csharp"
    },
    "vscode": {
     "languageId": "polyglot-notebook"
    }
   },
   "outputs": [],
   "source": [
    "//      if each ipAddress number is in range 0 - 255 = ValidateLength()\n",
    "// account for no values between 2 dots --> causes parse fail\n",
    "\n",
    "void ValidateRange()\n",
    "{\n",
    "    // string[] address = ipv4Input.Split(\".\");\n",
    "    string[] address = ipv4Input.Split(\".\", StringSplitOptions.RemoveEmptyEntries);\n",
    "\n",
    "    foreach (string number in address)\n",
    "    {\n",
    "        if (int.Parse(number) > 255)\n",
    "        // if string to int > 255\n",
    "        {\n",
    "            validRange = false;\n",
    "            return;\n",
    "            // out of range - terminate loop\n",
    "        }\n",
    "    }\n",
    "    validRange = true;\n",
    "}"
   ]
  },
  {
   "cell_type": "markdown",
   "metadata": {},
   "source": [
    "**4. Testing**"
   ]
  },
  {
   "cell_type": "markdown",
   "metadata": {},
   "source": [
    "* create test variable with a variety of user input\n",
    "* globalise address string and remove local references"
   ]
  },
  {
   "cell_type": "code",
   "execution_count": 19,
   "metadata": {
    "dotnet_interactive": {
     "language": "csharp"
    },
    "polyglot_notebook": {
     "kernelName": "csharp"
    },
    "vscode": {
     "languageId": "polyglot-notebook"
    }
   },
   "outputs": [
    {
     "name": "stdout",
     "output_type": "stream",
     "text": [
      "107.31.1.5 is a valid IPv4 address\n",
      "255.0.0.255 is a valid IPv4 address\n",
      "555..0.555 is an invalid IPv4 address\n",
      "255...255 is an invalid IPv4 address\n"
     ]
    }
   ],
   "source": [
    "// Initialise array\n",
    "string[] ipv4Input = {\"107.31.1.5\", \"255.0.0.255\", \"555..0.555\", \"255...255\"};\n",
    "string[] address;\n",
    "\n",
    "// initialise variables\n",
    "bool validLength = false;\n",
    "bool validZeros = false;\n",
    "bool validRange = false;\n",
    "\n",
    "// code\n",
    "foreach (string ip in ipv4Input) \n",
    "{\n",
    "    // initialise address\n",
    "    address = ip.Split(\".\", StringSplitOptions.RemoveEmptyEntries);\n",
    "\n",
    "    ValidateLength(); \n",
    "    ValidateZeros(); \n",
    "    ValidateRange();\n",
    "\n",
    "    if (validLength && validZeros && validRange) \n",
    "    {\n",
    "        Console.WriteLine($\"{ip} is a valid IPv4 address\");\n",
    "    } \n",
    "    else \n",
    "    {\n",
    "        Console.WriteLine($\"{ip} is an invalid IPv4 address\");\n",
    "    }\n",
    "}\n",
    "\n",
    "// ---------------------- create methods\n",
    "\n",
    "// if ipAddress consists of 4 numbers = ValidateLength()\n",
    "void ValidateLength()\n",
    "{\n",
    "    // string[] address = ipv4Input.Split(\".\");\n",
    "    validLength = address.Length == 4;\n",
    "}\n",
    "\n",
    "// if each ipAddress number has no leading zeroes = ValidateZeros()\n",
    "void ValidateZeros()\n",
    "{\n",
    "    // string[] address = ipv4Input.Split(\".\");\n",
    "    foreach (string number in address)\n",
    "    {\n",
    "        if (number.Length > 1 && number.StartsWith(\"0\"))\n",
    "        {\n",
    "            validZeros = false;\n",
    "            return;\n",
    "        }\n",
    "    }\n",
    "\n",
    "    validZeros = true;\n",
    "}\n",
    "\n",
    "// if each ipAddress number is in range 0 - 255 = ValidateLength()\n",
    "void ValidateRange()\n",
    "{\n",
    "    // string[] address = ipv4Input.Split(\".\", StringSplitOptions.RemoveEmptyEntries);\n",
    "    foreach (string number in address)\n",
    "    {\n",
    "        if (int.Parse(number) > 255)\n",
    "        {\n",
    "            validRange = false;\n",
    "            return;\n",
    "        }\n",
    "    }\n",
    "    validRange = true;\n",
    "}"
   ]
  },
  {
   "cell_type": "markdown",
   "metadata": {},
   "source": [
    "#### ⭐ **[Exercise - Complete the challenge to create a reusable method](https://learn.microsoft.com/en-us/training/modules/write-first-c-sharp-method/6-exercise-challenge-restructure-code-to-use-methods)**"
   ]
  },
  {
   "cell_type": "markdown",
   "metadata": {},
   "source": [
    "##### ***Intro***"
   ]
  },
  {
   "cell_type": "markdown",
   "metadata": {},
   "source": [
    "The focus of this challenge is to modify code so that it is reusable and can be executed at any time."
   ]
  },
  {
   "cell_type": "markdown",
   "metadata": {},
   "source": [
    "##### ***Project Specifications - \"Tell a fortune\"***"
   ]
  },
  {
   "cell_type": "markdown",
   "metadata": {},
   "source": [
    "You're helping to develop a massive multiplayer role-playing game. \n",
    "* Each **player** has a **luck** stat that can affect their **odds** of finding rare treasure. \n",
    "* Each day, a player can speak to an in-game **fortune teller** that reveals whether their luck stat is **high, low, or neutral.**\n",
    "\n",
    "The game currently has code to generate a player's fortune, but it isn't reusable. \n",
    "* Your task is to create a `tellFortune` method that can be called at any time, and replace the existing logic with a call to your method.\n",
    "In this challenge, you're given some starting code. You must decide how to create and call the `tellFortune` method."
   ]
  },
  {
   "cell_type": "markdown",
   "metadata": {},
   "source": [
    "##### ***Code challenge: create a reusable method***"
   ]
  },
  {
   "cell_type": "markdown",
   "metadata": {},
   "source": [
    "* In the code that you start with, there's a generic text array, followed by good, bad, and neutral text arrays. \n",
    "    * Depending on the value of luck, one of the arrays is selected and displayed alongside the generic text.\n",
    "\n",
    "**Your challenge is to:**\n",
    "* create a reusable method that prints a player's fortune at any time. \n",
    "* The method should contain the logic that is already present in the code provided."
   ]
  },
  {
   "cell_type": "markdown",
   "metadata": {},
   "source": [
    "##### ***Starter Code***"
   ]
  },
  {
   "cell_type": "code",
   "execution_count": null,
   "metadata": {
    "dotnet_interactive": {
     "language": "csharp"
    },
    "polyglot_notebook": {
     "kernelName": "csharp"
    },
    "vscode": {
     "languageId": "polyglot-notebook"
    }
   },
   "outputs": [],
   "source": [
    "Random random = new Random();\n",
    "int luck = random.Next(100);\n",
    "\n",
    "string[] text = {\"You have much to\", \"Today is a day to\", \"Whatever work you do\", \"This is an ideal time to\"};\n",
    "string[] good = {\"look forward to.\", \"try new things!\", \"is likely to succeed.\", \"accomplish your dreams!\"};\n",
    "string[] bad = {\"fear.\", \"avoid major decisions.\", \"may have unexpected outcomes.\", \"re-evaluate your life.\"};\n",
    "string[] neutral = {\"appreciate.\", \"enjoy time with friends.\", \"should align with your values.\", \"get in tune with nature.\"};\n",
    "\n",
    "Console.WriteLine(\"A fortune teller whispers the following words:\");\n",
    "string[] fortune = (luck > 75 ? good : (luck < 25 ? bad : neutral));\n",
    "for (int i = 0; i < 4; i++) \n",
    "{\n",
    "    Console.Write($\"{text[i]} {fortune[i]} \");\n",
    "}"
   ]
  },
  {
   "cell_type": "markdown",
   "metadata": {},
   "source": [
    "##### ***Playground***"
   ]
  },
  {
   "cell_type": "code",
   "execution_count": 73,
   "metadata": {
    "dotnet_interactive": {
     "language": "csharp"
    },
    "polyglot_notebook": {
     "kernelName": "csharp"
    },
    "vscode": {
     "languageId": "polyglot-notebook"
    }
   },
   "outputs": [
    {
     "name": "stdout",
     "output_type": "stream",
     "text": [
      "A fortune teller whispers the following words:\n",
      "You have much to appreciate. Today is a day to enjoy time with friends. Whatever work you do should align with your values. This is an ideal time to get in tune with nature. "
     ]
    }
   ],
   "source": [
    "tellFortune();\n",
    "\n",
    "void tellFortune() \n",
    "{\n",
    "    // intialise variables\n",
    "    string[] text = {\"You have much to\", \"Today is a day to\", \"Whatever work you do\", \"This is an ideal time to\"};\n",
    "    string[] good = {\"look forward to.\", \"try new things!\", \"is likely to succeed.\", \"accomplish your dreams!\"};\n",
    "    string[] bad = {\"fear.\", \"avoid major decisions.\", \"may have unexpected outcomes.\", \"re-evaluate your life.\"};\n",
    "    string[] neutral = {\"appreciate.\", \"enjoy time with friends.\", \"should align with your values.\", \"get in tune with nature.\"};\n",
    "\n",
    "\n",
    "    // randomise luck\n",
    "    Random random = new Random();\n",
    "    int luck = random.Next(100);\n",
    "    string[] fortune = (luck > 75 ? good : (luck < 25 ? bad : neutral));\n",
    "    Console.WriteLine(\"A fortune teller whispers the following words:\");\n",
    "    // output fortune\n",
    "    for (int i = 0; i < 4; i++) \n",
    "    {\n",
    "        Console.Write($\"{text[i]} {fortune[i]} \");\n",
    "    }\n",
    "}"
   ]
  },
  {
   "cell_type": "markdown",
   "metadata": {},
   "source": [
    "##### ***Solution***"
   ]
  },
  {
   "cell_type": "code",
   "execution_count": 93,
   "metadata": {
    "dotnet_interactive": {
     "language": "csharp"
    },
    "polyglot_notebook": {
     "kernelName": "csharp"
    },
    "vscode": {
     "languageId": "polyglot-notebook"
    }
   },
   "outputs": [
    {
     "name": "stdout",
     "output_type": "stream",
     "text": [
      "Your lucky number: 6\n",
      "A fortune teller whispers the following words:\n",
      "You have much to fear. Today is a day to avoid major decisions. Whatever work you do may have unexpected outcomes. This is an ideal time to re-evaluate your life. \n",
      "\n",
      "Your lucky number: 74\n",
      "A fortune teller whispers the following words:\n",
      "You have much to appreciate. Today is a day to enjoy time with friends. Whatever work you do should align with your values. This is an ideal time to get in tune with nature. \n",
      "\n"
     ]
    }
   ],
   "source": [
    "tellFortune();\n",
    "tellFortune();\n",
    "\n",
    "void tellFortune() \n",
    "{\n",
    "    // intialise variables\n",
    "    string[] text = {\"You have much to\", \"Today is a day to\", \"Whatever work you do\", \"This is an ideal time to\"};\n",
    "    string[] good = {\"look forward to.\", \"try new things!\", \"is likely to succeed.\", \"accomplish your dreams!\"};\n",
    "    string[] bad = {\"fear.\", \"avoid major decisions.\", \"may have unexpected outcomes.\", \"re-evaluate your life.\"};\n",
    "    string[] neutral = {\"appreciate.\", \"enjoy time with friends.\", \"should align with your values.\", \"get in tune with nature.\"};\n",
    "\n",
    "    // randomise luck\n",
    "    Random random = new Random();\n",
    "    int luck = random.Next(100);\n",
    "    Console.WriteLine($\"Your lucky number: {luck}\");\n",
    "\n",
    "    string[] fortune = (luck > 75 ? good : (luck < 25 ? bad : neutral));\n",
    "    Console.WriteLine(\"A fortune teller whispers the following words:\");\n",
    "    // output fortune\n",
    "    for (int i = 0; i < 4; i++) \n",
    "    {\n",
    "        Console.Write($\"{text[i]} {fortune[i]} \");\n",
    "    }\n",
    "\n",
    "    Console.WriteLine(\"\\n\");\n",
    "}"
   ]
  },
  {
   "cell_type": "markdown",
   "metadata": {},
   "source": [
    "MS Learn Solution"
   ]
  },
  {
   "cell_type": "code",
   "execution_count": 74,
   "metadata": {
    "dotnet_interactive": {
     "language": "csharp"
    },
    "polyglot_notebook": {
     "kernelName": "csharp"
    },
    "vscode": {
     "languageId": "polyglot-notebook"
    }
   },
   "outputs": [
    {
     "name": "stdout",
     "output_type": "stream",
     "text": [
      "A fortune teller whispers the following words:\n",
      "You have much to appreciate. Today is a day to enjoy time with friends. Whatever work you do should align with your values. This is an ideal time to get in tune with nature. A fortune teller whispers the following words:\n",
      "You have much to appreciate. Today is a day to enjoy time with friends. Whatever work you do should align with your values. This is an ideal time to get in tune with nature. "
     ]
    }
   ],
   "source": [
    "Random random = new Random();\n",
    "int luck = random.Next(100);\n",
    "\n",
    "string[] text = {\"You have much to\", \"Today is a day to\", \"Whatever work you do\", \"This is an ideal time to\"};\n",
    "string[] good = {\"look forward to.\", \"try new things!\", \"is likely to succeed.\", \"accomplish your dreams!\"};\n",
    "string[] bad = {\"fear.\", \"avoid major decisions.\", \"may have unexpected outcomes.\", \"re-evaluate your life.\"};\n",
    "string[] neutral = {\"appreciate.\", \"enjoy time with friends.\", \"should align with your values.\", \"get in tune with nature.\"};\n",
    "\n",
    "TellFortune();\n",
    "luck = random.Next(100);\n",
    "TellFortune();\n",
    "\n",
    "void TellFortune() \n",
    "{\n",
    "    Console.WriteLine(\"A fortune teller whispers the following words:\");\n",
    "    string[] fortune = (luck > 75 ? good : (luck < 25 ? bad : neutral));\n",
    "    for (int i = 0; i < 4; i++) \n",
    "    {\n",
    "        Console.Write($\"{text[i]} {fortune[i]} \");\n",
    "    }\n",
    "}"
   ]
  },
  {
   "cell_type": "markdown",
   "metadata": {},
   "source": [
    "#### ❓ **Check Knowledge: Method declaration & `return`**"
   ]
  },
  {
   "cell_type": "markdown",
   "metadata": {},
   "source": [
    "1. Which of the following correctly declares a method?\n",
    "    * ❌ `DisplayNumbers();`\n",
    "    * ❌ `void DisplayNumbers{};`\n",
    "    * ✔️ `void DisplayNumbers() { }`\n",
    "\n",
    "    <br>\n",
    "\n",
    "2. Which of the following correctly calls a method? \n",
    "    * ✔️ `GenerateID();`\n",
    "    * ❌ `void GenerateID() {}`\n",
    "    * ❌ `GenerateID;`\n",
    "\n",
    "    <br>\n",
    "\n",
    "3. Which of the following is true about the return keyword? \n",
    "    * ❌ It is identical to the break keyword.\n",
    "    * ✔️ It terminates the execution of a method.\n",
    "    * ❌ It must always be used with a value or expression. "
   ]
  },
  {
   "cell_type": "markdown",
   "metadata": {},
   "source": [
    "#### **Summary**"
   ]
  },
  {
   "cell_type": "markdown",
   "metadata": {},
   "source": [
    "* Your goal was to learn how to create your own methods to perform specific tasks. \n",
    "* You learned to move reusable code into methods to minimize repeating code. \n",
    "* You also learned to use pseudo-code and placeholder methods to tackle a complex problem. \n",
    "* By creating small methods with specific responsibilities, you learned to quickly build solutions for problems using efficient, readable code."
   ]
  },
  {
   "cell_type": "markdown",
   "metadata": {},
   "source": [
    "_________________________\n",
    "\n",
    "### [Create C# methods with parameters](https://learn.microsoft.com/en-us/training/modules/create-c-sharp-methods-parameters/)\n",
    "\n",
    "_________________________"
   ]
  },
  {
   "cell_type": "markdown",
   "metadata": {},
   "source": [
    "####  ✔️ **Learning Objectives:**"
   ]
  },
  {
   "cell_type": "markdown",
   "metadata": {},
   "source": [
    "* Learn more about using parameters\n",
    "* Understand method scope\n",
    "* Understand pass-by-reference and pass-by-value parameter types\n",
    "* Learn how to use optional and named arguments"
   ]
  },
  {
   "cell_type": "markdown",
   "metadata": {},
   "source": [
    "##### ***Prerequisites***"
   ]
  },
  {
   "cell_type": "markdown",
   "metadata": {},
   "source": [
    "* Experience using C# data types including` int, string, arrays, and 2D arrays`\n",
    "* Experience using switch statements, `if-else` statements, and `for-loops`\n",
    "* Experience using the Random class to generate a `random` number.\n",
    "* Basic understanding of C# methods"
   ]
  },
  {
   "cell_type": "markdown",
   "metadata": {},
   "source": [
    "####  **Introduction:**"
   ]
  },
  {
   "cell_type": "markdown",
   "metadata": {},
   "source": [
    "![](./Assets/intro-parameters-methods.png)"
   ]
  },
  {
   "cell_type": "markdown",
   "metadata": {},
   "source": [
    "#### 🚀 **[Exercise - Use parameters in methods](https://learn.microsoft.com/en-gb/training/modules/create-c-sharp-methods-parameters/2-exercise-add-parameters-to-methods)**"
   ]
  },
  {
   "cell_type": "markdown",
   "metadata": {},
   "source": [
    "##### ***Intro***"
   ]
  },
  {
   "cell_type": "markdown",
   "metadata": {},
   "source": [
    "* When creating methods, you'll often want to provide some information for the method to use. \n",
    "* **Information consumed by a method is called a `parameter`.** \n",
    "* You can supply as many parameters as needed to accomplish its task, or none at all.\n",
    "* The terms `'parameter'` and `'argument'` are often used interchangeably. \n",
    "* However, `'parameter'` refers to the variable in the method signature. \n",
    "* The `'argument'` is the value passed when the method is called.\n",
    "* Information can be passed to methods in the form of parameters.\n",
    "* Parameters are declared in the method signature.\n",
    "* Multiple parameters are separated by commas.\n",
    "* Methods can accept variable or literal arguments."
   ]
  },
  {
   "cell_type": "markdown",
   "metadata": {},
   "source": [
    "##### ****Add parameters to methods****"
   ]
  },
  {
   "cell_type": "markdown",
   "metadata": {},
   "source": [
    "Parameters: \n",
    "* in a method work similar to variables\n",
    "* defined by specifying the data type followed by the name of parameter\n",
    "* declared in the method signature\n",
    "\n",
    "Values for the parameters are:\n",
    "* provided by the method caller\n",
    "* NOT initialised in the method itself\n"
   ]
  },
  {
   "cell_type": "code",
   "execution_count": 101,
   "metadata": {
    "dotnet_interactive": {
     "language": "csharp"
    },
    "polyglot_notebook": {
     "kernelName": "csharp"
    },
    "vscode": {
     "languageId": "polyglot-notebook"
    }
   },
   "outputs": [
    {
     "name": "stdout",
     "output_type": "stream",
     "text": [
      "4 + 1 = 5\r\n"
     ]
    }
   ],
   "source": [
    "void thisIsAMethod(int paramName)\n",
    "// paramName = parameter\n",
    "{\n",
    "    int solution = paramName + 1;\n",
    "    Console.WriteLine($\"{paramName} + 1 = {solution}\");\n",
    "}\n",
    "\n",
    "// 4 = argument\n",
    "thisIsAMethod(4);"
   ]
  },
  {
   "cell_type": "code",
   "execution_count": 100,
   "metadata": {
    "dotnet_interactive": {
     "language": "csharp"
    },
    "polyglot_notebook": {
     "kernelName": "csharp"
    },
    "vscode": {
     "languageId": "polyglot-notebook"
    }
   },
   "outputs": [
    {
     "name": "stdout",
     "output_type": "stream",
     "text": [
      "$0, $1, $2, $3, $4, "
     ]
    }
   ],
   "source": [
    "/*\n",
    "    Method = CountTo()\n",
    "    Parameter = (int max)\n",
    "    Argument = (5)\n",
    "\n",
    "*/\n",
    "\n",
    "CountTo(5);\n",
    "// calls method\n",
    "// supplies argument of 5 to method\n",
    "\n",
    "\tvoid CountTo(int max) \n",
    "    // method accepts integer parameter named max\n",
    "\t{\n",
    "\t\tfor (int i = 0; i < max; i++)\n",
    "\t\t{\n",
    "\t\t\tConsole.Write($\"${i}, \");\n",
    "\t\t}\n",
    "\t}"
   ]
  },
  {
   "cell_type": "markdown",
   "metadata": {},
   "source": [
    "##### ****Create a method with parameters****"
   ]
  },
  {
   "cell_type": "markdown",
   "metadata": {},
   "source": [
    "In this task, you'll: \n",
    "* create a method that adjusts scheduled times to a different GMT time zone. \n",
    "* The method should accept: \n",
    "    * a list of times\n",
    "    * the current time zone\n",
    "    * the new time zone"
   ]
  },
  {
   "cell_type": "markdown",
   "metadata": {},
   "source": [
    "***1. Starting Code***"
   ]
  },
  {
   "cell_type": "code",
   "execution_count": 102,
   "metadata": {
    "dotnet_interactive": {
     "language": "csharp"
    },
    "polyglot_notebook": {
     "kernelName": "csharp"
    },
    "vscode": {
     "languageId": "polyglot-notebook"
    }
   },
   "outputs": [],
   "source": [
    "int[] schedule = {800, 1200, 1600, 2000};\n",
    "// array of integers named schedule"
   ]
  },
  {
   "cell_type": "markdown",
   "metadata": {},
   "source": [
    "***2. Create a method signature with parameters required***"
   ]
  },
  {
   "cell_type": "code",
   "execution_count": 104,
   "metadata": {
    "dotnet_interactive": {
     "language": "csharp"
    },
    "polyglot_notebook": {
     "kernelName": "csharp"
    },
    "vscode": {
     "languageId": "polyglot-notebook"
    }
   },
   "outputs": [],
   "source": [
    "void DisplayAdjustedTimes(int[] times, int currentGMT, int newGMT)\n",
    "{\n",
    "\n",
    "}\n",
    "\n",
    "// aren't times strings?"
   ]
  },
  {
   "cell_type": "markdown",
   "metadata": {},
   "source": [
    "***3. Enter actions in the method***"
   ]
  },
  {
   "cell_type": "code",
   "execution_count": 105,
   "metadata": {
    "dotnet_interactive": {
     "language": "csharp"
    },
    "polyglot_notebook": {
     "kernelName": "csharp"
    },
    "vscode": {
     "languageId": "polyglot-notebook"
    }
   },
   "outputs": [],
   "source": [
    "void DisplayAdjustedTimes(int[] times, int currentGMT, int newGMT)\n",
    "// declare parameters for method - array of ints, int, int\n",
    "{\n",
    "    int diff = 0;\n",
    "    // declare int variable diff\n",
    "    if (Math.Abs(newGMT) > 12 || Math.Abs(currentGMT) > 12)\n",
    "    // Math.Abs = absolute value of a number\n",
    "        // eg: if parameter = -12 -> Math.Abs converts to 12\n",
    "    {\n",
    "        Console.WriteLine(\"Invalid GMT\");\n",
    "    }\n",
    "}"
   ]
  },
  {
   "cell_type": "markdown",
   "metadata": {},
   "source": [
    "***4. calculate the time difference***"
   ]
  },
  {
   "cell_type": "markdown",
   "metadata": {},
   "source": [
    "In this code, you check to see whether you need to add or subtract the absolute values of the GMT time zones to get the difference in hours. If the GMT values share the same sign (both positive or both negative), then the hours difference is equal to the difference between the two numbers. If the GMT values have opposite signs, then the difference is equal to the sum of the two numbers. Since hours are represented in hundreds, you multiply the result by 100."
   ]
  },
  {
   "cell_type": "code",
   "execution_count": 106,
   "metadata": {
    "dotnet_interactive": {
     "language": "csharp"
    },
    "polyglot_notebook": {
     "kernelName": "csharp"
    },
    "vscode": {
     "languageId": "polyglot-notebook"
    }
   },
   "outputs": [],
   "source": [
    "void DisplayAdjustedTimes(int[] times, int currentGMT, int newGMT) // declare params\n",
    "{\n",
    "    int diff = 0;\n",
    "    if (Math.Abs(newGMT) > 12 || Math.Abs(currentGMT) > 12)\n",
    "    // Math.Abs = converts neg to pos\n",
    "    // if over 12, invalid gmt\n",
    "    {\n",
    "        Console.WriteLine(\"Invalid GMT\");\n",
    "    }\n",
    "    else if (newGMT <= 0 && currentGMT <= 0 || newGMT >= 0 && currentGMT >= 0)\n",
    "    // if both positive or both negative\n",
    "    {\n",
    "        diff = 100 * (Math.Abs(newGMT) - Math.Abs(currentGMT));\n",
    "        // difference = difference between numbers\n",
    "    }\n",
    "    else\n",
    "    {\n",
    "    // if both have opposite signs\n",
    "        diff = 100 * (Math.Abs(newGMT) + Math.Abs(currentGMT));\n",
    "        // diff = sum of numbers\n",
    "    }\n",
    "}"
   ]
  },
  {
   "cell_type": "markdown",
   "metadata": {},
   "source": [
    "***4. display results***"
   ]
  },
  {
   "cell_type": "code",
   "execution_count": 108,
   "metadata": {
    "dotnet_interactive": {
     "language": "csharp"
    },
    "polyglot_notebook": {
     "kernelName": "csharp"
    },
    "vscode": {
     "languageId": "polyglot-notebook"
    }
   },
   "outputs": [],
   "source": [
    "void DisplayAdjustedTimes(int[] times, int currentGMT, int newGMT) // declare params\n",
    "{\n",
    "    int diff = 0;\n",
    "    if (Math.Abs(newGMT) > 12 || Math.Abs(currentGMT) > 12)\n",
    "    // Math.Abs = converts neg to pos\n",
    "    // if over 12, invalid gmt\n",
    "    {\n",
    "        Console.WriteLine(\"Invalid GMT\");\n",
    "    }\n",
    "    else if (newGMT <= 0 && currentGMT <= 0 || newGMT >= 0 && currentGMT >= 0)\n",
    "    // if both positive or both negative\n",
    "    {\n",
    "        diff = 100 * (Math.Abs(newGMT) - Math.Abs(currentGMT));\n",
    "        // difference = difference between numbers\n",
    "    }\n",
    "    else\n",
    "    {\n",
    "    // if both have opposite signs\n",
    "        diff = 100 * (Math.Abs(newGMT) + Math.Abs(currentGMT));\n",
    "        // diff = sum of numbers\n",
    "    }\n",
    "\n",
    "    for (int i = 0; i < times.Length; i++)\n",
    "    // i = 0, while i less than length of times array, increment i by one each iteration\n",
    "    {\n",
    "        int newTime = ((times[i] + diff)) % 2400;\n",
    "        // (times[loop number] + diff) % <what does this mean>\n",
    "        Console.WriteLine($\"{times[i]} -> {newTime}\");\n",
    "        // prints the item on the times array based on loop numbers and the new time \n",
    "    }\n",
    "}"
   ]
  },
  {
   "cell_type": "markdown",
   "metadata": {},
   "source": [
    "***5. Call the method***"
   ]
  },
  {
   "cell_type": "code",
   "execution_count": 118,
   "metadata": {
    "dotnet_interactive": {
     "language": "csharp"
    },
    "polyglot_notebook": {
     "kernelName": "csharp"
    },
    "vscode": {
     "languageId": "polyglot-notebook"
    }
   },
   "outputs": [
    {
     "name": "stdout",
     "output_type": "stream",
     "text": [
      "800 -> 2000\n",
      "1200 -> 0\n",
      "1600 -> 400\n",
      "2000 -> 800\n",
      "------------\n",
      "Invalid GMT\n",
      "800 -> 800\n",
      "1200 -> 1200\n",
      "1600 -> 1600\n",
      "2000 -> 2000\n",
      "------------\n",
      "800 -> 800\n",
      "1200 -> 1200\n",
      "1600 -> 1600\n",
      "2000 -> 2000\n",
      "------------\n",
      "800 -> 1200\n",
      "1200 -> 1600\n",
      "1600 -> 2000\n",
      "2000 -> 0\n"
     ]
    }
   ],
   "source": [
    "int[] schedule = {800, 1200, 1600, 2000};\n",
    "// array of integers named schedule\n",
    "\n",
    "DisplayAdjustedTimes(schedule, 6, -6);\n",
    "// call method(variable, literal, literal) <- aruments\n",
    "\n",
    "Console.WriteLine(\"------------\");\n",
    "DisplayAdjustedTimes(schedule, 13, -13);\n",
    "// call method(array, current, new)\n",
    "\n",
    "Console.WriteLine(\"------------\");\n",
    "DisplayAdjustedTimes(schedule, -12, -12);\n",
    "// call method(array, current, new)\n",
    "\n",
    "Console.WriteLine(\"------------\");\n",
    "DisplayAdjustedTimes(schedule, 2, -2);\n",
    "// call method(array, current, new)"
   ]
  },
  {
   "cell_type": "markdown",
   "metadata": {},
   "source": [
    "##### ****sub heading****"
   ]
  },
  {
   "cell_type": "markdown",
   "metadata": {},
   "source": [
    "##### ****sub heading****"
   ]
  },
  {
   "cell_type": "markdown",
   "metadata": {},
   "source": [
    "##### ****sub heading****"
   ]
  },
  {
   "cell_type": "markdown",
   "metadata": {},
   "source": [
    "##### ****sub heading****"
   ]
  },
  {
   "cell_type": "markdown",
   "metadata": {},
   "source": [
    "##### ****sub heading****"
   ]
  },
  {
   "cell_type": "markdown",
   "metadata": {},
   "source": [
    "##### ****sub heading****"
   ]
  },
  {
   "cell_type": "markdown",
   "metadata": {},
   "source": [
    "#### 🚀 **[Exercise -  Understand method scope](https://learn.microsoft.com/en-gb/training/modules/create-c-sharp-methods-parameters/3-exercise-understand-method-scope)**"
   ]
  },
  {
   "cell_type": "markdown",
   "metadata": {},
   "source": [
    "##### ***Intro***"
   ]
  },
  {
   "cell_type": "markdown",
   "metadata": {},
   "source": [
    "* Variables declared inside of a method are only accessible to that method.\n",
    "* Variables declared in top-level statements are accessible throughout the program.\n",
    "* Methods don't have access to variables defined within different methods.\n",
    "* Methods can call other methods."
   ]
  },
  {
   "cell_type": "markdown",
   "metadata": {},
   "source": [
    "##### ***Code Blocks - Scope - Region***"
   ]
  },
  {
   "cell_type": "markdown",
   "metadata": {},
   "source": [
    "Code Blocks:\n",
    "* `for` loops, `if-else `statements, and methods all represent different types of code blocks\n",
    "* Each code block has its own `'scope'`\n",
    "\n",
    "Scope:\n",
    "* `'Scope'` is the `region` of a program where certain data is accessible\n",
    "\n",
    "Region:\n",
    "* Variables declared inside a method, or any code block, are only accessible within that region. \n",
    "\n",
    "As programs become more complicated, this pattern helps programmers consistently use clearly named variables and maintain easy to read code.\n"
   ]
  },
  {
   "cell_type": "markdown",
   "metadata": {},
   "source": [
    "##### ***Test variable scope: Top-Level statements with Global Variables***"
   ]
  },
  {
   "cell_type": "markdown",
   "metadata": {},
   "source": [
    "* Statements declared outside of any code block: `top-level statements`.\n",
    "* Variables declared in top-level statements: `'global variables'`. \n",
    "    * Global variables:\n",
    "        * aren't restricted to any scope\n",
    "        * an be used anywhere throughout the program. \n",
    "        * can be useful for different methods that need to access the same data."
   ]
  },
  {
   "cell_type": "code",
   "execution_count": 119,
   "metadata": {
    "dotnet_interactive": {
     "language": "csharp"
    },
    "polyglot_notebook": {
     "kernelName": "csharp"
    },
    "vscode": {
     "languageId": "polyglot-notebook"
    }
   },
   "outputs": [
    {
     "name": "stdout",
     "output_type": "stream",
     "text": [
      "Jenna, Ayesha, Carlos, Viktor, \n",
      "Robert, Vanya, \n"
     ]
    }
   ],
   "source": [
    "string[] students = {\"Jenna\", \"Ayesha\", \"Carlos\", \"Viktor\"};\n",
    "\n",
    "DisplayStudents(students);\n",
    "// call method with argument: students string above\n",
    "\n",
    "DisplayStudents(new string[] {\"Robert\",\"Vanya\"});\n",
    "// call method with argument: new string values with no variable name\n",
    "\n",
    "void DisplayStudents(string[] students) \n",
    "// param = students (values not set until method is called w/ arguments)\n",
    "{\n",
    "    foreach (string student in students) \n",
    "    {\n",
    "        Console.Write($\"{student}, \");\n",
    "    }\n",
    "    Console.WriteLine();\n",
    "}"
   ]
  },
  {
   "cell_type": "markdown",
   "metadata": {},
   "source": [
    "**Display an area of a circle**"
   ]
  },
  {
   "cell_type": "code",
   "execution_count": 120,
   "metadata": {
    "dotnet_interactive": {
     "language": "csharp"
    },
    "polyglot_notebook": {
     "kernelName": "csharp"
    },
    "vscode": {
     "languageId": "polyglot-notebook"
    }
   },
   "outputs": [
    {
     "name": "stdout",
     "output_type": "stream",
     "text": [
      "Area = 452.38896\r\n"
     ]
    }
   ],
   "source": [
    "PrintCircleArea(12);\n",
    "// call method with argument: 12\n",
    "// 12 = radius param (int)\n",
    "\n",
    "void PrintCircleArea(int radius)\n",
    "{\n",
    "    double pi = 3.14159;\n",
    "    // type double\n",
    "    // variable pi\n",
    "    double area = pi * (radius * radius);\n",
    "    Console.WriteLine($\"Area = {area}\");\n",
    "}"
   ]
  },
  {
   "cell_type": "markdown",
   "metadata": {},
   "source": [
    "**Reference local variables in global region**"
   ]
  },
  {
   "cell_type": "code",
   "execution_count": 122,
   "metadata": {
    "dotnet_interactive": {
     "language": "csharp"
    },
    "polyglot_notebook": {
     "kernelName": "csharp"
    },
    "vscode": {
     "languageId": "polyglot-notebook"
    }
   },
   "outputs": [
    {
     "ename": "Error",
     "evalue": "(4,15): error CS0103: The name 'pi' does not exist in the current context\r\n(4,21): error CS0103: The name 'radius' does not exist in the current context\r\n(4,30): error CS0103: The name 'radius' does not exist in the current context",
     "output_type": "error",
     "traceback": [
      "(4,15): error CS0103: The name 'pi' does not exist in the current context\r\n",
      "(4,21): error CS0103: The name 'radius' does not exist in the current context\r\n",
      "(4,30): error CS0103: The name 'radius' does not exist in the current context"
     ]
    }
   ],
   "source": [
    "PrintCircleArea(12);\n",
    "\n",
    "// made global\n",
    "double area = pi * (radius * radius);\n",
    "\n",
    "void PrintCircleArea(int radius)\n",
    "{\n",
    "    double pi = 3.14159;\n",
    "    Console.WriteLine($\"Area = {area}\");\n",
    "}"
   ]
  },
  {
   "cell_type": "markdown",
   "metadata": {},
   "source": [
    "**Globalising Variables Correctly**"
   ]
  },
  {
   "cell_type": "markdown",
   "metadata": {},
   "source": [
    "Before"
   ]
  },
  {
   "cell_type": "code",
   "execution_count": 123,
   "metadata": {
    "dotnet_interactive": {
     "language": "csharp"
    },
    "polyglot_notebook": {
     "kernelName": "csharp"
    },
    "vscode": {
     "languageId": "polyglot-notebook"
    }
   },
   "outputs": [],
   "source": [
    "void PrintCircleArea(int radius)\n",
    "{\n",
    "    double pi = 3.14159;\n",
    "    double area = pi * (radius * radius);\n",
    "    Console.WriteLine($\"Area = {area}\");\n",
    "}\n",
    "\n",
    "void PrintCircleCircumference(int radius)\n",
    "{\n",
    "    double pi = 3.14159;\n",
    "    double circumference = 2 * pi * radius;\n",
    "    Console.WriteLine($\"Circumference = {circumference}\");\n",
    "}"
   ]
  },
  {
   "cell_type": "markdown",
   "metadata": {},
   "source": [
    "After"
   ]
  },
  {
   "cell_type": "code",
   "execution_count": 124,
   "metadata": {
    "dotnet_interactive": {
     "language": "csharp"
    },
    "polyglot_notebook": {
     "kernelName": "csharp"
    },
    "vscode": {
     "languageId": "polyglot-notebook"
    }
   },
   "outputs": [],
   "source": [
    "double pi = 3.14159;\n",
    "\n",
    "void PrintCircleArea(int radius)\n",
    "{\n",
    "    // double pi = 3.14159;\n",
    "    double area = pi * (radius * radius);\n",
    "    Console.WriteLine($\"Area = {area}\");\n",
    "}\n",
    "\n",
    "void PrintCircleCircumference(int radius)\n",
    "{\n",
    "    // double pi = 3.14159;\n",
    "    double circumference = 2 * pi * radius;\n",
    "    Console.WriteLine($\"Circumference = {circumference}\");\n",
    "}"
   ]
  },
  {
   "cell_type": "markdown",
   "metadata": {},
   "source": [
    "**Add Summary Method calling other references**"
   ]
  },
  {
   "cell_type": "code",
   "execution_count": 126,
   "metadata": {
    "dotnet_interactive": {
     "language": "csharp"
    },
    "polyglot_notebook": {
     "kernelName": "csharp"
    },
    "vscode": {
     "languageId": "polyglot-notebook"
    }
   },
   "outputs": [
    {
     "name": "stdout",
     "output_type": "stream",
     "text": [
      "Circle with radius 12\n",
      "Area = 452.38896\n",
      "Circumference = 75.39815999999999\n",
      "Circle with radius 24\n",
      "Area = 1809.55584\n",
      "Circumference = 150.79631999999998\n"
     ]
    }
   ],
   "source": [
    "double pi = 3.14159;\n",
    "PrintCircleInfo(12);\n",
    "PrintCircleInfo(24);\n",
    "\n",
    "void PrintCircleInfo(int radius) \n",
    "{\n",
    "    Console.WriteLine($\"Circle with radius {radius}\");\n",
    "    PrintCircleArea(radius); // call method with argument\n",
    "    PrintCircleCircumference(radius); // call method with argument\n",
    "}\n",
    "\n",
    "void PrintCircleArea(int radius) // set parameter\n",
    "{\n",
    "    // double pi = 3.14159;\n",
    "    double area = pi * (radius * radius);\n",
    "    Console.WriteLine($\"Area = {area}\");\n",
    "}\n",
    "\n",
    "void PrintCircleCircumference(int radius) // set parameter\n",
    "{\n",
    "    // double pi = 3.14159;\n",
    "    double circumference = 2 * pi * radius;\n",
    "    Console.WriteLine($\"Circumference = {circumference}\");\n",
    "}"
   ]
  },
  {
   "cell_type": "markdown",
   "metadata": {},
   "source": [
    "#### 🚀 **[Exercise - Use value and reference type parameters](https://learn.microsoft.com/en-gb/training/modules/create-c-sharp-methods-parameters/4-exercise-use-value-reference-type-parameters)**"
   ]
  },
  {
   "cell_type": "markdown",
   "metadata": {},
   "source": [
    "##### ***Intro***"
   ]
  },
  {
   "cell_type": "markdown",
   "metadata": {},
   "source": [
    "* In C#, variables can be categorized into two main types:\n",
    "    1. value types\n",
    "    2. reference types. \n",
    "* These types describe how variables store their values.\n",
    "* Value types such as `int, bool, float, double,` and `char` directly contain values. \n",
    "* Reference types such as `string, array,` and `objects` (such as instances of `Random`) don't store their values directly\n",
    "* Instead, reference types store an address where their value is being stored.\n",
    "--------------------------\n",
    "* Variables can be categorized as value types and reference types.\n",
    "* Value types directly contain values, and reference types store the address of the value.\n",
    "* Methods using value type arguments create their own copy of the values.\n",
    "* Methods that perform changes on an array parameter affect the original input array.\n",
    "* String is an immutable reference type.\n",
    "* Methods that perform changes on a string parameter don't affect the original string."
   ]
  },
  {
   "cell_type": "markdown",
   "metadata": {},
   "source": [
    "##### ***Parameters passed by value and passed by reference***"
   ]
  },
  {
   "cell_type": "markdown",
   "metadata": {},
   "source": [
    "When an argument is passed to a method --> value type variables have their values copied into the method. \n",
    "* Each variable has its own copy of the value, so the original variable isn't modified.\n",
    "\n",
    "With reference types, the address of the value is passed into the method. \n",
    "* The variable given to the method references the value at that address, so operations on that variable affect the value that is referenced by the other.\n",
    "\n",
    "Note\n",
    "* `string` is a reference type, but it is immutable. \n",
    "* That means once it has been assigned a value, it can't be altered. \n",
    "* In C#, when methods and operators are used to modify a string, the result that is returned is actually a `new string ` object."
   ]
  },
  {
   "cell_type": "markdown",
   "metadata": {},
   "source": [
    "##### ***Test pass by value***"
   ]
  },
  {
   "cell_type": "code",
   "execution_count": 128,
   "metadata": {
    "dotnet_interactive": {
     "language": "csharp"
    },
    "polyglot_notebook": {
     "kernelName": "csharp"
    },
    "vscode": {
     "languageId": "polyglot-notebook"
    }
   },
   "outputs": [
    {
     "name": "stdout",
     "output_type": "stream",
     "text": [
      "inside Multiply method: 3 x 4 = 12\n",
      "global statement: 3 x 4 = 0\n"
     ]
    }
   ],
   "source": [
    "int a = 3;\n",
    "int b = 4;\n",
    "int c = 0;\n",
    "\n",
    "Multiply(a, b, c); // pass by value to Multiply() method\n",
    "// arguments are ints = values\n",
    "\n",
    "Console.WriteLine($\"global statement: {a} x {b} = {c}\");\n",
    "\n",
    "void Multiply(int a, int b, int c) \n",
    "{\n",
    "    c = a * b; //c is LOCAL only, not accessed globally\n",
    "    Console.WriteLine($\"inside Multiply method: {a} x {b} = {c}\");\n",
    "}"
   ]
  },
  {
   "cell_type": "markdown",
   "metadata": {},
   "source": [
    "##### ***Test pass by reference***"
   ]
  },
  {
   "cell_type": "code",
   "execution_count": 129,
   "metadata": {
    "dotnet_interactive": {
     "language": "csharp"
    },
    "polyglot_notebook": {
     "kernelName": "csharp"
    },
    "vscode": {
     "languageId": "polyglot-notebook"
    }
   },
   "outputs": [
    {
     "name": "stdout",
     "output_type": "stream",
     "text": [
      "1 2 3 4 5 0 0 0 0 0 "
     ]
    }
   ],
   "source": [
    "int[] array = {1, 2, 3, 4, 5};\n",
    "\n",
    "PrintArray(array);\n",
    "Clear(array);\n",
    "PrintArray(array);\n",
    "// arguments are arrays = reference\n",
    "// int = mutable\n",
    "\n",
    "void PrintArray(int[] array) // pass by reference to array\n",
    "{\n",
    "    foreach (int a in array) \n",
    "    {\n",
    "        Console.Write($\"{a} \");\n",
    "    }\n",
    "}\n",
    "\n",
    "void Clear(int[] array) \n",
    "{\n",
    "    for (int i = 0; i < array.Length; i++) \n",
    "    {\n",
    "        array[i] = 0; // sets each array item to 0\n",
    "    }\n",
    "}"
   ]
  },
  {
   "cell_type": "markdown",
   "metadata": {},
   "source": [
    "##### ***Test with strings***"
   ]
  },
  {
   "cell_type": "markdown",
   "metadata": {},
   "source": [
    "* strings = immutable type. \n",
    "* Even though a string is a reference value type, unlike an array, its value can't be altered once it's assigned. \n",
    "* You might have noticed this if you've used methods such as string.Replace or string.ToUpper."
   ]
  },
  {
   "cell_type": "code",
   "execution_count": 132,
   "metadata": {
    "dotnet_interactive": {
     "language": "csharp"
    },
    "polyglot_notebook": {
     "kernelName": "csharp"
    },
    "vscode": {
     "languageId": "polyglot-notebook"
    }
   },
   "outputs": [
    {
     "name": "stdout",
     "output_type": "stream",
     "text": [
      "Start: Healthy\n",
      "Middle: Unhealthy\n",
      "End: Healthy\n"
     ]
    }
   ],
   "source": [
    "string status = \"Healthy\";\n",
    "// type = string = immutable\n",
    "\n",
    "Console.WriteLine($\"Start: {status}\");\n",
    "SetHealth(status, false); // change status and print from method\n",
    "Console.WriteLine($\"End: {status}\"); // unchanged status from method - as its local not global\n",
    "\n",
    "void SetHealth(string status, bool isHealthy) // uses global variable status to determine healthy status\n",
    "{\n",
    "    status = (isHealthy ? \"Healthy\" : \"Unhealthy\");\n",
    "    Console.WriteLine($\"Middle: {status}\");\n",
    "}"
   ]
  },
  {
   "cell_type": "markdown",
   "metadata": {},
   "source": [
    "Globalise the status"
   ]
  },
  {
   "cell_type": "code",
   "execution_count": 133,
   "metadata": {
    "dotnet_interactive": {
     "language": "csharp"
    },
    "polyglot_notebook": {
     "kernelName": "csharp"
    },
    "vscode": {
     "languageId": "polyglot-notebook"
    }
   },
   "outputs": [
    {
     "name": "stdout",
     "output_type": "stream",
     "text": [
      "Start: Healthy\n",
      "Middle: Unhealthy\n",
      "End: Unhealthy\n"
     ]
    }
   ],
   "source": [
    "string status = \"Healthy\";\n",
    "\n",
    "Console.WriteLine($\"Start: {status}\");\n",
    "SetHealth(false);\n",
    "Console.WriteLine($\"End: {status}\");\n",
    "\n",
    "void SetHealth(bool isHealthy) \n",
    "{\n",
    "    status = (isHealthy ? \"Healthy\" : \"Unhealthy\");\n",
    "    Console.WriteLine($\"Middle: {status}\");\n",
    "}"
   ]
  },
  {
   "cell_type": "markdown",
   "metadata": {},
   "source": [
    "#### 🚀 **[Exercise - Methods with optional parameters](https://learn.microsoft.com/en-gb/training/modules/create-c-sharp-methods-parameters/5-exercise-use-named-optional-parameters)**"
   ]
  },
  {
   "cell_type": "markdown",
   "metadata": {},
   "source": [
    "##### ***Intro***"
   ]
  },
  {
   "cell_type": "markdown",
   "metadata": {},
   "source": [
    "* The C Sharp language allows the use of named and optional parameters. \n",
    "* These types of parameters let you select which arguments you want to supply to the method, so you aren't restricted to the structure defined in the method signature.\n",
    "* Named arguments allow you to specify the value for a parameter using its name rather than position.\n",
    "* Optional parameters allow you to omit those arguments when calling the method.\n",
    "-------\n",
    "* Parameters are made optional by setting a default value in the method signature.\n",
    "* Named arguments are specified with the parameter name, followed by a colon and the argument value.\n",
    "* When combining named and positional arguments, you must use the correct order of parameters."
   ]
  },
  {
   "cell_type": "markdown",
   "metadata": {},
   "source": [
    "##### ***Create an RSVP application***"
   ]
  },
  {
   "cell_type": "markdown",
   "metadata": {},
   "source": [
    "* In this task, you'll create a brief application for guests to RSVP to an event. \n",
    "* The guests will provide their party size and any allergies. \n",
    "* You'll also add the option to restrict RSVPs to an invite-only guest list."
   ]
  },
  {
   "cell_type": "code",
   "execution_count": 134,
   "metadata": {
    "dotnet_interactive": {
     "language": "csharp"
    },
    "polyglot_notebook": {
     "kernelName": "csharp"
    },
    "vscode": {
     "languageId": "polyglot-notebook"
    }
   },
   "outputs": [],
   "source": [
    "string[] guestList = {\"Rebecca\", \"Nadia\", \"Noor\", \"Jonte\"};\n",
    "string[] rsvps = new string[10];\n",
    "int count = 0;\n",
    "\n",
    "void RSVP(string name, int partySize, string allergies, bool inviteOnly) \n",
    "{\n",
    "    if (inviteOnly)\n",
    "    {\n",
    "        // search guestList before adding rsvp\n",
    "    }\n",
    "\n",
    "    rsvps[count] = $\"Name: {name}, \\tParty Size: {partySize}, \\tAllergies: {allergies}\";\n",
    "    count++;\n",
    "}\n",
    "\n",
    "void ShowRSVPs()\n",
    "{\n",
    "    Console.WriteLine(\"\\nTotal RSVPs:\");\n",
    "    for (int i = 0; i < count; i++)\n",
    "    {\n",
    "        Console.WriteLine(rsvps[i]);\n",
    "    }\n",
    "}"
   ]
  },
  {
   "cell_type": "markdown",
   "metadata": {},
   "source": [
    "**Add RSVP method**"
   ]
  },
  {
   "cell_type": "markdown",
   "metadata": {},
   "source": [
    "In this code, you check to see if the given name is equal to any of the names on the guest list. \n",
    "* If a match is found, you set found to true and break out of the foreach loop. \n",
    "* If found is false, you display a message and use the return keyword to terminate the method."
   ]
  },
  {
   "cell_type": "code",
   "execution_count": 2,
   "metadata": {
    "dotnet_interactive": {
     "language": "csharp"
    },
    "polyglot_notebook": {
     "kernelName": "csharp"
    },
    "vscode": {
     "languageId": "polyglot-notebook"
    }
   },
   "outputs": [],
   "source": [
    "string[] guestList = {\"Rebecca\", \"Nadia\", \"Noor\", \"Jonte\"};\n",
    "string[] rsvps = new string[10];\n",
    "int count = 0;\n",
    "\n",
    "void RSVP(string name, int partySize, string allergies, bool inviteOnly) \n",
    "{\n",
    "    if (inviteOnly)\n",
    "    {\n",
    "        // search guestList before adding rsvp        \n",
    "        bool found = false;\n",
    "        foreach (string guest in guestList)\n",
    "        {\n",
    "            if (guest.Equals(name)) {\n",
    "                found = true;\n",
    "                break;\n",
    "            }\n",
    "        }\n",
    "        if (!found)\n",
    "        {\n",
    "            Console.WriteLine($\"Sorry, {name} is not on the guest list\");\n",
    "            return;\n",
    "        }\n",
    "    }\n",
    "\n",
    "    rsvps[count] = $\"Name: {name}, \\tParty Size: {partySize}, \\tAllergies: {allergies}\";\n",
    "    count++;\n",
    "}\n",
    "\n",
    "void ShowRSVPs()\n",
    "{\n",
    "    Console.WriteLine(\"\\nTotal RSVPs:\");\n",
    "    for (int i = 0; i < count; i++)\n",
    "    {\n",
    "        Console.WriteLine(rsvps[i]);\n",
    "    }\n",
    "}"
   ]
  },
  {
   "cell_type": "markdown",
   "metadata": {},
   "source": [
    "**Call the method and pass in arguments to `RSVP()`**"
   ]
  },
  {
   "cell_type": "code",
   "execution_count": 136,
   "metadata": {
    "dotnet_interactive": {
     "language": "csharp"
    },
    "polyglot_notebook": {
     "kernelName": "csharp"
    },
    "vscode": {
     "languageId": "polyglot-notebook"
    }
   },
   "outputs": [
    {
     "name": "stdout",
     "output_type": "stream",
     "text": [
      "Sorry, Tony is not on the guest list\n",
      "\n",
      "Total RSVPs:\n",
      "Name: Rebecca, \tParty Size: 1, \tAllergies: none\n",
      "Name: Nadia, \tParty Size: 2, \tAllergies: Nuts\n",
      "Name: Linh, \tParty Size: 2, \tAllergies: none\n",
      "Name: Noor, \tParty Size: 4, \tAllergies: none\n",
      "Name: Jonte, \tParty Size: 2, \tAllergies: Stone fruit\n"
     ]
    }
   ],
   "source": [
    "RSVP(\"Rebecca\", 1, \"none\", true);\n",
    "RSVP(\"Nadia\", 2, \"Nuts\", true);\n",
    "RSVP(\"Linh\", 2, \"none\", false);\n",
    "RSVP(\"Tony\", 1, \"Jackfruit\", true);\n",
    "RSVP(\"Noor\", 4, \"none\", false);\n",
    "RSVP(\"Jonte\", 2, \"Stone fruit\", false);\n",
    "ShowRSVPs();"
   ]
  },
  {
   "cell_type": "markdown",
   "metadata": {},
   "source": [
    "##### ***Use named arguments***"
   ]
  },
  {
   "cell_type": "markdown",
   "metadata": {},
   "source": [
    "* When calling a method that accepts many parameters, it can be tricky to understand what the arguments represent. \n",
    "* Using named arguments can improve the readability of your code. \n",
    "* Use a named argument by specifying the parameter name followed by the argument value. \n",
    "* In this task, you'll practice using named arguments."
   ]
  },
  {
   "cell_type": "markdown",
   "metadata": {},
   "source": [
    "**Update method call parameters to use named arguments**"
   ]
  },
  {
   "cell_type": "code",
   "execution_count": 28,
   "metadata": {
    "dotnet_interactive": {
     "language": "csharp"
    },
    "polyglot_notebook": {
     "kernelName": "csharp"
    },
    "vscode": {
     "languageId": "polyglot-notebook"
    }
   },
   "outputs": [
    {
     "name": "stdout",
     "output_type": "stream",
     "text": [
      "Sorry, Tony is not on the guest list\n",
      "\n",
      "Total RSVPs:\n",
      "Name: Rebecca, \tParty Size: 1, \tAllergies: none\n",
      "Name: Nadia, \tParty Size: 2, \tAllergies: Nuts\n",
      "Name: Linh, \tParty Size: 2, \tAllergies: none\n",
      "Name: Noor, \tParty Size: 4, \tAllergies: none\n",
      "Name: Jonte, \tParty Size: 2, \tAllergies: Stone fruit\n",
      "Name: Rebecca, \tParty Size: 1, \tAllergies: none\n",
      "Name: Nadia, \tParty Size: 2, \tAllergies: Nuts\n",
      "Name: Linh, \tParty Size: 2, \tAllergies: none\n",
      "Name: Noor, \tParty Size: 4, \tAllergies: none\n",
      "Name: Jonte, \tParty Size: 2, \tAllergies: Stone fruit\n"
     ]
    }
   ],
   "source": [
    "RSVP(\"Rebecca\", 1, \"none\", true);\n",
    "RSVP(\"Nadia\", 2, \"Nuts\", true);\n",
    "// RSVP(\"Linh\", 2, \"none\", false);\n",
    "RSVP(name: \"Linh\", partySize: 2, allergies: \"none\", inviteOnly: false);\n",
    "RSVP(\"Tony\", 1, \"Jackfruit\", true);\n",
    "RSVP(\"Noor\", 4, \"none\", false);\n",
    "RSVP(\"Jonte\", 2, \"Stone fruit\", false);\n",
    "ShowRSVPs();\n",
    "\n",
    "\n",
    "// void RSVP(string name, int partySize, string allergies, bool inviteOnly) \n",
    "// OPTIONAL:\n",
    "// void RSVP(string name, int partySize = 1, string allergies = \"none\", bool inviteOnly = true)\n",
    "// options:\n",
    "// RSVP(\"Linh\", 2, \"none\", false);\n",
    "// RSVP(name: \"Linh\", partySize: 2, allergies: \"none\", inviteOnly: false);\n",
    "// RSVP(\"Linh\", 2, allergies: \"none\", inviteOnly: false);\n",
    "// RSVP(\"Linh\", partySize: 2, \"none\", false);\n",
    "\n",
    "// INVALID:\n",
    "// RSVP(allergies: \"none\", inviteOnly: false, \"Linh\", 2);"
   ]
  },
  {
   "cell_type": "code",
   "execution_count": 33,
   "metadata": {
    "dotnet_interactive": {
     "language": "csharp"
    },
    "polyglot_notebook": {
     "kernelName": "csharp"
    },
    "vscode": {
     "languageId": "polyglot-notebook"
    }
   },
   "outputs": [],
   "source": [
    "void RSVP(string name, int partySize = 1, string allergies = \"none\", bool inviteOnly = true){}\n",
    "\n",
    "RSVP(\"Rebecca\");\n",
    "RSVP(\"Nadia\", 2, \"Nuts\");\n",
    "RSVP(name: \"Linh\", partySize: 2, inviteOnly: false);\n",
    "RSVP(\"Tony\", allergies: \"Jackfruit\", inviteOnly: true);\n",
    "RSVP(\"Noor\", 4, inviteOnly: false);\n",
    "RSVP(\"Jonte\", 2, \"Stone fruit\", false);\n",
    "\n",
    "/*\n",
    "    In each method call, notice that the name is never omitted. \n",
    "    When a method is called, all required arguments must always be included. \n",
    "    However, any optional arguments can be omitted.\n",
    "\n",
    "    In this code, you removed the arguments 1, \"none\", true from Rebecca's rsvp. \n",
    "    Since these arguments match the default value, the result of Rebecca's rsvp is the same.\n",
    "\n",
    "    You removed the inviteOnly argument from Nadia's rsvp. \n",
    "    Since the default value of inviteOnly is true, the result of Nadia's rsvp is the same.\n",
    "\n",
    "    You removed the partySize argument from Tony's rsvp. \n",
    "    If Tony had an invitation, the default value of partySize would be used in the RSVP.\n",
    "\n",
    "    You removed the allergies argument from both Linh and Noor's rsvps. \n",
    "    Their rsvps will display the default value of none for \"Allergies\".\n",
    "\n",
    "*/"
   ]
  },
  {
   "cell_type": "markdown",
   "metadata": {},
   "source": [
    "#### ⭐ **[Exercise - Complete the challenge to display email addresses](#)**"
   ]
  },
  {
   "cell_type": "markdown",
   "metadata": {},
   "source": [
    "##### ***Intro***"
   ]
  },
  {
   "cell_type": "markdown",
   "metadata": {},
   "source": [
    "* Code challenges reinforce what you've learned, and help you gain some confidence before continuing on.\n",
    "* The focus of this challenge is to create a method with the proper parameters, including an optional parameter."
   ]
  },
  {
   "cell_type": "markdown",
   "metadata": {},
   "source": [
    "##### ***Display email addresses***"
   ]
  },
  {
   "cell_type": "markdown",
   "metadata": {},
   "source": [
    "* Your challenge is to create a method that displays the correct email address for both internal and external employees.\n",
    "* You're given lists of internal and external employee names. \n",
    "* An employee's email address consists of their username and company domain name.\n",
    "* The username format is the first two characters of the employee first name, followed by their last name. \n",
    "* For example, an employee named \"Robert Bavin\" would have the username \"robavin\". \n",
    "* The domain for internal employees is \"contoso.com\".\n",
    "* You must decide how to create and call a method to display email addresses."
   ]
  },
  {
   "cell_type": "markdown",
   "metadata": {},
   "source": [
    "##### ⭐ ***Code challenge: Add a method to display email addresses***"
   ]
  },
  {
   "cell_type": "markdown",
   "metadata": {},
   "source": [
    "* In the code you start with, there are two arrays for internal and external employees. \n",
    "* Remember, the domain for internal employees is \"contoso.com\" and the username for all employees is the first two characters of their first name, followed by their full last name.\n",
    "* Your challenge is to create a method that will display the email address of internal and external employees. \n",
    "* The method should include an optional parameter for the domain name of external employees."
   ]
  },
  {
   "cell_type": "markdown",
   "metadata": {},
   "source": [
    "**Starter Code**"
   ]
  },
  {
   "cell_type": "code",
   "execution_count": 4,
   "metadata": {
    "dotnet_interactive": {
     "language": "csharp"
    },
    "polyglot_notebook": {
     "kernelName": "csharp"
    },
    "vscode": {
     "languageId": "polyglot-notebook"
    }
   },
   "outputs": [],
   "source": [
    "// string[,] multi-dimensional array with strings\n",
    "\n",
    "string[,] corporate = \n",
    "{\n",
    "    {\"Robert\", \"Bavin\"}, {\"Simon\", \"Bright\"},\n",
    "    {\"Kim\", \"Sinclair\"}, {\"Aashrita\", \"Kamath\"},\n",
    "    {\"Sarah\", \"Delucchi\"}, {\"Sinan\", \"Ali\"}\n",
    "};\n",
    "\n",
    "string[,] external = \n",
    "{\n",
    "    {\"Vinnie\", \"Ashton\"}, {\"Cody\", \"Dysart\"},\n",
    "    {\"Shay\", \"Lawrence\"}, {\"Daren\", \"Valdes\"}\n",
    "};\n",
    "\n",
    "string externalDomain = \"hayworth.com\";\n",
    "\n",
    "for (int i = 0; i < corporate.GetLength(0); i++) \n",
    "{\n",
    "    // display internal email addresses\n",
    "}\n",
    "\n",
    "for (int i = 0; i < external.GetLength(0); i++) \n",
    "{\n",
    "    // display external email addresses\n",
    "}"
   ]
  },
  {
   "cell_type": "markdown",
   "metadata": {},
   "source": [
    "**Output Expected**"
   ]
  },
  {
   "cell_type": "code",
   "execution_count": 5,
   "metadata": {
    "dotnet_interactive": {
     "language": "csharp"
    },
    "polyglot_notebook": {
     "kernelName": "csharp"
    },
    "vscode": {
     "languageId": "polyglot-notebook"
    }
   },
   "outputs": [],
   "source": [
    "/* \n",
    "\n",
    "robavin@contoso.com\n",
    "sibright@contoso.com\n",
    "kisinclair@contoso.com\n",
    "aakamath@contoso.com\n",
    "sadelucchi@contoso.com\n",
    "siali@contoso.com\n",
    "viashton@hayworth.com\n",
    "codysart@hayworth.com\n",
    "shlawrence@hayworth.com\n",
    "davaldes@hayworth.com\n",
    "\n",
    "\n",
    "*/"
   ]
  },
  {
   "cell_type": "markdown",
   "metadata": {},
   "source": [
    "**Playground**"
   ]
  },
  {
   "cell_type": "code",
   "execution_count": 17,
   "metadata": {
    "dotnet_interactive": {
     "language": "csharp"
    },
    "polyglot_notebook": {
     "kernelName": "csharp"
    },
    "vscode": {
     "languageId": "polyglot-notebook"
    }
   },
   "outputs": [
    {
     "name": "stdout",
     "output_type": "stream",
     "text": [
      "robavin@contoso.com\n",
      "sibright@contoso.com\n",
      "kisinclair@contoso.com\n",
      "aakamath@contoso.com\n",
      "sadelucchi@contoso.com\n",
      "siali@contoso.com\n",
      "viashton@hayworth.com\n",
      "codysart@hayworth.com\n",
      "shlawrence@hayworth.com\n",
      "davaldes@hayworth.com\n"
     ]
    }
   ],
   "source": [
    "// string[,] multi-dimensional array with strings\n",
    "\n",
    "string[,] corporate = \n",
    "{\n",
    "    {\"Robert\", \"Bavin\"}, {\"Simon\", \"Bright\"},\n",
    "    {\"Kim\", \"Sinclair\"}, {\"Aashrita\", \"Kamath\"},\n",
    "    {\"Sarah\", \"Delucchi\"}, {\"Sinan\", \"Ali\"}\n",
    "};\n",
    "\n",
    "string[,] external = \n",
    "{\n",
    "    {\"Vinnie\", \"Ashton\"}, {\"Cody\", \"Dysart\"},\n",
    "    {\"Shay\", \"Lawrence\"}, {\"Daren\", \"Valdes\"}\n",
    "};\n",
    "\n",
    "string externalDomain = \"hayworth.com\";\n",
    "string corporateDomain = \"contoso.com\";\n",
    "\n",
    "for (int i = 0; i < corporate.GetLength(0); i++) \n",
    "{\n",
    "    // display internal email addresses\n",
    "    char[] firstNameLetters = corporate[i,0].ToLower().ToCharArray();\n",
    "    string lastName = corporate[i,1].ToLower();\n",
    "    string emailName = $\"{firstNameLetters[0]}{firstNameLetters[1]}{lastName}\";\n",
    "    Console.WriteLine($\"{emailName}@{corporateDomain}\");\n",
    "}\n",
    "\n",
    "for (int i = 0; i < external.GetLength(0); i++) \n",
    "{\n",
    "    // display external email addresses\n",
    "    char[] firstNameLetters = external[i,0].ToLower().ToCharArray();\n",
    "    string lastName = external[i,1].ToLower();\n",
    "    string emailName = $\"{firstNameLetters[0]}{firstNameLetters[1]}{lastName}\";\n",
    "    Console.WriteLine($\"{emailName}@{externalDomain}\");\n",
    "}"
   ]
  },
  {
   "cell_type": "code",
   "execution_count": 19,
   "metadata": {
    "dotnet_interactive": {
     "language": "csharp"
    },
    "polyglot_notebook": {
     "kernelName": "csharp"
    },
    "vscode": {
     "languageId": "polyglot-notebook"
    }
   },
   "outputs": [
    {
     "name": "stdout",
     "output_type": "stream",
     "text": [
      "robavin@contoso.com\n",
      "sibright@contoso.com\n",
      "kisinclair@contoso.com\n",
      "aakamath@contoso.com\n",
      "sadelucchi@contoso.com\n",
      "siali@contoso.com\n",
      "viashton@hayworth.com\n",
      "codysart@hayworth.com\n",
      "shlawrence@hayworth.com\n",
      "davaldes@hayworth.com\n"
     ]
    }
   ],
   "source": [
    "// string[,] multi-dimensional array with strings\n",
    "\n",
    "string[,] corporate = \n",
    "{\n",
    "    {\"Robert\", \"Bavin\"}, {\"Simon\", \"Bright\"},\n",
    "    {\"Kim\", \"Sinclair\"}, {\"Aashrita\", \"Kamath\"},\n",
    "    {\"Sarah\", \"Delucchi\"}, {\"Sinan\", \"Ali\"}\n",
    "};\n",
    "\n",
    "string[,] external = \n",
    "{\n",
    "    {\"Vinnie\", \"Ashton\"}, {\"Cody\", \"Dysart\"},\n",
    "    {\"Shay\", \"Lawrence\"}, {\"Daren\", \"Valdes\"}\n",
    "};\n",
    "\n",
    "string externalDomain = \"hayworth.com\";\n",
    "string corporateDomain = \"contoso.com\";\n",
    "\n",
    "// method signature\n",
    "void getEmail ()\n",
    "{\n",
    "    for (int i = 0; i < corporate.GetLength(0); i++) \n",
    "    {\n",
    "        // display internal email addresses\n",
    "        char[] firstNameLetters = corporate[i,0].ToLower().ToCharArray();\n",
    "        string lastName = corporate[i,1].ToLower();\n",
    "        string emailName = $\"{firstNameLetters[0]}{firstNameLetters[1]}{lastName}\";\n",
    "        Console.WriteLine($\"{emailName}@{corporateDomain}\");\n",
    "    }\n",
    "\n",
    "    for (int i = 0; i < external.GetLength(0); i++) \n",
    "    {\n",
    "        // display external email addresses\n",
    "        char[] firstNameLetters = external[i,0].ToLower().ToCharArray();\n",
    "        string lastName = external[i,1].ToLower();\n",
    "        string emailName = $\"{firstNameLetters[0]}{firstNameLetters[1]}{lastName}\";\n",
    "        Console.WriteLine($\"{emailName}@{externalDomain}\");\n",
    "    }\n",
    "}\n",
    "\n",
    "// call method\n",
    "getEmail();\n"
   ]
  },
  {
   "cell_type": "code",
   "execution_count": 21,
   "metadata": {
    "dotnet_interactive": {
     "language": "csharp"
    },
    "polyglot_notebook": {
     "kernelName": "csharp"
    },
    "vscode": {
     "languageId": "polyglot-notebook"
    }
   },
   "outputs": [
    {
     "name": "stdout",
     "output_type": "stream",
     "text": [
      "robavin@contoso.com\n",
      "sibright@contoso.com\n",
      "kisinclair@contoso.com\n",
      "aakamath@contoso.com\n",
      "sadelucchi@contoso.com\n",
      "siali@contoso.com\n",
      "viashton@hayworth.com\n",
      "codysart@hayworth.com\n",
      "shlawrence@hayworth.com\n",
      "davaldes@hayworth.com\n"
     ]
    }
   ],
   "source": [
    "// string[,] multi-dimensional array with strings\n",
    "\n",
    "string[,] corporate = \n",
    "{\n",
    "    {\"Robert\", \"Bavin\"}, {\"Simon\", \"Bright\"},\n",
    "    {\"Kim\", \"Sinclair\"}, {\"Aashrita\", \"Kamath\"},\n",
    "    {\"Sarah\", \"Delucchi\"}, {\"Sinan\", \"Ali\"}\n",
    "};\n",
    "\n",
    "string[,] external = \n",
    "{\n",
    "    {\"Vinnie\", \"Ashton\"}, {\"Cody\", \"Dysart\"},\n",
    "    {\"Shay\", \"Lawrence\"}, {\"Daren\", \"Valdes\"}\n",
    "};\n",
    "\n",
    "string externalDomain = \"hayworth.com\";\n",
    "string corporateDomain = \"contoso.com\";\n",
    "\n",
    "// method signature\n",
    "void getEmail (string[,] employeeNames, string domainName)\n",
    "{\n",
    "    for (int i = 0; i < employeeNames.GetLength(0); i++) \n",
    "    {\n",
    "        // display internal email addresses\n",
    "        char[] firstNameLetters = employeeNames[i,0].ToLower().ToCharArray();\n",
    "        string lastName = employeeNames[i,1].ToLower();\n",
    "        string emailName = $\"{firstNameLetters[0]}{firstNameLetters[1]}{lastName}\";\n",
    "        Console.WriteLine($\"{emailName}@{domainName}\");\n",
    "    }\n",
    "}\n",
    "\n",
    "// call method\n",
    "getEmail(corporate, corporateDomain);\n",
    "getEmail(external, externalDomain);\n"
   ]
  },
  {
   "cell_type": "code",
   "execution_count": 24,
   "metadata": {
    "dotnet_interactive": {
     "language": "csharp"
    },
    "polyglot_notebook": {
     "kernelName": "csharp"
    },
    "vscode": {
     "languageId": "polyglot-notebook"
    }
   },
   "outputs": [
    {
     "name": "stdout",
     "output_type": "stream",
     "text": [
      "robavin@contoso.com\n",
      "sibright@contoso.com\n",
      "kisinclair@contoso.com\n",
      "aakamath@contoso.com\n",
      "sadelucchi@contoso.com\n",
      "siali@contoso.com\n",
      "viashton@hayworth.com\n",
      "codysart@hayworth.com\n",
      "shlawrence@hayworth.com\n",
      "davaldes@hayworth.com\n"
     ]
    }
   ],
   "source": [
    "// string[,] multi-dimensional array with strings\n",
    "\n",
    "string[,] corporate = \n",
    "{\n",
    "    {\"Robert\", \"Bavin\"}, {\"Simon\", \"Bright\"},\n",
    "    {\"Kim\", \"Sinclair\"}, {\"Aashrita\", \"Kamath\"},\n",
    "    {\"Sarah\", \"Delucchi\"}, {\"Sinan\", \"Ali\"}\n",
    "};\n",
    "\n",
    "string[,] external = \n",
    "{\n",
    "    {\"Vinnie\", \"Ashton\"}, {\"Cody\", \"Dysart\"},\n",
    "    {\"Shay\", \"Lawrence\"}, {\"Daren\", \"Valdes\"}\n",
    "};\n",
    "\n",
    "string externalDomain = \"hayworth.com\";\n",
    "string corporateDomain = \"contoso.com\";\n",
    "\n",
    "// method signature\n",
    "void getEmail (string[,] employeeNames, string domainName)\n",
    "{\n",
    "    for (int i = 0; i < employeeNames.GetLength(0); i++) \n",
    "    {\n",
    "        // display internal email addresses\n",
    "        string firstNameLetters = employeeNames[i,0].ToLower().Substring(0,2); \n",
    "        //char[] firstNameLetters = employeeNames[i,0].ToLower().ToCharArray();\n",
    "        string lastName = employeeNames[i,1].ToLower();\n",
    "        string emailName = $\"{firstNameLetters[0]}{firstNameLetters[1]}{lastName}\";\n",
    "        Console.WriteLine($\"{emailName}@{domainName}\");\n",
    "    }\n",
    "}\n",
    "\n",
    "// call method\n",
    "getEmail(corporate, corporateDomain);\n",
    "getEmail(external, externalDomain);\n"
   ]
  },
  {
   "cell_type": "markdown",
   "metadata": {},
   "source": [
    "##### ***Display email addresses***"
   ]
  },
  {
   "cell_type": "markdown",
   "metadata": {},
   "source": [
    "**Solution**"
   ]
  },
  {
   "cell_type": "code",
   "execution_count": 25,
   "metadata": {
    "dotnet_interactive": {
     "language": "csharp"
    },
    "polyglot_notebook": {
     "kernelName": "csharp"
    },
    "vscode": {
     "languageId": "polyglot-notebook"
    }
   },
   "outputs": [
    {
     "name": "stdout",
     "output_type": "stream",
     "text": [
      "robavin@contoso.com\n",
      "sibright@contoso.com\n",
      "kisinclair@contoso.com\n",
      "aakamath@contoso.com\n",
      "sadelucchi@contoso.com\n",
      "siali@contoso.com\n",
      "viashton@hayworth.com\n",
      "codysart@hayworth.com\n",
      "shlawrence@hayworth.com\n",
      "davaldes@hayworth.com\n"
     ]
    }
   ],
   "source": [
    "// string[,] multi-dimensional array with strings\n",
    "\n",
    "string[,] corporate = \n",
    "{\n",
    "    {\"Robert\", \"Bavin\"}, {\"Simon\", \"Bright\"},\n",
    "    {\"Kim\", \"Sinclair\"}, {\"Aashrita\", \"Kamath\"},\n",
    "    {\"Sarah\", \"Delucchi\"}, {\"Sinan\", \"Ali\"}\n",
    "};\n",
    "\n",
    "string[,] external = \n",
    "{\n",
    "    {\"Vinnie\", \"Ashton\"}, {\"Cody\", \"Dysart\"},\n",
    "    {\"Shay\", \"Lawrence\"}, {\"Daren\", \"Valdes\"}\n",
    "};\n",
    "\n",
    "string externalDomain = \"hayworth.com\";\n",
    "string corporateDomain = \"contoso.com\";\n",
    "\n",
    "// method signature\n",
    "void getEmail (string[,] employeeNames, string domainName)\n",
    "{\n",
    "    for (int i = 0; i < employeeNames.GetLength(0); i++) \n",
    "    {\n",
    "        // display internal email addresses\n",
    "        string firstNameLetters = employeeNames[i,0].ToLower().Substring(0,2);\n",
    "        string lastName = employeeNames[i,1].ToLower();\n",
    "        string emailName = $\"{firstNameLetters[0]}{firstNameLetters[1]}{lastName}\";\n",
    "        Console.WriteLine($\"{emailName}@{domainName}\");\n",
    "    }\n",
    "}\n",
    "\n",
    "// call method\n",
    "getEmail(corporate, corporateDomain);\n",
    "getEmail(external, externalDomain);\n"
   ]
  },
  {
   "cell_type": "markdown",
   "metadata": {},
   "source": [
    "MS Learn Solution:"
   ]
  },
  {
   "cell_type": "code",
   "execution_count": 27,
   "metadata": {
    "dotnet_interactive": {
     "language": "csharp"
    },
    "polyglot_notebook": {
     "kernelName": "csharp"
    },
    "vscode": {
     "languageId": "polyglot-notebook"
    }
   },
   "outputs": [
    {
     "name": "stdout",
     "output_type": "stream",
     "text": [
      "robavin@contoso.com\n",
      "sibright@contoso.com\n",
      "kisinclair@contoso.com\n",
      "aakamath@contoso.com\n",
      "sadelucchi@contoso.com\n",
      "siali@contoso.com\n",
      "viashton@hayworth.com\n",
      "codysart@hayworth.com\n",
      "shlawrence@hayworth.com\n",
      "davaldes@hayworth.com\n"
     ]
    }
   ],
   "source": [
    "string[,] corporate = \n",
    "{\n",
    "    {\"Robert\", \"Bavin\"}, {\"Simon\", \"Bright\"},\n",
    "    {\"Kim\", \"Sinclair\"}, {\"Aashrita\", \"Kamath\"},\n",
    "    {\"Sarah\", \"Delucchi\"}, {\"Sinan\", \"Ali\"}};\n",
    "\n",
    "string[,] external = \n",
    "{\n",
    "    {\"Vinnie\", \"Ashton\"}, {\"Cody\", \"Dysart\"},\n",
    "    {\"Shay\", \"Lawrence\"}, {\"Daren\", \"Valdes\"}\n",
    "};\n",
    "\n",
    "string externalDomain = \"hayworth.com\";\n",
    "\n",
    "for (int i = 0; i < corporate.GetLength(0); i++) \n",
    "{\n",
    "    DisplayEmail(first: corporate[i,0], last: corporate[i,1]);\n",
    "}\n",
    "\n",
    "for (int i = 0; i < external.GetLength(0); i++) \n",
    "{\n",
    "    DisplayEmail(first: external[i,0], last: external[i,1], domain: externalDomain);\n",
    "}\n",
    "\n",
    "void DisplayEmail(string first, string last, string domain = \"contoso.com\") \n",
    "{\n",
    "    string email = first.Substring(0, 2) + last;\n",
    "    email = email.ToLower();\n",
    "    Console.WriteLine($\"{email}@{domain}\");\n",
    "}"
   ]
  },
  {
   "cell_type": "markdown",
   "metadata": {},
   "source": [
    "#### ❓ **Check Knowledge: parameters, arguments**"
   ]
  },
  {
   "cell_type": "markdown",
   "metadata": {},
   "source": [
    "1. Which of the following method signatures correctly defines 3 integer parameters? \n",
    "    * ❌ void Multiply(int a, b, c)\n",
    "    * ✔️ void Multiply(int a, int b, int c)\n",
    "    * ❌ void Multiply(int a; int b; int c)\n",
    "\n",
    "    <br>\n",
    "\n",
    "2. Given the method signature, `void Print(string name, string number = \"\", bool member = false)`, which of the following options correctly uses named and optional arguments? \n",
    "    * ✔️ `Print(\"Tony\", member: true);`\n",
    "    * ❌ `Print(number: \"555\", member: false)`\n",
    "    * ❌ `Print(\"Tony\", false)`\n",
    "\n",
    "    <br>\n",
    "\n",
    "3. Given the following method signature, `void SetHealth(string health)`, why don't operations inside the method affect the original input string health? \n",
    "    * ❌ The string data type is pass by value\n",
    "    * ❌ The method code must be incorrect\n",
    "    * ✔️ Strings can't be altered once assigned, they can only be overwritten with a new value.   "
   ]
  },
  {
   "cell_type": "code",
   "execution_count": 37,
   "metadata": {
    "dotnet_interactive": {
     "language": "csharp"
    },
    "polyglot_notebook": {
     "kernelName": "csharp"
    },
    "vscode": {
     "languageId": "polyglot-notebook"
    }
   },
   "outputs": [
    {
     "name": "stdout",
     "output_type": "stream",
     "text": [
      "Tony\r\n"
     ]
    }
   ],
   "source": [
    "void Print(string name, string number = \"\", bool member = false)\n",
    "{\n",
    "    Console.WriteLine(name, number, member);\n",
    "}\n",
    "\n",
    "Print(\"Tony\", member: true);\n",
    "// first param must be included. \n",
    "// the remaining can be included if named"
   ]
  },
  {
   "cell_type": "code",
   "execution_count": 38,
   "metadata": {
    "dotnet_interactive": {
     "language": "csharp"
    },
    "polyglot_notebook": {
     "kernelName": "csharp"
    },
    "vscode": {
     "languageId": "polyglot-notebook"
    }
   },
   "outputs": [
    {
     "ename": "Error",
     "evalue": "(1,1): error CS1501: No overload for method 'Print' takes 2 arguments",
     "output_type": "error",
     "traceback": [
      "(1,1): error CS1501: No overload for method 'Print' takes 2 arguments"
     ]
    }
   ],
   "source": [
    "Print(number: \"555\", member: false);"
   ]
  },
  {
   "cell_type": "code",
   "execution_count": 39,
   "metadata": {
    "dotnet_interactive": {
     "language": "csharp"
    },
    "polyglot_notebook": {
     "kernelName": "csharp"
    },
    "vscode": {
     "languageId": "polyglot-notebook"
    }
   },
   "outputs": [
    {
     "ename": "Error",
     "evalue": "(1,15): error CS1503: Argument 2: cannot convert from 'bool' to 'string'",
     "output_type": "error",
     "traceback": [
      "(1,15): error CS1503: Argument 2: cannot convert from 'bool' to 'string'"
     ]
    }
   ],
   "source": [
    "Print(\"Tony\", false);"
   ]
  },
  {
   "cell_type": "markdown",
   "metadata": {},
   "source": [
    "#### **Summary**"
   ]
  },
  {
   "cell_type": "markdown",
   "metadata": {},
   "source": [
    "* Your goal was to learn more about using parameters in methods and to understand method scope. \n",
    "* You learned about value and reference types and how data is affected inside of a method. \n",
    "* You also learned how to use named and optional arguments to extend your method's capabilities."
   ]
  },
  {
   "cell_type": "markdown",
   "metadata": {},
   "source": [
    "_________________________\n",
    "\n",
    "### [Create C# methods that return values](https://learn.microsoft.com/en-us/training/modules/create-c-sharp-methods-return-values/)\n",
    "\n",
    "_________________________"
   ]
  },
  {
   "cell_type": "markdown",
   "metadata": {},
   "source": [
    "####  ✔️ **Learning Objectives:**"
   ]
  },
  {
   "cell_type": "markdown",
   "metadata": {},
   "source": [
    "* Understand `return` types\n",
    "* Learn more about the `return` keyword\n",
    "* Learn more about capturing method `return` values"
   ]
  },
  {
   "cell_type": "markdown",
   "metadata": {},
   "source": [
    "##### ***Prerequisites***"
   ]
  },
  {
   "cell_type": "markdown",
   "metadata": {},
   "source": [
    "* Experience using C# data types including int, string, arrays, and 2D arrays\n",
    "* Experience using switch statements, if-else statements, and for-loops\n",
    "* Experience using the Random class to generate a random number.\n",
    "* Basic understanding of C# methods"
   ]
  },
  {
   "cell_type": "markdown",
   "metadata": {},
   "source": [
    "####  **Introduction:**"
   ]
  },
  {
   "cell_type": "markdown",
   "metadata": {},
   "source": [
    "* Methods can provide return values after performing their tasks. \n",
    "* By using parameters and return types together, you can create streamlined methods that receive input, perform a task, and provide output. \n",
    "* This format allows you to efficiently build functionality into your programs while maintaining clean, readable code.\n",
    "* Suppose you need to create an application that uses many methods to perform calculations on input values. \n",
    "* You need a way to retrieve the results of the calculations, and use those results throughout your program. \n",
    "* You can do this by creating methods with return values."
   ]
  },
  {
   "cell_type": "markdown",
   "metadata": {},
   "source": [
    "####  **Example:**"
   ]
  },
  {
   "cell_type": "code",
   "execution_count": null,
   "metadata": {
    "dotnet_interactive": {
     "language": "csharp"
    },
    "polyglot_notebook": {
     "kernelName": "csharp"
    },
    "vscode": {
     "languageId": "polyglot-notebook"
    }
   },
   "outputs": [],
   "source": [
    "void Update();\n",
    "\n",
    "int[] GetEnemyCoordinates(string enemyId);\n",
    "int[] GetDistanceFromHero(string enemyId);\n",
    "int[] GetHeroCoordinates();\n",
    "\n",
    "bool EnemyCanHitHero(string enemyId);\n",
    "int GetEnemyDamageOutput(string enemyId);\n",
    "void UpdateHeroHP(int damage);"
   ]
  },
  {
   "cell_type": "markdown",
   "metadata": {},
   "source": [
    "Consider a game where the player must fight enemies. The game contains some code that determines if a character was hit whenever an `Update()` method is called. The code might contain the following methods:\n",
    "\n",
    "Looking at the method signatures, you can imagine how the input and output of each method can be used across the program. The methods also allow make the game code more robust since each one has return values that can be used for different types of scenarios.\n",
    "\n",
    "Capturing return values from methods is incredibly useful for all sorts of applications. In this module, you'll learn more about method execution and working with method return types."
   ]
  },
  {
   "cell_type": "markdown",
   "metadata": {},
   "source": [
    "#### 🚀 **[Exercise - Understand return type syntax](https://learn.microsoft.com/en-us/training/modules/create-c-sharp-methods-return-values/2-exercise-understand-return-type-syntax)**"
   ]
  },
  {
   "cell_type": "markdown",
   "metadata": {},
   "source": [
    "##### ***Intro***"
   ]
  },
  {
   "cell_type": "markdown",
   "metadata": {},
   "source": [
    "* Methods can return a value by specifying the return data type, or void for no return value\n",
    "* The return keyword can be used with variables, literals, and expressions\n",
    "* The value returned from a method must match the specified return type\n",
    "* Data returned from methods can be captured and used by the caller of the method\n",
    "\n",
    "Methods can:\n",
    "* perform operations\n",
    "* return a value by including the return type in the method signature\n",
    "* return any data type, or they can return nothing at all --> return type must always be specified before the method name"
   ]
  },
  {
   "cell_type": "markdown",
   "metadata": {},
   "source": [
    "#####  **VOID - performs operation, doesn't return a value**"
   ]
  },
  {
   "cell_type": "code",
   "execution_count": 12,
   "metadata": {
    "dotnet_interactive": {
     "language": "csharp"
    },
    "polyglot_notebook": {
     "kernelName": "csharp"
    },
    "vscode": {
     "languageId": "polyglot-notebook"
    }
   },
   "outputs": [
    {
     "ename": "Error",
     "evalue": "(9,19): error CS1503: Argument 1: cannot convert from 'void' to 'bool'\r\n(4,5): error CS0127: Since 'PrintMessage(string)' returns void, a return keyword must not be followed by an object expression",
     "output_type": "error",
     "traceback": [
      "(9,19): error CS1503: Argument 1: cannot convert from 'void' to 'bool'\r\n",
      "(4,5): error CS0127: Since 'PrintMessage(string)' returns void, a return keyword must not be followed by an object expression"
     ]
    }
   ],
   "source": [
    "void PrintMessage(string message)\n",
    "{\n",
    "    string printMessage = $\"the message ={message}\";\n",
    "    return printMessage; // ends method\n",
    "}\n",
    "\n",
    "PrintMessage(\"banana\");\n",
    "\n",
    "Console.WriteLine(PrintMessage(\"banana\"));"
   ]
  },
  {
   "cell_type": "code",
   "execution_count": 14,
   "metadata": {
    "dotnet_interactive": {
     "language": "csharp"
    },
    "polyglot_notebook": {
     "kernelName": "csharp"
    },
    "vscode": {
     "languageId": "polyglot-notebook"
    }
   },
   "outputs": [
    {
     "ename": "Error",
     "evalue": "(9,19): error CS1503: Argument 1: cannot convert from 'void' to 'bool'",
     "output_type": "error",
     "traceback": [
      "(9,19): error CS1503: Argument 1: cannot convert from 'void' to 'bool'"
     ]
    }
   ],
   "source": [
    "void PrintMessage(string message)\n",
    "{\n",
    "    string printMessage = $\"the message ={message}\";\n",
    "    return; // ends method\n",
    "}\n",
    "\n",
    "PrintMessage(\"banana\");\n",
    "\n",
    "Console.WriteLine(PrintMessage(\"banana\"));"
   ]
  },
  {
   "cell_type": "code",
   "execution_count": 17,
   "metadata": {
    "dotnet_interactive": {
     "language": "csharp"
    },
    "polyglot_notebook": {
     "kernelName": "csharp"
    },
    "vscode": {
     "languageId": "polyglot-notebook"
    }
   },
   "outputs": [],
   "source": [
    "void PrintMessage(string message)\n",
    "{\n",
    "    string printMessage = $\"the message ={message}\";\n",
    "    return; // ends method\n",
    "}\n",
    "\n",
    "PrintMessage(\"banana\");\n",
    "\n",
    "// Console.WriteLine(PrintMessage(\"banana\"));"
   ]
  },
  {
   "cell_type": "markdown",
   "metadata": {},
   "source": [
    "#####  **Data Type - performs operatins, returns specified data type**"
   ]
  },
  {
   "cell_type": "code",
   "execution_count": 15,
   "metadata": {
    "dotnet_interactive": {
     "language": "csharp"
    },
    "polyglot_notebook": {
     "kernelName": "csharp"
    },
    "vscode": {
     "languageId": "polyglot-notebook"
    }
   },
   "outputs": [
    {
     "name": "stdout",
     "output_type": "stream",
     "text": [
      "the message =banana2\r\n"
     ]
    }
   ],
   "source": [
    "string PrintMessage2(string message)\n",
    "{\n",
    "    string printMessage = $\"the message ={message}\";\n",
    "    return printMessage; // ends method\n",
    "}\n",
    "// Return is used to terminate the method\n",
    "PrintMessage2(\"banana2\");\n",
    "\n",
    "Console.WriteLine(PrintMessage2(\"banana2\"));"
   ]
  },
  {
   "cell_type": "markdown",
   "metadata": {},
   "source": [
    "#####  **Use methods to calculate the total purchase price**"
   ]
  },
  {
   "cell_type": "markdown",
   "metadata": {},
   "source": [
    "* The Contoso Shopping Center is having a super sale! \n",
    "* Many items have discounted price. You're given a list of item prices and a list of corresponding discounts. \n",
    "* The discounts are represented by percentages, for example 50% = 0.5. \n",
    "* If a customer spends more than 30.00, they receive 5.00 of their total purchase. \n",
    "* In this task, you'll write code to calculate the customer's total. Let's get started!"
   ]
  },
  {
   "cell_type": "markdown",
   "metadata": {},
   "source": [
    "**1. Starter Code**"
   ]
  },
  {
   "cell_type": "code",
   "execution_count": 18,
   "metadata": {
    "dotnet_interactive": {
     "language": "csharp"
    },
    "polyglot_notebook": {
     "kernelName": "csharp"
    },
    "vscode": {
     "languageId": "polyglot-notebook"
    }
   },
   "outputs": [
    {
     "name": "stdout",
     "output_type": "stream",
     "text": [
      "Total: $0\r\n"
     ]
    }
   ],
   "source": [
    "double total = 0;\n",
    "double minimumSpend = 30.00;\n",
    "\n",
    "double[] items = {15.97, 3.50, 12.25, 22.99, 10.98};\n",
    "double[] discounts = {0.30, 0.00, 0.10, 0.20, 0.50};\n",
    "\n",
    "Console.WriteLine($\"Total: ${total}\");\n",
    "\n",
    "void GetDiscountedPrice(int itemIndex)\n",
    "{\n",
    "    // Calculate the discounted price of the item\n",
    "}\n",
    " \n",
    "void TotalMeetsMinimum()\n",
    "{\n",
    "    // Check if the total meets the minimum\n",
    "}\n",
    "\n",
    "void FormatDecimal(double input)\n",
    "{\n",
    "    // Format the double so only 2 decimal places are displayed\n",
    "}"
   ]
  },
  {
   "cell_type": "markdown",
   "metadata": {},
   "source": [
    "**2. Change the `GetDiscountPrice` Method to `return` a double:**"
   ]
  },
  {
   "cell_type": "code",
   "execution_count": 21,
   "metadata": {
    "dotnet_interactive": {
     "language": "csharp"
    },
    "polyglot_notebook": {
     "kernelName": "csharp"
    },
    "vscode": {
     "languageId": "polyglot-notebook"
    }
   },
   "outputs": [
    {
     "name": "stdout",
     "output_type": "stream",
     "text": [
      "Total: $0\r\n"
     ]
    }
   ],
   "source": [
    "double total = 0;\n",
    "double minimumSpend = 30.00;\n",
    "\n",
    "double[] items = {15.97, 3.50, 12.25, 22.99, 10.98};\n",
    "double[] discounts = {0.30, 0.00, 0.10, 0.20, 0.50};\n",
    "\n",
    "Console.WriteLine($\"Total: ${total}\");\n",
    "\n",
    "// void GetDiscountedPrice(int itemIndex)\n",
    "double GetDiscountedPrice(int itemIndex)\n",
    "{\n",
    "    /**\n",
    "    This function calculates the discounted price of the item at itemIndex and then return the result. \n",
    "    However, the return keyword isn't limited to returning variables or literal values. \n",
    "    Let's skip the variable and return the expression instead.\n",
    "    **/\n",
    "\n",
    "    // Calculate the discounted price of the item\n",
    "    double result = items[itemIndex] * (1 - discounts[itemIndex]);\n",
    "    return result; // must match the data type in the signature (double)\n",
    "}\n",
    " \n",
    "void TotalMeetsMinimum()\n",
    "{\n",
    "    // Check if the total meets the minimum\n",
    "}\n",
    "\n",
    "void FormatDecimal(double input)\n",
    "{\n",
    "    // Format the double so only 2 decimal places are displayed\n",
    "}"
   ]
  },
  {
   "cell_type": "markdown",
   "metadata": {},
   "source": [
    "**3. Return the expression, not the variable**"
   ]
  },
  {
   "cell_type": "code",
   "execution_count": 22,
   "metadata": {
    "dotnet_interactive": {
     "language": "csharp"
    },
    "polyglot_notebook": {
     "kernelName": "csharp"
    },
    "vscode": {
     "languageId": "polyglot-notebook"
    }
   },
   "outputs": [
    {
     "name": "stdout",
     "output_type": "stream",
     "text": [
      "Total: $0\r\n"
     ]
    }
   ],
   "source": [
    "double total = 0;\n",
    "double minimumSpend = 30.00;\n",
    "\n",
    "double[] items = {15.97, 3.50, 12.25, 22.99, 10.98};\n",
    "double[] discounts = {0.30, 0.00, 0.10, 0.20, 0.50};\n",
    "\n",
    "Console.WriteLine($\"Total: ${total}\");\n",
    "\n",
    "// void GetDiscountedPrice(int itemIndex)\n",
    "double GetDiscountedPrice(int itemIndex)\n",
    "{\n",
    "    /**\n",
    "    This function calculates the discounted price of the item at itemIndex and then return the result. \n",
    "    However, the return keyword isn't limited to returning variables or literal values. \n",
    "    Let's skip the variable and return the expression instead.\n",
    "    **/\n",
    "\n",
    "    // Calculate the discounted price of the item\n",
    "    return items[itemIndex] * (1 - discounts[itemIndex]);\n",
    "    //  evaluates to a double value, this return statement is valid.\n",
    "}\n",
    " \n",
    "void TotalMeetsMinimum()\n",
    "{\n",
    "    // Check if the total meets the minimum\n",
    "}\n",
    "\n",
    "void FormatDecimal(double input)\n",
    "{\n",
    "    // Format the double so only 2 decimal places are displayed\n",
    "}"
   ]
  },
  {
   "cell_type": "markdown",
   "metadata": {},
   "source": [
    "**4. Change the `TotalMeetsMinimum` method to return a `bool`**"
   ]
  },
  {
   "cell_type": "code",
   "execution_count": 23,
   "metadata": {
    "dotnet_interactive": {
     "language": "csharp"
    },
    "polyglot_notebook": {
     "kernelName": "csharp"
    },
    "vscode": {
     "languageId": "polyglot-notebook"
    }
   },
   "outputs": [
    {
     "name": "stdout",
     "output_type": "stream",
     "text": [
      "Total: $0\r\n"
     ]
    }
   ],
   "source": [
    "double total = 0;\n",
    "double minimumSpend = 30.00;\n",
    "\n",
    "double[] items = {15.97, 3.50, 12.25, 22.99, 10.98};\n",
    "double[] discounts = {0.30, 0.00, 0.10, 0.20, 0.50};\n",
    "\n",
    "Console.WriteLine($\"Total: ${total}\");\n",
    "\n",
    "// void GetDiscountedPrice(int itemIndex)\n",
    "double GetDiscountedPrice(int itemIndex)\n",
    "{\n",
    "    /**\n",
    "    This function calculates the discounted price of the item at itemIndex and then return the result. \n",
    "    However, the return keyword isn't limited to returning variables or literal values. \n",
    "    Let's skip the variable and return the expression instead.\n",
    "    **/\n",
    "\n",
    "    // Calculate the discounted price of the item\n",
    "    return items[itemIndex] * (1 - discounts[itemIndex]);\n",
    "    //  evaluates to a double value, this return statement is valid.\n",
    "}\n",
    " \n",
    "// void TotalMeetsMinimum()\n",
    "bool TotalMeetsMinimum()\n",
    "{\n",
    "    // Check if the total meets the minimum\n",
    "    return total >= minimumSpend; // <-- need to initialise\n",
    "    // evaluates to true or false = bool = valid\n",
    "}\n",
    "\n",
    "void FormatDecimal(double input)\n",
    "{\n",
    "    // Format the double so only 2 decimal places are displayed\n",
    "}"
   ]
  },
  {
   "cell_type": "markdown",
   "metadata": {},
   "source": [
    "**5. Change the `FormatDecimal` method to return a `string`**"
   ]
  },
  {
   "cell_type": "code",
   "execution_count": 24,
   "metadata": {
    "dotnet_interactive": {
     "language": "csharp"
    },
    "polyglot_notebook": {
     "kernelName": "csharp"
    },
    "vscode": {
     "languageId": "polyglot-notebook"
    }
   },
   "outputs": [
    {
     "name": "stdout",
     "output_type": "stream",
     "text": [
      "Total: $0\r\n"
     ]
    }
   ],
   "source": [
    "double total = 0;\n",
    "double minimumSpend = 30.00;\n",
    "\n",
    "double[] items = {15.97, 3.50, 12.25, 22.99, 10.98};\n",
    "double[] discounts = {0.30, 0.00, 0.10, 0.20, 0.50};\n",
    "\n",
    "Console.WriteLine($\"Total: ${total}\");\n",
    "\n",
    "// void GetDiscountedPrice(int itemIndex)\n",
    "double GetDiscountedPrice(int itemIndex)\n",
    "{\n",
    "    /**\n",
    "    This function calculates the discounted price of the item at itemIndex and then return the result. \n",
    "    However, the return keyword isn't limited to returning variables or literal values. \n",
    "    Let's skip the variable and return the expression instead.\n",
    "    **/\n",
    "\n",
    "    // Calculate the discounted price of the item\n",
    "    return items[itemIndex] * (1 - discounts[itemIndex]);\n",
    "    //  evaluates to a double value, this return statement is valid.\n",
    "}\n",
    " \n",
    "// void TotalMeetsMinimum()\n",
    "bool TotalMeetsMinimum()\n",
    "{\n",
    "    // Check if the total meets the minimum\n",
    "    return total >= minimumSpend; // <-- need to initialise\n",
    "    // evaluates to true or false = bool = valid\n",
    "}\n",
    "\n",
    "// void FormatDecimal(double input)\n",
    "string FormatDecimal(double input)\n",
    "{\n",
    "    // Format the double so only 2 decimal places are displayed\n",
    "    return input.ToString().Substring(0,5);\n",
    "    // 1 - calls input.ToString and evaluates\n",
    "    // 2 - returns the substring of the answer of 1\n",
    "}"
   ]
  },
  {
   "cell_type": "markdown",
   "metadata": {},
   "source": [
    "#####  **Capture the return values**"
   ]
  },
  {
   "cell_type": "markdown",
   "metadata": {},
   "source": [
    "* Now that your methods return values, you can capture these values and use them in the rest of your code.\n",
    "* Using results returned from methods is a great way to keep your code structured and easy to read. Let's practice!"
   ]
  },
  {
   "cell_type": "markdown",
   "metadata": {},
   "source": [
    "**1. Use and print the return values from methods**"
   ]
  },
  {
   "cell_type": "code",
   "execution_count": 26,
   "metadata": {
    "dotnet_interactive": {
     "language": "csharp"
    },
    "polyglot_notebook": {
     "kernelName": "csharp"
    },
    "vscode": {
     "languageId": "polyglot-notebook"
    }
   },
   "outputs": [
    {
     "name": "stdout",
     "output_type": "stream",
     "text": [
      "Total: $49.586000000000006\r\n"
     ]
    }
   ],
   "source": [
    "double total = 0;\n",
    "double minimumSpend = 30.00;\n",
    "\n",
    "double[] items = {15.97, 3.50, 12.25, 22.99, 10.98};\n",
    "double[] discounts = {0.30, 0.00, 0.10, 0.20, 0.50};\n",
    "\n",
    "// get the sum of all discounted item prices\n",
    "for (int i = 0; i < items.Length; i++)\n",
    "{\n",
    "    total += GetDiscountedPrice(i);\n",
    "    // call the GetDiscountedPrice method with the argument being the loop / iteration number\n",
    "    // use this to add to the total - which will be printed below\n",
    "}\n",
    "\n",
    "Console.WriteLine($\"Total: ${total}\");\n",
    "\n",
    "// void GetDiscountedPrice(int itemIndex)\n",
    "double GetDiscountedPrice(int itemIndex)\n",
    "{\n",
    "    /**\n",
    "    This function calculates the discounted price of the item at itemIndex and then return the result. \n",
    "    However, the return keyword isn't limited to returning variables or literal values. \n",
    "    Let's skip the variable and return the expression instead.\n",
    "    **/\n",
    "\n",
    "    // Calculate the discounted price of the item\n",
    "    return items[itemIndex] * (1 - discounts[itemIndex]);\n",
    "    //  evaluates to a double value, this return statement is valid.\n",
    "}\n",
    " \n",
    "// void TotalMeetsMinimum()\n",
    "bool TotalMeetsMinimum()\n",
    "{\n",
    "    // Check if the total meets the minimum\n",
    "    return total >= minimumSpend; // <-- need to initialise\n",
    "    // evaluates to true or false = bool = valid\n",
    "}\n",
    "\n",
    "// void FormatDecimal(double input)\n",
    "string FormatDecimal(double input)\n",
    "{\n",
    "    // Format the double so only 2 decimal places are displayed\n",
    "    return input.ToString().Substring(0,5);\n",
    "    // 1 - calls input.ToString and evaluates\n",
    "    // 2 - returns the substring of the answer of 1\n",
    "}"
   ]
  },
  {
   "cell_type": "markdown",
   "metadata": {},
   "source": [
    "**2. Call bool method `TotalMeetsMinimum` in if statement to use for true/false**"
   ]
  },
  {
   "cell_type": "code",
   "execution_count": null,
   "metadata": {
    "dotnet_interactive": {
     "language": "csharp"
    },
    "polyglot_notebook": {
     "kernelName": "csharp"
    },
    "vscode": {
     "languageId": "polyglot-notebook"
    }
   },
   "outputs": [],
   "source": [
    "double total = 0;\n",
    "double minimumSpend = 30.00;\n",
    "\n",
    "double[] items = {15.97, 3.50, 12.25, 22.99, 10.98};\n",
    "double[] discounts = {0.30, 0.00, 0.10, 0.20, 0.50};\n",
    "\n",
    "// get the sum of all discounted item prices\n",
    "for (int i = 0; i < items.Length; i++)\n",
    "{\n",
    "    total += GetDiscountedPrice(i);\n",
    "    // call the GetDiscountedPrice method with the argument being the loop / iteration number\n",
    "    // use this to add to the total - which will be printed below\n",
    "}\n",
    "\n",
    "// check if TotalMeetsMinimum\n",
    "if (TotalMeetsMinimum())\n",
    "{\n",
    "    total -= 5.00;\n",
    "}\n",
    "\n",
    "Console.WriteLine($\"Total: ${total}\");\n",
    "\n",
    "// void GetDiscountedPrice(int itemIndex)\n",
    "double GetDiscountedPrice(int itemIndex)\n",
    "{\n",
    "    /**\n",
    "    This function calculates the discounted price of the item at itemIndex and then return the result. \n",
    "    However, the return keyword isn't limited to returning variables or literal values. \n",
    "    Let's skip the variable and return the expression instead.\n",
    "    **/\n",
    "\n",
    "    // Calculate the discounted price of the item\n",
    "    return items[itemIndex] * (1 - discounts[itemIndex]);\n",
    "    //  evaluates to a double value, this return statement is valid.\n",
    "}\n",
    " \n",
    "// void TotalMeetsMinimum()\n",
    "bool TotalMeetsMinimum()\n",
    "{\n",
    "    // Check if the total meets the minimum\n",
    "    return total >= minimumSpend; // <-- need to initialise\n",
    "    // evaluates to true or false = bool = valid\n",
    "}\n",
    "\n",
    "// void FormatDecimal(double input)\n",
    "string FormatDecimal(double input)\n",
    "{\n",
    "    // Format the double so only 2 decimal places are displayed\n",
    "    return input.ToString().Substring(0,5);\n",
    "    // 1 - calls input.ToString and evaluates\n",
    "    // 2 - returns the substring of the answer of 1\n",
    "}"
   ]
  },
  {
   "cell_type": "markdown",
   "metadata": {},
   "source": [
    "**3. ALTERNATIVE: use a ternary expression instead of if statement**"
   ]
  },
  {
   "cell_type": "code",
   "execution_count": 27,
   "metadata": {
    "dotnet_interactive": {
     "language": "csharp"
    },
    "polyglot_notebook": {
     "kernelName": "csharp"
    },
    "vscode": {
     "languageId": "polyglot-notebook"
    }
   },
   "outputs": [
    {
     "name": "stdout",
     "output_type": "stream",
     "text": [
      "Total: $44.586000000000006\r\n"
     ]
    }
   ],
   "source": [
    "double total = 0;\n",
    "double minimumSpend = 30.00;\n",
    "\n",
    "double[] items = {15.97, 3.50, 12.25, 22.99, 10.98};\n",
    "double[] discounts = {0.30, 0.00, 0.10, 0.20, 0.50};\n",
    "\n",
    "// get the sum of all discounted item prices\n",
    "for (int i = 0; i < items.Length; i++)\n",
    "{\n",
    "    total += GetDiscountedPrice(i);\n",
    "    // call the GetDiscountedPrice method with the argument being the loop / iteration number\n",
    "    // use this to add to the total - which will be printed below\n",
    "}\n",
    "\n",
    "// check if TotalMeetsMinimum\n",
    "// if (TotalMeetsMinimum())\n",
    "// {\n",
    "//     total -= 5.00;\n",
    "// }\n",
    "\n",
    "// ternary expression alternative\n",
    "total -= TotalMeetsMinimum() ? 5.00 : 0.00;\n",
    "// if true, total -= 5.00, else total -= 0.00\n",
    "\n",
    "Console.WriteLine($\"Total: ${total}\");\n",
    "\n",
    "// void GetDiscountedPrice(int itemIndex)\n",
    "double GetDiscountedPrice(int itemIndex)\n",
    "{\n",
    "    /**\n",
    "    This function calculates the discounted price of the item at itemIndex and then return the result. \n",
    "    However, the return keyword isn't limited to returning variables or literal values. \n",
    "    Let's skip the variable and return the expression instead.\n",
    "    **/\n",
    "\n",
    "    // Calculate the discounted price of the item\n",
    "    return items[itemIndex] * (1 - discounts[itemIndex]);\n",
    "    //  evaluates to a double value, this return statement is valid.\n",
    "}\n",
    " \n",
    "// void TotalMeetsMinimum()\n",
    "bool TotalMeetsMinimum()\n",
    "{\n",
    "    // Check if the total meets the minimum\n",
    "    return total >= minimumSpend; // <-- need to initialise\n",
    "    // evaluates to true or false = bool = valid\n",
    "}\n",
    "\n",
    "// void FormatDecimal(double input)\n",
    "string FormatDecimal(double input)\n",
    "{\n",
    "    // Format the double so only 2 decimal places are displayed\n",
    "    return input.ToString().Substring(0,5);\n",
    "    // 1 - calls input.ToString and evaluates\n",
    "    // 2 - returns the substring of the answer of 1\n",
    "}"
   ]
  },
  {
   "cell_type": "markdown",
   "metadata": {},
   "source": [
    "**4. Format the total using a method**"
   ]
  },
  {
   "cell_type": "code",
   "execution_count": 28,
   "metadata": {
    "dotnet_interactive": {
     "language": "csharp"
    },
    "polyglot_notebook": {
     "kernelName": "csharp"
    },
    "vscode": {
     "languageId": "polyglot-notebook"
    }
   },
   "outputs": [
    {
     "name": "stdout",
     "output_type": "stream",
     "text": [
      "Total: $44.58\r\n"
     ]
    }
   ],
   "source": [
    "double total = 0;\n",
    "double minimumSpend = 30.00;\n",
    "\n",
    "double[] items = {15.97, 3.50, 12.25, 22.99, 10.98};\n",
    "double[] discounts = {0.30, 0.00, 0.10, 0.20, 0.50};\n",
    "\n",
    "// get the sum of all discounted item prices\n",
    "for (int i = 0; i < items.Length; i++)\n",
    "{\n",
    "    total += GetDiscountedPrice(i);\n",
    "    // call the GetDiscountedPrice method with the argument being the loop / iteration number\n",
    "    // use this to add to the total - which will be printed below\n",
    "}\n",
    "\n",
    "// check if TotalMeetsMinimum\n",
    "// if (TotalMeetsMinimum())\n",
    "// {\n",
    "//     total -= 5.00;\n",
    "// }\n",
    "\n",
    "// ternary expression alternative\n",
    "total -= TotalMeetsMinimum() ? 5.00 : 0.00;\n",
    "// if true, total -= 5.00, else total -= 0.00\n",
    "\n",
    "// format the total using FormatDecimal method\n",
    "// Console.WriteLine($\"Total: ${total}\");\n",
    "Console.WriteLine($\"Total: ${FormatDecimal(total)}\");\n",
    "\n",
    "// void GetDiscountedPrice(int itemIndex)\n",
    "double GetDiscountedPrice(int itemIndex)\n",
    "{\n",
    "    /**\n",
    "    This function calculates the discounted price of the item at itemIndex and then return the result. \n",
    "    However, the return keyword isn't limited to returning variables or literal values. \n",
    "    Let's skip the variable and return the expression instead.\n",
    "    **/\n",
    "\n",
    "    // Calculate the discounted price of the item\n",
    "    return items[itemIndex] * (1 - discounts[itemIndex]);\n",
    "    //  evaluates to a double value, this return statement is valid.\n",
    "}\n",
    " \n",
    "// void TotalMeetsMinimum()\n",
    "bool TotalMeetsMinimum()\n",
    "{\n",
    "    // Check if the total meets the minimum\n",
    "    return total >= minimumSpend; // <-- need to initialise\n",
    "    // evaluates to true or false = bool = valid\n",
    "}\n",
    "\n",
    "// void FormatDecimal(double input)\n",
    "string FormatDecimal(double input)\n",
    "{\n",
    "    // Format the double so only 2 decimal places are displayed\n",
    "    return input.ToString().Substring(0,5);\n",
    "    // 1 - calls input.ToString and evaluates\n",
    "    // 2 - returns the substring of the answer of 1\n",
    "}"
   ]
  },
  {
   "cell_type": "markdown",
   "metadata": {},
   "source": [
    "#### 🚀 **[Exercise - Return numbers from methods](https://learn.microsoft.com/en-us/training/modules/create-c-sharp-methods-return-values/3-exercise-create-methods-return-numbers)**"
   ]
  },
  {
   "cell_type": "markdown",
   "metadata": {},
   "source": [
    "##### ***Intro***"
   ]
  },
  {
   "cell_type": "markdown",
   "metadata": {},
   "source": [
    "You may often need to return numbers from methods and use the results for other tasks. <br>\n",
    "In this brief exercise, you'll practice returning int and double data types, and capturing the return values."
   ]
  },
  {
   "cell_type": "markdown",
   "metadata": {},
   "source": [
    "#####  **Create a method that returns an integer**"
   ]
  },
  {
   "cell_type": "markdown",
   "metadata": {},
   "source": [
    "* Suppose you're visiting Vietnam and want to create a brief program that converts currency. \n",
    "* You can assume the current exchange rate is 1 USD = 23500 VND.\n",
    "* In this task, you'll write a method that converts USD to VND."
   ]
  },
  {
   "cell_type": "markdown",
   "metadata": {},
   "source": [
    "**1. intialise variables, create a method signature, print the values**"
   ]
  },
  {
   "cell_type": "code",
   "execution_count": 32,
   "metadata": {
    "dotnet_interactive": {
     "language": "csharp"
    },
    "polyglot_notebook": {
     "kernelName": "csharp"
    },
    "vscode": {
     "languageId": "polyglot-notebook"
    }
   },
   "outputs": [
    {
     "name": "stdout",
     "output_type": "stream",
     "text": [
      "$23.73 USD = $0 VND\r\n"
     ]
    }
   ],
   "source": [
    "double usd = 23.73;\n",
    "int vnd = UsdToVnd(usd);\n",
    "\n",
    "Console.WriteLine($\"${usd} USD = ${vnd} VND\");\n",
    "\n",
    "int UsdToVnd(double usd)\n",
    "{\n",
    "    return 0; // dummy\n",
    "}"
   ]
  },
  {
   "cell_type": "markdown",
   "metadata": {},
   "source": [
    "**2. add the conversion code**"
   ]
  },
  {
   "cell_type": "code",
   "execution_count": 38,
   "metadata": {
    "dotnet_interactive": {
     "language": "csharp"
    },
    "polyglot_notebook": {
     "kernelName": "csharp"
    },
    "vscode": {
     "languageId": "polyglot-notebook"
    }
   },
   "outputs": [
    {
     "ename": "Error",
     "evalue": "(9,13): error CS0266: Cannot implicitly convert type 'double' to 'int'. An explicit conversion exists (are you missing a cast?)",
     "output_type": "error",
     "traceback": [
      "(9,13): error CS0266: Cannot implicitly convert type 'double' to 'int'. An explicit conversion exists (are you missing a cast?)"
     ]
    }
   ],
   "source": [
    "double usd = 23.73;\n",
    "int vnd = UsdToVnd(usd);\n",
    "\n",
    "Console.WriteLine($\"${usd} USD = ${vnd} VND\");\n",
    "\n",
    "int UsdToVnd(double usd)\n",
    "{\n",
    "    int rate = 23500;\n",
    "    return (rate * usd);\n",
    "    // cannot convert double to int (double > int = data loss)\n",
    "    // need to match int\n",
    "}"
   ]
  },
  {
   "cell_type": "code",
   "execution_count": 36,
   "metadata": {
    "dotnet_interactive": {
     "language": "csharp"
    },
    "polyglot_notebook": {
     "kernelName": "csharp"
    },
    "vscode": {
     "languageId": "polyglot-notebook"
    }
   },
   "outputs": [
    {
     "name": "stdout",
     "output_type": "stream",
     "text": [
      "$23.73 USD = $557655 VND\r\n"
     ]
    }
   ],
   "source": [
    "double usd = 23.73;\n",
    "int vnd = UsdToVnd(usd);\n",
    "\n",
    "Console.WriteLine($\"${usd} USD = ${vnd} VND\");\n",
    "\n",
    "int UsdToVnd(double usd)\n",
    "{\n",
    "    int rate = 23500;\n",
    "    return (int) (rate * usd);\n",
    "}"
   ]
  },
  {
   "cell_type": "markdown",
   "metadata": {},
   "source": [
    "#####  **Create a method that returns a double**"
   ]
  },
  {
   "cell_type": "markdown",
   "metadata": {},
   "source": [
    "**1. create method signature**"
   ]
  },
  {
   "cell_type": "code",
   "execution_count": 42,
   "metadata": {
    "dotnet_interactive": {
     "language": "csharp"
    },
    "polyglot_notebook": {
     "kernelName": "csharp"
    },
    "vscode": {
     "languageId": "polyglot-notebook"
    }
   },
   "outputs": [
    {
     "name": "stdout",
     "output_type": "stream",
     "text": [
      "$23.73 USD = $557655 VND\r\n"
     ]
    }
   ],
   "source": [
    "double usd = 23.73;\n",
    "int vnd = UsdToVnd(usd);\n",
    "\n",
    "Console.WriteLine($\"${usd} USD = ${vnd} VND\");\n",
    "\n",
    "int UsdToVnd(double usd)\n",
    "{\n",
    "    int rate = 23500;\n",
    "    return (int) (rate * usd);\n",
    "}\n",
    "\n",
    "// convert back to USD\n",
    "\n",
    "double VndToUsd(int vnd)\n",
    "{\n",
    "    return 0.00; // dummy\n",
    "}"
   ]
  },
  {
   "cell_type": "markdown",
   "metadata": {},
   "source": [
    "**2. add conversion to method**"
   ]
  },
  {
   "cell_type": "code",
   "execution_count": 48,
   "metadata": {
    "dotnet_interactive": {
     "language": "csharp"
    },
    "polyglot_notebook": {
     "kernelName": "csharp"
    },
    "vscode": {
     "languageId": "polyglot-notebook"
    }
   },
   "outputs": [
    {
     "name": "stdout",
     "output_type": "stream",
     "text": [
      "$23.73 USD = $557655 VND\r\n"
     ]
    }
   ],
   "source": [
    "double usd = 23.73;\n",
    "int vnd = UsdToVnd(usd);\n",
    "\n",
    "Console.WriteLine($\"${usd} USD = ${vnd} VND\");\n",
    "\n",
    "int UsdToVnd(double usd)\n",
    "{\n",
    "    int rate = 23500;\n",
    "    return (int) (rate * usd);\n",
    "}\n",
    "\n",
    "// convert back to USD\n",
    "\n",
    "double VndToUsd(int vnd)\n",
    "{\n",
    "    double rate = 23500; // alt - cast as double\n",
    "    return vnd / rate;\n",
    "}"
   ]
  },
  {
   "cell_type": "code",
   "execution_count": 46,
   "metadata": {
    "dotnet_interactive": {
     "language": "csharp"
    },
    "polyglot_notebook": {
     "kernelName": "csharp"
    },
    "vscode": {
     "languageId": "polyglot-notebook"
    }
   },
   "outputs": [
    {
     "name": "stdout",
     "output_type": "stream",
     "text": [
      "$23.73 USD = $557655 VND\r\n"
     ]
    }
   ],
   "source": [
    "double usd = 23.73;\n",
    "int vnd = UsdToVnd(usd);\n",
    "\n",
    "Console.WriteLine($\"${usd} USD = ${vnd} VND\");\n",
    "\n",
    "int UsdToVnd(double usd)\n",
    "{\n",
    "    int rate = 23500;\n",
    "    return (int) (rate * usd);\n",
    "}\n",
    "\n",
    "// convert back to USD\n",
    "\n",
    "double VndToUsd(int vnd)\n",
    "{\n",
    "    int rate = 23500;\n",
    "    return vnd / rate; \n",
    "    // implicitly casts int result as double data type (from signature)\n",
    "}"
   ]
  },
  {
   "cell_type": "markdown",
   "metadata": {},
   "source": [
    "**3. Check and Return data**"
   ]
  },
  {
   "cell_type": "code",
   "execution_count": 52,
   "metadata": {
    "dotnet_interactive": {
     "language": "csharp"
    },
    "polyglot_notebook": {
     "kernelName": "csharp"
    },
    "vscode": {
     "languageId": "polyglot-notebook"
    }
   },
   "outputs": [
    {
     "name": "stdout",
     "output_type": "stream",
     "text": [
      "$23.73 USD = $557655 VND\n",
      "$557655 VND = $23 USD\n"
     ]
    }
   ],
   "source": [
    "double usd = 23.73;\n",
    "int vnd = UsdToVnd(usd);\n",
    "\n",
    "Console.WriteLine($\"${usd} USD = ${vnd} VND\");\n",
    "Console.WriteLine($\"${vnd} VND = ${VndToUsd(vnd)} USD\");\n",
    "// truncates result -- >  need to cast in next solution\n",
    "\n",
    "\n",
    "int UsdToVnd(double usd)\n",
    "{\n",
    "    int rate = 23500;\n",
    "    return (int) (rate * usd);\n",
    "}\n",
    "\n",
    "// convert back to USD\n",
    "\n",
    "double VndToUsd(int vnd)\n",
    "{\n",
    "    int rate = 23500;\n",
    "    return vnd / rate; \n",
    "    // implicitly casts int result as double data type (from signature)\n",
    "}"
   ]
  },
  {
   "cell_type": "code",
   "execution_count": 50,
   "metadata": {
    "dotnet_interactive": {
     "language": "csharp"
    },
    "polyglot_notebook": {
     "kernelName": "csharp"
    },
    "vscode": {
     "languageId": "polyglot-notebook"
    }
   },
   "outputs": [
    {
     "name": "stdout",
     "output_type": "stream",
     "text": [
      "$23.73 USD = $557655 VND\n",
      "$557655 VND = $23.73 USD\n"
     ]
    }
   ],
   "source": [
    "double usd = 23.73;\n",
    "int vnd = UsdToVnd(usd);\n",
    "\n",
    "Console.WriteLine($\"${usd} USD = ${vnd} VND\");\n",
    "Console.WriteLine($\"${vnd} VND = ${VndToUsd(vnd)} USD\");\n",
    "\n",
    "int UsdToVnd(double usd)\n",
    "{\n",
    "    int rate = 23500;\n",
    "    return (int) (rate * usd);\n",
    "}\n",
    "\n",
    "// convert back to USD\n",
    "\n",
    "double VndToUsd(int vnd)\n",
    "{\n",
    "    double rate = 23500;\n",
    "    return vnd / rate; \n",
    "    // implicitly casts int result as double data type (from signature)\n",
    "}"
   ]
  },
  {
   "cell_type": "markdown",
   "metadata": {},
   "source": [
    "#### ❓ **Check Knowledge: `return`**"
   ]
  },
  {
   "cell_type": "markdown",
   "metadata": {},
   "source": [
    "1. What data type is returned from the following statement: return 100 * 0.5; \n",
    "    * ❌ `int`\n",
    "    * ❌ `decimal`\n",
    "    * ✔️ `double`\n",
    "\n",
    "    <br>\n",
    "\n",
    "2. Which type of method doesn't need to include a return statement? \n",
    "    * ❌ `string` methods\n",
    "    * ✔️ `void` methods\n",
    "    * ❌ array methods"
   ]
  },
  {
   "cell_type": "markdown",
   "metadata": {},
   "source": [
    "#### 🚀 **[Exercise - Return strings from methods](https://learn.microsoft.com/en-us/training/modules/create-c-sharp-methods-return-values/4-exercise-create-methods-return-strings)**"
   ]
  },
  {
   "cell_type": "markdown",
   "metadata": {},
   "source": [
    "* You may often find that you need to write a method that returns a string. \n",
    "* For example, you may want to retrieve a string from a set of data or modify a string in some way. \n",
    "* In this exercise, you'll gain some experience working with strings in methods while practicing a common interview question."
   ]
  },
  {
   "cell_type": "markdown",
   "metadata": {},
   "source": [
    "##### ***Create a method that returns a string***"
   ]
  },
  {
   "cell_type": "markdown",
   "metadata": {},
   "source": [
    "Suppose you're a candidate in a coding interview. The interviewer asks you to: \n",
    "* write a method to reverse a string without using string.Reverse. \n",
    "* Take a moment to think about how you might accomplish this task.\n",
    "* You might have decided that you can reverse a string by iterating from the end of the string. \n",
    "* You can use a temporary string to store each letter from end to beginning. Let's get started!"
   ]
  },
  {
   "cell_type": "markdown",
   "metadata": {},
   "source": [
    "**1. Create method signature using string**"
   ]
  },
  {
   "cell_type": "code",
   "execution_count": 53,
   "metadata": {
    "dotnet_interactive": {
     "language": "csharp"
    },
    "polyglot_notebook": {
     "kernelName": "csharp"
    },
    "vscode": {
     "languageId": "polyglot-notebook"
    }
   },
   "outputs": [],
   "source": [
    "string ReverseWord(string word) \n",
    "{\n",
    "    string result = \"\";\n",
    "\n",
    "    return result;\n",
    "}"
   ]
  },
  {
   "cell_type": "markdown",
   "metadata": {},
   "source": [
    "**2. iterate through given word and update result**"
   ]
  },
  {
   "cell_type": "markdown",
   "metadata": {},
   "source": [
    "* In this code block, you start from the end of the word using `word.Length - 1`. \n",
    "* You subtract one from the length since array indices start at zero, and you want to avoid accessing an element out of bounds. \n",
    "* Then you add the letter at the current index to the result string and move the index backwards. \n",
    "* You use `i >= 0` since i is updated after the code in the loop is executed, and you want to be sure to include the zeroth index."
   ]
  },
  {
   "cell_type": "code",
   "execution_count": 54,
   "metadata": {
    "dotnet_interactive": {
     "language": "csharp"
    },
    "polyglot_notebook": {
     "kernelName": "csharp"
    },
    "vscode": {
     "languageId": "polyglot-notebook"
    }
   },
   "outputs": [],
   "source": [
    "string ReverseWord(string word) \n",
    "{\n",
    "    string result = \"\";\n",
    "\n",
    "    for (int i = word.Length - 1; i >= 0; i--) // iterate through word in reverse\n",
    "    {\n",
    "        result += word[i]; // add letters from word in reverse to result\n",
    "    }\n",
    "    return result;\n",
    "}"
   ]
  },
  {
   "cell_type": "markdown",
   "metadata": {},
   "source": [
    "**3. test your code**"
   ]
  },
  {
   "cell_type": "code",
   "execution_count": 55,
   "metadata": {
    "dotnet_interactive": {
     "language": "csharp"
    },
    "polyglot_notebook": {
     "kernelName": "csharp"
    },
    "vscode": {
     "languageId": "polyglot-notebook"
    }
   },
   "outputs": [
    {
     "name": "stdout",
     "output_type": "stream",
     "text": [
      "kristy is awesome\n",
      "emosewa si ytsirk\n"
     ]
    }
   ],
   "source": [
    "string input = \"kristy is awesome\";\n",
    "\n",
    "Console.WriteLine(input);\n",
    "Console.WriteLine(ReverseWord(input));"
   ]
  },
  {
   "cell_type": "markdown",
   "metadata": {},
   "source": [
    "##### ***Create a method to reverse words in a sentence***"
   ]
  },
  {
   "cell_type": "markdown",
   "metadata": {},
   "source": [
    "* Suppose your interviewer asks you a follow up question. They want you to reverse each word in a given sentence, maintaining the original position of each word. \n",
    "* You can assume each word is separated by a space. For example, \"string return type\" would become \"gnirts nruter epyt\". Take a moment to think about how you might perform this task.\n",
    "\n",
    "If you use the method you wrote in the previous task, you might realize that you can use the method to reverse each word in the string individually. You can create a new sentence and add each word as it's reversed. Let's get started!"
   ]
  },
  {
   "cell_type": "markdown",
   "metadata": {},
   "source": [
    "**1. Create method signature**"
   ]
  },
  {
   "cell_type": "code",
   "execution_count": 57,
   "metadata": {
    "dotnet_interactive": {
     "language": "csharp"
    },
    "polyglot_notebook": {
     "kernelName": "csharp"
    },
    "vscode": {
     "languageId": "polyglot-notebook"
    }
   },
   "outputs": [],
   "source": [
    "string ReverseWord(string word) \n",
    "{\n",
    "    string result = \"\";\n",
    "\n",
    "    for (int i = word.Length - 1; i >= 0; i--) // iterate through word in reverse\n",
    "    {\n",
    "        result += word[i]; // add letters from word in reverse to result\n",
    "    }\n",
    "    return result;\n",
    "}\n",
    "\n",
    "\n",
    "string ReverseSentence(string input) \n",
    "{\n",
    "    string result = \"\";\n",
    "\n",
    "    return result;\n",
    "}"
   ]
  },
  {
   "cell_type": "markdown",
   "metadata": {},
   "source": [
    "**2. Add method to split words from sentence into an array**"
   ]
  },
  {
   "cell_type": "code",
   "execution_count": 59,
   "metadata": {
    "dotnet_interactive": {
     "language": "csharp"
    },
    "polyglot_notebook": {
     "kernelName": "csharp"
    },
    "vscode": {
     "languageId": "polyglot-notebook"
    }
   },
   "outputs": [],
   "source": [
    "string ReverseWord(string word) \n",
    "{\n",
    "    string result = \"\";\n",
    "\n",
    "    for (int i = word.Length - 1; i >= 0; i--) // iterate through word in reverse\n",
    "    {\n",
    "        result += word[i]; // add letters from word in reverse to result\n",
    "    }\n",
    "    return result;\n",
    "}\n",
    "\n",
    "\n",
    "string ReverseSentence(string input) \n",
    "{\n",
    "    string result = \"\";\n",
    "    string[] words = input.Split(\" \");\n",
    "    // split the sentence into words and assign to string array named words\n",
    "\n",
    "    return result;\n",
    "}"
   ]
  },
  {
   "cell_type": "markdown",
   "metadata": {},
   "source": [
    "**3. Create loop to reverse each word of sentence**"
   ]
  },
  {
   "cell_type": "markdown",
   "metadata": {},
   "source": [
    "Notice how you can call the ReverseWord method inside of a compound assignment operator. \n",
    "* In this code, the return value is captured from ReverseWord and added to result. \n",
    "* Methods with return values can be used anywhere you need them, as long as the data type fits the requirements.\n",
    "\n",
    "In this code, each reversed word is appended to the result with an added space. However, this leaves an extra space at the end of the reversed sentence."
   ]
  },
  {
   "cell_type": "code",
   "execution_count": 62,
   "metadata": {
    "dotnet_interactive": {
     "language": "csharp"
    },
    "polyglot_notebook": {
     "kernelName": "csharp"
    },
    "vscode": {
     "languageId": "polyglot-notebook"
    }
   },
   "outputs": [],
   "source": [
    "string ReverseWord(string word) \n",
    "{\n",
    "    string result = \"\";\n",
    "\n",
    "    for (int i = word.Length - 1; i >= 0; i--) // iterate through word in reverse\n",
    "    {\n",
    "        result += word[i]; // add letters from word in reverse to result\n",
    "    }\n",
    "    return result;\n",
    "}\n",
    "\n",
    "\n",
    "string ReverseSentence(string input) \n",
    "{\n",
    "    string result = \"\";\n",
    "    string[] words = input.Split(\" \");\n",
    "    // split the sentence into words and assign to string array named words\n",
    "\n",
    "    // reverse each word of array \n",
    "    foreach(string word in words)\n",
    "    {\n",
    "        result += ReverseWord(word) + \" \";\n",
    "    }\n",
    "\n",
    "    return result.Trim();\n",
    "}"
   ]
  },
  {
   "cell_type": "markdown",
   "metadata": {},
   "source": [
    "**4. Call Method**"
   ]
  },
  {
   "cell_type": "code",
   "execution_count": 63,
   "metadata": {
    "dotnet_interactive": {
     "language": "csharp"
    },
    "polyglot_notebook": {
     "kernelName": "csharp"
    },
    "vscode": {
     "languageId": "polyglot-notebook"
    }
   },
   "outputs": [
    {
     "name": "stdout",
     "output_type": "stream",
     "text": [
      "Kristy loves a healthy plant.\n",
      "ytsirK sevol a yhtlaeh .tnalp\n"
     ]
    }
   ],
   "source": [
    "string input = \"Kristy loves a healthy plant.\";\n",
    "\n",
    "Console.WriteLine(input);\n",
    "Console.WriteLine(ReverseSentence(input));\n"
   ]
  },
  {
   "cell_type": "markdown",
   "metadata": {},
   "source": [
    "#### 🚀 **[Exercise - Return Booleans from methods](https://learn.microsoft.com/en-us/training/modules/create-c-sharp-methods-return-values/5-exercise-create-methods-return-booleans)**"
   ]
  },
  {
   "cell_type": "markdown",
   "metadata": {},
   "source": [
    "* Methods with Boolean return types can be simple but are useful in consolidating code. \n",
    "* Methods that return bool values can be called to evaluate data input anywhere, in if statements, in variable declarations, and more."
   ]
  },
  {
   "cell_type": "markdown",
   "metadata": {},
   "source": [
    "##### ***Create a method that returns a Boolean***"
   ]
  },
  {
   "cell_type": "markdown",
   "metadata": {},
   "source": [
    "Suppose you're a candidate in a coding interview. The interviewer wants you to check if several words are a palindrome. A word is a palindrome if it reads the same backwards and forwards. For example, the word racecar is a palindrome. Let's get started!"
   ]
  },
  {
   "cell_type": "markdown",
   "metadata": {},
   "source": [
    "**1. create an array of strings and loop through each word of array**"
   ]
  },
  {
   "cell_type": "code",
   "execution_count": 64,
   "metadata": {
    "dotnet_interactive": {
     "language": "csharp"
    },
    "polyglot_notebook": {
     "kernelName": "csharp"
    },
    "vscode": {
     "languageId": "polyglot-notebook"
    }
   },
   "outputs": [
    {
     "ename": "Error",
     "evalue": "(7,34): error CS0103: The name 'IsPalindrome' does not exist in the current context",
     "output_type": "error",
     "traceback": [
      "(7,34): error CS0103: The name 'IsPalindrome' does not exist in the current context"
     ]
    }
   ],
   "source": [
    "string[] words = {\"racecar\" ,\"talented\", \"deified\", \"tent\", \"tenet\"};\n",
    "\n",
    "Console.WriteLine(\"Is it a palindrome?\");\n",
    "\n",
    "foreach (string word in words) \n",
    "{\n",
    "    Console.WriteLine($\"{word}: {IsPalindrome(word)}\");\n",
    "    // references a method not created yet\n",
    "}"
   ]
  },
  {
   "cell_type": "markdown",
   "metadata": {},
   "source": [
    "**2. Create method signature**"
   ]
  },
  {
   "cell_type": "code",
   "execution_count": 65,
   "metadata": {
    "dotnet_interactive": {
     "language": "csharp"
    },
    "polyglot_notebook": {
     "kernelName": "csharp"
    },
    "vscode": {
     "languageId": "polyglot-notebook"
    }
   },
   "outputs": [],
   "source": [
    "bool IsPalindrome(string word)\n",
    "{\n",
    "    return true;\n",
    "}"
   ]
  },
  {
   "cell_type": "markdown",
   "metadata": {},
   "source": [
    "**3. Build on method to check if palindrome**"
   ]
  },
  {
   "cell_type": "markdown",
   "metadata": {},
   "source": [
    "* check first and last letters of word\n",
    "* if matched, compare second and second-to-last letters of each word\n",
    "* if the middle of the word is reached, all letters have been compared and matched\n",
    "* if any letters don't match = not palindrome"
   ]
  },
  {
   "cell_type": "code",
   "execution_count": 77,
   "metadata": {
    "dotnet_interactive": {
     "language": "csharp"
    },
    "polyglot_notebook": {
     "kernelName": "csharp"
    },
    "vscode": {
     "languageId": "polyglot-notebook"
    }
   },
   "outputs": [
    {
     "name": "stdout",
     "output_type": "stream",
     "text": [
      "Is it a palindrome?\n",
      "start position: 0 | end position: 6\n",
      "start position: 1 | end position: 5\n",
      "start position: 2 | end position: 4\n",
      "racecar: True\n",
      "start position: 0 | end position: 7\n",
      "talented: False\n",
      "start position: 0 | end position: 6\n",
      "start position: 1 | end position: 5\n",
      "start position: 2 | end position: 4\n",
      "deified: True\n",
      "start position: 0 | end position: 3\n",
      "start position: 1 | end position: 2\n",
      "tent: False\n",
      "start position: 0 | end position: 4\n",
      "start position: 1 | end position: 3\n",
      "tenet: True\n"
     ]
    }
   ],
   "source": [
    "string[] words = {\"racecar\" ,\"talented\", \"deified\", \"tent\", \"tenet\"};\n",
    "\n",
    "Console.WriteLine(\"Is it a palindrome?\");\n",
    "\n",
    "foreach (string word in words) \n",
    "{\n",
    "    Console.WriteLine($\"{word}: {IsPalindrome(word)}\");\n",
    "    // references a method not created yet\n",
    "}\n",
    "\n",
    "bool IsPalindrome(string word)\n",
    "{\n",
    "    int start = 0; // increment start position of word (first letter -> ascending)\n",
    "    int end = word.Length - 1; // increment end position of word (last letter -> descending)\n",
    "\n",
    "\n",
    "\n",
    "    while (start < end) // once start/end meet, all letters have been checked\n",
    "    {\n",
    "        Console.WriteLine($\"start position: {start} | end position: {end}\");\n",
    "        if (word[start] != word[end]) // \n",
    "        {\n",
    "            return false;\n",
    "        }\n",
    "\n",
    "        start++;\n",
    "        end--;\n",
    "    }\n",
    "\n",
    "    return true;\n",
    "}\n",
    "\n",
    "/*\n",
    "\n",
    "    * Notice the variables start and end to point to the first and last characters in the string. \n",
    "    * The loop breaks when the middle of the word is met; when start and end point to the same character or cross over each other. \n",
    "    * The pointers are moved inwards each time there's a match. \n",
    "    * If they don't match, the method terminates and returns false.\n",
    "\n",
    "*/"
   ]
  },
  {
   "cell_type": "markdown",
   "metadata": {},
   "source": [
    "#### 🚀 **[Exercise - Return arrays from methods](https://learn.microsoft.com/en-us/training/modules/create-c-sharp-methods-return-values/6-exercise-create-methods-return-arrays)**"
   ]
  },
  {
   "cell_type": "markdown",
   "metadata": {},
   "source": [
    "* When developing applications, you'll often need to build and modify sets of data. \n",
    "* Methods are useful for performing operations on data, and they're especially powerful tools for building the data sets themselves.\n",
    "* Developing methods to create arrays representing your data set helps to keep your code reusable, organized, and simplified. \n",
    "* In this exercise, you'll practice returning arrays from methods."
   ]
  },
  {
   "cell_type": "markdown",
   "metadata": {},
   "source": [
    "##### ***Find coins to make change***"
   ]
  },
  {
   "cell_type": "markdown",
   "metadata": {},
   "source": [
    "* Suppose you have several coins of different values. \n",
    "* You're tasked to find two coins whose sum is equal to a target value. \n",
    "* In this exercise, the coins available are represented in an integer array. \n",
    "* You'll need to return the indices of the two coins in a new array. Let's get started!"
   ]
  },
  {
   "cell_type": "markdown",
   "metadata": {},
   "source": [
    "**1. Create method signature with 2x parameters**"
   ]
  },
  {
   "cell_type": "code",
   "execution_count": 80,
   "metadata": {
    "dotnet_interactive": {
     "language": "csharp"
    },
    "polyglot_notebook": {
     "kernelName": "csharp"
    },
    "vscode": {
     "languageId": "polyglot-notebook"
    }
   },
   "outputs": [],
   "source": [
    "int[] TwoCoins(int[] coins, int target)\n",
    "// method with a return data type of an array of integers\n",
    "// required parameters = array of integers & and integer\n",
    "{\n",
    "    return new int[0];\n",
    "    // return an empty array of integers\n",
    "}"
   ]
  },
  {
   "cell_type": "markdown",
   "metadata": {},
   "source": [
    "**2. Understand the function**"
   ]
  },
  {
   "cell_type": "markdown",
   "metadata": {},
   "source": [
    "* In the case where no two coins are found, your method `returns` an empty `array`. \n",
    "* Take a moment to consider the syntax of the returned result. \n",
    "* While you can create a variable to store a `new int[]` array and return the variable, the return statement allows you to simultaneously create and return values."
   ]
  },
  {
   "cell_type": "markdown",
   "metadata": {},
   "source": [
    "There are many approaches to solve this problem. <br>Take a moment to consider how you might **search for two numbers in an array whose sum is equal to a given value.**\n",
    "\n",
    "In this exercise, the following approach will be used:\n",
    "\n",
    "1. Choose one number from the array\n",
    "2. Check other numbers one at a time to see if they add up to the target value\n",
    "3. Return the result as soon as a match is found"
   ]
  },
  {
   "cell_type": "markdown",
   "metadata": {},
   "source": [
    "**3. Check each number in the array**"
   ]
  },
  {
   "cell_type": "markdown",
   "metadata": {},
   "source": [
    "Here, `currentCoin` represents one fixed coin index and `nextCoin` represents the subsequent coin indices.<br> \n",
    "You'll try adding each `nextCoin` with the fixed `currentCoin` to see if they equal the target value."
   ]
  },
  {
   "cell_type": "code",
   "execution_count": null,
   "metadata": {
    "dotnet_interactive": {
     "language": "csharp"
    },
    "polyglot_notebook": {
     "kernelName": "csharp"
    },
    "vscode": {
     "languageId": "polyglot-notebook"
    }
   },
   "outputs": [],
   "source": [
    "int[] TwoCoins(int[] coins, int target)\n",
    "// method with a return data type of an array of integers\n",
    "// required parameters = array of integers & and integer\n",
    "{\n",
    "    for (int currentCoin = 0; currentCoin < coins.Length; currentCoin++)\n",
    "    {\n",
    "        for (int nextCoin = currentCoin +1; nextCoin < coins.Length; nextCoin++)\n",
    "        {\n",
    "\n",
    "        }\n",
    "    }\n",
    "    return new int[0];\n",
    "    // return an empty array of integers\n",
    "}"
   ]
  },
  {
   "cell_type": "markdown",
   "metadata": {},
   "source": [
    "**4. Check the sum of 2 coins for the target value**"
   ]
  },
  {
   "cell_type": "markdown",
   "metadata": {},
   "source": [
    "* In this code, you're checking if the sum of the values at `currentCoin` and `nextCoin` in the array are equal to the `target` value. \n",
    "* If the sum is equal, you create an array to store those indices and return it. \n",
    "* If they aren't equal, you can ignore them and keep checking."
   ]
  },
  {
   "cell_type": "code",
   "execution_count": 81,
   "metadata": {
    "dotnet_interactive": {
     "language": "csharp"
    },
    "polyglot_notebook": {
     "kernelName": "csharp"
    },
    "vscode": {
     "languageId": "polyglot-notebook"
    }
   },
   "outputs": [],
   "source": [
    "int[] TwoCoins(int[] coins, int target)\n",
    "// method with a return data type of an array of integers\n",
    "// required parameters = array of integers & and integer\n",
    "{\n",
    "    for (int currentCoin = 0; currentCoin < coins.Length; currentCoin++)\n",
    "    {\n",
    "        for (int nextCoin = currentCoin +1; nextCoin < coins.Length; nextCoin++)\n",
    "        {\n",
    "            if (coins[currentCoin] + coins[nextCoin] == target)\n",
    "            // if currentCoin + nextCoin = target --> goal achieved\n",
    "            {\n",
    "                return new int[]{currentCoin, nextCoin};\n",
    "                // return a new array with values currentCoin and nextCoin\n",
    "            }\n",
    "\n",
    "        }\n",
    "    }\n",
    "    return new int[0];\n",
    "    // return an empty array of integers\n",
    "}"
   ]
  },
  {
   "cell_type": "markdown",
   "metadata": {},
   "source": [
    "##### ***Test Solution***"
   ]
  },
  {
   "cell_type": "markdown",
   "metadata": {},
   "source": [
    "**1. initialise variables to store input data**"
   ]
  },
  {
   "cell_type": "code",
   "execution_count": 82,
   "metadata": {
    "dotnet_interactive": {
     "language": "csharp"
    },
    "polyglot_notebook": {
     "kernelName": "csharp"
    },
    "vscode": {
     "languageId": "polyglot-notebook"
    }
   },
   "outputs": [],
   "source": [
    "int target = 60;\n",
    "int[] coins = new int[] {5,5,50,25,25,10,5};\n",
    "int[] result = TwoCoins(coins, target); // call method\n",
    "\n",
    "// ------- method\n",
    "int[] TwoCoins(int[] coins, int target)\n",
    "// method with a return data type of an array of integers\n",
    "// required parameters = array of integers & and integer\n",
    "{\n",
    "    for (int currentCoin = 0; currentCoin < coins.Length; currentCoin++)\n",
    "    {\n",
    "        for (int nextCoin = currentCoin +1; nextCoin < coins.Length; nextCoin++)\n",
    "        {\n",
    "            if (coins[currentCoin] + coins[nextCoin] == target)\n",
    "            // if currentCoin + nextCoin = target --> goal achieved\n",
    "            {\n",
    "                return new int[]{currentCoin, nextCoin};\n",
    "                // return a new array with values currentCoin and nextCoin\n",
    "            }\n",
    "\n",
    "        }\n",
    "    }\n",
    "    return new int[0];\n",
    "    // return an empty array of integers\n",
    "}"
   ]
  },
  {
   "cell_type": "markdown",
   "metadata": {},
   "source": [
    "**2. Add if statement to check if result was successful**"
   ]
  },
  {
   "cell_type": "markdown",
   "metadata": {},
   "source": [
    "Recall that the TwoCoins method returns an empty array if no change is found. You'll need to check the array size before attempting to print the result array."
   ]
  },
  {
   "cell_type": "code",
   "execution_count": 84,
   "metadata": {
    "dotnet_interactive": {
     "language": "csharp"
    },
    "polyglot_notebook": {
     "kernelName": "csharp"
    },
    "vscode": {
     "languageId": "polyglot-notebook"
    }
   },
   "outputs": [
    {
     "name": "stdout",
     "output_type": "stream",
     "text": [
      "Change found at positions 2 and 5\r\n"
     ]
    }
   ],
   "source": [
    "int target = 60;\n",
    "int[] coins = new int[] {5,5,50,25,25,10,5};\n",
    "int[] result = TwoCoins(coins, target); // call method\n",
    "\n",
    "// ------- check if coins make change\n",
    "\n",
    "if (result.Length == 0)\n",
    "{\n",
    "    Console.WriteLine(\"No two coins make change\");\n",
    "    // this is looking to see if TwoCoins method returns an empty string\n",
    "}\n",
    "else\n",
    "{\n",
    "    Console.WriteLine($\"Change found at positions {result[0]} and {result[1]}\");\n",
    "}\n",
    "\n",
    "\n",
    "// ------- method\n",
    "int[] TwoCoins(int[] coins, int target)\n",
    "// method with a return data type of an array of integers\n",
    "// required parameters = array of integers & and integer\n",
    "{\n",
    "    for (int currentCoin = 0; currentCoin < coins.Length; currentCoin++)\n",
    "    {\n",
    "        for (int nextCoin = currentCoin +1; nextCoin < coins.Length; nextCoin++)\n",
    "        {\n",
    "            if (coins[currentCoin] + coins[nextCoin] == target)\n",
    "            // if currentCoin + nextCoin = target --> goal achieved\n",
    "            {\n",
    "                return new int[]{currentCoin, nextCoin};\n",
    "                // return a new array with values currentCoin and nextCoin\n",
    "            }\n",
    "\n",
    "        }\n",
    "    }\n",
    "    return new int[0];\n",
    "    // return an empty array of integers\n",
    "}"
   ]
  },
  {
   "cell_type": "markdown",
   "metadata": {},
   "source": [
    "##### ***Find multiple pairs of coins that make change***"
   ]
  },
  {
   "cell_type": "markdown",
   "metadata": {},
   "source": [
    "* In this step, you'll extend the `TwoCoins` method to find more pairs of coins whose `sum` is equal to the `target` value. \n",
    "* For this exercise, you'll find a `maximum` of five pairs. \n",
    "* This means the return type will be a 2D array instead of a 1D array, and you'll need to modify the way your code returns the results."
   ]
  },
  {
   "cell_type": "markdown",
   "metadata": {},
   "source": [
    "**1. Change the return type in the method signature from `int[]` to `int[,]` + intialise 2D array of results**"
   ]
  },
  {
   "cell_type": "code",
   "execution_count": null,
   "metadata": {
    "dotnet_interactive": {
     "language": "csharp"
    },
    "polyglot_notebook": {
     "kernelName": "csharp"
    },
    "vscode": {
     "languageId": "polyglot-notebook"
    }
   },
   "outputs": [],
   "source": [
    "int target = 60;\n",
    "int[] coins = new int[] {5,5,50,25,25,10,5};\n",
    "int[] result = TwoCoins(coins, target); // call method\n",
    "\n",
    "// ------- check if coins make change\n",
    "\n",
    "if (result.Length == 0)\n",
    "{\n",
    "    Console.WriteLine(\"No two coins make change\");\n",
    "    // this is looking to see if TwoCoins method returns an empty string\n",
    "}\n",
    "else\n",
    "{\n",
    "    Console.WriteLine($\"Change found at positions {result[0]} and {result[1]}\");\n",
    "}\n",
    "\n",
    "// ------- method\n",
    "\n",
    "// int[] TwoCoins(int[] coins, int target)\n",
    "int[,] TwoCoins(int[] coins, int target)\n",
    "// method with a return data type of an array of integers\n",
    "// required parameters = array of integers & and integer\n",
    "{\n",
    "    int[,] result = {{-1,-1},{-1,-1},{-1,-1},{-1,-1},{-1,-1}}; // 2D array pair results starting w/ -1 as position\n",
    "    int count = 0;\n",
    "\n",
    "    for (int currentCoin = 0; currentCoin < coins.Length; currentCoin++)\n",
    "    {\n",
    "        for (int nextCoin = currentCoin +1; nextCoin < coins.Length; nextCoin++)\n",
    "        {\n",
    "            if (coins[currentCoin] + coins[nextCoin] == target)\n",
    "            // if currentCoin + nextCoin = target --> goal achieved\n",
    "            {\n",
    "                return new int[]{currentCoin, nextCoin};\n",
    "                // return a new array with values currentCoin and nextCoin\n",
    "            }\n",
    "\n",
    "        }\n",
    "    }\n",
    "    return new int[0];\n",
    "    // return an empty array of integers\n",
    "}"
   ]
  },
  {
   "cell_type": "markdown",
   "metadata": {},
   "source": [
    "**2. use result array to store found pairs**"
   ]
  },
  {
   "cell_type": "code",
   "execution_count": 85,
   "metadata": {
    "dotnet_interactive": {
     "language": "csharp"
    },
    "polyglot_notebook": {
     "kernelName": "csharp"
    },
    "vscode": {
     "languageId": "polyglot-notebook"
    }
   },
   "outputs": [
    {
     "ename": "Error",
     "evalue": "(3,16): error CS0029: Cannot implicitly convert type 'int[*,*]' to 'int[]'\r\n(38,12): error CS0029: Cannot implicitly convert type 'int[]' to 'int[*,*]'",
     "output_type": "error",
     "traceback": [
      "(3,16): error CS0029: Cannot implicitly convert type 'int[*,*]' to 'int[]'\r\n",
      "(38,12): error CS0029: Cannot implicitly convert type 'int[]' to 'int[*,*]'"
     ]
    }
   ],
   "source": [
    "int target = 60;\n",
    "int[] coins = new int[] {5,5,50,25,25,10,5};\n",
    "int[] result = TwoCoins(coins, target); // call method\n",
    "\n",
    "// ------- check if coins make change\n",
    "\n",
    "if (result.Length == 0)\n",
    "{\n",
    "    Console.WriteLine(\"No two coins make change\");\n",
    "    // this is looking to see if TwoCoins method returns an empty string\n",
    "}\n",
    "else\n",
    "{\n",
    "    Console.WriteLine($\"Change found at positions {result[0]} and {result[1]}\");\n",
    "}\n",
    "\n",
    "// ------- method\n",
    "int[,] TwoCoins(int[] coins, int target)\n",
    "{\n",
    "    int[,] result = {{-1,-1},{-1,-1},{-1,-1},{-1,-1},{-1,-1}}; // 2D array pair results starting w/ -1 as position\n",
    "    int count = 0;\n",
    "\n",
    "    for (int currentCoin = 0; currentCoin < coins.Length; currentCoin++)\n",
    "    {\n",
    "        for (int nextCoin = currentCoin +1; nextCoin < coins.Length; nextCoin++)\n",
    "        {\n",
    "            if (coins[currentCoin] + coins[nextCoin] == target)\n",
    "            // if currentCoin + nextCoin = target --> goal achieved\n",
    "            {\n",
    "                result[count, 0] = currentCoin;\n",
    "                result[count, 1] = nextCoin;\n",
    "                count++;\n",
    "                // return new int[]{currentCoin, nextCoin};\n",
    "            }\n",
    "                                     \n",
    "        }\n",
    "    }\n",
    "    return new int[0];\n",
    "    // return an empty array of integers\n",
    "}\n",
    "\n",
    "\n",
    "// Notice that count is incremented every time a pair is added to the array. This can cause an index out of bounds error if there are more than five pairs found. To prevent this error, you can add code to check the value of count and return the result the result array is filled."
   ]
  },
  {
   "cell_type": "markdown",
   "metadata": {},
   "source": [
    "**3. prevent out of bounds error caused by all elements in results array being filled**"
   ]
  },
  {
   "cell_type": "code",
   "execution_count": 86,
   "metadata": {
    "dotnet_interactive": {
     "language": "csharp"
    },
    "polyglot_notebook": {
     "kernelName": "csharp"
    },
    "vscode": {
     "languageId": "polyglot-notebook"
    }
   },
   "outputs": [
    {
     "ename": "Error",
     "evalue": "(3,16): error CS0029: Cannot implicitly convert type 'int[*,*]' to 'int[]'\r\n(44,12): error CS0029: Cannot implicitly convert type 'int[]' to 'int[*,*]'",
     "output_type": "error",
     "traceback": [
      "(3,16): error CS0029: Cannot implicitly convert type 'int[*,*]' to 'int[]'\r\n",
      "(44,12): error CS0029: Cannot implicitly convert type 'int[]' to 'int[*,*]'"
     ]
    }
   ],
   "source": [
    "int target = 60;\n",
    "int[] coins = new int[] {5,5,50,25,25,10,5};\n",
    "int[] result = TwoCoins(coins, target); // call method\n",
    "\n",
    "// ------- check if coins make change\n",
    "\n",
    "if (result.Length == 0)\n",
    "{\n",
    "    Console.WriteLine(\"No two coins make change\");\n",
    "    // this is looking to see if TwoCoins method returns an empty string\n",
    "}\n",
    "else\n",
    "{\n",
    "    Console.WriteLine($\"Change found at positions {result[0]} and {result[1]}\");\n",
    "}\n",
    "\n",
    "// ------- method\n",
    "int[,] TwoCoins(int[] coins, int target)\n",
    "{\n",
    "    int[,] result = {{-1,-1},{-1,-1},{-1,-1},{-1,-1},{-1,-1}}; // 2D array pair results starting w/ -1 as position\n",
    "    int count = 0;\n",
    "\n",
    "    for (int currentCoin = 0; currentCoin < coins.Length; currentCoin++)\n",
    "    {\n",
    "        for (int nextCoin = currentCoin +1; nextCoin < coins.Length; nextCoin++)\n",
    "        {\n",
    "            if (coins[currentCoin] + coins[nextCoin] == target)\n",
    "            // if currentCoin + nextCoin = target --> goal achieved\n",
    "            {\n",
    "                result[count, 0] = currentCoin;\n",
    "                result[count, 1] = nextCoin;\n",
    "                count++;\n",
    "                // return new int[]{currentCoin, nextCoin};\n",
    "            }\n",
    "\n",
    "            // check count is = to the length of result\n",
    "            if (count == result.GetLength(0)) \n",
    "            {\n",
    "                return result;\n",
    "            }            \n",
    "                                     \n",
    "        }\n",
    "    }\n",
    "    return new int[0];\n",
    "    // return an empty array of integers\n",
    "}\n"
   ]
  },
  {
   "cell_type": "markdown",
   "metadata": {},
   "source": [
    "**4. Update return statement to reflect 2d array**"
   ]
  },
  {
   "cell_type": "code",
   "execution_count": 87,
   "metadata": {
    "dotnet_interactive": {
     "language": "csharp"
    },
    "polyglot_notebook": {
     "kernelName": "csharp"
    },
    "vscode": {
     "languageId": "polyglot-notebook"
    }
   },
   "outputs": [
    {
     "ename": "Error",
     "evalue": "(3,16): error CS0029: Cannot implicitly convert type 'int[*,*]' to 'int[]'",
     "output_type": "error",
     "traceback": [
      "(3,16): error CS0029: Cannot implicitly convert type 'int[*,*]' to 'int[]'"
     ]
    }
   ],
   "source": [
    "int target = 60;\n",
    "int[] coins = new int[] {5,5,50,25,25,10,5};\n",
    "int[] result = TwoCoins(coins, target); // call method\n",
    "\n",
    "// ------- check if coins make change\n",
    "\n",
    "if (result.Length == 0)\n",
    "{\n",
    "    Console.WriteLine(\"No two coins make change\");\n",
    "    // this is looking to see if TwoCoins method returns an empty string\n",
    "}\n",
    "else\n",
    "{\n",
    "    Console.WriteLine($\"Change found at positions {result[0]} and {result[1]}\");\n",
    "}\n",
    "\n",
    "// ------- method\n",
    "int[,] TwoCoins(int[] coins, int target)\n",
    "{\n",
    "    int[,] result = {{-1,-1},{-1,-1},{-1,-1},{-1,-1},{-1,-1}}; // 2D array\n",
    "    int count = 0;\n",
    "\n",
    "    for (int currentCoin = 0; currentCoin < coins.Length; currentCoin++)\n",
    "    {\n",
    "        for (int nextCoin = currentCoin +1; nextCoin < coins.Length; nextCoin++)\n",
    "        {\n",
    "            if (coins[currentCoin] + coins[nextCoin] == target)\n",
    "            // if currentCoin + nextCoin = target --> goal achieved\n",
    "            {\n",
    "                result[count, 0] = currentCoin;\n",
    "                result[count, 1] = nextCoin;\n",
    "                count++;\n",
    "                // return new int[]{currentCoin, nextCoin};\n",
    "            }\n",
    "\n",
    "            // check count is = to the length of result\n",
    "            if (count == result.GetLength(0)) \n",
    "            {\n",
    "                return result;\n",
    "            }            \n",
    "                                     \n",
    "        }\n",
    "    }\n",
    "\n",
    "   return (count == 0) ? new int[0,0] : result; \n",
    "\n",
    "}\n",
    "\n",
    "\n",
    "/* \n",
    "\n",
    "alt for return statements:\n",
    "\n",
    "    if (count == 0) \n",
    "    {\n",
    "        return new int[0,0];\n",
    "    }\n",
    "    return result;\n",
    "\n",
    "*/\n",
    "\n"
   ]
  },
  {
   "cell_type": "markdown",
   "metadata": {},
   "source": [
    "**5. Update Initilisation + Checking to reflect 2D array**"
   ]
  },
  {
   "cell_type": "markdown",
   "metadata": {},
   "source": [
    "Here, you keep the check for an empty array as-is, and print the values of the 2D array in a for-loop. <br>When a -1 value is found, you break out of the loop since there are no next pairs."
   ]
  },
  {
   "cell_type": "code",
   "execution_count": 88,
   "metadata": {
    "dotnet_interactive": {
     "language": "csharp"
    },
    "polyglot_notebook": {
     "kernelName": "csharp"
    },
    "vscode": {
     "languageId": "polyglot-notebook"
    }
   },
   "outputs": [],
   "source": [
    "int target = 60;\n",
    "int[] coins = new int[] {5,5,50,25,25,10,5};\n",
    "int[,] result = TwoCoins(coins, target); // call method\n",
    "\n",
    "// ------- check if coins make change\n",
    "\n",
    "if (result.Length == 0)\n",
    "{\n",
    "    Console.WriteLine(\"No two coins make change\");\n",
    "    // this is looking to see if TwoCoins method returns an empty string\n",
    "}\n",
    "else\n",
    "{\n",
    "    // Console.WriteLine($\"Change found at positions {result[0]} and {result[1]}\");\n",
    "    Console.WriteLine(\"Change found at positions:\");\n",
    "    for (int i = 0; i < result.GetLength(0); i++) \n",
    "    {\n",
    "        if (result[i,0] == -1) \n",
    "        {\n",
    "            break;\n",
    "        }\n",
    "        Console.WriteLine($\"{result[i,0]},{result[i,1]}\");\n",
    "    }\n",
    "}\n",
    "\n",
    "// ------- method\n",
    "int[,] TwoCoins(int[] coins, int target)\n",
    "{\n",
    "    int[,] result = {{-1,-1},{-1,-1},{-1,-1},{-1,-1},{-1,-1}}; // 2D array\n",
    "    int count = 0;\n",
    "\n",
    "    for (int currentCoin = 0; currentCoin < coins.Length; currentCoin++)\n",
    "    {\n",
    "        for (int nextCoin = currentCoin +1; nextCoin < coins.Length; nextCoin++)\n",
    "        {\n",
    "            if (coins[currentCoin] + coins[nextCoin] == target)\n",
    "            // if currentCoin + nextCoin = target --> goal achieved\n",
    "            {\n",
    "                result[count, 0] = currentCoin;\n",
    "                result[count, 1] = nextCoin;\n",
    "                count++;\n",
    "                // return new int[]{currentCoin, nextCoin};\n",
    "            }\n",
    "\n",
    "            // check count is = to the length of result\n",
    "            if (count == result.GetLength(0)) \n",
    "            {\n",
    "                return result;\n",
    "            }            \n",
    "                                     \n",
    "        }\n",
    "    }\n",
    "\n",
    "   return (count == 0) ? new int[0,0] : result; \n",
    "\n",
    "}\n",
    "\n",
    "\n",
    "/* \n",
    "\n",
    "alt for return statements:\n",
    "\n",
    "    if (count == 0) \n",
    "    {\n",
    "        return new int[0,0];\n",
    "    }\n",
    "    return result;\n",
    "\n",
    "*/\n",
    "\n"
   ]
  },
  {
   "cell_type": "markdown",
   "metadata": {},
   "source": [
    "##### ***Checking***"
   ]
  },
  {
   "cell_type": "code",
   "execution_count": 90,
   "metadata": {
    "dotnet_interactive": {
     "language": "csharp"
    },
    "polyglot_notebook": {
     "kernelName": "csharp"
    },
    "vscode": {
     "languageId": "polyglot-notebook"
    }
   },
   "outputs": [
    {
     "name": "stdout",
     "output_type": "stream",
     "text": [
      "Change found at positions:\n",
      "0,3\n",
      "0,4\n",
      "1,3\n",
      "1,4\n",
      "3,6\n"
     ]
    }
   ],
   "source": [
    "int target = 30;\n",
    "int[] coins = new int[] {5,5,50,25,25,10,5};\n",
    "int[,] result = TwoCoins(coins, target); \n",
    "\n",
    "// ------- check if coins make change\n",
    "\n",
    "if (result.Length == 0)\n",
    "{\n",
    "    Console.WriteLine(\"No two coins make change\");\n",
    "}\n",
    "else\n",
    "{\n",
    "    Console.WriteLine(\"Change found at positions:\");\n",
    "    for (int i = 0; i < result.GetLength(0); i++) \n",
    "    {\n",
    "        if (result[i,0] == -1) \n",
    "        {\n",
    "            break;\n",
    "        }\n",
    "        Console.WriteLine($\"{result[i,0]},{result[i,1]}\");\n",
    "    }\n",
    "}\n",
    "\n",
    "// ------- method\n",
    "\n",
    "int[,] TwoCoins(int[] coins, int target)\n",
    "{\n",
    "    int[,] result = {{-1,-1},{-1,-1},{-1,-1},{-1,-1},{-1,-1}}; \n",
    "    int count = 0;\n",
    "\n",
    "    for (int currentCoin = 0; currentCoin < coins.Length; currentCoin++)\n",
    "    {\n",
    "        for (int nextCoin = currentCoin +1; nextCoin < coins.Length; nextCoin++)\n",
    "        {\n",
    "            if (coins[currentCoin] + coins[nextCoin] == target)\n",
    "            {\n",
    "                result[count, 0] = currentCoin;\n",
    "                result[count, 1] = nextCoin;\n",
    "                count++;\n",
    "\n",
    "            }\n",
    "\n",
    "\n",
    "            if (count == result.GetLength(0)) \n",
    "            {\n",
    "                return result;\n",
    "            }            \n",
    "                                     \n",
    "        }\n",
    "    }\n",
    "\n",
    "   return (count == 0) ? new int[0,0] : result; \n",
    "}\n",
    "\n",
    "\n"
   ]
  },
  {
   "cell_type": "code",
   "execution_count": 92,
   "metadata": {
    "dotnet_interactive": {
     "language": "csharp"
    },
    "polyglot_notebook": {
     "kernelName": "csharp"
    },
    "vscode": {
     "languageId": "polyglot-notebook"
    }
   },
   "outputs": [
    {
     "name": "stdout",
     "output_type": "stream",
     "text": [
      "No two coins make change\r\n"
     ]
    }
   ],
   "source": [
    "int target = 80;\n",
    "int[] coins = new int[] {5,5,50,25,25,10,5};\n",
    "int[,] result = TwoCoins(coins, target); \n",
    "\n",
    "// ------- check if coins make change\n",
    "\n",
    "if (result.Length == 0)\n",
    "{\n",
    "    Console.WriteLine(\"No two coins make change\");\n",
    "}\n",
    "else\n",
    "{\n",
    "    Console.WriteLine(\"Change found at positions:\");\n",
    "    for (int i = 0; i < result.GetLength(0); i++) \n",
    "    {\n",
    "        if (result[i,0] == -1) \n",
    "        {\n",
    "            break;\n",
    "        }\n",
    "        Console.WriteLine($\"{result[i,0]},{result[i,1]}\");\n",
    "    }\n",
    "}\n"
   ]
  },
  {
   "cell_type": "markdown",
   "metadata": {},
   "source": [
    "#### ⭐ **[Exercise - Complete the challenge to add methods to make the game playable](https://learn.microsoft.com/en-us/training/modules/create-c-sharp-methods-return-values/7-exercise-challenge-dice-game)**"
   ]
  },
  {
   "cell_type": "markdown",
   "metadata": {},
   "source": [
    "The focus of this challenge is to create correct methods with the proper parameters and return types."
   ]
  },
  {
   "cell_type": "markdown",
   "metadata": {},
   "source": [
    "##### ***Dice mini-game challenge***"
   ]
  },
  {
   "cell_type": "markdown",
   "metadata": {},
   "source": [
    "* Your challenge is to design a mini-game. \n",
    "* The game should select a target number that is a random number between one and five (inclusive).\n",
    "* The player must roll a six-sided die. To win, the player must roll a number greater than the target number. \n",
    "* At the end of each round, the player should be asked if they would like to play again, and the game should continue or terminate accordingly.\n",
    "\n",
    "In this challenge, you're given some starting code. You must determine what methods to create, their parameters, and their return types."
   ]
  },
  {
   "cell_type": "code",
   "execution_count": 93,
   "metadata": {
    "dotnet_interactive": {
     "language": "csharp"
    },
    "polyglot_notebook": {
     "kernelName": "csharp"
    },
    "vscode": {
     "languageId": "polyglot-notebook"
    }
   },
   "outputs": [],
   "source": [
    "/*\n",
    "    Plan:\n",
    "    target = random 1-5\n",
    "\n",
    "    player\n",
    "        - must roll 6-sided die\n",
    "\n",
    "    win\n",
    "        - roll > target\n",
    "\n",
    "    play again ? after a round\n",
    "\n",
    "*/"
   ]
  },
  {
   "cell_type": "markdown",
   "metadata": {},
   "source": [
    "##### ***Code challenge: add methods to make the game playable***"
   ]
  },
  {
   "cell_type": "markdown",
   "metadata": {},
   "source": [
    "*In the code that you start with, there are two unavailable methods referenced:*\n",
    "* `ShouldPlay`: This method should retrieve user input and determine if the user wants to play again\n",
    "* `WinOrLose`: This method should determine if the player has won or lost\n",
    "\n",
    "*There are also two uninitialized variables:*\n",
    "* `target`: The random target number between 1 and 5 \n",
    "* `roll`: The result of a random six-sided die roll\n",
    "\n",
    "Your challenge is to: \n",
    "1. create the `ShouldPlay` and `WinOrLose` methods\n",
    "2. create methods that set `target` and `roll` to random values in the correct range."
   ]
  },
  {
   "cell_type": "markdown",
   "metadata": {},
   "source": [
    "##### ***Starter Code***"
   ]
  },
  {
   "cell_type": "code",
   "execution_count": 94,
   "metadata": {
    "dotnet_interactive": {
     "language": "csharp"
    },
    "polyglot_notebook": {
     "kernelName": "csharp"
    },
    "vscode": {
     "languageId": "polyglot-notebook"
    }
   },
   "outputs": [
    {
     "ename": "Error",
     "evalue": "(4,5): error CS0103: The name 'ShouldPlay' does not exist in the current context\r\n(15,13): error CS0818: Implicitly-typed variables must be initialized\r\n(16,13): error CS0818: Implicitly-typed variables must be initialized\r\n(20,27): error CS0103: The name 'WinOrLose' does not exist in the current context\r\n(23,16): error CS0103: The name 'ShouldPlay' does not exist in the current context",
     "output_type": "error",
     "traceback": [
      "(4,5): error CS0103: The name 'ShouldPlay' does not exist in the current context\r\n",
      "(15,13): error CS0818: Implicitly-typed variables must be initialized\r\n",
      "(16,13): error CS0818: Implicitly-typed variables must be initialized\r\n",
      "(20,27): error CS0103: The name 'WinOrLose' does not exist in the current context\r\n",
      "(23,16): error CS0103: The name 'ShouldPlay' does not exist in the current context"
     ]
    }
   ],
   "source": [
    "Random random = new Random();\n",
    "\n",
    "Console.WriteLine(\"Would you like to play? (Y/N)\");\n",
    "if (ShouldPlay()) \n",
    "{\n",
    "    PlayGame();\n",
    "}\n",
    "\n",
    "void PlayGame() \n",
    "{\n",
    "    var play = true;\n",
    "\n",
    "    while (play) \n",
    "    {\n",
    "        var target;\n",
    "        var roll;\n",
    "\n",
    "        Console.WriteLine($\"Roll a number greater than {target} to win!\");\n",
    "        Console.WriteLine($\"You rolled a {roll}\");\n",
    "        Console.WriteLine(WinOrLose());\n",
    "        Console.WriteLine(\"\\nPlay again? (Y/N)\");\n",
    "\n",
    "        play = ShouldPlay();\n",
    "    }\n",
    "}"
   ]
  },
  {
   "cell_type": "markdown",
   "metadata": {},
   "source": [
    "**Output**"
   ]
  },
  {
   "cell_type": "code",
   "execution_count": 95,
   "metadata": {
    "dotnet_interactive": {
     "language": "csharp"
    },
    "polyglot_notebook": {
     "kernelName": "csharp"
    },
    "vscode": {
     "languageId": "polyglot-notebook"
    }
   },
   "outputs": [],
   "source": [
    "/*\n",
    "\n",
    "    Would you like to play? (Y/N)\n",
    "    Y\n",
    "    Roll a number greater than 1 to win!\n",
    "    You rolled a 2\n",
    "    You win!\n",
    "\n",
    "    Play again? (Y/N)\n",
    "    Y\n",
    "    Roll a number greater than 4 to win!\n",
    "    You rolled a 6\n",
    "    You win!\n",
    "\n",
    "    Play again? (Y/N)\n",
    "    Y\n",
    "    Roll a number greater than 1 to win!\n",
    "    You rolled a 1\n",
    "    You lose!\n",
    "\n",
    "    Play again? (Y/N)\n",
    "    N\n",
    "\n",
    "*/"
   ]
  },
  {
   "cell_type": "markdown",
   "metadata": {},
   "source": [
    "##### ***Playground***"
   ]
  },
  {
   "cell_type": "code",
   "execution_count": 1,
   "metadata": {
    "dotnet_interactive": {
     "language": "csharp"
    },
    "polyglot_notebook": {
     "kernelName": "csharp"
    },
    "vscode": {
     "languageId": "polyglot-notebook"
    }
   },
   "outputs": [],
   "source": [
    "// This method should retrieve user input and determine if the user wants to play again \n",
    "bool ShouldPlay(char playAnswer)\n",
    "{\n",
    "    return playAnswer == 'y' ? true:false;\n",
    "}"
   ]
  },
  {
   "cell_type": "code",
   "execution_count": null,
   "metadata": {
    "dotnet_interactive": {
     "language": "csharp"
    },
    "polyglot_notebook": {
     "kernelName": "csharp"
    },
    "vscode": {
     "languageId": "polyglot-notebook"
    }
   },
   "outputs": [],
   "source": [
    "Console.WriteLine(\"Would you like to play? (Y/N)\");\n",
    "readResult = Console.ReadLine(); // user input\n",
    "if (ShouldPlay()) \n",
    "{\n",
    "    PlayGame();\n",
    "}"
   ]
  },
  {
   "cell_type": "code",
   "execution_count": 5,
   "metadata": {
    "dotnet_interactive": {
     "language": "csharp"
    },
    "polyglot_notebook": {
     "kernelName": "csharp"
    },
    "vscode": {
     "languageId": "polyglot-notebook"
    }
   },
   "outputs": [
    {
     "name": "stdout",
     "output_type": "stream",
     "text": [
      "Would you like to play? (Y/N)\r\n"
     ]
    }
   ],
   "source": [
    "Console.WriteLine(\"Would you like to play? (Y/N)\");\n",
    "string readResult = Console.ReadLine(); // user input"
   ]
  },
  {
   "cell_type": "code",
   "execution_count": null,
   "metadata": {
    "dotnet_interactive": {
     "language": "csharp"
    },
    "polyglot_notebook": {
     "kernelName": "csharp"
    },
    "vscode": {
     "languageId": "polyglot-notebook"
    }
   },
   "outputs": [],
   "source": [
    "// This method should determine if the player has won or lost\n",
    "string WinOrLose()\n",
    "{\n",
    "\n",
    "    //string result = $\"You lose!\";\n",
    "    string result = $\"You win!\";\n",
    "    return result;\n",
    "\n",
    "}\n",
    "\n",
    "Console.WriteLine(ShouldPlay('y'));\n",
    "WinOrLose();"
   ]
  },
  {
   "cell_type": "code",
   "execution_count": 7,
   "metadata": {
    "dotnet_interactive": {
     "language": "csharp"
    },
    "polyglot_notebook": {
     "kernelName": "csharp"
    },
    "vscode": {
     "languageId": "polyglot-notebook"
    }
   },
   "outputs": [
    {
     "ename": "Error",
     "evalue": "(16,27): error CS0103: The name 'WinOrLose' does not exist in the current context\r\n(19,16): error CS7036: There is no argument given that corresponds to the required parameter 'playAnswer' of 'ShouldPlay(char)'",
     "output_type": "error",
     "traceback": [
      "(16,27): error CS0103: The name 'WinOrLose' does not exist in the current context\r\n",
      "(19,16): error CS7036: There is no argument given that corresponds to the required parameter 'playAnswer' of 'ShouldPlay(char)'"
     ]
    }
   ],
   "source": [
    "Random random = new Random();\n",
    "\n",
    "PlayGame();\n",
    "\n",
    "void PlayGame() \n",
    "{\n",
    "    var play = true;\n",
    "\n",
    "    while (play) \n",
    "    {\n",
    "        var target = random.Next(1,5);\n",
    "        var roll = random.Next(1,6);\n",
    "\n",
    "        Console.WriteLine($\"Roll a number greater than {target} to win!\");\n",
    "        Console.WriteLine($\"You rolled a {roll}\");\n",
    "        //Console.WriteLine(WinOrLose());\n",
    "        Console.WriteLine(\"\\nPlay again? (Y/N)\");\n",
    "\n",
    "        play = ShouldPlay();\n",
    "    }\n",
    "}"
   ]
  },
  {
   "cell_type": "code",
   "execution_count": null,
   "metadata": {
    "dotnet_interactive": {
     "language": "csharp"
    },
    "polyglot_notebook": {
     "kernelName": "csharp"
    },
    "vscode": {
     "languageId": "polyglot-notebook"
    }
   },
   "outputs": [],
   "source": [
    "Random random = new Random();\n",
    "\n",
    "Console.WriteLine(\"Would you like to play? (Y/N)\");\n",
    "if (ShouldPlay()) \n",
    "{\n",
    "    PlayGame();\n",
    "}\n",
    "\n",
    "bool ShouldPlay()\n",
    "{\n",
    "    string readResult = Console.ReadLine(); // user input\n",
    "    readResult = readResult.ToLower();\n",
    "    if (readResult == \"y\")\n",
    "    {\n",
    "        return true;\n",
    "    }\n",
    "    else\n",
    "    {\n",
    "        return false;\n",
    "    }\n",
    "\n",
    "}\n",
    "\n",
    "void PlayGame() \n",
    "{\n",
    "    var play = true;\n",
    "\n",
    "    while (play) \n",
    "    {\n",
    "        var target = GetTarget();\n",
    "        var roll = RollDice();\n",
    "\n",
    "        Console.WriteLine($\"Roll a number greater than {target} to win!\");\n",
    "        Console.WriteLine($\"You rolled a {roll}\");\n",
    "        Console.WriteLine(WinOrLose(target, roll));\n",
    "        Console.WriteLine(\"\\nPlay again? (Y/N)\");\n",
    "        play = ShouldPlay();\n",
    "    }\n",
    "\n",
    "\n",
    "}\n",
    "\n",
    "int GetTarget()\n",
    "{\n",
    "    int result = random.Next(1,6);\n",
    "    return result;\n",
    "}\n",
    "\n",
    "int RollDice()\n",
    "{\n",
    "    int result = random.Next(1,7);\n",
    "    return result;\n",
    "}\n",
    "\n",
    "\n",
    "// This method should determine if the player has won or lost\n",
    "string WinOrLose(int target, int roll)\n",
    "{\n",
    "    if (target <= roll)\n",
    "    {\n",
    "        return \"You lose!\";\n",
    "    }\n",
    "    else \n",
    "    {\n",
    "        return \"You win!\";\n",
    "    }\n",
    "\n",
    "}\n",
    "\n",
    "\n"
   ]
  },
  {
   "cell_type": "code",
   "execution_count": null,
   "metadata": {
    "dotnet_interactive": {
     "language": "csharp"
    },
    "polyglot_notebook": {
     "kernelName": "csharp"
    },
    "vscode": {
     "languageId": "polyglot-notebook"
    }
   },
   "outputs": [],
   "source": [
    "string? readResult; \n",
    "bool? shouldPlay; // nullable\n",
    "\n",
    "do\n",
    "{\n",
    "    Console.WriteLine(\"Would you like to play? (Y/N)\");\n",
    "    readResult = Console.ReadLine(); // user input\n",
    "\n",
    "    if (readResult != null)\n",
    "    {\n",
    "    readResult = readResult.ToLower();\n",
    "\n",
    "    // should play method\n",
    "    bool? ShouldPlay(string playAnswer) // ? = nullable  \n",
    "        {\n",
    "            if (playAnswer == \"y\")\n",
    "            {\n",
    "                return true;\n",
    "            }\n",
    "            else if (playAnswer == \"n\")\n",
    "            {\n",
    "                return false;\n",
    "            }\n",
    "            else\n",
    "            {\n",
    "                return null;\n",
    "            }\n",
    "        }\n",
    "\n",
    "        // check if should play\n",
    "        shouldPlay = ShouldPlay(readResult);   \n",
    "        if (shouldPlay == true) \n",
    "        {\n",
    "            Console.WriteLine(\"Play the game\");\n",
    "            //PlayGame();\n",
    "        }\n",
    "        else if (shouldPlay == false) \n",
    "        {\n",
    "            Console.WriteLine(\"Quit the game\");\n",
    "            //PlayGame();\n",
    "        }\n",
    "        else\n",
    "        {\n",
    "            Console.WriteLine(\"invalid answer\");\n",
    "        }\n",
    "    }\n",
    "\n",
    "} while (readResult != \"y\" && readResult != \"n\");"
   ]
  },
  {
   "cell_type": "markdown",
   "metadata": {},
   "source": [
    "##### ***Solution***"
   ]
  },
  {
   "cell_type": "code",
   "execution_count": null,
   "metadata": {
    "dotnet_interactive": {
     "language": "csharp"
    },
    "polyglot_notebook": {
     "kernelName": "csharp"
    },
    "vscode": {
     "languageId": "polyglot-notebook"
    }
   },
   "outputs": [],
   "source": [
    "Random random = new Random();\n",
    "\n",
    "Console.WriteLine(\"Would you like to play? (Y/N)\");\n",
    "if (ShouldPlay()) \n",
    "{\n",
    "    PlayGame();\n",
    "}\n",
    "\n",
    "bool ShouldPlay()\n",
    "{\n",
    "    string readResult = Console.ReadLine(); // user input\n",
    "    readResult = readResult.ToLower();\n",
    "    if (readResult == \"y\")\n",
    "    {\n",
    "        return true;\n",
    "    }\n",
    "    else\n",
    "    {\n",
    "        return false;\n",
    "    }\n",
    "\n",
    "}\n",
    "\n",
    "void PlayGame() \n",
    "{\n",
    "    var play = true;\n",
    "\n",
    "    while (play) \n",
    "    {\n",
    "        var target = GetTarget();\n",
    "        var roll = RollDice();\n",
    "\n",
    "        Console.WriteLine($\"Roll a number greater than {target} to win!\");\n",
    "        Console.WriteLine($\"You rolled a {roll}\");\n",
    "        Console.WriteLine(WinOrLose(target, roll));\n",
    "        Console.WriteLine(\"\\nPlay again? (Y/N)\");\n",
    "        play = ShouldPlay();\n",
    "    }\n",
    "\n",
    "\n",
    "}\n",
    "\n",
    "int GetTarget()\n",
    "{\n",
    "    int result = random.Next(1,6);\n",
    "    return result;\n",
    "}\n",
    "\n",
    "int RollDice()\n",
    "{\n",
    "    int result = random.Next(1,7);\n",
    "    return result;\n",
    "}\n",
    "\n",
    "\n",
    "// This method should determine if the player has won or lost\n",
    "string WinOrLose(int target, int roll)\n",
    "{\n",
    "    if (target <= roll)\n",
    "    {\n",
    "        return \"You lose!\";\n",
    "    }\n",
    "    else \n",
    "    {\n",
    "        return \"You win!\";\n",
    "    }\n",
    "\n",
    "}\n",
    "\n",
    "\n"
   ]
  },
  {
   "cell_type": "code",
   "execution_count": null,
   "metadata": {
    "dotnet_interactive": {
     "language": "csharp"
    },
    "polyglot_notebook": {
     "kernelName": "csharp"
    },
    "vscode": {
     "languageId": "polyglot-notebook"
    }
   },
   "outputs": [],
   "source": [
    "Random random = new Random();\n",
    "\n",
    "Console.WriteLine(\"Would you like to play? (Y/N)\");\n",
    "\n",
    "if (ShouldPlay()) \n",
    "{\n",
    "    PlayGame();\n",
    "}\n",
    "\n",
    "void PlayGame() \n",
    "{\n",
    "    var play = true;\n",
    "\n",
    "    while (play) \n",
    "    {\n",
    "        var target = random.Next(1,5);\n",
    "        var roll = random.Next(1,6);\n",
    "\n",
    "        Console.WriteLine($\"Roll a number greater than {target} to win!\");\n",
    "        Console.WriteLine($\"You rolled a {roll}\");\n",
    "        Console.WriteLine(WinOrLose(target, roll));\n",
    "        Console.WriteLine(\"\\nPlay again? (Y/N)\");\n",
    "\n",
    "        play = ShouldPlay();\n",
    "    }\n",
    "}\n",
    "\n",
    "\n",
    "// This method should retrieve user input and determine if the user wants to play again \n",
    "bool ShouldPlay()\n",
    "{\n",
    "    string readResult = Console.ReadLine().ToLower();\n",
    "    return readResult == \"y\" ? true:false;\n",
    "}\n",
    "\n",
    "// This method should determine if the player has won or lost\n",
    "string WinOrLose(int target, int roll)\n",
    "{\n",
    "    return target > roll ? \"You lose!\":\"You win!\";\n",
    "\n",
    "}"
   ]
  },
  {
   "cell_type": "markdown",
   "metadata": {},
   "source": [
    "#### ❓ **Check Knowledge: <insert>**"
   ]
  },
  {
   "cell_type": "markdown",
   "metadata": {},
   "source": [
    "1. Which of the following options correctly returns a string value? \n",
    "    * ✔️ return \"\";\n",
    "    * ❌ return 'a';\n",
    "    * ❌ return 5;\n",
    "\n",
    "    <br>\n",
    "\n",
    "2. Which of the following statements is true about the return keyword? \n",
    "    * ❌ It starts a new iteration of a method.\n",
    "    * ✔️ It terminates the execution of a method.\n",
    "    * ❌ It must always be used with a value or expression.\n",
    "    \n",
    "    <br>\n",
    "\n",
    "3. Which of the following options is a valid return statement? \n",
    "    * ❌ return void;\n",
    "    * ✔️ return 5 % 2;\n",
    "    * ❌ return Console.WriteLine();"
   ]
  },
  {
   "cell_type": "markdown",
   "metadata": {},
   "source": [
    "#### **Summary**"
   ]
  },
  {
   "cell_type": "markdown",
   "metadata": {},
   "source": [
    "* Your goal in this module was to understand how the return keyword affects method execution and practice using different expressions in return statements. \n",
    "* You also learned how to capture and use values returned from methods. \n",
    "* You even gained experience using return types while practicing some common coding interview questions."
   ]
  },
  {
   "cell_type": "markdown",
   "metadata": {},
   "source": [
    "_________________________\n",
    "\n",
    "### 🚀 [Guided project - Plan a Petting Zoo Visit](https://learn.microsoft.com/en-us/training/modules/guided-project-visit-petting-zoo/)\n",
    "\n",
    "_________________________"
   ]
  },
  {
   "cell_type": "markdown",
   "metadata": {},
   "source": [
    "####  ✔️ **Learning Objectives:**"
   ]
  },
  {
   "cell_type": "markdown",
   "metadata": {},
   "source": [
    "* Plan design details with pseudo-code\n",
    "* Use methods to perform specific tasks\n",
    "* Create methods that accept require and optional parameters\n",
    "* Use values returned from methods"
   ]
  },
  {
   "cell_type": "markdown",
   "metadata": {},
   "source": [
    "##### ***Prerequisites***"
   ]
  },
  {
   "cell_type": "markdown",
   "metadata": {},
   "source": [
    "* Experience using Visual Studio Code to develop, build, and run C# console applications\n",
    "* Experience using C# data types including int, string, and arrays\n",
    "* Experience using switch statements, if-else statements, and for loops\n",
    "* Experience using the Random class to generate a random number.\n",
    "* Basic understanding of C# methods"
   ]
  },
  {
   "cell_type": "markdown",
   "metadata": {},
   "source": [
    "####  **Introduction:**"
   ]
  },
  {
   "cell_type": "markdown",
   "metadata": {},
   "source": [
    "Methods are a fundamental programming concept. They provide code reusability, improve readability, and reduce the size of your code. Methods help you break down complex problems into modularized tasks, and help organize your code. Now that you've learned about methods, you're ready to start developing more functionality into your programs!\n",
    "\n",
    "Suppose you're an event coordinator for a petting zoo. You must regularly coordinate visits from different schools and organize animal visits for several groups of students. \n",
    "\n",
    "**You decide to write an application that helps you plan school visits.**\n",
    "* The application divides students into groups and assigns them a set of animals to visit. \n",
    "* The students will rotate groups after they visit their assigned animals. \n",
    "* You decide to randomize the order animals so that each school's visit is unique.\n",
    "\n",
    "**This module will guide you through the steps required to develop your petting zoo application.** \n",
    "* Your code will use methods to: \n",
    "    * plan a visit for three schools\n",
    "    * randomize the order of animals\n",
    "    * assign students to groups\n",
    "    * display the results.\n",
    "\n",
    "    <br>\n",
    "\n",
    "* You'll use methods that: \n",
    "    * accept parameters\n",
    "    * return values\n",
    "    * include some optional parameters"
   ]
  },
  {
   "cell_type": "markdown",
   "metadata": {},
   "source": [
    "#### **Prepare**"
   ]
  },
  {
   "cell_type": "markdown",
   "metadata": {},
   "source": [
    "* You'll be using Visual Studio Code to develop an application that relies on different methods to perform a task. \n",
    "* Some methods use optional parameters and return values. \n",
    "* Here, you'll find the overall goals of the project and how you'll build and test your application. \n",
    "* You'll also set up your development environment using some Starter code."
   ]
  },
  {
   "cell_type": "markdown",
   "metadata": {},
   "source": [
    "##### ***Project overview***"
   ]
  },
  {
   "cell_type": "markdown",
   "metadata": {},
   "source": [
    "![](./Assets/guided-project-overview.png)"
   ]
  },
  {
   "cell_type": "markdown",
   "metadata": {},
   "source": [
    "Project Repo: [CLICK](./guided-petting-zoo/)"
   ]
  },
  {
   "cell_type": "markdown",
   "metadata": {},
   "source": [
    "##### ***Starter Code***"
   ]
  },
  {
   "cell_type": "code",
   "execution_count": 1,
   "metadata": {
    "dotnet_interactive": {
     "language": "csharp"
    },
    "polyglot_notebook": {
     "kernelName": "csharp"
    },
    "vscode": {
     "languageId": "polyglot-notebook"
    }
   },
   "outputs": [],
   "source": [
    "using System;\n",
    "\n",
    "string[] pettingZoo = \n",
    "{\n",
    "    \"alpacas\", \"capybaras\", \"chickens\", \"ducks\", \"emus\", \"geese\", \n",
    "    \"goats\", \"iguanas\", \"kangaroos\", \"lemurs\", \"llamas\", \"macaws\", \n",
    "    \"ostriches\", \"pigs\", \"ponies\", \"rabbits\", \"sheep\", \"tortoises\",\n",
    "};"
   ]
  },
  {
   "cell_type": "markdown",
   "metadata": {},
   "source": [
    "#### 🚀 **[Exercise - Plan your code using methods](https://learn.microsoft.com/en-us/training/modules/guided-project-visit-petting-zoo/3-exercise-plan-use-methods?ns-enrollment-type=learningpath&ns-enrollment-id=learn.wwl.get-started-c-sharp-part-5)**"
   ]
  },
  {
   "cell_type": "markdown",
   "metadata": {},
   "source": [
    "##### ***Intro***"
   ]
  },
  {
   "cell_type": "markdown",
   "metadata": {},
   "source": [
    "* In this first step of your development process, you'll begin planning your application through pseudo-code. \n",
    "* You'll identify the steps and methods that are needed to complete the task. \n",
    "* You also need to consider the input and output of these methods as well. \n",
    "* Preparing methods via pseudo-code is a helpful step in any coding task, and can help you develop bug-free code quickly."
   ]
  },
  {
   "cell_type": "markdown",
   "metadata": {},
   "source": [
    "##### ***Convert tasks into pseudo-code***"
   ]
  },
  {
   "cell_type": "markdown",
   "metadata": {},
   "source": [
    "**Consider Design Specifications**\n",
    "\n",
    "* write  pseudo-code for one school. \n",
    "* apply the same logic to the others"
   ]
  },
  {
   "cell_type": "markdown",
   "metadata": {},
   "source": [
    "    DESIGN SPECIFICATIONS\n",
    "\n",
    "    - There will be three visiting schools\n",
    "        - School A has six visiting groups (the default number)\n",
    "        - School B has three visiting groups\n",
    "        - School C has two visiting groups\n",
    "\n",
    "    - For each visiting school, perform the following tasks\n",
    "        1. Randomize the animals\n",
    "        2. Assign the animals to the correct number of groups\n",
    "        3. Print the school name\n",
    "        4. Print the animal groups"
   ]
  },
  {
   "cell_type": "markdown",
   "metadata": {},
   "source": [
    "**1. Plan for randomising animals**"
   ]
  },
  {
   "cell_type": "code",
   "execution_count": 3,
   "metadata": {
    "dotnet_interactive": {
     "language": "csharp"
    },
    "polyglot_notebook": {
     "kernelName": "csharp"
    },
    "vscode": {
     "languageId": "polyglot-notebook"
    }
   },
   "outputs": [],
   "source": [
    "/*\n",
    "\n",
    "    DESIGN SPECIFICATIONS\n",
    "\n",
    "    - There will be three visiting schools\n",
    "        - School A has six visiting groups (the default number)\n",
    "        - School B has three visiting groups\n",
    "        - School C has two visiting groups\n",
    "\n",
    "    - For each visiting school, perform the following tasks\n",
    "        1. Randomize the animals\n",
    "        2. Assign the animals to the correct number of groups\n",
    "        3. Print the school name\n",
    "        4. Print the animal groups\n",
    "\n",
    "*/\n",
    "\n",
    "using System;\n",
    "\n",
    "string[] pettingZoo = \n",
    "{\n",
    "    \"alpacas\", \"capybaras\", \"chickens\", \"ducks\", \"emus\", \"geese\", \n",
    "    \"goats\", \"iguanas\", \"kangaroos\", \"lemurs\", \"llamas\", \"macaws\", \n",
    "    \"ostriches\", \"pigs\", \"ponies\", \"rabbits\", \"sheep\", \"tortoises\",\n",
    "};\n",
    "\n",
    "// RandomizeAnimals();"
   ]
  },
  {
   "cell_type": "markdown",
   "metadata": {},
   "source": [
    "**2. Plan for assign animals to groups**"
   ]
  },
  {
   "cell_type": "code",
   "execution_count": 4,
   "metadata": {
    "dotnet_interactive": {
     "language": "csharp"
    },
    "polyglot_notebook": {
     "kernelName": "csharp"
    },
    "vscode": {
     "languageId": "polyglot-notebook"
    }
   },
   "outputs": [],
   "source": [
    "/*\n",
    "\n",
    "    DESIGN SPECIFICATIONS\n",
    "\n",
    "    - There will be three visiting schools\n",
    "        - School A has six visiting groups (the default number)\n",
    "        - School B has three visiting groups\n",
    "        - School C has two visiting groups\n",
    "\n",
    "    - For each visiting school, perform the following tasks\n",
    "        1. Randomize the animals\n",
    "        2. Assign the animals to the correct number of groups\n",
    "        3. Print the school name\n",
    "        4. Print the animal groups\n",
    "\n",
    "*/\n",
    "\n",
    "using System;\n",
    "\n",
    "string[] pettingZoo = \n",
    "{\n",
    "    \"alpacas\", \"capybaras\", \"chickens\", \"ducks\", \"emus\", \"geese\", \n",
    "    \"goats\", \"iguanas\", \"kangaroos\", \"lemurs\", \"llamas\", \"macaws\", \n",
    "    \"ostriches\", \"pigs\", \"ponies\", \"rabbits\", \"sheep\", \"tortoises\",\n",
    "};\n",
    "\n",
    "// RandomizeAnimals();\n",
    "// AssignGroup();"
   ]
  },
  {
   "cell_type": "markdown",
   "metadata": {},
   "source": [
    "**3. Plan to Print School Name**"
   ]
  },
  {
   "cell_type": "code",
   "execution_count": 2,
   "metadata": {
    "dotnet_interactive": {
     "language": "csharp"
    },
    "polyglot_notebook": {
     "kernelName": "csharp"
    },
    "vscode": {
     "languageId": "polyglot-notebook"
    }
   },
   "outputs": [
    {
     "name": "stdout",
     "output_type": "stream",
     "text": [
      "School A\r\n"
     ]
    }
   ],
   "source": [
    "/*\n",
    "\n",
    "    DESIGN SPECIFICATIONS\n",
    "\n",
    "    - There will be three visiting schools\n",
    "        - School A has six visiting groups (the default number)\n",
    "        - School B has three visiting groups\n",
    "        - School C has two visiting groups\n",
    "\n",
    "    - For each visiting school, perform the following tasks\n",
    "        1. Randomize the animals\n",
    "        2. Assign the animals to the correct number of groups\n",
    "        3. Print the school name\n",
    "        4. Print the animal groups\n",
    "\n",
    "*/\n",
    "\n",
    "using System;\n",
    "\n",
    "string[] pettingZoo = \n",
    "{\n",
    "    \"alpacas\", \"capybaras\", \"chickens\", \"ducks\", \"emus\", \"geese\", \n",
    "    \"goats\", \"iguanas\", \"kangaroos\", \"lemurs\", \"llamas\", \"macaws\", \n",
    "    \"ostriches\", \"pigs\", \"ponies\", \"rabbits\", \"sheep\", \"tortoises\",\n",
    "};\n",
    "\n",
    "// RandomizeAnimals();\n",
    "// AssignGroup();\n",
    "\n",
    "Console.WriteLine(\"School A\");"
   ]
  },
  {
   "cell_type": "markdown",
   "metadata": {},
   "source": [
    "**4. Plan to print animal groups**"
   ]
  },
  {
   "cell_type": "markdown",
   "metadata": {},
   "source": [
    "Notice that you added a parameter to this method. \n",
    "* You know that you need to print different groups of animals several times, so you use a method to perform this task with the group as the input parameter. \n",
    "* Take a moment to consider where you can initialize the group argument in your pseudo-code."
   ]
  },
  {
   "cell_type": "code",
   "execution_count": null,
   "metadata": {
    "dotnet_interactive": {
     "language": "csharp"
    },
    "polyglot_notebook": {
     "kernelName": "csharp"
    },
    "vscode": {
     "languageId": "polyglot-notebook"
    }
   },
   "outputs": [],
   "source": [
    "/*\n",
    "\n",
    "    DESIGN SPECIFICATIONS\n",
    "\n",
    "    - There will be three visiting schools\n",
    "        - School A has six visiting groups (the default number)\n",
    "        - School B has three visiting groups\n",
    "        - School C has two visiting groups\n",
    "\n",
    "    - For each visiting school, perform the following tasks\n",
    "        1. Randomize the animals\n",
    "        2. Assign the animals to the correct number of groups\n",
    "        3. Print the school name\n",
    "        4. Print the animal groups\n",
    "\n",
    "*/\n",
    "\n",
    "using System;\n",
    "\n",
    "string[] pettingZoo = \n",
    "{\n",
    "    \"alpacas\", \"capybaras\", \"chickens\", \"ducks\", \"emus\", \"geese\", \n",
    "    \"goats\", \"iguanas\", \"kangaroos\", \"lemurs\", \"llamas\", \"macaws\", \n",
    "    \"ostriches\", \"pigs\", \"ponies\", \"rabbits\", \"sheep\", \"tortoises\",\n",
    "};\n",
    "\n",
    "// RandomizeAnimals();\n",
    "// AssignGroup();\n",
    "\n",
    "Console.WriteLine(\"School A\");\n",
    "// PrintGroup(group);"
   ]
  },
  {
   "cell_type": "markdown",
   "metadata": {},
   "source": [
    "**5. Update the Assign Group plan to incorporate the group argument**"
   ]
  },
  {
   "cell_type": "code",
   "execution_count": 5,
   "metadata": {
    "dotnet_interactive": {
     "language": "csharp"
    },
    "polyglot_notebook": {
     "kernelName": "csharp"
    },
    "vscode": {
     "languageId": "polyglot-notebook"
    }
   },
   "outputs": [
    {
     "name": "stdout",
     "output_type": "stream",
     "text": [
      "School A\r\n"
     ]
    }
   ],
   "source": [
    "/*\n",
    "\n",
    "    DESIGN SPECIFICATIONS\n",
    "\n",
    "    - There will be three visiting schools\n",
    "        - School A has six visiting groups (the default number)\n",
    "        - School B has three visiting groups\n",
    "        - School C has two visiting groups\n",
    "\n",
    "    - For each visiting school, perform the following tasks\n",
    "        1. Randomize the animals\n",
    "        2. Assign the animals to the correct number of groups\n",
    "        3. Print the school name\n",
    "        4. Print the animal groups\n",
    "\n",
    "*/\n",
    "\n",
    "using System;\n",
    "\n",
    "string[] pettingZoo = \n",
    "{\n",
    "    \"alpacas\", \"capybaras\", \"chickens\", \"ducks\", \"emus\", \"geese\", \n",
    "    \"goats\", \"iguanas\", \"kangaroos\", \"lemurs\", \"llamas\", \"macaws\", \n",
    "    \"ostriches\", \"pigs\", \"ponies\", \"rabbits\", \"sheep\", \"tortoises\",\n",
    "};\n",
    "\n",
    "// RandomizeAnimals();\n",
    "// var group = AssignGroup();\n",
    "\n",
    "Console.WriteLine(\"School A\");\n",
    "// PrintGroup(group);"
   ]
  },
  {
   "cell_type": "markdown",
   "metadata": {},
   "source": [
    "**6. Consider what data type to assign to group variable (instead of var)**"
   ]
  },
  {
   "cell_type": "markdown",
   "metadata": {},
   "source": [
    "* You want School A to have animals assigned into six groups. \n",
    "* And you know that there are 18 animals. \n",
    "* You also know that the animals are represented using string. \n",
    "* So you can use a 2D array that contains six groups of three animals each."
   ]
  },
  {
   "cell_type": "code",
   "execution_count": 30,
   "metadata": {
    "dotnet_interactive": {
     "language": "csharp"
    },
    "polyglot_notebook": {
     "kernelName": "csharp"
    },
    "vscode": {
     "languageId": "polyglot-notebook"
    }
   },
   "outputs": [
    {
     "name": "stdout",
     "output_type": "stream",
     "text": [
      "School A\r\n"
     ]
    }
   ],
   "source": [
    "/*\n",
    "\n",
    "    DESIGN SPECIFICATIONS\n",
    "\n",
    "    - There will be three visiting schools\n",
    "        - School A has six visiting groups (the default number)\n",
    "        - School B has three visiting groups\n",
    "        - School C has two visiting groups\n",
    "\n",
    "    - For each visiting school, perform the following tasks\n",
    "        1. Randomize the animals\n",
    "        2. Assign the animals to the correct number of groups\n",
    "        3. Print the school name\n",
    "        4. Print the animal groups\n",
    "\n",
    "*/\n",
    "\n",
    "using System;\n",
    "\n",
    "string[] pettingZoo = \n",
    "{\n",
    "    \"alpacas\", \"capybaras\", \"chickens\", \"ducks\", \"emus\", \"geese\", \n",
    "    \"goats\", \"iguanas\", \"kangaroos\", \"lemurs\", \"llamas\", \"macaws\", \n",
    "    \"ostriches\", \"pigs\", \"ponies\", \"rabbits\", \"sheep\", \"tortoises\",\n",
    "};\n",
    "\n",
    "// RandomizeAnimals();\n",
    "// string[,] group = AssignGroup();\n",
    "\n",
    "Console.WriteLine(\"School A\");\n",
    "// PrintGroup(group);"
   ]
  },
  {
   "cell_type": "markdown",
   "metadata": {},
   "source": [
    "#### 🚀 **[Exercise - Create a method to shuffle an array](https://learn.microsoft.com/en-us/training/modules/guided-project-visit-petting-zoo/4-exercise-shuffle-array)**"
   ]
  },
  {
   "cell_type": "markdown",
   "metadata": {},
   "source": [
    "#####  **Intro:**"
   ]
  },
  {
   "cell_type": "markdown",
   "metadata": {},
   "source": [
    "In this step, you'll develop the code to complete your first subtask, which is to randomize the petting zoo animals. Recall that you referenced a method RandomizeAnimals() in your pseudo-code. Let's get started!"
   ]
  },
  {
   "cell_type": "markdown",
   "metadata": {},
   "source": [
    "#####  **Shuffle an array**"
   ]
  },
  {
   "cell_type": "markdown",
   "metadata": {},
   "source": [
    "Randomizing the elements of an array can seem like a daunting task. Before you begin, take a moment to consider how you would swap the values of two variables, a and b.\n",
    "\n",
    "If you immediately assign a = b, you'll lose the original value of a and end up with two variables equal to b. You need to use a temporary variable to store the value of a before you can overwrite it. Let's use this concept to begin your task."
   ]
  },
  {
   "cell_type": "markdown",
   "metadata": {},
   "source": [
    "**1. Create method signature**"
   ]
  },
  {
   "cell_type": "markdown",
   "metadata": {},
   "source": [
    "For this method, you don't need any input parameters since you'll use the existing global `pettingZoo` variable. You also don't need any input parameters for this task. To start this method, let's write some code to swap some elements in the array."
   ]
  },
  {
   "cell_type": "code",
   "execution_count": 2,
   "metadata": {
    "dotnet_interactive": {
     "language": "csharp"
    },
    "polyglot_notebook": {
     "kernelName": "csharp"
    },
    "vscode": {
     "languageId": "polyglot-notebook"
    }
   },
   "outputs": [
    {
     "name": "stdout",
     "output_type": "stream",
     "text": [
      "School A\r\n"
     ]
    }
   ],
   "source": [
    "/*\n",
    "\n",
    "    DESIGN SPECIFICATIONS\n",
    "\n",
    "    - There will be three visiting schools\n",
    "        - School A has six visiting groups (the default number)\n",
    "        - School B has three visiting groups\n",
    "        - School C has two visiting groups\n",
    "\n",
    "    - For each visiting school, perform the following tasks\n",
    "        1. Randomize the animals\n",
    "        2. Assign the animals to the correct number of groups\n",
    "        3. Print the school name\n",
    "        4. Print the animal groups\n",
    "\n",
    "*/\n",
    "\n",
    "using System;\n",
    "\n",
    "string[] pettingZoo = \n",
    "{\n",
    "    \"alpacas\", \"capybaras\", \"chickens\", \"ducks\", \"emus\", \"geese\", \n",
    "    \"goats\", \"iguanas\", \"kangaroos\", \"lemurs\", \"llamas\", \"macaws\", \n",
    "    \"ostriches\", \"pigs\", \"ponies\", \"rabbits\", \"sheep\", \"tortoises\",\n",
    "};\n",
    "\n",
    "// RandomizeAnimals();\n",
    "// string[,] group = AssignGroup();\n",
    "\n",
    "Console.WriteLine(\"School A\");\n",
    "// PrintGroup(group);\n",
    "\n",
    "// create method signature\n",
    "void RandomizeAnimals()\n",
    "{\n",
    "\n",
    "}"
   ]
  },
  {
   "cell_type": "markdown",
   "metadata": {},
   "source": [
    "**2. initialise variables and string**"
   ]
  },
  {
   "cell_type": "markdown",
   "metadata": {},
   "source": [
    "In this code, you're temporarily using `i` and `r` to represent some random indices in the array. Then you swap the values at the two indices with the help of the temp variable. \n",
    "\n",
    "Notice how using temp prevents us from losing the original value of `pettingZoo[i]` after it's overwritten. Next, let's set `r` to a random value instead of 1."
   ]
  },
  {
   "cell_type": "code",
   "execution_count": 9,
   "metadata": {
    "dotnet_interactive": {
     "language": "csharp"
    },
    "polyglot_notebook": {
     "kernelName": "csharp"
    },
    "vscode": {
     "languageId": "polyglot-notebook"
    }
   },
   "outputs": [
    {
     "name": "stdout",
     "output_type": "stream",
     "text": [
      "School A\r\n"
     ]
    }
   ],
   "source": [
    "/*\n",
    "\n",
    "    DESIGN SPECIFICATIONS\n",
    "\n",
    "    - There will be three visiting schools\n",
    "        - School A has six visiting groups (the default number)\n",
    "        - School B has three visiting groups\n",
    "        - School C has two visiting groups\n",
    "\n",
    "    - For each visiting school, perform the following tasks\n",
    "        1. Randomize the animals\n",
    "        2. Assign the animals to the correct number of groups\n",
    "        3. Print the school name\n",
    "        4. Print the animal groups\n",
    "\n",
    "*/\n",
    "\n",
    "using System;\n",
    "\n",
    "string[] pettingZoo = \n",
    "{\n",
    "    \"alpacas\", \"capybaras\", \"chickens\", \"ducks\", \"emus\", \"geese\", \n",
    "    \"goats\", \"iguanas\", \"kangaroos\", \"lemurs\", \"llamas\", \"macaws\", \n",
    "    \"ostriches\", \"pigs\", \"ponies\", \"rabbits\", \"sheep\", \"tortoises\",\n",
    "};\n",
    "\n",
    "// RandomizeAnimals();\n",
    "// string[,] group = AssignGroup();\n",
    "\n",
    "Console.WriteLine(\"School A\");\n",
    "// PrintGroup(group);\n",
    "\n",
    "// create method signature\n",
    "void RandomizeAnimals()\n",
    "{\n",
    "    int i = 0;\n",
    "    int r = 1;\n",
    "\n",
    "    string temp =  pettingZoo[i]; \n",
    "    pettingZoo[i] = pettingZoo[r];\n",
    "    pettingZoo[r] = temp;\n",
    "}"
   ]
  },
  {
   "cell_type": "markdown",
   "metadata": {},
   "source": [
    "**3. Initialise a random object to generate a random number with bounds**"
   ]
  },
  {
   "cell_type": "markdown",
   "metadata": {},
   "source": [
    "In this step, you initialized a random object to help us generate a random number. And you initialized r to a random integer between 0 and the length of the pettingZoo array. \n",
    "\n",
    "This will ensure you don't go out of bounds of the array. You can apply this code to the entirety of the array to randomize all of the elements."
   ]
  },
  {
   "cell_type": "code",
   "execution_count": 10,
   "metadata": {
    "dotnet_interactive": {
     "language": "csharp"
    },
    "polyglot_notebook": {
     "kernelName": "csharp"
    },
    "vscode": {
     "languageId": "polyglot-notebook"
    }
   },
   "outputs": [
    {
     "name": "stdout",
     "output_type": "stream",
     "text": [
      "School A\r\n"
     ]
    }
   ],
   "source": [
    "/*\n",
    "\n",
    "    DESIGN SPECIFICATIONS\n",
    "\n",
    "    - There will be three visiting schools\n",
    "        - School A has six visiting groups (the default number)\n",
    "        - School B has three visiting groups\n",
    "        - School C has two visiting groups\n",
    "\n",
    "    - For each visiting school, perform the following tasks\n",
    "        1. Randomize the animals\n",
    "        2. Assign the animals to the correct number of groups\n",
    "        3. Print the school name\n",
    "        4. Print the animal groups\n",
    "\n",
    "*/\n",
    "\n",
    "using System;\n",
    "\n",
    "string[] pettingZoo = \n",
    "{\n",
    "    \"alpacas\", \"capybaras\", \"chickens\", \"ducks\", \"emus\", \"geese\", \n",
    "    \"goats\", \"iguanas\", \"kangaroos\", \"lemurs\", \"llamas\", \"macaws\", \n",
    "    \"ostriches\", \"pigs\", \"ponies\", \"rabbits\", \"sheep\", \"tortoises\",\n",
    "};\n",
    "\n",
    "// RandomizeAnimals();\n",
    "// string[,] group = AssignGroup();\n",
    "\n",
    "Console.WriteLine(\"School A\");\n",
    "// PrintGroup(group);\n",
    "\n",
    "// create method signature\n",
    "void RandomizeAnimals()\n",
    "{\n",
    "    Random random = new Random();\n",
    "\n",
    "    int i = 0;\n",
    "    int r = random.Next(pettingZoo.Length);\n",
    "\n",
    "    string temp =  pettingZoo[i]; \n",
    "    pettingZoo[i] = pettingZoo[r];\n",
    "    pettingZoo[r] = temp;\n",
    "}"
   ]
  },
  {
   "cell_type": "markdown",
   "metadata": {},
   "source": [
    "**4. modify method to include a for-loop to cycle through array**"
   ]
  },
  {
   "cell_type": "markdown",
   "metadata": {},
   "source": [
    "Now you cycle through each element in the array, select a random index, and swap it with the current element. However, if you run this code and observe the changes on pettingZoo, you might notice an issue. Some elements don't get swapped at all, and some elements are swapped multiple times.\n",
    "\n",
    "You can improve the distribution of randomly selected elements by updating the range as you move through the array."
   ]
  },
  {
   "cell_type": "code",
   "execution_count": 28,
   "metadata": {
    "dotnet_interactive": {
     "language": "csharp"
    },
    "polyglot_notebook": {
     "kernelName": "csharp"
    },
    "vscode": {
     "languageId": "polyglot-notebook"
    }
   },
   "outputs": [
    {
     "name": "stdout",
     "output_type": "stream",
     "text": [
      "School A\n",
      "capybaras\n",
      "emus\n",
      "sheep\n",
      "kangaroos\n",
      "ducks\n",
      "alpacas\n",
      "llamas\n",
      "tortoises\n",
      "goats\n",
      "chickens\n",
      "iguanas\n",
      "rabbits\n",
      "ostriches\n",
      "geese\n",
      "macaws\n",
      "lemurs\n",
      "pigs\n",
      "ponies\n"
     ]
    }
   ],
   "source": [
    "/*\n",
    "\n",
    "    DESIGN SPECIFICATIONS\n",
    "\n",
    "    - There will be three visiting schools\n",
    "        - School A has six visiting groups (the default number)\n",
    "        - School B has three visiting groups\n",
    "        - School C has two visiting groups\n",
    "\n",
    "    - For each visiting school, perform the following tasks\n",
    "        1. Randomize the animals\n",
    "        2. Assign the animals to the correct number of groups\n",
    "        3. Print the school name\n",
    "        4. Print the animal groups\n",
    "\n",
    "*/\n",
    "\n",
    "using System;\n",
    "\n",
    "string[] pettingZoo = \n",
    "{\n",
    "    \"alpacas\", \"capybaras\", \"chickens\", \"ducks\", \"emus\", \"geese\", \n",
    "    \"goats\", \"iguanas\", \"kangaroos\", \"lemurs\", \"llamas\", \"macaws\", \n",
    "    \"ostriches\", \"pigs\", \"ponies\", \"rabbits\", \"sheep\", \"tortoises\",\n",
    "};\n",
    "\n",
    "RandomizeAnimals();\n",
    "// string[,] group = AssignGroup();\n",
    "\n",
    "Console.WriteLine(\"School A\");\n",
    "// PrintGroup(group);\n",
    "\n",
    "// create method signature\n",
    "void RandomizeAnimals()\n",
    "{\n",
    "    /*\n",
    "        This method:\n",
    "        • iterates through an array of animals\n",
    "        • generates a random number between 0 and the length of the array (18) in each loop\n",
    "        • sets the value of temp to the animal at the random index of the array\n",
    "    */\n",
    "    Random random = new Random();\n",
    "\n",
    "    for (int i = 0; i < pettingZoo.Length; i++)\n",
    "    {\n",
    "        int r = random.Next(pettingZoo.Length);\n",
    "\n",
    "        string temp =  pettingZoo[i]; \n",
    "        pettingZoo[i] = pettingZoo[r];\n",
    "        pettingZoo[r] = temp;\n",
    "    }\n",
    "}\n",
    "\n",
    "foreach(string animal in pettingZoo) \n",
    "{\n",
    "    Console.WriteLine(animal);\n",
    "}\n",
    "\n"
   ]
  },
  {
   "cell_type": "markdown",
   "metadata": {},
   "source": [
    "**5. Update the random function to exclude values < i (already been swapped)**"
   ]
  },
  {
   "cell_type": "markdown",
   "metadata": {},
   "source": [
    "Now, as you iterate through the for loop, you update the range of the randomly selected index to exclude values less than i. This is because indices at values less than i have already been swapped in previous iterations of the loop.\n",
    "\n"
   ]
  },
  {
   "cell_type": "code",
   "execution_count": 29,
   "metadata": {
    "dotnet_interactive": {
     "language": "csharp"
    },
    "polyglot_notebook": {
     "kernelName": "csharp"
    },
    "vscode": {
     "languageId": "polyglot-notebook"
    }
   },
   "outputs": [
    {
     "name": "stdout",
     "output_type": "stream",
     "text": [
      "School A\n",
      "chickens\n",
      "ponies\n",
      "geese\n",
      "llamas\n",
      "iguanas\n",
      "ostriches\n",
      "goats\n",
      "lemurs\n",
      "ducks\n",
      "macaws\n",
      "sheep\n",
      "capybaras\n",
      "tortoises\n",
      "kangaroos\n",
      "emus\n",
      "pigs\n",
      "rabbits\n",
      "alpacas\n"
     ]
    }
   ],
   "source": [
    "/*\n",
    "\n",
    "    DESIGN SPECIFICATIONS\n",
    "\n",
    "    - There will be three visiting schools\n",
    "        - School A has six visiting groups (the default number)\n",
    "        - School B has three visiting groups\n",
    "        - School C has two visiting groups\n",
    "\n",
    "    - For each visiting school, perform the following tasks\n",
    "        1. Randomize the animals\n",
    "        2. Assign the animals to the correct number of groups\n",
    "        3. Print the school name\n",
    "        4. Print the animal groups\n",
    "\n",
    "*/\n",
    "\n",
    "using System;\n",
    "\n",
    "string[] pettingZoo = \n",
    "{\n",
    "    \"alpacas\", \"capybaras\", \"chickens\", \"ducks\", \"emus\", \"geese\", \n",
    "    \"goats\", \"iguanas\", \"kangaroos\", \"lemurs\", \"llamas\", \"macaws\", \n",
    "    \"ostriches\", \"pigs\", \"ponies\", \"rabbits\", \"sheep\", \"tortoises\",\n",
    "};\n",
    "\n",
    "RandomizeAnimals();\n",
    "// string[,] group = AssignGroup();\n",
    "\n",
    "Console.WriteLine(\"School A\");\n",
    "// PrintGroup(group);\n",
    "\n",
    "// create method signature\n",
    "void RandomizeAnimals()\n",
    "{\n",
    "    /*\n",
    "        This method:\n",
    "        • iterates through an array of animals\n",
    "        • generates a random number between 0 and the length of the array (18) in each loop\n",
    "        • sets the value of temp to the animal at the random index of the array\n",
    "    */\n",
    "    Random random = new Random();\n",
    "\n",
    "    for (int i = 0; i < pettingZoo.Length; i++)\n",
    "    {\n",
    "        // int r = random.Next(pettingZoo.Length);\n",
    "        int r = random.Next(i, pettingZoo.Length);\n",
    "\n",
    "        string temp =  pettingZoo[i]; \n",
    "        pettingZoo[i] = pettingZoo[r];\n",
    "        pettingZoo[r] = temp;\n",
    "    }\n",
    "}\n",
    "\n",
    "// test\n",
    "foreach(string animal in pettingZoo) \n",
    "{\n",
    "    Console.WriteLine(animal);\n",
    "}\n"
   ]
  },
  {
   "cell_type": "markdown",
   "metadata": {},
   "source": [
    "#### 🚀 **[Exercise - Create a method with an optional parameter](https://learn.microsoft.com/en-us/training/modules/guided-project-visit-petting-zoo/5-exercise-optional-parameters)**"
   ]
  },
  {
   "cell_type": "markdown",
   "metadata": {},
   "source": [
    "#####  **Intro:**"
   ]
  },
  {
   "cell_type": "markdown",
   "metadata": {},
   "source": [
    "In this step, you'll develop the code to complete another subtask, which is to assign the petting zoo animals to groups. Recall that you referenced a method AssignGroup() in your pseudo-code. Let's get started!"
   ]
  },
  {
   "cell_type": "markdown",
   "metadata": {},
   "source": [
    "#####  **Develop your method**"
   ]
  },
  {
   "cell_type": "markdown",
   "metadata": {},
   "source": [
    "In this task, you'll complete a method that assigns the petting zoo animals to groups. You'll use what you learned about method return types and parameters to create your method. Let's get started!\n",
    "\n"
   ]
  },
  {
   "cell_type": "markdown",
   "metadata": {},
   "source": [
    "**1. Define assignGroups method**"
   ]
  },
  {
   "cell_type": "code",
   "execution_count": 35,
   "metadata": {
    "dotnet_interactive": {
     "language": "csharp"
    },
    "polyglot_notebook": {
     "kernelName": "csharp"
    },
    "vscode": {
     "languageId": "polyglot-notebook"
    }
   },
   "outputs": [
    {
     "ename": "Error",
     "evalue": "(47,11): error CS0161: 'AssignGroup(int)': not all code paths return a value",
     "output_type": "error",
     "traceback": [
      "(47,11): error CS0161: 'AssignGroup(int)': not all code paths return a value"
     ]
    }
   ],
   "source": [
    "/*\n",
    "\n",
    "    DESIGN SPECIFICATIONS\n",
    "\n",
    "    - There will be three visiting schools\n",
    "        - School A has six visiting groups (the default number)\n",
    "        - School B has three visiting groups\n",
    "        - School C has two visiting groups\n",
    "\n",
    "    - For each visiting school, perform the following tasks\n",
    "        1. Randomize the animals\n",
    "        2. Assign the animals to the correct number of groups\n",
    "        3. Print the school name\n",
    "        4. Print the animal groups\n",
    "\n",
    "*/\n",
    "\n",
    "using System;\n",
    "\n",
    "string[] pettingZoo = \n",
    "{\n",
    "    \"alpacas\", \"capybaras\", \"chickens\", \"ducks\", \"emus\", \"geese\", \n",
    "    \"goats\", \"iguanas\", \"kangaroos\", \"lemurs\", \"llamas\", \"macaws\", \n",
    "    \"ostriches\", \"pigs\", \"ponies\", \"rabbits\", \"sheep\", \"tortoises\",\n",
    "};\n",
    "\n",
    "RandomizeAnimals();\n",
    "// string[,] group = AssignGroup();\n",
    "\n",
    "Console.WriteLine(\"School A\");\n",
    "// PrintGroup(group);\n",
    "\n",
    "void RandomizeAnimals() \n",
    "{\n",
    "    Random random = new Random();\n",
    "\n",
    "    for (int i = 0; i < pettingZoo.Length; i++) \n",
    "    {\n",
    "        int r = random.Next(i, pettingZoo.Length);\n",
    "\n",
    "        string temp = pettingZoo[r];\n",
    "        pettingZoo[r] = pettingZoo[i];\n",
    "        pettingZoo[i] = temp;\n",
    "    }\n",
    "}\n",
    "\n",
    "string[,] AssignGroup(int groups)\n",
    "{\n",
    "    \n",
    "}\n",
    "\n",
    "// ------------------------------------\n",
    "// test\n",
    "\n",
    "// foreach(string animal in pettingZoo) \n",
    "// {\n",
    "//     Console.WriteLine(animal);\n",
    "// }"
   ]
  },
  {
   "cell_type": "markdown",
   "metadata": {},
   "source": [
    "**2. change required paramenter to optional**"
   ]
  },
  {
   "cell_type": "markdown",
   "metadata": {},
   "source": [
    "Recall that an optional parameter is defined by assigning it a default value. Required parameters should be declared first before any optional ones. Next you'll begin adding logic to your code."
   ]
  },
  {
   "cell_type": "code",
   "execution_count": 36,
   "metadata": {
    "dotnet_interactive": {
     "language": "csharp"
    },
    "polyglot_notebook": {
     "kernelName": "csharp"
    },
    "vscode": {
     "languageId": "polyglot-notebook"
    }
   },
   "outputs": [
    {
     "ename": "Error",
     "evalue": "(47,11): error CS0161: 'AssignGroup(int)': not all code paths return a value",
     "output_type": "error",
     "traceback": [
      "(47,11): error CS0161: 'AssignGroup(int)': not all code paths return a value"
     ]
    }
   ],
   "source": [
    "/*\n",
    "\n",
    "    DESIGN SPECIFICATIONS\n",
    "\n",
    "    - There will be three visiting schools\n",
    "        - School A has six visiting groups (the default number)\n",
    "        - School B has three visiting groups\n",
    "        - School C has two visiting groups\n",
    "\n",
    "    - For each visiting school, perform the following tasks\n",
    "        1. Randomize the animals\n",
    "        2. Assign the animals to the correct number of groups\n",
    "        3. Print the school name\n",
    "        4. Print the animal groups\n",
    "\n",
    "*/\n",
    "\n",
    "using System;\n",
    "\n",
    "string[] pettingZoo = \n",
    "{\n",
    "    \"alpacas\", \"capybaras\", \"chickens\", \"ducks\", \"emus\", \"geese\", \n",
    "    \"goats\", \"iguanas\", \"kangaroos\", \"lemurs\", \"llamas\", \"macaws\", \n",
    "    \"ostriches\", \"pigs\", \"ponies\", \"rabbits\", \"sheep\", \"tortoises\",\n",
    "};\n",
    "\n",
    "RandomizeAnimals();\n",
    "// string[,] group = AssignGroup();\n",
    "\n",
    "Console.WriteLine(\"School A\");\n",
    "// PrintGroup(group);\n",
    "\n",
    "void RandomizeAnimals() \n",
    "{\n",
    "    Random random = new Random();\n",
    "\n",
    "    for (int i = 0; i < pettingZoo.Length; i++) \n",
    "    {\n",
    "        int r = random.Next(i, pettingZoo.Length);\n",
    "\n",
    "        string temp = pettingZoo[r];\n",
    "        pettingZoo[r] = pettingZoo[i];\n",
    "        pettingZoo[i] = temp;\n",
    "    }\n",
    "}\n",
    "\n",
    "string[,] AssignGroup(int groups = 6)\n",
    "{\n",
    "    \n",
    "}\n",
    "\n",
    "// ------------------------------------\n",
    "// test\n",
    "\n",
    "// foreach(string animal in pettingZoo) \n",
    "// {\n",
    "//     Console.WriteLine(animal);\n",
    "// }"
   ]
  },
  {
   "cell_type": "markdown",
   "metadata": {},
   "source": [
    "**3. Return the result in the method**"
   ]
  },
  {
   "cell_type": "markdown",
   "metadata": {},
   "source": [
    "Since your method specifies a return value, you start your method definition by creating a value to return. This allows you to continue adding logic without compile-time errors.\n",
    "\n",
    "Notice that you used [groups, pettingZoo.Length/groups] to define the array size. groups represents the number of animal groups you want to create. pettingZoo.Length/groups reflects how many animals are assigned to each group. \n",
    "\n",
    "For example, since pettingZoo is a fixed array of 18 elements, the 2D array size for School A is [6,3].\n",
    "\n",
    "Next, you'll assign the animals to each group."
   ]
  },
  {
   "cell_type": "code",
   "execution_count": 37,
   "metadata": {
    "dotnet_interactive": {
     "language": "csharp"
    },
    "polyglot_notebook": {
     "kernelName": "csharp"
    },
    "vscode": {
     "languageId": "polyglot-notebook"
    }
   },
   "outputs": [
    {
     "name": "stdout",
     "output_type": "stream",
     "text": [
      "School A\r\n"
     ]
    }
   ],
   "source": [
    "/*\n",
    "\n",
    "    DESIGN SPECIFICATIONS\n",
    "\n",
    "    - There will be three visiting schools\n",
    "        - School A has six visiting groups (the default number)\n",
    "        - School B has three visiting groups\n",
    "        - School C has two visiting groups\n",
    "\n",
    "    - For each visiting school, perform the following tasks\n",
    "        1. Randomize the animals\n",
    "        2. Assign the animals to the correct number of groups\n",
    "        3. Print the school name\n",
    "        4. Print the animal groups\n",
    "\n",
    "*/\n",
    "\n",
    "using System;\n",
    "\n",
    "string[] pettingZoo = \n",
    "{\n",
    "    \"alpacas\", \"capybaras\", \"chickens\", \"ducks\", \"emus\", \"geese\", \n",
    "    \"goats\", \"iguanas\", \"kangaroos\", \"lemurs\", \"llamas\", \"macaws\", \n",
    "    \"ostriches\", \"pigs\", \"ponies\", \"rabbits\", \"sheep\", \"tortoises\",\n",
    "};\n",
    "\n",
    "RandomizeAnimals();\n",
    "// string[,] group = AssignGroup();\n",
    "\n",
    "Console.WriteLine(\"School A\");\n",
    "// PrintGroup(group);\n",
    "\n",
    "void RandomizeAnimals() \n",
    "{\n",
    "    Random random = new Random();\n",
    "\n",
    "    for (int i = 0; i < pettingZoo.Length; i++) \n",
    "    {\n",
    "        int r = random.Next(i, pettingZoo.Length);\n",
    "\n",
    "        string temp = pettingZoo[r];\n",
    "        pettingZoo[r] = pettingZoo[i];\n",
    "        pettingZoo[i] = temp;\n",
    "    }\n",
    "}\n",
    "\n",
    "string[,] AssignGroup(int groups = 6)\n",
    "{\n",
    "    string[,] result = new string[groups, pettingZoo.Length/groups];\n",
    "    // groups = the number of animal groups you want to create. \n",
    "    // pettingZoo.Length/groups = how many animals are assigned to each group. \n",
    "    // For example, since pettingZoo is a fixed array of 18 elements, the 2D array size for School A is [6,3].\n",
    "\n",
    "    return result;\n",
    "    \n",
    "}\n",
    "\n",
    "// ------------------------------------\n",
    "// test\n",
    "\n",
    "// foreach(string animal in pettingZoo) \n",
    "// {\n",
    "//     Console.WriteLine(animal);\n",
    "// }"
   ]
  },
  {
   "cell_type": "markdown",
   "metadata": {},
   "source": [
    "**4. Assign animals to each group**"
   ]
  },
  {
   "cell_type": "markdown",
   "metadata": {},
   "source": [
    "* In this code, you define `start` to represent the starting position of `pettingZoo`. Using this marker allows you to navigate through the `pettingZoo` array one element at a time even though the for-loops have different iterations.\n",
    "\n",
    "* Now your method assigns the petting zoo animals to the designated number of groups. Now you can uncomment your call to AssignGroup."
   ]
  },
  {
   "cell_type": "code",
   "execution_count": 41,
   "metadata": {
    "dotnet_interactive": {
     "language": "csharp"
    },
    "polyglot_notebook": {
     "kernelName": "csharp"
    },
    "vscode": {
     "languageId": "polyglot-notebook"
    }
   },
   "outputs": [
    {
     "name": "stdout",
     "output_type": "stream",
     "text": [
      "School A\r\n"
     ]
    }
   ],
   "source": [
    "/*\n",
    "\n",
    "    DESIGN SPECIFICATIONS\n",
    "\n",
    "    - There will be three visiting schools\n",
    "        - School A has six visiting groups (the default number)\n",
    "        - School B has three visiting groups\n",
    "        - School C has two visiting groups\n",
    "\n",
    "    - For each visiting school, perform the following tasks\n",
    "        1. Randomize the animals\n",
    "        2. Assign the animals to the correct number of groups\n",
    "        3. Print the school name\n",
    "        4. Print the animal groups\n",
    "\n",
    "*/\n",
    "\n",
    "using System;\n",
    "\n",
    "string[] pettingZoo = \n",
    "{\n",
    "    \"alpacas\", \"capybaras\", \"chickens\", \"ducks\", \"emus\", \"geese\", \n",
    "    \"goats\", \"iguanas\", \"kangaroos\", \"lemurs\", \"llamas\", \"macaws\", \n",
    "    \"ostriches\", \"pigs\", \"ponies\", \"rabbits\", \"sheep\", \"tortoises\",\n",
    "};\n",
    "\n",
    "RandomizeAnimals();\n",
    "// string[,] group = AssignGroup();\n",
    "\n",
    "Console.WriteLine(\"School A\");\n",
    "// PrintGroup(group);\n",
    "\n",
    "void RandomizeAnimals() \n",
    "{\n",
    "    Random random = new Random();\n",
    "\n",
    "    for (int i = 0; i < pettingZoo.Length; i++) \n",
    "    {\n",
    "        int r = random.Next(i, pettingZoo.Length);\n",
    "\n",
    "        string temp = pettingZoo[r];\n",
    "        pettingZoo[r] = pettingZoo[i];\n",
    "        pettingZoo[i] = temp;\n",
    "    }\n",
    "}\n",
    "\n",
    "string[,] AssignGroup(int groups = 6)\n",
    "{\n",
    "    string[,] result = new string[groups, pettingZoo.Length/groups];\n",
    "    // groups = the number of animal groups you want to create. \n",
    "    // pettingZoo.Length/groups = how many animals are assigned to each group. \n",
    "    // For example, since pettingZoo is a fixed array of 18 elements, the 2D array size for School A is [6,3].\n",
    "\n",
    "    int start = 0;\n",
    "    // assign animal to each group\n",
    "    for (int i = 0; i < groups; i++) \n",
    "    {\n",
    "        for (int j = 0; j < result.GetLength(1); j++) \n",
    "        // j = animal on group list\n",
    "        {\n",
    "        result[i,j] = pettingZoo[start++];\n",
    "        }\n",
    "    }\n",
    "\n",
    "    return result;\n",
    "    \n",
    "}\n",
    "\n",
    "// ------------------------------------\n",
    "// test\n",
    "\n",
    "// foreach(string animal in pettingZoo) \n",
    "// {\n",
    "//     Console.WriteLine(animal);\n",
    "// }"
   ]
  },
  {
   "cell_type": "markdown",
   "metadata": {},
   "source": [
    "**6. Omit optional parameter in AssignGroups**"
   ]
  },
  {
   "cell_type": "code",
   "execution_count": 42,
   "metadata": {
    "dotnet_interactive": {
     "language": "csharp"
    },
    "polyglot_notebook": {
     "kernelName": "csharp"
    },
    "vscode": {
     "languageId": "polyglot-notebook"
    }
   },
   "outputs": [
    {
     "name": "stdout",
     "output_type": "stream",
     "text": [
      "School A\r\n"
     ]
    }
   ],
   "source": [
    "/*\n",
    "\n",
    "    DESIGN SPECIFICATIONS\n",
    "\n",
    "    - There will be three visiting schools\n",
    "        - School A has six visiting groups (the default number)\n",
    "        - School B has three visiting groups\n",
    "        - School C has two visiting groups\n",
    "\n",
    "    - For each visiting school, perform the following tasks\n",
    "        1. Randomize the animals\n",
    "        2. Assign the animals to the correct number of groups\n",
    "        3. Print the school name\n",
    "        4. Print the animal groups\n",
    "\n",
    "*/\n",
    "\n",
    "using System;\n",
    "\n",
    "string[] pettingZoo = \n",
    "{\n",
    "    \"alpacas\", \"capybaras\", \"chickens\", \"ducks\", \"emus\", \"geese\", \n",
    "    \"goats\", \"iguanas\", \"kangaroos\", \"lemurs\", \"llamas\", \"macaws\", \n",
    "    \"ostriches\", \"pigs\", \"ponies\", \"rabbits\", \"sheep\", \"tortoises\",\n",
    "};\n",
    "\n",
    "RandomizeAnimals();\n",
    "string[,] group = AssignGroup(); // optional parameter omitted\n",
    "\n",
    "Console.WriteLine(\"School A\");\n",
    "// PrintGroup(group);\n",
    "\n",
    "void RandomizeAnimals() \n",
    "{\n",
    "    Random random = new Random();\n",
    "\n",
    "    int start = 0;\n",
    "\n",
    "    for (int i = 0; i < pettingZoo.Length; i++) \n",
    "    {\n",
    "        int r = random.Next(i, pettingZoo.Length);\n",
    "\n",
    "        string temp = pettingZoo[r];\n",
    "        pettingZoo[r] = pettingZoo[i];\n",
    "        pettingZoo[i] = temp;\n",
    "    }\n",
    "}\n",
    "\n",
    "string[,] AssignGroup(int groups = 6)\n",
    "{\n",
    "    string[,] result = new string[groups, pettingZoo.Length/groups];\n",
    "    // groups = the number of animal groups you want to create. \n",
    "    // pettingZoo.Length/groups = how many animals are assigned to each group. \n",
    "    // For example, since pettingZoo is a fixed array of 18 elements, the 2D array size for School A is [6,3].\n",
    "    \n",
    "    int start = 0;\n",
    "    \n",
    "    // assign animal to each group\n",
    "    for (int i = 0; i < groups; i++) \n",
    "    {\n",
    "        for (int j = 0; j < result.GetLength(1); j++) \n",
    "        // j = animal on group list\n",
    "        {\n",
    "            result[i,j] = pettingZoo[start++];\n",
    "        }\n",
    "    }\n",
    "\n",
    "    return result;\n",
    "    \n",
    "}\n",
    "\n",
    "// ------------------------------------\n",
    "// test\n",
    "\n",
    "// foreach(string animal in pettingZoo) \n",
    "// {\n",
    "//     Console.WriteLine(animal);\n",
    "// }"
   ]
  },
  {
   "cell_type": "markdown",
   "metadata": {},
   "source": [
    "#### 🚀 **[Exercise - Create a method to display the results](https://learn.microsoft.com/en-us/training/modules/guided-project-visit-petting-zoo/6-exercise-display-results)**"
   ]
  },
  {
   "cell_type": "markdown",
   "metadata": {},
   "source": [
    "In this step, you'll define the method to display the results of the animal groups. You'll also complete the animal group assignments for the other visiting schools. Let's get started!"
   ]
  },
  {
   "cell_type": "markdown",
   "metadata": {},
   "source": [
    "##### ***Develop your method***"
   ]
  },
  {
   "cell_type": "markdown",
   "metadata": {},
   "source": [
    "**1. Define `PrintGroup` method**"
   ]
  },
  {
   "cell_type": "markdown",
   "metadata": {},
   "source": [
    "Remember that you decided this method would take a 2D array as input. Now you just need your method to print the contents of the 2D array."
   ]
  },
  {
   "cell_type": "code",
   "execution_count": 43,
   "metadata": {
    "dotnet_interactive": {
     "language": "csharp"
    },
    "polyglot_notebook": {
     "kernelName": "csharp"
    },
    "vscode": {
     "languageId": "polyglot-notebook"
    }
   },
   "outputs": [],
   "source": [
    "void PrintGroup(string[,] group) \n",
    "// parameter = 2d string array named group\n",
    "{\n",
    "\n",
    "}"
   ]
  },
  {
   "cell_type": "markdown",
   "metadata": {},
   "source": [
    "**2. get number of rows and columns for array**"
   ]
  },
  {
   "cell_type": "markdown",
   "metadata": {},
   "source": [
    "Here, you use GetLength(0) to get the number of rows in the array, and GetLength(1) for the number of columns. Then you use Console.Write to print the element with some extra spaces between the animals. Next, let's add some helper text and a new line to separate the groups."
   ]
  },
  {
   "cell_type": "code",
   "execution_count": 44,
   "metadata": {
    "dotnet_interactive": {
     "language": "csharp"
    },
    "polyglot_notebook": {
     "kernelName": "csharp"
    },
    "vscode": {
     "languageId": "polyglot-notebook"
    }
   },
   "outputs": [],
   "source": [
    "void PrintGroup(string[,] group)\n",
    "// parameter = 2d string array named group\n",
    "{\n",
    "    for (int i = 0; i < group.GetLength(0); i++) \n",
    "    // for group in groups\n",
    "    {\n",
    "        for (int j = 0; j < group.GetLength(1); j++) \n",
    "        // for animal in group\n",
    "        {\n",
    "            Console.Write($\"{group[i,j]}  \");\n",
    "            // print each group then animal\n",
    "        }\n",
    "    }\n",
    "}"
   ]
  },
  {
   "cell_type": "markdown",
   "metadata": {},
   "source": [
    "**3. Add helper text**"
   ]
  },
  {
   "cell_type": "code",
   "execution_count": 45,
   "metadata": {
    "dotnet_interactive": {
     "language": "csharp"
    },
    "polyglot_notebook": {
     "kernelName": "csharp"
    },
    "vscode": {
     "languageId": "polyglot-notebook"
    }
   },
   "outputs": [],
   "source": [
    "void PrintGroup(string[,] group)\n",
    "// parameter = 2d string array named group\n",
    "{\n",
    "    for (int i = 0; i < group.GetLength(0); i++) \n",
    "    // for group in groups\n",
    "    {\n",
    "        Console.Write($\"Group {i + 1}: \");\n",
    "        // print group name        \n",
    "        for (int j = 0; j < group.GetLength(1); j++) \n",
    "        // for animal in group\n",
    "        {\n",
    "            Console.Write($\"{group[i,j]}  \");\n",
    "            // print each group then animal\n",
    "        }\n",
    "    }\n",
    "}"
   ]
  },
  {
   "cell_type": "markdown",
   "metadata": {},
   "source": [
    "**4. Combine code + improve readability**"
   ]
  },
  {
   "cell_type": "code",
   "execution_count": 49,
   "metadata": {
    "dotnet_interactive": {
     "language": "csharp"
    },
    "polyglot_notebook": {
     "kernelName": "csharp"
    },
    "vscode": {
     "languageId": "polyglot-notebook"
    }
   },
   "outputs": [
    {
     "name": "stdout",
     "output_type": "stream",
     "text": [
      "School A\n",
      "Group 1: ponies  ostriches  kangaroos  \n",
      "Group 2: alpacas  geese  capybaras  \n",
      "Group 3: sheep  goats  macaws  \n",
      "Group 4: pigs  tortoises  rabbits  \n",
      "Group 5: lemurs  emus  llamas  \n",
      "Group 6: ducks  chickens  iguanas  \n"
     ]
    }
   ],
   "source": [
    "/*\n",
    "\n",
    "    DESIGN SPECIFICATIONS\n",
    "\n",
    "    - There will be three visiting schools\n",
    "        - School A has six visiting groups (the default number)\n",
    "        - School B has three visiting groups\n",
    "        - School C has two visiting groups\n",
    "\n",
    "    - For each visiting school, perform the following tasks\n",
    "        1. Randomize the animals\n",
    "        2. Assign the animals to the correct number of groups\n",
    "        3. Print the school name\n",
    "        4. Print the animal groups\n",
    "\n",
    "*/\n",
    "\n",
    "using System;\n",
    "\n",
    "string[] pettingZoo = \n",
    "{\n",
    "    \"alpacas\", \"capybaras\", \"chickens\", \"ducks\", \"emus\", \"geese\", \n",
    "    \"goats\", \"iguanas\", \"kangaroos\", \"lemurs\", \"llamas\", \"macaws\", \n",
    "    \"ostriches\", \"pigs\", \"ponies\", \"rabbits\", \"sheep\", \"tortoises\",\n",
    "};\n",
    "\n",
    "RandomizeAnimals();\n",
    "string[,] group = AssignGroup(); // optional parameter omitted\n",
    "\n",
    "Console.WriteLine(\"School A\");\n",
    "PrintGroup(group);\n",
    "\n",
    "void RandomizeAnimals() \n",
    "{\n",
    "    Random random = new Random();\n",
    "\n",
    "    for (int i = 0; i < pettingZoo.Length; i++) \n",
    "    {\n",
    "        int r = random.Next(i, pettingZoo.Length);\n",
    "\n",
    "        string temp = pettingZoo[r];\n",
    "        pettingZoo[r] = pettingZoo[i];\n",
    "        pettingZoo[i] = temp;\n",
    "    }\n",
    "}\n",
    "\n",
    "string[,] AssignGroup(int groups = 6)\n",
    "{\n",
    "    string[,] result = new string[groups, pettingZoo.Length/groups];\n",
    "    // groups = the number of animal groups you want to create. \n",
    "    // pettingZoo.Length/groups = how many animals are assigned to each group. \n",
    "    // For example, since pettingZoo is a fixed array of 18 elements, the 2D array size for School A is [6,3].\n",
    "    \n",
    "    int start = 0;\n",
    "    \n",
    "    // assign animal to each group\n",
    "    for (int i = 0; i < groups; i++) \n",
    "    // for group in groups\n",
    "    {\n",
    "        for (int j = 0; j < result.GetLength(1); j++) \n",
    "        // for animal in group\n",
    "        {\n",
    "            result[i,j] = pettingZoo[start++];\n",
    "            // result = name of group and animal\n",
    "        }\n",
    "    }\n",
    "\n",
    "    return result;\n",
    "    \n",
    "}\n",
    "\n",
    "void PrintGroup(string[,] group)\n",
    "// parameter = 2d string array named group\n",
    "{\n",
    "    for (int i = 0; i < group.GetLength(0); i++) \n",
    "    // for group in groups in individual school\n",
    "    {\n",
    "        Console.Write($\"Group {i + 1}: \");\n",
    "        // print group number        \n",
    "        for (int j = 0; j < group.GetLength(1); j++) \n",
    "        // for animal in group\n",
    "        {\n",
    "            Console.Write($\"{group[i,j]}  \");\n",
    "            // print each group then animal\n",
    "        }\n",
    "        Console.WriteLine();        \n",
    "    }\n",
    "}\n",
    "\n",
    "// ------------------------------------\n",
    "// test\n",
    "\n",
    "// foreach(string animal in pettingZoo) \n",
    "// {\n",
    "//     Console.WriteLine(animal);\n",
    "// }"
   ]
  },
  {
   "cell_type": "markdown",
   "metadata": {},
   "source": [
    "**5. Create method to print for different schools**"
   ]
  },
  {
   "cell_type": "code",
   "execution_count": 50,
   "metadata": {
    "dotnet_interactive": {
     "language": "csharp"
    },
    "polyglot_notebook": {
     "kernelName": "csharp"
    },
    "vscode": {
     "languageId": "polyglot-notebook"
    }
   },
   "outputs": [],
   "source": [
    "/*\n",
    "\n",
    "    DESIGN SPECIFICATIONS\n",
    "\n",
    "    - There will be three visiting schools\n",
    "        - School A has six visiting groups (the default number)\n",
    "        - School B has three visiting groups\n",
    "        - School C has two visiting groups\n",
    "\n",
    "    - For each visiting school, perform the following tasks\n",
    "        1. Randomize the animals\n",
    "        2. Assign the animals to the correct number of groups\n",
    "        3. Print the school name\n",
    "        4. Print the animal groups\n",
    "\n",
    "*/\n",
    "\n",
    "using System;\n",
    "\n",
    "string[] pettingZoo = \n",
    "{\n",
    "    \"alpacas\", \"capybaras\", \"chickens\", \"ducks\", \"emus\", \"geese\", \n",
    "    \"goats\", \"iguanas\", \"kangaroos\", \"lemurs\", \"llamas\", \"macaws\", \n",
    "    \"ostriches\", \"pigs\", \"ponies\", \"rabbits\", \"sheep\", \"tortoises\",\n",
    "};\n",
    "\n",
    "// RandomizeAnimals();\n",
    "// string[,] group = AssignGroup(); // optional parameter omitted\n",
    "\n",
    "// Console.WriteLine(\"School A\");\n",
    "// PrintGroup(group);\n",
    "\n",
    "void PlanSchoolVisit(string schoolName, int groups = 6)\n",
    "{\n",
    "    RandomizeAnimals();\n",
    "    string[,] group = AssignGroup();\n",
    "    Console.WriteLine(\"School A\");\n",
    "    PrintGroup(group);\n",
    "}\n",
    "\n",
    "void RandomizeAnimals() \n",
    "{\n",
    "    Random random = new Random();\n",
    "\n",
    "    for (int i = 0; i < pettingZoo.Length; i++) \n",
    "    {\n",
    "        int r = random.Next(i, pettingZoo.Length);\n",
    "\n",
    "        string temp = pettingZoo[r];\n",
    "        pettingZoo[r] = pettingZoo[i];\n",
    "        pettingZoo[i] = temp;\n",
    "    }\n",
    "}\n",
    "\n",
    "string[,] AssignGroup(int groups = 6)\n",
    "{\n",
    "    string[,] result = new string[groups, pettingZoo.Length/groups];\n",
    "    // groups = the number of animal groups you want to create. \n",
    "    // pettingZoo.Length/groups = how many animals are assigned to each group. \n",
    "    // For example, since pettingZoo is a fixed array of 18 elements, the 2D array size for School A is [6,3].\n",
    "    \n",
    "    int start = 0;\n",
    "    \n",
    "    // assign animal to each group\n",
    "    for (int i = 0; i < groups; i++) \n",
    "    // for group in groups\n",
    "    {\n",
    "        for (int j = 0; j < result.GetLength(1); j++) \n",
    "        // for animal in group\n",
    "        {\n",
    "            result[i,j] = pettingZoo[start++];\n",
    "            // result = name of group and animal\n",
    "        }\n",
    "    }\n",
    "\n",
    "    return result;\n",
    "    \n",
    "}\n",
    "\n",
    "void PrintGroup(string[,] group)\n",
    "// parameter = 2d string array named group\n",
    "{\n",
    "    for (int i = 0; i < group.GetLength(0); i++) \n",
    "    // for group in groups in individual school\n",
    "    {\n",
    "        Console.Write($\"Group {i + 1}: \");\n",
    "        // print group number        \n",
    "        for (int j = 0; j < group.GetLength(1); j++) \n",
    "        // for animal in group\n",
    "        {\n",
    "            Console.Write($\"{group[i,j]}  \");\n",
    "            // print each group then animal\n",
    "        }\n",
    "        Console.WriteLine();        \n",
    "    }\n",
    "}\n",
    "\n",
    "// ------------------------------------\n",
    "// test\n",
    "\n",
    "// foreach(string animal in pettingZoo) \n",
    "// {\n",
    "//     Console.WriteLine(animal);\n",
    "// }"
   ]
  },
  {
   "cell_type": "markdown",
   "metadata": {},
   "source": [
    "**6. Generalise method**"
   ]
  },
  {
   "cell_type": "code",
   "execution_count": 51,
   "metadata": {
    "dotnet_interactive": {
     "language": "csharp"
    },
    "polyglot_notebook": {
     "kernelName": "csharp"
    },
    "vscode": {
     "languageId": "polyglot-notebook"
    }
   },
   "outputs": [],
   "source": [
    "/*\n",
    "\n",
    "    DESIGN SPECIFICATIONS\n",
    "\n",
    "    - There will be three visiting schools\n",
    "        - School A has six visiting groups (the default number)\n",
    "        - School B has three visiting groups\n",
    "        - School C has two visiting groups\n",
    "\n",
    "    - For each visiting school, perform the following tasks\n",
    "        1. Randomize the animals\n",
    "        2. Assign the animals to the correct number of groups\n",
    "        3. Print the school name\n",
    "        4. Print the animal groups\n",
    "\n",
    "*/\n",
    "\n",
    "using System;\n",
    "\n",
    "string[] pettingZoo = \n",
    "{\n",
    "    \"alpacas\", \"capybaras\", \"chickens\", \"ducks\", \"emus\", \"geese\", \n",
    "    \"goats\", \"iguanas\", \"kangaroos\", \"lemurs\", \"llamas\", \"macaws\", \n",
    "    \"ostriches\", \"pigs\", \"ponies\", \"rabbits\", \"sheep\", \"tortoises\",\n",
    "};\n",
    "\n",
    "// RandomizeAnimals();\n",
    "// string[,] group = AssignGroup(); // optional parameter omitted\n",
    "\n",
    "// Console.WriteLine(\"School A\");\n",
    "// PrintGroup(group);\n",
    "\n",
    "void PlanSchoolVisit(string schoolName, int groups = 6)\n",
    "{\n",
    "    RandomizeAnimals();\n",
    "    string[,] group = AssignGroup(6);\n",
    "    Console.WriteLine(schoolName);\n",
    "    PrintGroup(group);\n",
    "}\n",
    "\n",
    "void RandomizeAnimals() \n",
    "{\n",
    "    Random random = new Random();\n",
    "\n",
    "    for (int i = 0; i < pettingZoo.Length; i++) \n",
    "    {\n",
    "        int r = random.Next(i, pettingZoo.Length);\n",
    "\n",
    "        string temp = pettingZoo[r];\n",
    "        pettingZoo[r] = pettingZoo[i];\n",
    "        pettingZoo[i] = temp;\n",
    "    }\n",
    "}\n",
    "\n",
    "string[,] AssignGroup(int groups = 6)\n",
    "{\n",
    "    string[,] result = new string[groups, pettingZoo.Length/groups];\n",
    "    // groups = the number of animal groups you want to create. \n",
    "    // pettingZoo.Length/groups = how many animals are assigned to each group. \n",
    "    // For example, since pettingZoo is a fixed array of 18 elements, the 2D array size for School A is [6,3].\n",
    "    \n",
    "    int start = 0;\n",
    "    \n",
    "    // assign animal to each group\n",
    "    for (int i = 0; i < groups; i++) \n",
    "    // for group in groups\n",
    "    {\n",
    "        for (int j = 0; j < result.GetLength(1); j++) \n",
    "        // for animal in group\n",
    "        {\n",
    "            result[i,j] = pettingZoo[start++];\n",
    "            // result = name of group and animal\n",
    "        }\n",
    "    }\n",
    "\n",
    "    return result;\n",
    "    \n",
    "}\n",
    "\n",
    "void PrintGroup(string[,] group)\n",
    "// parameter = 2d string array named group\n",
    "{\n",
    "    for (int i = 0; i < group.GetLength(0); i++) \n",
    "    // for group in groups in individual school\n",
    "    {\n",
    "        Console.Write($\"Group {i + 1}: \");\n",
    "        // print group number        \n",
    "        for (int j = 0; j < group.GetLength(1); j++) \n",
    "        // for animal in group\n",
    "        {\n",
    "            Console.Write($\"{group[i,j]}  \");\n",
    "            // print each group then animal\n",
    "        }\n",
    "        Console.WriteLine();        \n",
    "    }\n",
    "}\n",
    "\n",
    "// ------------------------------------\n",
    "// test\n",
    "\n",
    "// foreach(string animal in pettingZoo) \n",
    "// {\n",
    "//     Console.WriteLine(animal);\n",
    "// }"
   ]
  },
  {
   "cell_type": "markdown",
   "metadata": {},
   "source": [
    "**7. Call the method**"
   ]
  },
  {
   "cell_type": "code",
   "execution_count": 55,
   "metadata": {
    "dotnet_interactive": {
     "language": "csharp"
    },
    "polyglot_notebook": {
     "kernelName": "csharp"
    },
    "vscode": {
     "languageId": "polyglot-notebook"
    }
   },
   "outputs": [
    {
     "name": "stdout",
     "output_type": "stream",
     "text": [
      "School A\n",
      "Group 1: macaws  chickens  kangaroos  \n",
      "Group 2: rabbits  ostriches  ducks  \n",
      "Group 3: tortoises  llamas  pigs  \n",
      "Group 4: sheep  geese  lemurs  \n",
      "Group 5: ponies  iguanas  alpacas  \n",
      "Group 6: goats  emus  capybaras  \n",
      "School B\n",
      "Group 1: kangaroos  rabbits  pigs  ostriches  sheep  macaws  \n",
      "Group 2: capybaras  iguanas  emus  geese  tortoises  llamas  \n",
      "Group 3: goats  ducks  alpacas  lemurs  chickens  ponies  \n",
      "School C\n",
      "Group 1: llamas  rabbits  alpacas  sheep  ponies  capybaras  ostriches  goats  chickens  \n",
      "Group 2: kangaroos  iguanas  macaws  geese  ducks  tortoises  lemurs  pigs  emus  \n"
     ]
    }
   ],
   "source": [
    "/*\n",
    "\n",
    "    DESIGN SPECIFICATIONS\n",
    "\n",
    "    - There will be three visiting schools\n",
    "        - School A has six visiting groups (the default number)\n",
    "        - School B has three visiting groups\n",
    "        - School C has two visiting groups\n",
    "\n",
    "    - For each visiting school, perform the following tasks\n",
    "        1. Randomize the animals\n",
    "        2. Assign the animals to the correct number of groups\n",
    "        3. Print the school name\n",
    "        4. Print the animal groups\n",
    "\n",
    "*/\n",
    "\n",
    "using System;\n",
    "\n",
    "string[] pettingZoo = \n",
    "{\n",
    "    \"alpacas\", \"capybaras\", \"chickens\", \"ducks\", \"emus\", \"geese\", \n",
    "    \"goats\", \"iguanas\", \"kangaroos\", \"lemurs\", \"llamas\", \"macaws\", \n",
    "    \"ostriches\", \"pigs\", \"ponies\", \"rabbits\", \"sheep\", \"tortoises\",\n",
    "};\n",
    "\n",
    "// call methods - required = schoolName, optional = groups\n",
    "PlanSchoolVisit(\"School A\");\n",
    "PlanSchoolVisit(\"School B\", 3);\n",
    "PlanSchoolVisit(\"School C\", 2);\n",
    "\n",
    "void PlanSchoolVisit(string schoolName, int groups = 6)\n",
    "{\n",
    "    RandomizeAnimals();\n",
    "    string[,] group = AssignGroup(groups);\n",
    "    Console.WriteLine(schoolName);\n",
    "    PrintGroup(group);\n",
    "}\n",
    "\n",
    "void RandomizeAnimals() \n",
    "{\n",
    "    Random random = new Random();\n",
    "\n",
    "    for (int i = 0; i < pettingZoo.Length; i++) \n",
    "    {\n",
    "        int r = random.Next(i, pettingZoo.Length);\n",
    "\n",
    "        string temp = pettingZoo[r];\n",
    "        pettingZoo[r] = pettingZoo[i];\n",
    "        pettingZoo[i] = temp;\n",
    "    }\n",
    "}\n",
    "\n",
    "string[,] AssignGroup(int groups = 6)\n",
    "{\n",
    "    string[,] result = new string[groups, pettingZoo.Length/groups];\n",
    "    // groups = the number of animal groups you want to create. \n",
    "    // pettingZoo.Length/groups = how many animals are assigned to each group. \n",
    "    // For example, since pettingZoo is a fixed array of 18 elements, the 2D array size for School A is [6,3].\n",
    "    \n",
    "    int start = 0;\n",
    "    \n",
    "    // assign animal to each group\n",
    "    for (int i = 0; i < groups; i++) \n",
    "    // for group in groups\n",
    "    {\n",
    "        for (int j = 0; j < result.GetLength(1); j++) \n",
    "        // for animal in group\n",
    "        {\n",
    "            result[i,j] = pettingZoo[start++];\n",
    "            // result = name of group and animal\n",
    "        }\n",
    "    }\n",
    "\n",
    "    return result;\n",
    "    \n",
    "}\n",
    "\n",
    "void PrintGroup(string[,] group)\n",
    "// parameter = 2d string array named group\n",
    "{\n",
    "    for (int i = 0; i < group.GetLength(0); i++) \n",
    "    // for group in groups in individual school\n",
    "    {\n",
    "        Console.Write($\"Group {i + 1}: \");\n",
    "        // print group number        \n",
    "        for (int j = 0; j < group.GetLength(1); j++) \n",
    "        // for animal in group\n",
    "        {\n",
    "            Console.Write($\"{group[i,j]}  \");\n",
    "            // print each group then animal\n",
    "        }\n",
    "        Console.WriteLine();        \n",
    "    }\n",
    "}\n",
    "\n",
    "// ------------------------------------\n",
    "// test\n",
    "\n",
    "// foreach(string animal in pettingZoo) \n",
    "// {\n",
    "//     Console.WriteLine(animal);\n",
    "// }"
   ]
  },
  {
   "cell_type": "markdown",
   "metadata": {},
   "source": [
    "#### ❓ **Check Knowledge: <insert>**"
   ]
  },
  {
   "cell_type": "markdown",
   "metadata": {},
   "source": [
    "1. What is the purpose of defining an optional parameter in a method? \n",
    "    * ❌ To cause a method to perform a different task.\n",
    "    * ❌ To overload a method.\n",
    "    * ✔️ To simplify the required parameters when a parameter isn't significant to the result.\n",
    "\n",
    "    <br>\n",
    "\n",
    "2. What is the purpose of pseudo-code? \n",
    "    * ✔️ To provide a design template for the intended code.\n",
    "    * ❌ To safely cast operations performed in methods.\n",
    "    * ❌ To develop syntactically correct code."
   ]
  },
  {
   "cell_type": "markdown",
   "metadata": {},
   "source": [
    "#### **Summary**"
   ]
  },
  {
   "cell_type": "markdown",
   "metadata": {},
   "source": [
    "* Your goal was to build an application that uses methods to achieve a complex task. \n",
    "* You broke down the problem into modularized methods to create an organized, readable solution. \n",
    "* You also used parameters and return types to complete your code."
   ]
  },
  {
   "cell_type": "markdown",
   "metadata": {},
   "source": [
    "_________________________\n",
    "\n",
    "### ⭐ [Challenge project - Create a mini-game](https://learn.microsoft.com/en-us/training/modules/challenge-project-create-mini-game/)\n",
    "\n",
    "_________________________"
   ]
  },
  {
   "cell_type": "markdown",
   "metadata": {},
   "source": [
    "####  ✔️ **Learning Objectives:**"
   ]
  },
  {
   "cell_type": "markdown",
   "metadata": {},
   "source": [
    "* Use Visual Studio Code to develop a C# console application that uses methods to implement logical workflows.\n",
    "* Understand existing code and make informed changes to design.\n",
    "* Create return values as well as required and optional parameters in methods."
   ]
  },
  {
   "cell_type": "markdown",
   "metadata": {},
   "source": [
    "##### ***Prerequisites***"
   ]
  },
  {
   "cell_type": "markdown",
   "metadata": {},
   "source": [
    "* Experience using Visual Studio Code to develop, build, and run C# console applications that include console I/O and access the methods of .NET classes.\n",
    "* Experience using C# data types including `int`, `string`, and `arrays`\n",
    "* Experience using switch statements, `if-else` statements, and `for` loops\n",
    "* Experience using the `Random` class to generate a random number.\n",
    "* Basic understanding of C# methods"
   ]
  },
  {
   "cell_type": "markdown",
   "metadata": {},
   "source": [
    "####  **Introduction:**"
   ]
  },
  {
   "cell_type": "markdown",
   "metadata": {},
   "source": [
    "![](./Assets/challenge-intro-game.png)"
   ]
  },
  {
   "cell_type": "markdown",
   "metadata": {},
   "source": [
    "####  **Prepare:**"
   ]
  },
  {
   "cell_type": "markdown",
   "metadata": {},
   "source": [
    "##### ***Intro:***"
   ]
  },
  {
   "cell_type": "markdown",
   "metadata": {},
   "source": [
    "* You'll be using Visual Studio Code to develop a small mini-game. \n",
    "* Your application should establish the basics of the game, including: \n",
    "    * updating player state\n",
    "    * manipulating player movement\n",
    "    * consuming and regenerating a food object. \n",
    "* You'll develop each of those features and run a simplified game test."
   ]
  },
  {
   "cell_type": "markdown",
   "metadata": {},
   "source": [
    "##### ***Project specification***"
   ]
  },
  {
   "cell_type": "markdown",
   "metadata": {},
   "source": [
    "Your goal in this challenge is to use the existing features and create the missing features to make the game playable."
   ]
  },
  {
   "cell_type": "markdown",
   "metadata": {},
   "source": [
    "Project [Program File](./Challenge-project-Create-methods-in-CSharp-main/Starter/Program.cs)"
   ]
  },
  {
   "cell_type": "markdown",
   "metadata": {},
   "source": [
    "**Output:**"
   ]
  },
  {
   "cell_type": "markdown",
   "metadata": {},
   "source": [
    "    - The code declares the following variables:\n",
    "        - Variables to determine the size of the Terminal window.\n",
    "        - Variables to track the locations of the player and food.\n",
    "        - Arrays `states` and `foods` to provide available player and food appearances\n",
    "        - Variables to track the current player and food appearance\n",
    "\n",
    "    - The code provides the following methods:\n",
    "        - A method to determine if the Terminal window was resized.\n",
    "        - A method to display a random food appearance at a random location.\n",
    "        - A method that changes the player appearance to match the food consumed.\n",
    "        - A method that temporarily freezes the player movement.\n",
    "        - A method that moves the player according to directional input.\n",
    "        - A method that sets up the initial game state.\n",
    "\n",
    "    - The code doesn't call the methods correctly to make the game playable. The following features are missing:\n",
    "        - Code to determine if the player has consumed the food displayed.\n",
    "        - Code to determine if the food consumed should freeze player movement.\n",
    "        - Code to determine if the food consumed should increase player movement.\n",
    "        - Code to increase movement speed.\n",
    "        - Code to redisplay the food after it's consumed by the player.\n",
    "        - Code to terminate execution if an unsupported key is entered.\n",
    "        - Code to terminate execution if the terminal was resized."
   ]
  },
  {
   "cell_type": "markdown",
   "metadata": {},
   "source": [
    "#### 🚀 **[Exercise - Add code to end the game](https://learn.microsoft.com/en-us/training/modules/challenge-project-create-mini-game/3-exercise-add-code-to-end-game)**"
   ]
  },
  {
   "cell_type": "markdown",
   "metadata": {},
   "source": [
    "##### ***Intro***"
   ]
  },
  {
   "cell_type": "markdown",
   "metadata": {},
   "source": [
    "Your goal is to develop a mini-game application. You need the game to end if the user resized the Console window the game is running in. You also want to add an option for the game to end if the user enters any nondirectional character."
   ]
  },
  {
   "cell_type": "markdown",
   "metadata": {},
   "source": [
    "##### ***Specification***"
   ]
  },
  {
   "cell_type": "markdown",
   "metadata": {},
   "source": [
    "In this challenge exercise, you need to: \n",
    "* update the existing code to support an option to terminate the gameplay if a nondirectional character is entered\n",
    "* terminate the game if the terminal window was resized\n",
    "* locate the correct methods for your code to use."
   ]
  },
  {
   "cell_type": "markdown",
   "metadata": {},
   "source": [
    "**Must: Terminate on resize**\n",
    "\n",
    "* Determine if the terminal was resized before allowing the game to continue\n",
    "* Clear the Console and end the game if the terminal was resized\n",
    "* Display the following message before ending the program: Console was resized. Program exiting.\n",
    "\n",
    "**Add optional termination**\n",
    "* Modify the existing Move method to support an optional parameter\n",
    "* If enabled, the optional parameter should detect nondirectional key input\n",
    "* If nondirectional input is detected, allow the game to terminate"
   ]
  },
  {
   "cell_type": "markdown",
   "metadata": {},
   "source": [
    "##### ***Starter Code***"
   ]
  },
  {
   "cell_type": "code",
   "execution_count": null,
   "metadata": {
    "dotnet_interactive": {
     "language": "csharp"
    },
    "polyglot_notebook": {
     "kernelName": "csharp"
    },
    "vscode": {
     "languageId": "polyglot-notebook"
    }
   },
   "outputs": [],
   "source": [
    "using System;\n",
    "\n",
    "Random random = new Random();\n",
    "Console.CursorVisible = false;\n",
    "int height = Console.WindowHeight - 1;\n",
    "int width = Console.WindowWidth - 5;\n",
    "bool shouldExit = false;\n",
    "\n",
    "// Console position of the player\n",
    "int playerX = 0;\n",
    "int playerY = 0;\n",
    "\n",
    "// Console position of the food\n",
    "int foodX = 0;\n",
    "int foodY = 0;\n",
    "\n",
    "// Available player and food strings\n",
    "string[] states = {\"('-')\", \"(^-^)\", \"(X_X)\"};\n",
    "string[] foods = {\"@@@@@\", \"$$$$$\", \"#####\"};\n",
    "\n",
    "// Current player string displayed in the Console\n",
    "string player = states[0];\n",
    "\n",
    "// Index of the current food\n",
    "int food = 0;\n",
    "\n",
    "InitializeGame();\n",
    "while (!shouldExit) \n",
    "{\n",
    "    Move();\n",
    "}\n",
    "\n",
    "// Returns true if the Terminal was resized \n",
    "bool TerminalResized() \n",
    "{\n",
    "    return height != Console.WindowHeight - 1 || width != Console.WindowWidth - 5;\n",
    "}\n",
    "\n",
    "// Displays random food at a random location\n",
    "void ShowFood() \n",
    "{\n",
    "    // Update food to a random index\n",
    "    food = random.Next(0, foods.Length);\n",
    "\n",
    "    // Update food position to a random location\n",
    "    foodX = random.Next(0, width - player.Length);\n",
    "    foodY = random.Next(0, height - 1);\n",
    "\n",
    "    // Display the food at the location\n",
    "    Console.SetCursorPosition(foodX, foodY);\n",
    "    Console.Write(foods[food]);\n",
    "}\n",
    "\n",
    "// Changes the player to match the food consumed\n",
    "void ChangePlayer() \n",
    "{\n",
    "    player = states[food];\n",
    "    Console.SetCursorPosition(playerX, playerY);\n",
    "    Console.Write(player);\n",
    "}\n",
    "\n",
    "// Temporarily stops the player from moving\n",
    "void FreezePlayer() \n",
    "{\n",
    "    System.Threading.Thread.Sleep(1000);\n",
    "    player = states[0];\n",
    "}\n",
    "\n",
    "// Reads directional input from the Console and moves the player\n",
    "void Move() \n",
    "{\n",
    "    int lastX = playerX;\n",
    "    int lastY = playerY;\n",
    "    \n",
    "    switch (Console.ReadKey(true).Key) \n",
    "    {\n",
    "        case ConsoleKey.UpArrow:\n",
    "            playerY--; \n",
    "            break;\n",
    "\t\tcase ConsoleKey.DownArrow: \n",
    "            playerY++; \n",
    "            break;\n",
    "\t\tcase ConsoleKey.LeftArrow:  \n",
    "            playerX--; \n",
    "            break;\n",
    "\t\tcase ConsoleKey.RightArrow: \n",
    "            playerX++; \n",
    "            break;\n",
    "\t\tcase ConsoleKey.Escape:     \n",
    "            shouldExit = true; \n",
    "            break;\n",
    "    }\n",
    "\n",
    "    // Clear the characters at the previous position\n",
    "    Console.SetCursorPosition(lastX, lastY);\n",
    "    for (int i = 0; i < player.Length; i++) \n",
    "    {\n",
    "        Console.Write(\" \");\n",
    "    }\n",
    "\n",
    "    // Keep player position within the bounds of the Terminal window\n",
    "    playerX = (playerX < 0) ? 0 : (playerX >= width ? width : playerX);\n",
    "    playerY = (playerY < 0) ? 0 : (playerY >= height ? height : playerY);\n",
    "\n",
    "    // Draw the player at the new location\n",
    "    Console.SetCursorPosition(playerX, playerY);\n",
    "    Console.Write(player);\n",
    "}\n",
    "\n",
    "// Clears the console, displays the food and player\n",
    "void InitializeGame() \n",
    "{\n",
    "    Console.Clear();\n",
    "    ShowFood();\n",
    "    Console.SetCursorPosition(0, 0);\n",
    "    Console.Write(player);\n",
    "}"
   ]
  },
  {
   "cell_type": "markdown",
   "metadata": {},
   "source": [
    "##### ***Playground***"
   ]
  },
  {
   "cell_type": "code",
   "execution_count": 59,
   "metadata": {
    "dotnet_interactive": {
     "language": "csharp"
    },
    "polyglot_notebook": {
     "kernelName": "csharp"
    },
    "vscode": {
     "languageId": "polyglot-notebook"
    }
   },
   "outputs": [
    {
     "ename": "Error",
     "evalue": "System.IO.IOException: The handle is invalid.\r\n   at System.ConsolePal.set_CursorVisible(Boolean value)\r\n   at Submission#60.<<Initialize>>d__0.MoveNext()\r\n--- End of stack trace from previous location ---\r\n   at Microsoft.CodeAnalysis.Scripting.ScriptExecutionState.RunSubmissionsAsync[TResult](ImmutableArray`1 precedingExecutors, Func`2 currentExecutor, StrongBox`1 exceptionHolderOpt, Func`2 catchExceptionOpt, CancellationToken cancellationToken)",
     "output_type": "error",
     "traceback": [
      "System.IO.IOException: The handle is invalid.\r\n",
      "   at System.ConsolePal.set_CursorVisible(Boolean value)\r\n",
      "   at Submission#60.<<Initialize>>d__0.MoveNext()\r\n",
      "--- End of stack trace from previous location ---\r\n",
      "   at Microsoft.CodeAnalysis.Scripting.ScriptExecutionState.RunSubmissionsAsync[TResult](ImmutableArray`1 precedingExecutors, Func`2 currentExecutor, StrongBox`1 exceptionHolderOpt, Func`2 catchExceptionOpt, CancellationToken cancellationToken)"
     ]
    }
   ],
   "source": [
    "using System;\n",
    "\n",
    "Random random = new Random();\n",
    "Console.CursorVisible = false;\n",
    "int height = Console.WindowHeight - 1;\n",
    "int width = Console.WindowWidth - 5;\n",
    "bool shouldExit = false;\n",
    "\n",
    "// Console position of the player\n",
    "int playerX = 0;\n",
    "int playerY = 0;\n",
    "\n",
    "// Console position of the food\n",
    "int foodX = 0;\n",
    "int foodY = 0;\n",
    "\n",
    "// Available player and food strings\n",
    "string[] states = {\"('-')\", \"(^-^)\", \"(X_X)\"};\n",
    "string[] foods = {\"@@@@@\", \"$$$$$\", \"#####\"};\n",
    "\n",
    "// Current player string displayed in the Console\n",
    "string player = states[0];\n",
    "\n",
    "// Index of the current food\n",
    "int food = 0;\n",
    "\n",
    "InitializeGame();\n",
    "while (!shouldExit) \n",
    "{\n",
    "    Move();\n",
    "}\n",
    "\n",
    "// Returns true if the Terminal was resized \n",
    "bool TerminalResized() \n",
    "{\n",
    "    return height != Console.WindowHeight - 1 || width != Console.WindowWidth - 5;\n",
    "}\n",
    "\n",
    "// Displays random food at a random location\n",
    "void ShowFood() \n",
    "{\n",
    "    // Update food to a random index\n",
    "    food = random.Next(0, foods.Length);\n",
    "\n",
    "    // Update food position to a random location\n",
    "    foodX = random.Next(0, width - player.Length);\n",
    "    foodY = random.Next(0, height - 1);\n",
    "\n",
    "    // Display the food at the location\n",
    "    Console.SetCursorPosition(foodX, foodY);\n",
    "    Console.Write(foods[food]);\n",
    "}\n",
    "\n",
    "// Changes the player to match the food consumed\n",
    "void ChangePlayer() \n",
    "{\n",
    "    player = states[food];\n",
    "    Console.SetCursorPosition(playerX, playerY);\n",
    "    Console.Write(player);\n",
    "}\n",
    "\n",
    "// Temporarily stops the player from moving\n",
    "void FreezePlayer() \n",
    "{\n",
    "    System.Threading.Thread.Sleep(1000);\n",
    "    player = states[0];\n",
    "}\n",
    "\n",
    "// Reads directional input from the Console and moves the player\n",
    "void Move() \n",
    "{\n",
    "    int lastX = playerX;\n",
    "    int lastY = playerY;\n",
    "    \n",
    "    switch (Console.ReadKey(true).Key) \n",
    "    {\n",
    "        case ConsoleKey.UpArrow:\n",
    "            playerY--; \n",
    "            break;\n",
    "\t\tcase ConsoleKey.DownArrow: \n",
    "            playerY++; \n",
    "            break;\n",
    "\t\tcase ConsoleKey.LeftArrow:  \n",
    "            playerX--; \n",
    "            break;\n",
    "\t\tcase ConsoleKey.RightArrow: \n",
    "            playerX++; \n",
    "            break;\n",
    "\t\tcase ConsoleKey.Escape:     \n",
    "            shouldExit = true; \n",
    "            break;\n",
    "    }\n",
    "\n",
    "    // Clear the characters at the previous position\n",
    "    Console.SetCursorPosition(lastX, lastY);\n",
    "    for (int i = 0; i < player.Length; i++) \n",
    "    {\n",
    "        Console.Write(\" \");\n",
    "    }\n",
    "\n",
    "    // Keep player position within the bounds of the Terminal window\n",
    "    playerX = (playerX < 0) ? 0 : (playerX >= width ? width : playerX);\n",
    "    playerY = (playerY < 0) ? 0 : (playerY >= height ? height : playerY);\n",
    "\n",
    "    // Draw the player at the new location\n",
    "    Console.SetCursorPosition(playerX, playerY);\n",
    "    Console.Write(player);\n",
    "}\n",
    "\n",
    "// Clears the console, displays the food and player\n",
    "void InitializeGame() \n",
    "{\n",
    "    Console.Clear();\n",
    "    ShowFood();\n",
    "    Console.SetCursorPosition(0, 0);\n",
    "    Console.Write(player);\n",
    "}"
   ]
  },
  {
   "cell_type": "code",
   "execution_count": null,
   "metadata": {
    "dotnet_interactive": {
     "language": "csharp"
    },
    "polyglot_notebook": {
     "kernelName": "csharp"
    },
    "vscode": {
     "languageId": "polyglot-notebook"
    }
   },
   "outputs": [],
   "source": [
    "    // Check to see if terminal is resized\n",
    "    if (TerminalResized())\n",
    "    {\n",
    "        shouldExit = false;\n",
    "    }\n",
    "\n",
    "// -----------------------\n",
    "\n",
    "    // Exits the game if terminal is resized\n",
    "    bool resized = false;\n",
    "\n",
    "    while (!resized)\n",
    "    {\n",
    "        resized = TerminalResized();\n",
    "        if (resized)\n",
    "        {\n",
    "            Console.Clear();\n",
    "            shouldExit = true;\n",
    "        }\n",
    "    }\n",
    "\n",
    "// -----------------------\n",
    "\n",
    "\n",
    "        // Exits the game if terminal is resized\n",
    "    if (TerminalResized())\n",
    "    {\n",
    "        Console.WriteLine(\"\\nConsole was resized. Program exiting\");\n",
    "        // Thread.Sleep(2000);\n",
    "        Console.Clear();\n",
    "        shouldExit = true;\n",
    "    }\n",
    "\n",
    "\n",
    "\n",
    "        // Exits the game if terminal is resized\n",
    "    bool resized = false;\n",
    "\n",
    "    while (!resized)\n",
    "    {\n",
    "        resized = TerminalResized();\n",
    "        if (TerminalResized())\n",
    "        {\n",
    "            Console.Clear();\n",
    "            shouldExit = true;\n",
    "        }\n",
    "    }\n",
    "\n"
   ]
  },
  {
   "cell_type": "markdown",
   "metadata": {},
   "source": [
    "Issues with program freezing when other key entered.\n",
    "Diagoned:\n",
    "- accidental double up on terminal resize checking\n",
    "- needed to pass in the correct argument to should exit\n",
    "\n",
    "Originally had terminal resize in intialise game"
   ]
  },
  {
   "cell_type": "code",
   "execution_count": null,
   "metadata": {
    "dotnet_interactive": {
     "language": "csharp"
    },
    "polyglot_notebook": {
     "kernelName": "csharp"
    },
    "vscode": {
     "languageId": "polyglot-notebook"
    }
   },
   "outputs": [],
   "source": [
    "\n",
    "InitializeGame();\n",
    "while (!shouldExit) \n",
    "{\n",
    "    //Move();\n",
    "    \n",
    "    // Exits the game if terminal is resized\n",
    "    if (TerminalResized())\n",
    "    {\n",
    "        Console.WriteLine(\"\\nConsole was resized. Program exiting\");\n",
    "        Thread.Sleep(1500);\n",
    "        Console.Clear();\n",
    "        shouldExit = true;\n",
    "    }\n",
    "    else\n",
    "    {\n",
    "        //shouldExit = false;\n",
    "        Move(shouldExit);\n",
    "\n",
    "    }\n",
    "    \n",
    "}\n",
    "\n",
    "// Exits the game if terminal is resized\n",
    "// bool resized = false;\n",
    "\n",
    "// while (!resized)\n",
    "// {\n",
    "//     resized = TerminalResized();\n",
    "//     if (resized)\n",
    "//     {\n",
    "//         Console.WriteLine(\"\\nConsole was resized. Program exiting\");\n",
    "//         Thread.Sleep(2000);\n",
    "//         Console.Clear();\n",
    "//         shouldExit = true;\n",
    "//     }\n",
    "// }\n",
    "\n",
    "// Returns true if the Terminal was resized \n",
    "bool TerminalResized() \n",
    "{\n",
    "    return height != Console.WindowHeight - 1 || width != Console.WindowWidth - 5;\n",
    "}\n",
    "\n",
    "// Reads directional input from the Console and moves the player\n",
    "void Move(bool invalidMove = false) \n",
    "{\n",
    "    int lastX = playerX;\n",
    "    int lastY = playerY;\n",
    "    \n",
    "    switch (Console.ReadKey(true).Key) \n",
    "    {\n",
    "        case ConsoleKey.UpArrow:\n",
    "            playerY--; \n",
    "            break;\n",
    "\t\tcase ConsoleKey.DownArrow: \n",
    "            playerY++; \n",
    "            break;\n",
    "\t\tcase ConsoleKey.LeftArrow:  \n",
    "            playerX--; \n",
    "            break;\n",
    "\t\tcase ConsoleKey.RightArrow: \n",
    "            playerX++; \n",
    "            break;\n",
    "\t\tcase ConsoleKey.Escape:     \n",
    "            shouldExit = true; \n",
    "            break;\n",
    "        // non directional input = exit game\n",
    "        default:\n",
    "            //invalidMove = true;\n",
    "            Console.WriteLine(\"\\nInvalid keystroke. Game Exiting\");\n",
    "            Thread.Sleep(1500);\n",
    "            Console.Clear();\n",
    "            shouldExit = true;\n",
    "            break;\n",
    "    }\n",
    "\n",
    "}\n",
    "\n",
    "// Clears the console, displays the food and player\n",
    "void InitializeGame() \n",
    "{\n",
    "    Console.Clear();\n",
    "    ShowFood();\n",
    "    Console.SetCursorPosition(0, 0);\n",
    "    Console.Write(player);\n",
    "\n",
    "}"
   ]
  },
  {
   "cell_type": "markdown",
   "metadata": {},
   "source": [
    "##### **Solution**"
   ]
  },
  {
   "cell_type": "code",
   "execution_count": null,
   "metadata": {
    "dotnet_interactive": {
     "language": "csharp"
    },
    "polyglot_notebook": {
     "kernelName": "csharp"
    },
    "vscode": {
     "languageId": "polyglot-notebook"
    }
   },
   "outputs": [],
   "source": [
    "using System;\n",
    "\n",
    "Random random = new Random();\n",
    "Console.CursorVisible = false;\n",
    "int height = Console.WindowHeight - 1;\n",
    "int width = Console.WindowWidth - 5;\n",
    "bool shouldExit = false;\n",
    "\n",
    "// Console position of the player\n",
    "int playerX = 0;\n",
    "int playerY = 0;\n",
    "\n",
    "// Console position of the food\n",
    "int foodX = 0;\n",
    "int foodY = 0;\n",
    "\n",
    "// Available player and food strings\n",
    "string[] states = {\"('-')\", \"(^-^)\", \"(X_X)\"};\n",
    "string[] foods = {\"@@@@@\", \"$$$$$\", \"#####\"};\n",
    "\n",
    "// Current player string displayed in the Console\n",
    "string player = states[0];\n",
    "\n",
    "// Index of the current food\n",
    "int food = 0;\n",
    "\n",
    "InitializeGame();\n",
    "while (!shouldExit) \n",
    "{\n",
    "    //Move();\n",
    "    \n",
    "    // Exits the game if terminal is resized\n",
    "    if (TerminalResized())\n",
    "    {\n",
    "        Console.WriteLine(\"\\nConsole was resized. Program exiting\");\n",
    "        Thread.Sleep(1500);\n",
    "        Console.Clear();\n",
    "        shouldExit = true;\n",
    "    }\n",
    "    else\n",
    "    {\n",
    "        Move(shouldExit); // optional\n",
    "    }\n",
    "    \n",
    "}\n",
    "\n",
    "// Returns true if the Terminal was resized \n",
    "bool TerminalResized() \n",
    "{\n",
    "    return height != Console.WindowHeight - 1 || width != Console.WindowWidth - 5;\n",
    "}\n",
    "\n",
    "// Displays random food at a random location\n",
    "void ShowFood() \n",
    "{\n",
    "    // Update food to a random index\n",
    "    food = random.Next(0, foods.Length);\n",
    "\n",
    "    // Update food position to a random location\n",
    "    foodX = random.Next(0, width - player.Length);\n",
    "    foodY = random.Next(0, height - 1);\n",
    "\n",
    "    // Display the food at the location\n",
    "    Console.SetCursorPosition(foodX, foodY);\n",
    "    Console.Write(foods[food]);\n",
    "}\n",
    "\n",
    "// Changes the player to match the food consumed\n",
    "void ChangePlayer() \n",
    "{\n",
    "    player = states[food];\n",
    "    Console.SetCursorPosition(playerX, playerY);\n",
    "    Console.Write(player);\n",
    "}\n",
    "\n",
    "// Temporarily stops the player from moving\n",
    "void FreezePlayer() \n",
    "{\n",
    "    System.Threading.Thread.Sleep(1000);\n",
    "    player = states[0];\n",
    "}\n",
    "\n",
    "// Reads directional input from the Console and moves the player\n",
    "void Move(bool invalidMove = false) \n",
    "{\n",
    "    int lastX = playerX;\n",
    "    int lastY = playerY;\n",
    "    \n",
    "    switch (Console.ReadKey(true).Key) \n",
    "    {\n",
    "        case ConsoleKey.UpArrow:\n",
    "            playerY--; \n",
    "            break;\n",
    "\t\tcase ConsoleKey.DownArrow: \n",
    "            playerY++; \n",
    "            break;\n",
    "\t\tcase ConsoleKey.LeftArrow:  \n",
    "            playerX--; \n",
    "            break;\n",
    "\t\tcase ConsoleKey.RightArrow: \n",
    "            playerX++; \n",
    "            break;\n",
    "\t\tcase ConsoleKey.Escape:     \n",
    "            shouldExit = true; \n",
    "            break;\n",
    "        // non directional input = exit game\n",
    "        default:\n",
    "            Console.WriteLine(\"\\nInvalid keystroke. Game Exiting\");\n",
    "            Thread.Sleep(1500);\n",
    "            Console.Clear();\n",
    "            shouldExit = true;\n",
    "            break;\n",
    "    }\n",
    "\n",
    "    // Clear the characters at the previous position\n",
    "    Console.SetCursorPosition(lastX, lastY);\n",
    "    for (int i = 0; i < player.Length; i++) \n",
    "    {\n",
    "        Console.Write(\" \");\n",
    "    }\n",
    "\n",
    "    // Keep player position within the bounds of the Terminal window\n",
    "    playerX = (playerX < 0) ? 0 : (playerX >= width ? width : playerX);\n",
    "    playerY = (playerY < 0) ? 0 : (playerY >= height ? height : playerY);\n",
    "\n",
    "    // Draw the player at the new location\n",
    "    Console.SetCursorPosition(playerX, playerY);\n",
    "    Console.Write(player);\n",
    "}\n",
    "\n",
    "// Clears the console, displays the food and player\n",
    "void InitializeGame() \n",
    "{\n",
    "    Console.Clear();\n",
    "    ShowFood();\n",
    "    Console.SetCursorPosition(0, 0);\n",
    "    Console.Write(player);\n",
    "\n",
    "}"
   ]
  },
  {
   "cell_type": "markdown",
   "metadata": {},
   "source": [
    "#### 🚀 **[Exercise - Make the player consume food](https://learn.microsoft.com/en-us/training/modules/challenge-project-create-mini-game/4-exercise-make-player-consume-food)**"
   ]
  },
  {
   "cell_type": "markdown",
   "metadata": {},
   "source": [
    "##### ***Intro***"
   ]
  },
  {
   "cell_type": "markdown",
   "metadata": {},
   "source": [
    "* Your goal is to develop a mini-game application. \n",
    "* The mini-game displays food that the player can consume. \n",
    "* You need to detect if the player has successfully consumed the food, and if so, redisplay the food. \n",
    "* You also want to change the player appearance depending on what food was consumed."
   ]
  },
  {
   "cell_type": "markdown",
   "metadata": {},
   "source": [
    "##### ***Specification***"
   ]
  },
  {
   "cell_type": "markdown",
   "metadata": {},
   "source": [
    "In this challenge exercise, you need to: \n",
    "* create a method that determines if the player has consumed the food that was displayed. \n",
    "    * If the food was consumed...update the player's appearance and redisplay the food\n",
    "\n",
    "**Check if the player consumed the food**\n",
    "* Create a method that uses the existing position variables of the player and food\n",
    "* The method should return a value\n",
    "* After the user moves the character, call your method to determine the following:\n",
    "    * Whether or not to use the existing method that changes player appearance\n",
    "    * Whether or not to use the existing method to redisplay the food"
   ]
  },
  {
   "cell_type": "markdown",
   "metadata": {},
   "source": [
    "##### ***Starter Code cont...***"
   ]
  },
  {
   "cell_type": "code",
   "execution_count": 1,
   "metadata": {
    "dotnet_interactive": {
     "language": "csharp"
    },
    "polyglot_notebook": {
     "kernelName": "csharp"
    },
    "vscode": {
     "languageId": "polyglot-notebook"
    }
   },
   "outputs": [
    {
     "ename": "Error",
     "evalue": "(36,9): error CS0103: The name 'Thread' does not exist in the current context\r\n(109,13): error CS0103: The name 'Thread' does not exist in the current context",
     "output_type": "error",
     "traceback": [
      "(36,9): error CS0103: The name 'Thread' does not exist in the current context\r\n",
      "(109,13): error CS0103: The name 'Thread' does not exist in the current context"
     ]
    }
   ],
   "source": [
    "using System;\n",
    "\n",
    "Random random = new Random();\n",
    "Console.CursorVisible = false;\n",
    "int height = Console.WindowHeight - 1;\n",
    "int width = Console.WindowWidth - 5;\n",
    "bool shouldExit = false;\n",
    "\n",
    "// Console position of the player\n",
    "int playerX = 0;\n",
    "int playerY = 0;\n",
    "\n",
    "// Console position of the food\n",
    "int foodX = 0;\n",
    "int foodY = 0;\n",
    "\n",
    "// Available player and food strings\n",
    "string[] states = {\"('-')\", \"(^-^)\", \"(X_X)\"};\n",
    "string[] foods = {\"@@@@@\", \"$$$$$\", \"#####\"};\n",
    "\n",
    "// Current player string displayed in the Console\n",
    "string player = states[0];\n",
    "\n",
    "// Index of the current food\n",
    "int food = 0;\n",
    "\n",
    "InitializeGame();\n",
    "while (!shouldExit) \n",
    "{\n",
    "    //Move();\n",
    "    \n",
    "    // Exits the game if terminal is resized\n",
    "    if (TerminalResized())\n",
    "    {\n",
    "        Console.WriteLine(\"\\nConsole was resized. Program exiting\");\n",
    "        Thread.Sleep(1500);\n",
    "        Console.Clear();\n",
    "        shouldExit = true;\n",
    "    }\n",
    "    else\n",
    "    {\n",
    "        Move(shouldExit); // optional\n",
    "    }\n",
    "    \n",
    "}\n",
    "\n",
    "// Returns true if the Terminal was resized \n",
    "bool TerminalResized() \n",
    "{\n",
    "    return height != Console.WindowHeight - 1 || width != Console.WindowWidth - 5;\n",
    "}\n",
    "\n",
    "// Displays random food at a random location\n",
    "void ShowFood() \n",
    "{\n",
    "    // Update food to a random index\n",
    "    food = random.Next(0, foods.Length);\n",
    "\n",
    "    // Update food position to a random location\n",
    "    foodX = random.Next(0, width - player.Length);\n",
    "    foodY = random.Next(0, height - 1);\n",
    "\n",
    "    // Display the food at the location\n",
    "    Console.SetCursorPosition(foodX, foodY);\n",
    "    Console.Write(foods[food]);\n",
    "}\n",
    "\n",
    "// Changes the player to match the food consumed\n",
    "void ChangePlayer() \n",
    "{\n",
    "    player = states[food];\n",
    "    Console.SetCursorPosition(playerX, playerY);\n",
    "    Console.Write(player);\n",
    "}\n",
    "\n",
    "// Temporarily stops the player from moving\n",
    "void FreezePlayer() \n",
    "{\n",
    "    System.Threading.Thread.Sleep(1000);\n",
    "    player = states[0];\n",
    "}\n",
    "\n",
    "// Reads directional input from the Console and moves the player\n",
    "void Move(bool invalidMove = false) \n",
    "{\n",
    "    int lastX = playerX;\n",
    "    int lastY = playerY;\n",
    "    \n",
    "    switch (Console.ReadKey(true).Key) \n",
    "    {\n",
    "        case ConsoleKey.UpArrow:\n",
    "            playerY--; \n",
    "            break;\n",
    "\t\tcase ConsoleKey.DownArrow: \n",
    "            playerY++; \n",
    "            break;\n",
    "\t\tcase ConsoleKey.LeftArrow:  \n",
    "            playerX--; \n",
    "            break;\n",
    "\t\tcase ConsoleKey.RightArrow: \n",
    "            playerX++; \n",
    "            break;\n",
    "\t\tcase ConsoleKey.Escape:     \n",
    "            shouldExit = true; \n",
    "            break;\n",
    "        // non directional input = exit game\n",
    "        default:\n",
    "            Console.WriteLine(\"\\nInvalid keystroke. Game Exiting\");\n",
    "            Thread.Sleep(1500);\n",
    "            Console.Clear();\n",
    "            shouldExit = true;\n",
    "            break;\n",
    "    }\n",
    "\n",
    "    // Clear the characters at the previous position\n",
    "    Console.SetCursorPosition(lastX, lastY);\n",
    "    for (int i = 0; i < player.Length; i++) \n",
    "    {\n",
    "        Console.Write(\" \");\n",
    "    }\n",
    "\n",
    "    // Keep player position within the bounds of the Terminal window\n",
    "    playerX = (playerX < 0) ? 0 : (playerX >= width ? width : playerX);\n",
    "    playerY = (playerY < 0) ? 0 : (playerY >= height ? height : playerY);\n",
    "\n",
    "    // Draw the player at the new location\n",
    "    Console.SetCursorPosition(playerX, playerY);\n",
    "    Console.Write(player);\n",
    "}\n",
    "\n",
    "// Clears the console, displays the food and player\n",
    "void InitializeGame() \n",
    "{\n",
    "    Console.Clear();\n",
    "    ShowFood();\n",
    "    Console.SetCursorPosition(0, 0);\n",
    "    Console.Write(player);\n",
    "\n",
    "}"
   ]
  },
  {
   "cell_type": "markdown",
   "metadata": {},
   "source": [
    "##### ***Playground***"
   ]
  },
  {
   "cell_type": "code",
   "execution_count": null,
   "metadata": {
    "dotnet_interactive": {
     "language": "csharp"
    },
    "polyglot_notebook": {
     "kernelName": "csharp"
    },
    "vscode": {
     "languageId": "polyglot-notebook"
    }
   },
   "outputs": [],
   "source": [
    "// Check if player consumed food = returns ?\n",
    "bool ConsumedFood()\n",
    "{\n",
    "    \n",
    "}\n"
   ]
  },
  {
   "cell_type": "code",
   "execution_count": null,
   "metadata": {
    "dotnet_interactive": {
     "language": "csharp"
    },
    "polyglot_notebook": {
     "kernelName": "csharp"
    },
    "vscode": {
     "languageId": "polyglot-notebook"
    }
   },
   "outputs": [],
   "source": [
    "\n",
    "// // Check if player consumed food = returns ?\n",
    "bool ConsumedFood()\n",
    "{\n",
    "    if (playerX == foodX; && playerY == foodY;)\n",
    "    {\n",
    "        return true;\n",
    "    }\n",
    "    else\n",
    "    {\n",
    "        return false;\n",
    "    }\n",
    "\n",
    "}"
   ]
  },
  {
   "cell_type": "code",
   "execution_count": null,
   "metadata": {
    "dotnet_interactive": {
     "language": "csharp"
    },
    "polyglot_notebook": {
     "kernelName": "csharp"
    },
    "vscode": {
     "languageId": "polyglot-notebook"
    }
   },
   "outputs": [],
   "source": [
    "// Returns true if player location = food location (consumed)\n",
    "bool ConsumedFood()\n",
    "{\n",
    "    return playerX == foodX && playerY == foodY;\n",
    "}\n"
   ]
  },
  {
   "cell_type": "code",
   "execution_count": null,
   "metadata": {
    "dotnet_interactive": {
     "language": "csharp"
    },
    "polyglot_notebook": {
     "kernelName": "csharp"
    },
    "vscode": {
     "languageId": "polyglot-notebook"
    }
   },
   "outputs": [],
   "source": [
    "InitializeGame();\n",
    "while (!shouldExit) \n",
    "{\n",
    "   \n",
    "    // Exits the game if terminal is resized\n",
    "    if (TerminalResized())\n",
    "    {\n",
    "        Console.WriteLine(\"\\nConsole was resized. Program exiting\");\n",
    "        Thread.Sleep(1500);\n",
    "        Console.Clear();\n",
    "        shouldExit = true;\n",
    "    }\n",
    "    else\n",
    "    {\n",
    "        Move(shouldExit);\n",
    "\n",
    "        // check if food consumed method is working\n",
    "        if(ConsumedFood())\n",
    "        {\n",
    "            Console.WriteLine(\"Food Consumed\");\n",
    "        }\n",
    "    }\n",
    "    \n",
    "}"
   ]
  },
  {
   "cell_type": "code",
   "execution_count": null,
   "metadata": {
    "dotnet_interactive": {
     "language": "csharp"
    },
    "polyglot_notebook": {
     "kernelName": "csharp"
    },
    "vscode": {
     "languageId": "polyglot-notebook"
    }
   },
   "outputs": [],
   "source": [
    "    // Exits the game if terminal is resized\n",
    "    if (TerminalResized())\n",
    "    {\n",
    "        Console.WriteLine(\"\\nConsole was resized. Program exiting\");\n",
    "        Thread.Sleep(1500);\n",
    "        Console.Clear();\n",
    "        shouldExit = true;\n",
    "    }\n",
    "    else\n",
    "    {\n",
    "        Move(shouldExit);\n",
    "\n",
    "        // check if food consumed method is working\n",
    "        if(ConsumedFood())\n",
    "        {\n",
    "            // Console.WriteLine(\"Food Consumed\");\n",
    "            ChangePlayer();\n",
    "        }\n",
    "    }"
   ]
  },
  {
   "cell_type": "markdown",
   "metadata": {},
   "source": [
    "##### **Solution**"
   ]
  },
  {
   "cell_type": "code",
   "execution_count": null,
   "metadata": {
    "dotnet_interactive": {
     "language": "csharp"
    },
    "polyglot_notebook": {
     "kernelName": "csharp"
    },
    "vscode": {
     "languageId": "polyglot-notebook"
    }
   },
   "outputs": [],
   "source": []
  },
  {
   "cell_type": "markdown",
   "metadata": {},
   "source": [
    "## ***WIP point***"
   ]
  },
  {
   "cell_type": "markdown",
   "metadata": {},
   "source": [
    "##### ***Specification***"
   ]
  },
  {
   "cell_type": "markdown",
   "metadata": {},
   "source": [
    "#### 🚀 **[Exercise - <insert>](#)**"
   ]
  },
  {
   "cell_type": "markdown",
   "metadata": {},
   "source": [
    "#### ❓ **Check Knowledge: <insert>**"
   ]
  },
  {
   "cell_type": "markdown",
   "metadata": {},
   "source": [
    "1. insert\n",
    "    * ❌ insert\n",
    "    * ✔️ insert \n",
    "    * ❌ insert\n",
    "\n",
    "    <br>\n",
    "\n",
    "2. insert\n",
    "    * ❌ insert\n",
    "    * ✔️ insert \n",
    "    * ❌ insert"
   ]
  },
  {
   "cell_type": "markdown",
   "metadata": {},
   "source": [
    "#### **Summary**"
   ]
  },
  {
   "cell_type": "markdown",
   "metadata": {},
   "source": [
    "_________________________\n",
    "\n",
    "## ***[Debug C# console applications<br> (Get started with C#, Part 6)](https://learn.microsoft.com/en-us/training/paths/get-started-c-sharp-part-6/)***\n",
    "\n",
    "_________________________"
   ]
  },
  {
   "cell_type": "markdown",
   "metadata": {},
   "source": [
    "_________________________\n",
    "\n",
    "### [Review the principles of code debugging and exception handling](https://learn.microsoft.com/en-us/training/modules/review-principles-code-debugging-exception-handling-c-sharp/)\n",
    "\n",
    "_________________________"
   ]
  },
  {
   "cell_type": "markdown",
   "metadata": {},
   "source": [
    "####  ✔️ **Learning Objectives:**"
   ]
  },
  {
   "cell_type": "markdown",
   "metadata": {},
   "source": [
    "##### ***Prerequisites***"
   ]
  },
  {
   "cell_type": "markdown",
   "metadata": {},
   "source": [
    "####  **Introduction:**"
   ]
  },
  {
   "cell_type": "markdown",
   "metadata": {},
   "source": [
    "#### 🚀 **[Exercise - <insert>](#)**"
   ]
  },
  {
   "cell_type": "markdown",
   "metadata": {},
   "source": [
    "#### 🚀 **[Exercise - <insert>](#)**"
   ]
  },
  {
   "cell_type": "markdown",
   "metadata": {},
   "source": [
    "#### ❓ **Check Knowledge: <insert>**"
   ]
  },
  {
   "cell_type": "markdown",
   "metadata": {},
   "source": [
    "1. insert\n",
    "    * ❌ insert\n",
    "    * ✔️ insert \n",
    "    * ❌ insert\n",
    "\n",
    "    <br>\n",
    "\n",
    "2. insert\n",
    "    * ❌ insert\n",
    "    * ✔️ insert \n",
    "    * ❌ insert"
   ]
  },
  {
   "cell_type": "markdown",
   "metadata": {},
   "source": [
    "##### ***sub heading***"
   ]
  },
  {
   "cell_type": "markdown",
   "metadata": {},
   "source": [
    "#### **Summary**"
   ]
  },
  {
   "cell_type": "markdown",
   "metadata": {},
   "source": [
    "_________________________\n",
    "\n",
    "### [Implement the Visual Studio Code debugging tools for C#](https://learn.microsoft.com/en-us/training/modules/implement-visual-studio-code-debugging-tools/)\n",
    "\n",
    "_________________________"
   ]
  },
  {
   "cell_type": "markdown",
   "metadata": {},
   "source": [
    "####  ✔️ **Learning Objectives:**"
   ]
  },
  {
   "cell_type": "markdown",
   "metadata": {},
   "source": [
    "##### ***Prerequisites***"
   ]
  },
  {
   "cell_type": "markdown",
   "metadata": {},
   "source": [
    "####  **Introduction:**"
   ]
  },
  {
   "cell_type": "markdown",
   "metadata": {},
   "source": [
    "#### 🚀 **[Exercise - <insert>](#)**"
   ]
  },
  {
   "cell_type": "markdown",
   "metadata": {},
   "source": [
    "#### ❓ **Check Knowledge: <insert>**"
   ]
  },
  {
   "cell_type": "markdown",
   "metadata": {},
   "source": [
    "1. insert\n",
    "    * ❌ insert\n",
    "    * ✔️ insert \n",
    "    * ❌ insert\n",
    "\n",
    "    <br>\n",
    "\n",
    "2. insert\n",
    "    * ❌ insert\n",
    "    * ✔️ insert \n",
    "    * ❌ insert"
   ]
  },
  {
   "cell_type": "markdown",
   "metadata": {},
   "source": [
    "##### ***sub heading***"
   ]
  },
  {
   "cell_type": "markdown",
   "metadata": {},
   "source": [
    "#### **Summary**"
   ]
  },
  {
   "cell_type": "markdown",
   "metadata": {},
   "source": [
    "_________________________\n",
    "\n",
    "### [Implement exception handling in C# console applications](https://learn.microsoft.com/en-us/training/modules/implement-exception-handling-c-sharp/)\n",
    "\n",
    "_________________________"
   ]
  },
  {
   "cell_type": "markdown",
   "metadata": {},
   "source": [
    "####  ✔️ **Learning Objectives:**"
   ]
  },
  {
   "cell_type": "markdown",
   "metadata": {},
   "source": [
    "##### ***Prerequisites***"
   ]
  },
  {
   "cell_type": "markdown",
   "metadata": {},
   "source": [
    "####  **Introduction:**"
   ]
  },
  {
   "cell_type": "markdown",
   "metadata": {},
   "source": [
    "#### 🚀 **[Exercise - <insert>](#)**"
   ]
  },
  {
   "cell_type": "markdown",
   "metadata": {},
   "source": [
    "#### ❓ **Check Knowledge: <insert>**"
   ]
  },
  {
   "cell_type": "markdown",
   "metadata": {},
   "source": [
    "1. insert\n",
    "    * ❌ insert\n",
    "    * ✔️ insert \n",
    "    * ❌ insert\n",
    "\n",
    "    <br>\n",
    "\n",
    "2. insert\n",
    "    * ❌ insert\n",
    "    * ✔️ insert \n",
    "    * ❌ insert"
   ]
  },
  {
   "cell_type": "markdown",
   "metadata": {},
   "source": [
    "##### ***sub heading***"
   ]
  },
  {
   "cell_type": "markdown",
   "metadata": {},
   "source": [
    "#### **Summary**"
   ]
  },
  {
   "cell_type": "markdown",
   "metadata": {},
   "source": [
    "_________________________\n",
    "\n",
    "### [Create and throw exceptions in C# console applications](https://learn.microsoft.com/en-us/training/modules/create-throw-exceptions-c-sharp/)\n",
    "\n",
    "_________________________"
   ]
  },
  {
   "cell_type": "markdown",
   "metadata": {},
   "source": [
    "####  ✔️ **Learning Objectives:**"
   ]
  },
  {
   "cell_type": "markdown",
   "metadata": {},
   "source": [
    "##### ***Prerequisites***"
   ]
  },
  {
   "cell_type": "markdown",
   "metadata": {},
   "source": [
    "####  **Introduction:**"
   ]
  },
  {
   "cell_type": "markdown",
   "metadata": {},
   "source": [
    "#### 🚀 **[Exercise - <insert>](#)**"
   ]
  },
  {
   "cell_type": "markdown",
   "metadata": {},
   "source": [
    "#### ❓ **Check Knowledge: <insert>**"
   ]
  },
  {
   "cell_type": "markdown",
   "metadata": {},
   "source": [
    "1. insert\n",
    "    * ❌ insert\n",
    "    * ✔️ insert \n",
    "    * ❌ insert\n",
    "\n",
    "    <br>\n",
    "\n",
    "2. insert\n",
    "    * ❌ insert\n",
    "    * ✔️ insert \n",
    "    * ❌ insert"
   ]
  },
  {
   "cell_type": "markdown",
   "metadata": {},
   "source": [
    "##### ***sub heading***"
   ]
  },
  {
   "cell_type": "markdown",
   "metadata": {},
   "source": [
    "#### **Summary**"
   ]
  },
  {
   "cell_type": "markdown",
   "metadata": {},
   "source": [
    "_________________________\n",
    "\n",
    "### 🚀 [Guided project - Debug and handle exceptions in a C# console application using Visual Studio Code](https://learn.microsoft.com/en-us/training/modules/guided-project-debug-handle-exceptions-c-sharp-console-application/)\n",
    "\n",
    "_________________________"
   ]
  },
  {
   "cell_type": "markdown",
   "metadata": {},
   "source": [
    "####  ✔️ **Learning Objectives:**"
   ]
  },
  {
   "cell_type": "markdown",
   "metadata": {},
   "source": [
    "##### ***Prerequisites***"
   ]
  },
  {
   "cell_type": "markdown",
   "metadata": {},
   "source": [
    "####  **Introduction:**"
   ]
  },
  {
   "cell_type": "markdown",
   "metadata": {},
   "source": [
    "#### 🚀 **[Exercise - <insert>](#)**"
   ]
  },
  {
   "cell_type": "markdown",
   "metadata": {},
   "source": [
    "#### ❓ **Check Knowledge: <insert>**"
   ]
  },
  {
   "cell_type": "markdown",
   "metadata": {},
   "source": [
    "1. insert\n",
    "    * ❌ insert\n",
    "    * ✔️ insert \n",
    "    * ❌ insert\n",
    "\n",
    "    <br>\n",
    "\n",
    "2. insert\n",
    "    * ❌ insert\n",
    "    * ✔️ insert \n",
    "    * ❌ insert"
   ]
  },
  {
   "cell_type": "markdown",
   "metadata": {},
   "source": [
    "##### ***sub heading***"
   ]
  },
  {
   "cell_type": "markdown",
   "metadata": {},
   "source": [
    "#### **Summary**"
   ]
  },
  {
   "cell_type": "markdown",
   "metadata": {},
   "source": [
    "_________________________\n",
    "\n",
    "### ⭐ [Challenge project - Debug a C# console application using Visual Studio Code](https://learn.microsoft.com/en-us/training/modules/challenge-project-debug-c-sharp-console-application/)\n",
    "\n",
    "_________________________"
   ]
  },
  {
   "cell_type": "markdown",
   "metadata": {},
   "source": [
    "####  ✔️ **Learning Objectives:**"
   ]
  },
  {
   "cell_type": "markdown",
   "metadata": {},
   "source": [
    "##### ***Prerequisites***"
   ]
  },
  {
   "cell_type": "markdown",
   "metadata": {},
   "source": [
    "####  **Introduction:**"
   ]
  },
  {
   "cell_type": "markdown",
   "metadata": {},
   "source": [
    "#### 🚀 **[Exercise - <insert>](#)**"
   ]
  },
  {
   "cell_type": "markdown",
   "metadata": {},
   "source": [
    "#### ❓ **Check Knowledge: <insert>**"
   ]
  },
  {
   "cell_type": "markdown",
   "metadata": {},
   "source": [
    "1. insert\n",
    "    * ❌ insert\n",
    "    * ✔️ insert \n",
    "    * ❌ insert\n",
    "\n",
    "    <br>\n",
    "\n",
    "2. insert\n",
    "    * ❌ insert\n",
    "    * ✔️ insert \n",
    "    * ❌ insert"
   ]
  },
  {
   "cell_type": "markdown",
   "metadata": {},
   "source": [
    "##### ***sub heading***"
   ]
  },
  {
   "cell_type": "markdown",
   "metadata": {},
   "source": [
    "#### **Summary**"
   ]
  },
  {
   "cell_type": "markdown",
   "metadata": {},
   "source": [
    "_________________________\n",
    "\n",
    "### [Store and retrieve data using literal and variable values in C#](https://learn.microsoft.com/en-us/training/modules/csharp-literals-variables/)\n",
    "\n",
    "_________________________"
   ]
  },
  {
   "cell_type": "markdown",
   "metadata": {},
   "source": [
    "####  ✔️ **Learning Objectives:**"
   ]
  },
  {
   "cell_type": "markdown",
   "metadata": {},
   "source": [
    "##### ***Prerequisites***"
   ]
  },
  {
   "cell_type": "markdown",
   "metadata": {},
   "source": [
    "####  **Introduction:**"
   ]
  },
  {
   "cell_type": "markdown",
   "metadata": {},
   "source": [
    "#### 🚀 **[Exercise - <insert>](#)**"
   ]
  },
  {
   "cell_type": "markdown",
   "metadata": {},
   "source": [
    "#### ❓ **Check Knowledge: <insert>**"
   ]
  },
  {
   "cell_type": "markdown",
   "metadata": {},
   "source": [
    "1. insert\n",
    "    * ❌ insert\n",
    "    * ✔️ insert \n",
    "    * ❌ insert\n",
    "\n",
    "    <br>\n",
    "\n",
    "2. insert\n",
    "    * ❌ insert\n",
    "    * ✔️ insert \n",
    "    * ❌ insert"
   ]
  },
  {
   "cell_type": "markdown",
   "metadata": {},
   "source": [
    "##### ***sub heading***"
   ]
  },
  {
   "cell_type": "markdown",
   "metadata": {},
   "source": [
    "#### **Summary**"
   ]
  },
  {
   "cell_type": "markdown",
   "metadata": {},
   "source": [
    "_________________________\n",
    "\n",
    "## ***[Build web apps with ASP.NET Core for beginners](https://learn.microsoft.com/en-us/training/paths/aspnet-core-web-app/)***\n",
    "\n",
    "_________________________"
   ]
  },
  {
   "cell_type": "markdown",
   "metadata": {},
   "source": [
    "_________________________\n",
    "\n",
    "### [Write your first C# code](https://learn.microsoft.com/en-us/training/modules/csharp-write-first/)\n",
    "\n",
    "_________________________"
   ]
  },
  {
   "cell_type": "markdown",
   "metadata": {},
   "source": [
    "####  ✔️ **Learning Objectives:**"
   ]
  },
  {
   "cell_type": "markdown",
   "metadata": {},
   "source": [
    "* Write your first lines of C# code\n",
    "* Use two different techniques to print a message to a text console\n",
    "* Diagnose errors when you type code incorrectly\n",
    "* Identify different C# syntax elements like operators, classes, and methods"
   ]
  },
  {
   "cell_type": "markdown",
   "metadata": {},
   "source": [
    "####  **Introduction:**"
   ]
  },
  {
   "cell_type": "markdown",
   "metadata": {},
   "source": [
    "**The C# programming language allows you to build many types of applications, like:**\n",
    "\n",
    "* Business applications to capture, analyze, and process data\n",
    "* Dynamic web applications that can be accessed from a web browser\n",
    "* Games, both 2D and 3D\n",
    "* Financial and scientific applications\n",
    "* Cloud-based applications\n",
    "* Mobile applications\n",
    "\n",
    "**But how do you begin to write an application?**\n",
    "\n",
    "Applications are all made up of many lines of code that work together to achieve a task. By far, the best way to learn how to code is to write code. It's encouraged that you write code along with the exercises in this module and the others in this learning path. Writing code yourself in each exercise and solving small coding challenges will accelerate your learning.\n",
    "\n",
    "You'll also begin learning small foundational concepts and build on them with continual practice and exploration.\n",
    "\n",
    "In this module, you'll be able to write C# code to print a message to the standard output of a console, like the Windows Terminal. These lines of code will give you your first look at the C# syntax, and immediately provide invaluable insights."
   ]
  },
  {
   "cell_type": "markdown",
   "metadata": {},
   "source": [
    "#### 🚀 **Exercises**"
   ]
  },
  {
   "cell_type": "code",
   "execution_count": 116,
   "metadata": {
    "dotnet_interactive": {
     "language": "csharp"
    },
    "polyglot_notebook": {
     "kernelName": "csharp"
    },
    "vscode": {
     "languageId": "polyglot-notebook"
    }
   },
   "outputs": [
    {
     "name": "stdout",
     "output_type": "stream",
     "text": [
      "Hello World!\r\n"
     ]
    }
   ],
   "source": [
    "// Console.WriteLine(\"Hello World!\");\n",
    "Console.WriteLine(\"Hello World!\");"
   ]
  },
  {
   "cell_type": "code",
   "execution_count": 115,
   "metadata": {
    "dotnet_interactive": {
     "language": "csharp"
    },
    "polyglot_notebook": {
     "kernelName": "csharp"
    },
    "vscode": {
     "languageId": "polyglot-notebook"
    }
   },
   "outputs": [
    {
     "name": "stdout",
     "output_type": "stream",
     "text": [
      "Congratulations! You wrote your first lines of code."
     ]
    }
   ],
   "source": [
    "Console.Write(\"Congratulations!\");\n",
    "Console.Write(\" \");\n",
    "Console.Write(\"You wrote your first lines of code.\");"
   ]
  },
  {
   "cell_type": "code",
   "execution_count": 117,
   "metadata": {
    "dotnet_interactive": {
     "language": "csharp"
    },
    "polyglot_notebook": {
     "kernelName": "csharp"
    },
    "vscode": {
     "languageId": "polyglot-notebook"
    }
   },
   "outputs": [
    {
     "name": "stdout",
     "output_type": "stream",
     "text": [
      "This is the first line.\n",
      "This is the second line."
     ]
    }
   ],
   "source": [
    "Console.WriteLine(\"This is the first line.\");\n",
    "\n",
    "Console.Write(\"This is \");\n",
    "Console.Write(\"the second \");\n",
    "Console.Write(\"line.\");"
   ]
  },
  {
   "cell_type": "markdown",
   "metadata": {},
   "source": [
    "_________________________\n",
    "\n",
    "### [Get started with web development using Visual Studio Code](https://learn.microsoft.com/en-us/training/modules/get-started-with-web-development/)\n",
    "\n",
    "_________________________"
   ]
  },
  {
   "cell_type": "markdown",
   "metadata": {},
   "source": [
    "####  ✔️ **Learning Objectives:**"
   ]
  },
  {
   "cell_type": "markdown",
   "metadata": {},
   "source": [
    "* Create a basic web page using HTML\n",
    "* Apply styles to page elements using CSS\n",
    "* Create themes using CSS\n",
    "* Add support for switching between themes using JavaScript\n",
    "* Inspect the website using browser developer tools"
   ]
  }
 ],
 "metadata": {
  "kernelspec": {
   "display_name": ".NET (C#)",
   "language": "C#",
   "name": ".net-csharp"
  },
  "language_info": {
   "name": "csharp"
  },
  "orig_nbformat": 4,
  "polyglot_notebook": {
   "kernelInfo": {
    "defaultKernelName": "csharp",
    "items": [
     {
      "aliases": [],
      "name": "csharp"
     }
    ]
   }
  }
 },
 "nbformat": 4,
 "nbformat_minor": 2
}
