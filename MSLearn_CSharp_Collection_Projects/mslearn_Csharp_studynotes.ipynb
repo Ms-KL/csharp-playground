{
 "cells": [
  {
   "cell_type": "markdown",
   "metadata": {},
   "source": [
    "# 📚 [MS Learn C#](https://learn.microsoft.com/en-us/users/dotnet/collections/yz26f8y64n7k07) 📚 "
   ]
  },
  {
   "cell_type": "markdown",
   "metadata": {},
   "source": [
    "___________________\n",
    "## Contents"
   ]
  },
  {
   "cell_type": "markdown",
   "metadata": {},
   "source": [
    "* [Write your first code using C# (Get started with C#, Part 1)](#write-your-first-code-using-c-get-started-with-c-part-1)\n",
    "    * [Write your first C# code](#write-your-first-c-code)\n",
    "    * [Store and retrieve data using literal and variable values in C#](#store-and-retrieve-data-using-literal-and-variable-values-in-c)\n",
    "    * [Perform basic string formatting in C#](#perform-basic-string-formatting-in-c)\n",
    "    * [Perform basic operations on numbers in C#](#perform-basic-operations-on-numbers-in-c)\n",
    "    * [Guided project - Calculate and print student grades](#guided-project---calculate-and-print-student-grades)\n",
    "    * [Guided project - Calculate final GPA](#guided-project---calculate-final-gpa)\n",
    "\n",
    "    \n",
    "    <br>\n",
    "    \n",
    "\n",
    "* [Create and run simple C# console applications (Get started with C#, Part 2)](#create-and-run-simple-c-console-applications-get-started-with-c-part-2)"
   ]
  },
  {
   "cell_type": "markdown",
   "metadata": {},
   "source": [
    "_______________________ \n",
    "## ***[Write your first code using C# <br> (Get started with C#, Part 1)](https://learn.microsoft.com/en-us/training/paths/get-started-c-sharp-part-1/)***"
   ]
  },
  {
   "cell_type": "markdown",
   "metadata": {},
   "source": [
    "### Modules:\n",
    "\n",
    "* [Write your first C# code](#write-your-first-c-code)\n",
    "* [Store and retrieve data using literal and variable values in C#](#store-and-retrieve-data-using-literal-and-variable-values-in-c)\n",
    "* [Perform basic string formatting in C#](#perform-basic-string-formatting-in-c)\n",
    "* [Perform basic operations on numbers in C#](#perform-basic-operations-on-numbers-in-c)\n",
    "* [Guided project - Calculate and print student grades](#guided-project---calculate-and-print-student-grades)\n",
    "* [Guided project - Calculate final GPA](#guided-project---calculate-final-gpa)"
   ]
  },
  {
   "cell_type": "markdown",
   "metadata": {},
   "source": [
    "_________________________\n",
    "\n",
    "### [Write your first C# code](https://learn.microsoft.com/en-au/training/modules/csharp-write-first/)\n",
    "\n",
    "_________________________"
   ]
  },
  {
   "cell_type": "markdown",
   "metadata": {},
   "source": [
    "Back to [Contents](#contents)"
   ]
  },
  {
   "cell_type": "markdown",
   "metadata": {},
   "source": [
    "####  ✔️ **Learning Objectives:**"
   ]
  },
  {
   "cell_type": "markdown",
   "metadata": {},
   "source": [
    "\n",
    "* Write your first lines of C# Code\n",
    "* Use two different techniques to print a message as output\n",
    "* Diagnose errors when code is incorrect\n",
    "* Identify different C# syntax elements like operators, classes and methods"
   ]
  },
  {
   "cell_type": "markdown",
   "metadata": {},
   "source": [
    "\n",
    "#### **Write() & WriteLine()**"
   ]
  },
  {
   "cell_type": "code",
   "execution_count": 2,
   "metadata": {
    "dotnet_interactive": {
     "language": "csharp"
    },
    "polyglot_notebook": {
     "kernelName": "csharp"
    },
    "vscode": {
     "languageId": "polyglot-notebook"
    }
   },
   "outputs": [
    {
     "name": "stdout",
     "output_type": "stream",
     "text": [
      "My name is Kristy\r\n"
     ]
    }
   ],
   "source": [
    "Console.WriteLine(\"My name is Kristy\");\n",
    "// At the end of the printed text, it adds a line. \n",
    "// Any new output will print on the new line below the previous output."
   ]
  },
  {
   "cell_type": "code",
   "execution_count": 3,
   "metadata": {
    "dotnet_interactive": {
     "language": "csharp"
    },
    "polyglot_notebook": {
     "kernelName": "csharp"
    },
    "vscode": {
     "languageId": "polyglot-notebook"
    }
   },
   "outputs": [
    {
     "name": "stdout",
     "output_type": "stream",
     "text": [
      "My name is Kristy"
     ]
    }
   ],
   "source": [
    "Console.Write(\"My\");\n",
    "Console.Write(\" \");\n",
    "Console.Write(\"name\");\n",
    "Console.Write(' ');\n",
    "Console.Write('i');\n",
    "Console.Write(\"s Kristy\");\n",
    "// Any new output will print on the same line of the previous output."
   ]
  },
  {
   "cell_type": "code",
   "execution_count": 5,
   "metadata": {
    "dotnet_interactive": {
     "language": "csharp"
    },
    "polyglot_notebook": {
     "kernelName": "csharp"
    },
    "vscode": {
     "languageId": "polyglot-notebook"
    }
   },
   "outputs": [
    {
     "ename": "Error",
     "evalue": "(1,1): error CS0103: The name 'console' does not exist in the current context",
     "output_type": "error",
     "traceback": [
      "(1,1): error CS0103: The name 'console' does not exist in the current context"
     ]
    }
   ],
   "source": [
    "console.WriteLine(\"My name is Kristy\");\n",
    "// classes and methods are case sensitive"
   ]
  },
  {
   "cell_type": "code",
   "execution_count": 15,
   "metadata": {
    "dotnet_interactive": {
     "language": "csharp"
    },
    "polyglot_notebook": {
     "kernelName": "csharp"
    },
    "vscode": {
     "languageId": "polyglot-notebook"
    }
   },
   "outputs": [
    {
     "ename": "Error",
     "evalue": "(1,9): error CS0117: 'Console' does not contain a definition for 'writeLine'",
     "output_type": "error",
     "traceback": [
      "(1,9): error CS0117: 'Console' does not contain a definition for 'writeLine'"
     ]
    }
   ],
   "source": [
    "Console.writeLine(\"My name is Kristy\");"
   ]
  },
  {
   "cell_type": "code",
   "execution_count": 16,
   "metadata": {
    "dotnet_interactive": {
     "language": "csharp"
    },
    "polyglot_notebook": {
     "kernelName": "csharp"
    },
    "vscode": {
     "languageId": "polyglot-notebook"
    }
   },
   "outputs": [
    {
     "name": "stdout",
     "output_type": "stream",
     "text": [
      "My Name is Kristy\r\n"
     ]
    }
   ],
   "source": [
    "Console.WriteLine(\"My Name is Kristy\");\n",
    "// Double Quotation = Literal String"
   ]
  },
  {
   "cell_type": "code",
   "execution_count": 17,
   "metadata": {
    "dotnet_interactive": {
     "language": "csharp"
    },
    "polyglot_notebook": {
     "kernelName": "csharp"
    },
    "vscode": {
     "languageId": "polyglot-notebook"
    }
   },
   "outputs": [
    {
     "ename": "Error",
     "evalue": "(1,19): error CS1012: Too many characters in character literal",
     "output_type": "error",
     "traceback": [
      "(1,19): error CS1012: Too many characters in character literal"
     ]
    }
   ],
   "source": [
    "Console.WriteLine('My Name is Kristy');\n",
    "// One character only in Character Literal"
   ]
  },
  {
   "cell_type": "code",
   "execution_count": 18,
   "metadata": {
    "dotnet_interactive": {
     "language": "csharp"
    },
    "polyglot_notebook": {
     "kernelName": "csharp"
    },
    "vscode": {
     "languageId": "polyglot-notebook"
    }
   },
   "outputs": [
    {
     "name": "stdout",
     "output_type": "stream",
     "text": [
      "M\r\n"
     ]
    }
   ],
   "source": [
    "Console.WriteLine('M');\n",
    "// character literal"
   ]
  },
  {
   "cell_type": "markdown",
   "metadata": {},
   "source": [
    "#### **Programming Language & Compilation**"
   ]
  },
  {
   "cell_type": "markdown",
   "metadata": {},
   "source": [
    "##### What is a Programming Language?\n",
    "* Lets you write instructions you want computer to carry out\n",
    "* allow humans to express intent in understandable way (computers can't understand code)\n",
    "* code must be **compiled** into a formate the computer can understand\n",
    "\n",
    "\n",
    "##### What is Compilation?\n",
    "* Compiler converts source code into a format the CPU can execute\n",
    "* CPU understands instructions by turning switches on and off (0 + 1)"
   ]
  },
  {
   "cell_type": "markdown",
   "metadata": {},
   "source": [
    "#### **Class, Method & Member Access / Invocation / Statement Operators**"
   ]
  },
  {
   "cell_type": "markdown",
   "metadata": {},
   "source": [
    "* `Console.WriteLine(\"Double Quotation\");`\n",
    "* Class.Method(input parameter);\n",
    "* `.` --> member access operator\n",
    "* `()` --> invocation operator\n",
    "* `;` --> statement operator (tells compiler the command is done)\n"
   ]
  },
  {
   "cell_type": "markdown",
   "metadata": {},
   "source": [
    "#### ❓ **Check Knowledge: Write() & WriteLine()**\n"
   ]
  },
  {
   "cell_type": "markdown",
   "metadata": {},
   "source": [
    "\n",
    "* What is the difference between `Console.Write` and `Console.WriteLine`?\n",
    "    * ❌ `Console.Write` prints the output on a new line. --> Prints output on the same line\n",
    "    * ❌ `Console.WriteLine` prints the output on a new line. --> Prints output on the same line\n",
    "    * ✔️ `Console.WriteLine` appends a new line after the output."
   ]
  },
  {
   "cell_type": "markdown",
   "metadata": {},
   "source": [
    "#### ⭐ **Challenge: Write code in the .NET Editor to display two messages**"
   ]
  },
  {
   "cell_type": "code",
   "execution_count": 10,
   "metadata": {
    "dotnet_interactive": {
     "language": "csharp"
    },
    "polyglot_notebook": {
     "kernelName": "csharp"
    },
    "vscode": {
     "languageId": "polyglot-notebook"
    }
   },
   "outputs": [
    {
     "name": "stdout",
     "output_type": "stream",
     "text": [
      "This is the first line\n",
      "This is the second line."
     ]
    }
   ],
   "source": [
    "Console.WriteLine(\"This is the first line\");\n",
    "Console.Write(\"This \");\n",
    "Console.Write(\"is \");\n",
    "Console.Write(\"the \");\n",
    "Console.Write(\"second \");\n",
    "Console.Write(\"line.\");"
   ]
  },
  {
   "cell_type": "markdown",
   "metadata": {},
   "source": [
    "#### ❓ **Check Knowledge: Compiler, Literal String, Errors**"
   ]
  },
  {
   "cell_type": "markdown",
   "metadata": {},
   "source": [
    "\n",
    "* What is the primary job of the compiler?\n",
    "    * ❌ Locates spelling mistakes in your code\n",
    "    * ❌ Executs your code\n",
    "    * ✔️ Converts your code into an executable format that the computer can understand\n",
    "    \n",
    "    <br>\n",
    "\n",
    "* Which of the following statements is true about C#?\n",
    "    * ❌ Case insensitive --> Case Sensitive\n",
    "    * ❌`Console`is a method, `WriteLine()` is a class --> `Console`=Class, `WriteLine()`=Method.\n",
    "    * ✔️ Converts your code into an executable format that the computer can understand\n",
    "    \n",
    "    <br>\n",
    "\n",
    "* What is wrong w/ this code: `Console.Writeine(\"What is wrong with this code?\")`\n",
    "    * ❌ The L in `WriteLine` should be lower-case --> uppercase\n",
    "    * ✔️ It's missing a `;` (semi-colon) at the end\n",
    "    * ❌ The string should use `''` (single quotes) --> double quotes"
   ]
  },
  {
   "cell_type": "markdown",
   "metadata": {},
   "source": [
    "#### **SUMMARY:**"
   ]
  },
  {
   "cell_type": "markdown",
   "metadata": {},
   "source": [
    "* Your goal was to write code that displayed simple messages to an output console while familiarizing yourself with the syntax. \n",
    "* You wrote your first lines of code using basic C# syntax. \n",
    "* You learned two techniques for displaying literal-string data to the console. \n",
    "* You also learned what to look for when you come across an error in your code. \n",
    "* And lastly, you identified C# syntax elements like classes and methods, and the purpose of several special symbols that are known as operators. \n",
    "* You've taken your first steps towards building more sophisticated applications."
   ]
  },
  {
   "cell_type": "markdown",
   "metadata": {},
   "source": [
    "Back to [Contents](#contents) • Start of Module • Start of Unit"
   ]
  },
  {
   "cell_type": "markdown",
   "metadata": {},
   "source": [
    "_________________________\n",
    "\n",
    "### [Store and retrieve data using literal and variable values in C#](https://learn.microsoft.com/en-us/training/modules/csharp-literals-variables/)\n",
    "\n",
    "_________________________"
   ]
  },
  {
   "cell_type": "markdown",
   "metadata": {},
   "source": [
    "Back to [Contents](#contents) • Next [Module](#perform-basic-string-formatting-in-c)"
   ]
  },
  {
   "cell_type": "markdown",
   "metadata": {},
   "source": [
    "####  ✔️ **Learning Objectives:**"
   ]
  },
  {
   "cell_type": "markdown",
   "metadata": {},
   "source": [
    "* Create literal values for five basic data types\n",
    "* Declare and initialize variables\n",
    "* Retrieve and set values in variables\n",
    "* Allow the compiler to determine the data type for your variable when initializing"
   ]
  },
  {
   "cell_type": "markdown",
   "metadata": {},
   "source": [
    "####  **Literal Values: Str, Char, Int, Float, Bool**"
   ]
  },
  {
   "cell_type": "markdown",
   "metadata": {},
   "source": [
    "* constant value that never changes\n",
    "* `string`, `char`, `integer`, `boolean`, `float` (float, double, decimal)"
   ]
  },
  {
   "cell_type": "code",
   "execution_count": 24,
   "metadata": {
    "dotnet_interactive": {
     "language": "csharp"
    },
    "polyglot_notebook": {
     "kernelName": "csharp"
    },
    "vscode": {
     "languageId": "polyglot-notebook"
    }
   },
   "outputs": [
    {
     "name": "stdout",
     "output_type": "stream",
     "text": [
      "string literal\n",
      "c\n"
     ]
    }
   ],
   "source": [
    "// string literal\n",
    "Console.WriteLine(\"string literal\");\n",
    "\n",
    "// character literal\n",
    "Console.WriteLine('c');"
   ]
  },
  {
   "cell_type": "code",
   "execution_count": 37,
   "metadata": {
    "dotnet_interactive": {
     "language": "csharp"
    },
    "polyglot_notebook": {
     "kernelName": "csharp"
    },
    "vscode": {
     "languageId": "polyglot-notebook"
    }
   },
   "outputs": [
    {
     "ename": "Error",
     "evalue": "(2,19): error CS1012: Too many characters in character literal",
     "output_type": "error",
     "traceback": [
      "(2,19): error CS1012: Too many characters in character literal"
     ]
    }
   ],
   "source": [
    "// character literal w/ error:\n",
    "Console.WriteLine('error');"
   ]
  },
  {
   "cell_type": "code",
   "execution_count": 40,
   "metadata": {
    "dotnet_interactive": {
     "language": "csharp"
    },
    "polyglot_notebook": {
     "kernelName": "csharp"
    },
    "vscode": {
     "languageId": "polyglot-notebook"
    }
   },
   "outputs": [
    {
     "name": "stdout",
     "output_type": "stream",
     "text": [
      "True\n",
      "False\n",
      "true\n"
     ]
    }
   ],
   "source": [
    "// boolean literal\n",
    "Console.WriteLine(true);\n",
    "Console.WriteLine(false);\n",
    "\n",
    "// vs String\n",
    "Console.WriteLine(\"true\");"
   ]
  },
  {
   "cell_type": "code",
   "execution_count": 39,
   "metadata": {
    "dotnet_interactive": {
     "language": "csharp"
    },
    "polyglot_notebook": {
     "kernelName": "csharp"
    },
    "vscode": {
     "languageId": "polyglot-notebook"
    }
   },
   "outputs": [
    {
     "name": "stdout",
     "output_type": "stream",
     "text": [
      "123\n",
      "123\n"
     ]
    }
   ],
   "source": [
    "// integer literal\n",
    "Console.WriteLine(123);\n",
    "\n",
    "// vs String\n",
    "Console.WriteLine(\"123\");"
   ]
  },
  {
   "cell_type": "markdown",
   "metadata": {},
   "source": [
    "*Floating Point Literals*\n",
    "\n",
    "\n",
    "| Float Type | Precision | Notes |\n",
    "|-|-|-|\n",
    "| float | ~6-9 digits | Fractional Values with `f` suffix |\n",
    "| double  | ~15-17 digits| decimal number, compilaer defaults to double without suffix |\n",
    "| decimal | 28-29 digits| tells compiler we are working w/ deximal type with `m` suffix |"
   ]
  },
  {
   "cell_type": "code",
   "execution_count": 31,
   "metadata": {
    "dotnet_interactive": {
     "language": "csharp"
    },
    "polyglot_notebook": {
     "kernelName": "csharp"
    },
    "vscode": {
     "languageId": "polyglot-notebook"
    }
   },
   "outputs": [
    {
     "name": "stdout",
     "output_type": "stream",
     "text": [
      "0.12345679\n",
      "12.345679\n"
     ]
    }
   ],
   "source": [
    "// FLOAT W/ F\n",
    "Console.WriteLine(0.123456789F);\n",
    "Console.WriteLine(012.3456789F);"
   ]
  },
  {
   "cell_type": "code",
   "execution_count": 32,
   "metadata": {
    "dotnet_interactive": {
     "language": "csharp"
    },
    "polyglot_notebook": {
     "kernelName": "csharp"
    },
    "vscode": {
     "languageId": "polyglot-notebook"
    }
   },
   "outputs": [
    {
     "name": "stdout",
     "output_type": "stream",
     "text": [
      "0.12345678901234568\n",
      "12.345678901234567\n"
     ]
    }
   ],
   "source": [
    "// DOUBLE\n",
    "Console.WriteLine(0.1234567890123456789);\n",
    "Console.WriteLine(012.34567890123456789);"
   ]
  },
  {
   "cell_type": "code",
   "execution_count": 36,
   "metadata": {
    "dotnet_interactive": {
     "language": "csharp"
    },
    "polyglot_notebook": {
     "kernelName": "csharp"
    },
    "vscode": {
     "languageId": "polyglot-notebook"
    }
   },
   "outputs": [
    {
     "name": "stdout",
     "output_type": "stream",
     "text": [
      "0.1234567890123456789012345679\n",
      "12.345678901234567890123456789\n"
     ]
    }
   ],
   "source": [
    "// DECIMAL W/ m\n",
    "Console.WriteLine(0.123456789012345678901234567890123m);\n",
    "Console.WriteLine(012.3456789012345678901234567890123m);\n",
    "d"
   ]
  },
  {
   "cell_type": "markdown",
   "metadata": {},
   "source": [
    "####  **Declare Variables (vs literal):**"
   ]
  },
  {
   "cell_type": "markdown",
   "metadata": {},
   "source": [
    "|Literal|Declare Variable|\n",
    "|-|-|\n",
    "|Literally a hard-coded value | Not Hard-Coded, Temporary stored in computer memory |\n",
    "|Constant / Unchanged while executing | Declare before use. Select data type and give variable name |\n",
    "\n",
    "Flow:\n",
    "* Declare -> set -> retrieve -> intialise"
   ]
  },
  {
   "cell_type": "markdown",
   "metadata": {},
   "source": [
    "Declare a variable with data type and name of variable in camelCase\n"
   ]
  },
  {
   "cell_type": "code",
   "execution_count": 44,
   "metadata": {
    "dotnet_interactive": {
     "language": "csharp"
    },
    "polyglot_notebook": {
     "kernelName": "csharp"
    },
    "vscode": {
     "languageId": "polyglot-notebook"
    }
   },
   "outputs": [],
   "source": [
    "// Conventional:\n",
    "\n",
    "string firstName; // camelCase (not PascalCase or snake_case)\n",
    "string _firstName; // _ for special purpose only\n",
    "\n",
    "char userOption;\n",
    "int gameScore;\n",
    "decimal particlesPerMillion;\n",
    "bool processedCustomer;"
   ]
  },
  {
   "cell_type": "code",
   "execution_count": 43,
   "metadata": {
    "dotnet_interactive": {
     "language": "csharp"
    },
    "polyglot_notebook": {
     "kernelName": "csharp"
    },
    "vscode": {
     "languageId": "polyglot-notebook"
    }
   },
   "outputs": [
    {
     "ename": "Error",
     "evalue": "(5,1): error CS1519: Invalid token 'string' in class, record, struct, or interface member declaration\r\n(4,8): error CS1040: Preprocessor directives must appear as the first non-whitespace character on a line\r\n(5,8): error CS1519: Invalid token '$' in class, record, struct, or interface member declaration\r\n(5,8): error CS1056: Unexpected character '$'\r\n(6,8): error CS1519: Invalid token 'string' in class, record, struct, or interface member declaration\r\n(6,14): error CS1519: Invalid token ';' in class, record, struct, or interface member declaration\r\n(7,8): error CS1519: Invalid token '1' in class, record, struct, or interface member declaration\r\n(7,9): error CS1002: ; expected",
     "output_type": "error",
     "traceback": [
      "(5,1): error CS1519: Invalid token 'string' in class, record, struct, or interface member declaration\r\n",
      "(4,8): error CS1040: Preprocessor directives must appear as the first non-whitespace character on a line\r\n",
      "(5,8): error CS1519: Invalid token '$' in class, record, struct, or interface member declaration\r\n",
      "(5,8): error CS1056: Unexpected character '$'\r\n",
      "(6,8): error CS1519: Invalid token 'string' in class, record, struct, or interface member declaration\r\n",
      "(6,14): error CS1519: Invalid token ';' in class, record, struct, or interface member declaration\r\n",
      "(7,8): error CS1519: Invalid token '1' in class, record, struct, or interface member declaration\r\n",
      "(7,9): error CS1002: ; expected"
     ]
    }
   ],
   "source": [
    "// Non-Conventional (avoid)\n",
    "\n",
    "string FirstName; // Pascal (use for Class naming only)\n",
    "string #name;\n",
    "string $name;\n",
    "string string;\n",
    "string 1name;\n",
    "string notMeaningfulName;\n",
    "string strValue;"
   ]
  },
  {
   "cell_type": "markdown",
   "metadata": {},
   "source": [
    "#### **Set (Assign), Get (Retrieve), Modify, Initialise Variables**"
   ]
  },
  {
   "cell_type": "markdown",
   "metadata": {},
   "source": [
    "* variables = temp storage containers for data\n",
    "* You must assign (set) a value to a variable before you can retrieve (get) a value from a variable.\n",
    "* You can initialize a variable by assigning a value to the variable at the point of declaration.\n",
    "* Assignment happens from right to left.\n",
    "* You use a single equals character as the assignment operator.\n",
    "* To retrieve the value from the variable, you merely use the variable's name."
   ]
  },
  {
   "cell_type": "code",
   "execution_count": 50,
   "metadata": {
    "dotnet_interactive": {
     "language": "csharp"
    },
    "polyglot_notebook": {
     "kernelName": "csharp"
    },
    "vscode": {
     "languageId": "polyglot-notebook"
    }
   },
   "outputs": [
    {
     "name": "stdout",
     "output_type": "stream",
     "text": [
      "Bob\r\n"
     ]
    }
   ],
   "source": [
    "// DECLARE, SET, PRINT\n",
    "string firstName; // declare\n",
    "firstName = \"Bob\"; // set\n",
    "Console.WriteLine(firstName); // print\n",
    "\n",
    "// \" = \" assignment operator"
   ]
  },
  {
   "cell_type": "code",
   "execution_count": 51,
   "metadata": {
    "dotnet_interactive": {
     "language": "csharp"
    },
    "polyglot_notebook": {
     "kernelName": "csharp"
    },
    "vscode": {
     "languageId": "polyglot-notebook"
    }
   },
   "outputs": [
    {
     "ename": "Error",
     "evalue": "(3,13): error CS0029: Cannot implicitly convert type 'string' to 'int'",
     "output_type": "error",
     "traceback": [
      "(3,13): error CS0029: Cannot implicitly convert type 'string' to 'int'"
     ]
    }
   ],
   "source": [
    "// INCORRECT DATA TYPE\n",
    "int firstName;\n",
    "firstName = \"Bob\";\n",
    "Console.WriteLine(firstName); "
   ]
  },
  {
   "cell_type": "code",
   "execution_count": 53,
   "metadata": {
    "dotnet_interactive": {
     "language": "csharp"
    },
    "polyglot_notebook": {
     "kernelName": "csharp"
    },
    "vscode": {
     "languageId": "polyglot-notebook"
    }
   },
   "outputs": [
    {
     "name": "stdout",
     "output_type": "stream",
     "text": [
      "New Name\r\n"
     ]
    }
   ],
   "source": [
    "// MODIFY\n",
    "firstName = \"New Name\";\n",
    "Console.WriteLine(firstName);"
   ]
  },
  {
   "cell_type": "code",
   "execution_count": 54,
   "metadata": {
    "dotnet_interactive": {
     "language": "csharp"
    },
    "polyglot_notebook": {
     "kernelName": "csharp"
    },
    "vscode": {
     "languageId": "polyglot-notebook"
    }
   },
   "outputs": [
    {
     "name": "stdout",
     "output_type": "stream",
     "text": [
      "initilised name\r\n"
     ]
    }
   ],
   "source": [
    "// INITIALISE\n",
    "string newName = \"initilised name\";\n",
    "Console.WriteLine(newName);"
   ]
  },
  {
   "cell_type": "markdown",
   "metadata": {},
   "source": [
    "#### **Declare Implicitly Typed Local Variables**"
   ]
  },
  {
   "cell_type": "markdown",
   "metadata": {},
   "source": [
    "* `var` keyword + intialisation = implicitly typed local variable\n",
    "* implies data type without explicitly typing it\n",
    "* `var` used as time saver when type is obvious from context\n",
    "* once value type is set, it's locked\n",
    "* MUST initialise with value (or error is thrown)"
   ]
  },
  {
   "cell_type": "code",
   "execution_count": 67,
   "metadata": {
    "dotnet_interactive": {
     "language": "csharp"
    },
    "polyglot_notebook": {
     "kernelName": "csharp"
    },
    "vscode": {
     "languageId": "polyglot-notebook"
    }
   },
   "outputs": [
    {
     "ename": "Error",
     "evalue": "(1,5): error CS0818: Implicitly-typed variables must be initialized",
     "output_type": "error",
     "traceback": [
      "(1,5): error CS0818: Implicitly-typed variables must be initialized"
     ]
    }
   ],
   "source": [
    "var message;"
   ]
  },
  {
   "cell_type": "code",
   "execution_count": 55,
   "metadata": {
    "dotnet_interactive": {
     "language": "csharp"
    },
    "polyglot_notebook": {
     "kernelName": "csharp"
    },
    "vscode": {
     "languageId": "polyglot-notebook"
    }
   },
   "outputs": [
    {
     "name": "stdout",
     "output_type": "stream",
     "text": [
      "Implicitly types local variable, string, initialised\r\n"
     ]
    }
   ],
   "source": [
    "var message = \"Implicitly types local variable, string, initialised\";\n",
    "Console.WriteLine(message); // string type implied due to value"
   ]
  },
  {
   "cell_type": "code",
   "execution_count": 63,
   "metadata": {
    "dotnet_interactive": {
     "language": "csharp"
    },
    "polyglot_notebook": {
     "kernelName": "csharp"
    },
    "vscode": {
     "languageId": "polyglot-notebook"
    }
   },
   "outputs": [],
   "source": [
    "message = \"value is mutable, data type is immutable\";"
   ]
  },
  {
   "cell_type": "code",
   "execution_count": 64,
   "metadata": {
    "dotnet_interactive": {
     "language": "csharp"
    },
    "polyglot_notebook": {
     "kernelName": "csharp"
    },
    "vscode": {
     "languageId": "polyglot-notebook"
    }
   },
   "outputs": [
    {
     "ename": "Error",
     "evalue": "(1,11): error CS0029: Cannot implicitly convert type 'int' to 'string'",
     "output_type": "error",
     "traceback": [
      "(1,11): error CS0029: Cannot implicitly convert type 'int' to 'string'"
     ]
    }
   ],
   "source": [
    "message = 4;"
   ]
  },
  {
   "cell_type": "code",
   "execution_count": 65,
   "metadata": {
    "dotnet_interactive": {
     "language": "csharp"
    },
    "polyglot_notebook": {
     "kernelName": "csharp"
    },
    "vscode": {
     "languageId": "polyglot-notebook"
    }
   },
   "outputs": [
    {
     "name": "stdout",
     "output_type": "stream",
     "text": [
      "4\r\n"
     ]
    }
   ],
   "source": [
    "var newNumber = 4;\n",
    "Console.WriteLine(newNumber);"
   ]
  },
  {
   "cell_type": "code",
   "execution_count": 66,
   "metadata": {
    "dotnet_interactive": {
     "language": "csharp"
    },
    "polyglot_notebook": {
     "kernelName": "csharp"
    },
    "vscode": {
     "languageId": "polyglot-notebook"
    }
   },
   "outputs": [
    {
     "ename": "Error",
     "evalue": "(1,13): error CS0029: Cannot implicitly convert type 'string' to 'int'",
     "output_type": "error",
     "traceback": [
      "(1,13): error CS0029: Cannot implicitly convert type 'string' to 'int'"
     ]
    }
   ],
   "source": [
    "newNumber = \"4\";"
   ]
  },
  {
   "cell_type": "markdown",
   "metadata": {},
   "source": [
    "#### ⭐ **Challenge: Display literal and variable values**"
   ]
  },
  {
   "cell_type": "markdown",
   "metadata": {},
   "source": [
    "**[CLICK FOR MSLEARN SOLUTION](https://learn.microsoft.com/en-us/training/modules/csharp-literals-variables/7-solution)**"
   ]
  },
  {
   "cell_type": "markdown",
   "metadata": {},
   "source": [
    "![Alt text](./Assets/image-challenge-display-literal-and-variable-values.png)"
   ]
  },
  {
   "cell_type": "markdown",
   "metadata": {},
   "source": [
    "Output required:\n",
    "\n",
    "`Hello, Bob! You have 3 messages in your inbox. The temperature is 34.4 celsius.`\n",
    "\n",
    "Plan:\n",
    "\n",
    "`Hello, {firstName}! You have {numberOfMessages} messages in your inbox. The temperature is {temperature} celsius.`\n"
   ]
  },
  {
   "cell_type": "code",
   "execution_count": 70,
   "metadata": {
    "dotnet_interactive": {
     "language": "csharp"
    },
    "polyglot_notebook": {
     "kernelName": "csharp"
    },
    "vscode": {
     "languageId": "polyglot-notebook"
    }
   },
   "outputs": [
    {
     "name": "stdout",
     "output_type": "stream",
     "text": [
      "Bob\n",
      "3\n",
      "34.4\n",
      "Hello, Bob! You have 3 messages in your inbox. The temperature is 34.4 celsius. "
     ]
    }
   ],
   "source": [
    "// Literal\n",
    "string firstName;\n",
    "firstName = \"Bob\";\n",
    "Console.WriteLine(firstName);\n",
    "\n",
    "int numberOfMessages = 3;\n",
    "Console.WriteLine(numberOfMessages);\n",
    "\n",
    "// Implicit\n",
    "var temperature = 34.4m;\n",
    "Console.WriteLine(temperature);\n",
    "\n",
    "// Combine\n",
    "Console.Write(\"Hello, \");\n",
    "Console.Write(firstName);\n",
    "Console.Write(\"! You have \");\n",
    "Console.Write(numberOfMessages);\n",
    "Console.Write(\" messages in your inbox. The temperature is \");\n",
    "Console.Write(temperature);\n",
    "Console.Write(\" celsius. \");\n"
   ]
  },
  {
   "cell_type": "code",
   "execution_count": 31,
   "metadata": {
    "dotnet_interactive": {
     "language": "csharp"
    },
    "polyglot_notebook": {
     "kernelName": "csharp"
    },
    "vscode": {
     "languageId": "polyglot-notebook"
    }
   },
   "outputs": [
    {
     "name": "stdout",
     "output_type": "stream",
     "text": [
      "Hello, Bob! You have 3 messages in your inbox. The temperature is 34.4 celsius."
     ]
    }
   ],
   "source": [
    "// MS Learn Solution\n",
    "\n",
    "string name = \"Bob\";\n",
    "int messages = 3;\n",
    "decimal temperature = 34.4m;\n",
    "\n",
    "Console.Write(\"Hello, \");\n",
    "Console.Write(name);\n",
    "Console.Write(\"! You have \");\n",
    "Console.Write(messages);\n",
    "Console.Write(\" messages in your inbox. The temperature is \");\n",
    "Console.Write(temperature);\n",
    "Console.Write(\" celsius.\");"
   ]
  },
  {
   "cell_type": "markdown",
   "metadata": {},
   "source": [
    "#### ❓ **Check Knowledge: variable declaration, assignment, var, data type**"
   ]
  },
  {
   "cell_type": "markdown",
   "metadata": {},
   "source": [
    "\n",
    "1. Which of the following variable names should or must be avoided? \n",
    "    * ✔️ $DATA\n",
    "    * ❌ registrationComplete\n",
    "    * ❌ flag\n",
    "\n",
    "    <br>\n",
    "\n",
    "2. What is the problem with this line of code: `var message`; \n",
    "    * ❌ var isn't a data type.\n",
    "    * ✔️ Use of var keyword without initializing the variable\n",
    "    * ❌ A variable named message should always be a string.\n",
    "\n",
    "    <br>\n",
    "\n",
    "3. Which of the following is the output of Console.WriteLine(34.40M);? \n",
    "    * ❌ 34.40M\n",
    "    * ❌ 34.4\n",
    "    * ✔️ 34.40\n",
    "\n",
    "    <br>\n",
    "\n",
    "4. Which of the following lines of code creates a variable correctly? \n",
    "    * ❌ int x = 12.3m;\n",
    "    * ✔️ decimal x = 12.3m;\n",
    "    * ❌ bool x = 'False';"
   ]
  },
  {
   "cell_type": "markdown",
   "metadata": {},
   "source": [
    "#### **SUMMARY:**"
   ]
  },
  {
   "cell_type": "markdown",
   "metadata": {},
   "source": [
    "* Your goal was to display a formatted message using a combination of literal and variable values.\n",
    "* Using basic C# syntax, you created literal values of several different data types. \n",
    "* You declared variables, and also set and retrieved values from those variables. \n",
    "* You also initialized variables, and learned how to use the var keyword to implicitly type a variable by inferring the type from the initialization."
   ]
  },
  {
   "cell_type": "markdown",
   "metadata": {},
   "source": [
    "_________________________\n",
    "\n",
    "### [Perform basic string formatting in C#](https://learn.microsoft.com/en-us/training/modules/csharp-basic-formatting/)\n",
    "\n",
    "_________________________"
   ]
  },
  {
   "cell_type": "markdown",
   "metadata": {},
   "source": [
    "Back to [Contents](#contents) • Next [Module](#perform-basic-operations-on-numbers-in-c)"
   ]
  },
  {
   "cell_type": "markdown",
   "metadata": {},
   "source": [
    "####  ✔️ **Learning Objectives:**"
   ]
  },
  {
   "cell_type": "markdown",
   "metadata": {},
   "source": [
    "* Create string data containing tabs, new lines, and other special characters\n",
    "* Create string data containing Unicode characters\n",
    "* Combine string data into a new string value via concatenation\n",
    "* Combine string data into a new string value via interpolation*"
   ]
  },
  {
   "cell_type": "markdown",
   "metadata": {},
   "source": [
    "####  **Character escape sequences - `\\n , \\u, \\t, \\\\\", \\\\\\`***"
   ]
  },
  {
   "cell_type": "markdown",
   "metadata": {},
   "source": [
    "* `\\`   escape next character\n",
    "* `\\n`  new line\n",
    "* `\\t`  tab\n",
    "* `\\\"`  escape double quotation mark\n",
    "* `\\\\`  escape backslash\n",
    "* `@`   create verbatim string literal to keep all whitespace and \\ in string\n",
    "* `\\u`  + four character code for Unicode characters (UTF-16) in a string"
   ]
  },
  {
   "cell_type": "code",
   "execution_count": 1,
   "metadata": {
    "dotnet_interactive": {
     "language": "csharp"
    },
    "polyglot_notebook": {
     "kernelName": "csharp"
    },
    "vscode": {
     "languageId": "polyglot-notebook"
    }
   },
   "outputs": [
    {
     "name": "stdout",
     "output_type": "stream",
     "text": [
      "Hello\n",
      "New Line!\n",
      "Hello\tTab!\n",
      "Hello \"Quotations\"!\n",
      "c\\some\\path\n"
     ]
    }
   ],
   "source": [
    "Console.WriteLine(\"Hello\\nNew Line!\");\n",
    "Console.WriteLine(\"Hello\\tTab!\");\n",
    "Console.WriteLine(\"Hello \\\"Quotations\\\"!\");\n",
    "Console.WriteLine(\"c\\\\some\\\\path\");"
   ]
  },
  {
   "cell_type": "code",
   "execution_count": 2,
   "metadata": {
    "dotnet_interactive": {
     "language": "csharp"
    },
    "polyglot_notebook": {
     "kernelName": "csharp"
    },
    "vscode": {
     "languageId": "polyglot-notebook"
    }
   },
   "outputs": [
    {
     "ename": "Error",
     "evalue": "(2,27): error CS1003: Syntax error, ',' expected\r\n(2,37): error CS1003: Syntax error, ',' expected",
     "output_type": "error",
     "traceback": [
      "(2,27): error CS1003: Syntax error, ',' expected\r\n",
      "(2,37): error CS1003: Syntax error, ',' expected"
     ]
    }
   ],
   "source": [
    "// errors:\n",
    "Console.WriteLine(\"Hello \"Quotations\"!\");"
   ]
  },
  {
   "cell_type": "code",
   "execution_count": 3,
   "metadata": {
    "dotnet_interactive": {
     "language": "csharp"
    },
    "polyglot_notebook": {
     "kernelName": "csharp"
    },
    "vscode": {
     "languageId": "polyglot-notebook"
    }
   },
   "outputs": [
    {
     "ename": "Error",
     "evalue": "(2,22): error CS1009: Unrecognized escape sequence\r\n(2,27): error CS1009: Unrecognized escape sequence",
     "output_type": "error",
     "traceback": [
      "(2,22): error CS1009: Unrecognized escape sequence\r\n",
      "(2,27): error CS1009: Unrecognized escape sequence"
     ]
    }
   ],
   "source": [
    "// error unrecognised escape sequence\n",
    "Console.WriteLine(\"c:\\some\\path\");"
   ]
  },
  {
   "cell_type": "code",
   "execution_count": 4,
   "metadata": {
    "dotnet_interactive": {
     "language": "csharp"
    },
    "polyglot_notebook": {
     "kernelName": "csharp"
    },
    "vscode": {
     "languageId": "polyglot-notebook"
    }
   },
   "outputs": [
    {
     "name": "stdout",
     "output_type": "stream",
     "text": [
      "Generating invoices for customer \"Contoso Corp\" ...\n",
      "\n",
      "Invoice: 1021\t\tComplete!\n",
      "Invoice: 1022\t\tComplete!\n",
      "\n",
      "Output Directory:\t\n"
     ]
    }
   ],
   "source": [
    "Console.WriteLine(\"Generating invoices for customer \\\"Contoso Corp\\\" ...\\n\");\n",
    "Console.WriteLine(\"Invoice: 1021\\t\\tComplete!\");\n",
    "Console.WriteLine(\"Invoice: 1022\\t\\tComplete!\");\n",
    "Console.WriteLine(\"\\nOutput Directory:\\t\");"
   ]
  },
  {
   "cell_type": "markdown",
   "metadata": {},
   "source": [
    "#### **Verbatim string literal - `@`**"
   ]
  },
  {
   "cell_type": "code",
   "execution_count": 5,
   "metadata": {
    "dotnet_interactive": {
     "language": "csharp"
    },
    "polyglot_notebook": {
     "kernelName": "csharp"
    },
    "vscode": {
     "languageId": "polyglot-notebook"
    }
   },
   "outputs": [
    {
     "name": "stdout",
     "output_type": "stream",
     "text": [
      "    c:\\source\\repos    \r\n",
      "        (this is where your code goes)\r\n"
     ]
    }
   ],
   "source": [
    "// @ - verbatim string literal\n",
    "// keep all whitespace and characters without \" \\ \"\n",
    "\n",
    "Console.WriteLine(@\"    c:\\source\\repos    \n",
    "        (this is where your code goes)\");\n",
    "\n"
   ]
  },
  {
   "cell_type": "code",
   "execution_count": 7,
   "metadata": {
    "dotnet_interactive": {
     "language": "csharp"
    },
    "polyglot_notebook": {
     "kernelName": "csharp"
    },
    "vscode": {
     "languageId": "polyglot-notebook"
    }
   },
   "outputs": [
    {
     "name": "stdout",
     "output_type": "stream",
     "text": [
      "Generating invoices for customer \"Contoso Corp\" ...\n",
      "\n",
      "Invoice: 1021\t\tComplete!\n",
      "Invoice: 1022\t\tComplete!\n",
      "\n",
      "Output Directory:\t\n",
      "c:\\invoices"
     ]
    }
   ],
   "source": [
    "Console.WriteLine(\"Generating invoices for customer \\\"Contoso Corp\\\" ...\\n\");\n",
    "Console.WriteLine(\"Invoice: 1021\\t\\tComplete!\");\n",
    "Console.WriteLine(\"Invoice: 1022\\t\\tComplete!\");\n",
    "Console.WriteLine(\"\\nOutput Directory:\\t\");\n",
    "Console.Write(@\"c:\\invoices\"); // @ allows use of \" \\ \" without issue"
   ]
  },
  {
   "cell_type": "markdown",
   "metadata": {},
   "source": [
    "#### **Unicode - `\\u`**"
   ]
  },
  {
   "cell_type": "code",
   "execution_count": null,
   "metadata": {
    "dotnet_interactive": {
     "language": "csharp"
    },
    "polyglot_notebook": {
     "kernelName": "csharp"
    },
    "vscode": {
     "languageId": "polyglot-notebook"
    }
   },
   "outputs": [
    {
     "name": "stdout",
     "output_type": "stream",
     "text": [
      "こんにちは World!\r\n"
     ]
    }
   ],
   "source": [
    "// \\u = unicode escape characters (UTF-16)\n",
    "// Kon'nichiwa World\n",
    "Console.WriteLine(\"\\u3053\\u3093\\u306B\\u3061\\u306F World!\");"
   ]
  },
  {
   "cell_type": "code",
   "execution_count": 9,
   "metadata": {
    "dotnet_interactive": {
     "language": "csharp"
    },
    "polyglot_notebook": {
     "kernelName": "csharp"
    },
    "vscode": {
     "languageId": "polyglot-notebook"
    }
   },
   "outputs": [
    {
     "name": "stdout",
     "output_type": "stream",
     "text": [
      "Generating invoices for customer \"Contoso Corp\" ...\n",
      "\n",
      "Invoice: 1021\t\tComplete!\n",
      "Invoice: 1022\t\tComplete!\n",
      "\n",
      "Output Directory:\t\n",
      "c:\\invoices\n",
      "\n",
      "日本の請求書を生成するには：\n",
      "\tc:\\invoices\\app.exe -j\n"
     ]
    }
   ],
   "source": [
    "Console.WriteLine(\"Generating invoices for customer \\\"Contoso Corp\\\" ...\\n\");\n",
    "Console.WriteLine(\"Invoice: 1021\\t\\tComplete!\");\n",
    "Console.WriteLine(\"Invoice: 1022\\t\\tComplete!\");\n",
    "Console.WriteLine(\"\\nOutput Directory:\\t\");\n",
    "Console.Write(@\"c:\\invoices\");\n",
    "\n",
    "// To generate Japanese invoices:\n",
    "// Nihon no seikyū-sho o seisei suru ni wa:\n",
    "Console.Write(\"\\n\\n\\u65e5\\u672c\\u306e\\u8acb\\u6c42\\u66f8\\u3092\\u751f\\u6210\\u3059\\u308b\\u306b\\u306f\\uff1a\\n\\t\");\n",
    "// User command to run an application\n",
    "Console.WriteLine(@\"c:\\invoices\\app.exe -j\");"
   ]
  },
  {
   "cell_type": "markdown",
   "metadata": {},
   "source": [
    "#### **String concatenation - `+`**"
   ]
  },
  {
   "cell_type": "markdown",
   "metadata": {},
   "source": [
    "* allows you to combine smaller literal and variable strings into a single string\n",
    "* avoid creating intermediate variables if it doesn't improve readability"
   ]
  },
  {
   "cell_type": "code",
   "execution_count": 10,
   "metadata": {
    "dotnet_interactive": {
     "language": "csharp"
    },
    "polyglot_notebook": {
     "kernelName": "csharp"
    },
    "vscode": {
     "languageId": "polyglot-notebook"
    }
   },
   "outputs": [
    {
     "name": "stdout",
     "output_type": "stream",
     "text": [
      "Hello Bob\r\n"
     ]
    }
   ],
   "source": [
    "string firstName = \"Bob\";\n",
    "string message = \"Hello \" + firstName;\n",
    "Console.WriteLine(message);"
   ]
  },
  {
   "cell_type": "code",
   "execution_count": 13,
   "metadata": {
    "dotnet_interactive": {
     "language": "csharp"
    },
    "polyglot_notebook": {
     "kernelName": "csharp"
    },
    "vscode": {
     "languageId": "polyglot-notebook"
    }
   },
   "outputs": [
    {
     "name": "stdout",
     "output_type": "stream",
     "text": [
      "Hello Bob!\r\n"
     ]
    }
   ],
   "source": [
    "string firstName = \"Bob\";\n",
    "string greeting = \"Hello\";\n",
    "string message = greeting + \" \" + firstName + \"!\"; // intermediate variable\n",
    "Console.WriteLine(message);"
   ]
  },
  {
   "cell_type": "code",
   "execution_count": 12,
   "metadata": {
    "dotnet_interactive": {
     "language": "csharp"
    },
    "polyglot_notebook": {
     "kernelName": "csharp"
    },
    "vscode": {
     "languageId": "polyglot-notebook"
    }
   },
   "outputs": [
    {
     "name": "stdout",
     "output_type": "stream",
     "text": [
      "Hello Bob!\r\n"
     ]
    }
   ],
   "source": [
    "// acoid intermediate variables\n",
    "string firstName = \"Bob\";\n",
    "string greeting = \"Hello\";\n",
    "Console.WriteLine(greeting + \" \" + firstName + \"!\");"
   ]
  },
  {
   "cell_type": "markdown",
   "metadata": {},
   "source": [
    "#### **String interpolation - `{variable}`**"
   ]
  },
  {
   "cell_type": "markdown",
   "metadata": {},
   "source": [
    "* string interpolation can be better than concatenation - can reduce number of characters required\n",
    "* combine interpolation (`{}`) and verbatim literals (`@`) in a string template\n",
    "    * eg: `$\"{variable}\"`"
   ]
  },
  {
   "cell_type": "code",
   "execution_count": 16,
   "metadata": {
    "dotnet_interactive": {
     "language": "csharp"
    },
    "polyglot_notebook": {
     "kernelName": "csharp"
    },
    "vscode": {
     "languageId": "polyglot-notebook"
    }
   },
   "outputs": [
    {
     "name": "stdout",
     "output_type": "stream",
     "text": [
      "Hello Bob -> concatination\n",
      "Hello Bob -> interpolation\n",
      "Hello Bob -> literal string + variable value\n",
      "Update to Windows 11-> using intermeidate variable\n",
      "Update to Windows 11 -> avoiding intermediate variable\n",
      "C:\\Output\\First-Project\\Data\n"
     ]
    }
   ],
   "source": [
    "// concatination\n",
    "string message = greeting + \" \" + firstName + \" -> concatination\";\n",
    "Console.WriteLine(message);\n",
    "\n",
    "// interpolation\n",
    "string message2 = $\"{greeting} {firstName} -> interpolation\";\n",
    "Console.WriteLine(message2);\n",
    "\n",
    "// combine literal string and variable value\n",
    "string message3 = $\"Hello {firstName} -> literal string + variable value\";\n",
    "Console.WriteLine(message3);\n",
    "\n",
    "// combo: interpolation, multi-variables, literal strings\n",
    "int version = 11;\n",
    "string updateText = \"Update to Windows\";\n",
    "string message4 = $\"{updateText} {version}\";\n",
    "Console.WriteLine(message4 + \"-> using intermeidate variable\");\n",
    "\n",
    "// avoid intermediate variable\n",
    "// don't implement message4\n",
    "Console.WriteLine($\"{updateText} {version} -> avoiding intermediate variable\");\n",
    "\n",
    "// combo: verbatim literal, string interpolation\n",
    "string projectName = \"First-Project\";\n",
    "Console.WriteLine($@\"C:\\Output\\{projectName}\\Data\");"
   ]
  },
  {
   "cell_type": "markdown",
   "metadata": {},
   "source": [
    "#### ⭐ **Challenge: Format and Display Instructions**"
   ]
  },
  {
   "cell_type": "markdown",
   "metadata": {},
   "source": [
    "**[CLICK FOR MSLEARN SOLUTION](https://learn.microsoft.com/en-us/training/modules/csharp-basic-formatting/6-solution)**\n",
    "\n",
    "![Alt-text](./Assets/image-challenge-format-and-display-instructions.png)"
   ]
  },
  {
   "cell_type": "code",
   "execution_count": 29,
   "metadata": {
    "dotnet_interactive": {
     "language": "csharp"
    },
    "polyglot_notebook": {
     "kernelName": "csharp"
    },
    "vscode": {
     "languageId": "polyglot-notebook"
    }
   },
   "outputs": [
    {
     "name": "stdout",
     "output_type": "stream",
     "text": [
      "View English Output:\n",
      "\tc:\\Exercise\\ACME\\data.txt\n",
      "\n",
      "Посмотреть русский вывод:\n",
      "\t c:\\Exercise\\ACME\\ru-RU\\data.txt\n"
     ]
    }
   ],
   "source": [
    "// Initialise variables\n",
    "// \\u unicode\n",
    "\n",
    "string projectName = \"ACME\";\n",
    "string russianMessage = \"\\u041f\\u043e\\u0441\\u043c\\u043e\\u0442\\u0440\\u0435\\u0442\\u044c \\u0440\\u0443\\u0441\\u0441\\u043a\\u0438\\u0439 \\u0432\\u044b\\u0432\\u043e\\u0434\";\n",
    "\n",
    "Console.WriteLine($\"View English Output:\\n\\tc:\\\\Exercise\\\\{projectName}\\\\data.txt\\n\");\n",
    "\n",
    "Console.WriteLine($\"{russianMessage}:\\n\\t c:\\\\Exercise\\\\{projectName}\\\\ru-RU\\\\data.txt\");"
   ]
  },
  {
   "cell_type": "code",
   "execution_count": 30,
   "metadata": {
    "dotnet_interactive": {
     "language": "csharp"
    },
    "polyglot_notebook": {
     "kernelName": "csharp"
    },
    "vscode": {
     "languageId": "polyglot-notebook"
    }
   },
   "outputs": [
    {
     "name": "stdout",
     "output_type": "stream",
     "text": [
      "View English output:\n",
      "\t\tc:\\Exercise\\ACME\\data.txt\n",
      "\n",
      "Посмотреть русский вывод:\n",
      "\t\tc:\\Exercise\\ACME\\ru-RU\\data.txt\n",
      "\n"
     ]
    }
   ],
   "source": [
    "// MS Learn solution\n",
    "\n",
    "string projectName = \"ACME\";\n",
    "string englishLocation = $@\"c:\\Exercise\\{projectName}\\data.txt\";\n",
    "Console.WriteLine($\"View English output:\\n\\t\\t{englishLocation}\\n\");\n",
    "\n",
    "string russianMessage = \"\\u041f\\u043e\\u0441\\u043c\\u043e\\u0442\\u0440\\u0435\\u0442\\u044c \\u0440\\u0443\\u0441\\u0441\\u043a\\u0438\\u0439 \\u0432\\u044b\\u0432\\u043e\\u0434\";\n",
    "string russianLocation = $@\"c:\\Exercise\\{projectName}\\ru-RU\\data.txt\";\n",
    "Console.WriteLine($\"{russianMessage}:\\n\\t\\t{russianLocation}\\n\");"
   ]
  },
  {
   "cell_type": "markdown",
   "metadata": {},
   "source": [
    "#### ❓ **Check Knowledge: escape sequences, string interpolation, unicode**"
   ]
  },
  {
   "cell_type": "markdown",
   "metadata": {},
   "source": [
    "\n",
    "1. Which of the following escape sequences should be used to add double quotes to a literal string in C# code?  \n",
    "    * ❌ `\\q`\n",
    "    * ❌ `\\`\n",
    "    * ✔️ `\\\"`\n",
    "\n",
    "    <br>\n",
    "\n",
    "2. Which of the following lines of code correctly uses string interpolation assuming that the variable value is a string? \n",
    "    * ❌ `Console.WriteLine(@\"My value: {value}\");`\n",
    "    * ✔️ `Console.WriteLine($\"My value: {value}\");`\n",
    "    * ❌ `Console.WriteLine(@\"My value: [value]\");`\n",
    "\n",
    "    <br>\n",
    "\n",
    "3. Unicode characters were embedded in the C# strings for a console application to present a greeting message in Thai. However, the message is only displayed as question mark characters. What is a possible cause? \n",
    "    * ❌ A missing \\u escape sequence for Unicode characters. --> only numbers will appear in this case\n",
    "    * ❌ The wrong Unicode characters were used.\n",
    "    * ✔️ The user's console doesn't support Unicode characters.\n",
    "\n",
    "    <br>\n",
    "\n",
    "4. Which of the following lines of code append a single \\ to the string directory? \n",
    "    * ❌ `directory = directory + \"\\\";`\n",
    "    * ❌ `directory = directory + '\\';`\n",
    "    * ✔️ `directory = directory + @\"\\\";`"
   ]
  },
  {
   "cell_type": "markdown",
   "metadata": {},
   "source": [
    "#### **SUMMARY:**"
   ]
  },
  {
   "cell_type": "markdown",
   "metadata": {},
   "source": [
    "* Your goal was to write code that formats strings with special characters, such as double quotes `\" \"`, new lines `\\n`, tabs `\\t`, and other white space, as well as unicode characters `\\u`. \n",
    "* You also combined strings using two different techniques. --> concatination `+` & interpolation `$\" word {variable}\"`\n",
    "* Using character escape sequences, you added special characters in your literal strings by either using special escaping sequences or using verbatim strings. `\\\\` `\\\"` `@\"\\path\\` \n",
    "* You added Unicode characters from other language sets like Japanese Kanji and Russian Cyrillic in your literal strings.  `\"\\u014f\"`\n",
    "* You used simple string concatenation with the `+` symbol, and upgraded to string interpolation for combining values into a string template. `$\" word {variable}\"`\n",
    "* Without the ability to format your output, you would be severely restricted in what kinds of information you could present to the user. \n",
    "* However, now you can provide your users with sophisticated instructions and feedback with a wide variety of formatting, symbols, and languages."
   ]
  },
  {
   "cell_type": "markdown",
   "metadata": {},
   "source": [
    "_________________________\n",
    "\n",
    "### [Perform basic operations on numbers in C#](https://learn.microsoft.com/en-us/training/modules/csharp-basic-operations/)\n",
    "\n",
    "_________________________"
   ]
  },
  {
   "cell_type": "markdown",
   "metadata": {},
   "source": [
    "Back to [Contents](#contents) • Next [Module](#guided-project---calculate-and-print-student-grades)"
   ]
  },
  {
   "cell_type": "markdown",
   "metadata": {},
   "source": [
    "####  ✔️ **Learning Objectives:**"
   ]
  },
  {
   "cell_type": "markdown",
   "metadata": {},
   "source": [
    "* Perform mathematical operations on numeric values\n",
    "* Observe implicit type conversion between strings and numeric values\n",
    "* Temporarily convert one data type into another"
   ]
  },
  {
   "cell_type": "markdown",
   "metadata": {},
   "source": [
    "#### **Mix data types to force implicit type conversions**"
   ]
  },
  {
   "cell_type": "markdown",
   "metadata": {},
   "source": [
    "* You can perform mathematical-like addition operations on numbers.\n",
    "* Both string concatenation and addition use the plus `+` symbol. \n",
    "    * This is called overloading an operator, and the compiler infers the proper use based on the data types it's operating on.\n",
    "* When it can, the C# compiler will implicitly convert an `int` into a `string` if it's obvious that the developer is trying to concatenate the string representation of a number for presentation purposes.\n",
    "* Use parentheses `( )` to define an order of operations to explicitly tell the compiler that you want to perform certain operations before other operations."
   ]
  },
  {
   "cell_type": "code",
   "execution_count": 9,
   "metadata": {
    "dotnet_interactive": {
     "language": "csharp"
    },
    "polyglot_notebook": {
     "kernelName": "csharp"
    },
    "vscode": {
     "languageId": "polyglot-notebook"
    }
   },
   "outputs": [
    {
     "name": "stdout",
     "output_type": "stream",
     "text": [
      "19\n",
      "Bob sold 7 widgets.\n",
      "Bob sold 72 widgets.\n",
      "Bob sold 9 widgets.\n",
      "Bob +  sold  + (7 + 2) +  widgets.\n",
      "Bob +  sold 9 widgets.\n"
     ]
    }
   ],
   "source": [
    "// add numeric values\n",
    "\n",
    "int firstNumber = 12;\n",
    "int secondNumber = 7;\n",
    "Console.WriteLine(firstNumber + secondNumber);\n",
    "\n",
    "// versus concatinate string\n",
    "\n",
    "string firstName = \"Bob\";\n",
    "int widgetsSold = 7;\n",
    "Console.WriteLine(firstName + \" sold \" + widgetsSold + \" widgets.\");\n",
    "\n",
    "int moreWidgets = 2;\n",
    "Console.WriteLine(firstName + \" sold \" + widgetsSold + moreWidgets + \" widgets.\");\n",
    "\n",
    "// sum of widgets using bracket\n",
    "Console.WriteLine(firstName + \" sold \" + (widgetsSold + moreWidgets) + \" widgets.\");\n",
    "\n",
    "// interpolation + calculation (avoid as it's confusing)\n",
    "Console.WriteLine($\"{firstName} +  sold  + ({widgetsSold} + {moreWidgets}) +  widgets.\");\n",
    "\n",
    "Console.WriteLine($\"{firstName} +  sold \" + (widgetsSold + moreWidgets) +  \" widgets.\")"
   ]
  },
  {
   "cell_type": "markdown",
   "metadata": {},
   "source": [
    "####  **Mathematical Operations - `+ - * / %`**"
   ]
  },
  {
   "cell_type": "markdown",
   "metadata": {},
   "source": [
    "* Use operators like `+, -, *, and /` to perform basic mathematical operations.\n",
    "* The division of two `int` values will result in the truncation of any values after the `decimal` point. \n",
    "    * To retain values after the `decimal` point, you need to: \n",
    "        * cast the divisor or dividend (or both) from `int` into a `floating` point number like `decimal` first, \n",
    "        * then the quotient must be of the same floating point type as well in order to avoid truncation.\n",
    "* Perform a cast operation to temporarily treat a value as if it were a different data type.\n",
    "* Use the `%` operator to capture the remainder after division.\n",
    "* The order of operations will follow the rules of the acronym PEMDAS."
   ]
  },
  {
   "cell_type": "markdown",
   "metadata": {},
   "source": [
    "####  **Divide decimal data `/`**"
   ]
  },
  {
   "cell_type": "code",
   "execution_count": 10,
   "metadata": {
    "dotnet_interactive": {
     "language": "csharp"
    },
    "polyglot_notebook": {
     "kernelName": "csharp"
    },
    "vscode": {
     "languageId": "polyglot-notebook"
    }
   },
   "outputs": [
    {
     "name": "stdout",
     "output_type": "stream",
     "text": [
      "Sum: 12\n",
      "Difference: 2\n",
      "Product: 35\n",
      "Quotient: 1\n",
      "Decimal quotient: 1.4\n"
     ]
    }
   ],
   "source": [
    "int sum = 7 + 5;\n",
    "int difference = 7 - 5;\n",
    "int product = 7 * 5;\n",
    "int quotient = 7 / 5;\n",
    "\n",
    "Console.WriteLine(\"Sum: \" + sum);\n",
    "Console.WriteLine(\"Difference: \" + difference);\n",
    "Console.WriteLine(\"Product: \" + product);\n",
    "Console.WriteLine(\"Quotient: \" + quotient); // decimals truncated to int\n",
    "\n",
    "decimal decimalQuotient = 7.0m / 5; // At least 1 item, left at least must be decimal\n",
    "Console.WriteLine($\"Decimal quotient: {decimalQuotient}\");"
   ]
  },
  {
   "cell_type": "code",
   "execution_count": 16,
   "metadata": {
    "dotnet_interactive": {
     "language": "csharp"
    },
    "polyglot_notebook": {
     "kernelName": "csharp"
    },
    "vscode": {
     "languageId": "polyglot-notebook"
    }
   },
   "outputs": [
    {
     "name": "stdout",
     "output_type": "stream",
     "text": [
      "Decimal quotient: 1.75\n",
      "Decimal quotient: 1.6\n"
     ]
    }
   ],
   "source": [
    "decimalQuotient = 7 / 4.0m;\n",
    "Console.WriteLine($\"Decimal quotient: {decimalQuotient}\");\n",
    "\n",
    "decimalQuotient = 8.0m / 5.0m;\n",
    "Console.WriteLine($\"Decimal quotient: {decimalQuotient}\");"
   ]
  },
  {
   "cell_type": "code",
   "execution_count": 18,
   "metadata": {
    "dotnet_interactive": {
     "language": "csharp"
    },
    "polyglot_notebook": {
     "kernelName": "csharp"
    },
    "vscode": {
     "languageId": "polyglot-notebook"
    }
   },
   "outputs": [
    {
     "ename": "Error",
     "evalue": "(4,5): error CS0102: The type 'Submission#19' already contains a definition for 'decimalQuotient'\r\n(5,5): error CS0102: The type 'Submission#19' already contains a definition for 'decimalQuotient'\r\n(6,9): error CS0102: The type 'Submission#19' already contains a definition for 'decimalQuotient'\r\n(3,23): error CS0266: Cannot implicitly convert type 'decimal' to 'int'. An explicit conversion exists (are you missing a cast?)\r\n(4,23): error CS0266: Cannot implicitly convert type 'decimal' to 'int'. An explicit conversion exists (are you missing a cast?)\r\n(5,23): error CS0266: Cannot implicitly convert type 'decimal' to 'int'. An explicit conversion exists (are you missing a cast?)",
     "output_type": "error",
     "traceback": [
      "(4,5): error CS0102: The type 'Submission#19' already contains a definition for 'decimalQuotient'\r\n",
      "(5,5): error CS0102: The type 'Submission#19' already contains a definition for 'decimalQuotient'\r\n",
      "(6,9): error CS0102: The type 'Submission#19' already contains a definition for 'decimalQuotient'\r\n",
      "(3,23): error CS0266: Cannot implicitly convert type 'decimal' to 'int'. An explicit conversion exists (are you missing a cast?)\r\n",
      "(4,23): error CS0266: Cannot implicitly convert type 'decimal' to 'int'. An explicit conversion exists (are you missing a cast?)\r\n",
      "(5,23): error CS0266: Cannot implicitly convert type 'decimal' to 'int'. An explicit conversion exists (are you missing a cast?)"
     ]
    }
   ],
   "source": [
    "// these won't work:\n",
    "\n",
    "int decimalQuotient = 7 / 5.0m;\n",
    "int decimalQuotient = 7.0m / 5;\n",
    "int decimalQuotient = 7.0m / 5.0m;\n",
    "decimal decimalQuotient = 7 / 5;"
   ]
  },
  {
   "cell_type": "markdown",
   "metadata": {},
   "source": [
    "####  **Divide `int` numbers without truncating result - CASTING**"
   ]
  },
  {
   "cell_type": "code",
   "execution_count": 19,
   "metadata": {
    "dotnet_interactive": {
     "language": "csharp"
    },
    "polyglot_notebook": {
     "kernelName": "csharp"
    },
    "vscode": {
     "languageId": "polyglot-notebook"
    }
   },
   "outputs": [
    {
     "name": "stdout",
     "output_type": "stream",
     "text": [
      "1.4\r\n"
     ]
    }
   ],
   "source": [
    "int first = 7;\n",
    "int second = 5;\n",
    "decimal quotient = (decimal)first / (decimal)second; // cast int to decimal\n",
    "Console.WriteLine(quotient);"
   ]
  },
  {
   "cell_type": "markdown",
   "metadata": {},
   "source": [
    "####  **Divide `int` numbers and determine the remainder -`%` - MODULUS**"
   ]
  },
  {
   "cell_type": "markdown",
   "metadata": {},
   "source": [
    "* The modulus operator `%` tells you the remainder of `int` division. \n",
    "* What you really learn from this is: ***whether one number is divisible by another***. \n",
    "\n",
    "    * This can be useful during long processing operations when: \n",
    "        * looping through hundreds or thousands of data records and you want to: \n",
    "            * provide feedback to the end user **after every 100 data records** have been processed."
   ]
  },
  {
   "cell_type": "code",
   "execution_count": 21,
   "metadata": {
    "dotnet_interactive": {
     "language": "csharp"
    },
    "polyglot_notebook": {
     "kernelName": "csharp"
    },
    "vscode": {
     "languageId": "polyglot-notebook"
    }
   },
   "outputs": [
    {
     "name": "stdout",
     "output_type": "stream",
     "text": [
      "Modulus of 200 / 5 : 0\n",
      "Modulus of 7 / 5 : 2\n"
     ]
    }
   ],
   "source": [
    "// remainder\n",
    "// when the modulus = 0, that means the dividend is divisiable by the divisor\n",
    "\n",
    "Console.WriteLine($\"Modulus of 200 / 5 : {200 % 5}\");\n",
    "Console.WriteLine($\"Modulus of 7 / 5 : {7 % 5}\");"
   ]
  },
  {
   "cell_type": "markdown",
   "metadata": {},
   "source": [
    "####  **Order of Operations** - PEMDAS / BIMDAS"
   ]
  },
  {
   "cell_type": "markdown",
   "metadata": {},
   "source": [
    "* PEMDAS\n",
    "    * Parentheses (whatever is inside the parenthesis is performed first)\n",
    "    * Exponents\n",
    "    * Multiplication and Division (from left to right)\n",
    "    * Addition and Subtraction (from left to right)"
   ]
  },
  {
   "cell_type": "code",
   "execution_count": 22,
   "metadata": {
    "dotnet_interactive": {
     "language": "csharp"
    },
    "polyglot_notebook": {
     "kernelName": "csharp"
    },
    "vscode": {
     "languageId": "polyglot-notebook"
    }
   },
   "outputs": [
    {
     "name": "stdout",
     "output_type": "stream",
     "text": [
      "23\n",
      "35\n"
     ]
    }
   ],
   "source": [
    "int value1 = 3 + 4 * 5;\n",
    "Console.WriteLine(value1); // (4*5) + 3\n",
    "\n",
    "int value2 = (3 + 4) * 5;\n",
    "Console.WriteLine(value2); // 35"
   ]
  },
  {
   "cell_type": "markdown",
   "metadata": {},
   "source": [
    "####  **Increment and Decrement Values  `+=, -=, *=, ++, --`**"
   ]
  },
  {
   "cell_type": "markdown",
   "metadata": {},
   "source": [
    "* Operators like `+=, -=, *=, ++, and -- `are known as compound assignment operators because \n",
    "    * they compound some operation in addition to assigning the result to the variable. \n",
    "* The `+=` operator is specifically termed the addition assignment operator.\n",
    "* Use the operator before the value as in `++value`, then the increment will happen before the value is retrieved. \n",
    "* Likewise, `value++` will increment the value after the value has been retrieved."
   ]
  },
  {
   "cell_type": "code",
   "execution_count": 24,
   "metadata": {
    "dotnet_interactive": {
     "language": "csharp"
    },
    "polyglot_notebook": {
     "kernelName": "csharp"
    },
    "vscode": {
     "languageId": "polyglot-notebook"
    }
   },
   "outputs": [
    {
     "name": "stdout",
     "output_type": "stream",
     "text": [
      "value = 10\n",
      "First: 2\n",
      "Second: 2\n",
      "Third: 3\n",
      "Fourth: 4\n",
      "Fifth: 5\n"
     ]
    }
   ],
   "source": [
    "int value = 0;     // value is now 0.\n",
    "\n",
    "// all the same (add 5)\n",
    "value = value + 5; // value is now 5.\n",
    "value += 5;        // value is now 10.\n",
    "\n",
    "\n",
    "// all the same (add one)\n",
    "value = value + 1; // value is now 11.\n",
    "value += 1;           // value is now 12.\n",
    "value++;           // value is now 13.\n",
    "\n",
    "// all the same (minus one)\n",
    "value = value - 1; // value is now 12.\n",
    "value -= 1;           // value is now 11.\n",
    "value--;           // value is now 10.\n",
    "\n",
    "Console.WriteLine(\"value = \"+ value);\n",
    "\n",
    "// before and after value\n",
    "int value2 = 1;\n",
    "value2++; // 1 + 1 = 2\n",
    "\n",
    "Console.WriteLine(\"First: \" + value2); // 2\n",
    "Console.WriteLine($\"Second: {value2++}\"); // 2 + 1 = 3\n",
    "Console.WriteLine(\"Third: \" + value2); // 3\n",
    "Console.WriteLine(\"Fourth: \" + (++value2)); // (1 + 3) = 4\n",
    "Console.WriteLine(\"Fifth: \" + (++value2)); // (1 + 4) = 5"
   ]
  },
  {
   "cell_type": "markdown",
   "metadata": {},
   "source": [
    "#### ⭐ **Challenge: convert Fahrenheit to Celsius**"
   ]
  },
  {
   "cell_type": "markdown",
   "metadata": {},
   "source": [
    "**[CLICK FOR MSLEARN SOLUTION](https://learn.microsoft.com/en-us/training/modules/csharp-basic-operations/6-solution)**\n",
    "\n",
    "![Alt-text](./Assets/image-challenge-farenheit-to-celsius.png)"
   ]
  },
  {
   "cell_type": "code",
   "execution_count": 31,
   "metadata": {
    "dotnet_interactive": {
     "language": "csharp"
    },
    "polyglot_notebook": {
     "kernelName": "csharp"
    },
    "vscode": {
     "languageId": "polyglot-notebook"
    }
   },
   "outputs": [
    {
     "name": "stdout",
     "output_type": "stream",
     "text": [
      "The temp is 0 Celsius.\r\n"
     ]
    }
   ],
   "source": [
    "int fahrenheit = 94;\n",
    "\n",
    "// convert to c\n",
    "decimal celsius = (fahrenheit - 32) * (5 / 9); // converted 32 to decimal\n",
    "Console.WriteLine(\"The temp is \" + celsius + \" Celsius.\");"
   ]
  },
  {
   "cell_type": "code",
   "execution_count": 32,
   "metadata": {
    "dotnet_interactive": {
     "language": "csharp"
    },
    "polyglot_notebook": {
     "kernelName": "csharp"
    },
    "vscode": {
     "languageId": "polyglot-notebook"
    }
   },
   "outputs": [
    {
     "name": "stdout",
     "output_type": "stream",
     "text": [
      "The temp is 0 Celsius.\r\n"
     ]
    }
   ],
   "source": [
    "// add m for division\n",
    "decimal celsius = (fahrenheit - 32m) * (5 / 9); // converted 32 to decimal\n",
    "Console.WriteLine(\"The temp is \" + celsius + \" Celsius.\");"
   ]
  },
  {
   "cell_type": "code",
   "execution_count": 34,
   "metadata": {
    "dotnet_interactive": {
     "language": "csharp"
    },
    "polyglot_notebook": {
     "kernelName": "csharp"
    },
    "vscode": {
     "languageId": "polyglot-notebook"
    }
   },
   "outputs": [
    {
     "name": "stdout",
     "output_type": "stream",
     "text": [
      "The temp is 34.444444444444444444444444447 Celsius.\r\n"
     ]
    }
   ],
   "source": [
    "// add another m for division\n",
    "decimal celsius = (fahrenheit - 32m) * (5m / 9); // converted 32 to decimal\n",
    "Console.WriteLine(\"The temp is \" + celsius + \" Celsius.\");"
   ]
  },
  {
   "cell_type": "markdown",
   "metadata": {},
   "source": [
    "#### ❓ **Check Knowledge: mixed data types, order of operations, assignment operator**"
   ]
  },
  {
   "cell_type": "markdown",
   "metadata": {},
   "source": [
    "\n",
    "1. Which of the following lines of code will fail to output the text Windows 11? \n",
    "    * ✔️ Console.WriteLine(\"Windows \" + 7 + 4);\n",
    "    * ❌ Console.WriteLine(\"Windows \" + 11);\n",
    "    * ❌ Console.Write(\"Windows \" + 1 + 1);\n",
    "\n",
    "    <br>\n",
    "\n",
    "2.  What is the value of the following result? int result = 3 + 1 * 5 / 2; \n",
    "    * ❌ 10\n",
    "    * ✔️ 5 --> ((1*5) / 2) + 3 = 5.5 = trunc 5\n",
    "        * 5/2 = 2int + 1 as remainder\n",
    "    * ❌ 6\n",
    "\n",
    "    <br>\n",
    "\n",
    "3. What will be the result of the following line of code? Console.WriteLine(5 / 10); \n",
    "    * ❌ 0.5\n",
    "    * ✔️ 0 --> trunc 0.5 to 0\n",
    "    * ❌ 1\n",
    "\n",
    "    <br>\n",
    "\n",
    "4. Which of the following lines of code uses the addition assignment operator? \n",
    "    * ✔️ value += 5; --> reassigns\n",
    "    * ❌ value++; --> increment only\n",
    "    * ❌ value = value + 5;"
   ]
  },
  {
   "cell_type": "markdown",
   "metadata": {},
   "source": [
    "#### **SUMMARY:**"
   ]
  },
  {
   "cell_type": "markdown",
   "metadata": {},
   "source": [
    "* Your goal was to perform basic operations on string and numeric data. \n",
    "* As a coding challenge, you converted a value from one unit of measure (Fahrenheit) to another (Celsius) and displayed the result in a formatted message.\n",
    "* You used various operators to perform basic string and mathematical operations. \n",
    "* You learned how some symbols are reused (overloaded) as different operators, depending on the context. \n",
    "* You learned how the data types of the operands influence the meaning of the operators. \n",
    "* Finally, you learned how to change the data type of a value using the cast operator."
   ]
  },
  {
   "cell_type": "markdown",
   "metadata": {},
   "source": [
    "Back to [Contents](#contents) • Top of [Unit](#per)"
   ]
  },
  {
   "cell_type": "markdown",
   "metadata": {},
   "source": [
    "_________________________\n",
    "\n",
    "### [Guided project - Calculate and print student grades](https://learn.microsoft.com/en-gb/training/modules/guided-project-calculate-print-student-grades/)\n",
    "\n",
    "_________________________"
   ]
  },
  {
   "cell_type": "markdown",
   "metadata": {},
   "source": [
    "Back to [Contents](#contents) • Next [Module](#guided-project---calculate-final-gpa)"
   ]
  },
  {
   "cell_type": "markdown",
   "metadata": {},
   "source": []
  },
  {
   "cell_type": "markdown",
   "metadata": {},
   "source": [
    "_________________________\n",
    "\n",
    "### [Guided project - Calculate final GPA](https://learn.microsoft.com/en-gb/training/modules/guided-project-calculate-final-gpa/)\n",
    "\n",
    "_________________________"
   ]
  },
  {
   "cell_type": "markdown",
   "metadata": {},
   "source": [
    "Back to [Contents](#contents) • Top of [Unit](#write-your-first-code-using-c-get-started-with-c-part-1)"
   ]
  },
  {
   "cell_type": "markdown",
   "metadata": {},
   "source": []
  },
  {
   "cell_type": "markdown",
   "metadata": {},
   "source": []
  },
  {
   "cell_type": "markdown",
   "metadata": {},
   "source": [
    "_________________________\n",
    "\n",
    "## ***[Create and run simple C# console applications <br> (Get started with C#, Part 2)](https://learn.microsoft.com/en-us/training/paths/get-started-c-sharp-part-2/)***\n",
    "\n",
    "_________________________"
   ]
  },
  {
   "cell_type": "markdown",
   "metadata": {},
   "source": [
    "Back to [Contents](#contents)"
   ]
  },
  {
   "cell_type": "markdown",
   "metadata": {},
   "source": []
  },
  {
   "cell_type": "markdown",
   "metadata": {},
   "source": [
    "_________________________\n",
    "\n",
    "## ***[Add logic to C# console applications <br> (Get started with C#, Part 3)](https://learn.microsoft.com/en-us/training/paths/get-started-c-sharp-part-3/)***\n",
    "\n",
    "_________________________"
   ]
  },
  {
   "cell_type": "markdown",
   "metadata": {},
   "source": [
    "_________________________\n",
    "\n",
    "### 🚀 [Guided project - Develop conditional branching and looping structures in C#](https://learn.microsoft.com/en-gb/training/modules/guided-project-develop-conditional-branching-looping/)\n",
    "\n",
    "_________________________"
   ]
  },
  {
   "cell_type": "markdown",
   "metadata": {},
   "source": [
    "👀 Guided Project: [My Repo](./GuidedProjectBranchingLooping/)"
   ]
  },
  {
   "cell_type": "markdown",
   "metadata": {},
   "source": [
    "####  ✔️ **Learning Objectives:**"
   ]
  },
  {
   "cell_type": "markdown",
   "metadata": {},
   "source": [
    "\n",
    "Gain experience developing a console app that implements selection and iteration statements to achieve app specifications.\n",
    "\n",
    "* Use Visual Studio Code to develop a C# console application that uses a combination of: \n",
    "    * selection and iteration statements to: \n",
    "        * implement logical workflows in accordance with: \n",
    "            * supplied application data and user interactions.\n",
    "* Evaluate the underlying conditions and make an informed decision when choosing: \n",
    "    * between `if-elseif-else` and `switch` statements, and \n",
    "    * between `foreach`, `for`, `while`, and `do` iteration statements.\n",
    "* Scope variables at an appropriate level within an application."
   ]
  },
  {
   "cell_type": "markdown",
   "metadata": {},
   "source": [
    "#### **Introduction to Project:**"
   ]
  },
  {
   "cell_type": "markdown",
   "metadata": {},
   "source": [
    "![Alt text](\\Assets\\image-3.png)"
   ]
  },
  {
   "cell_type": "markdown",
   "metadata": {},
   "source": [
    "#### **Prepare**"
   ]
  },
  {
   "cell_type": "markdown",
   "metadata": {},
   "source": [
    "* Use VSC to develop application\n",
    "* Use Boolean expressions, selection statements, iteration statements to implement features from design spec"
   ]
  },
  {
   "cell_type": "markdown",
   "metadata": {},
   "source": [
    "##### Project Overview:"
   ]
  },
  {
   "cell_type": "markdown",
   "metadata": {},
   "source": [
    "![Alt text](\\Assets\\image-4.png)\n",
    "\n",
    "![Alt text](\\Assets\\image.png)\n"
   ]
  },
  {
   "cell_type": "markdown",
   "metadata": {},
   "source": [
    "##### Setup:"
   ]
  },
  {
   "cell_type": "markdown",
   "metadata": {},
   "source": [
    "![Alt text](\\Assets\\image-1.png)"
   ]
  },
  {
   "cell_type": "markdown",
   "metadata": {},
   "source": [
    "#### 🚀 **[Exercise - Build sample data and menu selection loops](https://learn.microsoft.com/en-gb/training/modules/guided-project-develop-conditional-branching-looping/3-exercise-build-data-menu-loops)**"
   ]
  },
  {
   "cell_type": "markdown",
   "metadata": {},
   "source": [
    "![Alt text](\\Assets\\image-5.png)"
   ]
  },
  {
   "cell_type": "markdown",
   "metadata": {},
   "source": [
    "##### ***1. Code Review: Review the contents of the [Program.cs](..\\GuidedProjectBranchingLooping\\Starter\\Program.cs) file in the [GuidedProjectBranchingLooping](..\\GuidedProjectBranchingLooping) directory***"
   ]
  },
  {
   "cell_type": "markdown",
   "metadata": {},
   "source": [
    "* The `Program.cs` file contains a preliminary version of the application that you update during this module. \n",
    "* The existing code generates sample data for the application and displays a list of menu options. \n",
    "* The menu options represent the main features of your application."
   ]
  },
  {
   "cell_type": "markdown",
   "metadata": {},
   "source": [
    "4. Notice that the top portion of your code begins with some variable declarations.\n",
    "\n",
    "    * At the top of the file, you see a comment line and a list of variables. \n",
    "    * These variables, `animalSpecies` through `animalNickname`, are used to hold the values of the pet characteristics. \n",
    "    * Later in the code you assign the characteristic values to a multidimensional string array named ourAnimals. \n",
    "    * Each of these variables is initialized to contain a zero length string `\"\"`. The ourAnimals array is declared a little further down in the code.\n",
    "    * The next group of variables is a mix of string and int variables that you'll use to generate sample data, read user input, and establish exit criteria for your main program loop. \n",
    "    * You may have noticed the code line `string?` `readResult;.\n",
    "    * When used in a variable declaration like this, the `?` character defines a nullable type variable. \n",
    "    * When reading user entered values with the `Console.ReadLine()` method, it's best to use a nullable type.\n",
    "    * The final variable is a two-dimensional string array named ourAnimals. \n",
    "    * Since you're instantiating the array without initializing any values, you use the new operator (the new operator is used to create a new instance of a type). \n",
    "    * The number of rows is defined by maxPets, which has been initialized to eight. \n",
    "    * The number of characteristics that you're storing is six, the string variables that you examined above."
   ]
  },
  {
   "cell_type": "code",
   "execution_count": 71,
   "metadata": {
    "dotnet_interactive": {
     "language": "csharp"
    },
    "polyglot_notebook": {
     "kernelName": "csharp"
    },
    "vscode": {
     "languageId": "polyglot-notebook"
    }
   },
   "outputs": [],
   "source": [
    "// the ourAnimals array will store the following: \n",
    "string animalSpecies = \"\";\n",
    "string animalID = \"\";\n",
    "string animalAge = \"\";\n",
    "string animalPhysicalDescription = \"\";\n",
    "string animalPersonalityDescription = \"\";\n",
    "string animalNickname = \"\";\n",
    "\n",
    "// variables that support data entry\n",
    "int maxPets = 8; // generates sample data\n",
    "string? readResult; // null type variable (used for Console.ReadLine())\n",
    "string menuSelection = \"\"; // exit critera for main program loop\n",
    "\n",
    "// array used to store runtime data, there is no persisted data\n",
    "// instantiate object class instance\n",
    "string[,] ourAnimals = new string[maxPets, 6]; // new used instead of initialising variable values\n",
    "    // creates a 2D array\n",
    "    // rows = maxPets = 8\n",
    "    // columns = characteristics = 6\n",
    "\n",
    "    // result will look like this:\n",
    "    // ourAnimals[[],[],[]]"
   ]
  },
  {
   "cell_type": "markdown",
   "metadata": {},
   "source": [
    "5. Scroll down to examine the for loop that contains an `if-elseif-else` selection construct.\n",
    "\n",
    "6. Notice that the for loop uses the `maxPets` variable to establish an upper bound on the number of iterations.\n",
    "\n",
    "7. Notice that the `if-elseif-else` construct selectively branches your code based on pet characteristics.\n",
    "    <br>\n",
    "\n",
    "    The `if-elseif-else` construct is used to define different values for the first four iterations of the for loop. After the fourth iteration, all characteristics are assigned an empty, or zero-length, string.\n",
    "    <br>\n",
    "\n",
    "    The values of the animal characteristic variables are assigned to the ourAnimals array at the bottom of the for loop."
   ]
  },
  {
   "cell_type": "code",
   "execution_count": 72,
   "metadata": {
    "dotnet_interactive": {
     "language": "csharp"
    },
    "polyglot_notebook": {
     "kernelName": "csharp"
    },
    "vscode": {
     "languageId": "polyglot-notebook"
    }
   },
   "outputs": [],
   "source": [
    "// TODO: Convert the if-elseif-else construct to a switch statement\n",
    "\n",
    "// create some initial ourAnimals array entries\n",
    "for (int i = 0; i < maxPets; i++) // maxPets used as upper bounds for number of iterations\n",
    "{\n",
    "    // if-elseif-else selectively branches code based on pet characteristics (eg: age, nickname etc)\n",
    "\n",
    "    if (i == 0)\n",
    "    {\n",
    "        animalSpecies = \"dog\";\n",
    "        animalID = \"d1\";\n",
    "        animalAge = \"2\";\n",
    "        animalPhysicalDescription = \"medium sized cream colored female golden retriever weighing about 65 pounds. housebroken.\";\n",
    "        animalPersonalityDescription = \"loves to have her belly rubbed and likes to chase her tail. gives lots of kisses.\";\n",
    "        animalNickname = \"lola\";\n",
    "    }\n",
    "    else if (i == 1)\n",
    "    {\n",
    "        animalSpecies = \"dog\";\n",
    "        animalID = \"d2\";\n",
    "        animalAge = \"9\";\n",
    "        animalPhysicalDescription = \"large reddish-brown male golden retriever weighing about 85 pounds. housebroken.\";\n",
    "        animalPersonalityDescription = \"loves to have his ears rubbed when he greets you at the door, or at any time! loves to lean-in and give doggy hugs.\";\n",
    "        animalNickname = \"loki\";\n",
    "    }\n",
    "    else if (i == 2)\n",
    "    {\n",
    "        animalSpecies = \"cat\";\n",
    "        animalID = \"c3\";\n",
    "        animalAge = \"1\";\n",
    "        animalPhysicalDescription = \"small white female weighing about 8 pounds. litter box trained.\";\n",
    "        animalPersonalityDescription = \"friendly\";\n",
    "        animalNickname = \"Puss\";\n",
    "    }\n",
    "    else if (i == 3)\n",
    "    {\n",
    "        animalSpecies = \"cat\";\n",
    "        animalID = \"c4\";\n",
    "        animalAge = \"?\";\n",
    "        animalPhysicalDescription = \"\";\n",
    "        animalPersonalityDescription = \"\";\n",
    "        animalNickname = \"\";\n",
    "    }\n",
    "    else\n",
    "    {\n",
    "        animalSpecies = \"\";\n",
    "        animalID = \"\";\n",
    "        animalAge = \"\";\n",
    "        animalPhysicalDescription = \"\";\n",
    "        animalPersonalityDescription = \"\";\n",
    "        animalNickname = \"\";\n",
    "    }\n",
    "\n",
    "    // populates element in array\n",
    "    ourAnimals[i, 0] = \"ID #: \" + animalID;\n",
    "    ourAnimals[i, 1] = \"Species: \" + animalSpecies;\n",
    "    ourAnimals[i, 2] = \"Age: \" + animalAge;\n",
    "    ourAnimals[i, 3] = \"Nickname: \" + animalNickname;\n",
    "    ourAnimals[i, 4] = \"Physical description: \" + animalPhysicalDescription;\n",
    "    ourAnimals[i, 5] = \"Personality: \" + animalPersonalityDescription;\n",
    "}"
   ]
  },
  {
   "cell_type": "markdown",
   "metadata": {},
   "source": [
    "8. Scroll to the bottom of the code file, and then examine the code that's used to display the menu options and read the user selection.\n",
    "\n",
    "9. Notice that you assign the value returned by the `Console.ReadLine()` method to the nullable string readResult.\n",
    "    <br>\n",
    "\n",
    "    * Using a nullable string is best practice for capturing input from the `ReadLine()` method. \n",
    "    * Once you verify that the input value isn't `null`, you assign the value to a standard string variable named `menuSelection`. \n",
    "    * This process enables you to evaluate the menu selection value without a concern for `null` values. \n",
    "    * Many of the methods that accept strings as an input parameter will generate an error if they're passed a null value. \n",
    "    * If you don't follow this input pattern, the code compiler is likely to generate a warning when you build your project.\n",
    "    <br>\n",
    "\n",
    "    The final lines of the `Program.cs` file echo the menu option selection and then pause execution until the `Enter` key is pressed."
   ]
  },
  {
   "cell_type": "code",
   "execution_count": null,
   "metadata": {
    "dotnet_interactive": {
     "language": "csharp"
    },
    "polyglot_notebook": {
     "kernelName": "csharp"
    },
    "vscode": {
     "languageId": "polyglot-notebook"
    }
   },
   "outputs": [],
   "source": [
    "// display the top-level menu options\n",
    "\n",
    "Console.Clear();\n",
    "\n",
    "Console.WriteLine(\"Welcome to the Contoso PetFriends app. Your main menu options are:\");\n",
    "Console.WriteLine(\" 1. List all of our current pet information\");\n",
    "Console.WriteLine(\" 2. Add a new animal friend to the ourAnimals array\");\n",
    "Console.WriteLine(\" 3. Ensure animal ages and physical descriptions are complete\");\n",
    "Console.WriteLine(\" 4. Ensure animal nicknames and personality descriptions are complete\");\n",
    "Console.WriteLine(\" 5. Edit an animal’s age\");\n",
    "Console.WriteLine(\" 6. Edit an animal’s personality description\");\n",
    "Console.WriteLine(\" 7. Display all cats with a specified characteristic\");\n",
    "Console.WriteLine(\" 8. Display all dogs with a specified characteristic\");\n",
    "Console.WriteLine();\n",
    "Console.WriteLine(\"Enter your selection number (or type Exit to exit the program)\");\n",
    "\n",
    "readResult = Console.ReadLine();\n",
    "if (readResult != null)\n",
    "{\n",
    "    menuSelection = readResult.ToLower();\n",
    "}\n",
    "\n",
    "Console.WriteLine($\"You selected menu option {menuSelection}.\");\n",
    "Console.WriteLine(\"Press the Enter key to continue\");\n",
    "\n",
    "// pause code execution\n",
    "readResult = Console.ReadLine();"
   ]
  },
  {
   "cell_type": "markdown",
   "metadata": {},
   "source": [
    "##### ***2. Sample Data: Convert if statement to switch statement***"
   ]
  },
  {
   "cell_type": "code",
   "execution_count": 73,
   "metadata": {
    "dotnet_interactive": {
     "language": "csharp"
    },
    "polyglot_notebook": {
     "kernelName": "csharp"
    },
    "vscode": {
     "languageId": "polyglot-notebook"
    }
   },
   "outputs": [
    {
     "ename": "Error",
     "evalue": "(3,9): error CS0103: The name 'i' does not exist in the current context",
     "output_type": "error",
     "traceback": [
      "(3,9): error CS0103: The name 'i' does not exist in the current context"
     ]
    }
   ],
   "source": [
    "// replace this with a switch statement:\n",
    "\n",
    "    if (i == 0)\n",
    "    {\n",
    "        animalSpecies = \"dog\";\n",
    "        animalID = \"d1\";\n",
    "        animalAge = \"2\";\n",
    "        animalPhysicalDescription = \"medium sized cream colored female golden retriever weighing about 65 pounds. housebroken.\";\n",
    "        animalPersonalityDescription = \"loves to have her belly rubbed and likes to chase her tail. gives lots of kisses.\";\n",
    "        animalNickname = \"lola\";\n",
    "    }"
   ]
  },
  {
   "cell_type": "code",
   "execution_count": null,
   "metadata": {
    "dotnet_interactive": {
     "language": "csharp"
    },
    "polyglot_notebook": {
     "kernelName": "csharp"
    },
    "vscode": {
     "languageId": "polyglot-notebook"
    }
   },
   "outputs": [],
   "source": [
    "    switch (i)\n",
    "    {\n",
    "        case 0:\n",
    "            animalSpecies = \"dog\";\n",
    "            animalID = \"d1\";\n",
    "            animalAge = \"2\";\n",
    "            animalPhysicalDescription = \"medium sized cream colored female golden retriever weighing about 65 pounds. housebroken.\";\n",
    "            animalPersonalityDescription = \"loves to have her belly rubbed and likes to chase her tail. gives lots of kisses.\";\n",
    "            animalNickname = \"lola\";\n",
    "            break;\n",
    "    }"
   ]
  },
  {
   "cell_type": "markdown",
   "metadata": {},
   "source": [
    "| IF-ELSE | SWITCH |\n",
    "|-|-|\n",
    "| `if (i ==0)` | `case 0:` |"
   ]
  },
  {
   "cell_type": "code",
   "execution_count": 74,
   "metadata": {
    "dotnet_interactive": {
     "language": "csharp"
    },
    "polyglot_notebook": {
     "kernelName": "csharp"
    },
    "vscode": {
     "languageId": "polyglot-notebook"
    }
   },
   "outputs": [],
   "source": [
    "// change these if statements to switches\n",
    "\n",
    "for (int i = 0; i < maxPets; i++)\n",
    "{\n",
    "    if (i == 0)\n",
    "    {\n",
    "        animalSpecies = \"dog\";\n",
    "        animalID = \"d1\";\n",
    "        animalAge = \"2\";\n",
    "        animalPhysicalDescription = \"medium sized cream colored female golden retriever weighing about 65 pounds. housebroken.\";\n",
    "        animalPersonalityDescription = \"loves to have her belly rubbed and likes to chase her tail. gives lots of kisses.\";\n",
    "        animalNickname = \"lola\";\n",
    "    }\n",
    "        else if (i == 1)\n",
    "    {\n",
    "        animalSpecies = \"dog\";\n",
    "        animalID = \"d2\";\n",
    "        animalAge = \"9\";\n",
    "        animalPhysicalDescription = \"large reddish-brown male golden retriever weighing about 85 pounds. housebroken.\";\n",
    "        animalPersonalityDescription = \"loves to have his ears rubbed when he greets you at the door, or at any time! loves to lean-in and give doggy hugs.\";\n",
    "        animalNickname = \"loki\";\n",
    "    }\n",
    "    else if (i == 2)\n",
    "    {\n",
    "        animalSpecies = \"cat\";\n",
    "        animalID = \"c3\";\n",
    "        animalAge = \"1\";\n",
    "        animalPhysicalDescription = \"small white female weighing about 8 pounds. litter box trained.\";\n",
    "        animalPersonalityDescription = \"friendly\";\n",
    "        animalNickname = \"Puss\";\n",
    "    }\n",
    "    else if (i == 3)\n",
    "    {\n",
    "        animalSpecies = \"cat\";\n",
    "        animalID = \"c4\";\n",
    "        animalAge = \"?\";\n",
    "        animalPhysicalDescription = \"\";\n",
    "        animalPersonalityDescription = \"\";\n",
    "        animalNickname = \"\";\n",
    "    }\n",
    "    else\n",
    "    {\n",
    "        animalSpecies = \"\";\n",
    "        animalID = \"\";\n",
    "        animalAge = \"\";\n",
    "        animalPhysicalDescription = \"\";\n",
    "        animalPersonalityDescription = \"\";\n",
    "        animalNickname = \"\";\n",
    "    }\n",
    "    // populates element in array\n",
    "\n",
    "    ourAnimals[i, 0] = \"ID #: \" + animalID;\n",
    "    ourAnimals[i, 1] = \"Species: \" + animalSpecies;\n",
    "    ourAnimals[i, 2] = \"Age: \" + animalAge;\n",
    "    ourAnimals[i, 3] = \"Nickname: \" + animalNickname;\n",
    "    ourAnimals[i, 4] = \"Physical description: \" + animalPhysicalDescription;\n",
    "    ourAnimals[i, 5] = \"Personality: \" + animalPersonalityDescription;\n",
    "}"
   ]
  },
  {
   "cell_type": "code",
   "execution_count": 75,
   "metadata": {
    "dotnet_interactive": {
     "language": "csharp"
    },
    "polyglot_notebook": {
     "kernelName": "csharp"
    },
    "vscode": {
     "languageId": "polyglot-notebook"
    }
   },
   "outputs": [],
   "source": [
    "// switch statements:\n",
    "\n",
    "// create some initial ourAnimals array entries\n",
    "for (int i = 0; i < maxPets; i++)\n",
    "{\n",
    "    switch (i)\n",
    "    {\n",
    "        case 0:\n",
    "            animalSpecies = \"dog\";\n",
    "            animalID = \"d1\";\n",
    "            animalAge = \"2\";\n",
    "            animalPhysicalDescription = \"medium sized cream colored female golden retriever weighing about 65 pounds. housebroken.\";\n",
    "            animalPersonalityDescription = \"loves to have her belly rubbed and likes to chase her tail. gives lots of kisses.\";\n",
    "            animalNickname = \"lola\";\n",
    "            break;\n",
    "\n",
    "        case 1:\n",
    "            animalSpecies = \"dog\";\n",
    "            animalID = \"d2\";\n",
    "            animalAge = \"9\";\n",
    "            animalPhysicalDescription = \"large reddish-brown male golden retriever weighing about 85 pounds. housebroken.\";\n",
    "            animalPersonalityDescription = \"loves to have his ears rubbed when he greets you at the door, or at any time! loves to lean-in and give doggy hugs.\";\n",
    "            animalNickname = \"loki\";\n",
    "            break;\n",
    "        \n",
    "        case 2:\n",
    "            animalSpecies = \"cat\";\n",
    "            animalID = \"c3\";\n",
    "            animalAge = \"1\";\n",
    "            animalPhysicalDescription = \"small white female weighing about 8 pounds. litter box trained.\";\n",
    "            animalPersonalityDescription = \"friendly\";\n",
    "            animalNickname = \"Puss\";\n",
    "            break;\n",
    "\n",
    "        case 3:\n",
    "            animalSpecies = \"cat\";\n",
    "            animalID = \"c4\";\n",
    "            animalAge = \"?\";\n",
    "            animalPhysicalDescription = \"\";\n",
    "            animalPersonalityDescription = \"\";\n",
    "            animalNickname = \"\";\n",
    "            break;\n",
    "\n",
    "        default:\n",
    "            animalSpecies = \"\";\n",
    "            animalID = \"\";\n",
    "            animalAge = \"\";\n",
    "            animalPhysicalDescription = \"\";\n",
    "            animalPersonalityDescription = \"\";\n",
    "            animalNickname = \"\";\n",
    "            break;\n",
    "    }\n",
    "\n",
    "    // populates element in array\n",
    "\n",
    "    ourAnimals[i, 0] = \"ID #: \" + animalID;\n",
    "    ourAnimals[i, 1] = \"Species: \" + animalSpecies;\n",
    "    ourAnimals[i, 2] = \"Age: \" + animalAge;\n",
    "    ourAnimals[i, 3] = \"Nickname: \" + animalNickname;\n",
    "    ourAnimals[i, 4] = \"Physical description: \" + animalPhysicalDescription;\n",
    "    ourAnimals[i, 5] = \"Personality: \" + animalPersonalityDescription;\n",
    "}"
   ]
  },
  {
   "cell_type": "markdown",
   "metadata": {},
   "source": [
    "* execution of a switch section isn't permitted to \"fall-through\". `break` is used to prevent this.\n",
    "\n",
    "![Alt text](\\Assets\\image-6.png)"
   ]
  },
  {
   "cell_type": "markdown",
   "metadata": {},
   "source": [
    "* right click on: `CsharpProjects\\GuidedProjectBranchingLooping\\Starter`\n",
    "* `Open in Integrated Terminal`\n",
    "* `dotnet build`\n",
    "* `dotnet run`\n",
    "<br>\n",
    "![Alt text](\\Assets\\image-8.png)"
   ]
  },
  {
   "cell_type": "markdown",
   "metadata": {},
   "source": [
    "##### ***3. Menu Loop: Create program menu loop***"
   ]
  },
  {
   "cell_type": "markdown",
   "metadata": {},
   "source": [
    "* build a `do` loop that surrounds the menu options and the code that reads user input\n",
    "* why? ensures main menu refreshes for each user, each time they make a selection\n",
    "* iterates until user exits program"
   ]
  },
  {
   "cell_type": "markdown",
   "metadata": {},
   "source": [
    "![Alt text](\\Assets\\image-9.png)"
   ]
  },
  {
   "cell_type": "code",
   "execution_count": null,
   "metadata": {
    "dotnet_interactive": {
     "language": "csharp"
    },
    "polyglot_notebook": {
     "kernelName": "csharp"
    },
    "vscode": {
     "languageId": "polyglot-notebook"
    }
   },
   "outputs": [],
   "source": [
    "do\n",
    "{\n",
    "    // display the top-level menu options\n",
    "\n",
    "    Console.Clear();\n",
    "\n",
    "    Console.WriteLine(\"Welcome to the Contoso PetFriends app. Your main menu options are:\");\n",
    "    Console.WriteLine(\" 1. List all of our current pet information\");\n",
    "    Console.WriteLine(\" 2. Add a new animal friend to the ourAnimals array\");\n",
    "    Console.WriteLine(\" 3. Ensure animal ages and physical descriptions are complete\");\n",
    "    Console.WriteLine(\" 4. Ensure animal nicknames and personality descriptions are complete\");\n",
    "    Console.WriteLine(\" 5. Edit an animal’s age\");\n",
    "    Console.WriteLine(\" 6. Edit an animal’s personality description\");\n",
    "    Console.WriteLine(\" 7. Display all cats with a specified characteristic\");\n",
    "    Console.WriteLine(\" 8. Display all dogs with a specified characteristic\");\n",
    "    Console.WriteLine();\n",
    "    Console.WriteLine(\"Enter your selection number (or type Exit to exit the program)\");\n",
    "\n",
    "    readResult = Console.ReadLine();\n",
    "    if (readResult != null)\n",
    "    {\n",
    "        menuSelection = readResult.ToLower();\n",
    "    }\n",
    "\n",
    "    Console.WriteLine($\"You selected menu option {menuSelection}.\");\n",
    "    Console.WriteLine(\"Press the Enter key to continue\");\n",
    "\n",
    "    // pause code execution\n",
    "    readResult = Console.ReadLine();\n",
    "    \n",
    "} while (menuSelection != \"exit\");"
   ]
  },
  {
   "cell_type": "markdown",
   "metadata": {},
   "source": [
    "* fix formatting of code in VSC: `windows` + `f` || right click + `format document`"
   ]
  },
  {
   "cell_type": "markdown",
   "metadata": {},
   "source": [
    "##### ***4. Menu Selections: Write switch statement for menu selections***"
   ]
  },
  {
   "cell_type": "markdown",
   "metadata": {},
   "source": [
    "* add a `switch` statement for menu selection\n",
    "\n",
    "![Alt text](\\Assets\\image-7.png)"
   ]
  },
  {
   "cell_type": "code",
   "execution_count": null,
   "metadata": {
    "dotnet_interactive": {
     "language": "csharp"
    },
    "polyglot_notebook": {
     "kernelName": "csharp"
    },
    "vscode": {
     "languageId": "polyglot-notebook"
    }
   },
   "outputs": [],
   "source": [
    "    // Console.WriteLine($\"You selected menu option {menuSelection}.\");\n",
    "    // Console.WriteLine(\"Press the Enter key to continue\");\n",
    "\n",
    "    // // pause code execution\n",
    "    // readResult = Console.ReadLine();\n",
    "\n",
    "    switch(menuSelection)\n",
    "    {\n",
    "        case \"1\": // checking for a string value (as above in do)\n",
    "            break;\n",
    "\n",
    "        case \"2\":\n",
    "            break;\n",
    "\n",
    "        case \"3\":\n",
    "            break;\n",
    "\n",
    "        case \"4\":\n",
    "            break;\n",
    "\n",
    "        case \"5\":\n",
    "            break;\n",
    "\n",
    "        case \"6\":\n",
    "            break;\n",
    "\n",
    "        case \"7\":\n",
    "            break;\n",
    "\n",
    "        case \"8\":\n",
    "            break;\n",
    "\n",
    "        default: // optional\n",
    "            break; \n",
    "    }\n",
    "    \n",
    "} while (menuSelection != \"exit\");"
   ]
  },
  {
   "cell_type": "markdown",
   "metadata": {},
   "source": [
    "##### ***5. Code Branches: Write placeholder code for each case of the switch statement***"
   ]
  },
  {
   "cell_type": "markdown",
   "metadata": {},
   "source": [
    "* update execution paths created by switch statement --> which will acknowledge user selection\n",
    "* feedback is important for user interraction"
   ]
  },
  {
   "cell_type": "markdown",
   "metadata": {},
   "source": [
    "    1. Add feedback block for each case + meaningful comments\n",
    "    2. Edit case 3 + 4 with custom feedback messages\n",
    "    3. don't add feedback message to default\n",
    "\n",
    "![Alt text](\\Assets\\image-10.png)\n",
    "\n",
    "\n",
    "![Alt text](\\Assets\\image-11.png)"
   ]
  },
  {
   "cell_type": "code",
   "execution_count": null,
   "metadata": {
    "dotnet_interactive": {
     "language": "csharp"
    },
    "polyglot_notebook": {
     "kernelName": "csharp"
    },
    "vscode": {
     "languageId": "polyglot-notebook"
    }
   },
   "outputs": [],
   "source": [
    "    switch(menuSelection)\n",
    "    {\n",
    "        case \"1\":  // \"1\" = checking for a string value (as above in do)\n",
    "            // List all of our current pet information\n",
    "            Console.WriteLine(\"this app feature is coming soon - please check back to see progress.\");\n",
    "            Console.WriteLine(\"Press the Enter key to continue.\");\n",
    "            readResult = Console.ReadLine();\n",
    "            break;\n",
    "\n",
    "        case \"2\":\n",
    "            // Add a new animal friend to the ourAnimals array\n",
    "            Console.WriteLine(\"this app feature is coming soon - please check back to see progress.\");\n",
    "            Console.WriteLine(\"Press the Enter key to continue.\");\n",
    "            readResult = Console.ReadLine();        \n",
    "            break;\n",
    "\n",
    "        case \"3\":\n",
    "            // Ensure animal ages and physical descriptions are complete\n",
    "            Console.WriteLine(\"Challenge Project: this app feature is coming soon - please check back to see progress.\");\n",
    "            Console.WriteLine(\"Press the Enter key to continue.\");\n",
    "            readResult = Console.ReadLine();        \n",
    "            break;\n",
    "\n",
    "        case \"4\":\n",
    "            // Ensure animal nicknames and personality descriptions are complete\n",
    "            Console.WriteLine(\"UNDER CONSTRUCTION: this app feature is coming soon - please check back to see progress.\");\n",
    "            Console.WriteLine(\"Press the Enter key to continue.\");\n",
    "            readResult = Console.ReadLine();        \n",
    "            break;\n",
    "\n",
    "        case \"5\":\n",
    "            // Edit an animal's age\n",
    "            Console.WriteLine(\"this app feature is coming soon - please check back to see progress.\");\n",
    "            Console.WriteLine(\"Press the Enter key to continue.\");\n",
    "            readResult = Console.ReadLine();        \n",
    "            break;\n",
    "\n",
    "        case \"6\":\n",
    "            // Edit an animal's personality description\n",
    "            Console.WriteLine(\"this app feature is coming soon - please check back to see progress.\");\n",
    "            Console.WriteLine(\"Press the Enter key to continue.\");\n",
    "            readResult = Console.ReadLine();        \n",
    "            break;\n",
    "\n",
    "        case \"7\":\n",
    "            // Display all cats with a specified characteristic\n",
    "            Console.WriteLine(\"this app feature is coming soon - please check back to see progress.\");\n",
    "            Console.WriteLine(\"Press the Enter key to continue.\");\n",
    "            readResult = Console.ReadLine();        \n",
    "            break;\n",
    "\n",
    "        case \"8\":\n",
    "            // Display all dogs with a specified characteristic\n",
    "            Console.WriteLine(\"this app feature is coming soon - please check back to see progress.\");\n",
    "            Console.WriteLine(\"Press the Enter key to continue.\");\n",
    "            readResult = Console.ReadLine();        \n",
    "            break;\n",
    "\n",
    "        default: // optional\n",
    "            break; \n",
    "    }\n",
    "    \n",
    "} while (menuSelection != \"exit\");\n"
   ]
  },
  {
   "cell_type": "markdown",
   "metadata": {},
   "source": [
    "##### ***6. Verification Test: Check your work***"
   ]
  },
  {
   "cell_type": "markdown",
   "metadata": {},
   "source": [
    "![Alt text](\\Assets\\image-12.png)"
   ]
  },
  {
   "cell_type": "markdown",
   "metadata": {},
   "source": [
    "![Alt text](\\Assets\\image-13.png)"
   ]
  },
  {
   "cell_type": "markdown",
   "metadata": {},
   "source": [
    "#### 🚀 **[Exercise - Write code to display all ourAnimals array data](https://learn.microsoft.com/en-gb/training/modules/guided-project-develop-conditional-branching-looping/4-exercise-display-all-array-data)**"
   ]
  },
  {
   "cell_type": "markdown",
   "metadata": {},
   "source": [
    "![Alt text](\\Assets\\image-14.png)"
   ]
  },
  {
   "cell_type": "markdown",
   "metadata": {},
   "source": [
    "##### ***1. Outer Loop: Build a loop to iterate through the ourAnimals array***"
   ]
  },
  {
   "cell_type": "markdown",
   "metadata": {},
   "source": [
    "* create the outer `for` loop --> to ierate through ourAnimals array\n",
    "* consider difference between `for` and `foreach`\n",
    "\n",
    "    1. delete the `WriteLine` statements to display coming soon message in `menuSelection` switch statements and leave blank code line\n",
    "        * this isn't required as the action will replace the temp feedback statement\n",
    "    2. create\n",
    "\n",
    "\n",
    "    ![Alt text](\\Assets\\image-15.png)"
   ]
  },
  {
   "cell_type": "code",
   "execution_count": null,
   "metadata": {
    "dotnet_interactive": {
     "language": "csharp"
    },
    "polyglot_notebook": {
     "kernelName": "csharp"
    },
    "vscode": {
     "languageId": "polyglot-notebook"
    }
   },
   "outputs": [],
   "source": [
    "    switch(menuSelection)\n",
    "    {\n",
    "        case \"1\":  // \"1\" = checking for a string value (as above in do)\n",
    "            // List all of our current pet information\n",
    "            // Console.WriteLine(\"this app feature is coming soon - please check back to see progress.\");\n",
    "            for (int i=0; 1 < maxPets; i++)\n",
    "            {\n",
    "\n",
    "            }\n",
    "            Console.WriteLine(\"Press the Enter key to continue.\");\n",
    "            readResult = Console.ReadLine();\n",
    "            break;"
   ]
  },
  {
   "cell_type": "markdown",
   "metadata": {},
   "source": [
    "Alternative to for loop:\n",
    "\n",
    "![Alt text](./Assets/image-16.png)"
   ]
  },
  {
   "cell_type": "markdown",
   "metadata": {},
   "source": [
    "##### ***2. Data Check: Check for existing pet data and display result***"
   ]
  },
  {
   "cell_type": "code",
   "execution_count": null,
   "metadata": {
    "dotnet_interactive": {
     "language": "csharp"
    },
    "polyglot_notebook": {
     "kernelName": "csharp"
    },
    "vscode": {
     "languageId": "polyglot-notebook"
    }
   },
   "outputs": [],
   "source": [
    "// check pets are assigned pet data - use if statement\n",
    "\n",
    "for (int i=0; i < maxPets; i++)\n",
    "{\n",
    "    if (ourAnimals[i,0] != \"ID #: \") // if first row of array item doesn't have ID\n",
    "    {\n",
    "        Console.WriteLine(ourAnimals[i, 0]);\n",
    "    }\n",
    "}"
   ]
  },
  {
   "cell_type": "markdown",
   "metadata": {},
   "source": [
    "##### ***3. Inner Loop: Display all pet characteristics for pets with data assigned***"
   ]
  },
  {
   "cell_type": "code",
   "execution_count": null,
   "metadata": {
    "dotnet_interactive": {
     "language": "csharp"
    },
    "polyglot_notebook": {
     "kernelName": "csharp"
    },
    "vscode": {
     "languageId": "polyglot-notebook"
    }
   },
   "outputs": [],
   "source": [
    "for (int i = 0; i < maxPets; i++)\n",
    "{\n",
    "    if (ourAnimals[i, 0] != \"ID #: \") // animals\n",
    "    {\n",
    "        Console.WriteLine();\n",
    "        for (int j = 0; j < 6; j++) // characteristics\n",
    "        {\n",
    "            Console.WriteLine(ourAnimals[i, j]);\n",
    "        }\n",
    "    }\n",
    "}"
   ]
  },
  {
   "cell_type": "markdown",
   "metadata": {},
   "source": [
    "##### ***4. Verification Test: Check your work***"
   ]
  },
  {
   "cell_type": "markdown",
   "metadata": {},
   "source": [
    "![Alt text](\\Assets\\image-17.png)"
   ]
  },
  {
   "cell_type": "markdown",
   "metadata": {},
   "source": [
    "#### 🚀 **[Exercise - Build and test a loop for entering new pet data](https://learn.microsoft.com/en-gb/training/modules/guided-project-develop-conditional-branching-looping/5-exercise-build-loop-new-array-data)**"
   ]
  },
  {
   "cell_type": "markdown",
   "metadata": {},
   "source": [
    "![Alt text](\\Assets\\image-18.png)"
   ]
  },
  {
   "cell_type": "markdown",
   "metadata": {},
   "source": [
    "##### ***1. Calculate petCount: Count the number of pets in the ourAnimals array***"
   ]
  },
  {
   "cell_type": "markdown",
   "metadata": {},
   "source": [
    "Establish the exit criteria for your data entry loop and you create a for loop that can be used to count the number of pets in ourAnimals that have assigned data.\n",
    "\n",
    "1. remove \"coming soon\" writeline in case 2 in switch(menuSelection)\n",
    "2. declare variables for calculating number of pets\n",
    "\n",
    "![Alt text](./Assets/image2.png)"
   ]
  },
  {
   "cell_type": "code",
   "execution_count": null,
   "metadata": {
    "dotnet_interactive": {
     "language": "csharp"
    },
    "polyglot_notebook": {
     "kernelName": "csharp"
    },
    "vscode": {
     "languageId": "polyglot-notebook"
    }
   },
   "outputs": [],
   "source": [
    "        case \"2\":\n",
    "            // Add a new animal friend to the ourAnimals array\n",
    "            \n",
    "            // declare variables for  calculation\n",
    "            string anotherPet = \"y\";\n",
    "            int petCount = 0;\n",
    "\n",
    "            Console.WriteLine(\"Press the Enter key to continue.\");\n",
    "            readResult = Console.ReadLine();        \n",
    "            break;"
   ]
  },
  {
   "cell_type": "markdown",
   "metadata": {},
   "source": [
    "* `anotherPet` - initialised w/ y or n -> used in while loop\n",
    "* `petCount` - number of animals with assigned pet characteristcs. Assigned a calculated value outside while loop and then incremented each time new animal enters ourAnimals array"
   ]
  },
  {
   "cell_type": "markdown",
   "metadata": {},
   "source": [
    "Scoping variables\n",
    "\n",
    "![Alt text](./Assets/image-scoping.png)"
   ]
  },
  {
   "cell_type": "markdown",
   "metadata": {},
   "source": [
    "5. Create a loop that iterates through the animals in the `ourAnimals` array\n",
    "6. inside the for loop, enter an if statement to check `ourAnimals` if pet characteristic data has been assigned to an animal\n",
    "7. add an increment by 1 in `petCount`\n",
    "\n",
    "\n",
    "![Alt text](./Assets/image-20.png)"
   ]
  },
  {
   "cell_type": "code",
   "execution_count": null,
   "metadata": {
    "dotnet_interactive": {
     "language": "csharp"
    },
    "polyglot_notebook": {
     "kernelName": "csharp"
    },
    "vscode": {
     "languageId": "polyglot-notebook"
    }
   },
   "outputs": [],
   "source": [
    "        case \"2\":\n",
    "            // Add a new animal friend to the ourAnimals array\n",
    "            // declare variables for  calculation\n",
    "            string anotherPet = \"y\";\n",
    "            int petCount = 0;\n",
    "\n",
    "            // for each animal in ourAnimals, add +1 to petCount\n",
    "            for (int i = 0; i < maxPets; i++)\n",
    "            {\n",
    "                if (ourAnimals[i, 0] != \"ID #: \") // check if characteristic has been assigned\n",
    "                {\n",
    "                    petCount += 1; // increment\n",
    "                }\n",
    "            }\n",
    "            \n",
    "            Console.WriteLine(\"Press the Enter key to continue.\");\n",
    "            readResult = Console.ReadLine();        \n",
    "            break;"
   ]
  },
  {
   "cell_type": "markdown",
   "metadata": {},
   "source": [
    "##### ***2. Conditional messages: Display message output when petCount is less than maxPets***"
   ]
  },
  {
   "cell_type": "markdown",
   "metadata": {},
   "source": [
    "Add output if condition is true"
   ]
  },
  {
   "cell_type": "code",
   "execution_count": null,
   "metadata": {
    "dotnet_interactive": {
     "language": "csharp"
    },
    "polyglot_notebook": {
     "kernelName": "csharp"
    },
    "vscode": {
     "languageId": "polyglot-notebook"
    }
   },
   "outputs": [],
   "source": [
    "\n",
    "            // display message is count is lower than max pets\n",
    "            if (petCount < maxPets)\n",
    "            {\n",
    "               Console.WriteLine($\"We currently have {petCount} pets that need homes. We can manage {(maxPets - petCount)} more.\"); \n",
    "            }  "
   ]
  },
  {
   "cell_type": "markdown",
   "metadata": {},
   "source": [
    "![](./Assets/image-petcount-less-maxpets.png)"
   ]
  },
  {
   "cell_type": "markdown",
   "metadata": {},
   "source": [
    "![](./Assets/image-petcount-less-maxpets-output.png)"
   ]
  },
  {
   "cell_type": "markdown",
   "metadata": {},
   "source": [
    "##### ***3. Outer loop: Build a loop structure that will be used for entering new ourAnimals array data***"
   ]
  },
  {
   "cell_type": "markdown",
   "metadata": {},
   "source": [
    "* Create a while loop that continues to iterate as long as: \n",
    "    * `anotherPet` is equal to `y` and `petCount` is less than `maxPets`\n",
    "* Next: construct a while loop exit criteria"
   ]
  },
  {
   "cell_type": "markdown",
   "metadata": {},
   "source": [
    "![](./Assets/image-petcount-less-maxpets.png)"
   ]
  },
  {
   "cell_type": "code",
   "execution_count": null,
   "metadata": {
    "dotnet_interactive": {
     "language": "csharp"
    },
    "polyglot_notebook": {
     "kernelName": "csharp"
    },
    "vscode": {
     "languageId": "polyglot-notebook"
    }
   },
   "outputs": [],
   "source": [
    "while (anotherPet == \"y\" && petCount < maxPets)\n",
    "{\n",
    "}\n",
    "\n",
    "// need to exit the while loop"
   ]
  },
  {
   "cell_type": "markdown",
   "metadata": {},
   "source": [
    "![](./Assets/image-petcount-less-maxpets-while.png)"
   ]
  },
  {
   "cell_type": "markdown",
   "metadata": {},
   "source": [
    "##### ***4. Exit criteria: Check exit condition for new pets loop***"
   ]
  },
  {
   "cell_type": "markdown",
   "metadata": {},
   "source": [
    "* In this task\n",
    "    * you update the `while (anotherPet == \"y\" && petCount < maxPets)` code block. \n",
    "    * The new code increments `petCount` and then checks whether `petCount` is less than `maxPets`. \n",
    "    * If `petCount` is less than `maxPets`, you ask the user if they want to enter information for another pet, and ensure the response is either `y` or `n`. \n",
    "    * After the `while (anotherPet == \"y\" && petCount < maxPets) `code block, you check the value of `petCount`.\n",
    "    * If `petCount` is equal to `maxPets`, you inform the user that no more pets can be added."
   ]
  },
  {
   "cell_type": "code",
   "execution_count": null,
   "metadata": {
    "dotnet_interactive": {
     "language": "csharp"
    },
    "polyglot_notebook": {
     "kernelName": "csharp"
    },
    "vscode": {
     "languageId": "polyglot-notebook"
    }
   },
   "outputs": [],
   "source": [
    "\n",
    "            while (anotherPet == \"y\" && petCount < maxPets)\n",
    "            {\n",
    "                // increment petCount (the array is zero-based, so we increment the counter after adding to the array)\n",
    "                petCount = petCount + 1;    \n",
    "\n",
    "                // check maxPet limit\n",
    "                if (petCount < maxPets)\n",
    "                {\n",
    "                    // another pet?\n",
    "                    Console.WriteLine(\"Do you want to enter info for another pet (y/n)\");\n",
    "\n",
    "                    // respond to y or n\n",
    "                    do\n",
    "                    {\n",
    "                        readResult = Console.ReadLine(); // user input\n",
    "                        if (readResult != null) // if user enters data\n",
    "                        {\n",
    "                            anotherPet = readResult.ToLower(); // transform input to lowercase and save to anotherPet\n",
    "                        }\n",
    "                    } while (anotherPet != \"y\" && anotherPet != \"n\"); // continue looping while prompt for another pet isn't being answered\n",
    "                }\n",
    "            }      "
   ]
  },
  {
   "cell_type": "markdown",
   "metadata": {},
   "source": [
    "![](./Assets/image-petcount-less-maxpets-while-exit.png)"
   ]
  },
  {
   "cell_type": "markdown",
   "metadata": {},
   "source": [
    "##### ***5. Verification test: Check Your Work***"
   ]
  },
  {
   "cell_type": "markdown",
   "metadata": {},
   "source": [
    "![](./Assets/image-petcount.png)"
   ]
  },
  {
   "cell_type": "markdown",
   "metadata": {},
   "source": []
  },
  {
   "cell_type": "markdown",
   "metadata": {},
   "source": [
    "#### 🚀 **[Exercise - Write code to read and save new ourAnimals array data](https://learn.microsoft.com/en-us/training/modules/guided-project-develop-conditional-branching-looping/6-exercise-read-save-array-data)**"
   ]
  },
  {
   "cell_type": "markdown",
   "metadata": {},
   "source": [
    "![Alt text](./Assets/image-challenge-write-code-to-read-and-save-new-ouranimals-array-data.png)"
   ]
  },
  {
   "cell_type": "markdown",
   "metadata": {},
   "source": [
    "##### ***1. Read and validate species: Build loop to read and validate the pet species***"
   ]
  },
  {
   "cell_type": "markdown",
   "metadata": {},
   "source": [
    "* In this task, you create a `do` loop that iterates until the user enters a valid species name, either dog or cat. \n",
    "* You reuse your voidable string `readResult` to capture the `Console.ReadLine()` input.\n",
    "* You also reuse the `animalSpecies` string variable that you used when generating your sample data. \n",
    "* You add a new Boolean variable named `validEntry` to your app. \n",
    "* You use `validEntry` in an expression that's evaluated as an exit criteria for your do loop."
   ]
  },
  {
   "cell_type": "markdown",
   "metadata": {},
   "source": [
    "![Alt text](./Assets/image-validate-species-before.png)"
   ]
  },
  {
   "cell_type": "code",
   "execution_count": null,
   "metadata": {
    "dotnet_interactive": {
     "language": "csharp"
    },
    "polyglot_notebook": {
     "kernelName": "csharp"
    },
    "vscode": {
     "languageId": "polyglot-notebook"
    }
   },
   "outputs": [],
   "source": [
    "        // validate pet species\n",
    "        bool validEntry = false;\n",
    "\n",
    "        // get species (cat or dog) - string animalSpecies is a required field\n",
    "        do\n",
    "        {\n",
    "            // prompt user to enter a species\n",
    "            Console.WriteLine(\"\\n\\rEnter 'dog' or 'cat' to begin a new entry\");\n",
    "            readResult = Console.ReadLine(); // user input\n",
    "\n",
    "            // ensure value is not blank\n",
    "            if (readResult != null)\n",
    "            {\n",
    "                animalSpecies = readResult.ToLower();\n",
    "\n",
    "                // is the value entered dog or cat (Validation)\n",
    "                if (animalSpecies != \"dog\" && animalSpecies != \"cat\")\n",
    "                {\n",
    "                    validEntry = false;\n",
    "                }\n",
    "                else\n",
    "                {\n",
    "                    validEntry = true;\n",
    "                }                        \n",
    "            }\n",
    "        } while (validEntry == false);\n",
    "\n",
    "        // increment petCount (the array is zero-based, so we increment the counter after adding to the array)\n",
    "        petCount = petCount + 1;    \n"
   ]
  },
  {
   "cell_type": "markdown",
   "metadata": {},
   "source": [
    "![Alt text](./Assets/image-validate-species-after.png)"
   ]
  },
  {
   "cell_type": "markdown",
   "metadata": {},
   "source": [
    "##### ***2. Construct pet ID: Construct the animal ID value***"
   ]
  },
  {
   "cell_type": "markdown",
   "metadata": {},
   "source": [
    "In this task, you use the `animalSpecies` and `petCount` variables to create the value that you assign to `animalID`."
   ]
  },
  {
   "cell_type": "code",
   "execution_count": null,
   "metadata": {
    "dotnet_interactive": {
     "language": "csharp"
    },
    "polyglot_notebook": {
     "kernelName": "csharp"
    },
    "vscode": {
     "languageId": "polyglot-notebook"
    }
   },
   "outputs": [],
   "source": [
    "// build the animal the ID number - for example C1, C2, D3 (for Cat 1, Cat 2, Dog 3)\n",
    "animalID = animalSpecies.Substring(0, 1) + (petCount + 1).ToString();"
   ]
  },
  {
   "cell_type": "markdown",
   "metadata": {},
   "source": [
    "##### ***3. Read and validate age: Build loop to read and validate the pet's age***"
   ]
  },
  {
   "cell_type": "markdown",
   "metadata": {},
   "source": [
    "* In this task, you create a `do` loop that iterates until the user enters either a `?` or a valid integer that represents the age of the pet in years. \n",
    "* You reuse the voidable string readResult to capture the `Console.ReadLine()` input. \n",
    "* You also reuse the `animalAge` `string` variable that you used when generating the sample data. \n",
    "* To test whether or not the `animalAge` `string` represents a valid `integer`, you use the `validEntry` `Boolean`. \n",
    "* You declare a new integer variable named `petAge` to store the numeric value.\n",
    "* Once again, the `validEntry` Boolean is used in the expression that's evaluated as an exit criteria for our do loop."
   ]
  },
  {
   "cell_type": "markdown",
   "metadata": {},
   "source": [
    "![Alt text](./Assets/image-validate-age.png)"
   ]
  },
  {
   "cell_type": "markdown",
   "metadata": {},
   "source": [
    "##### ***4.Read and validate physical description: Build loop to read and validate the pet's physical description***"
   ]
  },
  {
   "cell_type": "markdown",
   "metadata": {},
   "source": [
    "* In this task, you create a `do` loop that iterates until the user enters a string value that represents a physical description of a pet. \n",
    "* You reuse the voidable string readResult to capture the `Console.ReadLine()` input. \n",
    "* You also reuse the `animalPhysicalDescription` string variable that you used when generating the sample data. \n",
    "* You use the value assigned to `animalPhysicalDescription` in the expression that's evaluated as an exit criteria for our do loop."
   ]
  },
  {
   "cell_type": "code",
   "execution_count": null,
   "metadata": {
    "dotnet_interactive": {
     "language": "csharp"
    },
    "polyglot_notebook": {
     "kernelName": "csharp"
    },
    "vscode": {
     "languageId": "polyglot-notebook"
    }
   },
   "outputs": [],
   "source": [
    "// get a description of the pet's physical appearance/condition - animalPhysicalDescription can be blank.\n",
    "do\n",
    "{\n",
    "    Console.WriteLine(\"Enter a physical description of the pet (size, color, gender, weight, housebroken)\");\n",
    "    readResult = Console.ReadLine();\n",
    "\n",
    "    if (readResult != null)\n",
    "    {\n",
    "        animalPhysicalDescription = readResult.ToLower();\n",
    "        \n",
    "        if (animalPhysicalDescription == \"\")\n",
    "        {\n",
    "            animalPhysicalDescription = \"tbd\";\n",
    "        }\n",
    "    }\n",
    "    \n",
    "} while (animalPhysicalDescription == \"\");"
   ]
  },
  {
   "cell_type": "markdown",
   "metadata": {},
   "source": [
    "![Alt text](./Assets/image-validate-physical-description.png)"
   ]
  },
  {
   "cell_type": "markdown",
   "metadata": {},
   "source": [
    "##### ***5. Read and validate personality description: Build loop to read and validate the pet's personality description***"
   ]
  },
  {
   "cell_type": "markdown",
   "metadata": {},
   "source": [
    "* In this task, you create a do loop that iterates until the user enters a string value that represents a description of a pet's personality. \n",
    "\n",
    "* You reuse the voidable string readResult to capture the `Console.ReadLine()` input. \n",
    "\n",
    "* You also reuse the `animalPersonalityDescription` string variable that you used when generating the sample data. \n",
    "\n",
    "* You use the value assigned to `animalPersonalityDescription` in the expression that's evaluated as an exit criteria for our do loop."
   ]
  },
  {
   "cell_type": "code",
   "execution_count": null,
   "metadata": {
    "dotnet_interactive": {
     "language": "csharp"
    },
    "polyglot_notebook": {
     "kernelName": "csharp"
    },
    "vscode": {
     "languageId": "polyglot-notebook"
    }
   },
   "outputs": [],
   "source": [
    "// get a description of the pet's personality - animalPersonalityDescription can be blank.\n",
    "do\n",
    "{\n",
    "    Console.WriteLine(\"Enter a description of the pet's personality (likes or dislikes, tricks, energy level)\");\n",
    "    readResult = Console.ReadLine();\n",
    "    if (readResult != null)\n",
    "    {\n",
    "        animalPersonalityDescription = readResult.ToLower();\n",
    "        if (animalPersonalityDescription == \"\")\n",
    "        {\n",
    "            animalPersonalityDescription = \"tbd\";\n",
    "        }\n",
    "    }\n",
    "} while (animalPersonalityDescription == \"\");"
   ]
  },
  {
   "cell_type": "markdown",
   "metadata": {},
   "source": [
    "##### ***6. Read and validate nickname: Build loop to read and validate the pet's nickname***"
   ]
  },
  {
   "cell_type": "markdown",
   "metadata": {},
   "source": [
    "* In this task, you create a `do` loop that iterates until the user enters a string value that represents a nickname for a pet. \n",
    "* You reuse the voidable string `readResult` to capture the `Console.ReadLine() `input. \n",
    "* You also reuse the `animalNickname` string variable that you used when generating the sample data. \n",
    "* You use the value assigned to `animalNickname` in the expression that's evaluated as an exit criteria for our do loop."
   ]
  },
  {
   "cell_type": "code",
   "execution_count": null,
   "metadata": {
    "dotnet_interactive": {
     "language": "csharp"
    },
    "polyglot_notebook": {
     "kernelName": "csharp"
    },
    "vscode": {
     "languageId": "polyglot-notebook"
    }
   },
   "outputs": [],
   "source": [
    "// get the pet's nickname. animalNickname can be blank.\n",
    "do\n",
    "{\n",
    "    Console.WriteLine(\"Enter a nickname for the pet\");\n",
    "    readResult = Console.ReadLine();\n",
    "    if (readResult != null)\n",
    "    {\n",
    "        animalNickname = readResult.ToLower();\n",
    "        if (animalNickname == \"\")\n",
    "        {\n",
    "            animalNickname = \"tbd\";\n",
    "        }\n",
    "    }\n",
    "} while (animalNickname == \"\");"
   ]
  },
  {
   "cell_type": "markdown",
   "metadata": {},
   "source": [
    "##### ***7.1 Verification test: Save the new Pet Information***"
   ]
  },
  {
   "cell_type": "code",
   "execution_count": null,
   "metadata": {
    "dotnet_interactive": {
     "language": "csharp"
    },
    "polyglot_notebook": {
     "kernelName": "csharp"
    },
    "vscode": {
     "languageId": "polyglot-notebook"
    }
   },
   "outputs": [],
   "source": [
    "// store the pet information in the ourAnimals array (zero based)\n",
    "ourAnimals[petCount, 0] = \"ID #: \" + animalID;\n",
    "ourAnimals[petCount, 1] = \"Species: \" + animalSpecies;\n",
    "ourAnimals[petCount, 2] = \"Age: \" + animalAge;\n",
    "ourAnimals[petCount, 3] = \"Nickname: \" + animalNickname;\n",
    "ourAnimals[petCount, 4] = \"Physical description: \" + animalPhysicalDescription;\n",
    "ourAnimals[petCount, 5] = \"Personality: \" + animalPersonalityDescription;"
   ]
  },
  {
   "cell_type": "markdown",
   "metadata": {},
   "source": [
    "##### ***7.2 Verification test: Check Your work***"
   ]
  },
  {
   "cell_type": "markdown",
   "metadata": {},
   "source": [
    "Bug:\n",
    "* not prompting to enter physical description, etc. \n",
    "* `if (animalAge != \"?\")` and else had nested do statement\n",
    "* move the if statement to own block"
   ]
  },
  {
   "cell_type": "markdown",
   "metadata": {},
   "source": [
    "![Alt text](./Assets/bug-move-loop.png)"
   ]
  },
  {
   "cell_type": "markdown",
   "metadata": {},
   "source": [
    "Code fix:\n",
    "* moved if statement to own block"
   ]
  },
  {
   "cell_type": "markdown",
   "metadata": {},
   "source": [
    "![Alt text](./Assets/bugfix-move-loop.png)"
   ]
  },
  {
   "cell_type": "markdown",
   "metadata": {},
   "source": [
    "#### ❓ **Check Knowledge: switch-case / if, for / foreach, scope**"
   ]
  },
  {
   "cell_type": "markdown",
   "metadata": {},
   "source": [
    "\n",
    "1. When is it appropriate to use a switch-case construct rather than a if-elseif-else construct? \n",
    "    * ✔️ A switch-case construct is appropriate when more than 2-3 else if code blocks are required.\n",
    "    * ❌ A switch-case construct is appropriate when the number of case patterns is small.\n",
    "    * ❌ A switch-case construct is appropriate when the selection statement is inside a loop.\n",
    "\n",
    "    <br>\n",
    "\n",
    "2. Why should a developer choose a for statement rather than a foreach statement when processing the contents of a multidimensional array?\n",
    "    * ❌ for statements do a better job of examining each array item separately.\n",
    "    * ❌ foreach statements do a better job of examining each array item separately.\n",
    "    * ✔️ for statements enable a developer to treat array dimensions separately.\n",
    "\n",
    "3. Why is it important to scope a variable at its lowest necessary level? \n",
    "    * ❌ It ensures that a variable that's declared outside of a code block, can be accessed inside the code block before it's been assigned a value.\n",
    "    * ✔️ It ensures that application resources and the security footprint are kept small.\n",
    "    * ❌ It ensures that a variable can be accessed within the lowest level code branches of an application."
   ]
  },
  {
   "cell_type": "markdown",
   "metadata": {},
   "source": [
    "#### **SUMMARY:**"
   ]
  },
  {
   "cell_type": "markdown",
   "metadata": {},
   "source": [
    "* Your goal was to build an application that implements a combination of selection and iteration statements to achieve the design goals of your application.\n",
    "* By creating nested combinations of iteration and selection statements, you built a user interface that enables the user to display pet data from the ourAnimals array.\n",
    "* You also developed the features to enter and validate characteristics of new pets and add them to the ourAnimals array. \n",
    "* The app user can continue making menu selections until they choose to exit the application.\n",
    "* Having the ability to implement a variety of iteration and selection statements enables you to optimize your code."
   ]
  },
  {
   "cell_type": "markdown",
   "metadata": {},
   "source": [
    "_________________________\n",
    "\n",
    "### ⭐ [Challenge project - Develop branching and looping structures in C#](https://learn.microsoft.com/en-us/training/modules/challenge-project-develop-branching-looping-structures-c-sharp/)\n",
    "\n",
    "_________________________"
   ]
  },
  {
   "cell_type": "markdown",
   "metadata": {},
   "source": [
    "####  ✔️ **Learning Objectives:**"
   ]
  },
  {
   "cell_type": "markdown",
   "metadata": {},
   "source": [
    "Demonstrate your ability to develop a console app that implements selection and iteration statements to achieve app specifications.\n",
    "\n",
    "* Use Visual Studio Code to develop a C# console application that uses: \n",
    "    * a combination of selection and iteration statements to:\n",
    "        * implement logical workflows in accordance with:\n",
    "            * supplied application data and user interactions.\n",
    "* Evaluate the underlying conditions and make an informed decision when: \n",
    "    * choosing between if-elseif-else and switch statements, and between foreach, for, while, and do iteration statements.\n",
    "* Scope variables at an appropriate level within an application."
   ]
  },
  {
   "cell_type": "markdown",
   "metadata": {},
   "source": [
    "#### **Prepare**"
   ]
  },
  {
   "cell_type": "markdown",
   "metadata": {},
   "source": [
    "* Use VSC to develop portions of a C# console application. \n",
    "* Use boolean expressions, selection statements, and iteration statements to implement the features of a design specification. \n",
    "* As you develop the application, you'll need to scope variables at the appropriate level."
   ]
  },
  {
   "cell_type": "markdown",
   "metadata": {},
   "source": [
    "![Alt-Text](./Assets/image-challenge-develop-branching-looping-structures-instructions.png)"
   ]
  },
  {
   "cell_type": "markdown",
   "metadata": {},
   "source": [
    "_________________________\n",
    "\n",
    "## ***[Work with variable data in C# console applications<br> (Get started with C#, Part 4)](https://learn.microsoft.com/en-us/training/paths/get-started-c-sharp-part-4/)***\n",
    "\n",
    "_________________________"
   ]
  },
  {
   "cell_type": "markdown",
   "metadata": {},
   "source": []
  },
  {
   "cell_type": "markdown",
   "metadata": {},
   "source": [
    "_________________________\n",
    "\n",
    "## ***[Create methods in C# console applications<br> (Get started with C#, Part 5)](https://learn.microsoft.com/en-us/training/paths/get-started-c-sharp-part-5/)***\n",
    "\n",
    "_________________________"
   ]
  },
  {
   "cell_type": "markdown",
   "metadata": {},
   "source": []
  },
  {
   "cell_type": "markdown",
   "metadata": {},
   "source": [
    "_________________________\n",
    "\n",
    "## ***[Debug C# console applications<br> (Get started with C#, Part 6)](https://learn.microsoft.com/en-us/training/paths/get-started-c-sharp-part-6/)***\n",
    "\n",
    "_________________________"
   ]
  },
  {
   "cell_type": "markdown",
   "metadata": {},
   "source": []
  },
  {
   "cell_type": "markdown",
   "metadata": {},
   "source": [
    "_________________________\n",
    "\n",
    "### [Store and retrieve data using literal and variable values in C#](https://learn.microsoft.com/en-us/training/modules/csharp-literals-variables/)\n",
    "\n",
    "_________________________"
   ]
  },
  {
   "cell_type": "markdown",
   "metadata": {},
   "source": []
  },
  {
   "cell_type": "markdown",
   "metadata": {},
   "source": []
  },
  {
   "cell_type": "markdown",
   "metadata": {},
   "source": []
  },
  {
   "cell_type": "markdown",
   "metadata": {},
   "source": []
  },
  {
   "cell_type": "markdown",
   "metadata": {},
   "source": [
    "##### Random() & Next()\n",
    "\n",
    "1. `Random dice = new Random();` --> create an object/instance of the `Random` class --> name it `dice` as a variable\n",
    "2. `dice.Next(start,length)` --> call the dice variable and use the `Next` method"
   ]
  },
  {
   "cell_type": "code",
   "execution_count": 2,
   "metadata": {
    "dotnet_interactive": {
     "language": "csharp"
    },
    "polyglot_notebook": {
     "kernelName": "csharp"
    },
    "vscode": {
     "languageId": "polyglot-notebook"
    }
   },
   "outputs": [
    {
     "name": "stdout",
     "output_type": "stream",
     "text": [
      "4\r\n"
     ]
    }
   ],
   "source": [
    "Random dice = new Random();  // new: create object/instance of Random class as dice variable\n",
    "int roll = dice.Next(1,7); \n",
    "Console.WriteLine(roll);  // stateless method within Console. class"
   ]
  }
 ],
 "metadata": {
  "language_info": {
   "name": "csharp"
  },
  "orig_nbformat": 4
 },
 "nbformat": 4,
 "nbformat_minor": 2
}
